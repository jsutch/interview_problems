{
 "cells": [
  {
   "cell_type": "markdown",
   "metadata": {},
   "source": [
    "##  various interview problems"
   ]
  },
  {
   "cell_type": "code",
   "execution_count": 1,
   "metadata": {},
   "outputs": [],
   "source": [
    "import pandas as pd\n",
    "import numpy as np\n",
    "import matplotlib.pyplot as plt\n",
    "import seaborn as sns"
   ]
  },
  {
   "cell_type": "markdown",
   "metadata": {},
   "source": [
    "### Problem 1\n",
    "\n",
    "Taken from https://leetcode.com/discuss/interview-question/391865/Facebook-Software-Engineer-Phone-Screen-Interview-Questions-or-REJECT\n",
    "\n",
    "*You will be supplied with two data files in CSV format . The first file contains statistics about various dinosaurs. The second file contains additional data. Given the following formula, speed = ((STRIDE_LENGTH / LEG_LENGTH) - 1) * SQRT(LEG_LENGTH * g) Where g = 9.8 m/s^2 (gravitational constant)**\n",
    "\n",
    "**Write a program to read in the data files from disk, it must then print the names of only the bipedal dinosaurs from fastest to slowest. Do not print any other information.**\n",
    "\n",
    "\n",
    "`$ cat dataset1.csv NAME,LEG_LENGTH,DIET Hadrosaurus,1.4,herbivore Struthiomimus,0.72,omnivore Velociraptor,1.8,carnivore Triceratops,0.47,herbivore Euoplocephalus,2.6,herbivore Stegosaurus,1.50,herbivore Tyrannosaurus Rex,6.5,carnivore`\n",
    "\n",
    "`$ cat dataset2.csv NAME,STRIDE_LENGTH,STANCE Euoplocephalus,1.97,quadrupedal Stegosaurus,1.70,quadrupedal Tyrannosaurus Rex,4.76,bipedal Hadrosaurus,1.3,bipedal Deinonychus,1.11,bipedal Struthiomimus,1.24,bipedal Velociraptorr,2.62,bipedal`"
   ]
  },
  {
   "cell_type": "code",
   "execution_count": 2,
   "metadata": {},
   "outputs": [],
   "source": [
    "df = pd.DataFrame"
   ]
  },
  {
   "cell_type": "code",
   "execution_count": 3,
   "metadata": {},
   "outputs": [],
   "source": [
    "d1,d2 = pd.read_csv('dataset1.csv'),pd.read_csv('dataset2.csv')"
   ]
  },
  {
   "cell_type": "markdown",
   "metadata": {},
   "source": [
    "The thing to note here is that there are 7 items in each file, but 2 odd ducks and a misspelling. \n",
    "- The misspelling is Velociraptorr, which needs to be fixed before the merge.\n",
    "- Triceratops is only in file 1 and Deinonychus is only in file two.\n",
    "\n",
    "If you keep those dinos in, steps with break on the NaNs where there's not joining data.\n",
    "\n",
    "So with 6 working dinos per file, you should only need 6 items"
   ]
  },
  {
   "cell_type": "code",
   "execution_count": 4,
   "metadata": {},
   "outputs": [
    {
     "data": {
      "text/plain": [
       "(                NAME  LEG_LENGTH       DIET\n",
       " 0        Hadrosaurus        1.40  herbivore\n",
       " 1      Struthiomimus        0.72   omnivore\n",
       " 2       Velociraptor        1.80  carnivore\n",
       " 3        Triceratops        0.47  herbivore\n",
       " 4     Euoplocephalus        2.60  herbivore\n",
       " 5        Stegosaurus        1.50  herbivore\n",
       " 6  Tyrannosaurus Rex        6.50  carnivore,\n",
       "                 NAME  STRIDE_LENGTH       STANCE\n",
       " 0     Euoplocephalus           1.97  quadrupedal\n",
       " 1        Stegosaurus           1.70  quadrupedal\n",
       " 2  Tyrannosaurus Rex           4.76      bipedal\n",
       " 3        Hadrosaurus           1.30      bipedal\n",
       " 4        Deinonychus           1.11      bipedal\n",
       " 5      Struthiomimus           1.24      bipedal\n",
       " 6      Velociraptorr           2.62      bipedal)"
      ]
     },
     "execution_count": 4,
     "metadata": {},
     "output_type": "execute_result"
    }
   ],
   "source": [
    "d1, d2"
   ]
  },
  {
   "cell_type": "code",
   "execution_count": 5,
   "metadata": {},
   "outputs": [],
   "source": [
    "# Fix the Velociraptor mispelling\n",
    "d2.replace(to_replace='Velociraptorr', value='Velociraptor', inplace=True)"
   ]
  },
  {
   "cell_type": "code",
   "execution_count": 6,
   "metadata": {},
   "outputs": [
    {
     "data": {
      "text/html": [
       "<div>\n",
       "<style scoped>\n",
       "    .dataframe tbody tr th:only-of-type {\n",
       "        vertical-align: middle;\n",
       "    }\n",
       "\n",
       "    .dataframe tbody tr th {\n",
       "        vertical-align: top;\n",
       "    }\n",
       "\n",
       "    .dataframe thead th {\n",
       "        text-align: right;\n",
       "    }\n",
       "</style>\n",
       "<table border=\"1\" class=\"dataframe\">\n",
       "  <thead>\n",
       "    <tr style=\"text-align: right;\">\n",
       "      <th></th>\n",
       "      <th>NAME</th>\n",
       "      <th>STRIDE_LENGTH</th>\n",
       "      <th>STANCE</th>\n",
       "    </tr>\n",
       "  </thead>\n",
       "  <tbody>\n",
       "    <tr>\n",
       "      <th>6</th>\n",
       "      <td>Velociraptor</td>\n",
       "      <td>2.62</td>\n",
       "      <td>bipedal</td>\n",
       "    </tr>\n",
       "  </tbody>\n",
       "</table>\n",
       "</div>"
      ],
      "text/plain": [
       "           NAME  STRIDE_LENGTH   STANCE\n",
       "6  Velociraptor           2.62  bipedal"
      ]
     },
     "execution_count": 6,
     "metadata": {},
     "output_type": "execute_result"
    }
   ],
   "source": [
    "d2[d2['NAME'] == 'Velociraptor'] # fixed"
   ]
  },
  {
   "cell_type": "code",
   "execution_count": 7,
   "metadata": {},
   "outputs": [],
   "source": [
    "# This method safely drops Triceratops and Deinonychus with the default inner join\n",
    "df = d1.merge(d2,on='NAME').copy()"
   ]
  },
  {
   "cell_type": "code",
   "execution_count": 8,
   "metadata": {},
   "outputs": [
    {
     "data": {
      "text/html": [
       "<div>\n",
       "<style scoped>\n",
       "    .dataframe tbody tr th:only-of-type {\n",
       "        vertical-align: middle;\n",
       "    }\n",
       "\n",
       "    .dataframe tbody tr th {\n",
       "        vertical-align: top;\n",
       "    }\n",
       "\n",
       "    .dataframe thead th {\n",
       "        text-align: right;\n",
       "    }\n",
       "</style>\n",
       "<table border=\"1\" class=\"dataframe\">\n",
       "  <thead>\n",
       "    <tr style=\"text-align: right;\">\n",
       "      <th></th>\n",
       "      <th>NAME</th>\n",
       "      <th>LEG_LENGTH</th>\n",
       "      <th>DIET</th>\n",
       "      <th>STRIDE_LENGTH</th>\n",
       "      <th>STANCE</th>\n",
       "    </tr>\n",
       "  </thead>\n",
       "  <tbody>\n",
       "    <tr>\n",
       "      <th>0</th>\n",
       "      <td>Hadrosaurus</td>\n",
       "      <td>1.40</td>\n",
       "      <td>herbivore</td>\n",
       "      <td>1.30</td>\n",
       "      <td>bipedal</td>\n",
       "    </tr>\n",
       "    <tr>\n",
       "      <th>1</th>\n",
       "      <td>Struthiomimus</td>\n",
       "      <td>0.72</td>\n",
       "      <td>omnivore</td>\n",
       "      <td>1.24</td>\n",
       "      <td>bipedal</td>\n",
       "    </tr>\n",
       "    <tr>\n",
       "      <th>2</th>\n",
       "      <td>Velociraptor</td>\n",
       "      <td>1.80</td>\n",
       "      <td>carnivore</td>\n",
       "      <td>2.62</td>\n",
       "      <td>bipedal</td>\n",
       "    </tr>\n",
       "    <tr>\n",
       "      <th>3</th>\n",
       "      <td>Euoplocephalus</td>\n",
       "      <td>2.60</td>\n",
       "      <td>herbivore</td>\n",
       "      <td>1.97</td>\n",
       "      <td>quadrupedal</td>\n",
       "    </tr>\n",
       "    <tr>\n",
       "      <th>4</th>\n",
       "      <td>Stegosaurus</td>\n",
       "      <td>1.50</td>\n",
       "      <td>herbivore</td>\n",
       "      <td>1.70</td>\n",
       "      <td>quadrupedal</td>\n",
       "    </tr>\n",
       "    <tr>\n",
       "      <th>5</th>\n",
       "      <td>Tyrannosaurus Rex</td>\n",
       "      <td>6.50</td>\n",
       "      <td>carnivore</td>\n",
       "      <td>4.76</td>\n",
       "      <td>bipedal</td>\n",
       "    </tr>\n",
       "  </tbody>\n",
       "</table>\n",
       "</div>"
      ],
      "text/plain": [
       "                NAME  LEG_LENGTH       DIET  STRIDE_LENGTH       STANCE\n",
       "0        Hadrosaurus        1.40  herbivore           1.30      bipedal\n",
       "1      Struthiomimus        0.72   omnivore           1.24      bipedal\n",
       "2       Velociraptor        1.80  carnivore           2.62      bipedal\n",
       "3     Euoplocephalus        2.60  herbivore           1.97  quadrupedal\n",
       "4        Stegosaurus        1.50  herbivore           1.70  quadrupedal\n",
       "5  Tyrannosaurus Rex        6.50  carnivore           4.76      bipedal"
      ]
     },
     "execution_count": 8,
     "metadata": {},
     "output_type": "execute_result"
    }
   ],
   "source": [
    "df"
   ]
  },
  {
   "cell_type": "markdown",
   "metadata": {},
   "source": [
    "#### the formula for speed\n",
    "speed = ((STRIDE_LENGTH / LEG_LENGTH) - 1) * SQRT(LEG_LENGTH * g) Where g = 9.8 m/s^2 (gravitational constant)"
   ]
  },
  {
   "cell_type": "code",
   "execution_count": 9,
   "metadata": {},
   "outputs": [],
   "source": [
    "# set variable g\n",
    "g=9.8\n",
    "# create 'speed' feature\n",
    "df['speed'] = ((df.STRIDE_LENGTH / df.LEG_LENGTH) -1 )* np.sqrt(df.LEG_LENGTH * g)"
   ]
  },
  {
   "cell_type": "markdown",
   "metadata": {},
   "source": [
    "#### sort bipedals"
   ]
  },
  {
   "cell_type": "code",
   "execution_count": 10,
   "metadata": {},
   "outputs": [
    {
     "data": {
      "text/html": [
       "<div>\n",
       "<style scoped>\n",
       "    .dataframe tbody tr th:only-of-type {\n",
       "        vertical-align: middle;\n",
       "    }\n",
       "\n",
       "    .dataframe tbody tr th {\n",
       "        vertical-align: top;\n",
       "    }\n",
       "\n",
       "    .dataframe thead th {\n",
       "        text-align: right;\n",
       "    }\n",
       "</style>\n",
       "<table border=\"1\" class=\"dataframe\">\n",
       "  <thead>\n",
       "    <tr style=\"text-align: right;\">\n",
       "      <th></th>\n",
       "      <th>NAME</th>\n",
       "      <th>LEG_LENGTH</th>\n",
       "      <th>DIET</th>\n",
       "      <th>STRIDE_LENGTH</th>\n",
       "      <th>STANCE</th>\n",
       "      <th>speed</th>\n",
       "    </tr>\n",
       "  </thead>\n",
       "  <tbody>\n",
       "    <tr>\n",
       "      <th>1</th>\n",
       "      <td>Struthiomimus</td>\n",
       "      <td>0.72</td>\n",
       "      <td>omnivore</td>\n",
       "      <td>1.24</td>\n",
       "      <td>bipedal</td>\n",
       "      <td>1.918448</td>\n",
       "    </tr>\n",
       "    <tr>\n",
       "      <th>2</th>\n",
       "      <td>Velociraptor</td>\n",
       "      <td>1.80</td>\n",
       "      <td>carnivore</td>\n",
       "      <td>2.62</td>\n",
       "      <td>bipedal</td>\n",
       "      <td>1.913333</td>\n",
       "    </tr>\n",
       "    <tr>\n",
       "      <th>0</th>\n",
       "      <td>Hadrosaurus</td>\n",
       "      <td>1.40</td>\n",
       "      <td>herbivore</td>\n",
       "      <td>1.30</td>\n",
       "      <td>bipedal</td>\n",
       "      <td>-0.264575</td>\n",
       "    </tr>\n",
       "    <tr>\n",
       "      <th>5</th>\n",
       "      <td>Tyrannosaurus Rex</td>\n",
       "      <td>6.50</td>\n",
       "      <td>carnivore</td>\n",
       "      <td>4.76</td>\n",
       "      <td>bipedal</td>\n",
       "      <td>-2.136513</td>\n",
       "    </tr>\n",
       "  </tbody>\n",
       "</table>\n",
       "</div>"
      ],
      "text/plain": [
       "                NAME  LEG_LENGTH       DIET  STRIDE_LENGTH   STANCE     speed\n",
       "1      Struthiomimus        0.72   omnivore           1.24  bipedal  1.918448\n",
       "2       Velociraptor        1.80  carnivore           2.62  bipedal  1.913333\n",
       "0        Hadrosaurus        1.40  herbivore           1.30  bipedal -0.264575\n",
       "5  Tyrannosaurus Rex        6.50  carnivore           4.76  bipedal -2.136513"
      ]
     },
     "execution_count": 10,
     "metadata": {},
     "output_type": "execute_result"
    }
   ],
   "source": [
    "df[df['STANCE'] == 'bipedal'].sort_values('speed',ascending=False)"
   ]
  },
  {
   "cell_type": "markdown",
   "metadata": {},
   "source": [
    "#### Return only the names in order of speed"
   ]
  },
  {
   "cell_type": "code",
   "execution_count": 11,
   "metadata": {},
   "outputs": [
    {
     "data": {
      "text/plain": [
       "1        Struthiomimus\n",
       "2         Velociraptor\n",
       "0          Hadrosaurus\n",
       "5    Tyrannosaurus Rex\n",
       "Name: NAME, dtype: object"
      ]
     },
     "execution_count": 11,
     "metadata": {},
     "output_type": "execute_result"
    }
   ],
   "source": [
    "df[df['STANCE'] == 'bipedal'].sort_values('speed',ascending=False)['NAME']"
   ]
  },
  {
   "cell_type": "markdown",
   "metadata": {},
   "source": [
    "#### Visualizing addition\n",
    "\n",
    "add a visual linear correlation for speed to leg length, and stride length, broken out by diet.\n",
    "\n",
    "This wasn't part of an interview - just playing with the data"
   ]
  },
  {
   "cell_type": "code",
   "execution_count": 12,
   "metadata": {},
   "outputs": [
    {
     "data": {
      "text/plain": [
       "<seaborn.axisgrid.FacetGrid at 0x1220fb250>"
      ]
     },
     "execution_count": 12,
     "metadata": {},
     "output_type": "execute_result"
    },
    {
     "data": {
      "image/png": "[encoded data removed]",
      "text/plain": [
       "<Figure size 443.625x360 with 1 Axes>"
      ]
     },
     "metadata": {
      "needs_background": "light"
     },
     "output_type": "display_data"
    }
   ],
   "source": [
    "# Correlations between STRIDE_LENGTH and speed, viewed by diet?\n",
    "sns.lmplot('speed','STRIDE_LENGTH',hue='DIET',data=df,palette='winter')"
   ]
  },
  {
   "cell_type": "code",
   "execution_count": 13,
   "metadata": {},
   "outputs": [
    {
     "data": {
      "text/plain": [
       "<seaborn.axisgrid.FacetGrid at 0x1220e2d00>"
      ]
     },
     "execution_count": 13,
     "metadata": {},
     "output_type": "execute_result"
    },
    {
     "data": {
      "image/png": "[encoded data removed]",
      "text/plain": [
       "<Figure size 443.625x360 with 1 Axes>"
      ]
     },
     "metadata": {
      "needs_background": "light"
     },
     "output_type": "display_data"
    }
   ],
   "source": [
    "# how about speed and LEG_LENGTH?\n",
    "sns.lmplot('speed','LEG_LENGTH',hue='DIET',data=df,palette='winter')"
   ]
  },
  {
   "cell_type": "code",
   "execution_count": 14,
   "metadata": {},
   "outputs": [
    {
     "data": {
      "text/plain": [
       "<seaborn.axisgrid.FacetGrid at 0x1221a4400>"
      ]
     },
     "execution_count": 14,
     "metadata": {},
     "output_type": "execute_result"
    },
    {
     "data": {
      "image/png": "[encoded data removed]",
      "text/plain": [
       "<Figure size 360x360 with 1 Axes>"
      ]
     },
     "metadata": {
      "needs_background": "light"
     },
     "output_type": "display_data"
    }
   ],
   "source": [
    "# What is the distribution of various diets of the dinosaurs included?\n",
    "sns.catplot('DIET',kind='count',data=df,palette='Set1')"
   ]
  },
  {
   "cell_type": "code",
   "execution_count": 15,
   "metadata": {},
   "outputs": [
    {
     "data": {
      "text/plain": [
       "<seaborn.axisgrid.FacetGrid at 0x122695d00>"
      ]
     },
     "execution_count": 15,
     "metadata": {},
     "output_type": "execute_result"
    },
    {
     "data": {
      "image/png": "[encoded data removed]",
      "text/plain": [
       "<Figure size 360x360 with 1 Axes>"
      ]
     },
     "metadata": {
      "needs_background": "light"
     },
     "output_type": "display_data"
    }
   ],
   "source": [
    "sns.catplot('STANCE',kind='count',data=df,palette='Set1')"
   ]
  },
  {
   "cell_type": "markdown",
   "metadata": {},
   "source": [
    "### how to do this with regular python\n",
    "\n",
    "There are a couple of minor issues in this that I missed in original solutions:\n",
    "- Each file has one dino that's not in the other. In the original solution I didn't properly inner join and filter out the dino in file2 that wasn't in file1. This affects the final output.\n",
    "- Velociraptor is misspelled in one of the files (Velociraptorr)"
   ]
  },
  {
   "cell_type": "code",
   "execution_count": 16,
   "metadata": {},
   "outputs": [],
   "source": [
    "import math, csv"
   ]
  },
  {
   "cell_type": "code",
   "execution_count": 17,
   "metadata": {},
   "outputs": [],
   "source": [
    "dinos={}\n",
    "g=9.8"
   ]
  },
  {
   "cell_type": "code",
   "execution_count": 18,
   "metadata": {},
   "outputs": [],
   "source": [
    "with open('dataset2.csv','r') as f:\n",
    "    rows = csv.reader(f)\n",
    "    for row in rows:\n",
    "        NAME, STRIDE_LENGTH, STANCE = row[0], row[1],row[2]\n",
    "        if NAME == 'Velociraptorr':\n",
    "            NAME = 'Velociraptor'\n",
    "        if STANCE == 'bipedal' and NAME in open('dataset1.csv','r').read(): # Filter out dino2 singleton\n",
    "            dinos[NAME] = float(STRIDE_LENGTH)"
   ]
  },
  {
   "cell_type": "code",
   "execution_count": 19,
   "metadata": {},
   "outputs": [],
   "source": [
    "with open('dataset1.csv','r') as f:\n",
    "    rows = csv.reader(f)\n",
    "    for row in rows:\n",
    "        NAME, LEG_LENGTH, DIET = row[0], row[1], row[2]\n",
    "        if NAME in dinos:\n",
    "            STRIDE_LENGTH, LEG_LENGTH =  dinos[NAME], float(LEG_LENGTH)\n",
    "            dinos[NAME] = ((STRIDE_LENGTH / LEG_LENGTH) - 1) * (math.sqrt(LEG_LENGTH) * g)"
   ]
  },
  {
   "cell_type": "code",
   "execution_count": 20,
   "metadata": {},
   "outputs": [
    {
     "data": {
      "text/plain": [
       "['Struthiomimus', 'Velociraptor', 'Hadrosaurus', 'Tyrannosaurus Rex']"
      ]
     },
     "execution_count": 20,
     "metadata": {},
     "output_type": "execute_result"
    }
   ],
   "source": [
    "[x[0] for x in sorted(dinos.items(), key=lambda x: x[1], reverse=True)]"
   ]
  },
  {
   "cell_type": "code",
   "execution_count": 21,
   "metadata": {},
   "outputs": [
    {
     "name": "stdout",
     "output_type": "stream",
     "text": [
      "Struthiomimus\n",
      "Velociraptor\n",
      "Hadrosaurus\n",
      "Tyrannosaurus Rex\n"
     ]
    },
    {
     "data": {
      "text/plain": [
       "[None, None, None, None]"
      ]
     },
     "execution_count": 21,
     "metadata": {},
     "output_type": "execute_result"
    }
   ],
   "source": [
    "# or, a little cleaner:\n",
    "[print(x[0]) for x in sorted(dinos.items(), key=lambda x: x[1], reverse=True)]"
   ]
  },
  {
   "cell_type": "markdown",
   "metadata": {},
   "source": [
    "#### As a function"
   ]
  },
  {
   "cell_type": "code",
   "execution_count": 22,
   "metadata": {},
   "outputs": [],
   "source": [
    "def dinospeed(file1, file2):\n",
    "    dinos = {}\n",
    "    g=9.8\n",
    "    with open(file2, 'r') as f:\n",
    "        rows = csv.reader(f)\n",
    "        for row in rows:\n",
    "            NAME, STRIDE_LENGTH, STANCE = row[0], row[1],row[2]\n",
    "            if NAME == 'Velociraptorr':\n",
    "                NAME = 'Velociraptor'\n",
    "            if STANCE == 'bipedal' and NAME in open(file1,'r').read():\n",
    "                dinos[NAME] = float(STRIDE_LENGTH)\n",
    "    with open(file1, 'r') as f:\n",
    "        rows = csv.reader(f)\n",
    "        for row in rows:\n",
    "            NAME, LEG_LENGTH, DIET = row[0], row[1],row[2]\n",
    "            if NAME in dinos:\n",
    "                STRIDE_LENGTH, LEG_LENGTH =  dinos[NAME], float(LEG_LENGTH)\n",
    "                dinos[NAME] = ((STRIDE_LENGTH / LEG_LENGTH) - 1) * (math.sqrt(LEG_LENGTH) * g)\n",
    "    return [x[0] for x in sorted(dinos.items(), key=lambda x: x[1], reverse=True)]"
   ]
  },
  {
   "cell_type": "code",
   "execution_count": 23,
   "metadata": {},
   "outputs": [
    {
     "data": {
      "text/plain": [
       "['Struthiomimus', 'Velociraptor', 'Hadrosaurus', 'Tyrannosaurus Rex']"
      ]
     },
     "execution_count": 23,
     "metadata": {},
     "output_type": "execute_result"
    }
   ],
   "source": [
    "dinospeed('dataset1.csv','dataset2.csv')"
   ]
  },
  {
   "cell_type": "markdown",
   "metadata": {},
   "source": [
    "### Problem 2:\n",
    "**Given an array of integers greater than zero, find if it is possible to split it in two subarrays (without reordering the elements), such that the sum of the two subarrays is the same. Print the two subarrays.**\n",
    "\n",
    "I calculated rightSum initially by using sum(nums), then looped over nums, and added nums[i] to leftSum, and subtracted it from rightSum, then checked if there was a match and printed that."
   ]
  },
  {
   "cell_type": "code",
   "execution_count": 24,
   "metadata": {},
   "outputs": [],
   "source": [
    "import random"
   ]
  },
  {
   "cell_type": "code",
   "execution_count": 25,
   "metadata": {},
   "outputs": [],
   "source": [
    "myarr = [random.randint(1,4096) for x in range(10)]"
   ]
  },
  {
   "cell_type": "code",
   "execution_count": 26,
   "metadata": {},
   "outputs": [],
   "source": [
    "m = int(len(myarr)/2)"
   ]
  },
  {
   "cell_type": "code",
   "execution_count": 27,
   "metadata": {},
   "outputs": [],
   "source": [
    "left = myarr[:m]\n",
    "right = myarr[m:]"
   ]
  },
  {
   "cell_type": "code",
   "execution_count": 28,
   "metadata": {},
   "outputs": [
    {
     "data": {
      "text/plain": [
       "False"
      ]
     },
     "execution_count": 28,
     "metadata": {},
     "output_type": "execute_result"
    }
   ],
   "source": [
    "sum(left) == sum(right)"
   ]
  },
  {
   "cell_type": "code",
   "execution_count": 29,
   "metadata": {},
   "outputs": [],
   "source": [
    "def splitArraysSame(arr):\n",
    "    \"\"\"\n",
    "    This only covers the case for an even split of the elements\n",
    "    \"\"\"\n",
    "    m = int(len(arr)/2)\n",
    "    left = arr[:m]\n",
    "    right = arr[m:]\n",
    "    return sum(left) == sum(right)"
   ]
  },
  {
   "cell_type": "code",
   "execution_count": null,
   "metadata": {},
   "outputs": [],
   "source": []
  },
  {
   "cell_type": "code",
   "execution_count": 30,
   "metadata": {},
   "outputs": [
    {
     "name": "stdout",
     "output_type": "stream",
     "text": [
      "False\n",
      "False\n",
      "False\n",
      "False\n",
      "False\n",
      "False\n",
      "False\n",
      "False\n",
      "False\n"
     ]
    }
   ],
   "source": [
    "# loop through - compare x + loop\n",
    "for x in range(0,len(myarr) -1):\n",
    "    print(sum(myarr[:x]) == sum(myarr[x:]))"
   ]
  },
  {
   "cell_type": "markdown",
   "metadata": {},
   "source": [
    "#### as a function"
   ]
  },
  {
   "cell_type": "code",
   "execution_count": 31,
   "metadata": {},
   "outputs": [],
   "source": [
    "def iterateArraySame(arr):\n",
    "    \"\"\"\n",
    "    This works.\n",
    "    \"\"\"\n",
    "    p=0\n",
    "    for x in range(0,len(arr) -1):\n",
    "        if sum(arr[:x]) == sum(arr[x:]):\n",
    "            p+=1\n",
    "    if p>0:\n",
    "        return True\n",
    "    else:\n",
    "        return False\n"
   ]
  },
  {
   "cell_type": "code",
   "execution_count": 32,
   "metadata": {},
   "outputs": [
    {
     "data": {
      "text/plain": [
       "False"
      ]
     },
     "execution_count": 32,
     "metadata": {},
     "output_type": "execute_result"
    }
   ],
   "source": [
    "iterateArraySame(myarr)"
   ]
  },
  {
   "cell_type": "markdown",
   "metadata": {},
   "source": [
    "#### in a lambda"
   ]
  },
  {
   "cell_type": "code",
   "execution_count": 33,
   "metadata": {},
   "outputs": [],
   "source": [
    "def lambdaEqualChunk(arr):\n",
    "    return set(list(map(lambda xxx: arr[:xxx] == arr[xxx:], arr)))"
   ]
  },
  {
   "cell_type": "code",
   "execution_count": 34,
   "metadata": {},
   "outputs": [
    {
     "data": {
      "text/plain": [
       "{False}"
      ]
     },
     "execution_count": 34,
     "metadata": {},
     "output_type": "execute_result"
    }
   ],
   "source": [
    "lambdaEqualChunk(myarr)"
   ]
  },
  {
   "cell_type": "markdown",
   "metadata": {},
   "source": [
    "### Problem 3\n",
    "**Battleship/LandMines**\n",
    "\n",
    "There is a matrix with . and X, where X represents battleship, always of length 3. Battleship can be vertical or horizontal, never diagonal. Given a function bomb_at(i,j), returns True if battleship is present at (i,j) in the matrix. Print the head, middle, tail coordinates of the battleship."
   ]
  },
  {
   "cell_type": "code",
   "execution_count": 35,
   "metadata": {},
   "outputs": [],
   "source": [
    "# test harness\n",
    "matrix = [['.','.','.','.','.'],['.','.','.','X','.'],['.','.','.','X','.'],['.','.','.','X','.'],['.','.','.','.','.']]"
   ]
  },
  {
   "cell_type": "code",
   "execution_count": 36,
   "metadata": {},
   "outputs": [
    {
     "data": {
      "text/plain": [
       "[['.', '.', '.', '.', '.'],\n",
       " ['.', '.', '.', 'X', '.'],\n",
       " ['.', '.', '.', 'X', '.'],\n",
       " ['.', '.', '.', 'X', '.'],\n",
       " ['.', '.', '.', '.', '.']]"
      ]
     },
     "execution_count": 36,
     "metadata": {},
     "output_type": "execute_result"
    }
   ],
   "source": [
    "matrix"
   ]
  },
  {
   "cell_type": "code",
   "execution_count": 37,
   "metadata": {},
   "outputs": [],
   "source": [
    "import itertools"
   ]
  },
  {
   "cell_type": "code",
   "execution_count": 38,
   "metadata": {},
   "outputs": [
    {
     "name": "stdout",
     "output_type": "stream",
     "text": [
      "{1: 3, 2: 3, 3: 3}\n"
     ]
    }
   ],
   "source": [
    "# test the iterator\n",
    "battleship={}\n",
    "for i, j in itertools.product(range(5), range(5)):\n",
    "    if matrix[i][j] == 'X':\n",
    "        battleship[i]=j\n",
    "print(battleship)\n",
    "    "
   ]
  },
  {
   "cell_type": "code",
   "execution_count": 39,
   "metadata": {},
   "outputs": [],
   "source": [
    "# use the notion of a bomb for a hit on a battleship\n",
    "# create a test function bomb_at\n",
    "def bomb_at(mat,i,j):\n",
    "    if mat[i][j] =='X':\n",
    "        return True\n",
    "    "
   ]
  },
  {
   "cell_type": "code",
   "execution_count": 40,
   "metadata": {},
   "outputs": [
    {
     "name": "stdout",
     "output_type": "stream",
     "text": [
      "[(1, 3), (2, 3), (3, 3)]\n"
     ]
    }
   ],
   "source": [
    "# \n",
    "size=len(matrix)\n",
    "bombs=[]\n",
    "for i, j in itertools.product(range(size), range(size)):\n",
    "    if bomb_at(matrix,i,j):\n",
    "        bombs.append((i,j))\n",
    "if len(bombs) > 2 and len(bombs) < 4:\n",
    "    print(bombs)\n",
    "    "
   ]
  },
  {
   "cell_type": "code",
   "execution_count": 41,
   "metadata": {},
   "outputs": [],
   "source": [
    "# test harness for no bombs\n",
    "matrix1= [['.','.','.','.','.'],['.','.','.','.','.'],['.','.','.','.','.'],['.','.','.','.','.'],['.','.','.','.','.']]"
   ]
  },
  {
   "cell_type": "code",
   "execution_count": 42,
   "metadata": {},
   "outputs": [],
   "source": [
    "# test harness for too many bombs\n",
    "matrix2= [['.','.','.','X','.'],['.','.','.','X','.'],['.','.','.','X','.'],['.','.','.','X','.'],['.','.','.','.','.']]"
   ]
  },
  {
   "cell_type": "code",
   "execution_count": 43,
   "metadata": {},
   "outputs": [],
   "source": [
    "# test harness for too few bombs\n",
    "matrix3= [['.','.','.','.','.'],['.','.','.','.','.'],['.','.','.','X','.'],['.','.','.','X','.'],['.','.','.','.','.']]"
   ]
  },
  {
   "cell_type": "code",
   "execution_count": 44,
   "metadata": {},
   "outputs": [],
   "source": [
    "# test harness for horizontal bombs\n",
    "matrix4= [['X','X','X','.','.'],['.','.','.','.','.'],['.','.','.','.','.'],['.','.','.','.','.'],['.','.','.','.','.']]"
   ]
  },
  {
   "cell_type": "code",
   "execution_count": 45,
   "metadata": {},
   "outputs": [],
   "source": [
    "# test harness for diagonal bombs - this should break\n",
    "matrix5= [['X','.','.','.','.'],['.','X','.','.','.'],['.','.','X','.','.'],['.','.','.','.','.'],['.','.','.','.','.']]"
   ]
  },
  {
   "cell_type": "code",
   "execution_count": 46,
   "metadata": {},
   "outputs": [
    {
     "name": "stdout",
     "output_type": "stream",
     "text": [
      "[(0, 0), (1, 1), (2, 2)]\n"
     ]
    }
   ],
   "source": [
    "mat = matrix5\n",
    "size=len(mat)\n",
    "bombs=[]\n",
    "for i, j in itertools.product(range(size), range(size)):\n",
    "    if bomb_at(mat,i,j):\n",
    "        bombs.append((i,j))\n",
    "if len(bombs) > 2 and len(bombs) < 4:\n",
    "    print(bombs)\n",
    "else:\n",
    "    print(\"no bombs or wrong number of bombs\")"
   ]
  },
  {
   "cell_type": "code",
   "execution_count": 47,
   "metadata": {},
   "outputs": [
    {
     "name": "stdout",
     "output_type": "stream",
     "text": [
      "[(1, 3), (2, 3), (3, 3)]\n"
     ]
    }
   ],
   "source": [
    "# extend to show no or some bombs\n",
    "# this breaks (shows) diagonals\n",
    "mat = matrix\n",
    "size=len(mat)\n",
    "bombs=[]\n",
    "for i, j in itertools.product(range(size), range(size)):\n",
    "    if bomb_at(mat,i,j):\n",
    "        bombs.append((i,j))\n",
    "if len(bombs) > 2 and len(bombs) < 4:\n",
    "    print(bombs)\n",
    "elif len(bombs) > 0 and len(bombs) < 3:\n",
    "    print('not enough bombs to matter')\n",
    "elif len(bombs) > 3:\n",
    "    print('too many bombs to worry about')\n",
    "else:\n",
    "    print(\"no bombs\")"
   ]
  },
  {
   "cell_type": "code",
   "execution_count": 48,
   "metadata": {},
   "outputs": [],
   "source": [
    "# test harness\n",
    "vert = [(1, 3), (2, 3), (3, 3)]\n",
    "horz = [(0, 0), (0, 1), (0, 2)]\n",
    "diag = [(0, 0), (1, 1), (2, 1)]"
   ]
  },
  {
   "cell_type": "code",
   "execution_count": 49,
   "metadata": {},
   "outputs": [],
   "source": [
    "def notdiag(arr):\n",
    "    \"\"\"\n",
    "    if vertical or horizontal, a set of either x or y should == 1.\n",
    "    if diag both sets are > 1\n",
    "    \"\"\"\n",
    "    return len(set([x[0] for x in arr])) == 1 or  len(set([x[1] for x in arr])) == 1"
   ]
  },
  {
   "cell_type": "code",
   "execution_count": 50,
   "metadata": {},
   "outputs": [
    {
     "name": "stdout",
     "output_type": "stream",
     "text": [
      "[(1, 3), (2, 3), (3, 3)]\n"
     ]
    }
   ],
   "source": [
    "# fix to not return diagonals\n",
    "mat = matrix\n",
    "size=len(mat)\n",
    "bombs=[]\n",
    "for i, j in itertools.product(range(size), range(size)):\n",
    "    if bomb_at(mat,i,j):\n",
    "        bombs.append((i,j))\n",
    "if len(bombs) > 2 and len(bombs) < 4 and notdiag(bombs):\n",
    "    print(bombs)\n",
    "elif len(bombs) > 0 and len(bombs) < 3:\n",
    "    print('not enough bombs to matter')\n",
    "elif len(bombs) > 3:\n",
    "    print('too many bombs to worry about')\n",
    "else:\n",
    "    print(\"no vertical or horizontal bombs\")"
   ]
  },
  {
   "cell_type": "code",
   "execution_count": 51,
   "metadata": {},
   "outputs": [
    {
     "data": {
      "text/plain": [
       "[(1, 3), (2, 3), (3, 3)]"
      ]
     },
     "execution_count": 51,
     "metadata": {},
     "output_type": "execute_result"
    }
   ],
   "source": [
    "bombs"
   ]
  },
  {
   "cell_type": "markdown",
   "metadata": {},
   "source": [
    "### Problem 4\n",
    "**Take the filenames like anakin_2010-02-18.csv and create a directory structure like so:**\n",
    "\n",
    "2010/02/18/starwars/\n",
    "\n",
    "then move the file into it.\n",
    "\n",
    "There are two classes - starwars and futurama"
   ]
  },
  {
   "cell_type": "code",
   "execution_count": 52,
   "metadata": {},
   "outputs": [],
   "source": [
    "import os, sys\n",
    "from shutil import copyfile"
   ]
  },
  {
   "cell_type": "code",
   "execution_count": 53,
   "metadata": {},
   "outputs": [],
   "source": [
    "# the files are in a dir called \"homework\"\n",
    "os.chdir('homework')"
   ]
  },
  {
   "cell_type": "code",
   "execution_count": 54,
   "metadata": {},
   "outputs": [
    {
     "name": "stdout",
     "output_type": "stream",
     "text": [
      "yoda_2011-12-18.csv\r\n",
      "yoda_2012-01-24.csv\r\n",
      "yoda_2012-02-02.csv\r\n",
      "yoda_2012-02-08.csv\r\n",
      "yoda_2012-08-08.csv\r\n",
      "yoda_2012-09-04.csv\r\n",
      "yoda_2012-09-26.csv\r\n",
      "yoda_2012-11-18.csv\r\n",
      "yoda_2013-01-18.csv\r\n",
      "yoda_2013-01-19.csv\r\n"
     ]
    }
   ],
   "source": [
    "ls| tail -10"
   ]
  },
  {
   "cell_type": "code",
   "execution_count": 55,
   "metadata": {},
   "outputs": [],
   "source": [
    "# make arrays that collect the names to the show\n",
    "futurama = ['hermes','nibbler','farnsworth','bender','leela']\n",
    "starwars = ['jarjar','yoda','anakin','han','obiwan']"
   ]
  },
  {
   "cell_type": "code",
   "execution_count": 56,
   "metadata": {},
   "outputs": [],
   "source": [
    "files = os.listdir()\n",
    "cwd = os.getcwd()"
   ]
  },
  {
   "cell_type": "code",
   "execution_count": 57,
   "metadata": {},
   "outputs": [],
   "source": [
    "charnames = set([x.split('_')[0] for x in files])"
   ]
  },
  {
   "cell_type": "code",
   "execution_count": 58,
   "metadata": {},
   "outputs": [
    {
     "data": {
      "text/plain": [
       "{'2010',\n",
       " '2011',\n",
       " '2012',\n",
       " '2013',\n",
       " 'anakin',\n",
       " 'bender',\n",
       " 'farnsworth',\n",
       " 'han',\n",
       " 'hermes',\n",
       " 'jarjar',\n",
       " 'leela',\n",
       " 'nibbler',\n",
       " 'obiwan',\n",
       " 'yoda'}"
      ]
     },
     "execution_count": 58,
     "metadata": {},
     "output_type": "execute_result"
    }
   ],
   "source": [
    "charnames"
   ]
  },
  {
   "cell_type": "code",
   "execution_count": 59,
   "metadata": {},
   "outputs": [],
   "source": [
    "def propname(name):\n",
    "    \"\"\"\n",
    "    return the show as a function\n",
    "    \"\"\"\n",
    "    if name in starwars:\n",
    "        return 'starwars'\n",
    "    else:\n",
    "        return 'futurama'"
   ]
  },
  {
   "cell_type": "code",
   "execution_count": 60,
   "metadata": {},
   "outputs": [
    {
     "data": {
      "text/plain": [
       "'futurama'"
      ]
     },
     "execution_count": 60,
     "metadata": {},
     "output_type": "execute_result"
    }
   ],
   "source": [
    "propname('leela')"
   ]
  },
  {
   "cell_type": "code",
   "execution_count": 61,
   "metadata": {},
   "outputs": [],
   "source": [
    "for f in files:\n",
    "    chunks = f.split(\"_\")\n",
    "    if len(chunks)  > 1:\n",
    "        dates = chunks[1].split(\"-\")\n",
    "        title = propname(chunks[0])\n",
    "        dirstr = '{}/{}/{}/{}/{}/'.format(cwd,dates[0],dates[1],dates[2].strip('.csv'),title)\n",
    "        os.makedirs(dirstr, exist_ok=True)\n",
    "        copyfile(f,dirstr + f)"
   ]
  },
  {
   "cell_type": "code",
   "execution_count": 62,
   "metadata": {},
   "outputs": [
    {
     "name": "stdout",
     "output_type": "stream",
     "text": [
      "\u001b[1m\u001b[36m01\u001b[m\u001b[m/ \u001b[1m\u001b[36m02\u001b[m\u001b[m/ \u001b[1m\u001b[36m03\u001b[m\u001b[m/ \u001b[1m\u001b[36m04\u001b[m\u001b[m/ \u001b[1m\u001b[36m05\u001b[m\u001b[m/ \u001b[1m\u001b[36m06\u001b[m\u001b[m/ \u001b[1m\u001b[36m07\u001b[m\u001b[m/ \u001b[1m\u001b[36m08\u001b[m\u001b[m/ \u001b[1m\u001b[36m09\u001b[m\u001b[m/ \u001b[1m\u001b[36m10\u001b[m\u001b[m/ \u001b[1m\u001b[36m11\u001b[m\u001b[m/ \u001b[1m\u001b[36m12\u001b[m\u001b[m/\r\n"
     ]
    }
   ],
   "source": [
    "ls 2010"
   ]
  },
  {
   "cell_type": "code",
   "execution_count": 63,
   "metadata": {},
   "outputs": [
    {
     "name": "stdout",
     "output_type": "stream",
     "text": [
      "obiwan_2010-01-28.csv\r\n"
     ]
    }
   ],
   "source": [
    "ls 2010/01/28/starwars"
   ]
  },
  {
   "cell_type": "code",
   "execution_count": 64,
   "metadata": {},
   "outputs": [],
   "source": [
    "os.chdir('..')"
   ]
  },
  {
   "cell_type": "markdown",
   "metadata": {},
   "source": [
    "### Problem 5\n",
    "\n",
    "**Make a count of all the instances of the words that exist in a textfile of Moby Dick**\n",
    "\n",
    "This is a simple whiteboard/trueability version. I have an example about how to do proper cleaning and tokenization of words in this notebook:\n",
    "\n",
    "https://github.com/jsutch/Natural_Language_Processing/blob/master/Spam%20Filtering%20With%20Natural%20Language%20ToolKit%20(NLP).ipynb"
   ]
  },
  {
   "cell_type": "code",
   "execution_count": 111,
   "metadata": {},
   "outputs": [
    {
     "name": "stdout",
     "output_type": "stream",
     "text": [
      "moby_dick.txt\r\n"
     ]
    }
   ],
   "source": [
    "ls moby_dick.txt"
   ]
  },
  {
   "cell_type": "code",
   "execution_count": 66,
   "metadata": {},
   "outputs": [
    {
     "name": "stdout",
     "output_type": "stream",
     "text": [
      "Moby�Dick\r\n",
      "or\r\n",
      "The Whale\r\n",
      "HERMAN MELVILLE\r\n",
      "1851\r\n",
      "IN TOKEN\r\n",
      "OF MY ADMIRATION FOR HIS GENIUS,\r\n",
      "This book is Inscribed\r\n",
      "TO\r\n",
      "NATHANIEL HAWTHORNE.\r\n",
      "cat: stdout: Broken pipe\r\n"
     ]
    }
   ],
   "source": [
    "cat moby_dick.txt| head -10"
   ]
  },
  {
   "cell_type": "code",
   "execution_count": 67,
   "metadata": {},
   "outputs": [],
   "source": [
    "wordcount = {}"
   ]
  },
  {
   "cell_type": "code",
   "execution_count": 68,
   "metadata": {},
   "outputs": [],
   "source": [
    "with open('moby_dick.txt','r') as f:\n",
    "    data = f.read()\n",
    "    rows = data.split(\"\\n\")\n",
    "    for row in rows:\n",
    "        words = row.split(\" \")\n",
    "        for word in words:\n",
    "            if word.lower() in wordcount:\n",
    "                wordcount[word.lower()] +=1\n",
    "            else:\n",
    "                wordcount[word.lower()] = 1"
   ]
  },
  {
   "cell_type": "code",
   "execution_count": 110,
   "metadata": {},
   "outputs": [
    {
     "data": {
      "text/plain": [
       "[('moby�dick', 1),\n",
       " ('or', 701),\n",
       " ('the', 14747),\n",
       " ('whale', 571),\n",
       " ('herman', 1),\n",
       " ('melville', 1),\n",
       " ('1851', 1),\n",
       " ('in', 4110),\n",
       " ('token', 14),\n",
       " ('of', 6590),\n",
       " ('my', 577),\n",
       " ('admiration', 1),\n",
       " ('for', 1540),\n",
       " ('his', 2499),\n",
       " ('genius,', 1),\n",
       " ('this', 1266),\n",
       " ('book', 43),\n",
       " ('is', 1597),\n",
       " ('inscribed', 1),\n",
       " ('to', 4538)]"
      ]
     },
     "execution_count": 110,
     "metadata": {},
     "output_type": "execute_result"
    }
   ],
   "source": [
    "# show a few items\n",
    "list(wordcount.items())[:20]"
   ]
  },
  {
   "cell_type": "code",
   "execution_count": 70,
   "metadata": {},
   "outputs": [
    {
     "data": {
      "text/plain": [
       "[('the', 14747),\n",
       " ('of', 6590),\n",
       " ('and', 6323),\n",
       " ('a', 4708),\n",
       " ('to', 4538),\n",
       " ('in', 4110),\n",
       " ('.', 3485),\n",
       " ('that', 2780),\n",
       " ('his', 2499),\n",
       " ('it', 1787),\n",
       " ('i', 1785),\n",
       " ('as', 1723),\n",
       " ('he', 1717),\n",
       " ('with', 1704),\n",
       " ('but', 1701),\n",
       " ('—', 1660),\n",
       " ('is', 1597),\n",
       " ('was', 1582),\n",
       " ('for', 1540),\n",
       " ('all', 1374),\n",
       " ('at', 1317),\n",
       " ('this', 1266),\n",
       " ('by', 1155),\n",
       " ('from', 1087),\n",
       " ('not', 1078),\n",
       " ('be', 990),\n",
       " ('on', 958),\n",
       " ('so', 893),\n",
       " ('one', 795),\n",
       " ('you', 783),\n",
       " ('had', 761),\n",
       " ('have', 760),\n",
       " ('or', 701),\n",
       " ('were', 648),\n",
       " ('they', 642),\n",
       " ('their', 621),\n",
       " ('some', 608),\n",
       " ('an', 594),\n",
       " ('him', 580),\n",
       " ('my', 577),\n",
       " ('are', 576),\n",
       " ('like', 572),\n",
       " ('whale', 571),\n",
       " ('which', 563),\n",
       " ('when', 554),\n",
       " ('upon', 553),\n",
       " ('chapter', 549),\n",
       " ('into', 519),\n",
       " ('there', 518),\n",
       " ('now', 513),\n",
       " ('what', 492),\n",
       " ('no', 486),\n",
       " ('out', 452),\n",
       " ('if', 449),\n",
       " ('more', 435),\n",
       " ('up', 430),\n",
       " ('old', 428),\n",
       " ('we', 425),\n",
       " ('would', 414),\n",
       " ('been', 400),\n",
       " ('then', 384),\n",
       " ('these', 382),\n",
       " ('its', 376),\n",
       " ('over', 373),\n",
       " ('only', 362),\n",
       " ('such', 359),\n",
       " ('will', 355),\n",
       " ('other', 352),\n",
       " ('me', 352),\n",
       " ('though', 330),\n",
       " ('any', 319),\n",
       " ('down', 314),\n",
       " ('very', 314),\n",
       " ('than', 309),\n",
       " ('those', 302),\n",
       " ('great', 295),\n",
       " ('them', 286),\n",
       " ('has', 286),\n",
       " ('still', 284),\n",
       " ('her', 283),\n",
       " ('most', 280),\n",
       " ('who', 279),\n",
       " ('about', 279),\n",
       " ('seemed', 275),\n",
       " ('yet', 275),\n",
       " ('ye', 274),\n",
       " ('two', 273),\n",
       " ('must', 271),\n",
       " ('long', 263),\n",
       " ('ahab', 258),\n",
       " ('after', 258),\n",
       " ('said', 257),\n",
       " ('do', 256),\n",
       " ('ship', 254),\n",
       " ('before', 253),\n",
       " ('man', 249),\n",
       " ('your', 247),\n",
       " ('white', 240),\n",
       " ('him,', 238),\n",
       " ('it,', 237),\n",
       " ('thou', 233),\n",
       " ('did', 233),\n",
       " ('little', 233),\n",
       " ('three', 231),\n",
       " ('every', 229),\n",
       " ('how', 229),\n",
       " ('while', 223),\n",
       " ('sperm', 222),\n",
       " ('through', 218),\n",
       " ('captain', 218),\n",
       " ('round', 215),\n",
       " ('may', 213),\n",
       " ('being', 212),\n",
       " ('last', 210),\n",
       " ('whale,', 208),\n",
       " ('could', 208),\n",
       " ('our', 207),\n",
       " ('much', 207),\n",
       " ('see', 202),\n",
       " ('same', 202),\n",
       " ('ﬁrst', 200),\n",
       " ('never', 200),\n",
       " ('time', 200),\n",
       " ('where', 188),\n",
       " ('then,', 188),\n",
       " ('almost', 186),\n",
       " ('even', 183),\n",
       " ('can', 182),\n",
       " ('should', 182),\n",
       " ('ever', 181),\n",
       " ('own', 179),\n",
       " ('here', 177),\n",
       " ('might', 175),\n",
       " ('it.', 174),\n",
       " ('good', 174),\n",
       " ('now,', 173),\n",
       " ('off', 172),\n",
       " ('among', 167),\n",
       " ('many', 164),\n",
       " ('whales', 162),\n",
       " ('way', 161),\n",
       " ('go', 158),\n",
       " ('made', 156),\n",
       " ('far', 155),\n",
       " ('head', 153),\n",
       " ('sea', 151),\n",
       " ('us', 148),\n",
       " ('without', 145),\n",
       " ('me,', 143),\n",
       " ('cried', 143),\n",
       " ('well', 139),\n",
       " ('sort', 139),\n",
       " ('thing', 138),\n",
       " ('himself', 138),\n",
       " ('boat', 137),\n",
       " ('against', 134),\n",
       " ('whale’s', 133),\n",
       " ('nor', 133),\n",
       " ('let', 131),\n",
       " ('take', 130),\n",
       " ('once', 128),\n",
       " ('come', 128),\n",
       " ('look', 128),\n",
       " ('thought', 127),\n",
       " ('whole', 127),\n",
       " ('seen', 126),\n",
       " ('right', 125),\n",
       " ('each', 125),\n",
       " ('there,', 122),\n",
       " ('came', 122),\n",
       " ('day', 121),\n",
       " ('tell', 120),\n",
       " ('hand', 119),\n",
       " ('till', 119),\n",
       " ('men', 119),\n",
       " ('part', 119),\n",
       " ('queequeg', 118),\n",
       " ('away', 118),\n",
       " ('she', 117),\n",
       " ('know', 117),\n",
       " ('again', 116),\n",
       " ('stubb', 115),\n",
       " ('under', 115),\n",
       " ('soon', 115),\n",
       " ('thus', 114),\n",
       " ('towards', 113),\n",
       " ('just', 113),\n",
       " ('both', 113),\n",
       " ('something', 111),\n",
       " ('thy', 111),\n",
       " ('small', 110),\n",
       " ('don’t', 110),\n",
       " ('so,', 110),\n",
       " ('full', 109),\n",
       " ('make', 109),\n",
       " ('him.', 109),\n",
       " ('between', 109),\n",
       " ('ahab,', 109),\n",
       " ('sea,', 108),\n",
       " ('found', 105),\n",
       " ('poor', 104),\n",
       " ('think', 104),\n",
       " ('that,', 104),\n",
       " ('called', 103),\n",
       " ('say', 103),\n",
       " ('saw', 103),\n",
       " ('eyes', 100),\n",
       " ('too', 99),\n",
       " ('side', 99),\n",
       " ('is,', 98),\n",
       " ('man,', 97),\n",
       " ('say,', 96),\n",
       " ('whaling', 95),\n",
       " ('shall', 95),\n",
       " ('pequod', 94),\n",
       " ('another', 92),\n",
       " ('few', 92),\n",
       " ('get', 92),\n",
       " ('it;', 92),\n",
       " ('“i', 91),\n",
       " ('it’s', 91),\n",
       " ('back', 90),\n",
       " ('things', 90),\n",
       " ('moby', 89),\n",
       " ('nothing', 89),\n",
       " ('high', 89),\n",
       " ('feet', 89),\n",
       " ('heard', 89),\n",
       " ('him;', 88),\n",
       " ('along', 88),\n",
       " ('went', 88),\n",
       " ('boats', 87),\n",
       " ('going', 86),\n",
       " ('does', 86),\n",
       " ('them,', 86),\n",
       " ('hands', 86),\n",
       " ('half', 86),\n",
       " ('whose', 85),\n",
       " ('whether', 85),\n",
       " ('and,', 85),\n",
       " ('that’s', 85),\n",
       " ('certain', 85),\n",
       " ('he’s', 84),\n",
       " ('new', 84),\n",
       " ('ship,', 83),\n",
       " ('why', 83),\n",
       " ('i,', 83),\n",
       " ('stubb,', 82),\n",
       " ('life', 81),\n",
       " ('seem', 81),\n",
       " ('strange', 81),\n",
       " ('seems', 80),\n",
       " ('stand', 80),\n",
       " ('aye,', 80),\n",
       " ('line', 79),\n",
       " ('sometimes', 79),\n",
       " ('because', 79),\n",
       " ('starbuck', 78),\n",
       " ('water', 78),\n",
       " ('which,', 78),\n",
       " ('am', 78),\n",
       " ('stood', 78),\n",
       " ('ye,', 78),\n",
       " ('*', 77),\n",
       " ('ship’s', 77),\n",
       " ('world', 76),\n",
       " ('“the', 76),\n",
       " ('times', 76),\n",
       " ('whale;', 75),\n",
       " ('give', 75),\n",
       " ('always', 75),\n",
       " ('wild', 75),\n",
       " ('black', 75),\n",
       " ('time,', 75),\n",
       " ('whale.', 74),\n",
       " ('ere', 74),\n",
       " ('standing', 74),\n",
       " ('ahab’s', 73),\n",
       " ('hold', 73),\n",
       " ('crew', 72),\n",
       " ('young', 72),\n",
       " ('whales,', 71),\n",
       " ('place', 71),\n",
       " ('but,', 71),\n",
       " ('boat,', 70),\n",
       " ('head,', 70),\n",
       " ('put', 70),\n",
       " ('body', 70),\n",
       " ('known', 69),\n",
       " ('keep', 69),\n",
       " ('vast', 68),\n",
       " ('dead', 68),\n",
       " ('queequeg,', 68),\n",
       " ('present', 68),\n",
       " ('oh,', 68),\n",
       " ('beneath', 67),\n",
       " ('sight', 67),\n",
       " ('rather', 67),\n",
       " ('hard', 67),\n",
       " ('here,', 67),\n",
       " ('deck,', 67),\n",
       " ('living', 66),\n",
       " ('four', 65),\n",
       " ('also', 65),\n",
       " ('set', 65),\n",
       " ('again,', 65),\n",
       " ('moment', 65),\n",
       " ('this,', 65),\n",
       " ('cannot', 64),\n",
       " ('lay', 64),\n",
       " ('having', 64),\n",
       " ('sea.', 64),\n",
       " ('god', 63),\n",
       " ('large', 63),\n",
       " ('years', 63),\n",
       " ('men,', 63),\n",
       " ('ing', 63),\n",
       " ('often', 63),\n",
       " ('true', 62),\n",
       " ('night', 62),\n",
       " ('end', 62),\n",
       " ('chase', 61),\n",
       " ('within', 61),\n",
       " ('me.', 61),\n",
       " ('way,', 61),\n",
       " ('looked', 61),\n",
       " ('hand,', 61),\n",
       " ('i’ll', 61),\n",
       " ('arm', 60),\n",
       " ('one,', 60),\n",
       " ('too,', 60),\n",
       " ('face', 60),\n",
       " ('1', 59),\n",
       " ('less', 59),\n",
       " ('open', 59),\n",
       " ('matter', 59),\n",
       " ('told', 58),\n",
       " ('grand', 58),\n",
       " ('since', 58),\n",
       " ('iron', 58),\n",
       " ('near', 58),\n",
       " ('mind', 58),\n",
       " ('turned', 58),\n",
       " ('left', 58),\n",
       " ('second', 57),\n",
       " ('point', 57),\n",
       " ('general', 57),\n",
       " ('however', 57),\n",
       " ('there’s', 57),\n",
       " ('deck', 56),\n",
       " ('starbuck,', 56),\n",
       " ('leg', 55),\n",
       " ('feel', 55),\n",
       " ('best', 55),\n",
       " ('sail', 55),\n",
       " ('mr.', 55),\n",
       " ('peculiar', 55),\n",
       " ('looking', 55),\n",
       " ('reason', 55),\n",
       " ('who,', 55),\n",
       " ('live', 55),\n",
       " ('ﬁnd', 54),\n",
       " ('heart', 54),\n",
       " ('least', 54),\n",
       " ('perhaps', 54),\n",
       " ('ships', 54),\n",
       " ('side,', 54),\n",
       " ('days', 53),\n",
       " ('turn', 53),\n",
       " ('better', 53),\n",
       " ('call', 53),\n",
       " ('taking', 53),\n",
       " ('goes', 52),\n",
       " ('length', 52),\n",
       " ('all,', 52),\n",
       " ('them.', 52),\n",
       " ('sun', 52),\n",
       " ('water,', 51),\n",
       " ('yet,', 51),\n",
       " ('further', 51),\n",
       " ('began', 51),\n",
       " ('hear', 50),\n",
       " ('hundred', 50),\n",
       " ('instant', 50),\n",
       " ('comes', 50),\n",
       " ('entire', 50),\n",
       " ('jonah', 49),\n",
       " ('case', 49),\n",
       " ('leviathan', 49),\n",
       " ('close', 49),\n",
       " ('you,', 49),\n",
       " ('took', 49),\n",
       " ('lower', 49),\n",
       " ('nantucket', 48),\n",
       " ('up,', 48),\n",
       " ('taken', 48),\n",
       " ('order', 48),\n",
       " ('sir,', 48),\n",
       " ('turning', 48),\n",
       " ('ﬁne', 48),\n",
       " ('man’s', 48),\n",
       " ('was,', 48),\n",
       " ('forth', 48),\n",
       " ('thousand', 47),\n",
       " ('slowly', 47),\n",
       " ('business', 47),\n",
       " ('next', 47),\n",
       " ('word', 47),\n",
       " ('curious', 47),\n",
       " ('indeed,', 47),\n",
       " ('name', 46),\n",
       " ('thee', 46),\n",
       " ('above', 46),\n",
       " ('voyage', 46),\n",
       " ('captain,', 46),\n",
       " ('broad', 46),\n",
       " ('several', 46),\n",
       " ('for,', 46),\n",
       " ('pequod’s', 46),\n",
       " ('dick', 45),\n",
       " ('eye', 45),\n",
       " ('ten', 45),\n",
       " ('night,', 45),\n",
       " ('english', 45),\n",
       " ('air', 45),\n",
       " ('suddenly', 45),\n",
       " ('enough', 45),\n",
       " ('common', 45),\n",
       " ('kept', 45),\n",
       " ('coming', 45),\n",
       " ('well,', 44),\n",
       " ('noble', 44),\n",
       " ('run', 44),\n",
       " ('themselves', 44),\n",
       " ('myself', 44),\n",
       " ('yes,', 44),\n",
       " ('ivory', 44),\n",
       " ('used', 44),\n",
       " ('got', 44),\n",
       " ('running', 44),\n",
       " ('book', 43),\n",
       " ('story', 43),\n",
       " ('mere', 43),\n",
       " ('whatever', 43),\n",
       " ('making', 43),\n",
       " ('indian', 43),\n",
       " ('mighty', 43),\n",
       " ('cut', 43),\n",
       " ('dark', 43),\n",
       " ('gone', 42),\n",
       " ('day,', 42),\n",
       " ('harpooneer', 42),\n",
       " ('straight', 42),\n",
       " ('on,', 42),\n",
       " ('light', 42),\n",
       " ('when,', 42),\n",
       " ('oh!', 42),\n",
       " ('means', 42),\n",
       " ('ﬁsh', 41),\n",
       " ('touching', 41),\n",
       " ('whom', 41),\n",
       " ('deep', 41),\n",
       " ('oil', 41),\n",
       " ('caught', 41),\n",
       " ('air,', 41),\n",
       " ('board', 41),\n",
       " ('sea;', 41),\n",
       " ('lord', 40),\n",
       " ('wide', 40),\n",
       " ('whalemen', 40),\n",
       " ('particular', 40),\n",
       " ('quite', 40),\n",
       " ('rolled', 40),\n",
       " ('harpoon', 40),\n",
       " ('though,', 40),\n",
       " ('broken', 40),\n",
       " ('last,', 40),\n",
       " ('harpooneers', 39),\n",
       " ('flask', 39),\n",
       " ('seas', 39),\n",
       " ('ocean', 39),\n",
       " ('behind', 39),\n",
       " ('death', 39),\n",
       " ('sat', 39),\n",
       " ('struck', 39),\n",
       " ('knew', 39),\n",
       " ('nigh', 39),\n",
       " ('wondrous', 39),\n",
       " ('mark', 38),\n",
       " ('out,', 38),\n",
       " ('“and', 38),\n",
       " ('brought', 38),\n",
       " ('green', 38),\n",
       " ('especially', 38),\n",
       " ('mortal', 38),\n",
       " ('eyes,', 38),\n",
       " ('various', 38),\n",
       " ('sharp', 38),\n",
       " ('savage', 38),\n",
       " ('what’s', 38),\n",
       " ('makes', 38),\n",
       " ('o', 38),\n",
       " ('aloft', 37),\n",
       " ('us,', 37),\n",
       " ('lost', 37),\n",
       " ('“what', 37),\n",
       " ('work', 37),\n",
       " ('placed', 37),\n",
       " ('wind', 37),\n",
       " ('land', 37),\n",
       " ('around', 37),\n",
       " ('itself', 37),\n",
       " ('long,', 37),\n",
       " ('human', 37),\n",
       " ('felt', 37),\n",
       " ('concerning', 37),\n",
       " ('gave', 37),\n",
       " ('plainly', 37),\n",
       " ('golden', 36),\n",
       " ('view', 36),\n",
       " ('tail', 36),\n",
       " ('cabin', 36),\n",
       " ('leaving', 36),\n",
       " ('there!', 36),\n",
       " ('soul', 36),\n",
       " ('anything', 36),\n",
       " ('single', 36),\n",
       " ('holding', 36),\n",
       " ('ready', 36),\n",
       " ('ﬁve', 36),\n",
       " ('people', 36),\n",
       " ('chance', 36),\n",
       " ('bottom', 36),\n",
       " ('t', 36),\n",
       " ('thee,', 36),\n",
       " ('boat’s', 36),\n",
       " ('heads', 35),\n",
       " ('third', 35),\n",
       " ('therefore', 35),\n",
       " ('said,', 35),\n",
       " ('art', 35),\n",
       " ('voice', 35),\n",
       " ('other,', 35),\n",
       " ('all.', 35),\n",
       " ('no,', 35),\n",
       " ('time.', 35),\n",
       " ('blue', 35),\n",
       " ('help', 35),\n",
       " ('back,', 35),\n",
       " ('more,', 35),\n",
       " ('them;', 35),\n",
       " ('given', 35),\n",
       " ('“aye,', 35),\n",
       " ('world,', 34),\n",
       " ('clear', 34),\n",
       " ('speak', 34),\n",
       " ('nearly', 34),\n",
       " ('bear', 34),\n",
       " ('passed', 34),\n",
       " ('voyage,', 34),\n",
       " ('famous', 34),\n",
       " ('nevertheless,', 34),\n",
       " ('“but', 34),\n",
       " ('sudden', 34),\n",
       " ('again.', 34),\n",
       " ('flask,', 34),\n",
       " ('watch', 33),\n",
       " ('bones', 33),\n",
       " ('ﬁxed', 33),\n",
       " ('in,', 33),\n",
       " ('account', 33),\n",
       " ('sailors', 33),\n",
       " ('red', 33),\n",
       " ('says', 33),\n",
       " ('indeed', 33),\n",
       " ('held', 33),\n",
       " ('seeing', 33),\n",
       " ('completely', 33),\n",
       " ('turns', 33),\n",
       " ('bildad,', 33),\n",
       " ('de', 33),\n",
       " ('sailor.', 33),\n",
       " ('boats,', 32),\n",
       " ('blood', 32),\n",
       " ('fell', 32),\n",
       " ('shot', 32),\n",
       " ('cape', 32),\n",
       " ('sure', 32),\n",
       " ('however,', 32),\n",
       " ('himself,', 32),\n",
       " ('darted', 32),\n",
       " ('heavy', 32),\n",
       " ('drawing', 32),\n",
       " ('morning', 32),\n",
       " ('hardly', 32),\n",
       " ('sound', 32),\n",
       " ('there;', 32),\n",
       " ('sailed', 32),\n",
       " ('down,', 32),\n",
       " ('times,', 32),\n",
       " ('natural', 32),\n",
       " ('crew,', 32),\n",
       " ('greenland', 32),\n",
       " ('carpenter', 31),\n",
       " ('hat', 31),\n",
       " ('short', 31),\n",
       " ('ship.', 31),\n",
       " ('there.', 31),\n",
       " ('sign', 31),\n",
       " ('bed', 31),\n",
       " ('want', 31),\n",
       " ('man.', 31),\n",
       " ('unknown', 31),\n",
       " ('show', 31),\n",
       " ('fast', 31),\n",
       " ('waters', 31),\n",
       " ('pequod,', 31),\n",
       " ('d’ye', 31),\n",
       " ('away,', 31),\n",
       " ('meets', 30),\n",
       " ('cofﬁn', 30),\n",
       " ('devil', 30),\n",
       " ('ﬁfty', 30),\n",
       " ('ﬁre', 30),\n",
       " ('upper', 30),\n",
       " ('sleep', 30),\n",
       " ('really', 30),\n",
       " ('parts', 30),\n",
       " ('already', 30),\n",
       " ('i.', 30),\n",
       " ('be,', 30),\n",
       " ('fair', 30),\n",
       " ('therefore,', 30),\n",
       " ('carried', 30),\n",
       " ('cast', 30),\n",
       " ('craft', 30),\n",
       " ('remained', 30),\n",
       " ('except', 30),\n",
       " ('spout', 30),\n",
       " ('mast�head', 29),\n",
       " ('first', 29),\n",
       " ('somehow', 29),\n",
       " ('king', 29),\n",
       " ('try', 29),\n",
       " ('either', 29),\n",
       " ('monster', 29),\n",
       " ('chief', 29),\n",
       " ('perhaps,', 29),\n",
       " ('didn’t', 29),\n",
       " ('ﬁnal', 29),\n",
       " ('low', 29),\n",
       " ('head.', 29),\n",
       " ('seamen', 29),\n",
       " ('cry', 29),\n",
       " ('stranger', 29),\n",
       " ('i’ve', 29),\n",
       " ('course', 29),\n",
       " ('top', 29),\n",
       " ('during', 29),\n",
       " ('me;', 29),\n",
       " ('proper', 29),\n",
       " ('done,', 29),\n",
       " ('object', 29),\n",
       " ('peleg', 29),\n",
       " ('sailing', 29),\n",
       " ('stubb’s', 28),\n",
       " ('skeleton', 28),\n",
       " ('“he', 28),\n",
       " ('huge', 28),\n",
       " ('ﬁsh,', 28),\n",
       " ('pretty', 28),\n",
       " ('distance', 28),\n",
       " ('vessel', 28),\n",
       " ('rope', 28),\n",
       " ('american', 28),\n",
       " ('else', 28),\n",
       " ('deck.', 28),\n",
       " ('idea', 28),\n",
       " ('tossed', 28),\n",
       " ('itself,', 28),\n",
       " ('rest', 28),\n",
       " ('stands', 28),\n",
       " ('become', 28),\n",
       " ('sailor', 28),\n",
       " ('none', 28),\n",
       " ('done', 28),\n",
       " ('moment,', 28),\n",
       " ('rolling', 28),\n",
       " ('use', 28),\n",
       " ('strangely', 28),\n",
       " ('line,', 28),\n",
       " ('tashtego', 28),\n",
       " ('leaning', 27),\n",
       " ('cutting', 27),\n",
       " ('kill', 27),\n",
       " ('talk', 27),\n",
       " ('ancient', 27),\n",
       " ('waves', 27),\n",
       " ('form', 27),\n",
       " ('nantucket,', 27),\n",
       " ('mate', 27),\n",
       " ('forward', 27),\n",
       " ('mass', 27),\n",
       " ('air.', 27),\n",
       " ('hours', 27),\n",
       " ('possibly', 27),\n",
       " ('besides,', 27),\n",
       " ('to,', 27),\n",
       " ('act', 27),\n",
       " ('her,', 27),\n",
       " ('look,', 27),\n",
       " ('wooden', 27),\n",
       " ('bone', 27),\n",
       " ('eyeing', 27),\n",
       " ('giving', 27),\n",
       " ('thing,', 27),\n",
       " ('wholly', 27),\n",
       " ('rising', 27),\n",
       " ('whiteness', 26),\n",
       " ('alone', 26),\n",
       " ('not,', 26),\n",
       " ('together', 26),\n",
       " ('killed', 26),\n",
       " ('things,', 26),\n",
       " ('lie', 26),\n",
       " ('royal', 26),\n",
       " ('passage', 26),\n",
       " ('fresh', 26),\n",
       " ('enormous', 26),\n",
       " ('entirely', 26),\n",
       " ('unless', 26),\n",
       " ('considering', 26),\n",
       " ('middle', 26),\n",
       " ('ﬂying', 26),\n",
       " ('getting', 26),\n",
       " ('i’m', 26),\n",
       " ('thinking', 26),\n",
       " ('plain', 26),\n",
       " ('touch', 26),\n",
       " ('queequeg’s', 26),\n",
       " ('sideways', 26),\n",
       " ('across', 26),\n",
       " ('life,', 26),\n",
       " ('start', 26),\n",
       " ('ahab.', 26),\n",
       " ('pip', 26),\n",
       " ('gentlemen,', 26),\n",
       " ('hoisted', 26),\n",
       " ('ahab;', 25),\n",
       " ('pictures', 25),\n",
       " ('queer', 25),\n",
       " ('altogether', 25),\n",
       " ('strike', 25),\n",
       " ('thirty', 25),\n",
       " ('foot', 25),\n",
       " ('can’t', 25),\n",
       " ('seas,', 25),\n",
       " ('carry', 25),\n",
       " ('thrown', 25),\n",
       " ('generally', 25),\n",
       " ('mate,', 25),\n",
       " ('home', 25),\n",
       " ('previous', 25),\n",
       " ('seated', 25),\n",
       " ('considerable', 25),\n",
       " ('easy', 25),\n",
       " ('started', 25),\n",
       " ('suppose', 25),\n",
       " ('hung', 25),\n",
       " ('somewhat', 25),\n",
       " ('bed,', 25),\n",
       " ('saying', 25),\n",
       " ('won’t', 25),\n",
       " ('light,', 25),\n",
       " ('one.', 25),\n",
       " ('hope', 25),\n",
       " ('creature', 25),\n",
       " ('will,', 25),\n",
       " ('pointed', 25),\n",
       " ('2', 24),\n",
       " ('forecastle', 24),\n",
       " ('supper', 24),\n",
       " ('“there', 24),\n",
       " ('ﬂoating', 24),\n",
       " ('kind', 24),\n",
       " ('seldom', 24),\n",
       " ('forty', 24),\n",
       " ('different', 24),\n",
       " ('dutch', 24),\n",
       " ('watery', 24),\n",
       " ('hour', 24),\n",
       " ('tail,', 24),\n",
       " ('over,', 24),\n",
       " ('certainly', 24),\n",
       " ('takes', 24),\n",
       " ('owing', 24),\n",
       " ('looks', 24),\n",
       " ('instead', 24),\n",
       " ('ﬁshery,', 24),\n",
       " ('god,', 24),\n",
       " ('twenty', 24),\n",
       " ('born', 24),\n",
       " ('bodily', 24),\n",
       " ('bildad', 24),\n",
       " ('man;', 24),\n",
       " ('lance', 24),\n",
       " ('sails', 24),\n",
       " ('bearing', 24),\n",
       " ('sharks', 24),\n",
       " ('st.', 24),\n",
       " ('hast', 23),\n",
       " ('strong', 23),\n",
       " ('received', 23),\n",
       " ('nature', 23),\n",
       " ('purpose', 23),\n",
       " ('’tis', 23),\n",
       " ('manner', 23),\n",
       " ('regular', 23),\n",
       " ('precisely', 23),\n",
       " ('believe', 23),\n",
       " ('soul,', 23),\n",
       " ('stop', 23),\n",
       " ('followed', 23),\n",
       " ('house', 23),\n",
       " ('ﬁery', 23),\n",
       " ('lines', 23),\n",
       " ('real', 23),\n",
       " ('ran', 23),\n",
       " ('sweet', 23),\n",
       " ('ground', 23),\n",
       " ('read', 23),\n",
       " ('fact', 23),\n",
       " ('dropped', 23),\n",
       " ('suspended', 23),\n",
       " ('peleg,', 23),\n",
       " ('according', 23),\n",
       " ('secret', 23),\n",
       " ('brow', 23),\n",
       " ('pull', 23),\n",
       " ('3', 22),\n",
       " ('lowering', 22),\n",
       " ('midnight', 22),\n",
       " ('late', 22),\n",
       " ('leviathan,', 22),\n",
       " ('hearts', 22),\n",
       " ('mouth,', 22),\n",
       " ('six', 22),\n",
       " ('mouth', 22),\n",
       " ('bulk', 22),\n",
       " ('masts', 22),\n",
       " ('“a', 22),\n",
       " ('ﬂew', 22),\n",
       " ('free', 22),\n",
       " ('species', 22),\n",
       " ('miles', 22),\n",
       " ('“it', 22),\n",
       " ('drop', 22),\n",
       " ('land,', 22),\n",
       " ('so.', 22),\n",
       " ('others', 22),\n",
       " ('became', 22),\n",
       " ('cold', 22),\n",
       " ('darkness', 22),\n",
       " ('thick', 22),\n",
       " ('air;', 22),\n",
       " ('jet', 22),\n",
       " ('place,', 22),\n",
       " ('mariners', 22),\n",
       " ('feeling', 22),\n",
       " ('similar', 22),\n",
       " ('short,', 22),\n",
       " ('commanded', 22),\n",
       " ('steel', 22),\n",
       " ('knows', 22),\n",
       " ('bows', 22),\n",
       " ('heaven', 22),\n",
       " ('it!', 22),\n",
       " ('pass', 22),\n",
       " ('whales.', 22),\n",
       " ('glance', 22),\n",
       " ('visible', 22),\n",
       " ('off,', 22),\n",
       " ('gazing', 22),\n",
       " ('friend', 21),\n",
       " ('fedallah', 21),\n",
       " ('town�ho’s', 21),\n",
       " ('regarded', 21),\n",
       " ('grow', 21),\n",
       " ('calm', 21),\n",
       " ('learned', 21),\n",
       " ('battle', 21),\n",
       " ('fear', 21),\n",
       " ('oil,', 21),\n",
       " ('jaw', 21),\n",
       " ('eight', 21),\n",
       " ('laid', 21),\n",
       " ('again;', 21),\n",
       " ('silent', 21),\n",
       " ('it?', 21),\n",
       " ('that.', 21),\n",
       " ('formed', 21),\n",
       " ('exactly', 21),\n",
       " ('quick', 21),\n",
       " ('original', 21),\n",
       " ('way.', 21),\n",
       " ('door', 21),\n",
       " ('teeth', 21),\n",
       " ('ﬁlled', 21),\n",
       " ('swift', 21),\n",
       " ('fellow', 21),\n",
       " ('’em', 21),\n",
       " ('higher', 21),\n",
       " ('thoughts', 21),\n",
       " ('hot', 21),\n",
       " ('passing', 21),\n",
       " ('hidden', 21),\n",
       " ('instant,', 21),\n",
       " ('drew', 21),\n",
       " ('also,', 21),\n",
       " ('deadly', 21),\n",
       " ('here.', 21),\n",
       " ('beat', 21),\n",
       " ('cabin,', 21),\n",
       " ('power', 21),\n",
       " ('arms', 21),\n",
       " ('smoke', 21),\n",
       " ('here’s', 21),\n",
       " ('wonder', 21),\n",
       " ('hammer', 21),\n",
       " ('dashed', 21),\n",
       " ('leg,', 21),\n",
       " ('remains', 21),\n",
       " ('blow', 21),\n",
       " ('level', 21),\n",
       " ('pulling', 21),\n",
       " ('0', 21),\n",
       " ('now.', 20),\n",
       " ('world.', 20),\n",
       " ('besides', 20),\n",
       " ('sir', 20),\n",
       " ('holy', 20),\n",
       " ('ocean,', 20),\n",
       " ('coast', 20),\n",
       " ('french', 20),\n",
       " ('ﬁnally', 20),\n",
       " ('boat;', 20),\n",
       " ('mild', 20),\n",
       " ('mean', 20),\n",
       " ('part,', 20),\n",
       " ('creatures', 20),\n",
       " ('us.', 20),\n",
       " ('drawn', 20),\n",
       " ('were,', 20),\n",
       " ('mine', 20),\n",
       " ('fancy', 20),\n",
       " ('number', 20),\n",
       " ('harpooneer,', 20),\n",
       " ('on.', 20),\n",
       " ('spare', 20),\n",
       " ('now;', 20),\n",
       " ('see,', 20),\n",
       " ('slightest', 20),\n",
       " ('lofty', 20),\n",
       " ('gold', 20),\n",
       " ('fore', 20),\n",
       " ('con�', 20),\n",
       " ('forehead', 20),\n",
       " ('doubt', 20),\n",
       " ('hence', 20),\n",
       " ('harpoon,', 20),\n",
       " ('complete', 20),\n",
       " ('water;', 20),\n",
       " ('below', 20),\n",
       " ('waters,', 20),\n",
       " ('mates', 20),\n",
       " ('skin', 20),\n",
       " ('invested', 20),\n",
       " ('end,', 20),\n",
       " ('steelkilt', 20),\n",
       " ('54', 19),\n",
       " ('honor', 19),\n",
       " ('body,', 19),\n",
       " ('earth,', 19),\n",
       " ('empty', 19),\n",
       " ('“in', 19),\n",
       " ('swimming', 19),\n",
       " ('jaws', 19),\n",
       " ('stern', 19),\n",
       " ('stove', 19),\n",
       " ('bow,', 19),\n",
       " ('striking', 19),\n",
       " ('directly', 19),\n",
       " ('lies', 19),\n",
       " ('separate', 19),\n",
       " ('thinks', 19),\n",
       " ('horn', 19),\n",
       " ('following', 19),\n",
       " ('ha!', 19),\n",
       " ('sitting', 19),\n",
       " ('tall', 19),\n",
       " ...]"
      ]
     },
     "execution_count": 70,
     "metadata": {},
     "output_type": "execute_result"
    }
   ],
   "source": [
    "sorted(wordcount.items(), key=lambda x: x[1], reverse=True)"
   ]
  },
  {
   "cell_type": "code",
   "execution_count": 71,
   "metadata": {},
   "outputs": [],
   "source": [
    "import pandas as pd, numpy as np"
   ]
  },
  {
   "cell_type": "code",
   "execution_count": 72,
   "metadata": {},
   "outputs": [],
   "source": [
    "df10 = pd.DataFrame(wordcount.items(), columns=['word','count'])"
   ]
  },
  {
   "cell_type": "code",
   "execution_count": 73,
   "metadata": {},
   "outputs": [
    {
     "data": {
      "text/html": [
       "<div>\n",
       "<style scoped>\n",
       "    .dataframe tbody tr th:only-of-type {\n",
       "        vertical-align: middle;\n",
       "    }\n",
       "\n",
       "    .dataframe tbody tr th {\n",
       "        vertical-align: top;\n",
       "    }\n",
       "\n",
       "    .dataframe thead th {\n",
       "        text-align: right;\n",
       "    }\n",
       "</style>\n",
       "<table border=\"1\" class=\"dataframe\">\n",
       "  <thead>\n",
       "    <tr style=\"text-align: right;\">\n",
       "      <th></th>\n",
       "      <th>word</th>\n",
       "      <th>count</th>\n",
       "    </tr>\n",
       "  </thead>\n",
       "  <tbody>\n",
       "    <tr>\n",
       "      <th>0</th>\n",
       "      <td>moby�dick</td>\n",
       "      <td>1</td>\n",
       "    </tr>\n",
       "    <tr>\n",
       "      <th>1</th>\n",
       "      <td>or</td>\n",
       "      <td>701</td>\n",
       "    </tr>\n",
       "  </tbody>\n",
       "</table>\n",
       "</div>"
      ],
      "text/plain": [
       "        word  count\n",
       "0  moby�dick      1\n",
       "1         or    701"
      ]
     },
     "execution_count": 73,
     "metadata": {},
     "output_type": "execute_result"
    }
   ],
   "source": [
    "df10.head(2)"
   ]
  },
  {
   "cell_type": "code",
   "execution_count": 74,
   "metadata": {},
   "outputs": [],
   "source": [
    "# resort the df by number of hits\n",
    "df10 = df10.sort_values(by='count', ascending=False).head(50)"
   ]
  },
  {
   "cell_type": "code",
   "execution_count": 75,
   "metadata": {},
   "outputs": [
    {
     "data": {
      "text/html": [
       "<div>\n",
       "<style scoped>\n",
       "    .dataframe tbody tr th:only-of-type {\n",
       "        vertical-align: middle;\n",
       "    }\n",
       "\n",
       "    .dataframe tbody tr th {\n",
       "        vertical-align: top;\n",
       "    }\n",
       "\n",
       "    .dataframe thead th {\n",
       "        text-align: right;\n",
       "    }\n",
       "</style>\n",
       "<table border=\"1\" class=\"dataframe\">\n",
       "  <thead>\n",
       "    <tr style=\"text-align: right;\">\n",
       "      <th></th>\n",
       "      <th>word</th>\n",
       "      <th>count</th>\n",
       "    </tr>\n",
       "  </thead>\n",
       "  <tbody>\n",
       "    <tr>\n",
       "      <th>2</th>\n",
       "      <td>the</td>\n",
       "      <td>14747</td>\n",
       "    </tr>\n",
       "    <tr>\n",
       "      <th>9</th>\n",
       "      <td>of</td>\n",
       "      <td>6590</td>\n",
       "    </tr>\n",
       "    <tr>\n",
       "      <th>106</th>\n",
       "      <td>and</td>\n",
       "      <td>6323</td>\n",
       "    </tr>\n",
       "    <tr>\n",
       "      <th>54</th>\n",
       "      <td>a</td>\n",
       "      <td>4708</td>\n",
       "    </tr>\n",
       "    <tr>\n",
       "      <th>19</th>\n",
       "      <td>to</td>\n",
       "      <td>4538</td>\n",
       "    </tr>\n",
       "  </tbody>\n",
       "</table>\n",
       "</div>"
      ],
      "text/plain": [
       "    word  count\n",
       "2    the  14747\n",
       "9     of   6590\n",
       "106  and   6323\n",
       "54     a   4708\n",
       "19    to   4538"
      ]
     },
     "execution_count": 75,
     "metadata": {},
     "output_type": "execute_result"
    }
   ],
   "source": [
    "df10.head()"
   ]
  },
  {
   "cell_type": "code",
   "execution_count": 76,
   "metadata": {},
   "outputs": [
    {
     "data": {
      "text/plain": [
       "{'the': 14747,\n",
       " 'of': 6590,\n",
       " 'and': 6323,\n",
       " 'a': 4708,\n",
       " 'to': 4538,\n",
       " 'in': 4110,\n",
       " '.': 3485,\n",
       " 'that': 2780,\n",
       " 'his': 2499,\n",
       " 'it': 1787,\n",
       " 'i': 1785,\n",
       " 'as': 1723,\n",
       " 'he': 1717,\n",
       " 'with': 1704,\n",
       " 'but': 1701,\n",
       " '—': 1660,\n",
       " 'is': 1597,\n",
       " 'was': 1582,\n",
       " 'for': 1540,\n",
       " 'all': 1374,\n",
       " 'at': 1317,\n",
       " 'this': 1266,\n",
       " 'by': 1155,\n",
       " 'from': 1087,\n",
       " 'not': 1078,\n",
       " 'be': 990,\n",
       " 'on': 958,\n",
       " 'so': 893,\n",
       " 'one': 795,\n",
       " 'you': 783,\n",
       " 'had': 761,\n",
       " 'have': 760,\n",
       " 'or': 701,\n",
       " 'were': 648,\n",
       " 'they': 642,\n",
       " 'their': 621,\n",
       " 'some': 608,\n",
       " 'an': 594,\n",
       " 'him': 580,\n",
       " 'my': 577,\n",
       " 'are': 576,\n",
       " 'like': 572,\n",
       " 'whale': 571,\n",
       " 'which': 563,\n",
       " 'when': 554,\n",
       " 'upon': 553,\n",
       " 'chapter': 549,\n",
       " 'into': 519,\n",
       " 'there': 518,\n",
       " 'now': 513}"
      ]
     },
     "execution_count": 76,
     "metadata": {},
     "output_type": "execute_result"
    }
   ],
   "source": [
    "dict(list(sorted(wordcount.items(), key=lambda x: x[1], reverse=True))[:50])"
   ]
  },
  {
   "cell_type": "markdown",
   "metadata": {},
   "source": [
    "#### plotting word counts"
   ]
  },
  {
   "cell_type": "code",
   "execution_count": 77,
   "metadata": {},
   "outputs": [],
   "source": [
    "# Create a dataframe with the top 50 returns, sorted by value\n",
    "df30 = pd.DataFrame.from_dict(dict(list(sorted(wordcount.items(), key=lambda x: x[1], reverse=True))[:50]).items())"
   ]
  },
  {
   "cell_type": "code",
   "execution_count": 78,
   "metadata": {},
   "outputs": [
    {
     "data": {
      "text/html": [
       "<div>\n",
       "<style scoped>\n",
       "    .dataframe tbody tr th:only-of-type {\n",
       "        vertical-align: middle;\n",
       "    }\n",
       "\n",
       "    .dataframe tbody tr th {\n",
       "        vertical-align: top;\n",
       "    }\n",
       "\n",
       "    .dataframe thead th {\n",
       "        text-align: right;\n",
       "    }\n",
       "</style>\n",
       "<table border=\"1\" class=\"dataframe\">\n",
       "  <thead>\n",
       "    <tr style=\"text-align: right;\">\n",
       "      <th></th>\n",
       "      <th>0</th>\n",
       "      <th>1</th>\n",
       "    </tr>\n",
       "  </thead>\n",
       "  <tbody>\n",
       "    <tr>\n",
       "      <th>0</th>\n",
       "      <td>the</td>\n",
       "      <td>14747</td>\n",
       "    </tr>\n",
       "    <tr>\n",
       "      <th>1</th>\n",
       "      <td>of</td>\n",
       "      <td>6590</td>\n",
       "    </tr>\n",
       "  </tbody>\n",
       "</table>\n",
       "</div>"
      ],
      "text/plain": [
       "     0      1\n",
       "0  the  14747\n",
       "1   of   6590"
      ]
     },
     "execution_count": 78,
     "metadata": {},
     "output_type": "execute_result"
    }
   ],
   "source": [
    "df30.head(2)"
   ]
  },
  {
   "cell_type": "code",
   "execution_count": 79,
   "metadata": {},
   "outputs": [],
   "source": [
    "# set the column names\n",
    "df30.columns = ['word','count']"
   ]
  },
  {
   "cell_type": "code",
   "execution_count": 80,
   "metadata": {},
   "outputs": [
    {
     "data": {
      "text/html": [
       "<div>\n",
       "<style scoped>\n",
       "    .dataframe tbody tr th:only-of-type {\n",
       "        vertical-align: middle;\n",
       "    }\n",
       "\n",
       "    .dataframe tbody tr th {\n",
       "        vertical-align: top;\n",
       "    }\n",
       "\n",
       "    .dataframe thead th {\n",
       "        text-align: right;\n",
       "    }\n",
       "</style>\n",
       "<table border=\"1\" class=\"dataframe\">\n",
       "  <thead>\n",
       "    <tr style=\"text-align: right;\">\n",
       "      <th></th>\n",
       "      <th>word</th>\n",
       "      <th>count</th>\n",
       "    </tr>\n",
       "  </thead>\n",
       "  <tbody>\n",
       "    <tr>\n",
       "      <th>0</th>\n",
       "      <td>the</td>\n",
       "      <td>14747</td>\n",
       "    </tr>\n",
       "    <tr>\n",
       "      <th>1</th>\n",
       "      <td>of</td>\n",
       "      <td>6590</td>\n",
       "    </tr>\n",
       "  </tbody>\n",
       "</table>\n",
       "</div>"
      ],
      "text/plain": [
       "  word  count\n",
       "0  the  14747\n",
       "1   of   6590"
      ]
     },
     "execution_count": 80,
     "metadata": {},
     "output_type": "execute_result"
    }
   ],
   "source": [
    "df30.head(2)"
   ]
  },
  {
   "cell_type": "code",
   "execution_count": 81,
   "metadata": {},
   "outputs": [
    {
     "name": "stderr",
     "output_type": "stream",
     "text": [
      "<ipython-input-81-8b2d90efee70>:2: UserWarning: FixedFormatter should only be used together with FixedLocator\n",
      "  ax.set_xticklabels(df30.word)\n"
     ]
    },
    {
     "data": {
      "text/plain": [
       "Text(0, 0.5, 'count')"
      ]
     },
     "execution_count": 81,
     "metadata": {},
     "output_type": "execute_result"
    },
    {
     "data": {
      "image/png": "[encoded data removed]",
      "text/plain": [
       "<Figure size 432x288 with 1 Axes>"
      ]
     },
     "metadata": {
      "needs_background": "light"
     },
     "output_type": "display_data"
    }
   ],
   "source": [
    "ax = df30.plot()\n",
    "ax.set_xticklabels(df30.word)\n",
    "ax.set_xlabel('word')\n",
    "ax.set_ylabel('count')"
   ]
  },
  {
   "cell_type": "markdown",
   "metadata": {},
   "source": [
    "### Problem 6\n",
    "\n",
    "**tail a unix file in python**\n",
    "\n",
    "recreate UNIX tail -F in python\n",
    "\n",
    "- create a local file called \"logfile.log\"\n",
    "\n",
    "I'm doing this with the os. functions"
   ]
  },
  {
   "cell_type": "code",
   "execution_count": 82,
   "metadata": {},
   "outputs": [],
   "source": [
    "import time, os, threading"
   ]
  },
  {
   "cell_type": "code",
   "execution_count": 83,
   "metadata": {},
   "outputs": [],
   "source": [
    "logfile = open(\"logfile.log\",'r')"
   ]
  },
  {
   "cell_type": "code",
   "execution_count": 84,
   "metadata": {},
   "outputs": [
    {
     "data": {
      "text/plain": [
       "90"
      ]
     },
     "execution_count": 84,
     "metadata": {},
     "output_type": "execute_result"
    }
   ],
   "source": [
    "# now go to the end of the file. Will update for new blocks\n",
    "logfile.seek(0, os.SEEK_END)"
   ]
  },
  {
   "cell_type": "markdown",
   "metadata": {},
   "source": [
    "After starting this, run a shell command to add bytes:\n",
    "\n",
    "for x in {1..5} ; do echo $x >> logfile.log; done"
   ]
  },
  {
   "cell_type": "markdown",
   "metadata": {},
   "source": [
    "The simple case here is\n",
    "```\n",
    "while True:\n",
    "    line = logfile.readline()\n",
    "    # add a sleep\n",
    "    if not line:\n",
    "        time.sleep(0.1)\n",
    "        continue\n",
    "    print(line)\n",
    "    ```\n",
    "    \n",
    "    but that would hang up the notebook, so we'll add a conditional wrapper."
   ]
  },
  {
   "cell_type": "code",
   "execution_count": 85,
   "metadata": {},
   "outputs": [],
   "source": [
    "def quitting():\n",
    "    \"\"\"\n",
    "    set the quitter var to 0\n",
    "    \"\"\"\n",
    "    global quitter\n",
    "    quitter = 0\n",
    "    "
   ]
  },
  {
   "cell_type": "code",
   "execution_count": 91,
   "metadata": {},
   "outputs": [],
   "source": [
    "# 60 second timeout. You can change this to whatever lets you test the tail logic\n",
    "quitter = 1\n",
    "timer = threading.Timer(60.0, quitting)"
   ]
  },
  {
   "cell_type": "code",
   "execution_count": 92,
   "metadata": {},
   "outputs": [
    {
     "name": "stdout",
     "output_type": "stream",
     "text": [
      "5\n",
      "\n",
      "1\n",
      "\n",
      "2\n",
      "\n",
      "3\n",
      "\n",
      "4\n",
      "\n",
      "5\n",
      "\n",
      "1\n",
      "\n",
      "2\n",
      "\n",
      "3\n",
      "\n",
      "4\n",
      "\n",
      "5\n",
      "\n"
     ]
    }
   ],
   "source": [
    "# set a timer so this version doesn't run forever\n",
    "timer.start()\n",
    "while quitter > 0:\n",
    "    line = logfile.readline()\n",
    "    # add a sleep\n",
    "    if not line:\n",
    "        time.sleep(0.1)\n",
    "        continue\n",
    "    print(line)"
   ]
  },
  {
   "cell_type": "markdown",
   "metadata": {},
   "source": [
    "\n",
    "**As a function**"
   ]
  },
  {
   "cell_type": "code",
   "execution_count": 93,
   "metadata": {},
   "outputs": [],
   "source": [
    "def tail(file):\n",
    "    global quitter\n",
    "    logfile = open(file,'r')\n",
    "    logfile.seek(0, os.SEEK_END)\n",
    "    while quitter > 0:\n",
    "        line = logfile.readline()\n",
    "        if not line:\n",
    "            time.sleep(0.1)\n",
    "            continue\n",
    "        print(line)\n"
   ]
  },
  {
   "cell_type": "code",
   "execution_count": 94,
   "metadata": {},
   "outputs": [],
   "source": [
    "quitter = 1\n",
    "timer = threading.Timer(60.0, quitting)\n"
   ]
  },
  {
   "cell_type": "code",
   "execution_count": 95,
   "metadata": {},
   "outputs": [
    {
     "name": "stdout",
     "output_type": "stream",
     "text": [
      "1\n",
      "\n",
      "2\n",
      "\n",
      "3\n",
      "\n",
      "4\n",
      "\n",
      "5\n",
      "\n"
     ]
    }
   ],
   "source": [
    "timer.start()\n",
    "tail('logfile.log')"
   ]
  },
  {
   "cell_type": "markdown",
   "metadata": {},
   "source": [
    "### Problem 7 \n",
    "\n",
    "**Simple letter counting in a string**\n",
    "\n",
    "Given input 'aaaabbbcccd' return [('a', 4), ('b', 3), ('c', 3), ('d', 1)]\n",
    "\n"
   ]
  },
  {
   "cell_type": "code",
   "execution_count": 96,
   "metadata": {},
   "outputs": [],
   "source": [
    "mystr1 = 'aaaabbbcccd'\n",
    "mystr2='the quick brown fox jumped over the lazy dog'"
   ]
  },
  {
   "cell_type": "code",
   "execution_count": 97,
   "metadata": {},
   "outputs": [],
   "source": [
    "def count1(message):\n",
    "    mycount = {}\n",
    "    for x in list(message):\n",
    "        if x in mycount.keys():\n",
    "            mycount[x] +=1\n",
    "        else:\n",
    "            mycount[x] = 1\n",
    "    return [(k,v) for k, v in mycount.items()]"
   ]
  },
  {
   "cell_type": "code",
   "execution_count": 98,
   "metadata": {},
   "outputs": [
    {
     "data": {
      "text/plain": [
       "[('a', 4), ('b', 3), ('c', 3), ('d', 1)]"
      ]
     },
     "execution_count": 98,
     "metadata": {},
     "output_type": "execute_result"
    }
   ],
   "source": [
    "count1(mystr1)"
   ]
  },
  {
   "cell_type": "code",
   "execution_count": 99,
   "metadata": {},
   "outputs": [
    {
     "data": {
      "text/plain": [
       "[('t', 2),\n",
       " ('h', 2),\n",
       " ('e', 4),\n",
       " (' ', 8),\n",
       " ('q', 1),\n",
       " ('u', 2),\n",
       " ('i', 1),\n",
       " ('c', 1),\n",
       " ('k', 1),\n",
       " ('b', 1),\n",
       " ('r', 2),\n",
       " ('o', 4),\n",
       " ('w', 1),\n",
       " ('n', 1),\n",
       " ('f', 1),\n",
       " ('x', 1),\n",
       " ('j', 1),\n",
       " ('m', 1),\n",
       " ('p', 1),\n",
       " ('d', 2),\n",
       " ('v', 1),\n",
       " ('l', 1),\n",
       " ('a', 1),\n",
       " ('z', 1),\n",
       " ('y', 1),\n",
       " ('g', 1)]"
      ]
     },
     "execution_count": 99,
     "metadata": {},
     "output_type": "execute_result"
    }
   ],
   "source": [
    "count1(mystr2)"
   ]
  },
  {
   "cell_type": "markdown",
   "metadata": {},
   "source": [
    "**run length encoding of messages**\n",
    "\n",
    "very similar problem with a change in output formatting. \n",
    "\n",
    "in this case compress the message to summarize runs of similar characters.\n",
    "e.g.\n",
    "aaaabbbcccd has 3 runs - 4xa's 3xb's and 3xc's. This formats them such that the message takes fewer bytes are transmitted to encode the same message - a4b3c2d1"
   ]
  },
  {
   "cell_type": "code",
   "execution_count": 100,
   "metadata": {},
   "outputs": [],
   "source": [
    "def count2(message):\n",
    "    mycount={}\n",
    "    for x in list(message):\n",
    "        if x in mycount.keys():\n",
    "            mycount[x] +=1\n",
    "        else:\n",
    "            mycount[x] = 1\n",
    "    output = ''\n",
    "    for k, v in mycount.items():\n",
    "        output = output + k + str(v)\n",
    "    return output"
   ]
  },
  {
   "cell_type": "code",
   "execution_count": 101,
   "metadata": {},
   "outputs": [
    {
     "data": {
      "text/plain": [
       "'a4b3c3d1'"
      ]
     },
     "execution_count": 101,
     "metadata": {},
     "output_type": "execute_result"
    }
   ],
   "source": [
    "count2(mystr1)"
   ]
  },
  {
   "cell_type": "code",
   "execution_count": 102,
   "metadata": {},
   "outputs": [
    {
     "data": {
      "text/plain": [
       "'t2h2e4 8q1u2i1c1k1b1r2o4w1n1f1x1j1m1p1d2v1l1a1z1y1g1'"
      ]
     },
     "execution_count": 102,
     "metadata": {},
     "output_type": "execute_result"
    }
   ],
   "source": [
    "count2(mystr2)"
   ]
  },
  {
   "cell_type": "markdown",
   "metadata": {},
   "source": [
    "This basically works, but doesn't sort the results and spaces counts aren't very clearly marked\n"
   ]
  },
  {
   "cell_type": "code",
   "execution_count": 103,
   "metadata": {},
   "outputs": [],
   "source": [
    "def count3(message):\n",
    "    mycount={}\n",
    "    for x in list(message):\n",
    "        if x in mycount.keys():\n",
    "            mycount[x] +=1\n",
    "        else:\n",
    "            mycount[x] = 1\n",
    "    output = ''\n",
    "    for k, v in sorted(mycount.items(), key=lambda x: x[1], reverse=True):\n",
    "        if k == ' ':\n",
    "            k = 'SPACES'\n",
    "        newitem=f'{k}{v}'\n",
    "        output = output + str(newitem)\n",
    "    return output"
   ]
  },
  {
   "cell_type": "code",
   "execution_count": 104,
   "metadata": {},
   "outputs": [
    {
     "data": {
      "text/plain": [
       "'SPACES8e4o4t2h2u2r2d2q1i1c1k1b1w1n1f1x1j1m1p1v1l1a1z1y1g1'"
      ]
     },
     "execution_count": 104,
     "metadata": {},
     "output_type": "execute_result"
    }
   ],
   "source": [
    "count3(mystr2)"
   ]
  },
  {
   "cell_type": "code",
   "execution_count": null,
   "metadata": {},
   "outputs": [],
   "source": []
  }
 ],
 "metadata": {
  "kernelspec": {
   "display_name": "Python 3",
   "language": "python",
   "name": "python3"
  },
  "language_info": {
   "codemirror_mode": {
    "name": "ipython",
    "version": 3
   },
   "file_extension": ".py",
   "mimetype": "text/x-python",
   "name": "python",
   "nbconvert_exporter": "python",
   "pygments_lexer": "ipython3",
   "version": "3.9.5"
  }
 },
 "nbformat": 4,
 "nbformat_minor": 2
}
