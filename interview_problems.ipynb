{
 "cells": [
  {
   "cell_type": "markdown",
   "metadata": {},
   "source": [
    "##  various interview problems"
   ]
  },
  {
   "cell_type": "code",
   "execution_count": 1,
   "metadata": {},
   "outputs": [],
   "source": [
    "import pandas as pd\n",
    "import numpy as np\n",
    "import matplotlib.pyplot as plt\n",
    "import seaborn as sns"
   ]
  },
  {
   "cell_type": "markdown",
   "metadata": {},
   "source": [
    "### Problem 1\n",
    "\n",
    "Taken from https://leetcode.com/discuss/interview-question/391865/Facebook-Software-Engineer-Phone-Screen-Interview-Questions-or-REJECT\n",
    "\n",
    "*You will be supplied with two data files in CSV format . The first file contains statistics about various dinosaurs. The second file contains additional data. Given the following formula, speed = ((STRIDE_LENGTH / LEG_LENGTH) - 1) * SQRT(LEG_LENGTH * g) Where g = 9.8 m/s^2 (gravitational constant)**\n",
    "\n",
    "**Write a program to read in the data files from disk, it must then print the names of only the bipedal dinosaurs from fastest to slowest. Do not print any other information.**\n",
    "\n",
    "\n",
    "`$ cat dataset1.csv NAME,LEG_LENGTH,DIET Hadrosaurus,1.4,herbivore Struthiomimus,0.72,omnivore Velociraptor,1.8,carnivore Triceratops,0.47,herbivore Euoplocephalus,2.6,herbivore Stegosaurus,1.50,herbivore Tyrannosaurus Rex,6.5,carnivore`\n",
    "\n",
    "`$ cat dataset2.csv NAME,STRIDE_LENGTH,STANCE Euoplocephalus,1.97,quadrupedal Stegosaurus,1.70,quadrupedal Tyrannosaurus Rex,4.76,bipedal Hadrosaurus,1.3,bipedal Deinonychus,1.11,bipedal Struthiomimus,1.24,bipedal Velociraptorr,2.62,bipedal`"
   ]
  },
  {
   "cell_type": "code",
   "execution_count": 2,
   "metadata": {},
   "outputs": [],
   "source": [
    "df = pd.DataFrame"
   ]
  },
  {
   "cell_type": "code",
   "execution_count": 3,
   "metadata": {},
   "outputs": [],
   "source": [
    "d1,d2 = pd.read_csv('dataset1.csv'),pd.read_csv('dataset2.csv')"
   ]
  },
  {
   "cell_type": "markdown",
   "metadata": {},
   "source": [
    "The thing to note here is that there are 7 items in each file, but 2 odd ducks and a misspelling. \n",
    "- The misspelling is Velociraptorr, which needs to be fixed before the merge.\n",
    "- Triceratops is only in file 1 and Deinonychus is only in file two.\n",
    "\n",
    "If you keep those dinos in, steps with break on the NaNs where there's not joining data.\n",
    "\n",
    "So with 6 working dinos per file, you should only need 6 items"
   ]
  },
  {
   "cell_type": "code",
   "execution_count": 4,
   "metadata": {},
   "outputs": [
    {
     "data": {
      "text/plain": [
       "(                NAME  LEG_LENGTH       DIET\n",
       " 0        Hadrosaurus        1.40  herbivore\n",
       " 1      Struthiomimus        0.72   omnivore\n",
       " 2       Velociraptor        1.80  carnivore\n",
       " 3        Triceratops        0.47  herbivore\n",
       " 4     Euoplocephalus        2.60  herbivore\n",
       " 5        Stegosaurus        1.50  herbivore\n",
       " 6  Tyrannosaurus Rex        6.50  carnivore,\n",
       "                 NAME  STRIDE_LENGTH       STANCE\n",
       " 0     Euoplocephalus           1.97  quadrupedal\n",
       " 1        Stegosaurus           1.70  quadrupedal\n",
       " 2  Tyrannosaurus Rex           4.76      bipedal\n",
       " 3        Hadrosaurus           1.30      bipedal\n",
       " 4        Deinonychus           1.11      bipedal\n",
       " 5      Struthiomimus           1.24      bipedal\n",
       " 6      Velociraptorr           2.62      bipedal)"
      ]
     },
     "execution_count": 4,
     "metadata": {},
     "output_type": "execute_result"
    }
   ],
   "source": [
    "d1, d2"
   ]
  },
  {
   "cell_type": "code",
   "execution_count": 5,
   "metadata": {},
   "outputs": [],
   "source": [
    "# Fix the Velociraptor mispelling\n",
    "d2.replace(to_replace='Velociraptorr', value='Velociraptor', inplace=True)"
   ]
  },
  {
   "cell_type": "code",
   "execution_count": 6,
   "metadata": {},
   "outputs": [
    {
     "data": {
      "text/html": [
       "<div>\n",
       "<style scoped>\n",
       "    .dataframe tbody tr th:only-of-type {\n",
       "        vertical-align: middle;\n",
       "    }\n",
       "\n",
       "    .dataframe tbody tr th {\n",
       "        vertical-align: top;\n",
       "    }\n",
       "\n",
       "    .dataframe thead th {\n",
       "        text-align: right;\n",
       "    }\n",
       "</style>\n",
       "<table border=\"1\" class=\"dataframe\">\n",
       "  <thead>\n",
       "    <tr style=\"text-align: right;\">\n",
       "      <th></th>\n",
       "      <th>NAME</th>\n",
       "      <th>STRIDE_LENGTH</th>\n",
       "      <th>STANCE</th>\n",
       "    </tr>\n",
       "  </thead>\n",
       "  <tbody>\n",
       "    <tr>\n",
       "      <th>6</th>\n",
       "      <td>Velociraptor</td>\n",
       "      <td>2.62</td>\n",
       "      <td>bipedal</td>\n",
       "    </tr>\n",
       "  </tbody>\n",
       "</table>\n",
       "</div>"
      ],
      "text/plain": [
       "           NAME  STRIDE_LENGTH   STANCE\n",
       "6  Velociraptor           2.62  bipedal"
      ]
     },
     "execution_count": 6,
     "metadata": {},
     "output_type": "execute_result"
    }
   ],
   "source": [
    "d2[d2['NAME'] == 'Velociraptor'] # fixed"
   ]
  },
  {
   "cell_type": "code",
   "execution_count": 7,
   "metadata": {},
   "outputs": [],
   "source": [
    "# This method safely drops Triceratops and Deinonychus with the default inner join\n",
    "df = d1.merge(d2,on='NAME').copy()"
   ]
  },
  {
   "cell_type": "code",
   "execution_count": 8,
   "metadata": {},
   "outputs": [
    {
     "data": {
      "text/html": [
       "<div>\n",
       "<style scoped>\n",
       "    .dataframe tbody tr th:only-of-type {\n",
       "        vertical-align: middle;\n",
       "    }\n",
       "\n",
       "    .dataframe tbody tr th {\n",
       "        vertical-align: top;\n",
       "    }\n",
       "\n",
       "    .dataframe thead th {\n",
       "        text-align: right;\n",
       "    }\n",
       "</style>\n",
       "<table border=\"1\" class=\"dataframe\">\n",
       "  <thead>\n",
       "    <tr style=\"text-align: right;\">\n",
       "      <th></th>\n",
       "      <th>NAME</th>\n",
       "      <th>LEG_LENGTH</th>\n",
       "      <th>DIET</th>\n",
       "      <th>STRIDE_LENGTH</th>\n",
       "      <th>STANCE</th>\n",
       "    </tr>\n",
       "  </thead>\n",
       "  <tbody>\n",
       "    <tr>\n",
       "      <th>0</th>\n",
       "      <td>Hadrosaurus</td>\n",
       "      <td>1.40</td>\n",
       "      <td>herbivore</td>\n",
       "      <td>1.30</td>\n",
       "      <td>bipedal</td>\n",
       "    </tr>\n",
       "    <tr>\n",
       "      <th>1</th>\n",
       "      <td>Struthiomimus</td>\n",
       "      <td>0.72</td>\n",
       "      <td>omnivore</td>\n",
       "      <td>1.24</td>\n",
       "      <td>bipedal</td>\n",
       "    </tr>\n",
       "    <tr>\n",
       "      <th>2</th>\n",
       "      <td>Velociraptor</td>\n",
       "      <td>1.80</td>\n",
       "      <td>carnivore</td>\n",
       "      <td>2.62</td>\n",
       "      <td>bipedal</td>\n",
       "    </tr>\n",
       "    <tr>\n",
       "      <th>3</th>\n",
       "      <td>Euoplocephalus</td>\n",
       "      <td>2.60</td>\n",
       "      <td>herbivore</td>\n",
       "      <td>1.97</td>\n",
       "      <td>quadrupedal</td>\n",
       "    </tr>\n",
       "    <tr>\n",
       "      <th>4</th>\n",
       "      <td>Stegosaurus</td>\n",
       "      <td>1.50</td>\n",
       "      <td>herbivore</td>\n",
       "      <td>1.70</td>\n",
       "      <td>quadrupedal</td>\n",
       "    </tr>\n",
       "    <tr>\n",
       "      <th>5</th>\n",
       "      <td>Tyrannosaurus Rex</td>\n",
       "      <td>6.50</td>\n",
       "      <td>carnivore</td>\n",
       "      <td>4.76</td>\n",
       "      <td>bipedal</td>\n",
       "    </tr>\n",
       "  </tbody>\n",
       "</table>\n",
       "</div>"
      ],
      "text/plain": [
       "                NAME  LEG_LENGTH       DIET  STRIDE_LENGTH       STANCE\n",
       "0        Hadrosaurus        1.40  herbivore           1.30      bipedal\n",
       "1      Struthiomimus        0.72   omnivore           1.24      bipedal\n",
       "2       Velociraptor        1.80  carnivore           2.62      bipedal\n",
       "3     Euoplocephalus        2.60  herbivore           1.97  quadrupedal\n",
       "4        Stegosaurus        1.50  herbivore           1.70  quadrupedal\n",
       "5  Tyrannosaurus Rex        6.50  carnivore           4.76      bipedal"
      ]
     },
     "execution_count": 8,
     "metadata": {},
     "output_type": "execute_result"
    }
   ],
   "source": [
    "df"
   ]
  },
  {
   "cell_type": "markdown",
   "metadata": {},
   "source": [
    "#### the formula for speed\n",
    "speed = ((STRIDE_LENGTH / LEG_LENGTH) - 1) * SQRT(LEG_LENGTH * g) Where g = 9.8 m/s^2 (gravitational constant)"
   ]
  },
  {
   "cell_type": "code",
   "execution_count": 9,
   "metadata": {},
   "outputs": [],
   "source": [
    "# set variable g\n",
    "g=9.8\n",
    "# create 'speed' feature\n",
    "df['speed'] = ((df.STRIDE_LENGTH / df.LEG_LENGTH) -1 )* np.sqrt(df.LEG_LENGTH * g)"
   ]
  },
  {
   "cell_type": "markdown",
   "metadata": {},
   "source": [
    "#### sort bipedals"
   ]
  },
  {
   "cell_type": "code",
   "execution_count": 10,
   "metadata": {},
   "outputs": [
    {
     "data": {
      "text/html": [
       "<div>\n",
       "<style scoped>\n",
       "    .dataframe tbody tr th:only-of-type {\n",
       "        vertical-align: middle;\n",
       "    }\n",
       "\n",
       "    .dataframe tbody tr th {\n",
       "        vertical-align: top;\n",
       "    }\n",
       "\n",
       "    .dataframe thead th {\n",
       "        text-align: right;\n",
       "    }\n",
       "</style>\n",
       "<table border=\"1\" class=\"dataframe\">\n",
       "  <thead>\n",
       "    <tr style=\"text-align: right;\">\n",
       "      <th></th>\n",
       "      <th>NAME</th>\n",
       "      <th>LEG_LENGTH</th>\n",
       "      <th>DIET</th>\n",
       "      <th>STRIDE_LENGTH</th>\n",
       "      <th>STANCE</th>\n",
       "      <th>speed</th>\n",
       "    </tr>\n",
       "  </thead>\n",
       "  <tbody>\n",
       "    <tr>\n",
       "      <th>1</th>\n",
       "      <td>Struthiomimus</td>\n",
       "      <td>0.72</td>\n",
       "      <td>omnivore</td>\n",
       "      <td>1.24</td>\n",
       "      <td>bipedal</td>\n",
       "      <td>1.918448</td>\n",
       "    </tr>\n",
       "    <tr>\n",
       "      <th>2</th>\n",
       "      <td>Velociraptor</td>\n",
       "      <td>1.80</td>\n",
       "      <td>carnivore</td>\n",
       "      <td>2.62</td>\n",
       "      <td>bipedal</td>\n",
       "      <td>1.913333</td>\n",
       "    </tr>\n",
       "    <tr>\n",
       "      <th>0</th>\n",
       "      <td>Hadrosaurus</td>\n",
       "      <td>1.40</td>\n",
       "      <td>herbivore</td>\n",
       "      <td>1.30</td>\n",
       "      <td>bipedal</td>\n",
       "      <td>-0.264575</td>\n",
       "    </tr>\n",
       "    <tr>\n",
       "      <th>5</th>\n",
       "      <td>Tyrannosaurus Rex</td>\n",
       "      <td>6.50</td>\n",
       "      <td>carnivore</td>\n",
       "      <td>4.76</td>\n",
       "      <td>bipedal</td>\n",
       "      <td>-2.136513</td>\n",
       "    </tr>\n",
       "  </tbody>\n",
       "</table>\n",
       "</div>"
      ],
      "text/plain": [
       "                NAME  LEG_LENGTH       DIET  STRIDE_LENGTH   STANCE     speed\n",
       "1      Struthiomimus        0.72   omnivore           1.24  bipedal  1.918448\n",
       "2       Velociraptor        1.80  carnivore           2.62  bipedal  1.913333\n",
       "0        Hadrosaurus        1.40  herbivore           1.30  bipedal -0.264575\n",
       "5  Tyrannosaurus Rex        6.50  carnivore           4.76  bipedal -2.136513"
      ]
     },
     "execution_count": 10,
     "metadata": {},
     "output_type": "execute_result"
    }
   ],
   "source": [
    "df[df['STANCE'] == 'bipedal'].sort_values('speed',ascending=False)"
   ]
  },
  {
   "cell_type": "markdown",
   "metadata": {},
   "source": [
    "#### Return only the names in order of speed"
   ]
  },
  {
   "cell_type": "code",
   "execution_count": 11,
   "metadata": {},
   "outputs": [
    {
     "data": {
      "text/plain": [
       "1        Struthiomimus\n",
       "2         Velociraptor\n",
       "0          Hadrosaurus\n",
       "5    Tyrannosaurus Rex\n",
       "Name: NAME, dtype: object"
      ]
     },
     "execution_count": 11,
     "metadata": {},
     "output_type": "execute_result"
    }
   ],
   "source": [
    "df[df['STANCE'] == 'bipedal'].sort_values('speed',ascending=False)['NAME']"
   ]
  },
  {
   "cell_type": "markdown",
   "metadata": {},
   "source": [
    "#### Visualizing addition\n",
    "\n",
    "add a visual linear correlation for speed to leg length, and stride length, broken out by diet.\n",
    "\n",
    "This wasn't part of an interview - just playing with the data"
   ]
  },
  {
   "cell_type": "code",
   "execution_count": 12,
   "metadata": {},
   "outputs": [
    {
     "data": {
      "text/plain": [
       "<seaborn.axisgrid.FacetGrid at 0x1220fb250>"
      ]
     },
     "execution_count": 12,
     "metadata": {},
     "output_type": "execute_result"
    },
    {
     "data": {
      "image/png": "[encoded data removed]",
      "text/plain": [
       "<Figure size 443.625x360 with 1 Axes>"
      ]
     },
     "metadata": {
      "needs_background": "light"
     },
     "output_type": "display_data"
    }
   ],
   "source": [
    "# Correlations between STRIDE_LENGTH and speed, viewed by diet?\n",
    "sns.lmplot('speed','STRIDE_LENGTH',hue='DIET',data=df,palette='winter')"
   ]
  },
  {
   "cell_type": "code",
   "execution_count": 13,
   "metadata": {},
   "outputs": [
    {
     "data": {
      "text/plain": [
       "<seaborn.axisgrid.FacetGrid at 0x1220e2d00>"
      ]
     },
     "execution_count": 13,
     "metadata": {},
     "output_type": "execute_result"
    },
    {
     "data": {
      "image/png": "[encoded data removed]",
      "text/plain": [
       "<Figure size 443.625x360 with 1 Axes>"
      ]
     },
     "metadata": {
      "needs_background": "light"
     },
     "output_type": "display_data"
    }
   ],
   "source": [
    "# how about speed and LEG_LENGTH?\n",
    "sns.lmplot('speed','LEG_LENGTH',hue='DIET',data=df,palette='winter')"
   ]
  },
  {
   "cell_type": "code",
   "execution_count": 14,
   "metadata": {},
   "outputs": [
    {
     "data": {
      "text/plain": [
       "<seaborn.axisgrid.FacetGrid at 0x1221a4400>"
      ]
     },
     "execution_count": 14,
     "metadata": {},
     "output_type": "execute_result"
    },
    {
     "data": {
      "image/png": "[encoded data removed]",
      "text/plain": [
       "<Figure size 360x360 with 1 Axes>"
      ]
     },
     "metadata": {
      "needs_background": "light"
     },
     "output_type": "display_data"
    }
   ],
   "source": [
    "# What is the distribution of various diets of the dinosaurs included?\n",
    "sns.catplot('DIET',kind='count',data=df,palette='Set1')"
   ]
  },
  {
   "cell_type": "code",
   "execution_count": 15,
   "metadata": {},
   "outputs": [
    {
     "data": {
      "text/plain": [
       "<seaborn.axisgrid.FacetGrid at 0x122695d00>"
      ]
     },
     "execution_count": 15,
     "metadata": {},
     "output_type": "execute_result"
    },
    {
     "data": {
      "image/png": "[encoded data removed]",
      "text/plain": [
       "<Figure size 360x360 with 1 Axes>"
      ]
     },
     "metadata": {
      "needs_background": "light"
     },
     "output_type": "display_data"
    }
   ],
   "source": [
    "sns.catplot('STANCE',kind='count',data=df,palette='Set1')"
   ]
  },
  {
   "cell_type": "markdown",
   "metadata": {},
   "source": [
    "### how to do this with regular python\n",
    "\n",
    "There are a couple of minor issues in this that I missed in original solutions:\n",
    "- Each file has one dino that's not in the other. In the original solution I didn't properly inner join and filter out the dino in file2 that wasn't in file1. This affects the final output.\n",
    "- Velociraptor is misspelled in one of the files (Velociraptorr)"
   ]
  },
  {
   "cell_type": "code",
   "execution_count": 16,
   "metadata": {},
   "outputs": [],
   "source": [
    "import math, csv"
   ]
  },
  {
   "cell_type": "code",
   "execution_count": 17,
   "metadata": {},
   "outputs": [],
   "source": [
    "dinos={}\n",
    "g=9.8"
   ]
  },
  {
   "cell_type": "code",
   "execution_count": 18,
   "metadata": {},
   "outputs": [],
   "source": [
    "with open('dataset2.csv','r') as f:\n",
    "    rows = csv.reader(f)\n",
    "    for row in rows:\n",
    "        NAME, STRIDE_LENGTH, STANCE = row[0], row[1],row[2]\n",
    "        if NAME == 'Velociraptorr':\n",
    "            NAME = 'Velociraptor'\n",
    "        if STANCE == 'bipedal' and NAME in open('dataset1.csv','r').read(): # Filter out dino2 singleton\n",
    "            dinos[NAME] = float(STRIDE_LENGTH)"
   ]
  },
  {
   "cell_type": "code",
   "execution_count": 19,
   "metadata": {},
   "outputs": [],
   "source": [
    "with open('dataset1.csv','r') as f:\n",
    "    rows = csv.reader(f)\n",
    "    for row in rows:\n",
    "        NAME, LEG_LENGTH, DIET = row[0], row[1], row[2]\n",
    "        if NAME in dinos:\n",
    "            STRIDE_LENGTH, LEG_LENGTH =  dinos[NAME], float(LEG_LENGTH)\n",
    "            dinos[NAME] = ((STRIDE_LENGTH / LEG_LENGTH) - 1) * (math.sqrt(LEG_LENGTH) * g)"
   ]
  },
  {
   "cell_type": "code",
   "execution_count": 20,
   "metadata": {},
   "outputs": [
    {
     "data": {
      "text/plain": [
       "['Struthiomimus', 'Velociraptor', 'Hadrosaurus', 'Tyrannosaurus Rex']"
      ]
     },
     "execution_count": 20,
     "metadata": {},
     "output_type": "execute_result"
    }
   ],
   "source": [
    "[x[0] for x in sorted(dinos.items(), key=lambda x: x[1], reverse=True)]"
   ]
  },
  {
   "cell_type": "code",
   "execution_count": 21,
   "metadata": {},
   "outputs": [
    {
     "name": "stdout",
     "output_type": "stream",
     "text": [
      "Struthiomimus\n",
      "Velociraptor\n",
      "Hadrosaurus\n",
      "Tyrannosaurus Rex\n"
     ]
    },
    {
     "data": {
      "text/plain": [
       "[None, None, None, None]"
      ]
     },
     "execution_count": 21,
     "metadata": {},
     "output_type": "execute_result"
    }
   ],
   "source": [
    "# or, a little cleaner:\n",
    "[print(x[0]) for x in sorted(dinos.items(), key=lambda x: x[1], reverse=True)]"
   ]
  },
  {
   "cell_type": "markdown",
   "metadata": {},
   "source": [
    "#### As a function"
   ]
  },
  {
   "cell_type": "code",
   "execution_count": 22,
   "metadata": {},
   "outputs": [],
   "source": [
    "def dinospeed(file1, file2):\n",
    "    dinos = {}\n",
    "    g=9.8\n",
    "    with open(file2, 'r') as f:\n",
    "        rows = csv.reader(f)\n",
    "        for row in rows:\n",
    "            NAME, STRIDE_LENGTH, STANCE = row[0], row[1],row[2]\n",
    "            if NAME == 'Velociraptorr':\n",
    "                NAME = 'Velociraptor'\n",
    "            if STANCE == 'bipedal' and NAME in open(file1,'r').read():\n",
    "                dinos[NAME] = float(STRIDE_LENGTH)\n",
    "    with open(file1, 'r') as f:\n",
    "        rows = csv.reader(f)\n",
    "        for row in rows:\n",
    "            NAME, LEG_LENGTH, DIET = row[0], row[1],row[2]\n",
    "            if NAME in dinos:\n",
    "                STRIDE_LENGTH, LEG_LENGTH =  dinos[NAME], float(LEG_LENGTH)\n",
    "                dinos[NAME] = ((STRIDE_LENGTH / LEG_LENGTH) - 1) * (math.sqrt(LEG_LENGTH) * g)\n",
    "    return [x[0] for x in sorted(dinos.items(), key=lambda x: x[1], reverse=True)]"
   ]
  },
  {
   "cell_type": "code",
   "execution_count": 23,
   "metadata": {},
   "outputs": [
    {
     "data": {
      "text/plain": [
       "['Struthiomimus', 'Velociraptor', 'Hadrosaurus', 'Tyrannosaurus Rex']"
      ]
     },
     "execution_count": 23,
     "metadata": {},
     "output_type": "execute_result"
    }
   ],
   "source": [
    "dinospeed('dataset1.csv','dataset2.csv')"
   ]
  },
  {
   "cell_type": "markdown",
   "metadata": {},
   "source": [
    "### Problem 2:\n",
    "**Given an array of integers greater than zero, find if it is possible to split it in two subarrays (without reordering the elements), such that the sum of the two subarrays is the same. Print the two subarrays.**\n",
    "\n",
    "I calculated rightSum initially by using sum(nums), then looped over nums, and added nums[i] to leftSum, and subtracted it from rightSum, then checked if there was a match and printed that."
   ]
  },
  {
   "cell_type": "code",
   "execution_count": 24,
   "metadata": {},
   "outputs": [],
   "source": [
    "import random"
   ]
  },
  {
   "cell_type": "code",
   "execution_count": 25,
   "metadata": {},
   "outputs": [],
   "source": [
    "myarr = [random.randint(1,4096) for x in range(10)]"
   ]
  },
  {
   "cell_type": "code",
   "execution_count": 26,
   "metadata": {},
   "outputs": [],
   "source": [
    "m = int(len(myarr)/2)"
   ]
  },
  {
   "cell_type": "code",
   "execution_count": 27,
   "metadata": {},
   "outputs": [],
   "source": [
    "left = myarr[:m]\n",
    "right = myarr[m:]"
   ]
  },
  {
   "cell_type": "code",
   "execution_count": 28,
   "metadata": {},
   "outputs": [
    {
     "data": {
      "text/plain": [
       "False"
      ]
     },
     "execution_count": 28,
     "metadata": {},
     "output_type": "execute_result"
    }
   ],
   "source": [
    "sum(left) == sum(right)"
   ]
  },
  {
   "cell_type": "code",
   "execution_count": 29,
   "metadata": {},
   "outputs": [],
   "source": [
    "def splitArraysSame(arr):\n",
    "    \"\"\"\n",
    "    This only covers the case for an even split of the elements\n",
    "    \"\"\"\n",
    "    m = int(len(arr)/2)\n",
    "    left = arr[:m]\n",
    "    right = arr[m:]\n",
    "    return sum(left) == sum(right)"
   ]
  },
  {
   "cell_type": "code",
   "execution_count": null,
   "metadata": {},
   "outputs": [],
   "source": []
  },
  {
   "cell_type": "code",
   "execution_count": 30,
   "metadata": {},
   "outputs": [
    {
     "name": "stdout",
     "output_type": "stream",
     "text": [
      "False\n",
      "False\n",
      "False\n",
      "False\n",
      "False\n",
      "False\n",
      "False\n",
      "False\n",
      "False\n"
     ]
    }
   ],
   "source": [
    "# loop through - compare x + loop\n",
    "for x in range(0,len(myarr) -1):\n",
    "    print(sum(myarr[:x]) == sum(myarr[x:]))"
   ]
  },
  {
   "cell_type": "markdown",
   "metadata": {},
   "source": [
    "#### as a function"
   ]
  },
  {
   "cell_type": "code",
   "execution_count": 31,
   "metadata": {},
   "outputs": [],
   "source": [
    "def iterateArraySame(arr):\n",
    "    \"\"\"\n",
    "    This works.\n",
    "    \"\"\"\n",
    "    p=0\n",
    "    for x in range(0,len(arr) -1):\n",
    "        if sum(arr[:x]) == sum(arr[x:]):\n",
    "            p+=1\n",
    "    if p>0:\n",
    "        return True\n",
    "    else:\n",
    "        return False\n"
   ]
  },
  {
   "cell_type": "code",
   "execution_count": 32,
   "metadata": {},
   "outputs": [
    {
     "data": {
      "text/plain": [
       "False"
      ]
     },
     "execution_count": 32,
     "metadata": {},
     "output_type": "execute_result"
    }
   ],
   "source": [
    "iterateArraySame(myarr)"
   ]
  },
  {
   "cell_type": "markdown",
   "metadata": {},
   "source": [
    "#### in a lambda"
   ]
  },
  {
   "cell_type": "code",
   "execution_count": 33,
   "metadata": {},
   "outputs": [],
   "source": [
    "def lambdaEqualChunk(arr):\n",
    "    return set(list(map(lambda xxx: arr[:xxx] == arr[xxx:], arr)))"
   ]
  },
  {
   "cell_type": "code",
   "execution_count": 34,
   "metadata": {},
   "outputs": [
    {
     "data": {
      "text/plain": [
       "{False}"
      ]
     },
     "execution_count": 34,
     "metadata": {},
     "output_type": "execute_result"
    }
   ],
   "source": [
    "lambdaEqualChunk(myarr)"
   ]
  },
  {
   "cell_type": "markdown",
   "metadata": {},
   "source": [
    "### Problem 3\n",
    "**Battleship/LandMines**\n",
    "\n",
    "There is a matrix with . and X, where X represents battleship, always of length 3. Battleship can be vertical or horizontal, never diagonal. Given a function bomb_at(i,j), returns True if battleship is present at (i,j) in the matrix. Print the head, middle, tail coordinates of the battleship."
   ]
  },
  {
   "cell_type": "code",
   "execution_count": 35,
   "metadata": {},
   "outputs": [],
   "source": [
    "# test harness\n",
    "matrix = [['.','.','.','.','.'],['.','.','.','X','.'],['.','.','.','X','.'],['.','.','.','X','.'],['.','.','.','.','.']]"
   ]
  },
  {
   "cell_type": "code",
   "execution_count": 36,
   "metadata": {},
   "outputs": [
    {
     "data": {
      "text/plain": [
       "[['.', '.', '.', '.', '.'],\n",
       " ['.', '.', '.', 'X', '.'],\n",
       " ['.', '.', '.', 'X', '.'],\n",
       " ['.', '.', '.', 'X', '.'],\n",
       " ['.', '.', '.', '.', '.']]"
      ]
     },
     "execution_count": 36,
     "metadata": {},
     "output_type": "execute_result"
    }
   ],
   "source": [
    "matrix"
   ]
  },
  {
   "cell_type": "code",
   "execution_count": 37,
   "metadata": {},
   "outputs": [],
   "source": [
    "import itertools"
   ]
  },
  {
   "cell_type": "code",
   "execution_count": 38,
   "metadata": {},
   "outputs": [
    {
     "name": "stdout",
     "output_type": "stream",
     "text": [
      "{1: 3, 2: 3, 3: 3}\n"
     ]
    }
   ],
   "source": [
    "# test the iterator\n",
    "battleship={}\n",
    "for i, j in itertools.product(range(5), range(5)):\n",
    "    if matrix[i][j] == 'X':\n",
    "        battleship[i]=j\n",
    "print(battleship)\n",
    "    "
   ]
  },
  {
   "cell_type": "code",
   "execution_count": 39,
   "metadata": {},
   "outputs": [],
   "source": [
    "# use the notion of a bomb for a hit on a battleship\n",
    "# create a test function bomb_at\n",
    "def bomb_at(mat,i,j):\n",
    "    if mat[i][j] =='X':\n",
    "        return True\n",
    "    "
   ]
  },
  {
   "cell_type": "code",
   "execution_count": 40,
   "metadata": {},
   "outputs": [
    {
     "name": "stdout",
     "output_type": "stream",
     "text": [
      "[(1, 3), (2, 3), (3, 3)]\n"
     ]
    }
   ],
   "source": [
    "# \n",
    "size=len(matrix)\n",
    "bombs=[]\n",
    "for i, j in itertools.product(range(size), range(size)):\n",
    "    if bomb_at(matrix,i,j):\n",
    "        bombs.append((i,j))\n",
    "if len(bombs) > 2 and len(bombs) < 4:\n",
    "    print(bombs)\n",
    "    "
   ]
  },
  {
   "cell_type": "code",
   "execution_count": 41,
   "metadata": {},
   "outputs": [],
   "source": [
    "# test harness for no bombs\n",
    "matrix1= [['.','.','.','.','.'],['.','.','.','.','.'],['.','.','.','.','.'],['.','.','.','.','.'],['.','.','.','.','.']]"
   ]
  },
  {
   "cell_type": "code",
   "execution_count": 42,
   "metadata": {},
   "outputs": [],
   "source": [
    "# test harness for too many bombs\n",
    "matrix2= [['.','.','.','X','.'],['.','.','.','X','.'],['.','.','.','X','.'],['.','.','.','X','.'],['.','.','.','.','.']]"
   ]
  },
  {
   "cell_type": "code",
   "execution_count": 43,
   "metadata": {},
   "outputs": [],
   "source": [
    "# test harness for too few bombs\n",
    "matrix3= [['.','.','.','.','.'],['.','.','.','.','.'],['.','.','.','X','.'],['.','.','.','X','.'],['.','.','.','.','.']]"
   ]
  },
  {
   "cell_type": "code",
   "execution_count": 44,
   "metadata": {},
   "outputs": [],
   "source": [
    "# test harness for horizontal bombs\n",
    "matrix4= [['X','X','X','.','.'],['.','.','.','.','.'],['.','.','.','.','.'],['.','.','.','.','.'],['.','.','.','.','.']]"
   ]
  },
  {
   "cell_type": "code",
   "execution_count": 45,
   "metadata": {},
   "outputs": [],
   "source": [
    "# test harness for diagonal bombs - this should break\n",
    "matrix5= [['X','.','.','.','.'],['.','X','.','.','.'],['.','.','X','.','.'],['.','.','.','.','.'],['.','.','.','.','.']]"
   ]
  },
  {
   "cell_type": "code",
   "execution_count": 46,
   "metadata": {},
   "outputs": [
    {
     "name": "stdout",
     "output_type": "stream",
     "text": [
      "[(0, 0), (1, 1), (2, 2)]\n"
     ]
    }
   ],
   "source": [
    "mat = matrix5\n",
    "size=len(mat)\n",
    "bombs=[]\n",
    "for i, j in itertools.product(range(size), range(size)):\n",
    "    if bomb_at(mat,i,j):\n",
    "        bombs.append((i,j))\n",
    "if len(bombs) > 2 and len(bombs) < 4:\n",
    "    print(bombs)\n",
    "else:\n",
    "    print(\"no bombs or wrong number of bombs\")"
   ]
  },
  {
   "cell_type": "code",
   "execution_count": 47,
   "metadata": {},
   "outputs": [
    {
     "name": "stdout",
     "output_type": "stream",
     "text": [
      "[(1, 3), (2, 3), (3, 3)]\n"
     ]
    }
   ],
   "source": [
    "# extend to show no or some bombs\n",
    "# this breaks (shows) diagonals\n",
    "mat = matrix\n",
    "size=len(mat)\n",
    "bombs=[]\n",
    "for i, j in itertools.product(range(size), range(size)):\n",
    "    if bomb_at(mat,i,j):\n",
    "        bombs.append((i,j))\n",
    "if len(bombs) > 2 and len(bombs) < 4:\n",
    "    print(bombs)\n",
    "elif len(bombs) > 0 and len(bombs) < 3:\n",
    "    print('not enough bombs to matter')\n",
    "elif len(bombs) > 3:\n",
    "    print('too many bombs to worry about')\n",
    "else:\n",
    "    print(\"no bombs\")"
   ]
  },
  {
   "cell_type": "code",
   "execution_count": 48,
   "metadata": {},
   "outputs": [],
   "source": [
    "# test harness\n",
    "vert = [(1, 3), (2, 3), (3, 3)]\n",
    "horz = [(0, 0), (0, 1), (0, 2)]\n",
    "diag = [(0, 0), (1, 1), (2, 1)]"
   ]
  },
  {
   "cell_type": "code",
   "execution_count": 49,
   "metadata": {},
   "outputs": [],
   "source": [
    "def notdiag(arr):\n",
    "    \"\"\"\n",
    "    if vertical or horizontal, a set of either x or y should == 1.\n",
    "    if diag both sets are > 1\n",
    "    \"\"\"\n",
    "    return len(set([x[0] for x in arr])) == 1 or  len(set([x[1] for x in arr])) == 1"
   ]
  },
  {
   "cell_type": "code",
   "execution_count": 50,
   "metadata": {},
   "outputs": [
    {
     "name": "stdout",
     "output_type": "stream",
     "text": [
      "[(1, 3), (2, 3), (3, 3)]\n"
     ]
    }
   ],
   "source": [
    "# fix to not return diagonals\n",
    "mat = matrix\n",
    "size=len(mat)\n",
    "bombs=[]\n",
    "for i, j in itertools.product(range(size), range(size)):\n",
    "    if bomb_at(mat,i,j):\n",
    "        bombs.append((i,j))\n",
    "if len(bombs) > 2 and len(bombs) < 4 and notdiag(bombs):\n",
    "    print(bombs)\n",
    "elif len(bombs) > 0 and len(bombs) < 3:\n",
    "    print('not enough bombs to matter')\n",
    "elif len(bombs) > 3:\n",
    "    print('too many bombs to worry about')\n",
    "else:\n",
    "    print(\"no vertical or horizontal bombs\")"
   ]
  },
  {
   "cell_type": "code",
   "execution_count": 51,
   "metadata": {},
   "outputs": [
    {
     "data": {
      "text/plain": [
       "[(1, 3), (2, 3), (3, 3)]"
      ]
     },
     "execution_count": 51,
     "metadata": {},
     "output_type": "execute_result"
    }
   ],
   "source": [
    "bombs"
   ]
  },
  {
   "cell_type": "markdown",
   "metadata": {},
   "source": [
    "### Problem 4\n",
    "**Take the filenames like anakin_2010-02-18.csv and create a directory structure like so:**\n",
    "\n",
    "2010/02/18/starwars/\n",
    "\n",
    "then move the file into it.\n",
    "\n",
    "There are two classes - starwars and futurama"
   ]
  },
  {
   "cell_type": "code",
   "execution_count": 52,
   "metadata": {},
   "outputs": [],
   "source": [
    "import os, sys\n",
    "from shutil import copyfile"
   ]
  },
  {
   "cell_type": "code",
   "execution_count": 53,
   "metadata": {},
   "outputs": [],
   "source": [
    "# the files are in a dir called \"homework\"\n",
    "os.chdir('homework')"
   ]
  },
  {
   "cell_type": "code",
   "execution_count": 54,
   "metadata": {},
   "outputs": [
    {
     "name": "stdout",
     "output_type": "stream",
     "text": [
      "yoda_2011-12-18.csv\r\n",
      "yoda_2012-01-24.csv\r\n",
      "yoda_2012-02-02.csv\r\n",
      "yoda_2012-02-08.csv\r\n",
      "yoda_2012-08-08.csv\r\n",
      "yoda_2012-09-04.csv\r\n",
      "yoda_2012-09-26.csv\r\n",
      "yoda_2012-11-18.csv\r\n",
      "yoda_2013-01-18.csv\r\n",
      "yoda_2013-01-19.csv\r\n"
     ]
    }
   ],
   "source": [
    "ls| tail -10"
   ]
  },
  {
   "cell_type": "code",
   "execution_count": 55,
   "metadata": {},
   "outputs": [],
   "source": [
    "# make arrays that collect the names to the show\n",
    "futurama = ['hermes','nibbler','farnsworth','bender','leela']\n",
    "starwars = ['jarjar','yoda','anakin','han','obiwan']"
   ]
  },
  {
   "cell_type": "code",
   "execution_count": 56,
   "metadata": {},
   "outputs": [],
   "source": [
    "files = os.listdir()\n",
    "cwd = os.getcwd()"
   ]
  },
  {
   "cell_type": "code",
   "execution_count": 57,
   "metadata": {},
   "outputs": [],
   "source": [
    "charnames = set([x.split('_')[0] for x in files])"
   ]
  },
  {
   "cell_type": "code",
   "execution_count": 58,
   "metadata": {},
   "outputs": [
    {
     "data": {
      "text/plain": [
       "{'2010',\n",
       " '2011',\n",
       " '2012',\n",
       " '2013',\n",
       " 'anakin',\n",
       " 'bender',\n",
       " 'farnsworth',\n",
       " 'han',\n",
       " 'hermes',\n",
       " 'jarjar',\n",
       " 'leela',\n",
       " 'nibbler',\n",
       " 'obiwan',\n",
       " 'yoda'}"
      ]
     },
     "execution_count": 58,
     "metadata": {},
     "output_type": "execute_result"
    }
   ],
   "source": [
    "charnames"
   ]
  },
  {
   "cell_type": "code",
   "execution_count": 59,
   "metadata": {},
   "outputs": [],
   "source": [
    "def propname(name):\n",
    "    \"\"\"\n",
    "    return the show as a function\n",
    "    \"\"\"\n",
    "    if name in starwars:\n",
    "        return 'starwars'\n",
    "    else:\n",
    "        return 'futurama'"
   ]
  },
  {
   "cell_type": "code",
   "execution_count": 60,
   "metadata": {},
   "outputs": [
    {
     "data": {
      "text/plain": [
       "'futurama'"
      ]
     },
     "execution_count": 60,
     "metadata": {},
     "output_type": "execute_result"
    }
   ],
   "source": [
    "propname('leela')"
   ]
  },
  {
   "cell_type": "code",
   "execution_count": 61,
   "metadata": {},
   "outputs": [],
   "source": [
    "for f in files:\n",
    "    chunks = f.split(\"_\")\n",
    "    if len(chunks)  > 1:\n",
    "        dates = chunks[1].split(\"-\")\n",
    "        title = propname(chunks[0])\n",
    "        dirstr = '{}/{}/{}/{}/{}/'.format(cwd,dates[0],dates[1],dates[2].strip('.csv'),title)\n",
    "        os.makedirs(dirstr, exist_ok=True)\n",
    "        copyfile(f,dirstr + f)"
   ]
  },
  {
   "cell_type": "code",
   "execution_count": 62,
   "metadata": {},
   "outputs": [
    {
     "name": "stdout",
     "output_type": "stream",
     "text": [
      "\u001b[1m\u001b[36m01\u001b[m\u001b[m/ \u001b[1m\u001b[36m02\u001b[m\u001b[m/ \u001b[1m\u001b[36m03\u001b[m\u001b[m/ \u001b[1m\u001b[36m04\u001b[m\u001b[m/ \u001b[1m\u001b[36m05\u001b[m\u001b[m/ \u001b[1m\u001b[36m06\u001b[m\u001b[m/ \u001b[1m\u001b[36m07\u001b[m\u001b[m/ \u001b[1m\u001b[36m08\u001b[m\u001b[m/ \u001b[1m\u001b[36m09\u001b[m\u001b[m/ \u001b[1m\u001b[36m10\u001b[m\u001b[m/ \u001b[1m\u001b[36m11\u001b[m\u001b[m/ \u001b[1m\u001b[36m12\u001b[m\u001b[m/\r\n"
     ]
    }
   ],
   "source": [
    "ls 2010"
   ]
  },
  {
   "cell_type": "code",
   "execution_count": 63,
   "metadata": {},
   "outputs": [
    {
     "name": "stdout",
     "output_type": "stream",
     "text": [
      "obiwan_2010-01-28.csv\r\n"
     ]
    }
   ],
   "source": [
    "ls 2010/01/28/starwars"
   ]
  },
  {
   "cell_type": "code",
   "execution_count": 64,
   "metadata": {},
   "outputs": [],
   "source": [
    "os.chdir('..')"
   ]
  },
  {
   "cell_type": "markdown",
   "metadata": {},
   "source": [
    "### Problem 5\n",
    "\n",
    "**Make a count of all the instances of the words that exist in a textfile of Moby Dick**\n",
    "\n",
    "This is a simple whiteboard/trueability version. I have an example about how to do proper cleaning and tokenization of words in a different notebook"
   ]
  },
  {
   "cell_type": "code",
   "execution_count": 65,
   "metadata": {},
   "outputs": [
    {
     "name": "stdout",
     "output_type": "stream",
     "text": [
      "moby_dick.txt\r\n"
     ]
    }
   ],
   "source": [
    "ls moby_dick.txt"
   ]
  },
  {
   "cell_type": "code",
   "execution_count": 66,
   "metadata": {},
   "outputs": [
    {
     "name": "stdout",
     "output_type": "stream",
     "text": [
      "Moby�Dick\r\n",
      "or\r\n",
      "The Whale\r\n",
      "HERMAN MELVILLE\r\n",
      "1851\r\n",
      "IN TOKEN\r\n",
      "OF MY ADMIRATION FOR HIS GENIUS,\r\n",
      "This book is Inscribed\r\n",
      "TO\r\n",
      "NATHANIEL HAWTHORNE.\r\n",
      "cat: stdout: Broken pipe\r\n"
     ]
    }
   ],
   "source": [
    "cat moby_dick.txt| head -10"
   ]
  },
  {
   "cell_type": "code",
   "execution_count": 67,
   "metadata": {},
   "outputs": [],
   "source": [
    "wordcount = {}"
   ]
  },
  {
   "cell_type": "code",
   "execution_count": 68,
   "metadata": {},
   "outputs": [],
   "source": [
    "with open('moby_dick.txt','r') as f:\n",
    "    data = f.read()\n",
    "    rows = data.split(\"\\n\")\n",
    "    for row in rows:\n",
    "        words = row.split(\" \")\n",
    "        for word in words:\n",
    "            if word.lower() in wordcount:\n",
    "                wordcount[word.lower()] +=1\n",
    "            else:\n",
    "                wordcount[word.lower()] = 1"
   ]
  },
  {
   "cell_type": "code",
   "execution_count": 69,
   "metadata": {},
   "outputs": [
    {
     "data": {
      "text/plain": [
       "dict_items([('moby�dick', 1), ('or', 701), ('the', 14747), ('whale', 571), ('herman', 1), ('melville', 1), ('1851', 1), ('in', 4110), ('token', 14), ('of', 6590), ('my', 577), ('admiration', 1), ('for', 1540), ('his', 2499), ('genius,', 1), ('this', 1266), ('book', 43), ('is', 1597), ('inscribed', 1), ('to', 4538), ('nathaniel', 1), ('hawthorne.', 1), ('contents', 10), ('etymology', 4), ('.', 3485), ('1', 59), ('extracts', 15), ('3', 22), ('loomings', 6), ('15', 5), ('2', 24), ('carpet�bag', 5), ('20', 5), ('spouter�inn', 15), ('24', 6), ('4', 12), ('counterpane', 7), ('36', 9), ('5', 7), ('breakfast', 9), ('40', 7), ('6', 6), ('street', 10), ('42', 10), ('7', 5), ('chapel', 9), ('45', 10), ('8', 5), ('pulpit', 9), ('48', 11), ('9', 10), ('sermon', 11), ('51', 6), ('10', 6), ('a', 4708), ('bosom', 10), ('friend', 21), ('59', 5), ('11', 4), ('nightgown', 3), ('63', 4), ('12', 5), ('biographical', 4), ('65', 5), ('13', 6), ('wheelbarrow', 6), ('68', 5), ('14', 4), ('nantucket', 48), ('72', 6), ('chowder', 9), ('74', 6), ('16', 14), ('ship', 254), ('77', 4), ('17', 7), ('ramadan', 10), ('89', 5), ('18', 6), ('mark', 38), ('94', 5), ('19', 5), ('prophet', 14), ('98', 5), ('all', 1374), ('astir', 5), ('101', 6), ('21', 5), ('going', 86), ('aboard', 11), ('104', 6), ('22', 6), ('merry', 11), ('christmas', 8), ('107', 5), ('23', 4), ('lee', 14), ('shore', 14), ('111', 4), ('advocate', 6), ('113', 5), ('25', 3), ('postscript', 2), ('117', 4), ('26', 5), ('knights', 10), ('and', 6323), ('squires', 9), ('118', 4), ('iv', 5), ('27', 6), ('121', 4), ('28', 6), ('ahab', 258), ('125', 5), ('29', 5), ('enter', 13), ('ahab;', 25), ('him,', 238), ('stubb', 115), ('129', 4), ('30', 4), ('pipe', 16), ('132', 6), ('31', 4), ('queen', 11), ('mab', 3), ('133', 9), ('32', 13), ('cetology', 15), ('135', 11), ('33', 5), ('specksynder', 5), ('146', 1), ('34', 7), ('cabin�table', 6), ('149', 1), ('35', 8), ('mast�head', 29), ('154', 1), ('quarter�deck', 16), ('160', 1), ('37', 4), ('sunset', 10), ('167', 1), ('38', 4), ('dusk', 4), ('(by', 8), ('mainmast;', 5), ('starbuck', 78), ('leaning', 27), ('against', 134), ('it.)', 4), ('169', 1), ('39', 3), ('first', 29), ('night�watch', 2), ('171', 1), ('midnight,', 10), ('forecastle', 24), ('harpooneers', 39), ('sailors.', 5), ('172', 1), ('41', 10), ('moby', 89), ('dick', 45), ('176', 1), ('whiteness', 26), ('184', 1), ('43', 4), ('hark!', 7), ('192', 1), ('44', 7), ('chart', 10), ('194', 1), ('afﬁdavit', 10), ('199', 1), ('46', 5), ('surmises', 5), ('207', 1), ('47', 5), ('mat�maker', 4), ('210', 1), ('lowering', 22), ('213', 1), ('49', 4), ('hyena', 5), ('222', 1), ('50', 5), ('ahab’s', 73), ('boat', 137), ('crew', 72), ('fedallah', 21), ('224', 1), ('spirit—spout', 5), ('227', 1), ('52', 4), ('albatross', 4), ('231', 1), ('53', 6), ('gam', 8), ('233', 1), ('54', 19), ('town�ho’s', 21), ('story(as', 18), ('told', 58), ('at', 1317), ('golden', 36), ('inn.)', 18), ('237', 1), ('55', 7), ('monstrous', 16), ('pictures', 25), ('whales', 162), ('254', 1), ('56', 5), ('less', 59), ('erroneous', 4), ('true', 62), ('whaling', 95), ('scenes', 7), ('259', 1), ('57', 5), ('paint;', 4), ('teeth;', 7), ('wood;', 6), ('sheet�iron;', 4), ('stone;', 4), ('mountains;', 7), ('stars', 7), ('262', 1), ('58', 5), ('brit', 8), ('265', 1), ('squid', 7), ('268', 1), ('60', 6), ('line', 79), ('271', 1), ('61', 7), ('kills', 6), ('275', 1), ('62', 4), ('dart', 17), ('280', 1), ('v', 15), ('crotch', 7), ('282', 1), ('64', 9), ('stubb’s', 28), ('supper', 24), ('284', 1), ('as', 1723), ('dish', 8), ('291', 1), ('66', 4), ('shark', 17), ('massacre', 4), ('294', 1), ('67', 4), ('cutting', 27), ('296', 1), ('blanket', 9), ('298', 1), ('69', 4), ('funeral', 5), ('301', 1), ('70', 5), ('sphynx', 4), ('303', 1), ('71', 7), ('jeroboam’s', 9), ('story', 43), ('306', 1), ('monkey�rope', 9), ('311', 1), ('73', 7), ('flask', 39), ('kill', 27), ('right', 125), ('whale;', 75), ('then', 384), ('have', 760), ('talk', 27), ('over', 373), ('him', 580), ('315', 1), ('sperm', 222), ('whale’s', 133), ('head', 153), ('—', 1660), ('contrasted', 9), ('view', 36), ('320', 1), ('75', 5), ('324', 1), ('76', 4), ('battering�ram', 4), ('327', 1), ('great', 295), ('heidelburgh', 9), ('tun', 9), ('329', 1), ('78', 6), ('cistern', 8), ('buckets', 9), ('331', 1), ('79', 5), ('prairie', 9), ('335', 1), ('80', 5), ('nut', 4), ('338', 1), ('81', 11), ('pequod', 94), ('meets', 30), ('virgin', 15), ('341', 1), ('82', 5), ('honor', 19), ('glory', 16), ('350', 1), ('83', 4), ('jonah', 49), ('historically', 3), ('regarded', 21), ('353', 1), ('84', 4), ('pitchpoling', 4), ('355', 1), ('85', 7), ('fountain', 11), ('357', 1), ('86', 6), ('tail', 36), ('362', 1), ('87', 12), ('grand', 58), ('armada', 11), ('366', 1), ('88', 5), ('schools', 8), ('schoolmasters', 5), ('376', 1), ('fast�fish', 7), ('loose�fish', 8), ('379', 1), ('90', 5), ('heads', 35), ('tails', 7), ('382', 1), ('91', 7), ('rose�bud', 6), ('385', 1), ('92', 5), ('ambergris', 11), ('390', 1), ('93', 6), ('castaway', 6), ('393', 1), ('squeeze', 9), ('hand', 119), ('397', 1), ('95', 4), ('cassock', 3), ('400', 1), ('96', 6), ('try�works', 10), ('402', 1), ('97', 3), ('lamp', 14), ('406', 1), ('stowing', 5), ('down', 314), ('clearing', 7), ('up', 430), ('407', 1), ('99', 7), ('doubloon', 17), ('410', 1), ('vi', 1), ('100', 8), ('leg', 55), ('arm', 60), ('415', 1), ('decanter', 5), ('421', 1), ('102', 6), ('bower', 6), ('arsacides', 6), ('425', 1), ('103', 5), ('measurement', 5), ('skeleton', 28), ('429', 1), ('fossil', 8), ('432', 1), ('105', 6), ('does', 86), ('magnitude', 16), ('diminish?', 5), ('will', 355), ('he', 1717), ('perish?', 5), ('436', 1), ('106', 5), ('440', 1), ('carpenter', 31), ('443', 1), ('108', 6), ('deck', 56), ('ﬁrst', 200), ('night', 62), ('watch', 33), ('446', 1), ('109', 4), ('cabin', 36), ('450', 1), ('110', 7), ('queequeg', 118), ('cofﬁn', 30), ('452', 1), ('paciﬁc', 16), ('457', 1), ('112', 5), ('blacksmith', 10), ('459', 1), ('forge', 13), ('462', 1), ('114', 4), ('gilder', 3), ('465', 1), ('115', 5), ('bachelor', 5), ('467', 1), ('116', 4), ('dying', 15), ('470', 1), ('472', 1), ('quadrant', 6), ('474', 1), ('119', 8), ('candles', 10), ('476', 1), ('120', 3), ('towards', 113), ('end', 62), ('482', 1), ('midnight', 22), ('bulwarks', 14), ('483', 1), ('122', 3), ('aloft', 37), ('thunder', 16), ('lightning', 13), ('485', 1), ('123', 5), ('musket', 9), ('486', 1), ('124', 5), ('needle', 10), ('489', 1), ('log', 14), ('492', 1), ('126', 5), ('life�buoy', 11), ('495', 1), ('127', 4), ('498', 1), ('128', 5), ('rachel', 4), ('500', 3), ('503', 1), ('130', 6), ('hat', 31), ('505', 1), ('131', 4), ('delight', 12), ('509', 1), ('symphony', 5), ('511', 1), ('chase', 61), ('day', 121), ('515', 1), ('134', 9), ('second', 57), ('522', 1), ('third', 35), ('529', 1), ('epilogue', 2), ('538', 1), ('vii', 1), ('xxxxx', 2), ('viii', 1), ('(supplied', 2), ('by', 1155), ('late', 22), ('consumptive', 1), ('usher', 2), ('grammar', 1), ('school.)', 1), ('pale', 14), ('threadbare', 1), ('coat,', 8), ('heart,', 18), ('body,', 19), ('brain;', 6), ('i', 1785), ('see', 202), ('now.', 20), ('was', 1582), ('ever', 181), ('dusting', 2), ('old', 428), ('lexicons', 1), ('grammars,', 1), ('with', 1704), ('queer', 25), ('handkerchief,', 2), ('mockingly', 1), ('embellished', 3), ('gay', 13), ('ﬂags', 1), ('known', 69), ('nations', 10), ('world.', 20), ('loved', 2), ('dust', 6), ('grammars;', 1), ('it', 1787), ('somehow', 29), ('mildly', 9), ('reminded', 3), ('mortality.', 1), ('“while', 2), ('you', 783), ('take', 130), ('school', 5), ('others,', 9), ('teach', 4), ('them', 286), ('what', 492), ('name', 46), ('whale�', 10), ('ﬁsh', 41), ('be', 990), ('called', 103), ('our', 207), ('tongue,', 4), ('leaving', 36), ('out,', 38), ('through', 218), ('ignorance,', 2), ('letter', 9), ('h,', 1), ('which', 563), ('almost', 186), ('alone', 26), ('maketh', 5), ('signiﬁcation', 1), ('word,', 17), ('deliver', 3), ('that', 2780), ('not', 1078), ('true.”', 1), ('hackluyt.', 1), ('“whale.', 2), ('*', 77), ('sw.', 1), ('dan.', 2), ('hval.', 1), ('animal', 11), ('named', 8), ('from', 1087), ('roundness', 1), ('rolling;', 1), ('hvalt', 1), ('arched', 7), ('vaulted.”', 1), ('webster’s', 3), ('dictionary.', 4), ('more', 435), ('immediately', 15), ('dut.', 1), ('ger.', 1), ('wallen;', 1), ('a.s.', 1), ('walw�ian,', 1), ('roll,', 3), ('wallow.”', 1), ('richardson’s', 1), ('tan,', 1), ('hebrew.', 1), ('�', 1), ('^', 1), ('��o&', 1), (',', 5), ('greek.', 1), ('cetus,', 1), ('latin.', 1), ('whael,', 1), ('anglo�saxon.', 1), ('hv', 2), ('al,', 1), ('danish.', 1), ('wal,', 1), ('dutch.', 1), ('hwal,', 1), ('swedish.', 1), ('alur,', 1), ('icelandic.', 1), ('whale,', 208), ('english.', 2), ('baleine,', 1), ('french.', 1), ('ballena,', 1), ('spanish.', 1), ('pekee�nuee�nuee,', 1), ('fegee.', 1), ('pehee�nuee�nuee,', 1), ('erromangoan.', 1), ('sub�sub�librarian.)', 1), ('seen', 126), ('mere', 43), ('painstaking', 1), ('burrower', 1), ('grub�worm', 1), ('poor', 104), ('devil', 30), ('sub�sub', 1), ('appears', 5), ('gone', 42), ('long', 263), ('vaticans', 1), ('street�stalls', 1), ('earth,', 19), ('picking', 4), ('whatever', 43), ('random', 5), ('allusions', 7), ('could', 208), ('anyways', 2), ('ﬁnd', 54), ('any', 319), ('whatsoever,', 2), ('sacred', 10), ('profane.', 1), ('therefore', 35), ('must', 271), ('not,', 26), ('every', 229), ('case', 49), ('least,', 15), ('higgledy�piggledy', 1), ('statements,', 2), ('how�', 3), ('authentic,', 1), ('these', 382), ('extracts,', 1), ('veritable', 4), ('gospel', 2), ('cetology.', 4), ('far', 155), ('it.', 174), ('touching', 41), ('ancient', 27), ('authors', 3), ('generally,', 1), ('well', 139), ('poets', 3), ('here', 177), ('appearing,', 1), ('are', 576), ('solely', 6), ('valuable', 9), ('en�', 17), ('tertaining,', 1), ('affording', 2), ('glancing', 14), ('bird’s', 3), ('eye', 45), ('has', 286), ('been', 400), ('promiscuously', 1), ('said,', 35), ('thought,', 15), ('fancied,', 2), ('sung', 2), ('leviathan,', 22), ('many', 164), ('generations,', 3), ('including', 8), ('own.', 11), ('so', 893), ('fare', 10), ('thee', 46), ('well,', 44), ('sub�sub,', 1), ('whose', 85), ('commentator', 1), ('am.', 1), ('thou', 233), ('belongest', 1), ('hopeless,', 2), ('sallow', 1), ('tribe', 3), ('no', 486), ('wine', 6), ('world', 76), ('warm;', 1), ('whom', 41), ('even', 183), ('sherry', 1), ('would', 414), ('too', 99), ('rosy�strong;', 1), ('but', 1701), ('one', 795), ('sometimes', 79), ('loves', 3), ('sit,', 2), ('feel', 55), ('poor�devilish,', 1), ('too;', 9), ('grow', 21), ('convivial', 3), ('upon', 553), ('tears;', 1), ('say', 103), ('bluntly,', 1), ('full', 109), ('eyes', 100), ('empty', 19), ('glasses,', 2), ('altogether', 25), ('unpleasant', 3), ('sadness', 2), ('give', 75), ('up,', 48), ('sub�subs!', 1), ('how', 229), ('much', 207), ('pains', 12), ('ye', 274), ('please', 2), ('world,', 34), ('shall', 95), ('go', 158), ('thankless!', 1), ('clear', 34), ('out', 452), ('hampton', 1), ('court', 2), ('tuileries', 1), ('ye!', 13), ('gulp', 1), ('your', 247), ('tears', 5), ('hie', 1), ('royal�mast', 2), ('hearts;', 2), ('friends', 4), ('who', 279), ('before', 253), ('seven�', 2), ('storied', 3), ('heavens,', 2), ('making', 43), ('refugees', 1), ('long�pampered', 1), ('gabriel,', 5), ('michael,', 1), ('raphael,', 1), ('coming.', 4), ('strike', 25), ('splintered', 7), ('hearts', 22), ('together', 26), ('there,', 122), ('unsplinterable', 1), ('glasses!', 1), ('“and', 38), ('god', 63), ('created', 6), ('whales.”', 3), ('genesis.', 1), ('“leviathan', 1), ('path', 8), ('shine', 3), ('after', 258), ('him;', 88), ('think', 104), ('deep', 41), ('hoary.”', 1), ('job.', 2), ('“now', 3), ('lord', 40), ('had', 761), ('prepared', 12), ('swallow', 9), ('jonah.”', 2), ('jonah.', 6), ('“there', 24), ('ships;', 3), ('there', 518), ('leviathan', 49), ('hast', 23), ('made', 156), ('play', 13), ('therein.”', 1), ('psalms.', 2), ('“in', 19), ('day,', 42), ('withhis', 1), ('sore,', 1), ('great,', 8), ('strong', 23), ('sword,', 7), ('punish', 1), ('piercing', 3), ('serpent,', 1), ('crooked', 8), ('serpent;', 1), ('slay', 4), ('dragon', 4), ('sea.”', 6), ('isaiah.', 1), ('thing', 138), ('soever', 1), ('besides', 20), ('cometh', 1), ('within', 61), ('chaos', 3), ('monster’s', 6), ('mouth,', 22), ('beast,', 1), ('boat,', 70), ('stone,', 3), ('goes', 52), ('incontinently', 1), ('foul', 10), ('his,', 15), ('perisheth', 1), ('bottomless', 6), ('gulf', 4), ('paunch.”', 1), ('holland’s', 2), ('plutarch’s', 1), ('morals.', 1), ('“the', 76), ('indian', 43), ('sea', 151), ('breedeth', 1), ('most', 280), ('biggest', 2), ('ﬁshes', 2), ('are:', 1), ('among', 167), ('whirlpooles', 1), ('balaenae,', 1), ('length', 52), ('four', 65), ('acres', 3), ('arpens', 1), ('land.”', 1), ('pliny.', 1), ('“scarcely', 1), ('we', 425), ('proceeded', 5), ('two', 273), ('days', 53), ('on', 958), ('sea,', 108), ('when', 554), ('about', 279), ('sunrise', 8), ('other', 352), ('monsters', 7), ('appeared.', 1), ('former,', 1), ('size.', 1), ('came', 122), ('us,', 37), ('open�mouthed,', 1), ('raising', 5), ('waves', 27), ('sides,', 9), ('beating', 8), ('into', 519), ('foam.”', 1), ('tooke’s', 1), ('lucian.', 1), ('history.', 2), ('”', 8), ('“he', 28), ('visited', 6), ('country', 13), ('also', 65), ('catching', 7), ('horse�whales,', 1), ('bones', 33), ('very', 314), ('value', 5), ('their', 621), ('teeth,', 17), ('brought', 38), ('some', 608), ('king.', 2), ('best', 55), ('were', 648), ('catched', 1), ('own', 179), ('country,', 2), ('forty�eight,', 1), ('ﬁfty', 30), ('yards', 17), ('long.', 7), ('said', 257), ('six', 22), ('killed', 26), ('sixty', 12), ('days.”', 1), ('octher’s', 1), ('verbal', 2), ('narrative', 6), ('taken', 48), ('mouth', 22), ('king', 29), ('alfred.', 1), ('a.d.', 10), ('890.', 1), ('whereas', 7), ('things,', 26), ('whether', 85), ('beast', 2), ('vessel,', 8), ('dread�', 1), ('ful', 1), ('(whale’s)', 1), ('lost', 37), ('swallowed', 11), ('sea�gudgeon', 1), ('retires', 1), ('security,', 1), ('sleeps.”', 1), ('montainge.', 1), ('apology', 1), ('raimond', 1), ('sebond.', 1), ('“let', 5), ('us', 148), ('ﬂy,', 2), ('let', 131), ('ﬂy!', 1), ('nick', 1), ('me', 352), ('if', 449), ('described', 6), ('noble', 44), ('moses', 1), ('life', 81), ('patient', 6), ('job.”', 1), ('rabelais.', 1), ('“this', 5), ('liver', 1), ('cart�loads.”', 1), ('stowe’s', 1), ('annals.', 1), ('seas', 39), ('seethe', 2), ('like', 572), ('boiling', 15), ('pan.”', 1), ('bacon’s', 1), ('version', 2), ('“touching', 1), ('bulk', 22), ('ork', 1), ('received', 23), ('nothing', 89), ('cer�', 2), ('tain.', 2), ('they', 642), ('exceeding', 12), ('fat,', 1), ('insomuch', 2), ('an', 594), ('incredible', 8), ('quantity', 11), ('oil', 41), ('extracted', 5), ('whale.”', 12), ('ibid.', 3), ('“history', 1), ('death.', 14), ('sovereignest', 1), ('earth', 13), ('parmacetti', 2), ('inward', 5), ('bruise.”', 1), ('henry.', 1), ('“very', 5), ('hamlet.', 1), ('“which', 2), ('recure,', 1), ('skill', 5), ('leach’s', 1), ('art', 35), ('mote', 1), ('availle,', 1), ('returne', 1), ('againe', 1), ('wound’s', 1), ('worker,', 1), ('lovely', 11), ('dart,', 8), ('dinting', 1), ('breast,', 4), ('bred', 3), ('restless', 2), ('paine,', 1), ('wounded', 6), ('ﬂies', 4), ('maine.”', 1), ('fairie', 1), ('queen.', 1), ('“immense', 1), ('whales,', 71), ('motion', 14), ('vast', 68), ('bodies', 9), ('can', 182), ('peaceful', 6), ('calm', 21), ('trouble', 6), ('ocean', 39), ('till', 119), ('boil.”', 1), ('sir', 20), ('william', 4), ('davenant.', 1), ('preface', 1), ('gondibert.', 1), ('“what', 37), ('spermacetti', 4), ('is,', 98), ('men', 119), ('might', 175), ('justly', 3), ('doubt,', 11), ('since', 58), ('learned', 21), ('hofmannus', 1), ('work', 37), ('thirty', 25), ('years,', 13), ('saith', 5), ('plainly,', 2), ('nescio', 1), ('quid', 1), ('sit.”', 1), ('t.', 5), ('browne.', 1), ('sperma', 2), ('ceti', 2), ('whale.', 74), ('vide', 1), ('.e.', 2), ('“like', 3), ('spencer’s', 1), ('talus', 1), ('iron', 58), ('ﬂail', 1), ('threatens', 1), ('ruin', 3), ('ponderous', 12), ('tail.', 9), ('ﬁxed', 33), ('jav’lins', 1), ('side', 99), ('wears,', 1), ('back', 90), ('grove', 1), ('pikes', 2), ('appears.”', 1), ('waller’s', 1), ('battle', 21), ('summer', 12), ('islands.', 2), ('“by', 3), ('commonwealth', 1), ('state', 10), ('(in', 5), ('latin,', 1), ('civitas)', 1), ('artiﬁcial', 4), ('man.”', 7), ('opening', 13), ('sentence', 1), ('hobbes’s', 1), ('leviathan.', 9), ('“silly', 1), ('mansoul', 1), ('without', 145), ('chewing,', 1), ('sprat', 1), ('holy', 20), ('war.', 1), ('“that', 18), ('seabeast', 1), ('works', 7), ('hugest', 4), ('swim', 16), ('stream.”', 1), ('paradise', 2), ('lost.', 4), ('——', 5), ('living', 66), ('creatures,', 10), ('stretched', 10), ('promontory', 4), ('sleeps', 6), ('swims,', 2), ('seems', 80), ('moving', 14), ('land;', 6), ('gills', 2), ('draws', 1), ('in,', 33), ('trunk', 11), ('spouts', 11), ('mighty', 43), ('water,', 51), ('swimming', 19), ('them.”', 3), ('fuller’s', 1), ('profane', 4), ('state.', 3), ('“so', 5), ('close', 49), ('behind', 39), ('lie', 26), ('huge', 28), ('leviathans', 9), ('attend', 9), ('prey,', 5), ('chace,', 2), ('fry,', 1), ('gaping', 3), ('jaws', 19), ('mistake', 7), ('way.”', 3), ('dryden’s', 1), ('annus', 1), ('mirabilis.', 1), ('ﬂoating', 24), ('stern', 19), ('ship,', 83), ('cut', 43), ('off', 172), ('head,', 70), ('tow', 9), ('near', 58), ('come;', 8), ('aground', 1), ('twelve', 15), ('thirteen', 2), ('foot', 25), ('water.”', 2), ('thomas', 4), ('edge’s', 1), ('ten', 45), ('voyages', 12), ('spitzbergen,', 1), ('purchass.', 1), ('way', 161), ('saw', 103), ('sporting', 4), ('ocean,', 20), ('wantonness', 1), ('fuzzing', 1), ('water', 78), ('pipes', 5), ('vents,', 1), ('nature', 23), ('placed', 37), ('shoulders.”', 1), ('herbert’s', 1), ('asia', 2), ('africa.', 1), ('harris', 2), ('coll.', 2), ('“here', 2), ('such', 359), ('shoals', 6), ('forced', 17), ('proceed', 10), ('deal', 11), ('caution', 1), ('fear', 21), ('should', 182), ('run', 44), ('schouten’s', 1), ('sixth', 2), ('circumnavigation.', 1), ('“we', 7), ('set', 65), ('sail', 55), ('elbe,', 1), ('wind', 37), ('n.', 2), ('e.', 2), ('jonas�in�the�whale.', 1), ('can’t', 25), ('open', 59), ('fable.', 2), ('frequently', 15), ('climb', 3), ('masts', 22), ('discoverer', 1), ('ducat', 1), ('pains.', 2), ('hitland,', 1), ('above', 46), ('barrel', 1), ('herrings', 1), ('belly.', 1), ('caught', 41), ('once', 128), ('spitzbergen', 4), ('white', 240), ('over.”', 1), ('voyage', 46), ('greenland,', 1), ('1671.', 1), ('“several', 1), ('come', 128), ('coast', 20), ('(fife).', 1), ('anno', 1), ('1652,', 1), ('eighty', 3), ('whale�bone', 4), ('kind', 24), ('which,', 78), ('(as', 5), ('informed)', 1), ('beside', 7), ('oil,', 21), ('did', 233), ('afford', 9), ('weight', 13), ('baleen.', 3), ('stand', 80), ('gate', 4), ('garden', 3), ('pitﬁrren.”', 1), ('sibbald’s', 1), ('fife', 1), ('kinross.', 1), ('“myself', 1), ('agreed', 3), ('try', 29), ('master', 8), ('sperma�ceti', 1), ('never', 200), ('hear', 50), ('sort', 139), ('man,', 97), ('ﬁerceness', 1), ('swiftness.”', 1), ('richard', 2), ('stafford’s', 1), ('bermudas.', 1), ('phil.', 1), ('trans.', 1), ('1668.', 1), ('“whales', 1), ('god’s', 16), ('voice', 35), ('obey.”', 1), ('primer.', 1), ('abundance', 4), ('large', 63), ('being', 212), ('southern', 12), ('seas,', 25), ('may', 213), ('say,', 96), ('hundred', 50), ('one;', 15), ('than', 309), ('northward', 2), ('us.”', 4), ('captain', 218), ('cowley’s', 1), ('round', 215), ('globe.', 6), ('1729.', 1), ('breath', 12), ('attended', 6), ('insupportable', 1), ('smell,', 2), ('bring', 18), ('disorder', 1), ('brain.”', 1), ('ulloa’s', 1), ('south', 18), ('america.', 1), ('“to', 3), ('chosen', 3), ('sylphs', 1), ('special', 14), ('note,', 2), ('trust', 3), ('important', 17), ('charge,', 1), ('petticoat.', 1), ('oft', 3), ('seven�fold', 1), ('fence', 2), ('fail,', 2), ('tho’', 1), ('stiff', 10), ('hoops', 6), ('armed', 10), ('ribs', 13), ('rape', 1), ('lock.', 1), ('“if', 9), ('compare', 6), ('land', 37), ('animals', 4), ('respect', 14), ('magnitude,', 6), ('those', 302), ('abode', 1), ('deep,', 12), ('appear', 5), ('contemptible', 4), ('comparison.', 3), ('doubtless', 7), ('largest', 17), ('creation.”', 1), ('goldsmith,', 1), ('nat.', 1), ('his.', 7), ('write', 4), ('fable', 1), ('little', 233), ('ﬁshes,', 1), ('make', 109), ('speak', 34), ('goldsmith', 1), ('johnson.', 1), ('afternoon', 5), ('supposed', 14), ('rock,', 1), ('found', 105), ('dead', 68), ('asiatics', 2), ('killed,', 3), ('towing', 12), ('ashore.', 8), ('seemed', 275), ('endeavor', 3), ('conceal', 2), ('themselves', 44), ('order', 48), ('avoid', 6), ('cook’s', 3), ('voyages.', 1), ('larger', 8), ('seldom', 24), ('venture', 5), ('attack.', 2), ('dread', 9), ('them,', 86), ('afraid', 13), ('mention', 13), ('names,', 1), ('carry', 25), ('dung,', 1), ('brim�stone,', 1), ('juniper�wood,', 1), ('articles', 5), ('same', 202), ('boats,', 32), ('terrify', 3), ('prevent', 6), ('approach.”', 1), ('uno', 1), ('von', 1), ('troil’s', 1), ('letters', 9), ('banks’s', 1), ('solander’s', 1), ('iceland', 4), ('1772.', 1), ('nantuckois,', 1), ('active,', 2), ('ﬁerce', 10), ('animal,', 4), ('requires', 7), ('address', 4), ('boldness', 2), ('ﬁshermen.”', 1), ('jefferson’s', 1), ('memorial', 1), ('french', 20), ('minister', 1), ('1788.', 1), ('pray,', 2), ('sir,', 48), ('equal', 12), ('it?”', 8), ('edmund', 3), ('burke’s', 1), ('reference', 12), ('parliament', 2), ('whale�fishery.', 1), ('“spain', 1), ('stranded', 7), ('shores', 3), ('europe.”', 1), ('burke.', 1), ('(somewhere.)', 1), ('“a', 22), ('tenth', 4), ('branch', 4), ('king’s', 8), ('ordinary', 17), ('revenue,', 1), ('grounded', 3), ('consid�', 1), ('eration', 1), ('guarding', 1), ('protecting', 1), ('pirates', 8), ('robbers,', 1), ('royal', 26), ('ﬁsh,', 28), ('sturgeon.', 1), ('these,', 13), ('either', 29), ('thrown', 25), ('ashore', 12), ('coasts,', 1), ('property', 6), ('king.”', 1), ('blackstone.', 2), ('“soon', 1), ('sport', 1), ('death', 39), ('crews', 10), ('repair:', 1), ('rodmond', 1), ('unerring', 2), ('o’er', 1), ('suspends', 1), ('barbed', 6), ('steel,', 3), ('turn', 53), ('attends.”', 1), ('falconer’s', 1), ('shipwreck.', 1), ('“bright', 2), ('shone', 3), ('roofs,', 1), ('domes,', 1), ('spires,', 2), ('rockets', 1), ('ﬂew', 22), ('self', 4), ('driven,', 3), ('hang', 5), ('momentary', 2), ('ﬁres', 4), ('amid', 17), ('vault', 1), ('heaven.', 10), ('ﬁre', 30), ('compare,', 1), ('serves', 2), ('high,', 9), ('up�spouted', 1), ('air,', 41), ('express', 8), ('unwieldy', 1), ('joy.”', 1), ('cowper,', 2), ('queen’s', 2), ('visit', 11), ('london.', 1), ('“ten', 2), ('ﬁfteen', 9), ('gallons', 5), ('blood', 32), ('heart', 54), ('stroke,', 3), ('immense', 13), ('velocity.”', 1), ('john', 8), ('hunter’s', 3), ('account', 33), ('dissection', 1), ('(a', 3), ('small', 110), ('sized', 6), ('one.)', 1), ('aorta', 1), ('bore', 15), ('main', 14), ('water�works', 1), ('london', 8), ('bridge,', 2), ('roaring', 9), ('its', 376), ('passage', 26), ('inferior', 10), ('impetus', 2), ('velocity', 6), ('gushing', 1), ('heart.”', 1), ('paley’s', 1), ('theology.', 1), ('mammiferous', 1), ('hind', 1), ('feet.”', 1), ('baron', 4), ('cuvier.', 1), ('degrees', 4), ('south,', 2), ('wesaw', 1), ('may,', 17), ('covered', 9), ('colnett’s', 1), ('purpose', 23), ('extending', 7), ('fishery.', 1), ('free', 22), ('element', 9), ('beneath', 67), ('swam,', 3), ('floundered', 1), ('dived,', 2), ('play,', 2), ('battle,', 3), ('fishes', 1), ('color,', 8), ('form,', 9), ('kind;', 2), ('language', 2), ('cannot', 64), ('paint,', 1), ('mariner', 10), ('seen;', 9), ('insect', 2), ('millions', 7), ('peopling', 1), ('wave:', 1), ('gather’d', 1), ('immense,', 1), ('islands,', 9), ('led', 8), ('mysterious', 10), ('instinct', 5), ('waste', 3), ('trackless', 1), ('region,', 1), ('though', 330), ('assaulted', 1), ('voracious', 1), ('enemies,', 1), ('sharks,', 15), ('monsters,', 1), ('arm’d', 1), ('front', 18), ('jaw,', 14), ('swords,', 2), ('saws,', 1), ('spiral', 1), ('horns,', 1), ('hooked', 4), ('fangs.”', 1), ('montgomery’s', 1), ('pelican', 1), ('island.', 3), ('“io!', 1), ('paean!', 1), ('io!', 1), ('sing,', 2), ('ﬁnny', 2), ('people’s', 6), ('mightier', 1), ('atlantic', 9), ('is;', 10), ('fatter', 1), ('he,', 17), ('flounders', 1), ('polar', 13), ('charles', 1), ('lamb’s', 1), ('triumph', 2), ('year', 14), ('1690', 1), ('persons', 5), ('high', 89), ('hill', 6), ('observing', 7), ('spouting', 11), ('each', 125), ('other,', 35), ('observed;', 1), ('pointing', 18), ('green', 38), ('pasture', 3), ('where', 188), ('children’s', 1), ('grand�children', 1), ('bread.”', 1), ('obed', 3), ('macy’s', 1), ('history', 15), ('nantucket.', 7), ('“i', 91), ('built', 6), ('cottage', 2), ('susan', 1), ('myself', 44), ('gateway', 2), ('form', 27), ('gothic', 4), ('arch,', 3), ('setting', 13), ('jawbones.”', 1), ('hawthorne’s', 1), ('twice', 10), ('tales.', 1), ('“she', 1), ('bespeak', 1), ('monument', 1), ('her', 283), ('love,', 4), ('forty', 24), ('years', 63), ('ago.”', 1), ('“no,', 13), ('’tis', 23), ('whale,”', 4), ('answered', 13), ('tom;', 1), ('spout;', 4), ('threw', 10), ('pair', 11), ('pretty', 28), ('rainbows', 3), ('christian', 15), ('wish', 12), ('look', 128), ('at.', 4), ('he’s', 84), ('raal', 1), ('oil�butt,', 2), ('fellow!”', 1), ('cooper’s', 2), ('pilot.', 3), ('papers', 4), ('berlin', 1), ('gazette', 1), ('introduced', 5), ('stage', 6), ('there.”', 4), ('eckermann’s', 1), ('conversations', 1), ('goethe.', 1), ('“my', 8), ('god!', 17), ('mr.', 55), ('chase,', 13), ('matter?”', 1), ('answered,', 7), ('stove', 19), ('“narrative', 2), ('shipwreck', 1), ('essex', 2), ('nantucket,', 27), ('attacked', 3), ('ﬁnally', 20), ('destroyed', 8), ('ocean.', 6), ('owen', 4), ('mate', 27), ('vessel.', 3), ('new', 84), ('york.', 1), ('1821.', 1), ('sat', 39), ('shrouds', 2), ('night,', 45), ('piping', 1), ('free;', 3), ('now', 513), ('bright,', 4), ('dimmed,', 1), ('moonlight', 4), ('pale,', 5), ('phospher', 1), ('gleamed', 4), ('wake', 15), ('ﬂoundered', 2), ('elizabeth', 1), ('oakes', 1), ('smith.', 1), ('withdrawn', 4), ('different', 24), ('boats', 87), ('engaged', 17), ('capture', 11), ('amounted', 1), ('10,440', 1), ('nearly', 34), ('english', 45), ('miles.”', 2), ('“sometimes', 1), ('shakes', 5), ('tremendous', 9), ('cracking', 3), ('whip,', 3), ('resounds', 2), ('distance', 28), ('three', 231), ('scoresby.', 2), ('“mad', 1), ('agonies', 1), ('endures', 1), ('fresh', 26), ('attacks,', 1), ('infuriated', 1), ('rolls', 9), ('over;', 3), ('rears', 1), ('enormous', 26), ('wide', 40), ('expanded', 5), ('jaw', 21), ('snaps', 1), ('everything', 15), ('around', 37), ('rushes', 2), ('head;', 17), ('propelled', 1), ('swiftness,', 4), ('utterly', 13), ('destroyed.', 1), ('matter', 59), ('astonishment', 3), ('consideration', 5), ('habits', 2), ('interesting,', 1), ('and,', 85), ('commercial', 3), ('point', 57), ('view,', 10), ('whale)', 4), ('entirely', 26), ('neglected,', 1), ('excited', 7), ('curiosity', 8), ('numerous,', 1), ('competent', 4), ('observers,', 1), ('possessed', 5), ('abundant', 3), ('convenient', 10), ('opportunities', 1), ('witnessing', 2), ('habitudes.”', 1), ('beale’s', 4), ('1839.', 3), ('cachalot”', 1), ('(sperm', 5), ('“is', 10), ('only', 362), ('better', 53), ('whale”', 1), ('(greenland', 1), ('possessing', 3), ('formidable', 2), ('weapon', 6), ('extremity', 4), ('displays', 2), ('disposition', 1), ('employ', 2), ('weapons', 4), ('offensively,', 1), ('manner', 23), ('artful,', 1), ('bold,', 3), ('mischievous,', 1), ('lead', 11), ('dangerous', 10), ('attack', 5), ('species', 22), ('tribe.”', 1), ('frederick', 5), ('debell', 1), ('bennett’s', 1), ('1840.', 1), ('october', 1), ('13.', 1), ('she', 117), ('blows,”', 1), ('mast�head.', 3), ('“where', 6), ('away?”', 2), ('demanded', 7), ('captain.', 6), ('“three', 3), ('points', 10), ('bow,', 19), ('sir.”', 15), ('“raise', 1), ('wheel.', 1), ('steady!”', 1), ('“steady,', 1), ('“mast�head', 1), ('ahoy!', 6), ('do', 256), ('now?”', 4), ('“ay', 2), ('ay,', 2), ('sir!', 7), ('shoal', 4), ('whales!', 2), ('blows!', 12), ('breaches!”', 2), ('“sing', 3), ('out!', 4), ('sing', 13), ('time!”', 2), ('thar', 1), ('blows', 8), ('bowes', 1), ('bo�o�', 1), ('o�s!”', 1), ('“how', 12), ('off?”', 1), ('“two', 1), ('miles', 22), ('half.”', 1), ('“thunder', 1), ('lightning!', 1), ('near!', 1), ('call', 53), ('hands!”', 2), ('j.', 3), ('ross', 3), ('browne’s', 1), ('etchings', 1), ('cruise.', 1), ('1846.', 1), ('whale�ship', 18), ('globe,', 7), ('board', 41), ('vessel', 28), ('occurred', 10), ('horrid', 4), ('transactions', 1), ('relate,', 1), ('belonged', 8), ('island', 18), ('nantucket.”', 3), ('globe', 9), ('mutiny,', 2), ('lay', 64), ('hussey,', 2), ('survivors.', 1), ('1828.', 2), ('“being', 1), ('pursued', 6), ('wounded,', 2), ('parried', 1), ('assault', 1), ('time', 200), ('lance;', 5), ('furious', 6), ('monster', 29), ('rushed', 13), ('boat;', 20), ('himself', 138), ('comrades', 5), ('preserved', 5), ('leaping', 13), ('onset', 3), ('inevitable.”', 1), ('missionary', 3), ('journal', 1), ('tyerman', 1), ('bennet.', 1), ('“nantucket', 2), ('itself,”', 1), ('webster,', 1), ('striking', 19), ('peculiar', 55), ('portion', 4), ('national', 3), ('interest.', 4), ('population', 3), ('eight', 21), ('nine', 9), ('thousand', 47), ('persons,', 1), ('adding', 3), ('largely', 8), ('wealth', 3), ('boldest', 1), ('persevering', 1), ('industry.”', 1), ('report', 6), ('daniel', 2), ('speech', 1), ('u.', 1), ('s.', 1), ('senate,', 1), ('application', 3), ('erection', 2), ('breakwater', 1), ('fell', 32), ('directly', 19), ('probably', 12), ('moment.”', 1), ('captors,', 1), ('whaleman’s', 11), ('adventures', 4), ('biography,', 1), ('gathered', 8), ('homeward', 4), ('cruise', 6), ('commodore', 5), ('preble.', 1), ('rev.', 2), ('henry', 3), ('cheever.', 2), ('least', 54), ('damn', 7), ('bit', 18), ('noise,”', 1), ('replied', 6), ('samuel,', 1), ('send', 13), ('hell.”', 1), ('samuel', 9), ('comstock', 1), ('(the', 15), ('mutineer),', 1), ('brother,', 2), ('comstock.', 1), ('another', 92), ('narrative.', 1), ('dutch', 24), ('northern', 11), ('order,', 11), ('possible,', 7), ('discover', 7), ('india,', 3), ('failed', 4), ('object,', 4), ('laid', 21), ('haunts', 3), ('mcculloch’s', 1), ('“these', 1), ('things', 90), ('reciprocal;', 1), ('ball', 3), ('rebounds,', 1), ('bound', 16), ('forward', 27), ('again;', 21), ('laying', 7), ('whalemen', 40), ('seem', 81), ('indirectly', 13), ('hit', 13), ('clews', 1), ('mystic', 16), ('north�west', 1), ('passage.”', 1), ('“something”', 1), ('unpublished.', 1), ('“it', 22), ('impossible', 12), ('meet', 16), ('struck', 39), ('appearance.', 1), ('under', 115), ('short', 31), ('sail,', 15), ('look�outs', 7), ('mast�heads,', 7), ('eagerly', 8), ('scanning', 3), ('expanse', 3), ('totally', 2), ('air', 45), ('regular', 23), ('voyage.”', 1), ('currents', 7), ('whaling.', 5), ('u.s.', 1), ('ex.', 2), ('“pedestrians', 1), ('vicinity', 15), ('elsewhere', 10), ('recollect', 1), ('having', 64), ('curved', 4), ('upright', 10), ('arches', 2), ('gateways,', 1), ('entrances', 1), ('alcoves,', 1), ('perhaps', 54), ('tales', 4), ('voyager', 4), ('arctic', 6), ('returned', 12), ('pursuit', 17), ('whites', 2), ('bloody', 6), ('possession', 9), ('savages', 5), ('enrolled', 3), ('crew.”', 2), ('newspaper', 2), ('taking', 53), ('retaking', 1), ('hobomock.', 1), ('generally', 25), ('vessels', 13), ('(american)', 1), ('few', 92), ('return', 11), ('ships', 54), ('departed.”', 1), ('boat.', 18), ('“suddenly', 1), ('mass', 27), ('emerged', 4), ('shot', 32), ('perpendicularly', 8), ('air.', 27), ('miriam', 3), ('fishermen.', 1), ('harpooned', 7), ('sure;', 2), ('bethink', 9), ('you,', 49), ('manage', 2), ('powerful', 2), ('unbroken', 2), ('colt,', 4), ('appliance', 1), ('rope', 28), ('tied', 13), ('root', 4), ('tail.”', 2), ('chapter', 549), ('trucks.', 2), ('“on', 8), ('occasion', 6), ('(whales)', 1), ('male', 5), ('female,', 1), ('slowly', 47), ('swimming,', 5), ('stone’s', 1), ('throw', 14), ('shore”', 1), ('(terra', 1), ('del', 2), ('fuego),', 1), ('“over', 1), ('beech', 1), ('tree', 9), ('extended', 5), ('branches.”', 1), ('darwin’s', 1), ('naturalist.', 2), ('“‘stern', 1), ('all!’', 1), ('exclaimed', 10), ('mate,', 25), ('turning', 48), ('distended', 4), ('threatening', 3), ('instant', 50), ('destruction;', 1), ('‘stern', 1), ('all,', 52), ('lives!”’', 1), ('wharton', 1), ('killer.', 2), ('cheery,', 2), ('lads,', 5), ('while', 223), ('bold', 14), ('harpooneer', 42), ('whale!”', 3), ('song.', 1), ('“oh,', 18), ('rare', 13), ('mid', 2), ('storm', 13), ('gale', 10), ('home', 25), ('giant', 2), ('might,', 4), ('right,', 5), ('boundless', 5), ('song', 4), ('c', 3), ('ishmael.', 4), ('ago', 14), ('mind', 58), ('precisely', 23), ('money', 5), ('purse,', 4), ('particular', 40), ('interest', 10), ('shore,', 4), ('thought', 127), ('watery', 24), ('part', 119), ('driving', 8), ('spleen,', 1), ('regulating', 1), ('circulation.', 1), ('whenever', 14), ('growing', 7), ('grim', 10), ('mouth;', 4), ('damp,', 4), ('drizzly', 1), ('november', 2), ('soul;', 6), ('involuntarily', 12), ('pausing', 7), ('warehouses,', 1), ('bringing', 10), ('rear', 12), ('meet;', 1), ('especially', 38), ('hypos', 1), ('get', 92), ('upper', 30), ('me,', 143), ('moral', 3), ('principle', 5), ('deliberately', 7), ('stepping', 6), ('street,', 3), ('methodically', 2), ('knocking', 7), ('hats', 2), ('then,', 188), ('soon', 115), ('can.', 6), ('substitute', 3), ('pistol', 4), ('ball.', 2), ('philosophical', 1), ('ﬂourish', 2), ('cato', 1), ('throws', 3), ('sword;', 1), ('quietly', 15), ('ship.', 31), ('surprising', 5), ('this.', 10), ('knew', 39), ('it,', 237), ('degree,', 4), ('cherish', 9), ('feelings', 3), ('me.', 61), ('insular', 4), ('city', 10), ('manhattoes,', 1), ('belted', 3), ('wharves', 2), ('isles', 9), ('coral', 6), ('reefs', 1), ('commerce', 3), ('surrounds', 2), ('surf.', 1), ('left,', 4), ('streets', 8), ('waterward.', 1), ('extreme', 11), ('down�town', 1), ('battery,', 1), ('mole', 2), ('washed', 4), ('waves,', 10), ('cooled', 2), ('breezes,', 3), ('hours', 27), ('previous', 25), ('sight', 67), ('land.', 4), ('crowds', 4), ('water�gazers', 1), ('there.', 31), ('circumambulate', 1), ('dreamy', 4), ('sabbath', 3), ('afternoon.', 2), ('corlears', 1), ('hook', 10), ('coenties', 1), ('slip,', 1), ('thence,', 2), ('whitehall,', 1), ('northward.', 1), ('see?', 2), ('posted', 3), ('silent', 21), ('sentinels', 1), ('town,', 3), ('thousands', 14), ('mortal', 38), ('reveries.', 2), ('spiles;', 1), ('seated', 25), ('pier�heads;', 1), ('looking', 55), ('china;', 1), ('rigging,', 14), ('striving', 8), ('still', 284), ('seaward', 1), ('peep.', 1), ('landsmen;', 1), ('week', 4), ('pent', 2), ('lath', 1), ('plaster', 2), ('counters,', 2), ('nailed', 11), ('benches,', 2), ('clinched', 3), ('desks.', 1), ('this?', 8), ('ﬁelds', 5), ('gone?', 4), ('here?', 5), ('look!', 5), ('crowds,', 1), ('pacing', 9), ('straight', 42), ('seem�', 1), ('ingly', 3), ('dive.', 2), ('strange!', 1), ('content', 16), ('extremest', 1), ('limit', 2), ('loitering', 1), ('shady', 1), ('yonder', 12), ('warehouses', 1), ('sufﬁce.', 2), ('no.', 5), ('just', 113), ('nigh', 39), ('possibly', 27), ('falling', 12), ('in.', 10), ('leagues.', 1), ('inlanders', 1), ('lanes', 1), ('alleys,', 1), ('avenues', 3), ('north,', 4), ('east,', 8), ('west.', 2), ('yet', 275), ('unite.', 1), ('tell', 120), ('magnetic', 7), ('virtue', 16), ('needles', 5), ('compasses', 5), ('attract', 1), ('thither?', 1), ('more.', 16), ('country;', 2), ('lakes.', 1), ('please,', 5), ('carries', 16), ('dale,', 1), ('leaves', 15), ('pool', 3), ('stream.', 3), ('magic', 6), ('absent�', 2), ('minded', 4), ('plunged', 9), ('deepest', 5), ('reveries', 2), ('man', 249), ('legs,', 8), ('feet', 89), ('a�going,', 1), ('infallibly', 10), ('region.', 1), ('athirst', 3), ('american', 28), ('desert,', 1), ('experiment,', 1), ('caravan', 1), ('happen', 5), ('supplied', 9), ('metaphysical', 2), ('professor.', 1), ('yes,', 44), ('knows,', 4), ('meditation', 2), ('wedded', 4), ('ever.', 2), ('artist.', 1), ('desires', 4), ('paint', 3), ('dreamiest,', 1), ('shadiest,', 1), ('quietest,', 1), ('enchanting', 1), ('romantic', 6), ('landscape', 3), ('valley', 6), ('saco.', 1), ('chief', 29), ('employs?', 1), ('trees,', 4), ('hollow', 17), ('trunk,', 4), ('hermit', 3), ('cruciﬁx', 1), ('within;', 6), ('meadow,', 1), ('sleep', 30), ('cattle;', 2), ('sleepy', 5), ('smoke.', 2), ('distant', 17), ('woodlands', 2), ('winds', 15), ('mazy', 1), ('way,', 61), ('reaching', 13), ('overlapping', 2), ('spurs', 1), ('mountains', 6), ('bathed', 2), ('hill�side', 1), ('blue.', 4), ('picture', 12), ('lies', 19), ('thus', 114), ('tranced,', 1), ('pine�tree', 1), ('sighs', 1), ('shepherd’s', 2), ('vain,', 3), ('unless', 26), ('stream', 6), ('him.', 109), ('prairies', 3), ('june,', 2), ('scores', 4), ('wade', 3), ('knee�deep', 1), ('tiger�lilies', 1), ('charm', 6), ('wanting?', 1), ('drop', 22), ('there!', 36), ('niagara', 1), ('cataract', 1), ('sand,', 3), ('travel', 3), ('it?', 21), ('why', 83), ('poet', 1), ('tennessee,', 1), ('suddenly', 45), ('receiving', 13), ('handfuls', 2), ('silver,', 2), ('deliberate', 5), ('buy', 3), ('sadly', 11), ('needed,', 2), ('invest', 6), ('pedestrian', 2), ('trip', 2), ('rockaway', 1), ('beach?', 1), ('robust', 3), ('healthy', 5), ('boy', 8), ('soul', 36), ('crazy', 9), ('sea?', 2), ('passenger,', 1), ('yourself', 14), ('mystical', 8), ('vibration,', 3), ('land?', 3), ('persians', 1), ('hold', 73), ('holy?', 1), ('greeks', 2), ('separate', 19), ('deity,', 1), ('brother', 5), ('jove?', 1), ('surely', 6), ('meaning.', 3), ('deeper', 17), ('meaning', 10), ('narcissus,', 1), ('because', 79), ('grasp', 4), ('tormenting,', 1), ('mild', 20), ('image', 7), ('fountain,', 2), ('drowned.', 1), ('image,', 3), ('ourselves', 12), ('rivers', 1), ('oceans.', 5), ('ungraspable', 1), ('phantom', 11), ('life;', 10), ('key', 6), ('all.', 35), ('now,', 173), ('am', 78), ('habit', 3), ('begin', 11), ('hazy', 1), ('eyes,', 38), ('conscious', 7), ('lungs,', 4), ('mean', 20), ('inferred', 4), ('passenger.', 1), ('passenger', 2), ('needs', 18), ('purse', 1), ('rag', 2), ('something', 111), ('besides,', 27), ('passengers', 4), ('sea�sick', 1), ('quarrelsome', 1), ('don’t', 110), ('nights', 7), ('enjoy', 4), ('much,', 9), ('general', 57), ('thing;', 8), ('no,', 35), ('passenger;', 1), ('nor,', 17), ('salt,', 2), ('commodore,', 1), ('captain,', 46), ('cook.', 5), ('abandon', 3), ('distinction', 3), ('ofﬁces', 1), ('them.', 52), ('part,', 20), ('abominate', 1), ('honorable', 6), ('respectable', 1), ('toils,', 1), ('trials,', 1), ('tribulations', 1), ('whatsoever.', 3), ('quite', 40), ('care', 8), ('myself,', 15), ('ships,', 18), ('barques,', 1), ('brigs,', 1), ('schooners,', 1), ('not.', 14), ('cook,', 10), ('confess', 5), ('considerable', 25), ('that,', 104), ('cook', 12), ('ofﬁcer', 10), ('ship�board', 1), ('yet,', 51), ('somehow,', 12), ('fancied', 7), ('broiling', 1), ('fowls;', 1), ('broiled,', 1), ('judiciously', 2), ('buttered,', 1), ('judgmatically', 1), ('salted', 6), ('peppered,', 1), ('respectfully,', 1), ('reverentially,', 1), ('broiled', 2), ('fowl', 6), ('will.', 6), ('idolatrous', 1), ('dotings', 1), ('egyptians', 2), ('ibis', 1), ('roasted', 1), ('river', 5), ('horse,', 3), ('mummies', 2), ('creatures', 20), ('bake�houses', 1), ('pyramids.', 1), ('simple', 10), ('sailor,', 13), ('mast,', 10), ('plumb', 1), ('forecastle,', 9), ('true,', 14), ('rather', 67), ('some,', 4), ('jump', 12), ('spar', 4), ('spar,', 3), ('grasshopper', 1), ('meadow.', 1), ('ﬁrst,', 8), ('enough.', 6), ('touches', 2), ('one’s', 11), ('sense', 11), ('honor,', 4), ('particularly', 8), ('established', 3), ('family', 8), ('land,', 22), ('van', 2), ('rensselaers,', 1), ('randolphs,', 1), ('hardicanutes.', 1), ('putting', 16), ('tar�pot,', 1), ('lording', 1), ('schoolmaster,', 2), ('tallest', 1), ('boys', 5), ('awe', 6), ('you.', 10), ('transition', 4), ('keen', 16), ('one,', 60), ('assure', 5), ('schoolmaster', 2), ('decoction', 1), ('seneca', 1), ('stoics', 1), ('enable', 4), ('grin', 5), ('bear', 34), ('wears', 6), ('time.', 35), ('hunks', 2), ('sea�captain', 1), ('orders', 16), ('broom', 3), ('sweep', 12), ('decks?', 1), ('indignity', 1), ('amount', 6), ('to,', 27), ('weighed,', 1), ('mean,', 8), ('scales', 3), ('testament?', 1), ('archangel', 7), ('gabriel', 12), ('thinks', 19), ('anything', 36), ('promptly', 1), ('respectfully', 3), ('obey', 5), ('instance?', 1), ('aint', 6), ('slave?', 1), ('that.', 21), ('however', 57), ('sea�captains', 2), ('thump', 4), ('punch', 3), ('about,', 18), ('satisfaction', 2), ('knowing', 15), ('right;', 6), ('everybody', 5), ('else', 28), ('served', 9), ('physical', 4), ('universal', 7), ('passed', 34), ('round,', 15), ('hands', 86), ('rub', 1), ('other’s', 13), ('shoulder�blades,', 1), ('content.', 1), ('again,', 65), ('always', 75), ('paying', 3), ('trouble,', 2), ('pay', 17), ('single', 36), ('penny', 3), ('heard', 89), ('of.', 6), ('contrary,', 8), ('pay.', 1), ('difference', 13), ('between', 109), ('paid.', 1), ('act', 27), ('uncomfortable', 3), ('inﬂiction', 1), ('orchard', 2), ('thieves', 2), ('entailed', 1), ('us.', 20), ('paid,', 2), ('urbane', 1), ('activity', 6), ('receives', 3), ('really', 30), ('marvellous,', 2), ('considering', 26), ('earnestly', 7), ('believe', 23), ('earthly', 14), ('ills,', 1), ('monied', 1), ('ah!', 8), ('cheerfully', 2), ('consign', 1), ('perdition!', 1), ('finally,', 2), ('wholesome', 2), ('exercise', 2), ('pure', 7), ('deck.', 28), ('preva�', 1), ('lent', 3), ('astern', 6), ('(that', 5), ('violate', 1), ('pythagorean', 1), ('maxim),', 1), ('gets', 3), ('atmosphere', 3), ('sailors', 33), ('forecastle.', 8), ('breathes', 4), ('ﬁrst;', 1), ('so.', 22), ('commonalty', 1), ('leaders', 2), ('suspect', 3), ('wherefore', 9), ('repeatedly', 3), ('smelt', 3), ('merchant', 12), ('voyage;', 5), ('invisible', 14), ('police', 1), ('fates,', 2), ('constant', 5), ('surveillance', 1), ('secretly', 2), ('dogs', 4), ('inﬂuences', 6), ('unaccountable', 13), ('answer', 16), ('else.', 7), ('doubtless,', 6), ('voyage,', 34), ('formed', 21), ('programme', 1), ('providence', 1), ('drawn', 20), ('ago.', 4), ('brief', 8), ('interlude', 3), ('solo', 1), ('extensive', 3), ('performances.', 1), ('bill', 5), ('this:', 18), ('“grand', 1), ('contested', 1), ('election', 1), ('presidency', 1), ('united', 9), ('states.', 1), ('“whaling', 1), ('“bloody', 1), ('affghanistan.”', 1), ('exactly', 21), ('managers,', 1), ('put', 70), ('shabby', 3), ('others', 22), ('magniﬁcent', 2), ('parts', 30), ('tragedies,', 1), ('easy', 25), ('genteel', 1), ('come�', 1), ('dies,', 1), ('jolly', 14), ('farces', 1), ('exactly;', 1), ('recall', 5), ('circumstances,', 14), ('springs', 2), ('motives', 3), ('cunningly', 1), ('presented', 17), ('various', 38), ('disguises,', 1), ('induced', 4), ('performing', 3), ('did,', 8), ('cajoling', 1), ('delusion', 1), ('choice', 5), ('resulting', 2), ('unbiased', 1), ('freewill', 1), ('discriminating', 1), ('judgment.', 2), ('overwhelming', 1), ('idea', 28), ('him�', 2), ('self.', 5), ('portentous', 4), ('roused', 3), ('curiosity.', 2), ('wild', 75), ('rolled', 40), ('bulk;', 1), ('undeliverable,', 1), ('nameless', 15), ('perils', 16), ('attending', 4), ('marvels', 6), ('patagonian', 4), ('sights', 9), ('sounds,', 3), ('helped', 12), ('sway', 4), ('wish.', 1), ('men,', 63), ('perhaps,', 29), ('inducements;', 1), ('tormented', 14), ('everlasting', 8), ('itch', 1), ('remote.', 1), ('love', 16), ('forbidden', 1), ('bar�', 2), ('barous', 1), ('coasts.', 1), ('ignoring', 1), ('good,', 6), ('quick', 21), ('perceive', 7), ('horror,', 1), ('social', 11), ('friendly', 3), ('terms', 8), ('inmates', 2), ('place', 71), ('lodges', 1), ('reason', 55), ('welcome;', 1), ('ﬂood�gates', 2), ('wonder�world', 1), ('swung', 18), ('open,', 5), ('conceits', 4), ('swayed', 5), ('purpose,', 8), ('ﬂoated', 16), ('inmost', 2), ('soul,', 23), ('endless', 14), ('proces�', 1), ('sions', 1), ('midmost', 2), ('hooded', 7), ('phantom,', 3), ('snow', 8), ('stuffed', 4), ('shirt', 4), ('carpet�bag,', 3), ('tucked', 3), ('arm,', 15), ('started', 25), ('cape', 32), ('horn', 19), ('paciﬁc.', 4), ('quitting', 4), ('good', 174), ('manhatto,', 1), ('iduly', 1), ('arrived', 10), ('bedford.', 4), ('saturday', 5), ('december.', 1), ('disappointed', 2), ('learning', 4), ('packet', 2), ('already', 30), ('sailed,', 4), ('offer,', 1), ('following', 19), ('monday.', 1), ('young', 72), ('candidates', 1), ('penalties', 1), ('stop', 23), ('bedford,', 6), ('thence', 4), ('embark', 4), ('related', 6), ('i,', 83), ('doing.', 1), ('craft,', 14), ('ﬁne,', 6), ('boisterous', 3), ('connected', 12), ('famous', 34), ('island,', 8), ('amazingly', 2), ('pleased', 6), ('bedford', 8), ('gradually', 10), ('monopolizing', 1), ('business', 47), ('whaling,', 11), ('her,', 27), ('original', 21), ('tyre', 1), ('carthage;', 1), ('stranded.', 1), ('aboriginal', 4), ('whalemen,', 16), ('red�men,', 1), ('sally', 1), ('canoes', 2), ('leviathan?', 4), ('too,', 60), ('adventurous', 4), ('sloop', 1), ('forth,', 1), ('partly', 13), ('laden', 4), ('imported', 1), ('cobble�stones', 1), ('enough', 45), ('risk', 5), ('harpoon', 40), ('bowsprit?', 1), ('ere', 74), ('destined', 6), ('port,', 7), ('became', 22), ('concern�', 1), ('ment', 5), ('eat', 12), ('meanwhile.', 2), ('dubious�looking,', 1), ('nay,', 16), ('dark', 43), ('dismal', 7), ('bitingly', 1), ('cold', 22), ('cheerless.', 1), ('place.', 10), ('anxious', 8), ('grapnels', 1), ('sounded', 3), ('pocket,', 5), ('pieces', 7), ('so,', 110), ('wherever', 6), ('go,', 7), ('ishmael,', 10), ('stood', 78), ('middle', 26), ('dreary', 3), ('shouldering', 1), ('bag,', 5), ('comparing', 3), ('gloom', 6), ('north', 6), ('darkness', 22), ('wisdom', 3), ('conclude', 6), ('lodge', 3), ('dear', 9), ('sure', 32), ('inquire', 3), ('price,', 1), ('particular.', 2), ('halting', 3), ('steps', 5), ('paced', 8), ('streets,', 6), ('sign', 31), ('crossed', 13), ('har�', 12), ('poons”', 1), ('looked', 61), ('expensive', 2), ('further', 51), ('on,', 42), ('bright', 18), ('red', 33), ('windows', 2), ('the”sword�fish', 1), ('inn,”', 1), ('fervent', 1), ('rays,', 1), ('melted', 4), ('packed', 5), ('ice', 11), ('house,', 5), ('everywhere', 5), ('congealed', 2), ('frost', 6), ('inches', 16), ('thick', 22), ('hard,', 5), ('asphaltic', 1), ('pavement,', 1), ('weary', 13), ('ﬂinty', 1), ('projections,', 1), ('remorseless', 6), ('service', 7), ('soles', 1), ('boots', 7), ('miserable', 7), ('plight.', 2), ('jolly,', 1), ('again', 116), ('moment', 65), ('broad', 46), ('glare', 2), ('sounds', 8), ('tinkling', 2), ('glasses', 5), ('within.', 5), ('last;', 8), ('hear?', 5), ('away', 118), ('door;', 3), ('patched', 5), ('stopping', 6), ('way.', 21), ('went.', 2), ('followed', 23), ('took', 49), ('waterward,', 1), ('cheapest,', 1), ('cheeriest', 1), ('inns.', 1), ('streets!', 1), ('blocks', 5), ('blackness,', 1), ('houses,', 2), ('hand,', 61), ('candle,', 1), ('candle', 5), ('tomb.', 1), ('hour', 24), ('last', 210), ('week,', 1), ('quarter', 11), ('town', 10), ('proved', 15), ('deserted.', 1), ('presently', 10), ('smoky', 3), ('light', 42), ('proceeding', 4), ('low,', 7), ('building,', 1), ('door', 21), ('invitingly', 1), ('open.', 2), ('careless', 1), ('look,', 27), ('meant', 13), ('uses', 7), ('public;', 1), ('entering,', 2), ('stumble', 2), ('ash�box', 1), ('porch.', 1), ('ha!', 19), ('ha,', 8), ('ﬂying', 26), ('particles', 1), ('choked', 3), ('ashes', 7), ('city,', 2), ('gomorrah?', 1), ('harpoons,”', 1), ('sword�fish?”', 1), ('—this,', 1), ('trap.”', 1), ('however,', 32), ('picked', 10), ('hearing', 11), ('loud', 10), ('within,', 6), ('pushed', 14), ('opened', 8), ('second,', 3), ('interior', 11), ('door.', 6), ('black', 75), ('sitting', 19), ('tophet.', 1), ('faces', 7), ('turned', 58), ('rows', 9), ('peer;', 1), ('beyond,', 2), ('angel', 4), ('doom', 6), ('beat�', 1), ('ing', 63), ('pulpit.', 3), ('negro', 15), ('church;', 1), ('preacher’s', 1), ('text', 1), ('blackness', 10), ('darkness,', 5), ('weeping', 3), ('wailing', 1), ('teeth�gnashing', 1), ('muttered', 13), ('backing', 4), ('wretched', 7), ('entertainment', 1), ('trap!”', 1), ('dim', 11), ('out�hanging', 1), ('docks,', 4), ('forlorn', 2), ('creaking', 2), ('air;', 22), ('swinging', 13), ('painting', 4), ('faintly', 3), ('representing', 7), ('tall', 19), ('jet', 22), ('misty', 3), ('spray,', 5), ('words', 19), ('underneath', 3), ('spouter�inn:', 1), ('peter', 7), ('cofﬁn.”', 1), ('cofﬁn?', 4), ('spouter?', 1), ('ominous', 1), ('connexion,', 3), ('i.', 30), ('common', 45), ('suppose', 25), ('emigrant', 1), ('dim,', 7), ('place,', 22), ('time,', 75), ('quiet', 8), ('enough,', 11), ('dilapidated', 2), ('wooden', 27), ('house', 23), ('itself', 37), ('carted', 2), ('ruins', 2), ('burnt', 4), ('district,', 2), ('poverty�stricken', 1), ('creak', 1), ('spot', 14), ('cheap', 2), ('lodgings,', 1), ('pea', 1), ('coffee.', 1), ('gable�ended', 2), ('palsied', 2), ('were,', 20), ('sadly.', 1), ('sharp', 38), ('bleak', 3), ('corner,', 5), ('tempes�', 2), ('tuous', 2), ('euroclydon', 1), ('kept', 45), ('worse', 18), ('howling', 12), ('paul’s', 1), ('tossed', 28), ('craft.', 3), ('euroclydon,', 1), ('nevertheless,', 34), ('pleasant', 13), ('zephyr', 1), ('in�doors,', 1), ('hob', 1), ('toasting', 1), ('bed.', 7), ('judging', 2), ('tem�', 1), ('pestuous', 1), ('euroclydon,”', 1), ('says', 33), ('writer', 2), ('possess', 5), ('copy', 6), ('extant', 3), ('—”it', 1), ('marvellous', 13), ('difference,', 1), ('lookest', 2), ('glass', 12), ('window', 3), ('outside,', 2), ('observest', 1), ('sashless', 1), ('window,', 8), ('both', 113), ('wight', 5), ('glazier.”', 1), ('pas�', 3), ('sage', 3), ('black�letter,', 1), ('reasonest', 1), ('well.', 6), ('windows,', 1), ('body', 70), ('mine', 20), ('house.', 5), ('pity', 7), ('didn’t', 29), ('chinks', 1), ('crannies', 1), ('though,', 40), ('thrust', 16), ('lint', 1), ('it’s', 91), ('improvements', 1), ('universe', 4), ('ﬁnished;', 1), ('cope�', 1), ('stone', 9), ('chips', 3), ('million', 2), ('lazarus', 4), ('chattering', 1), ('teeth', 21), ('curbstone', 2), ('pillow,', 3), ('shaking', 9), ('tatters', 2), ('shiverings,', 1), ('plug', 3), ('ears', 12), ('rags,', 1), ('corn�cob', 1), ('keep', 69), ('tempestuous', 2), ('euroclydon.', 1), ('euro�', 1), ('clydon!', 1), ('dives,', 2), ('silken', 3), ('wrapper', 2), ('(he', 2), ('redder', 1), ('afterwards)', 1), ('pooh,', 1), ('pooh!', 1), ('ﬁne', 48), ('frosty', 4), ('night;', 8), ('orion', 1), ('glitters;', 1), ('lights!', 1), ('oriental', 12), ('climes', 2), ('conservatories;', 1), ('privilege', 6), ('coals.', 1), ('lazarus?', 1), ('warm', 18), ('blue', 35), ('holding', 36), ('lights?', 1), ('sumatra', 4), ('lengthwise', 11), ('along', 88), ('equator;', 2), ('yea,', 13), ('gods!', 2), ('ﬁery', 23), ('pit', 1), ('itself,', 28), ('frost?', 1), ('wonderful', 17), ('iceberg', 2), ('moored', 7), ('moluccas.', 1), ('dives', 1), ('himself,', 32), ('lives', 13), ('czar', 3), ('palace', 3), ('frozen', 10), ('sighs,and', 1), ('president', 1), ('temperance', 2), ('society,', 2), ('drinks', 2), ('tepid', 2), ('orphans.', 2), ('blubbering', 1), ('a�whaling,', 2), ('plenty', 13), ('come.', 7), ('scrape', 5), ('frosted', 2), ('feet,', 15), ('“spouter”', 1), ('be.', 7), ('e', 6), ('ntering', 1), ('spouter�inn,', 1), ('wide,', 3), ('straggling', 1), ('entry', 3), ('old�fashioned', 6), ('wainscots,', 1), ('reminding', 1), ('condemned', 4), ('hung', 25), ('oil�painting', 1), ('thoroughly', 2), ('besmoked,', 1), ('defaced,', 1), ('unequal', 1), ('cross�lights', 1), ('viewed', 3), ('diligent', 2), ('study', 6), ('series', 3), ('systematic', 2), ('visits', 4), ('careful', 14), ('inquiry', 3), ('neighbors,', 1), ('arrive', 5), ('understanding', 4), ('purpose.', 6), ('masses', 8), ('shades', 6), ('shadows,', 2), ('ambitious', 3), ('artist,', 1), ('england', 8), ('hags,', 1), ('endeavored', 3), ('delineate', 1), ('bewitched.', 1), ('dint', 3), ('earnest', 6), ('contemplation,', 2), ('repeated', 16), ('ponderings,', 1), ('espe�', 2), ('cially', 2), ('throwing', 11), ('entry,', 4), ('conclusion', 4), ('idea,', 2), ('wild,', 6), ('unwarranted.', 1), ('puzzled', 3), ('confounded', 3), ('long,', 37), ('limber,', 2), ('portentous,', 1), ('hovering', 8), ('centre', 13), ('blue,', 4), ('perpendicular', 10), ('lines', 23), ('yeast.', 1), ('boggy,', 1), ('soggy,', 1), ('squitchy', 1), ('truly,', 8), ('drive', 19), ('nervous', 7), ('distracted.', 1), ('indeﬁnite,', 2), ('half�attained,', 1), ('unimaginable', 3), ('sublimity', 2), ('fairly', 16), ('froze', 1), ('oath', 4), ('meant.', 1), ('anon', 5), ('but,', 71), ('alas,', 1), ('deceptive', 2), ('through.', 4), ('gale.', 3), ('unnatural', 7), ('combat', 1), ('primal', 4), ('elements.', 2), ('blasted', 7), ('heath.', 1), ('hyperborean', 1), ('winter', 7), ('scene.', 6), ('breaking�up', 1), ('ice�bound', 1), ('fancies', 3), ('yielded', 2), ('picture’s', 1), ('midst.', 1), ('rest', 28), ('plain.', 3), ('stop;', 2), ('faint', 8), ('resemblance', 5), ('gigantic', 18), ('ﬁsh?', 1), ('himself?', 1), ('fact,', 17), ('artist’s', 1), ('design', 2), ('ﬁnal', 29), ('theory', 5), ('own,', 9), ('based', 3), ('aggregated', 2), ('opinions', 2), ('aged', 5), ('conversed', 3), ('subject.', 3), ('represents', 1), ('cape�horner', 1), ('hurricane;', 1), ('half�', 2), ('foundered', 1), ('weltering', 3), ('dismantled', 2), ('visible;', 2), ('exasperated', 5), ('purposing', 2), ('spring', 10), ('clean', 13), ('impaling', 3), ('mast�heads.', 4), ('opposite', 18), ('wall', 9), ('heathenish', 4), ('array', 1), ('clubs', 1), ('spears.', 2), ('thickly', 5), ('glittering', 8), ('re�', 16), ('sembling', 1), ('ivory', 44), ('saws;', 1), ('tufted', 4), ('knots', 2), ('human', 37), ('hair;', 1), ('sickle�shaped,', 1), ('handle', 10), ('sweeping', 10), ('segment', 2), ('new�mown', 1), ('grass', 11), ('long�armed', 1), ('mower.', 1), ('shuddered', 2), ('gazed,', 2), ('wondered', 2), ('cannibal', 9), ('savage', 38), ('death�', 1), ('harvesting', 1), ('hacking,', 1), ('horrifying', 1), ('implement.', 1), ('mixed', 12), ('rusty', 2), ('lances', 12), ('harpoons', 17), ('broken', 40), ('deformed.', 1), ('sto�', 1), ('ried', 1), ('weapons.', 2), ('lance,', 9), ('wildly', 9), ('elbowed,', 1), ('nathan', 2), ('swain', 1), ('sunset.', 1), ('poon', 1), ('corkscrew', 1), ('ﬂung', 8), ('javan', 2), ('afterwards', 15), ('slain', 6), ('blanco.', 1), ('entered', 10), ('tail,', 24), ('sojourning', 1), ('travelled', 3), ('imbedded', 2), ('hump.', 4), ('crossing', 17), ('dusky', 4), ('yon', 10), ('low�arched', 1), ('times', 76), ('central', 11), ('chimney', 5), ('ﬁre�places', 1), ('public', 3), ('room.', 5), ('duskier', 1), ('this,', 65), ('low', 29), ('beams', 3), ('above,', 7), ('wrinkled', 14), ('planks', 13), ('beneath,', 5), ('fancy', 20), ('trod', 4), ('craft’s', 2), ('cockpits,', 1), ('corner�anchored', 1), ('ark', 3), ('rocked', 5), ('furiously.', 1), ('shelf�', 1), ('table', 10), ('cracked', 5), ('cases,', 12), ('ﬁlled', 21), ('dusty', 2), ('rarities', 1), ('world’s', 15), ('remotest', 10), ('nooks.', 1), ('projecting', 9), ('angle', 6), ('room', 17), ('stands', 28), ('dark�looking', 1), ('den', 8), ('bar', 5), ('rude', 5), ('attempt', 6), ('head.', 29), ('bone', 27), ('coach', 2), ('shelves,', 1), ('ranged', 8), ('decanters,', 1), ('bottles,', 1), ('ﬂasks;', 1), ('swift', 21), ('destruction,', 2), ('cursed', 12), ('indeed', 33), ('him),', 1), ('bustles', 1), ('withered', 2), ('who,', 55), ('money,', 3), ('dearly', 2), ('sells', 2), ('deliriums', 1), ('abominable', 2), ('tumblers', 1), ('pours', 2), ('poison.', 1), ('cylinders', 1), ('villanous', 3), ('goggling', 1), ('deceitfully', 1), ('ta�', 4), ('pered', 1), ('downwards', 9), ('cheating', 2), ('bottom.', 7), ('parallel', 5), ('meridians', 2), ('rudely', 2), ('pecked', 1), ('glass,', 3), ('surround', 2), ('footpads’', 1), ('goblets.', 1), ('fill', 1), ('mark,', 6), ('charge', 8), ('penny;', 1), ('more;', 8), ('measure,', 2), ('gulph', 1), ('shilling.', 1), ('entering', 5), ('number', 20), ('seamen', 29), ('table,', 14), ('examining', 1), ('divers', 3), ('specimens', 3), ('skrimshander.', 1), ('sought', 16), ('landlord,', 12), ('telling', 9), ('desired', 10), ('accommodated', 1), ('room,', 16), ('bed', 31), ('unoccupied.', 1), ('“but', 34), ('avast,”', 1), ('added,', 7), ('tapping', 3), ('forehead,', 8), ('“you', 9), ('haint', 1), ('objections', 2), ('sharing', 3), ('harpooneer’s', 4), ('blanket,', 2), ('ye?', 16), ('s’pose', 1), ('goin’', 5), ('whalin’,', 1), ('you’d', 2), ('used', 44), ('thing.”', 2), ('liked', 2), ('bed;', 7), ('depend', 4), ('be,', 30), ('landlord)', 1), ('decidedly', 1), ('objection�', 1), ('able,', 2), ('wander', 1), ('strange', 81), ('bitter', 6), ('half', 86), ('decent', 6), ('man’s', 48), ('blanket.', 1), ('seat.', 4), ('supper?', 3), ('want', 31), ('’ll', 3), ('ready', 36), ('directly.”', 1), ('settle,', 1), ('carved', 12), ('bench', 10), ('battery.', 1), ('ruminating', 1), ('tar', 5), ('adorning', 1), ('jack�knife,', 4), ('stoop�', 1), ('diligently', 7), ('working', 13), ('space', 11), ('legs.', 6), ('trying', 16), ('headway,', 2), ('thought.', 3), ('ﬁve', 36), ('summoned', 4), ('meal', 1), ('adjoining', 1), ('landlord', 9), ('couldn’t', 8), ('tallow', 3), ('candles,', 3), ('winding', 4), ('sheet.', 1), ('fain', 19), ('button', 2), ('monkey', 6), ('jackets,', 1), ('lips', 11), ('cups', 3), ('scalding', 4), ('tea', 4), ('ﬁngers.', 2), ('substantial', 2), ('meat', 8), ('potatoes,', 1), ('dumplings;', 1), ('heavens!', 6), ('dumplings', 3), ('supper!', 1), ('fellow', 21), ('box', 6), ('addressed', 6), ('direful', 10), ('manner.', 9), ('boy,”', 1), ('“you’ll', 1), ('nightmare', 2), ('sartainty.”', 1), ('“landlord,”', 3), ('whispered,', 2), ('harpooneer,', 20), ('no,”', 1), ('diabolically', 1), ('funny,', 4), ('harpooner', 1), ('complexioned', 1), ('chap.', 1), ('eats', 3), ('dumplings,', 1), ('steaks,', 1), ('likes', 3), ('’em', 21), ('rare.”', 1), ('does,”', 1), ('harpooneer?', 1), ('here?”', 4), ('“he’ll', 2), ('afore', 5), ('long,”', 1), ('answer.', 4), ('help', 35), ('began', 51), ('suspicious', 3), ('“dark', 1), ('complexioned”', 1), ('harpooneer.', 5), ('rate,', 9), ('together,', 17), ('undress', 1), ('did.', 3), ('over,', 24), ('company', 16), ('went', 88), ('bar�room,', 1), ('when,', 42), ('resolved', 13), ('spend', 9), ('evening', 14), ('looker', 1), ('on.', 20), ('rioting', 1), ('noise', 8), ('without.', 2), ('starting', 10), ('cried,', 8), ('“that’s', 8), ('grampus’s', 1), ('crew.', 17), ('seed', 1), ('reported', 4), ('ofﬁng', 3), ('morning;', 5), ('years’', 12), ('hurrah,', 1), ('boys;', 3), ('we’ll', 8), ('latest', 3), ('news', 5), ('feegees.”', 1), ('tramping', 1), ('entry;', 1), ('mariners', 22), ('enveloped', 4), ('shaggy', 7), ('coats,', 1), ('mufﬂed', 9), ('woollen', 6), ('comforters,', 2), ('bedarned', 1), ('ragged,', 1), ('beards', 1), ('icicles,', 1), ('eruption', 1), ('bears', 10), ('labrador.', 2), ('landed', 12), ('entered.', 2), ('won�', 2), ('der,', 1), ('jonah,', 12), ('ofﬁciating,', 1), ('poured', 5), ('brimmers', 1), ('round.', 5), ('complained', 1), ('bad', 12), ('pitch�like', 1), ('potion', 1), ('gin', 3), ('molasses,', 1), ('swore', 7), ('sovereign', 3), ('cure', 3), ('colds', 1), ('catarrhs', 1), ('longstanding,', 1), ('labrador,', 1), ('weather', 19), ('ice�island.', 1), ('liquor', 1), ('mounted', 14), ('heads,', 9), ('arrantest', 1), ('topers', 1), ('newly', 6), ('capering', 2), ('ob�', 2), ('streperously.', 1), ('observed,', 4), ('held', 33), ('somewhat', 25), ('aloof,', 1), ('desirous', 1), ('spoil', 3), ('hilarity', 1), ('shipmates', 4), ('sober', 5), ('face,', 14), ('whole', 127), ('refrained', 4), ('rest.', 8), ('interested', 2), ('once;', 4), ('sea�gods', 1), ('ordained', 2), ('become', 28), ('shipmate', 2), ('(though', 1), ('sleeping�partner', 1), ('concerned),', 1), ('description', 4), ('height,', 5), ('shoulders,', 6), ('chest', 15), ('coffer�dam.', 1), ('brawn', 3), ('man.', 31), ('face', 60), ('deeply', 6), ('brown', 8), ('burnt,', 1), ('dazzling', 3), ('contrast;', 1), ('shadows', 10), ('reminiscences', 2), ('joy.', 3), ('announced', 4), ('southerner,', 1), ('stature,', 2), ('mountaineers', 1), ('alleganian', 1), ('ridge', 2), ('virginia.', 1), ('revelry', 5), ('companions', 4), ('slipped', 7), ('unobserved,', 1), ('comrade', 5), ('sea.', 64), ('minutes,', 6), ('missed', 1), ('shipmates,', 15), ('being,', 5), ('seems,', 7), ('favorite', 3), ('raised', 16), ('cry', 29), ('“bulkington!', 1), ('bulkington!', 2), ('where’s', 9), ('bulkington?”', 1), ('darted', 32), ('o’clock,', 4), ('seeming', 8), ('supernaturally', 1), ('orgies,', 1), ('congratulate', 1), ('plan', 9), ('entrance', 5), ('seamen.', 3), ('prefers', 2), ('brother.', 1), ('know', 117), ('people', 36), ('private', 12), ('sleeping.', 3), ('comes', 50), ('sleeping', 13), ('unknown', 31), ('stranger,', 9), ('inn,', 3), ('stranger', 29), ('indeﬁnitely', 3), ('multiply.', 1), ('nor', 133), ('sailor', 28), ('bed,', 25), ('anybody', 9), ('else;', 2), ('kings', 16), ('apartment,', 1), ('hammock,', 10), ('cover', 11), ('skin.', 5), ('pondered', 4), ('abominated', 1), ('fair', 30), ('presume', 3), ('linen', 4), ('woollen,', 1), ('tidiest,', 1), ('certainly', 24), ('none', 28), ('ﬁnest.', 1), ('twitch', 2), ('over.', 8), ('getting', 26), ('late,', 7), ('ought', 8), ('bedwards.', 1), ('now,he', 1), ('tumble', 4), ('vile', 5), ('hole', 11), ('coming?', 2), ('“landlord!', 2), ('i’ve', 29), ('changed', 10), ('shan’t', 2), ('i’ll', 61), ('here.”', 2), ('“just', 3), ('please;', 1), ('i’m', 26), ('sorry', 6), ('cant', 4), ('spare', 20), ('table�cloth', 1), ('mattress,', 1), ('plaguy', 2), ('rough', 4), ('here”', 2), ('feeling', 22), ('notches.', 1), ('wait', 5), ('bit,', 4), ('skrimshander;', 1), ('got', 44), ('carpenter’s', 7), ('plane', 4), ('wait,', 1), ('snug', 4), ('enough.”', 3), ('saying', 25), ('procured', 2), ('plane;', 1), ('silk', 1), ('handkerchief', 3), ('bench,', 2), ('vigorously', 4), ('planing', 2), ('grinning', 9), ('ape.', 1), ('shavings', 5), ('left;', 3), ('plane�iron', 1), ('bump', 1), ('indestructible', 2), ('knot.', 1), ('spraining', 1), ('wrist,', 2), ('heaven’s', 5), ('sake', 10), ('quit', 9), ('soft', 19), ('suit', 1), ('eider', 1), ('pine', 10), ('plank.', 3), ('gathering', 3), ('grin,', 1), ('business,', 9), ('left', 58), ('study.', 1), ('measure', 9), ('short;', 1), ('mended', 1), ('chair.', 2), ('narrow,', 3), ('higher', 21), ('planed', 2), ('yoking', 1), ('wall,', 10), ('interval', 19), ('between,', 2), ('settle', 5), ('draught', 4), ('sill', 2), ('current', 2), ('rickety', 1), ('met', 14), ('whirlwinds', 1), ('immediate', 7), ('night.', 10), ('fetch', 9), ('stop,', 4), ('steal', 2), ('march', 2), ('bolt', 4), ('inside,', 1), ('wakened', 2), ('violent', 12), ('knockings?', 1), ('idea;', 3), ('thoughts', 21), ('dismissed', 1), ('next', 47), ('morning,', 19), ('popped', 1), ('standing', 74), ('knock', 3), ('down!', 3), ('still,', 18), ('seeing', 33), ('possible', 18), ('chance', 36), ('spending', 6), ('sufferable', 4), ('person’s', 3), ('cherishing', 1), ('unwarrantable', 2), ('prejudices', 2), ('awhile;', 1), ('dropping', 17), ('bedfellows', 1), ('there’s', 57), ('telling.', 4), ('boarders', 3), ('coming', 45), ('ones,', 8), ('twos,', 1), ('threes,', 2), ('“landlord!”', 1), ('chap', 6), ('hours?”', 1), ('hard', 67), ('o’clock.', 1), ('chuckled', 1), ('lean', 11), ('chuckle,', 1), ('mightily', 1), ('tickled', 3), ('beyond', 19), ('comprehension.', 2), ('“no,”', 2), ('“generally', 1), ('airley', 3), ('bird', 12), ('rise', 17), ('catches', 2), ('worm.', 1), ('to�night', 2), ('peddling,', 1), ('see,and', 1), ('airth', 2), ('keeps', 8), ('unless,', 3), ('sell', 8), ('head.”', 3), ('“can’t', 3), ('head?', 5), ('bamboozling', 1), ('me?”', 2), ('towering', 3), ('rage.', 1), ('“do', 11), ('pretend', 7), ('actually', 14), ('blessed', 10), ('sunday', 4), ('peddling', 2), ('town?”', 1), ('it,”', 6), ('here,', 67), ('market’s', 1), ('overstocked.”', 1), ('“with', 3), ('what?”', 3), ('shouted', 14), ('ain’t', 17), ('world?”', 1), ('landlord,”', 2), ('calmly,', 2), ('“you’d', 1), ('spinning', 3), ('yarn', 2), ('green.”', 1), ('“may', 3), ('not,”', 2), ('stick', 6), ('whittling', 2), ('toothpick,', 1), ('rayther', 1), ('guess', 9), ('you’ll', 7), ('done', 28), ('hears', 7), ('slanderin’', 1), ('“i’ll', 2), ('break', 19), ('him,”', 3), ('passion', 4), ('unaccount�', 1), ('able', 13), ('farrago', 1), ('landlord’s.', 1), ('“it’s', 7), ('broke', 11), ('a’ready,”', 1), ('he.', 7), ('“broke,”', 1), ('“broke,', 1), ('mean?”', 2), ('“sartain,', 1), ('that’s', 85), ('guess.”', 1), ('cool', 9), ('mt.', 1), ('hecla', 1), ('storm,', 3), ('“landlord,', 2), ('whittling.', 1), ('understand', 16), ('another,', 8), ('delay.', 2), ('belongs', 8), ('certain', 85), ('seen,', 15), ('persist', 1), ('mystifying', 1), ('exasperating', 2), ('stories,', 1), ('tending', 3), ('beget', 6), ('feel�', 2), ('bedfellow', 1), ('intimate', 3), ('conﬁdential', 8), ('highest', 7), ('degree.', 2), ('demand', 5), ('respects', 4), ('safe', 3), ('unsay', 1), ('selling', 2), ('evidence', 2), ('stark', 6), ('mad,', 6), ('madman;', 1), ('induce', 5), ('knowingly,', 1), ('thereby', 17), ('render', 4), ('liable', 3), ('criminal', 1), ('prosecution.”', 1), ('“wall,”', 1), ('fetching', 4), ('breath,', 5), ('purty', 1), ('sarmon', 1), ('rips', 1), ('then.', 17), ('easy,', 10), ('tellin’', 1), ('bought', 1), ('lot', 4), ('’balmed', 1), ('zealand', 5), ('(great', 1), ('curios,', 1), ('know),', 1), ('sold', 1), ('to�night,', 3), ('cause', 17), ('to�morrow’s', 1), ('sunday,', 2), ('sellin’', 1), ('folks', 3), ('churches.', 3), ('wanted', 7), ('stopped', 6), ('strung', 2), ('string,', 1), ('string', 5), ('inions.”', 1), ('cleared', 4), ('otherwise', 18), ('mystery,', 1), ('showed', 15), ('fooling', 1), ('stayed', 7), ('sabbath,', 1), ('idolators?', 1), ('“depend', 1), ('pays', 3), ('reg’lar,”', 1), ('rejoinder.', 1), ('come,', 15), ('dreadful', 5), ('ﬂukes', 16), ('nice', 3), ('bed:', 1), ('sal', 3), ('slept', 4), ('spliced.', 1), ('kick', 8), ('almighty', 2), ('big', 12), ('why,', 18), ('sam', 2), ('johnny', 1), ('dreaming', 3), ('sprawling', 1), ('pitched', 10), ('ﬂoor,', 8), ('breaking', 14), ('arm.', 7), ('arter', 1), ('wouldn’t', 8), ('do.', 5), ('glim', 1), ('jiffy;”', 1), ('lighted', 13), ('offering', 3), ('irresolute;', 1), ('clock', 2), ('vum', 1), ('won’t', 25), ('to�night;', 1), ('anchor', 12), ('somewhere', 18), ('then;', 13), ('come?”', 1), ('considered', 13), ('moment,', 28), ('stairs', 5), ('went,', 3), ('ush�', 1), ('ered', 2), ('clam,', 1), ('furnished,', 2), ('prodi�', 2), ('gious', 2), ('abreast.', 1), ('“there,”', 1), ('placing', 7), ('double', 10), ('duty', 17), ('wash�stand', 2), ('table;', 1), ('“there,', 1), ('comfortable', 6), ('ye.”', 7), ('eyeing', 27), ('disappeared.', 5), ('folding', 2), ('counterpane,', 3), ('stooped', 5), ('elegant,', 1), ('scrutiny', 1), ('tolerably', 2), ('glanced', 6), ('room;', 5), ('bedstead', 1), ('furniture', 1), ('belonging', 8), ('shelf,', 2), ('walls,', 5), ('papered', 3), ('ﬁreboard', 1), ('properly', 8), ('hammock', 14), ('lashed', 10), ('ﬂoor', 9), ('corner;', 2), ('seaman’s', 4), ('containing', 6), ('wardrobe', 2), ('lieu', 2), ('trunk.', 3), ('likewise,', 4), ('parcel', 4), ('outlandish', 5), ('hooks', 4), ('shelf', 2), ('ﬁre�place,', 2), ('chest?', 1), ('light,', 25), ('felt', 37), ('tried', 15), ('satisfactory', 2), ('conclu�', 1), ('sion', 3), ('concerning', 37), ('mat,', 4), ('ornamented', 2), ('edges', 3), ('tags', 2), ('stained', 3), ('porcupine', 1), ('quills', 2), ('moccasin.', 1), ('slit', 2), ('ponchos.', 1), ('pooneer', 3), ('parade', 1), ('guise?', 1), ('weighed', 2), ('hamper,', 1), ('uncommonly', 7), ('band', 6), ('thick,', 3), ('wearing', 4), ('rainy', 1), ('day.', 11), ('stuck', 9), ('life.', 16), ('tore', 13), ('hurry', 5), ('gave', 37), ('kink', 2), ('neck.', 3), ('commenced', 7), ('thinking', 26), ('head�', 1), ('mat.', 2), ('bed�side,', 1), ('jacket,', 8), ('thinking.', 1), ('sleeves.', 1), ('beginning', 14), ('undressed', 3), ('was,', 48), ('remembering', 2), ('ado,', 2), ('jumped', 11), ('pantaloons', 3), ('boots,', 3), ('blowing', 5), ('tumbled', 4), ('commended', 1), ('mattress', 1), ('corn�cobs', 1), ('crockery,', 1), ('telling,', 3), ('deal,', 1), ('slid', 14), ('doze,', 2), ('nod,', 2), ('heavy', 32), ('footfall', 1), ('passage,', 3), ('glimmer', 2), ('save', 15), ('infernal', 8), ('head�peddler.', 1), ('perfectly', 4), ('word', 47), ('spoken', 11), ('to.', 16), ('identical', 7), ('knotted', 5), ('cords', 4), ('bag', 5), ('spoke', 10), ('eagerness', 7), ('averted', 2), ('employed', 12), ('unlacing', 1), ('bag’s', 1), ('mouth.', 9), ('accomplished,', 3), ('sight!', 4), ('face!', 1), ('dark,', 9), ('purplish,', 1), ('yellow', 17), ('large,', 12), ('blackish', 1), ('squares.', 1), ('terrible', 18), ('bedfellow;', 1), ('ﬁght,', 5), ('dreadfully', 2), ('cut,', 1), ('surgeon.', 1), ('chanced', 11), ('plainly', 37), ('sticking�plasters', 1), ('squares', 6), ('cheeks.', 2), ('stains', 2), ('other.', 11), ('this;', 17), ('inkling', 1), ('truth', 18), ('remembered', 4), ('whaleman', 18), ('cannibals,', 2), ('tattooed', 7), ('concluded', 15), ('course', 29), ('voyages,', 2), ('similar', 22), ('adventure.', 1), ('all!', 4), ('outside;', 1), ('honest', 10), ('unearthly', 10), ('complexion,', 1), ('lying', 18), ('completely', 33), ('independent', 7), ('tattooing.', 2), ('sure,', 9), ('coat', 12), ('tropical', 4), ('tanning;', 1), ('hot', 21), ('sun’s', 6), ('tanning', 2), ('purplish', 2), ('one.', 25), ('seas;', 7), ('sun', 52), ('produced', 5), ('extraordinary', 7), ('effects', 2), ('ideas', 5), ('passing', 21), ('lightning,', 2), ('noticed', 10), ('difﬁculty', 4), ('hav�', 3), ('fumbling', 3), ('pulled', 12), ('tomahawk,', 3), ('seal�skin', 1), ('wallet', 1), ('hair', 12), ('ghastly', 4), ('crammed', 1), ('bag.', 3), ('beaver', 3), ('singing', 10), ('surprise.', 1), ('—nothing', 1), ('scalp�knot', 1), ('twisted', 7), ('forehead.', 5), ('bald', 2), ('mildewed', 1), ('skull.', 2), ('door,', 12), ('bolted', 6), ('quicker', 1), ('dinner.', 2), ('slipping', 4), ('back.', 12), ('coward,', 6), ('head�peddling', 1), ('purple', 4), ('rascal', 2), ('ignorance', 8), ('parent', 1), ('fear,', 6), ('nonplussed', 1), ('game', 10), ('inexplicable', 4), ('meanwhile,', 11), ('continued', 12), ('undressing,', 1), ('arms.', 5), ('live,', 3), ('checkered', 1), ('face;', 6), ('back,', 35), ('squares;', 1), ('war,', 1), ('escaped', 10), ('sticking�plaster', 1), ('shirt.', 2), ('more,', 35), ('legs', 16), ('marked,', 3), ('frogs', 1), ('running', 44), ('trunks', 2), ('palms.', 3), ('plain', 26), ('shipped', 8), ('country.', 2), ('quaked', 1), ('peddler', 1), ('brothers.', 1), ('tomahawk!', 2), ('shuddering,', 2), ('some�', 4), ('fascinated', 2), ('attention,', 1), ('convinced', 4), ('heathen.', 1), ('grego,', 1), ('wrapall,', 1), ('dreadnaught,', 1), ('previously', 16), ('chair,', 2), ('fumbled', 1), ('pockets,', 5), ('curious', 47), ('deformed', 1), ('hunch', 1), ('color', 5), ('days’', 6), ('congo', 2), ('baby.', 2), ('embalmed', 5), ('manikin', 1), ('real', 23), ('baby', 3), ('sim�', 1), ('ilar', 1), ('glistened', 3), ('polished', 7), ('ebony,', 2), ('idol,', 4), ('removing', 6), ('ﬁre�board,', 1), ('sets', 3), ('hunchbacked', 2), ('tenpin,', 1), ('andirons.', 1), ('jambs', 1), ('bricks', 1), ('inside', 15), ('sooty,', 1), ('ﬁre�place', 1), ('appropriate', 1), ('shrine', 2), ('idol.', 1), ('screwed', 5), ('hidden', 21), ('ill', 13), ('ease', 6), ('meantime', 6), ('follow.', 3), ('takes', 24), ('handful', 5), ('grego', 2), ('places', 11), ('carefully', 8), ('idol;', 2), ('biscuit', 4), ('top', 29), ('applying', 1), ('ﬂame', 12), ('lamp,', 5), ('kindled', 2), ('sacriﬁcial', 2), ('blaze.', 1), ('presently,', 6), ('hasty', 2), ('snatches', 3), ('ﬁre,', 18), ('hastier', 1), ('withdrawals', 1), ('ﬁngers', 9), ('(whereby', 1), ('scorching', 3), ('badly),', 1), ('succeeded', 9), ('drawing', 32), ('biscuit;', 1), ('heat', 12), ('little,', 11), ('polite', 6), ('offer', 6), ('negro.', 2), ('dry', 11), ('all;', 19), ('moved', 14), ('lips.', 4), ('antics', 1), ('accompanied', 6), ('guttural', 2), ('noises', 2), ('devotee,', 1), ('praying', 3), ('sing�song', 1), ('pagan', 17), ('psalmody', 1), ('during', 29), ('twitched', 3), ('extinguishing', 1), ('idol', 6), ('unceremoniously,', 1), ('bagged', 1), ('pocket', 6), ('carelessly', 3), ('sportsman', 1), ('bagging', 2), ('woodcock.', 1), ('proceedings', 4), ('increased', 4), ('uncomfortableness,', 1), ('exhibiting', 2), ('symptoms', 4), ('concluding', 10), ('operations,', 1), ('jump�', 1), ('never,', 1), ('spell', 6), ('bound.', 2), ('spent', 8), ('deliberating', 1), ('fatal', 16), ('tomahawk', 10), ('examined', 1), ('instant,', 21), ('handle,', 1), ('puffed', 1), ('clouds', 9), ('tobacco', 4), ('extinguished,', 1), ('cannibal,', 4), ('sprang', 13), ('sang', 1), ('now;', 20), ('giving', 27), ('sudden', 34), ('grunt', 1), ('stammering', 1), ('something,', 5), ('what,', 10), ('conjured', 1), ('whoever', 5), ('quiet,', 3), ('again.', 34), ('responses', 1), ('satisﬁed', 5), ('comprehended', 3), ('“who�e', 1), ('debel', 1), ('you?”', 3), ('speak�e,', 1), ('dam�me,', 2), ('kill�e.”', 1), ('ﬂourishing', 1), ('dark.', 1), ('sake,', 5), ('cofﬁn!”', 3), ('watch!', 2), ('cof�', 3), ('ﬁn!', 1), ('angels!', 1), ('me!”', 1), ('“speak�e!', 1), ('tell�ee', 1), ('who�ee', 1), ('kill�e!”', 1), ('growled', 1), ('ﬂourishings', 1), ('scattered', 9), ('ﬁre.', 7), ('thank', 11), ('heaven,', 9), ('ran', 23), ('“don’t', 4), ('now,”', 11), ('“queequeg', 2), ('harm', 3), ('“stop', 1), ('grinning,”', 1), ('cannibal?”', 1), ('know’d', 1), ('it;', 92), ('ye,', 78), ('peddlin’', 1), ('town?', 1), ('sleep.', 5), ('queequeg,', 68), ('sabbee', 3), ('sleepe', 1), ('sabbee?”', 1), ('“me', 1), ('plenty”', 1), ('grunted', 1), ('pufﬁng', 4), ('gettee', 1), ('in,”', 1), ('motioning', 1), ('clothes', 6), ('side.', 17), ('civil', 2), ('charitable', 4), ('moment.', 3), ('tattooings', 1), ('clean,', 2), ('comely', 1), ('cannibal.', 1), ('what’s', 38), ('fuss', 1), ('am:', 1), ('drunken', 3), ('christian.', 1), ('“tell', 1), ('stash', 3), ('pipe,', 10), ('smoking,', 1), ('short,', 22), ('smoking', 17), ('dangerous.', 1), ('insured.”', 1), ('complied,', 2), ('politely', 4), ('motioned', 2), ('rolling', 28), ('wont', 15), ('touch', 26), ('ye.', 11), ('“good', 4), ('go.”', 4), ('u', 3), ('pon', 2), ('waking', 6), ('morning', 32), ('daylight,', 4), ('queequeg’s', 26), ('loving', 6), ('affectionate', 2), ('wife.', 1), ('patchwork,', 1), ('odd', 11), ('parti�', 2), ('colored', 3), ('triangles;', 1), ('inter�', 1), ('minable', 1), ('cretan', 2), ('labyrinth', 3), ('ﬁgure,', 3), ('precise', 18), ('shade', 4), ('owing', 24), ('keeping', 11), ('unmethodically', 2), ('shade,', 1), ('sleeves', 4), ('irregularly', 2), ('strip', 9), ('patchwork', 1), ('quilt.', 1), ('indeed,', 47), ('awoke,', 1), ('hardly', 32), ('quilt,', 1), ('blended', 4), ('hues', 2), ('together;', 12), ('pressure', 4), ('hugging', 2), ('sensations', 2), ('strange.', 2), ('explain', 7), ('child,', 5), ('remember', 11), ('circumstance', 15), ('befell', 3), ('me;', 29), ('reality', 4), ('dream,', 4), ('settle.', 2), ('caper', 1), ('crawl', 6), ('chimney,', 2), ('previous;', 2), ('stepmother', 1), ('whipping', 2), ('sending', 8), ('supperless,', 1), ('mother', 9), ('dragged', 17), ('o’clock', 6), ('21st', 1), ('longest', 3), ('hemisphere.', 1), ('dreadfully.', 1), ('sigh', 1), ('sheets.', 1), ('dismally', 2), ('calculating', 5), ('sixteen', 7), ('entire', 50), ('elapse', 2), ('hope', 25), ('resurrection.', 1), ('bed!', 1), ('ached', 1), ('shining', 2), ('rattling', 4), ('coaches', 1), ('sound', 32), ('voices', 5), ('dressed,', 2), ('softly', 7), ('stockinged', 1), ('stepmother,', 1), ('beseeching', 2), ('favor', 3), ('slippering', 1), ('misbehavior;', 1), ('condemning', 1), ('abed', 2), ('unendurable', 1), ('conscientious', 6), ('stepmothers,', 1), ('several', 46), ('awake,', 3), ('since,', 3), ('greatest', 10), ('subsequent', 13), ('misfortunes.', 1), ('fallen', 3), ('troubled', 13), ('doze;', 1), ('steeped', 1), ('dreams', 5), ('sun�lit', 2), ('wrapped', 8), ('outer', 19), ('darkness.', 1), ('instantly', 19), ('shock', 9), ('frame;', 1), ('heard;', 7), ('supernatural', 6), ('mine.', 7), ('nameless,', 3), ('unimaginable,', 2), ('belonged,', 2), ('closely', 13), ('bedside.', 1), ('ages', 7), ('piled', 12), ('ages,', 3), ('awful', 17), ('fears,', 3), ('daring', 5), ('drag', 13), ('hand;', 9), ('stir', 4), ('inch,', 2), ('broken.', 1), ('consciousness', 4), ('glided', 13), ('shudderingly', 1), ('weeks', 7), ('months', 11), ('confounding', 1), ('attempts', 3), ('mystery.', 1), ('hour,', 8), ('often', 63), ('puzzle', 2), ('similar,', 1), ('strangeness,', 2), ('experienced', 10), ('past', 16), ('night’s', 4), ('events', 6), ('soberly', 1), ('recurred,', 1), ('reality,', 3), ('alive', 13), ('comical', 2), ('predicament.', 1), ('move', 7), ('unlock', 1), ('bridegroom', 1), ('clasp', 1), ('hugged', 1), ('tightly,', 1), ('naught', 10), ('twain.', 1), ('strove', 7), ('rouse', 1), ('“queequeg!”', 1), ('snore.', 1), ('neck', 3), ('horse�collar;', 1), ('slight', 8), ('scratch.', 1), ('aside', 15), ('savage’s', 3), ('side,', 54), ('hatchet�faced', 1), ('pickle,', 2), ('i;', 6), ('“queequeg!', 2), ('goodness,', 2), ('wake!”', 1), ('length,', 17), ('wriggling,', 1), ('incessant', 5), ('expostulations', 1), ('unbecomingness', 1), ('matrimonial', 1), ('style,', 1), ('extracting', 2), ('grunt;', 1), ('drew', 21), ('arm,shook', 1), ('newfoundland', 2), ('dog', 6), ('pike�staff,', 1), ('rub�', 1), ('bing', 1), ('dawning', 1), ('serious', 9), ('misgivings', 1), ('bent', 12), ('narrowly', 2), ('creature.', 3), ('last,', 40), ('character', 8), ('bedfellow,', 1), ('became,', 1), ('reconciled', 2), ('fact;', 3), ('signs', 12), ('dress', 4), ('leave', 17), ('afterwards,', 9), ('apartment', 5), ('myself.', 4), ('civilized', 13), ('overture;', 1), ('innate', 1), ('delicacy,', 3), ('will;', 2), ('essentially', 2), ('are.', 6), ('compliment', 1), ('treated', 5), ('civility', 1), ('consideration,', 1), ('guilty', 5), ('rudeness;', 1), ('staring', 6), ('watching', 15), ('toilette', 1), ('motions;', 2), ('breeding.', 2), ('nev�', 1), ('ertheless,', 1), ('ways', 10), ('worth', 11), ('unusual', 10), ('regarding.', 1), ('dressing', 1), ('donning', 1), ('hat,', 13), ('by,', 19), ('minus', 3), ('trowsers', 4), ('hunted', 13), ('boots.', 2), ('heavens', 7), ('for,', 46), ('tell,', 5), ('movement', 5), ('crush', 4), ('sundry', 3), ('gaspings', 1), ('strainings,', 1), ('booting', 1), ('himself;', 9), ('law', 9), ('propriety', 2), ('of,', 18), ('required', 2), ('see,', 20), ('creature', 25), ('neither', 16), ('caterpillar', 1), ('butterﬂy.', 1), ('show', 31), ('outlandishness', 1), ('strangest', 3), ('education', 1), ('completed.', 1), ('undergraduate.', 1), ('degree', 19), ('civilized,', 2), ('savage,', 10), ('dreamt', 1), ('dented', 3), ('crushed', 7), ('limping', 3), ('if,', 18), ('accustomed', 5), ('cowhide', 1), ('ones', 7), ('pinched', 1), ('morning.', 10), ('seeing,', 2), ('curtains', 1), ('commanded', 22), ('indecorous', 1), ('ﬁgure', 11), ('made,', 8), ('staving', 2), ('on;', 15), ('begged', 4), ('could,', 5), ('accelerate', 3), ('toilet', 2), ('somewhat,', 1), ('possible.', 2), ('wash', 3), ('himself.', 15), ('amazement,', 1), ('contented', 1), ('restricting', 1), ('ablutions', 1), ('chest,', 5), ('arms,', 6), ('hands.', 8), ('donned', 1), ('waistcoat,', 1), ('piece', 10), ('soap', 1), ('centre�table,', 1), ('dipped', 3), ('lathering', 1), ('face.', 10), ('razor,', 1), ('lo', 2), ('behold,', 2), ('slips', 2), ('stock,', 1), ('unsheathes', 1), ('whets', 1), ('boot,', 1), ('striding', 4), ('mirror', 2), ('begins', 11), ('vigorous', 9), ('scraping,', 1), ('harpooning', 2), ('using', 10), ('rogers’s', 1), ('cutlery', 1), ('vengeance.', 4), ('operation', 6), ('steel', 22), ('exceedingly', 15), ('kept.', 1), ('achieved,', 1), ('proudly', 2), ('marched', 2), ('pilot', 10), ('marshal’s', 1), ('baton.', 1), ('quickly', 19), ('suit,', 2), ('descending', 9), ('bar�room', 2), ('accosted', 4), ('pleasantly.', 1), ('cherished', 3), ('malice', 9), ('skylarking', 2), ('bedfellow.', 1), ('laugh', 10), ('thing,', 27), ('scarce', 11), ('more’s', 1), ('pity.', 1), ('proper', 29), ('person,', 3), ('stuff', 12), ('joke', 5), ('anybody,', 1), ('backward,', 1), ('allow', 3), ('bountifully', 1), ('laughable', 1), ('per�', 10), ('haps', 3), ('for.', 4), ('previous,', 5), ('whalemen;', 5), ('mates,', 12), ('carpenters,', 3), ('coopers,', 2), ('blacksmiths,', 1), ('harpooneers,', 10), ('keepers;', 1), ('brawny', 4), ('company,', 10), ('bosky', 1), ('beards;', 1), ('unshorn,', 1), ('set,', 8), ('jackets', 3), ('gowns.', 1), ('fellow’s', 6), ('cheek', 5), ('sun�toasted', 1), ('pear', 2), ('hue,', 6), ('smell', 9), ('musky;', 1), ('voyage.', 9), ('looks', 24), ('lighter;', 1), ('satin', 1), ('wood', 13), ('complexion', 4), ('lingers', 1), ('tropic', 4), ('tawn,', 1), ('slightly', 13), ('bleached', 3), ('withal;', 1), ('tarried', 1), ('queequeg?', 1), ('barred', 1), ('tints,', 1), ('andes’', 2), ('western', 8), ('slope,', 1), ('forth', 48), ('array,', 2), ('contrasting', 9), ('climates,', 1), ('zone', 2), ('zone.', 2), ('“grub,', 1), ('ho!”now', 1), ('cried', 143), ('ﬂinging', 7), ('breakfast.', 1), ('manner,', 5), ('self�possessed', 1), ('company.', 4), ('always,', 5), ('though:', 1), ('ledyard,', 1), ('traveller,', 2), ('mungo', 1), ('park,', 1), ('scotch', 2), ('assurance', 1), ('parlor.', 3), ('siberia', 1), ('sledge', 1), ('ledyard', 1), ('solitary', 18), ('walk', 7), ('stomach,', 1), ('africa,', 4), ('sum', 7), ('mungo’s', 1), ('performances', 2), ('travel,', 1), ('mode', 3), ('attaining', 4), ('polish.', 1), ('anywhere.', 2), ('reﬂections', 3), ('occasioned', 1), ('preparing', 3), ('stories', 5), ('whaling;', 4), ('surprise,', 4), ('maintained', 4), ('profound', 18), ('silence.', 3), ('embarrassed.', 1), ('sea�dogs,', 1), ('slightest', 20), ('bashfulness', 1), ('boarded', 6), ('strangers', 4), ('duelled', 1), ('winking;', 1), ('calling,', 1), ('kindred', 5), ('tastes', 1), ('sheepishly', 1), ('sheepfold', 2), ('mountains.', 1), ('sight;', 6), ('bashful', 1), ('bears,', 1), ('timid', 7), ('warrior', 3), ('whalemen!', 1), ('why,queequeg', 1), ('chanced;', 1), ('icicle.', 1), ('admirer', 1), ('cordially', 1), ('justiﬁed', 2), ('ceremony;', 1), ('imminent', 5), ('jeopardy', 4), ('grappling', 1), ('beefsteaks', 1), ('coolly', 5), ('knows', 22), ('estimation,', 1), ('genteelly.', 1), ('peculiarities', 9), ('here;', 12), ('eschewed', 1), ('fee', 1), ('rolls,', 2), ('applied', 6), ('undivided', 1), ('attention', 6), ('beefsteaks,', 1), ('rare.', 1), ('withdrew', 3), ('pub�', 1), ('lic', 1), ('tomahawk�pipe,', 2), ('digesting', 2), ('inseparable', 2), ('sallied', 5), ('stroll.', 1), ('f', 12), ('astonished', 3), ('glimpse', 10), ('individual', 12), ('circulating', 1), ('society', 6), ('as�', 2), ('tonishment', 1), ('departed', 5), ('daylight', 3), ('stroll', 2), ('thoroughfares', 2), ('seaport', 1), ('queerest', 3), ('nondescripts', 1), ('foreign', 8), ('parts.', 4), ('broadway', 1), ('chestnut', 1), ('mediterranean', 5), ('jostle', 1), ('affrighted', 5), ('ladies.', 2), ('regent', 1), ('lascars', 1), ('malays;', 1), ('bombay,', 1), ('apollo', 1), ('green,', 5), ('live', 55), ('yankees', 2), ('scared', 2), ('natives.', 1), ('beats', 2), ('wapping.', 1), ('last�mentioned', 1), ('sailors;', 2), ('actual', 3), ('cannibals', 5), ('chatting', 2), ('corners;', 1), ('outright;', 2), ('unholy', 2), ('ﬂesh.', 3), ('makes', 38), ('stare.', 1), ('feegeeans,', 1), ('tongatabooans,', 1), ('erromanggoans,', 1), ('pannangians,', 1), ('brighggians,', 1), ('whaling�craft', 1), ('un�', 11), ('heeded', 7), ('reel', 5), ('curious,', 5), ('comical.', 2), ('weekly', 1), ('vermonters', 1), ('hampshire', 1), ('gain', 12), ('ﬁshery.', 8), ('mostly', 10), ('young,', 3), ('stalwart', 1), ('frames;', 1), ('fellows', 7), ('felled', 1), ('forests,', 3), ('seek', 13), ('axe', 1), ('snatch', 4), ('whale�lance.', 1), ('whence', 14), ('came.', 4), ('old.', 2), ('strutting', 1), ('corner.', 1), ('swallow�tailed', 1), ('girdled', 2), ('sailor�belt', 1), ('sheath�knife.', 1), ('an�', 10), ('sou’�wester', 1), ('bombazine', 1), ('cloak.', 1), ('town�bred', 1), ('dandy', 3), ('country�bred', 1), ('down�', 1), ('bumpkin', 2), ('dog�days,', 1), ('mow', 1), ('buckskin', 3), ('gloves', 1), ('distinguished', 7), ('reputation,', 2), ('joins', 1), ('whale�ﬁshery,', 1), ('sea�', 4), ('port.', 3), ('bespeaking', 2), ('sea�outﬁt,', 1), ('bell�buttons', 1), ('waistcoats;', 1), ('straps', 2), ('canvas', 9), ('trowsers.', 2), ('ah,', 8), ('hay�seed!', 1), ('bitterly', 3), ('burst', 19), ('gale,', 11), ('straps,', 2), ('buttons,', 1), ('throat', 2), ('tempest.', 1), ('bumpkins', 2), ('visitors.', 1), ('tract', 1), ('condition', 6), ('frighten', 3), ('bony.', 1), ('dearest', 1), ('england.', 1), ('enough:', 1), ('canaan;', 1), ('also,', 21), ('corn', 2), ('wine.', 2), ('milk;', 1), ('spring�time', 1), ('pave', 1), ('eggs.', 1), ('spite', 17), ('nowhere', 3), ('america', 8), ('patrician�like', 1), ('houses;', 1), ('parks', 1), ('gardens', 3), ('opulent,', 1), ('they?', 1), ('planted', 14), ('scraggy', 1), ('scoria', 1), ('country?', 2), ('gaze', 13), ('emblematical', 2), ('lofty', 20), ('man�', 3), ('sion,', 1), ('question', 17), ('answered.', 1), ('yes;', 4), ('brave', 13), ('houses', 4), ('ﬂowery', 3), ('atlantic,', 6), ('paciﬁc,', 11), ('hither', 7), ('bottom', 36), ('herr', 1), ('alexander', 2), ('perform', 3), ('feat', 3), ('that?', 14), ('fathers,', 1), ('dowers', 1), ('daughters,', 1), ('nieces', 1), ('porpoises', 2), ('a�piece.', 1), ('brilliant', 1), ('wedding;', 1), ('reservoirs', 1), ('recklessly', 6), ('burn', 7), ('lengths', 2), ('spermaceti', 12), ('candles.', 1), ('sweet', 23), ('see;', 9), ('maples', 1), ('gold.', 4), ('august,', 2), ('beautiful', 5), ('bountiful', 1), ('horse�', 2), ('chestnuts,', 1), ('candelabra�wise,', 1), ('proffer', 1), ('passer�by', 1), ('tapering', 12), ('cones', 1), ('congregated', 2), ('blossoms.', 1), ('omnipotent', 4), ('art;', 1), ('district', 1), ('superinduced', 1), ('terraces', 2), ('ﬂowers', 4), ('barren', 3), ('refuse', 6), ('rocks', 11), ('creation’s', 1), ('women', 7), ('bloom', 4), ('roses.', 1), ('roses', 1), ('summer;', 1), ('carnation', 1), ('cheeks', 3), ('peren�', 1), ('nial', 1), ('sunlight', 1), ('seventh', 5), ('heavens.', 1), ('match', 6), ('theirs,', 4), ('cannot,', 4), ('salem,', 1), ('girls', 4), ('breathe', 5), ('musk,', 2), ('sweethearts', 1), ('odorous', 3), ('moluccas', 1), ('instead', 24), ('puritanic', 1), ('sands.', 1), ('n', 17), ('chapel,', 3), ('moody', 12), ('ﬁshermen,', 4), ('shortly', 9), ('fail', 14), ('spot.', 1), ('returning', 5), ('stroll,', 1), ('errand.', 2), ('sky', 12), ('clear,', 6), ('sunny', 5), ('cold,', 7), ('sleet', 7), ('mist.', 2), ('wrapping', 1), ('jacket', 10), ('cloth', 3), ('bearskin,', 1), ('fought', 4), ('stubborn', 3), ('storm.', 5), ('congregation', 4), ('sailors,', 12), ('sailors’', 3), ('wives', 3), ('widows.', 1), ('silence', 8), ('reigned,', 2), ('shrieks', 5), ('worshipper', 1), ('purposely', 3), ('sit�', 1), ('ting', 2), ('apart', 7), ('grief', 4), ('incommunicable.', 1), ('chaplain', 1), ('arrived;', 1), ('islands', 7), ('steadfastly', 5), ('marble', 14), ('tablets,', 4), ('borders,', 1), ('masoned', 2), ('following,', 1), ('quote:', 1), ('tothememory', 3), ('o', 38), ('talbot,', 1), ('age', 14), ('eighteen,', 2), ('overboard,', 5), ('isle', 8), ('desolation,', 2), ('patagonia,', 1), ('1st,', 1), ('1836.', 1), ('tablet', 2), ('erected', 5), ('memory', 7), ('sister.', 1), ('robert', 1), ('willis', 1), ('ellery', 1), ('coleman,', 1), ('walter', 1), ('canny', 1), ('seth', 1), ('macy', 1), ('gleig,', 1), ('forming', 13), ('boats’', 5), ('eliza,', 1), ('towed', 7), ('off�shore', 1), ('ground', 23), ('pacific,', 1), ('december', 1), ('31st,', 1), ('surviving', 2), ('shipmates.', 1), ('ezekiel', 1), ('hardy', 8), ('bows', 22), ('japan,', 6), ('august', 6), ('3d,', 1), ('1833.', 1), ('widow.', 2), ('ice�glazed', 1), ('sideways', 26), ('surprised', 4), ('affected', 6), ('solemnity', 1), ('scene,', 7), ('wondering', 4), ('incredulous', 5), ('countenance.', 4), ('person', 18), ('present', 68), ('notice', 11), ('entrance;', 1), ('read,', 3), ('therefore,', 30), ('reading', 7), ('frigid', 3), ('inscriptions', 2), ('wall.', 3), ('relatives', 1), ('names', 10), ('appeared', 7), ('congregation,', 3), ('not;', 7), ('unrecorded', 2), ('accidents', 6), ('ﬁshery,', 24), ('wear', 8), ('countenance', 6), ('trappings', 2), ('unceasing', 2), ('grief,', 2), ('assembled', 2), ('those,', 2), ('unhealing', 1), ('tablets', 2), ('sympathetically', 1), ('caused', 11), ('wounds', 1), ('bleed', 1), ('afresh.', 3), ('oh!', 42), ('buried', 12), ('grass;', 2), ('beloved;', 1), ('desolation', 2), ('broods', 2), ('bosoms', 2), ('these.', 1), ('blanks', 1), ('black�bordered', 1), ('mar�', 3), ('bles', 1), ('ashes!', 2), ('despair', 3), ('immovable', 3), ('inscriptions!', 1), ('deadly', 21), ('voids', 2), ('unbidden', 2), ('inﬁdelities', 1), ('gnaw', 1), ('faith,', 7), ('resurrections', 1), ('beings', 4), ('placelessly', 1), ('perished', 5), ('with�', 4), ('grave.', 2), ('cave', 3), ('elephanta', 1), ('here.', 21), ('census', 5), ('mankind', 9), ('included;', 1), ('proverb', 4), ('tales,', 1), ('secrets', 5), ('goodwin', 1), ('sands;', 1), ('yesterday', 6), ('preﬁx', 1), ('signiﬁcant', 8), ('inﬁdel', 5), ('entitle', 1), ('embarks', 1), ('indies', 1), ('earth;', 4), ('insurance', 3), ('companies', 3), ('death�forfeitures', 1), ('immortals;', 1), ('eternal,', 3), ('unstirring', 1), ('paralysis,', 1), ('deadly,', 1), ('hopeless', 6), ('trance,', 1), ('antique', 3), ('adam', 4), ('died', 16), ('centuries', 12), ('ago;', 3), ('comforted', 1), ('nevertheless', 13), ('maintain', 5), ('dwelling', 1), ('unspeakable', 8), ('bliss;', 2), ('strive', 1), ('hush', 2), ('dead;', 4), ('rumor', 1), ('tomb', 1), ('city.', 1), ('meanings.', 3), ('jackal,', 1), ('feeds', 3), ('tombs,', 1), ('doubts', 4), ('gathers', 2), ('vital', 10), ('hope.', 5), ('scarcely', 8), ('told,', 4), ('feelings,', 1), ('eve', 2), ('murky', 2), ('darkened,', 1), ('doleful', 2), ('read', 23), ('fate', 9), ('thine.', 2), ('grew', 14), ('delightful', 1), ('induce�', 1), ('ments', 2), ('embark,', 1), ('promotion,', 1), ('aye,', 80), ('immortal', 13), ('brevet.', 1), ('speechlessly', 1), ('chaotic', 1), ('bundling', 1), ('eternity.', 3), ('then?', 9), ('methinks', 10), ('hugely', 1), ('mistaken', 7), ('shadow', 12), ('substance.', 4), ('spiritual,', 2), ('oysters', 3), ('thinnest', 2), ('lees', 3), ('being.', 3), ('fact', 23), ('will,', 25), ('cheers', 2), ('nantucket;', 2), ('stave', 9), ('jove', 3), ('cannot.', 1), ('venerable', 8), ('robustness', 2), ('entered;', 1), ('storm�pelted', 1), ('admitting', 2), ('regardful', 1), ('sufﬁciently', 8), ('attested', 2), ('chaplain.', 1), ('father', 15), ('mapple,', 2), ('favorite.', 1), ('youth,', 2), ('dedicated', 1), ('ministry.', 1), ('mapple', 7), ('age;', 2), ('merging', 1), ('ﬂowering', 1), ('ﬁssures', 1), ('wrinkles,', 2), ('gleams', 3), ('developing', 1), ('verdure', 1), ('peeping', 1), ('february’s', 1), ('snow.', 2), ('history,', 4), ('behold', 10), ('utmost', 14), ('interest,', 1), ('engrafted', 1), ('clerical', 1), ('imputable', 2), ('maritime', 4), ('led.', 1), ('observed', 12), ('carried', 30), ('umbrella,', 1), ('carriage,', 1), ('tarpaulin', 2), ('melting', 2), ('sleet,', 3), ('absorbed.', 1), ('overshoes', 1), ('removed,', 1), ('adjacent', 1), ('arrayed', 2), ('approached', 1), ('fashioned', 6), ('pulpits,', 2), ('height', 9), ('would,', 7), ('seriously', 3), ('contract', 1), ('area', 4), ('architect,', 2), ('seemed,', 8), ('acted', 2), ('hint', 17), ('ﬁnished', 4), ('stairs,', 4), ('substituting', 2), ('ladder,', 4), ('mounting', 3), ('wife', 13), ('provided', 6), ('handsome', 3), ('worsted', 2), ('man�ropes', 1), ('nicely', 2), ('headed,', 1), ('mahogany', 1), ('contrivance,', 1), ('means', 42), ('taste.', 4), ('grasping', 5), ('ornamental', 1), ('knobs', 1), ('ropes,', 2), ('cast', 30), ('upwards,', 8), ('truly', 12), ('sailor�like', 1), ('reverential', 1), ('dexterity,', 1), ('ascending', 6), ('main�top', 3), ('usually', 7), ('cloth�covered', 1), ('rope,', 9), ('rounds', 2), ('wood,', 7), ('step', 15), ('joint.', 1), ('pulpit,', 5), ('joints', 3), ('instance', 9), ('unnecessary.', 3), ('gaining', 10), ('stooping', 4), ('ladder', 7), ('step,', 5), ('deposited', 1), ('impregnable', 2), ('quebec.', 2), ('fully', 18), ('comprehending', 2), ('enjoyed', 1), ('reputation', 2), ('sincerity', 1), ('sanctity,', 1), ('courting', 1), ('notoriety', 1), ('tricks', 3), ('stage.', 2), ('furthermore,', 4), ('symbol�', 2), ('ize', 1), ('unseen.', 1), ('isolation,', 1), ('signiﬁes', 2), ('spiritual', 9), ('withdrawal', 1), ('outward', 8), ('worldly', 1), ('ties', 1), ('connexions?', 1), ('replenished', 5), ('faithful', 6), ('god,', 24), ('self�containing', 1), ('stronghold', 1), ('ehrenbreitstein,', 1), ('perennial', 1), ('walls.', 1), ('feature', 3), ('borrowed', 3), ('chaplain’s', 1), ('former', 19), ('sea�farings.', 1), ('cenotaphs', 1), ('adorned', 1), ('paint�', 1), ('gallant', 5), ('snowy', 8), ('breakers.', 1), ('scud', 3), ('dark�rolling', 1), ('clouds,', 1), ('sunlight,', 4), ('beamed', 1), ('angel’s', 1), ('shed', 4), ('distinct', 15), ('radiance', 2), ('ship’s', 77), ('deck,', 67), ('silver', 7), ('plate', 5), ('inserted', 13), ('victory’s', 1), ('plank', 8), ('nelson', 1), ('fell.', 1), ('“ah,', 3), ('ship,”', 2), ('“beat', 1), ('beat', 21), ('helm;', 2), ('lo!', 13), ('through;', 3), ('serenest', 1), ('azure', 2), ('hand.”', 2), ('trace', 4), ('sea�taste', 1), ('achieved', 2), ('picture.', 1), ('panelled', 2), ('likeness', 5), ('bluff', 1), ('bows,', 19), ('bible', 8), ('rested', 2), ('scroll', 1), ('work,', 9), ('ﬁddle�headed', 1), ('beak.', 1), ('meaning?', 1), ('earth’s', 3), ('foremost', 6), ('part;', 3), ('rear;', 2), ('leads', 3), ('wrath', 4), ('descried,', 6), ('bow', 12), ('earliest', 3), ('brunt.', 1), ('breezes', 1), ('invoked', 3), ('favorable', 1), ('winds.', 1), ('complete;', 2), ('prow.', 4), ('ather', 1), ('rose,', 6), ('unassuming', 1), ('authority', 3), ('ordered', 8), ('condense.', 1), ('“starboard', 1), ('gangway,', 1), ('lar�', 2), ('larboard', 4), ('gangway', 2), ('starboard!', 1), ('midships!', 1), ('midships!”', 1), ('rumbling', 2), ('sea�boots', 1), ('slighter', 2), ('shufﬂing', 2), ('women’s', 1), ('shoes,', 3), ('preacher.', 1), ('paused', 11), ('little;', 2), ('kneeling', 4), ('pulpit’s', 1), ('folded', 7), ('across', 26), ('uplifted', 10), ('closed', 8), ('offered', 10), ('prayer', 3), ('devout', 4), ('ended,', 3), ('prolonged', 7), ('solemn', 11), ('tones,', 2), ('continual', 14), ('tolling', 1), ('bell', 3), ('foundering', 3), ('fog', 3), ('tones', 2), ('hymn;', 1), ('changing', 2), ('stanzas,', 1), ('pealing', 1), ('exultation', 1), ('joy', 9), ('terrors', 15), ('gloom,', 4), ('deepening', 1), ('doom.', 2), ('maw', 2), ('hell,', 1), ('sorrows', 1), ('there;', 32), ('oh,', 68), ('plunging', 6), ('despair.', 2), ('distress,', 2), ('mine,', 9), ('bowed', 7), ('ear', 7), ('complaints', 1), ('conﬁne.', 1), ('speed', 7), ('relief,', 2), ('radiant', 1), ('dolphin', 2), ('borne;', 1), ('awful,', 2), ('deliverer', 2), ('god.', 8), ('record', 4), ('terrible,that', 1), ('joyful', 3), ('hour;', 5), ('mercy', 7), ('power.”', 1), ('joined', 7), ('hymn,', 1), ('swelled', 6), ('pause', 2), ('ensued;', 2), ('preacher', 1), ('bible,', 1), ('page,', 2), ('said:', 6), ('“beloved', 1), ('clinch', 3), ('verse', 1), ('‘and', 2), ('jonah.’', 1), ('“shipmates,', 2), ('book,', 9), ('chapters', 5), ('yarns', 5), ('smallest', 9), ('strands', 2), ('cable', 4), ('scriptures.', 1), ('depths', 3), ('jonah’s', 12), ('sea�line', 1), ('sound!', 3), ('pregnant', 3), ('lesson', 9), ('prophet!', 1), ('canticle', 1), ('ﬁsh’s', 4), ('belly!', 1), ('billow�like', 1), ('boisterously', 1), ('grand!', 1), ('ﬂoods', 1), ('surging', 1), ('us;', 12), ('kelpy', 1), ('waters;', 7), ('sea�weed', 2), ('slime', 1), ('us!', 4), ('teaches?', 1), ('two�stranded', 1), ('lesson;', 2), ('sinful', 3), ('god.as', 1), ('sin,', 1), ('hard�heartedness,', 1), ('awakened', 4), ('punishment,', 1), ('repentance,', 1), ('prayers,', 4), ('deliverance', 3), ('sinners', 1), ('sin', 7), ('son', 15), ('amittai', 1), ('wilful', 6), ('disobedience', 2), ('command', 10), ('conveyed', 4), ('command.', 6), ('hence,', 12), ('oftener', 4), ('commands', 2), ('endeavors', 2), ('persuade.', 1), ('disobey', 2), ('ourselves;', 1), ('disobeying', 1), ('ourselves,', 2), ('wherein', 8), ('hardness', 1), ('obeying', 5), ('consists.', 3), ('ﬂouts', 1), ('seeking', 11), ('ﬂee', 4), ('countries', 3), ('reign,', 1), ('captains', 9), ('earth.', 5), ('skulks', 1), ('joppa,', 5), ('seeks', 6), ('tarshish.', 1), ('lurks,', 1), ('hitherto', 14), ('unheeded', 2), ('accounts', 4), ('tarshish', 4), ('modern', 16), ('cadiz.', 1), ('opinion', 7), ('men.', 17), ('cadiz,', 1), ('shipmates?', 2), ('cadiz', 2), ('spain;', 1), ('sailed', 32), ('days,', 16), ('jaffa,', 2), ('easterly', 1), ('mediterranean,', 3), ('syrian;', 1), ('westward', 3), ('outside', 4), ('straits', 8), ('gibraltar.', 1), ('world�wide', 2), ('god?', 2), ('mis�', 1), ('erable', 2), ('man!', 17), ('worthy', 7), ('scorn;', 2), ('slouched', 7), ('eye,', 15), ('skulking', 1), ('god;', 4), ('prowling', 1), ('shipping', 5), ('burglar', 3), ('hastening', 1), ('cross', 9), ('seas.', 14), ('disordered,', 1), ('self�condemning', 1), ('policemen', 1), ('suspicion', 3), ('wrong,', 3), ('arrested', 3), ('touched', 11), ('fugitive!', 1), ('baggage,', 1), ('hat�box,', 1), ('valise,', 1), ('accompany', 2), ('wharf', 5), ('adieux.', 1), ('dodging', 3), ('search,', 2), ('ﬁnds', 9), ('items', 2), ('cargo;and', 1), ('cap�', 11), ('tain', 6), ('cabin,', 21), ('desist', 2), ('hoisting', 11), ('goods,', 1), ('stranger’s', 6), ('evil', 10), ('eye.jonah', 1), ('sees', 4), ('vain', 17), ('tries', 1), ('conﬁdence;', 1), ('essays', 2), ('smile.', 2), ('intuitions', 3), ('innocent.', 1), ('gamesome', 5), ('whispers', 1), ('‘jack,', 1), ('robbed', 2), ('widow;’', 1), ('or,', 12), ('‘joe,', 1), ('bigamist;’', 1), ('‘harry', 1), ('lad,', 12), ('adulterer', 1), ('jail', 1), ('gomorrah,', 2), ('belike,', 1), ('missing', 11), ('murderers', 4), ('sodom.’', 1), ('runs', 7), ('spile', 2), ('moored,', 1), ('gold', 20), ('coins', 3), ('apprehension', 2), ('parricide,', 1), ('person.', 4), ('reads,', 1), ('bill;', 2), ('sympathetic', 2), ('crowd', 8), ('frighted', 3), ('trembles,', 2), ('summoning', 2), ('coward.', 2), ('suspected;', 1), ('suspicion.', 1), ('advertised,', 1), ('pass,', 4), ('descends', 2), ('cabin.', 17), ('“‘who’s', 1), ('there?’', 3), ('cries', 12), ('busy', 7), ('desk,', 3), ('hurriedly', 3), ('customs', 1), ('‘who’s', 1), ('harmless', 6), ('gles', 1), ('jonah!', 1), ('turns', 33), ('rallies.', 1), ('‘i', 6), ('tarshish;', 1), ('sir?’', 2), ('sooner', 10), ('voice,', 10), ('darts', 3), ('scrutinizing', 1), ('glance.', 3), ('‘we', 1), ('tide,’', 1), ('intently', 9), ('‘no', 3), ('sooner,', 1), ('‘soon', 1), ('passenger.’', 1), ('stab.', 1), ('swiftly', 17), ('calls', 11), ('scent.', 1), ('‘i’ll', 1), ('ye,’', 2), ('says,', 9), ('‘the', 4), ('now.’', 1), ('written,', 3), ('overlooked', 2), ('‘that', 1), ('paid', 5), ('thereof’', 1), ('craft', 30), ('sail.', 4), ('context,', 1), ('discernment', 1), ('detects', 1), ('crime', 2), ('any,', 3), ('cupidity', 2), ('exposes', 2), ('penniless.', 1), ('ship�', 3), ('freely,', 2), ('passport;', 1), ('virtue,', 3), ('pauper,', 1), ('frontiers.', 1), ('prepares', 1), ('test', 4), ('judge', 4), ('openly.', 1), ('charges', 1), ('thrice', 7), ('usual', 7), ('sum;', 1), ('assented', 1), ('fugitive;', 1), ('resolves', 2), ('ﬂight', 4), ('paves', 1), ('prudent', 5), ('suspicions', 5), ('molest', 1), ('rings', 5), ('coin', 8), ('counterfeit.', 1), ('forger,', 1), ('mutters;', 1), ('passage.', 2), ('‘point', 1), ('state�room,', 2), ('sir,’', 2), ('‘i’m', 1), ('travel�weary;', 1), ('need', 12), ('sleep.’', 1), ('‘thou', 1), ('look’st', 1), ('it,’', 1), ('‘there’s', 1), ('thy', 111), ('room.’', 1), ('enters,', 1), ('lock', 2), ('contains', 6), ('key.', 1), ('foolishly', 2), ('laughs', 2), ('lowly', 6), ('mutters', 1), ('doors', 3), ('convicts’', 1), ('cells', 1), ('allowed', 5), ('locked', 12), ('dressed', 4), ('berth,', 2), ('state�room', 1), ('ceiling', 2), ('resting', 12), ('close,', 1), ('gasps.', 1), ('contracted', 2), ('hole,', 9), ('sunk,', 2), ('water�line,', 1), ('feels', 12), ('heralding', 1), ('presentiment', 1), ('stiﬂing', 1), ('bowel’s', 1), ('wards.', 1), ('“screwed', 1), ('axis', 4), ('oscillates', 1), ('heeling', 1), ('bales', 1), ('received,', 1), ('motion,', 3), ('main�', 5), ('tains', 2), ('permanent', 4), ('obliquity', 1), ('truth,', 12), ('obvious', 6), ('false,', 2), ('levels', 3), ('hung.', 1), ('alarms', 1), ('frightens', 2), ('jonah;', 1), ('berth', 5), ('roll', 12), ('successful', 2), ('fugitive', 2), ('refuge', 3), ('rest�', 1), ('contradiction', 1), ('appalls', 1), ('ceiling,', 2), ('awry.', 1), ('‘oh!', 2), ('conscience', 8), ('hangs', 6), ('me!’', 1), ('groans,', 1), ('‘straight', 1), ('upward,', 3), ('burns;', 1), ('chambers', 1), ('crookedness!’', 1), ('hies', 1), ('reeling,', 1), ('pricking', 3), ('plungings', 1), ('roman', 13), ('race�horse', 1), ('plight', 2), ('giddy', 1), ('anguish,', 2), ('annihilation', 1), ('until', 10), ('ﬁt', 10), ('passed;', 2), ('whirl', 1), ('woe', 18), ('feels,', 3), ('stupor', 1), ('steals', 2), ('bleeds', 2), ('death,', 15), ('wound,', 6), ('staunch', 1), ('sore', 2), ('wrestlings', 1), ('prodigy', 3), ('misery', 2), ('drags', 4), ('drowning', 3), ('tide', 5), ('casts', 3), ('cables;', 1), ('deserted', 4), ('uncheered', 1), ('tarshish,', 1), ('careening,', 1), ('glides', 2), ('friends,', 8), ('recorded', 3), ('smugglers!', 1), ('contraband', 1), ('rebels;', 1), ('wicked', 9), ('burden.', 1), ('break.', 1), ('boatswain', 1), ('lighten', 1), ('her;', 5), ('boxes,', 1), ('bales,', 1), ('jars', 1), ('clattering', 2), ('overboard;', 6), ('shrieking,', 2), ('yelling,', 2), ('thunders', 2), ('trampling', 2), ('raging', 5), ('tumult,', 1), ('hideous', 9), ('reeling', 3), ('timbers,', 1), ('heeds', 2), ('rush', 13), ('cleaving', 2), ('sides', 13), ('fast', 31), ('asleep.', 3), ('frightened', 4), ('ear,', 1), ('‘what', 6), ('meanest', 4), ('thou,', 12), ('sleeper!', 1), ('arise!’', 1), ('startled', 7), ('lethargy', 1), ('cry,', 5), ('staggers', 2), ('stumbling', 1), ('grasps', 1), ('shroud,', 5), ('sprung', 5), ('panther', 1), ('billow', 4), ('bulwarks.', 5), ('wave', 6), ('leaps', 3), ('ﬁnding', 7), ('speedy', 5), ('vent', 2), ('fore', 20), ('aft,', 10), ('aﬂoat.', 2), ('ever,', 6), ('moon', 3), ('shows', 7), ('steep', 5), ('gullies', 1), ('overhead,', 3), ('aghast', 4), ('rearing', 5), ('bowsprit', 4), ('downward', 9), ('deep.', 6), ('“terrors', 1), ('shouting', 4), ('soul.', 12), ('cringing', 2), ('atti�', 2), ('tudes,', 2), ('god�fugitive', 1), ('known.', 5), ('referring', 2), ('fall', 16), ('casting', 6), ('lots,', 1), ('tempest', 4), ('jonah’s;', 1), ('discovered,', 1), ('furiously', 4), ('mob', 4), ('questions.‘what', 1), ('thine', 9), ('occupation?', 1), ('comest', 1), ('thou?', 5), ('people?’', 1), ('behavior', 1), ('eager', 13), ('ask', 10), ('from;', 1), ('whereas,', 11), ('receive', 7), ('questions,', 1), ('likewise', 18), ('unsolicited', 1), ('“‘i', 2), ('hebrew,’', 1), ('heaven', 22), ('hath', 6), ('land!’', 1), ('jonah?', 1), ('mightest', 2), ('then!', 2), ('straightway,', 2), ('con�', 20), ('fession;', 1), ('whereupon', 3), ('appalled,', 1), ('pitiful.', 1), ('supplicating', 1), ('mercy,', 2), ('deserts,', 1), ('them;', 35), ('mercifully', 1), ('vain;', 2), ('indignant', 2), ('howls', 1), ('louder;', 1), ('invokingly', 1), ('unreluctantly', 1), ('dropped', 23), ('sea;', 41), ('oily', 4), ('calmness', 1), ('ﬂoats', 7), ('smooth', 5), ('behind.', 2), ('whirling', 7), ('masterless', 2), ('commotion', 5), ('drops', 6), ('seething', 2), ('yawning', 3), ('awaiting', 6), ('shoots�', 1), ('bolts,', 1), ('prison.', 1), ('prayed', 2), ('unto', 2), ('belly.but', 1), ('observe', 11), ('prayer,', 1), ('learn', 5), ('weighty', 3), ('lesson.', 1), ('weep', 1), ('wail', 1), ('direct', 10), ('deliverance.', 1), ('punishment', 1), ('just.', 1), ('contenting', 1), ('pangs,', 1), ('temple.', 1), ('repentance;', 1), ('clamorous', 1), ('pardon,', 1), ('grateful', 3), ('punishment.', 1), ('pleasing', 1), ('conduct', 10), ('shown', 4), ('eventual', 1), ('copied', 3), ('model', 4), ('repentance.', 1), ('do,', 17), ('heed', 6), ('repent', 1), ('speaking', 19), ('words,', 6), ('slanting', 3), ('add', 4), ('power', 21), ('preacher,', 1), ('describing', 1), ('sea�storm,', 1), ('heaved', 10), ('ground�swell;', 1), ('arms', 21), ('warring', 1), ('elements', 4), ('work;', 4), ('swarthy', 1), ('brow,', 9), ('hearers', 2), ('lull', 1), ('silently', 14), ('motionless,', 1), ('communing', 1), ('leaned', 10), ('people,', 1), ('bowing', 6), ('lowly,', 1), ('aspect', 18), ('manliest', 1), ('humility,', 1), ('spake', 3), ('words:', 1), ('you;', 6), ('press', 1), ('teaches', 2), ('sinners;', 1), ('greater', 12), ('sinner', 1), ('gladly', 4), ('sit', 13), ('hatches', 6), ('listen', 3), ('listen,', 3), ('reads', 1), ('anointed', 1), ('pilot�prophet,', 1), ('speaker', 1), ('bidden', 2), ('unwelcome', 1), ('truths', 1), ('nineveh,', 3), ('appalled', 2), ('hostility', 1), ('raise,', 1), ('ﬂed', 5), ('mission,', 1), ('escape', 16), ('joppa.', 1), ('everywhere;', 1), ('reached.', 1), ('gulfs', 1), ('doom,', 5), ('slantings', 1), ('‘into', 1), ('midst', 9), ('seas,’', 1), ('eddying', 4), ('sucked', 4), ('fathoms', 10), ('down,', 32), ('weeds', 2), ('head,’', 1), ('bowled', 2), ('reach', 12), ('plummet', 1), ('‘out', 1), ('belly', 2), ('hell’', 1), ('ocean’s', 5), ('bones,', 5), ('engulfed,', 1), ('repenting', 2), ('cried.', 2), ('ﬁsh;', 10), ('shuddering', 6), ('breeching', 1), ('sun,', 18), ('delights', 2), ('‘vomited', 1), ('land;’', 1), ('time;', 12), ('bruised', 1), ('beaten', 2), ('ears,', 9), ('sea�shells,', 1), ('multitudinously', 1), ('murmuring', 1), ('almighty’s', 1), ('bidding.', 3), ('preach', 4), ('falsehood!', 1), ('it!', 22), ('“this,', 1), ('slights', 1), ('charms', 1), ('duty!', 3), ('pour', 4), ('waters', 31), ('brewed', 1), ('gale!', 1), ('appall!', 1), ('goodness!', 1), ('courts', 1), ('dishonor!', 1), ('false', 5), ('salvation!', 1), ('paul', 3), ('preaching', 1), ('castaway!”', 1), ('drooped', 1), ('moment;', 3), ('lifting', 9), ('heavenly', 4), ('enthusiasm,', 1), ('shipmates!', 1), ('starboard', 13), ('woe,', 3), ('delight;', 1), ('delight,', 6), ('main�truck', 3), ('kelson', 1), ('low?', 1), ('far,', 3), ('proud', 7), ('gods', 15), ('commodores', 1), ('inexorable', 1), ('support', 1), ('base', 16), ('treacherous', 5), ('gives', 18), ('kills,', 1), ('burns,', 2), ('destroys', 1), ('pluck', 2), ('robes', 3), ('senators', 1), ('judges.', 1), ('top�gallant', 4), ('acknowledges', 1), ('lord,', 14), ('patriot', 1), ('billows', 13), ('shake', 13), ('keel', 10), ('ages.', 4), ('eternal', 14), ('deliciousness', 2), ('father!', 1), ('chieﬂy', 16), ('rod', 6), ('immortal,', 1), ('die.', 3), ('striven', 1), ('thine,', 5), ('world’s,', 1), ('nothing;', 6), ('eternity', 2), ('thee;', 16), ('lifetime', 2), ('god?”', 1), ('waving', 4), ('benediction,', 2), ('hands,', 19), ('remained,', 2), ('kneeling,', 1), ('departed,', 5), ('r', 2), ('eturning', 1), ('alone;', 8), ('benediction', 1), ('hearth,', 2), ('his;', 7), ('peering', 8), ('jack�knife', 2), ('gently', 10), ('nose,', 8), ('meanwhile', 13), ('humming', 4), ('interrupted,', 1), ('image;', 1), ('soon,', 5), ('lap', 1), ('counting', 2), ('pages', 3), ('regularity;', 1), ('ﬁftieth', 2), ('page', 4), ('vacantly', 3), ('utterance', 2), ('long�drawn', 2), ('gurgling', 2), ('whistle', 1), ('astonishment.', 1), ('ﬁfty;', 1), ('commence', 2), ('count', 2), ('ﬁfty,', 2), ('ﬁfties', 1), ('multitude', 2), ('excited.', 1), ('hideously', 1), ('marred', 2), ('taste', 3), ('disagreeable.', 1), ('hide', 4), ('tattooings,', 1), ('traces', 2), ('heart;', 5), ('tokens', 5), ('spirit', 12), ('dare', 10), ('devils.', 2), ('bear�', 1), ('pagan,', 1), ('uncouthness', 1), ('maim.', 1), ('cringed', 1), ('creditor.', 1), ('shaved,', 1), ('forehead', 20), ('freer', 2), ('brighter', 3), ('expansive', 2), ('decide;', 1), ('phrenologically', 2), ('excellent', 10), ('ridiculous,', 1), ('washington’s', 1), ('popular', 8), ('busts', 1), ('regularly', 18), ('graded', 1), ('retreat�', 1), ('slope', 2), ('brows,', 1), ('projecting,', 1), ('promontories', 1), ('wooded', 1), ('top.', 1), ('george', 4), ('washington', 1), ('cannibalistically', 1), ('developed.', 1), ('whilst', 1), ('half�pretending', 1), ('look�', 4), ('casement,', 1), ('presence,', 2), ('trou�', 1), ('bled', 3), ('glance;', 1), ('wholly', 27), ('occupied', 8), ('book.', 3), ('sociably', 2), ('affec�', 1), ('tionate', 3), ('indifference', 5), ('beings;', 1), ('overawing;', 1), ('self�collectedness', 1), ('simplicity', 1), ('socratic', 1), ('wisdom.', 1), ('consorted', 2), ('inn.', 4), ('advances', 3), ('whatever;', 2), ('desire', 7), ('enlarge', 1), ('cir�', 1), ('cle', 1), ('acquaintances.', 1), ('singular;', 1), ('thoughts,', 5), ('sublime', 4), ('twenty', 24), ('home,', 14), ('horn,', 7), ('planet', 1), ('jupiter;', 1), ('ease;', 1), ('preserving', 3), ('serenity;', 1), ('companionship;', 1), ('philosophy;', 2), ('doubt', 20), ('philosophers,', 2), ('mortals', 5), ('striving.', 1), ('philosopher,', 2), ('dyspeptic', 2), ('woman,', 2), ('“broken', 1), ('digester.”', 1), ('lonely', 11), ('burning', 10), ('intensity', 6), ('warmed', 1), ('glows', 1), ('at;', 1), ('phantoms', 4), ('casements,', 1), ('silent,', 4), ('twain;', 3), ('booming', 2), ('swells;', 2), ('sensible', 5), ('feelings.', 1), ('maddened', 3), ('wolﬁsh', 2), ('soothing', 3), ('redeemed', 1), ('sat,', 4), ('lurked', 8), ('hypocrisies', 1), ('bland', 2), ('deceits.', 1), ('was;', 3), ('mysteriously', 2), ('repelled', 1), ('magnets', 1), ('friend,thought', 1), ('kindness', 2), ('courtesy.', 1), ('hints,', 3), ('doing', 9), ('advances;', 1), ('hospitalities,', 1), ('bedfellows.', 1), ('whereat', 1), ('pleased,', 3), ('complimented.', 1), ('printing,', 1), ('interest;', 2), ('jabbering', 2), ('town.', 2), ('proposed', 3), ('smoke;', 1), ('producing', 4), ('pouch', 2), ('puff.', 3), ('exchanging', 2), ('puffs', 4), ('mein', 1), ('pagan’s', 1), ('pleasant,', 3), ('genial', 1), ('smoke', 21), ('had,', 8), ('thawed', 1), ('cronies.', 1), ('naturally', 11), ('unbiddenly', 1), ('pressed', 9), ('clasped', 1), ('waist,', 3), ('henceforth', 1), ('married;', 1), ('meaning,', 2), ('country’s', 1), ('phrase,', 1), ('friends;', 2), ('die', 19), ('countryman,', 1), ('friendship', 2), ('premature,', 1), ('distrusted;', 1), ('rules', 3), ('apply.', 1), ('supper,', 5), ('chat', 6), ('smoke,', 4), ('to�', 2), ('gether.', 1), ('wallet,', 1), ('groping', 3), ('tobacco,', 1), ('dollars', 3), ('silver;', 2), ('spreading', 2), ('mechanically', 8), ('dividing', 7), ('portions,', 1), ('remonstrate;', 1), ('silenced', 1), ('pouring', 3), ('trowsers’', 2), ('pockets.', 1), ('stay.', 1), ('paper', 2), ('ﬁreboard.', 1), ('symptoms,', 2), ('join', 7), ('follow,', 3), ('deliberated', 1), ('whether,', 5), ('invited', 5), ('comply', 1), ('otherwise.', 2), ('christian;', 1), ('born', 24), ('infallible', 4), ('presby�', 1), ('terian', 1), ('church.', 2), ('unite', 5), ('idolator', 2), ('worshipping', 4), ('wood?', 2), ('worship?', 2), ('magnanimous', 3), ('pagans', 4), ('included', 7), ('jealous', 2), ('insigniﬁcant', 3), ('impossible!', 1), ('worship.', 2), ('me?', 12), ('presbyterian', 2), ('consequently,', 2), ('ergo,', 2), ('idolator.', 1), ('shavings;', 1), ('prop', 1), ('innocent', 4), ('queequeg;', 4), ('salamed', 1), ('thrice;', 1), ('kissed', 1), ('nose;', 4), ('done,', 29), ('peace', 4), ('consciences', 1), ('chat.', 2), ('disclo�', 1), ('sures', 1), ('friends.', 1), ('wife,', 5), ('souls', 14), ('other;', 9), ('couples', 1), ('thus,', 18), ('hearts’', 1), ('honeymoon,', 1), ('cosy,', 1), ('pair.', 1), ('w', 11), ('lain', 2), ('napping', 1), ('intervals,', 11), ('affectionately', 1), ('back;', 7), ('sociable', 3), ('we;', 1), ('confabulations,', 1), ('nappishness', 1), ('remained', 30), ('day�break', 1), ('future.', 1), ('wakeful;', 2), ('recumbent', 2), ('position', 9), ('wearisome,', 1), ('up;', 12), ('head�board', 1), ('knees', 6), ('noses', 3), ('bending', 2), ('knee�', 2), ('pans', 1), ('warming�pans.', 1), ('snug,', 1), ('chilly', 1), ('doors;', 2), ('bed�clothes', 1), ('bodily', 24), ('warmth,', 1), ('quality', 4), ('merely', 19), ('contrast.', 2), ('exists', 4), ('itself.', 14), ('ﬂatter', 1), ('comfortable,', 2), ('tip', 3), ('nose', 12), ('crown', 9), ('chilled,', 1), ('delightfully', 2), ('unmistakably', 1), ('warm.', 1), ('furnished', 13), ('luxurious', 2), ('discomforts', 1), ('rich.', 1), ('snugness', 3), ('spark', 1), ('crystal.', 1), ('crouching', 3), ('eyes;', 9), ('sheets,', 1), ('asleep', 2), ('shut,', 1), ('concentrate', 1), ('identity', 3), ('aright', 3), ('except', 30), ('closed;', 1), ('essences,', 1), ('congenial', 5), ('clayey', 1), ('part.', 6), ('self�created', 1), ('imposed', 1), ('coarse', 1), ('unilluminated', 1), ('twelve�o’clock�at�night,', 1), ('disagreeable', 1), ('revulsion.', 1), ('object', 29), ('awake;', 1), ('tomahawk.', 1), ('repugnance', 3), ('before,', 14), ('elastic', 6), ('bend', 5), ('serene', 7), ('household', 4), ('unduly', 2), ('concerned', 4), ('landlord’s', 1), ('policy', 4), ('insurance.', 1), ('condensed', 2), ('comfortableness', 1), ('friend.', 2), ('hanging', 18), ('tester', 2), ('illuminated', 3), ('new�lit', 1), ('lamp.', 2), ('undulating', 2), ('scenes,', 4), ('native', 18), ('island;', 2), ('complied.', 1), ('disclosures,', 1), ('familiar', 5), ('phraseology,', 1), ('prove', 13), ('give.', 1), ('q', 1), ('ueequeg', 1), ('kokovoko,', 3), ('west', 8), ('south.', 1), ('map;', 1), ('new�hatched', 1), ('clout,', 1), ('nibbling', 1), ('goats,', 1), ('sapling;', 1), ('christendom', 2), ('specimen', 5), ('whaler', 12), ('two.', 2), ('chief,', 2), ('king;', 2), ('uncle', 2), ('priest;', 1), ('maternal', 5), ('boasted', 3), ('aunts', 1), ('unconquerable', 4), ('warriors.', 1), ('veins', 2), ('stuff;', 1), ('vitiated,', 1), ('propensity', 2), ('nourished', 1), ('untutored', 4), ('youth.', 1), ('sag', 4), ('harbor', 4), ('father’s', 5), ('bay,', 2), ('lands.', 3), ('complement', 2), ('seamen,', 7), ('spurned', 2), ('suit;and', 1), ('inﬂuence', 5), ('prevail.', 1), ('vowed', 3), ('vow.', 1), ('canoe,', 4), ('paddled', 3), ('strait,', 2), ('pass', 22), ('quitted', 4), ('reef;', 1), ('tongue', 6), ('mangrove', 1), ('thickets', 1), ('water.', 15), ('hiding', 3), ('aﬂoat,', 6), ('thickets,', 1), ('prow', 11), ('seaward,', 1), ('stern,', 16), ('paddle', 2), ('gliding', 13), ('ﬂash', 6), ('out;', 9), ('gained', 11), ('side;', 18), ('backward', 6), ('dash', 8), ('capsized', 2), ('sank', 11), ('canoe;', 3), ('climbed', 1), ('chains;', 1), ('grappled', 1), ('ring�bolt', 1), ('hacked', 1), ('pieces.', 2), ('threatened', 3), ('suspended', 23), ('cutlass', 1), ('naked', 11), ('wrists;', 1), ('king,', 9), ('budged', 1), ('desperate', 9), ('dauntlessness,', 1), ('christendom,', 2), ('relented,', 1), ('home.', 12), ('prince', 4), ('wales,', 1), ('captain’s', 19), ('toil', 8), ('shipyards', 1), ('cities,', 1), ('disdained', 2), ('ignominy,', 1), ('haply', 2), ('enlightening', 1), ('countrymen.', 1), ('actuated', 1), ('christians,', 3), ('arts', 3), ('whereby', 5), ('happier', 1), ('were;', 5), ('were.', 5), ('alas!', 9), ('practices', 1), ('christians', 3), ('wicked;', 1), ('inﬁnitely', 4), ('heathens.', 1), ('harbor;', 1), ('wages', 1), ('also,poor', 1), ('meridians;', 1), ('pagan.', 1), ('lived', 12), ('wore', 11), ('clothes,', 3), ('gibberish.', 1), ('hence', 20), ('asked', 13), ('propose', 4), ('coronation;', 1), ('consider', 18), ('gone,', 4), ('feeble', 2), ('accounts.', 3), ('yet;', 3), ('added', 17), ('fearful', 11), ('christianity,', 1), ('unﬁtted', 1), ('undeﬁled', 1), ('throne', 3), ('return,', 1), ('baptized', 2), ('nonce,', 2), ('sow', 1), ('oats', 1), ('sceptre', 1), ('future', 9), ('move�', 1), ('ments.', 1), ('vocation.', 1), ('design,', 2), ('informed', 3), ('intention', 7), ('promising', 4), ('port', 10), ('from.', 1), ('watch,the', 1), ('mess', 2), ('share', 3), ('hap;', 1), ('boldly', 10), ('dip', 4), ('potluck', 1), ('worlds.', 2), ('joyously', 2), ('assented;', 1), ('affection', 3), ('such,', 10), ('usefulness', 1), ('ignorant', 9), ('mysteries', 5), ('acquainted', 3), ('ended', 2), ('pipe’s', 1), ('puff,', 1), ('embraced', 4), ('ext', 4), ('monday,', 1), ('disposing', 2), ('barber,', 1), ('block,', 5), ('settled', 10), ('comrade’s', 2), ('using,', 1), ('money.', 2), ('boarders,', 1), ('es�', 1), ('pecially', 1), ('cofﬁn’s', 1), ('cock', 3), ('bull', 5), ('alarmed', 4), ('companied', 1), ('with.', 5), ('wheelbarrow,', 1), ('embarking', 1), ('sack', 1), ('moss,”', 1), ('schooner', 3), ('wharf.', 4), ('stared;', 1), ('terms.', 1), ('wheeling', 5), ('barrow', 4), ('turns,', 1), ('adjust', 1), ('sheath', 2), ('barbs.', 1), ('troublesome', 1), ('ashore,', 11), ('harpoons.', 1), ('substance,', 12), ('replied,that', 1), ('hinted', 16), ('harpoon,', 20), ('assured', 5), ('stuff,', 2), ('combat,', 1), ('whales.', 22), ('inland', 4), ('reapers', 1), ('mowers,', 2), ('farmers’', 1), ('meadows', 3), ('scythes', 3), ('wise', 13), ('obliged', 5), ('furnish', 9), ('reasons,', 5), ('preferred', 1), ('harpoon.', 5), ('shifting', 3), ('funny', 1), ('seen.', 12), ('harbor.', 3), ('owners', 13), ('boarding', 2), ('puts', 3), ('lashes', 1), ('fast;', 2), ('shoulders', 4), ('marches', 2), ('“why,”', 3), ('“queequeg,', 5), ('think.', 4), ('laugh?”', 2), ('story.', 3), ('wedding', 4), ('feasts', 2), ('fragrant', 4), ('cocoanuts', 1), ('calabash', 2), ('punchbowl;', 1), ('punchbowl', 1), ('forms', 12), ('ornament', 1), ('braided', 3), ('mat', 3), ('feast', 4), ('held.', 2), ('commander', 5), ('accounts,', 2), ('stately', 4), ('punctilious', 2), ('gentleman,', 5), ('sister,', 3), ('princess', 1), ('ten.', 1), ('well;', 10), ('guests', 1), ('bride’s', 2), ('bamboo', 1), ('cottage,', 1), ('assigned', 3), ('post', 4), ('punchbowl,', 1), ('priest', 4), ('majesty', 5), ('father.', 2), ('grace', 5), ('unlike', 8), ('platters,', 1), ('they,', 5), ('copying', 1), ('ducks,', 1), ('glance', 22), ('upwards', 10), ('giver', 1), ('grace,', 2), ('opens', 2), ('banquet', 4), ('immemorial', 5), ('ceremony', 2), ('dipping', 3), ('consecrated', 1), ('consecrating', 1), ('bowl', 3), ('beverage', 1), ('circulates.', 1), ('priest,', 4), ('noting', 1), ('ceremony,', 1), ('precedence', 1), ('proceeds', 6), ('bowl;', 1), ('ﬁnger�glass.', 1), ('“now,”', 2), ('tink', 2), ('now?', 11), ('luggage', 1), ('safe,', 1), ('schooner.', 1), ('hoist�', 1), ('acushnet', 1), ('river.', 1), ('rose', 17), ('ice�covered', 1), ('trees', 5), ('hills', 3), ('casks', 14), ('wharves,', 1), ('world�wandering', 1), ('safely', 5), ('carpenters', 1), ('forges', 1), ('melt', 1), ('pitch,', 3), ('betokening', 1), ('cruises', 1), ('start;', 2), ('perilous', 13), ('second;', 1), ('third,', 5), ('aye.', 1), ('endlessness,', 1), ('intolerableness', 1), ('earthy', 3), ('effort.', 1), ('bracing', 4), ('breeze', 12), ('waxed', 1), ('fresh;', 1), ('moss', 3), ('foam', 7), ('colt', 2), ('snortings.', 1), ('snuffed', 5), ('tartar', 2), ('air!', 4), ('turnpike', 1), ('earth!', 2), ('highway', 1), ('marks', 11), ('slavish', 2), ('heels', 2), ('hoofs;', 1), ('admire', 3), ('magnanimity', 1), ('permit', 3), ('records.', 1), ('foam�fountain,', 1), ('drink', 12), ('nostrils', 5), ('apart;', 5), ('ﬁled', 3), ('pointed', 25), ('teeth.', 4), ('ﬂew;', 1), ('gained,', 3), ('homage', 6), ('blast;', 1), ('ducked', 1), ('dived', 9), ('slave', 4), ('sultan.', 1), ('leaning,we', 1), ('darted;', 3), ('tingling', 3), ('wire;', 1), ('buckling', 1), ('canes', 1), ('tornadoes.', 2), ('scene', 12), ('we,', 5), ('bowsprit,', 3), ('jeering', 1), ('glances', 6), ('passengers,', 1), ('lubber�like', 1), ('assembly,', 1), ('marvelled', 4), ('companionable;', 1), ('digniﬁed', 1), ('whitewashed', 1), ('boobies', 1), ('intense', 17), ('greenness,', 1), ('verdure.', 5), ('saplings', 1), ('mimicking', 1), ('bumpkin’s', 1), ('miraculous', 3), ('dexterity', 1), ('strength,', 12), ('sent', 16), ('mid�', 2), ('somerset,', 1), ('bursting', 11), ('lungs', 9), ('capting!', 1), ('capting!”', 1), ('yelled', 6), ('bumpkin,', 1), ('ofﬁcer;', 2), ('“capt�', 1), ('ing,', 3), ('capting,', 1), ('here’s', 21), ('devil.”', 1), ('“hallo,', 1), ('sir,”', 10), ('gaunt', 6), ('rib', 9), ('stalking', 1), ('quee�', 3), ('queg,', 1), ('chap?”', 1), ('say?”', 2), ('say,”', 4), ('kill�e', 4), ('there,”', 3), ('shivering', 7), ('greenhorn.', 1), ('“kill�e,”', 1), ('twisting', 4), ('expres�', 1), ('disdain,', 2), ('“ah!', 2), ('bery', 1), ('small�e', 2), ('ﬁsh�e;', 2), ('“look', 16), ('you,”', 3), ('roared', 11), ('eye.”', 1), ('happened', 9), ('eye.', 8), ('prodigious', 16), ('strain', 12), ('main�sail', 1), ('parted', 7), ('weather�', 1), ('sheet,', 1), ('boom', 4), ('handled', 5), ('roughly,', 1), ('swept', 9), ('panic;', 1), ('snatching', 9), ('stay', 10), ('madness.', 3), ('ticking', 1), ('watch,', 11), ('snapping', 3), ('splinters.', 1), ('capable', 5), ('done;', 5), ('lower', 49), ('consternation,', 1), ('deftly', 2), ('knees,and', 1), ('crawling', 6), ('boom,', 1), ('whipped', 1), ('secured', 11), ('bulwarks,', 14), ('lasso,', 1), ('jerk,', 1), ('trapped,', 2), ('safe.', 1), ('wind,', 17), ('stripped', 9), ('arc', 2), ('leap.', 1), ('minutes', 11), ('dog,', 6), ('revealing', 4), ('freezing', 2), ('foam.', 4), ('glorious', 3), ('fellow,', 9), ('saved.', 2), ('greenhorn', 1), ('down.', 7), ('shooting', 8), ('instant’s', 2), ('matters', 10), ('dragging', 7), ('lifeless', 4), ('form.', 7), ('up.', 14), ('restored.', 1), ('voted', 1), ('trump;', 1), ('pardon.', 1), ('clove', 1), ('barnacle;', 1), ('unconsciousness?', 1), ('deserved', 3), ('medal', 1), ('humane', 4), ('societies.', 1), ('wipe', 1), ('brine', 4), ('off;', 6), ('mutual,', 1), ('joint�stock', 1), ('meridians.', 1), ('christians.”', 1), ('othing', 1), ('mentioning;', 1), ('run,', 7), ('nantucket!', 3), ('map', 2), ('corner', 6), ('occupies;', 1), ('ed�', 2), ('dystone', 1), ('lighthouse.', 1), ('hillock,', 1), ('elbow', 1), ('sand;', 2), ('beach,', 5), ('background.', 1), ('sand', 7), ('use', 28), ('blotting', 1), ('paper.', 2), ('wights', 1), ('plant', 3), ('naturally;', 1), ('import', 1), ('canada', 1), ('thistles;', 1), ('leak', 9), ('cask;', 1), ('bits', 6), ('rome;', 1), ('toadstools', 1), ('blade', 7), ('oasis,', 1), ('blades', 5), ('day’s', 3), ('prairie;', 2), ('quicksand', 1), ('laplander', 1), ('snow�shoes;', 1), ('shut', 9), ('inclosed,', 1), ('surrounded,', 1), ('utter', 6), ('chairs', 1), ('tables', 3), ('clams', 2), ('adhering,', 1), ('backs', 7), ('turtles.', 1), ('extravaganzas', 1), ('illinois.', 1), ('wondrous', 39), ('traditional', 1), ('red�men.', 1), ('legend.', 1), ('olden', 1), ('eagle', 4), ('swooped', 2), ('coast,', 11), ('infant', 1), ('talons.', 1), ('lament', 1), ('parents', 1), ('child', 7), ('borne', 8), ('waters.', 3), ('follow', 11), ('direction.', 3), ('canoes,', 3), ('discovered', 6), ('casket,', 1), ('indian’s', 2), ('skeleton.', 5), ('wonder,', 7), ('nantucketers,', 3), ('livelihood!', 1), ('crabs', 2), ('quohogs', 2), ('grown', 14), ('bolder,', 1), ('waded', 1), ('nets', 1), ('mackerel;', 1), ('experienced,', 1), ('captured', 15), ('cod;', 2), ('launching', 2), ('navy', 3), ('explored', 2), ('world;', 11), ('belt', 2), ('circumnavigations', 1), ('peeped', 2), ('bhering’s', 1), ('straits;', 3), ('seasons', 7), ('oceans', 5), ('declared', 14), ('war', 9), ('mightiest', 5), ('animated', 7), ('survived', 3), ('ﬂood;', 2), ('mountainous!', 1), ('himmalehan,', 1), ('salt�sea', 2), ('mastodon,', 1), ('clothed', 4), ('portentousness', 1), ('unconscious', 6), ('power,', 6), ('panics', 1), ('dreaded', 4), ('fearless', 6), ('malicious', 7), ('assaults!', 1), ('hermits,', 1), ('issuing', 3), ('ant�hill', 1), ('overrun', 1), ('conquered', 3), ('alexan�', 1), ('ders;', 1), ('parcelling', 1), ('oceans,', 4), ('pirate', 2), ('powers', 7), ('poland.', 1), ('mexico', 2), ('texas,', 1), ('pile', 7), ('cuba', 2), ('canada;', 1), ('overswarm', 1), ('blazing', 6), ('banner', 1), ('sun;', 5), ('thirds', 5), ('terraqueous', 1), ('nantucketer’s.', 1), ('owns', 1), ('emperors', 4), ('empires;', 1), ('extension', 1), ('bridges;', 1), ('forts;', 1), ('privateers,', 1), ('highwaymen', 1), ('road,', 1), ('plunder', 2), ('fragments', 3), ('themselves,', 8), ('draw', 12), ('nantucketer,', 11), ('resides', 3), ('rests', 3), ('alone,', 5), ('language,', 3), ('fro', 14), ('ploughing', 2), ('plan�', 1), ('tation.', 1), ('home;', 3), ('noah’s', 5), ('ﬂood', 4), ('interrupt,', 1), ('overwhelmed', 2), ('china.he', 1), ('cocks', 2), ('hides', 3), ('climbs', 2), ('chamois', 1), ('hunters', 17), ('alps.', 1), ('smells', 10), ('strangely', 28), ('earthsman.', 1), ('landless', 2), ('gull,', 1), ('folds', 5), ('wings', 5), ('billows;', 4), ('nightfall,', 1), ('furls', 1), ('sails,', 7), ('lays', 6), ('rest,', 11), ('pillow', 3), ('herds', 9), ('walruses', 1), ('t', 36), ('snugly', 4), ('anchor,', 5), ('ashore;', 2), ('recommended', 2), ('cousin', 2), ('hosea', 3), ('hussey', 9), ('pots,', 4), ('asserted', 3), ('propri�', 1), ('etor', 1), ('hotels', 1), ('moreover', 6), ('hosea,', 1), ('chowders.', 2), ('pot�luck', 1), ('pots.', 2), ('directions', 5), ('given', 35), ('warehouse', 2), ('church', 5), ('larboard,', 2), ('starboard,', 1), ('was:', 1), ('as,', 6), ('outset,', 2), ('insisted', 3), ('departure', 1), ('understood', 1), ('starboard.', 1), ('peaceable', 3), ('inhabitant', 2), ('mistaking.', 1), ('pots', 4), ('painted', 11), ('black,', 6), ('asses’', 1), ('cross�trees', 3), ('top�mast,', 1), ('door�', 1), ('horns', 3), ('sawed', 1), ('top�mast', 2), ('gallows.', 2), ('sensitive', 1), ('impressions', 9), ('gallows', 1), ('vague', 9), ('misgiving.', 1), ('crick', 1), ('gazed', 8), ('remaining', 8), ('horns;', 2), ('me.it’s', 1), ('ominous,', 1), ('innkeeper', 1), ('landing', 2), ('port;', 4), ('tombstones', 1), ('whalemen’s', 3), ('chapel;', 1), ('gallows!', 1), ('too!', 3), ('oblique', 2), ('hints', 6), ('tophet?', 1), ('freckled', 1), ('woman', 4), ('gown,', 1), ('porch', 1), ('dull', 5), ('injured', 2), ('carrying', 14), ('brisk', 3), ('scolding', 4), ('“get', 3), ('ye,”', 2), ('“or', 1), ('combing', 3), ('ye!”', 4), ('“come', 12), ('queequeg,”', 3), ('“all', 14), ('right.', 7), ('mrs.', 12), ('hussey.”', 1), ('affairs.', 2), ('postponing', 1), ('present,', 8), ('ushered', 1), ('seating', 2), ('spread', 19), ('relics', 4), ('recently', 5), ('repast,', 3), ('“clam', 3), ('cod?”', 2), ('“what’s', 12), ('cods,', 1), ('ma’am?”', 1), ('politeness.', 1), ('repeated.', 2), ('clam', 3), ('clam;', 1), ('hussey?”', 2), ('clammy', 1), ('reception', 1), ('resume', 2), ('shirt,', 3), ('waiting', 3), ('“clam,”', 1), ('hurried', 7), ('leading', 12), ('kitchen,', 2), ('bawling', 2), ('two,”', 1), ('clam?”', 1), ('savory', 2), ('steam', 3), ('kitchen', 2), ('belie', 2), ('apparently', 9), ('cheerless', 2), ('prospect', 5), ('mys�', 1), ('tery', 1), ('explained.', 1), ('friends!', 1), ('hearken', 3), ('juicy', 3), ('clams,', 1), ('bigger', 2), ('hazel', 2), ('nuts,', 1), ('pounded', 1), ('bis�', 1), ('cuit,', 1), ('pork', 1), ('ﬂakes;', 1), ('enriched', 1), ('butter,', 2), ('plentifully', 1), ('seasoned', 3), ('pepper', 2), ('salt.', 1), ('appetites', 2), ('sharpened', 1), ('particular,', 6), ('ﬁshy', 5), ('food', 11), ('surpassingly', 1), ('excellent,', 1), ('despatched', 1), ('expedition:', 1), ('bethinking', 3), ('hussey’s', 1), ('cod', 4), ('announcement,', 1), ('experiment.', 1), ('uttered', 3), ('“cod”', 1), ('emphasis,', 1), ('resumed', 6), ('moments', 7), ('ﬂavor,', 1), ('cod�chowder', 1), ('business;', 3), ('plying', 2), ('spoons', 1), ('bowl,', 2), ('wonder', 21), ('effect', 9), ('stultify�', 1), ('chowder�headed', 1), ('people?', 1), ('eel', 1), ('bowl?', 1), ('harpoon?”', 1), ('fishiest', 1), ('name;', 3), ('breakfast,', 4), ('dinner,', 4), ('ﬁsh�bones', 1), ('clothes.', 1), ('paved', 3), ('clam�shells.', 1), ('necklace', 2), ('codﬁsh', 1), ('vertebra;', 1), ('books', 11), ('superior', 8), ('shark�skin.', 1), ('ﬂavor', 3), ('milk,', 1), ('happening', 3), ('beach', 9), ('ﬁshermen’s', 3), ('hosea’s', 1), ('brindled', 1), ('cow', 1), ('feeding', 6), ('remnants,', 1), ('marching', 6), ('cod’s', 1), ('decapitated', 2), ('slip�shod,', 1), ('concluded,', 2), ('cerning', 2), ('nearest', 9), ('precede', 2), ('lady', 7), ('reached', 18), ('harpoon;', 3), ('chambers.', 1), ('“why', 4), ('not?”', 4), ('“every', 3), ('“because', 3), ('dangerous,”', 1), ('she.', 1), ('“ever', 1), ('stiggs', 2), ('unfort’nt', 1), ('v’y’ge', 1), ('half,', 3), ('ony', 1), ('barrels', 10), ('ile,', 1), ('weepons', 1), ('rooms', 2), ('a�night.', 1), ('queequeg”', 1), ('(for', 7), ('name),', 1), ('iron,', 13), ('chowder;', 1), ('to�morrow', 5), ('men?”', 6), ('“both,”', 1), ('let’s', 19), ('couple', 5), ('smoked', 4), ('herring', 2), ('variety.”', 1), ('concocted', 2), ('plans', 1), ('morrow.', 2), ('surprise', 5), ('concern,', 2), ('understand,', 1), ('consulting', 1), ('yojo', 12), ('strongly', 10), ('whaling�ﬂeet', 2), ('harbor,', 3), ('concert', 2), ('selecting', 3), ('craft;', 3), ('enjoined', 1), ('selection', 3), ('inasmuch', 7), ('purposed', 1), ('befriending', 1), ('upon,', 2), ('chance;', 1), ('irrespective', 2), ('queequeg.', 6), ('forgotten', 7), ('conﬁ�', 2), ('dence', 1), ('excellence', 1), ('yojo’s', 1), ('judgment', 7), ('forecast', 1), ('things;', 5), ('esteem,', 2), ('whole,', 8), ('cases', 11), ('succeed', 3), ('benevolent', 4), ('designs.', 1), ('queequeg’s,', 1), ('yojo’s,', 1), ('relied', 1), ('sagacity', 1), ('ﬁtted', 11), ('fortunes', 1), ('securely.', 1), ('remonstrances', 1), ('acquiesce;', 1), ('accordingly', 3), ('determined', 5), ('rushing', 14), ('energy', 5), ('vigor,', 1), ('triﬂing', 1), ('affair.', 5), ('early,', 1), ('bedroom', 1), ('ramadan,', 3), ('fasting,', 1), ('hu�', 3), ('miliation,', 1), ('day;', 9), ('times,', 32), ('liturgies', 1), ('xxxix', 1), ('fasting', 3), ('toma�', 1), ('hawk', 3), ('warming', 1), ('shavings,', 1), ('shipping.', 1), ('sauntering', 4), ('in�', 10), ('quiries,', 1), ('learnt', 1), ('three�years’', 1), ('devil�dam,', 1), ('tit�bit,', 1), ('pequod.devil�dam,', 1), ('origin', 2), ('of;', 5), ('tit�bit', 1), ('obvious;', 1), ('pequod,', 31), ('remember,', 6), ('cele�', 1), ('brated', 1), ('massachusetts', 3), ('indians,', 2), ('extinct', 2), ('medes.', 1), ('peered', 4), ('pryed', 1), ('devil�dam;', 1), ('hopped', 1), ('tit�bit;', 1), ('ﬁnally,', 4), ('decided', 3), ('quaint', 2), ('aught', 10), ('know;', 6), ('square�toed', 1), ('luggers;', 1), ('mountainous', 2), ('japanese', 10), ('junks;', 1), ('butter�box', 1), ('galliots,', 1), ('pequod.', 14), ('school,', 3), ('anything;', 1), ('claw�footed', 1), ('her.', 12), ('weather�stained', 1), ('typhoons', 2), ('calms', 3), ('hull’s', 1), ('darkened', 1), ('grenadier’s,', 1), ('alike', 8), ('egypt', 2), ('siberia.', 1), ('vener�', 1), ('bearded.', 1), ('overboard', 10), ('stifﬂy', 3), ('spines', 1), ('cologne.', 1), ('decks', 11), ('worn', 9), ('wrinkled,', 1), ('pilgrim�worshipped', 1), ('ﬂag�stone', 1), ('canterbury', 1), ('cathedral', 2), ('becket', 1), ('bled.', 1), ('antiquities,', 2), ('features,', 2), ('pertaining', 5), ('century', 6), ('followed.', 2), ('peleg,', 23), ('chief�mate,', 4), ('retired', 5), ('seaman,', 6), ('principal', 3), ('term', 8), ('chief�mateship,', 1), ('grotesqueness,', 1), ('inlaid', 2), ('quaintness', 1), ('material', 6), ('device,', 1), ('unmatched', 1), ('thorkill�hake’s', 1), ('buckler', 1), ('bedstead.', 1), ('apparelled', 2), ('barbaric', 9), ('ethiopian', 2), ('em�', 4), ('peror,', 1), ('pendants', 1), ('ivory.', 1), ('trophies.', 1), ('tricking', 1), ('herself', 5), ('chased', 9), ('enemies.', 1), ('unpanelled,', 1), ('garnished', 2), ('continuous', 4), ('pins,', 1), ('fasten', 4), ('hempen', 7), ('thews', 2), ('tendons', 4), ('sheaves', 2), ('sea�ivory.', 1), ('scorning', 2), ('turnstile', 1), ('wheel', 2), ('reverend', 5), ('helm,', 9), ('sported', 1), ('tiller;', 2), ('tiller', 8), ('mass,', 9), ('curiously', 6), ('narrow', 8), ('hereditary', 6), ('foe.', 4), ('helmsman', 5), ('steered', 8), ('tempest,', 3), ('tartar,', 1), ('holds', 7), ('steed', 5), ('clutching', 2), ('jaw.', 8), ('melancholy!', 1), ('quarter�deck,', 10), ('authority,', 3), ('candidate', 3), ('nobody;', 1), ('overlook', 2), ('tent,', 1), ('wigwam,', 3), ('main�mast.', 1), ('temporary', 10), ('conical', 1), ('shape,', 7), ('high;', 2), ('consisting', 3), ('slabs', 4), ('limber', 2), ('right�', 1), ('ends', 14), ('circle', 17), ('laced', 1), ('mutually', 3), ('sloped', 1), ('apex', 1), ('point,', 6), ('loose', 16), ('hairy', 3), ('ﬁbres', 5), ('waved', 5), ('top�knot', 1), ('pottowottamie', 1), ('sachem’s', 1), ('triangular', 4), ('faced', 2), ('insider', 1), ('complete', 20), ('forward.', 3), ('concealed', 3), ('tenement,', 1), ('authority;', 1), ('noon,', 5), ('suspended,', 4), ('enjoying', 2), ('respite', 2), ('burden', 5), ('oaken', 5), ('wriggling', 3), ('carving;', 1), ('stout', 12), ('interlacing', 2), ('wigwam', 2), ('constructed.', 1), ('appearance', 4), ('elderly', 1), ('saw;', 2), ('brawny,', 2), ('heavily', 7), ('pilot�cloth,', 1), ('quaker', 5), ('style;', 1), ('microscopic', 2), ('net�work', 2), ('minutest', 3), ('wrinkles', 7), ('arisen', 2), ('sailings', 1), ('gales,', 1), ('windward;', 3), ('causes', 3), ('muscles', 3), ('pursed', 1), ('together.', 6), ('eye�wrinkles', 1), ('effectual', 1), ('scowl.', 1), ('pequod?”', 3), ('advancing', 13), ('tent.', 1), ('“supposing', 1), ('dost', 19), ('him?”', 8), ('demanded.', 1), ('shipping.”', 1), ('“thou', 17), ('wast,', 1), ('wast', 1), ('nantucketer', 7), ('boat?”', 1), ('“no,sir,', 1), ('have.”', 1), ('“dost', 2), ('eh?”', 4), ('“nothing,', 3), ('sir;', 18), ('learn.', 1), ('service,', 1), ('that—”', 1), ('“marchant', 1), ('damned.', 1), ('lingo', 1), ('leg?', 1), ('talkest', 1), ('marchant', 5), ('indeed!', 1), ('ships.', 2), ('ﬂukes!', 2), ('eh?', 12), ('suspicious,', 1), ('pirate,', 2), ('didst', 8), ('rob', 1), ('murdering', 3), ('ofﬁcers', 10), ('gettest', 2), ('sea?”', 2), ('protested', 1), ('innocence', 4), ('things.', 8), ('mask', 1), ('humorous', 3), ('inuendoes,', 1), ('insulated', 1), ('quakerish', 1), ('prejudices,and', 1), ('distrustful', 4), ('aliens,', 1), ('hailed', 19), ('vineyard.', 2), ('a�whaling?', 1), ('“well,', 14), ('is.', 8), ('world.”', 1), ('“want', 1), ('clapped', 4), ('ahab?”', 5), ('“who', 6), ('ahab,', 109), ('sir?”', 10), ('“aye,', 35), ('ship.”', 3), ('himself.”', 1), ('peleg', 29), ('bildad', 24), ('needs,', 2), ('agents.', 2), ('wantest', 3), ('tellest', 2), ('bind', 2), ('out.', 14), ('clap', 4), ('wilt', 9), ('leg.”', 3), ('sir?', 9), ('whale?”', 12), ('“lost', 1), ('whale!', 16), ('nearer', 10), ('me:', 1), ('devoured,', 1), ('chewed', 4), ('crunched', 2), ('monstrousest', 1), ('parmacetty', 1), ('chipped', 1), ('boat!', 4), ('ah!”', 1), ('energy,', 2), ('hearty', 5), ('exclamation,', 1), ('calmly', 11), ('ferocity', 2), ('accident.”', 1), ('soft,', 9), ('d’ye', 31), ('bit.', 1), ('ye’ve', 3), ('that?”', 5), ('“sir,”', 1), ('merchant—', 1), ('“hard', 2), ('that!', 6), ('aggravate', 1), ('inclined', 8), ('sir.', 16), ('good.', 9), ('pitch', 12), ('throat,', 1), ('answer,', 2), ('quick!”', 3), ('am,', 7), ('positively', 1), ('indispensable', 10), ('so;', 17), ('rid', 4), ('fact.”', 1), ('experience', 7), ('world?', 5), ('said?', 2), ('peep', 7), ('weather�bow,and', 1), ('request,', 2), ('humorously', 5), ('earnest.', 1), ('concentrating', 2), ('crow’s', 3), ('scowl,', 1), ('perceived', 12), ('ﬂood�tide,', 1), ('obliquely', 8), ('unlimited,', 1), ('monotonous', 1), ('forbidding;', 1), ('variety', 1), ('see.', 11), ('report?”', 1), ('see?”', 3), ('“not', 8), ('much,”', 2), ('“nothing', 1), ('water;', 20), ('horizon', 6), ('squall', 10), ('think.”', 1), ('stand?”', 1), ('staggered,', 1), ('a�whaling', 1), ('must,', 9), ('would;', 3), ('peleg.', 8), ('determined,', 1), ('expressed', 5), ('willingness', 1), ('mayest', 1), ('off,”', 1), ('saying,', 14), ('below', 20), ('transom', 3), ('uncommon', 15), ('surpris�', 2), ('ﬁgure.', 3), ('bildad,', 33), ('vessel;', 7), ('shares,', 1), ('ports,', 4), ('annuitants;', 1), ('widows,', 1), ('fatherless', 1), ('chil�', 2), ('dren,', 1), ('chancery', 1), ('wards;', 1), ('owning', 2), ('timber', 3), ('plank,', 5), ('nail', 7), ('vessels,', 7), ('yours', 5), ('approved', 1), ('stocks', 1), ('quaker,', 4), ('originally', 17), ('sect;', 1), ('inhabitants', 3), ('retain', 6), ('variously', 3), ('anomalously', 2), ('modiﬁed', 5), ('alien', 4), ('heterogeneous.', 1), ('quakers', 2), ('sanguinary', 1), ('hunters.', 4), ('ﬁghting', 5), ('quakers;', 1), ('instances', 19), ('scripture', 1), ('singularly', 4), ('fashion', 3), ('childhood', 3), ('imbibing', 1), ('dramatic', 3), ('idiom;', 1), ('audacious,', 2), ('daring,', 3), ('adventure', 3), ('lives,', 5), ('blend', 4), ('unoutgrown', 1), ('peculiarities,', 2), ('dashes', 2), ('character,', 5), ('unworthy', 4), ('scandinavian', 2), ('sea�king,', 1), ('poetical', 2), ('roman.', 1), ('greatly', 6), ('natural', 32), ('force,', 4), ('globular', 3), ('brain', 11), ('stillness', 3), ('seclusion', 2), ('night�watches', 2), ('waters,', 20), ('constellations', 1), ('untraditionally', 1), ('independently;', 1), ('nature’s', 2), ('virgin,', 3), ('voluntary,', 1), ('conﬁding', 1), ('chieﬂy,', 3), ('accidental', 1), ('advan�', 1), ('tages,', 1), ('nation’s', 1), ('pageant', 1), ('creature,', 7), ('tragedies.', 1), ('detract', 1), ('dramatically', 1), ('regarded,', 4), ('birth', 5), ('circum�', 3), ('stances,', 1), ('over�ruling', 1), ('morbidness', 2), ('nature.', 7), ('tragically', 1), ('morbidness.', 1), ('ambition,', 3), ('greatness', 2), ('disease.', 1), ('another;', 4), ('peculiar,', 1), ('results', 1), ('phase', 1), ('circumstances.', 2), ('well�to�do,', 1), ('whaleman.', 5), ('cared', 3), ('deemed', 13), ('self�same', 3), ('veriest', 2), ('triﬂes', 2), ('educated', 1), ('according', 23), ('strictest', 2), ('sect', 1), ('quakerism,', 1), ('life,', 26), ('unclad,', 1), ('jot,', 1), ('altered', 1), ('vest.', 1), ('immutableness,', 1), ('lack', 2), ('consis�', 1), ('tency', 1), ('bildad.', 4), ('refusing,', 1), ('scru�', 1), ('ples,', 1), ('invaders,', 1), ('illimitably', 1), ('invaded', 1), ('paciﬁc;', 4), ('sworn', 3), ('foe', 6), ('bloodshed,', 1), ('straight�bodied', 1), ('spilled', 6), ('tuns', 2), ('gore.', 1), ('contemplative', 2), ('pious', 6), ('reminiscence,', 1), ('concern', 4), ('religion', 5), ('practical', 12), ('another.', 3), ('dividends.', 1), ('rising', 27), ('cabin�boy', 1), ('drabbest', 1), ('drab,', 1), ('shad�bellied', 1), ('waistcoat;', 1), ('becoming', 3), ('boat�header,', 1), ('ship�owner;', 1), ('career', 4), ('retiring', 3), ('active', 5), ('goodly', 2), ('sixty,', 2), ('dedicating', 1), ('well�', 1), ('earned', 3), ('income.', 1), ('incorrigible', 1), ('hunks,', 1), ('sea�going', 2), ('bitter,', 2), ('task�master.', 1), ('story,', 3), ('categut', 1), ('whaleman,', 11), ('crew,', 32), ('arriving', 2), ('hospital,', 1), ('exhausted', 4), ('hard�hearted,', 1), ('least.', 4), ('swear,', 2), ('said;', 3), ('inordinate', 3), ('cruel,', 2), ('unmitigated', 1), ('drab�colored', 2), ('nervous,', 2), ('clutch', 4), ('hammer', 21), ('marling�spike,', 1), ('what.', 1), ('indolence', 1), ('idleness', 2), ('exact', 8), ('embodiment', 3), ('utilitarian', 2), ('character.', 1), ('ﬂesh,', 7), ('superﬂuous', 3), ('beard,', 3), ('chin', 2), ('economical', 2), ('nap', 3), ('broad�brimmed', 1), ('hat.', 3), ('small;', 2), ('bolt�upright,', 1), ('leaned,', 2), ('tails.', 2), ('broad�brim', 1), ('crossed;', 1), ('drab', 2), ('vesture', 1), ('buttoned', 2), ('chin;', 1), ('spectacles', 2), ('absorbed', 2), ('volume.', 1), ('“bildad,”', 1), ('“at', 4), ('studying', 4), ('scriptures,', 1), ('knowledge.', 1), ('got,', 2), ('bildad?”', 2), ('habituated', 1), ('shipmate,', 5), ('noticing', 1), ('irreverence,', 1), ('inquiringly', 1), ('bildad,”', 5), ('wants', 7), ('thee?”', 1), ('tone,', 3), ('dost,”', 1), ('unconsciously,', 1), ('quaker.', 1), ('do,”', 1), ('spelling', 1), ('mumbling', 5), ('tone', 3), ('audible.', 1), ('saw,', 3), ('blusterer.', 1), ('nothing,', 8), ('sharply.', 2), ('achest,', 1), ('articles,', 4), ('pen', 2), ('ink', 1), ('table.', 3), ('willing', 4), ('engage', 2), ('aware', 6), ('wages;', 1), ('shares', 1), ('proﬁts', 2), ('lays,', 1), ('proportioned', 1), ('importance', 5), ('respective', 4), ('duties', 1), ('large;', 1), ('steer', 8), ('splice', 4), ('275th', 4), ('nett', 1), ('eventually', 7), ('lay,', 7), ('lucky', 7), ('clothing', 1), ('beef', 8), ('board,', 13), ('stiver.', 1), ('accumulate', 1), ('princely', 2), ('fortune', 1), ('indeed.', 2), ('fortunes,', 1), ('cloud.', 1), ('200th,', 1), ('broad�', 1), ('shouldered', 2), ('make.', 2), ('generous', 5), ('crony', 1), ('bildad;', 3), ('proprietors', 3), ('inconsiderable', 3), ('owners,', 4), ('management', 4), ('affairs', 3), ('stingy', 1), ('ﬁreside.', 1), ('vainly', 5), ('mend', 7), ('party', 6), ('proceedings;', 1), ('“‘lay', 1), ('yourselves', 1), ('treasures', 2), ('moth', 3), ('”’', 2), ('“well,captain', 1), ('interrupted', 3), ('man?”', 4), ('knowest', 4), ('best,”', 1), ('sepulchral', 2), ('reply,', 2), ('seven', 11), ('seventy�', 3), ('‘where', 1), ('rust', 3), ('corrupt,', 1), ('lay!', 1), ('seventy�seventh!', 1), ('below,', 11), ('corrupt.', 1), ('indeed;', 3), ('deceive', 1), ('landsman,', 3), ('seventy�seven', 2), ('number,', 4), ('ateenth', 1), ('seventy�seventh', 2), ('farthing', 1), ('doubloons;', 1), ('“why,', 7), ('blast', 6), ('swindle', 1), ('that.”', 3), ('“seven', 1), ('seventy�seventh,”', 1), ('“‘for', 1), ('treasure', 1), ('also.”’', 1), ('hundredth,”', 1), ('bildad!', 1), ('hundredth', 2), ('say.”', 4), ('solemnly', 7), ('“captain', 13), ('owest', 1), ('widows', 2), ('orphans,', 1), ('abundantly', 2), ('reward', 3), ('labors', 1), ('maybe', 3), ('bread', 5), ('peleg.”', 3), ('bildad!”', 1), ('“blast', 3), ('advice', 3), ('matters,', 2), ('lug', 1), ('founder', 2), ('horn.”', 2), ('peleg,”', 3), ('steadily,', 2), ('“thy', 2), ('fathoms,', 1), ('tell;', 2), ('impenitent', 2), ('lest', 7), ('leaky', 5), ('sink', 13), ('pit,', 2), ('“fiery', 1), ('pit!', 2), ('insult', 8), ('man;', 24), ('bearing,', 1), ('all�ﬁred', 1), ('outrage', 2), ('hell.', 3), ('flukes', 1), ('ﬂames!', 2), ('start', 26), ('soul�bolts,', 1), ('goat', 1), ('canting,', 1), ('gun', 5), ('thundered', 1), ('oblique,', 1), ('sliding', 10), ('celerity,', 2), ('eluded', 3), ('outburst', 1), ('responsible', 1), ('sailing', 29), ('questionably', 1), ('owned', 5), ('temporarily', 8), ('commanded,', 1), ('stepped', 8), ('egress', 2), ('vanish', 1), ('astonishment,', 1), ('quietly,', 2), ('withdrawing.', 2), ('ways.', 2), ('letting', 3), ('rage', 7), ('lamb,', 1), ('nervously', 2), ('agitated.', 1), ('“whew!”', 1), ('whistled', 1), ('squall’s', 1), ('leeward,', 12), ('sharpening', 2), ('pen,', 3), ('grindstone.', 1), ('ye;', 12), ('ishmael’s', 1), ('name,', 10), ('say?', 3), ('lay.”', 1), ('to�morrow?”', 1), ('sure,”', 1), ('“fetch', 2), ('along,', 15), ('him.”', 8), ('want?”', 1), ('groaned', 3), ('burying', 2), ('“oh!', 9), ('“has', 1), ('whaled', 1), ('any?”', 1), ('“killed', 1), ('count,', 1), ('then.”', 2), ('signing', 2), ('papers,', 1), ('went;', 2), ('doubting', 1), ('morning’s', 1), ('cape.', 1), ('unseen', 12), ('visible', 22), ('command;', 3), ('prolonged,', 3), ('intervals', 19), ('brief,', 2), ('family,', 2), ('absorbing', 2), ('concernment', 1), ('sort,', 9), ('irrevocably', 2), ('committing', 2), ('inquiring', 5), ('found.', 2), ('ahab?', 8), ('enough;', 5), ('shipped.”', 1), ('“yes,', 11), ('present.', 2), ('house;', 2), ('sick,', 2), ('sick;', 1), ('isn’t', 1), ('either.', 2), ('how,', 7), ('thee.', 10), ('thou’lt', 1), ('fear.', 1), ('grand,', 2), ('ungodly,', 1), ('god�like', 2), ('doesn’t', 3), ('much;', 3), ('speak,', 6), ('listen.', 2), ('forewarned;', 1), ('common;', 1), ('colleges,', 1), ('’mong', 2), ('cannibals;', 2), ('wonders', 9), ('waves;', 6), ('lance', 24), ('mightier,', 1), ('foes', 2), ('lance!', 1), ('keenest', 3), ('surest', 1), ('isle!', 1), ('peleg;', 1), ('boy;', 4), ('old,', 9), ('knowest,', 2), ('crowned', 3), ('king!”', 1), ('slain,', 2), ('dogs,', 2), ('lick', 2), ('blood?”', 1), ('tome', 1), ('hither,', 4), ('hither,”', 1), ('signiﬁcance', 4), ('lad;', 3), ('’twas', 4), ('foolish,', 5), ('whim', 2), ('crazy,', 1), ('widowed', 2), ('mother,', 3), ('twelvemonth', 3), ('squaw', 2), ('tistig,', 1), ('gay�head,', 1), ('prophetic.', 1), ('fools', 1), ('same.', 3), ('warn', 3), ('lie.', 1), ('pious,', 1), ('swearing', 3), ('jolly;', 2), ('spell;', 4), ('bleeding', 3), ('stump', 9), ('know,', 18), ('accursed', 10), ('moody,', 1), ('sometimes;', 1), ('off.', 5), ('thee,', 36), ('laughing', 1), ('good�bye', 1), ('wrong', 2), ('happens', 7), ('name.', 6), ('boy,', 10), ('sweet,', 2), ('resigned', 2), ('girl.', 1), ('that;', 13), ('girl', 2), ('child:', 1), ('utter,', 1), ('stricken,', 1), ('blasted,', 1), ('humanities!”', 1), ('walked', 5), ('away,', 31), ('thoughtfulness;', 1), ('incidentally', 6), ('vealed', 1), ('vagueness', 1), ('painful�', 1), ('ness', 5), ('sympathy', 2), ('sorrow', 3), ('cruel', 5), ('loss', 9), ('leg.', 5), ('awe,', 2), ('de�', 11), ('scribe,', 1), ('awe;', 1), ('was.', 7), ('disincline', 1), ('impatience', 1), ('mystery', 6), ('imperfectly', 1), ('directions,', 2), ('mind.', 3), ('s', 15), ('humiliation,', 1), ('continue', 5), ('choose', 5), ('disturb', 1), ('night�fall;', 1), ('great�', 1), ('est', 3), ('everybody’s', 1), ('religious', 2), ('obligations,', 1), ('comical,', 1), ('undervalue', 1), ('ants', 2), ('wor�', 3), ('toad�stool;', 1), ('footmanism', 1), ('unprecedented', 2), ('planets,', 1), ('be�', 16), ('torso', 1), ('deceased', 1), ('proprietor', 1), ('possessions', 1), ('rented', 1), ('vastly', 1), ('mortals,', 4), ('half�crazy', 1), ('subjects.', 1), ('entertaining', 1), ('absurd', 2), ('notions', 2), ('ramadan;', 2), ('suppose;', 3), ('content;', 1), ('arguing', 1), ('avail;', 1), ('say:', 2), ('presbyterians', 1), ('mending.', 1), ('evening,', 2), ('rituals', 1), ('knocked', 6), ('fastened', 9), ('inside.', 2), ('“queequeg,”', 6), ('key�hole:', 1), ('silent.', 1), ('queequeg!', 4), ('speak?', 1), ('ishmael.”', 1), ('before.', 13), ('alarmed.', 1), ('apoplectic', 1), ('ﬁt.', 2), ('key�hole;', 1), ('key�hole', 1), ('sinister', 2), ('foot�board', 1), ('aline', 1), ('shaft', 2), ('landlady', 3), ('chamber.', 1), ('strange,', 13), ('yonder,', 5), ('abroad', 6), ('mistake.', 2), ('queequeg!”', 1), ('still.', 3), ('happened.', 4), ('apoplexy!', 1), ('stubbornly', 2), ('resisted.', 1), ('stated', 2), ('chamber�maid.', 1), ('“la!', 1), ('la!”', 1), ('matter.', 4), ('locked;', 1), ('mouse', 1), ('since.', 3), ('baggage', 1), ('keeping.', 1), ('la!', 3), ('la,', 1), ('ma’am!', 1), ('mistress!', 1), ('murder!', 1), ('hussey!', 1), ('apoplexy!”', 1), ('cries,', 2), ('following.', 3), ('appeared,', 2), ('mustard�pot', 3), ('vinegar�', 1), ('cruet', 1), ('occupation', 1), ('castors,', 1), ('meantime.', 1), ('“wood�house!”', 1), ('pry', 4), ('axe!', 3), ('stroke;', 1), ('it!”', 5), ('empty�handed,', 1), ('interposed', 2), ('vinegar�cruet,', 2), ('castor', 1), ('sake,run', 1), ('doctor,', 1), ('open!”', 1), ('here,”', 3), ('landlady,', 2), ('talking', 6), ('prying', 3), ('doors?”', 1), ('seized', 17), ('you?', 3), ('shipmate?”', 2), ('calm,', 14), ('rapid', 10), ('case.', 7), ('unconsciously', 5), ('clapping', 3), ('rumi�', 1), ('nated', 2), ('instant;', 3), ('“no!', 1), ('haven’t', 3), ('closet', 3), ('turning,', 4), ('missing.', 3), ('“he’s', 14), ('himself,”', 1), ('unfort’nate', 1), ('mother!', 1), ('lad', 5), ('sister?', 1), ('girl?', 1), ('betty,', 1), ('snarles', 1), ('painter,', 1), ('sign,', 1), ('suicides', 1), ('permitted', 4), ('parlor;’', 1), ('birds', 7), ('once.', 7), ('kill?', 1), ('merciful', 1), ('ghost!', 1), ('there?', 12), ('avast', 7), ('there!”', 4), ('force', 7), ('premises', 1), ('spoiled.', 1), ('locksmith,', 1), ('mile', 6), ('avast!”', 1), ('side�', 2), ('“here’s', 2), ('that’ll', 1), ('ﬁt,', 2), ('guess;', 3), ('see.”', 2), ('lock;', 1), ('supplemental', 2), ('unwithdrawn', 1), ('“have', 3), ('open,”', 1), ('start,', 2), ('vowing', 1), ('premises;', 1), ('dashed', 21), ('mark.', 3), ('knob', 1), ('slamming', 1), ('ceiling;', 1), ('self�collected;', 1), ('squatting', 1), ('hams,', 1), ('hain’t', 1), ('sittin’', 1), ('he?”', 2), ('landlady.', 1), ('pushing', 5), ('change', 6), ('position,', 4), ('intolerable,', 1), ('painfully', 2), ('unnaturally', 1), ('constrained;', 1), ('especially,', 2), ('probability', 3), ('hours,', 8), ('meals.', 1), ('“mrs.', 1), ('hussey,”', 1), ('events;', 1), ('affair', 9), ('myself.”', 1), ('closing', 2), ('prevail', 1), ('chair;', 3), ('vain.', 1), ('sat;', 1), ('blandishments', 1), ('peg,', 1), ('presence', 4), ('hams', 3), ('creed,', 1), ('rest;', 3), ('he’ll', 16), ('later,', 1), ('doubt.', 1), ('year;', 1), ('punctual', 1), ('supper.', 2), ('listening', 3), ('plum�pudding', 2), ('whaling�voyage', 1), ('brig,', 1), ('conﬁned', 3), ('line,', 28), ('only);', 1), ('plum�puddingers', 1), ('eleven', 2), ('termination.', 1), ('no;', 10), ('stirred', 5), ('inch.', 1), ('vexed', 2), ('downright', 3), ('senseless', 1), ('insane', 3), ('“for', 7), ('yourself;', 4), ('starve;', 1), ('yourself,', 5), ('queequeg.”', 1), ('reply.', 4), ('despairing', 3), ('sleep;', 1), ('while,', 18), ('bearskin', 1), ('promised', 3), ('faintest', 2), ('doze.', 1), ('blown', 3), ('candle;', 1), ('uneasy', 1), ('dark;', 2), ('wretched.', 1), ('awake', 2), ('dreary,', 3), ('ramadan!', 1), ('bedside,', 1), ('squatted', 1), ('ﬂoor.', 1), ('grating', 3), ('joints,', 1), ('cheerful', 4), ('look;', 1), ('limped', 2), ('lay;', 2), ('mine;', 7), ('hinted,', 7), ('objection', 2), ('religion,', 1), ('also.', 1), ('becomes', 12), ('frantic;', 2), ('positive', 3), ('torment', 1), ('ours', 2), ('inn', 2), ('in;', 6), ('argue', 3), ('me.”', 4), ('progress', 3), ('primitive', 3), ('religions,', 1), ('religions', 2), ('labored', 1), ('lents,', 1), ('ra�', 1), ('madans,', 1), ('ham�squattings', 1), ('non�', 1), ('sense;', 2), ('health;', 2), ('useless', 5), ('opposed,', 1), ('obvi�', 2), ('ous', 7), ('laws', 6), ('hygiene', 1), ('sense.', 1), ('extremely', 3), ('sagacious', 6), ('pained', 2), ('badly', 3), ('deplorably', 1), ('foolish', 9), ('ridiculous', 3), ('argued', 3), ('caves', 1), ('necessarily', 2), ('half�starved.', 1), ('rea�', 2), ('religionists', 1), ('melancholy', 4), ('here�afters.', 1), ('digressively;', 1), ('hell', 6), ('undigested', 1), ('apple�dumpling;', 1), ('perpetuated', 1), ('dyspepsias', 1), ('nurtured', 3), ('ramadans.', 1), ('dyspepsia;', 1), ('expressing', 2), ('memorable', 2), ('occasion.', 1), ('enemy', 3), ('afternoon,', 1), ('cooked', 5), ('eaten', 3), ('evening.', 1), ('“no', 10), ('shuddering;', 1), ('do;”', 1), ('infer�', 1), ('ences', 1), ('hinting', 3), ('custom,', 1), ('barbecue', 1), ('yard', 2), ('victor;', 1), ('trenchers,', 1), ('pilau,', 1), ('breadfruit', 1), ('cocoanuts;', 1), ('parsley', 1), ('mouths,', 3), ('victor’s', 1), ('compliments', 2), ('presents', 4), ('turkeys.', 1), ('remarks', 2), ('impression', 3), ('because,', 9), ('subject,', 6), ('view;', 1), ('couch', 1), ('simply', 10), ('condescending', 1), ('compassion,', 1), ('hopelessly', 4), ('evangelical', 2), ('piety.', 1), ('dressed;', 1), ('prodigiously', 1), ('chowders', 1), ('sorts,', 4), ('proﬁt', 3), ('halibut', 1), ('bones.', 4), ('walking', 6), ('gruff', 1), ('loudly', 7), ('suspected', 2), ('further�', 1), ('announcing', 5), ('previ�', 1), ('ously', 3), ('papers.', 3), ('peleg?”', 1), ('jumping', 1), ('mean,”', 1), ('replied,', 3), ('papers.”', 1), ('“yea,”', 1), ('sticking', 3), ('peleg’s,', 1), ('wigwam.', 3), ('converted.', 1), ('dark�', 2), ('ness,”', 1), ('“art', 3), ('communion', 1), ('church?”', 2), ('member', 7), ('congregational', 3), ('church.”', 1), ('converted', 3), ('“first', 1), ('church,”', 1), ('“what!', 3), ('worships', 2), ('deacon', 5), ('deuteronomy', 3), ('coleman’s', 1), ('meeting�house?”', 1), ('spec�', 1), ('tacles,', 1), ('rubbed', 3), ('bandana', 1), ('carefully,', 3), ('bul�', 2), ('warks,', 2), ('member?”', 1), ('guess,', 2), ('hasn’t', 4), ('either,', 4), ('devil’s', 6), ('face.”', 2), ('philistine', 1), ('deuteronomy’s', 1), ('meeting?', 1), ('lord’s', 2), ('day.”', 1), ('meeting,”', 1), ('is.”', 1), ('“young', 2), ('man,”', 4), ('sternly,', 1), ('thyself,', 8), ('hittite.', 1), ('mean?', 2), ('finding', 1), ('pushed,', 1), ('catholic', 2), ('mother’s', 4), ('belong;', 1), ('ever�', 1), ('lasting', 2), ('belong', 7), ('crotchets', 1), ('noways', 2), ('belief;', 1), ('hands.”', 1), ('“splice,', 1), ('mean’st', 1), ('hands,”', 1), ('nearer.', 1), ('missionary,', 1), ('fore�mast', 2), ('sermon.', 1), ('reckoned', 1), ('something.', 1), ('aboard,', 8), ('aboard;', 1), ('quohog', 4), ('him?', 11), ('along.', 3), ('handles', 2), ('quohog,', 4), ('whale�boat?', 1), ('ﬁsh?”', 2), ('whale�boats', 2), ('knee,', 2), ('poising', 2), ('“cap’ain,', 1), ('dere?', 1), ('spose', 1), ('den!”', 1), ('aim', 3), ('bildad’s', 3), ('brim,', 2), ('decks,', 6), ('glistening', 7), ('sight.', 11), ('hauling', 4), ('“spos�ee', 1), ('whale�e', 1), ('eye;', 7), ('dad', 1), ('dead.”', 2), ('“quick,', 3), ('partner,', 1), ('retreated', 2), ('gangway.', 1), ('hedgehog', 1), ('boats.', 10), ('ninetieth', 2), ('belonged.', 3), ('preliminaries', 2), ('sign�', 1), ('write,', 1), ('he?', 5), ('mark?”', 1), ('question,', 5), ('ceremonies,', 1), ('abashed;', 1), ('paper,', 1), ('counterpart', 3), ('arm;', 2), ('peleg’s', 2), ('obstinate', 2), ('appellative,', 1), ('hisz', 1), ('pockets', 1), ('broad�skirted', 1), ('bundle', 2), ('tracts,', 1), ('entitled', 10), ('latter', 14), ('com�', 10), ('ing;', 2), ('lose,”', 1), ('“son', 1), ('ness,', 2), ('owner', 5), ('crew;', 13), ('clingest', 1), ('ways,', 5), ('beseech', 1), ('remain', 19), ('aye', 6), ('belial', 1), ('bondsman.', 1), ('spurn', 1), ('bel,', 1), ('dragon;', 2), ('say;', 10), ('goodness', 2), ('gracious!', 1), ('pit!”', 1), ('salt', 5), ('lingered', 5), ('heteroge�', 1), ('neously', 2), ('scriptural', 1), ('domestic', 10), ('phrases.', 1), ('“avast', 2), ('spoiling', 1), ('harpooneer,”', 1), ('“pious', 1), ('voyagers', 1), ('’em;', 4), ('straw', 1), ('sharkish.', 1), ('nat', 1), ('swaine,', 1), ('bravest', 2), ('boat�header', 2), ('vineyard;', 2), ('meeting,', 3), ('shrinked', 1), ('sheered', 1), ('after�', 1), ('claps,', 1), ('davy', 2), ('jones.”', 1), ('“peleg!', 1), ('peleg!”', 1), ('death;', 4), ('can’st', 8), ('prate', 1), ('ungodly', 2), ('guise.', 1), ('beliest', 1), ('typhoon', 4), ('did’st', 4), ('then?”', 5), ('“hear', 2), ('thrust�', 1), ('sink!', 2), ('what?', 5), ('thundering', 3), ('side;and', 1), ('aft.', 5), ('no!', 8), ('rig', 5), ('jury�masts', 1), ('of.”', 1), ('buttoning', 2), ('stalked', 2), ('stood,', 8), ('overlooking', 2), ('sail�makers', 1), ('mending', 2), ('top�sail', 4), ('waist.', 4), ('pick', 10), ('patch,', 1), ('tarred', 2), ('twine,', 3), ('wasted.', 2), ('hipmates,', 1), ('ship?”', 3), ('levelled', 9), ('mas�', 1), ('sive', 2), ('fore�ﬁnger', 1), ('question.', 5), ('shabbily', 1), ('faded', 5), ('trowsers;', 2), ('investing', 2), ('conﬂuent', 3), ('small�pox', 1), ('ﬂowed', 4), ('complicated', 5), ('ribbed', 4), ('torrent,', 1), ('dried', 6), ('her?”', 1), ('suppose,”', 1), ('uninterrupted', 2), ('rapidly', 17), ('shoving', 1), ('bayonet', 2), ('ﬁnger', 9), ('object.', 6), ('“yes,”', 2), ('signed', 3), ('articles.”', 1), ('“anything', 2), ('souls?”', 1), ('“about', 2), ('hav’n’t', 4), ('any,”', 1), ('quickly.', 1), ('chaps', 3), ('luck', 10), ('soul’s', 3), ('ﬁfth', 4), ('wagon.”', 1), ('deﬁciencies', 1), ('chaps,”', 1), ('abruptly', 2), ('emphasis', 1), ('“let’s', 2), ('go;', 4), ('somewhere;', 3), ('somebody', 4), ('know.”', 2), ('“stop!”', 1), ('stranger.', 4), ('“ye', 3), ('ye?”', 6), ('“who’s', 4), ('thunder?”', 1), ('riveted', 5), ('earnestness', 2), ('ahab.”', 2), ('chaps,', 1), ('hav’n’t.', 1), ('sick', 6), ('better,', 5), ('long.”', 2), ('long!”', 1), ('laughed', 4), ('derisive', 1), ('laugh.', 1), ('before.”', 2), ('that!”', 4), ('“they', 4), ('whale�hunter,', 1), ('order.', 4), ('growl;', 1), ('growl', 1), ('ahab.', 26), ('ago,', 9), ('nights;', 2), ('skrimmage', 1), ('spaniard', 1), ('altar', 1), ('santa?', 1), ('spat', 3), ('into?', 1), ('losing', 4), ('prophecy?', 1), ('did;', 3), ('guess.', 3), ('hows’ever,', 1), ('mayhap,', 2), ('leg,', 21), ('say.', 11), ('oh', 13), ('a’most', 1), ('leg;', 6), ('off.”', 1), ('friend,”', 2), ('gibberish', 1), ('care;', 1), ('damaged', 1), ('eh', 1), ('do?', 3), ('all?”', 1), ('“pretty', 1), ('sure.”', 2), ('beggar�like', 1), ('reverie;', 1), ('“ye’ve', 1), ('shipped,', 1), ('papers?', 1), ('signed,', 1), ('signed;', 1), ('be;', 7), ('arranged', 1), ('a’ready;', 1), ('’em!', 1), ('ineffable', 3), ('bless', 7), ('bamboozle', 1), ('game;', 1), ('way;', 11), ('morning!', 1), ('’em.”', 2), ('fool', 9), ('easiest', 2), ('secret', 23), ('“morning', 4), ('morning.”', 2), ('is,”', 1), ('“elijah.”', 1), ('elijah!', 1), ('commenting,', 1), ('fashion,', 5), ('ragged', 3), ('sailor;', 2), ('humbug,', 1), ('bugbear.', 1), ('yards,', 4), ('chancing', 4), ('elijah', 3), ('distance.', 2), ('behind,', 6), ('comrade,', 2), ('dogging', 2), ('intent', 12), ('imagine.', 1), ('circumstance,', 8), ('coupled', 3), ('ambiguous,', 2), ('half�hinting,', 1), ('half�revealing,', 1), ('shrouded', 6), ('talk,', 2), ('begat', 3), ('kinds', 1), ('wonderments', 1), ('half�apprehensions,', 1), ('pequod;', 2), ('lost;', 2), ('ﬁt;', 2), ('calabash;', 1), ('prediction', 1), ('tistig;', 1), ('sail;', 3), ('shadowy', 1), ('satisfy', 3), ('retraced', 1), ('steps.', 1), ('relieved', 10), ('pronounced', 5), ('humbug.', 2), ('passed,', 6), ('sails', 24), ('mended,', 1), ('bolts', 3), ('canvas,', 4), ('coils', 9), ('rigging;', 3), ('betokened', 4), ('preparations', 2), ('hurrying', 4), ('close.', 1), ('look�out', 5), ('hands:', 1), ('purchasing', 1), ('providing', 2), ('stores;', 1), ('rigging', 10), ('night�fall.', 1), ('inns', 1), ('stopping,', 1), ('chests', 1), ('sailing.', 1), ('traps,', 1), ('resolving,', 1), ('last.', 15), ('days.', 4), ('wonder;', 2), ('equipped.', 1), ('beds,', 2), ('sauce�pans,', 1), ('knives', 4), ('forks,', 1), ('shovels', 1), ('tongs,', 4), ('napkins,', 1), ('nut�crackers,', 1), ('housekeeping.', 1), ('necessitates', 2), ('three�', 1), ('housekeeping', 1), ('grocers,', 1), ('coster�mongers,', 1), ('doctors,', 2), ('bakers,', 1), ('bankers.', 1), ('extent', 3), ('whalemen.', 3), ('numerous', 14), ('prosecution', 2), ('impossibility', 1), ('replacing', 3), ('remote', 8), ('harbors', 3), ('frequented,', 1), ('remembered,', 2), ('exposed', 2), ('kinds,', 2), ('destruction', 4), ('success', 4), ('depends.', 1), ('spars,', 4), ('harpoons,', 10), ('everythings,', 1), ('almost,', 4), ('duplicate', 2), ('period', 10), ('arrival', 3), ('heaviest', 2), ('stowage', 1), ('completed;', 2), ('comprising', 4), ('beef,', 5), ('bread,', 7), ('fuel,', 1), ('staves.', 2), ('odds', 3), ('small.', 3), ('indefatigable', 2), ('spirit,', 4), ('withal', 1), ('kindhearted,', 1), ('wanting', 8), ('jar', 3), ('pickles', 1), ('steward’s', 1), ('pantry;', 1), ('bunch', 7), ('mate’s', 12), ('log;', 2), ('ﬂannel', 1), ('rheumatic', 1), ('deserve', 2), ('charity', 5), ('aunt', 4), ('charity,', 2), ('sister', 1), ('bustle', 2), ('thither,', 4), ('yield', 14), ('safety,', 3), ('comfort,', 3), ('consolation', 1), ('beloved', 2), ('concerned,', 3), ('score', 8), ('well�saved', 1), ('dollars.', 1), ('startling', 3), ('hearted', 1), ('quakeress', 1), ('oil�ladle', 1), ('longer', 16), ('backward.', 1), ('list', 4), ('arrival,', 2), ('article', 4), ('whalebone', 5), ('den,', 3), ('hatchways,', 1), ('riggers', 2), ('mast�head,', 6), ('preparation,', 1), ('questions', 4), ('expected', 6), ('meantime,', 15), ('captains,', 6), ('necessary', 4), ('committed', 1), ('absolute', 3), ('dictator', 2), ('suspects', 2), ('involved', 9), ('matter,', 17), ('insensibly', 2), ('strives', 2), ('nothing.', 2), ('early', 9), ('start.', 1), ('grey', 15), ('imperfect', 1), ('dawn,', 6), ('ahead', 8), ('right,”', 1), ('shadows;', 1), ('she’s', 2), ('sunrise,', 1), ('on!”', 2), ('“avast!”', 5), ('insinuating', 1), ('uncertain', 7), ('twilight,', 2), ('elijah.', 3), ('“going', 1), ('aboard?”', 1), ('“hands', 3), ('off,', 22), ('“lookee', 1), ('“go', 4), ('’way!”', 1), ('“aint', 1), ('are,”', 1), ('yours?', 1), ('elijah,', 3), ('impertinent?”', 1), ('wasn’t', 4), ('that,”', 4), ('wonderingly', 1), ('glances.', 1), ('“elijah,”', 1), ('oblige', 2), ('prefer', 2), ('detained.”', 1), ('breakfast?”', 1), ('cracked,', 2), ('on.”', 5), ('“holloa!”', 2), ('stationary', 4), ('hailing', 6), ('removed', 7), ('paces.', 1), ('“never', 2), ('stole', 6), ('shoulder,', 5), ('“did', 2), ('ago?”', 2), ('matter�of�fact', 1), ('men;', 13), ('dim,”', 1), ('touch�', 3), ('shoulder', 3), ('“see', 3), ('“find', 1), ('who?”', 1), ('rejoined,', 1), ('mind,', 14), ('bye', 4), ('jury.”', 1), ('wonderment', 1), ('frantic', 13), ('impudence.', 1), ('moving.', 1), ('lumbered', 1), ('rigging.', 4), ('slide', 8), ('scuttle', 5), ('open.seeing', 1), ('rigger', 1), ('tattered', 1), ('pea�jacket.', 1), ('chests,', 2), ('inclosed', 2), ('profoundest', 5), ('slumber', 1), ('“those', 1), ('to?”', 1), ('dubiously', 1), ('sleeper.', 1), ('wharf,', 2), ('alluded', 6), ('to;', 3), ('optically', 1), ('deceived', 1), ('elijah’s', 2), ('down;', 9), ('marking', 4), ('sleeper,', 3), ('jocularly', 1), ('body;', 7), ('establish', 2), ('accordingly.', 1), ('sleeper’s', 2), ('rear,', 6), ('“gracious!', 1), ('perry', 2), ('dood', 1), ('seat,”', 1), ('hurt', 2), ('“face!”', 1), ('“call', 1), ('face?', 1), ('breathes,', 1), ('heaving', 12), ('heavy,', 2), ('grinding', 1), ('poor.', 1), ('soon.', 4), ('wake.”', 1), ('pipe.', 6), ('feet.', 15), ('questioning', 2), ('absence', 4), ('settees', 1), ('sofas', 1), ('chiefs,', 1), ('generally,were', 1), ('custom', 5), ('fattening', 1), ('ottomans;', 1), ('comfortably', 3), ('respect,', 2), ('lazy', 2), ('fellows,', 2), ('piers', 1), ('alcoves.', 1), ('excursion;', 1), ('garden�chairs', 1), ('convertible', 1), ('walking�sticks;', 1), ('occasion,', 3), ('calling', 9), ('attendant,', 1), ('desiring', 1), ('settee', 1), ('tree,', 6), ('damp', 4), ('marshy', 2), ('narrating', 2), ('ﬂourished', 3), ('hatchet�side', 1), ('queequeg?”', 1), ('“perry', 1), ('kill�e;', 1), ('easy!”', 1), ('brained', 1), ('soothed', 3), ('attracted', 4), ('rigger.', 2), ('vapor', 11), ('ﬁlling', 4), ('breathed', 2), ('mufﬂedness;', 1), ('revolved', 4), ('twice;', 1), ('eyes.', 7), ('smokers?”', 1), ('“shipped', 1), ('men,”', 3), ('“when', 4), ('sail?”', 1), ('to�day.', 3), ('night.”', 1), ('captain?', 1), ('indeed?”', 1), ('“holloa!', 1), ('starbuck’s', 19), ('astir,”', 1), ('lively', 12), ('goodman,', 1), ('pious;', 1), ('to.”', 1), ('sunrise.', 1), ('twos', 2), ('threes;', 1), ('bestirred', 3), ('themselves;', 2), ('mates', 20), ('actively', 3), ('engaged;', 1), ('board.', 7), ('invisibly', 2), ('enshrined', 1), ('dismissal', 1), ('riggers,', 1), ('hauled', 8), ('ever�thoughtful', 1), ('whaleboat,', 2), ('gifts', 1), ('night�cap', 1), ('stubb,', 82), ('brother�in�law,', 1), ('steward', 7), ('issued', 7), ('“now,', 6), ('starbuck,', 56), ('right?', 1), ('muster', 3), ('aft', 11), ('’em!”', 2), ('hurry,', 3), ('bidding.”', 1), ('now!', 7), ('joint�commanders', 1), ('appearances', 3), ('only,', 7), ('weigh,', 2), ('steering', 8), ('pilot’s;', 1), ('recovered', 2), ('below.', 10), ('farewell', 2), ('merry�making', 1), ('alive.', 1), ('commanding,', 1), ('“aft', 1), ('sons', 5), ('bachelors,”', 1), ('mast.', 6), ('“mr.', 7), ('aft.”', 1), ('“strike', 3), ('tent', 4), ('marquee', 1), ('anchor.', 1), ('“man', 6), ('capstan!', 1), ('thunder!', 2), ('jump!”', 1), ('command,', 5), ('handspikes.', 1), ('station', 2), ('known,', 7), ('addition', 2), ('ofﬁces,', 1), ('licensed', 1), ('pilots', 2), ('pilot�fee', 1), ('piloted', 1), ('approaching', 10), ('psalmody,', 1), ('cheer', 6), ('windlass,', 10), ('chorus', 2), ('booble', 1), ('alley,', 1), ('songs', 1), ('weigh;', 1), ('watts', 1), ('berth.', 1), ('overseeing', 2), ('ripped', 1), ('frightful', 3), ('handspike,', 1), ('same,', 5), ('ran,', 1), ('comforting', 1), ('salvation,', 1), ('poke', 2), ('horriﬁed', 1), ('apparition', 7), ('withdrawing', 6), ('vicinity.', 3), ('kick.', 2), ('heave', 14), ('service?”', 1), ('roared.', 1), ('“spring,', 1), ('sheep�head;', 1), ('spring,', 12), ('backbone!', 1), ('spring!', 2), ('quohog!', 1), ('whiskers;', 1), ('scotch�', 1), ('cap;spring,', 1), ('pants.', 1), ('out!”', 2), ('imperturbable', 2), ('psalmody.', 1), ('drinking', 2), ('glided.', 1), ('christmas;', 1), ('merged', 3), ('wintry', 2), ('spray', 9), ('cased', 2), ('ice,', 5), ('armor.', 1), ('moonlight;', 2), ('tusks', 2), ('elephant,', 5), ('curving', 2), ('icicles', 1), ('depended', 1), ('bows.', 5), ('lank', 1), ('pilot,', 2), ('headed', 8), ('anon,', 3), ('howled,', 1), ('cordage', 1), ('rang,', 1), ('steady', 16), ('notes', 2), ('heard,', 9), ('“sweet', 1), ('swelling', 3), ('ﬂood,', 3), ('green.', 1), ('jews', 1), ('canaan', 1), ('jordan', 1), ('between.”', 1), ('sweetly', 2), ('fruition.', 1), ('wet', 7), ('wetter', 1), ('haven', 3), ('store;', 1), ('meads', 1), ('glades', 2), ('eternally', 5), ('vernal,', 1), ('untrodden,', 1), ('unwilted,', 1), ('remains', 21), ('midsummer.', 1), ('ofﬁng,', 1), ('needed', 2), ('longer.', 1), ('sail�boat', 1), ('ranging', 7), ('alongside.', 3), ('unpleasing,', 1), ('juncture,', 3), ('loath', 3), ('depart,', 1), ('leave,', 1), ('stormy', 3), ('capes;', 1), ('invested;', 1), ('captain;', 5), ('encounter', 10), ('pitiless', 2), ('jaw;', 7), ('good�', 2), ('brimful', 1), ('long;', 4), ('strides;', 1), ('bounded', 1), ('far�off', 2), ('eastern', 4), ('continents;', 1), ('aloft;', 4), ('nowhere;', 2), ('coiling', 6), ('pin,', 2), ('convulsively', 3), ('grasped', 6), ('lantern,', 3), ('gazing', 22), ('heroically', 1), ('“nevertheless,', 1), ('can.”', 2), ('philosopher;', 1), ('philos�', 1), ('ophy,', 1), ('tear', 5), ('twinkling', 1), ('lantern', 6), ('near.', 6), ('mate.', 6), ('go.', 11), ('main�yard', 1), ('alongside,', 7), ('careful,', 2), ('careful!', 1), ('good�bye,', 2), ('hurrah', 4), ('away!”', 4), ('“god', 5), ('keeping,', 1), ('murmured', 9), ('incoherently.', 1), ('ye’ll', 3), ('hunt,', 4), ('mates.', 5), ('needlessly,', 1), ('harpooneers;', 2), ('cedar', 5), ('per', 2), ('cent.', 1), ('year.', 5), ('forget', 10), ('cooper', 2), ('sail�needles', 1), ('locker!', 1), ('a’', 3), ('miss', 1), ('rejecting', 2), ('gifts.', 1), ('molasses', 1), ('tierce,', 2), ('stubb;', 14), ('leaky,', 1), ('flask,', 34), ('beware', 11), ('fornication.', 1), ('good�bye!', 1), ('cheese', 4), ('hold,', 11), ('starbuck;', 13), ('it’ll', 2), ('spoil.', 1), ('butter', 3), ('cents', 2), ('pound', 5), ('“', 18), ('“come,', 1), ('palavering,', 1), ('dropt', 2), ('diverged;', 1), ('blew', 7), ('between;', 3), ('scream�', 1), ('gull', 1), ('overhead;', 2), ('hulls', 4), ('rolled;', 1), ('heavy�hearted', 1), ('cheers,', 2), ('blindly', 7), ('lone', 7), ('atlantic.', 1), ('ome', 2), ('bulkington', 1), ('tall,', 3), ('new�landed', 1), ('mariner,', 3), ('encountered', 8), ('winter’s', 1), ('vindictive', 3), ('helm', 12), ('bulk�', 1), ('ington!', 1), ('fearfulness', 3), ('midwinter', 2), ('unrestingly', 3), ('push', 5), ('term.', 2), ('wonderfullest', 1), ('unmentionable;', 1), ('memories', 4), ('epitaphs;', 1), ('six�inch', 1), ('stoneless', 1), ('grave', 4), ('bulkington.', 1), ('fared', 1), ('storm�tossed', 2), ('miserably', 2), ('drives', 3), ('leeward', 5), ('land.the', 1), ('succor;', 1), ('pitiful;', 1), ('hearthstone,', 2), ('blankets,', 1), ('mortalities.', 1), ('direst', 4), ('jeopardy;', 1), ('ﬂy', 10), ('hospitality;', 1), ('graze', 2), ('keel,', 6), ('shudder', 2), ('shore;', 1), ('doing,', 5), ('ﬁghts', 3), ('’gainst', 2), ('blow', 21), ('home�', 1), ('ward;', 1), ('sea’s', 1), ('landlessness', 2), ('refuge’s', 1), ('forlornly', 1), ('peril;', 2), ('bitterest', 4), ('foe!', 1), ('ye,now,', 1), ('bulkington?', 1), ('glimpses', 5), ('mortally', 2), ('tolerable', 6), ('truth;', 2), ('intrepid', 4), ('effort', 2), ('independence', 1), ('wildest', 2), ('conspire', 1), ('treacherous,', 1), ('shore?', 1), ('shoreless,', 1), ('indeﬁnite', 2), ('perish', 2), ('inﬁnite,', 1), ('ingloriously', 1), ('lee,', 4), ('safety!', 1), ('worm�like,', 1), ('craven', 4), ('land!', 1), ('terrible!', 1), ('agony', 5), ('vain?', 1), ('grimly,', 1), ('demigod!', 1), ('ocean�', 1), ('perishing', 2), ('apotheosis!', 1), ('embarked', 1), ('lands�', 2), ('unpoetical', 1), ('disreputable', 1), ('pursuit;', 2), ('anxiety', 3), ('convince', 1), ('landsmen,', 3), ('injustice', 2), ('hereby', 7), ('accounted', 9), ('level', 21), ('liberal', 3), ('professions.', 1), ('miscellaneous', 4), ('metropolitan', 3), ('advance', 17), ('gen�', 2), ('eral', 1), ('merits,', 1), ('emulation', 1), ('naval', 3), ('append', 1), ('initials', 1), ('s.w.f.', 1), ('fishery)', 1), ('visiting', 3), ('card,', 2), ('procedure', 5), ('pre�eminently', 1), ('presuming', 1), ('ridculous.', 1), ('declines', 1), ('honoring', 1), ('best,', 3), ('vocation', 6), ('amounts', 1), ('butchering', 1), ('busi�', 2), ('ness;', 1), ('therein,', 1), ('surrounded', 7), ('deﬁlements.', 1), ('butchers', 3), ('are,', 7), ('true.', 7), ('butchers,', 1), ('bloodiest', 1), ('badge', 2), ('martial', 3), ('commanders', 3), ('variably', 1), ('honor.', 2), ('alleged', 4), ('uncleanliness', 1), ('initiated', 1), ('facts', 2), ('unknown,', 3), ('triumphantly', 3), ('cleanliest', 1), ('tidy', 1), ('granting', 4), ('true;', 5), ('disordered', 4), ('slippery', 6), ('comparable', 1), ('carrion', 2), ('battle�ﬁelds', 1), ('soldiers', 3), ('ladies’', 3), ('plaudits?', 1), ('peril', 5), ('hances', 1), ('conceit', 8), ('soldier’s', 1), ('profession;', 1), ('veteran', 3), ('freely', 9), ('battery,would', 1), ('recoil', 2), ('fanning', 2), ('eddies', 1), ('comprehensible', 2), ('compared', 8), ('interlinked', 1), ('scouts', 1), ('hunters,', 5), ('unwittingly', 2), ('homage;', 1), ('all�abounding', 1), ('adoration!', 1), ('tapers,', 1), ('lamps,and', 1), ('burn,', 3), ('shrines,', 1), ('glory!', 1), ('lights;', 1), ('weigh', 2), ('sorts', 12), ('scales;', 1), ('been.', 3), ('de', 33), ('witt’s', 1), ('admirals', 2), ('ﬂeets?', 1), ('louis', 5), ('xvi.', 1), ('france,', 4), ('personal', 4), ('expense,', 3), ('dunkirk,', 1), ('invite', 1), ('families', 1), ('nantucket?', 1), ('britain', 1), ('1750', 1), ('1788', 1), ('bounties', 1), ('£1,000,000?', 1), ('lastly,', 1), ('outnumber', 1), ('banded', 1), ('vessels;', 2), ('manned', 11), ('eighteen', 4), ('yearly', 1), ('consuming', 2), ('4,000,000', 1), ('dollars;', 1), ('worth,', 2), ('sailing,', 3), ('$20,000,000;', 1), ('importing', 1), ('reaped', 3), ('harvest', 2), ('$7,000,000.', 1), ('puissant', 1), ('whaling?', 2), ('half;', 1), ('assert,', 3), ('cosmopolite', 1), ('philosopher', 1), ('inﬂuence,', 1), ('operated', 4), ('potentially', 1), ('aggregate,', 2), ('begotten', 1), ('remarkable', 11), ('continuously', 2), ('momentous', 3), ('sequential', 1), ('issues,', 1), ('egyptian', 4), ('offspring', 1), ('womb.', 1), ('task', 4), ('catalogue', 1), ('pioneer', 1), ('ferreting', 1), ('archipelagoes', 3), ('chart,', 2), ('vancouver', 2), ('sailed.', 2), ('european', 2), ('men�', 2), ('of�war', 1), ('peacefully', 1), ('ride', 3), ('harbors,', 2), ('salutes', 1), ('whale�ship,', 4), ('interpreted', 1), ('savages.', 1), ('celebrate', 2), ('heroes', 2), ('exploring', 1), ('expeditions,', 1), ('cooks,', 1), ('krusensterns;', 1), ('anonymous', 2), ('krusenstern.', 1), ('succorless', 1), ('empty�handedness,', 1), ('sharked', 1), ('beaches', 3), ('unrecorded,', 2), ('javelin', 2), ('battled', 1), ('marines', 1), ('muskets', 3), ('willingly', 4), ('dared.', 1), ('oyages,', 2), ('life�time', 3), ('commonplaces', 2), ('heroic', 2), ('nantucketers.', 2), ('often,', 6), ('dedicates', 1), ('log.', 1), ('world!', 4), ('ﬁshery', 12), ('rounded', 4), ('colonial,', 2), ('intercourse', 1), ('europe', 2), ('opulent', 1), ('spanish', 10), ('provinces', 1), ('coast.', 4), ('crown,', 2), ('colonies;', 1), ('permitted,', 1), ('distinctly', 7), ('eventuated', 1), ('liberation', 1), ('peru,', 3), ('chili,', 2), ('bolivia', 1), ('yoke', 3), ('spain,', 2), ('establishment', 1), ('democracy', 2), ('sphere,', 2), ('australia,', 2), ('enlightened', 4), ('blunder�born', 1), ('discovery', 7), ('dutchman,', 1), ('shunned', 1), ('pestiferously', 1), ('barbarous;', 1), ('colony.', 1), ('moreover,', 12), ('infancy', 2), ('australian', 1), ('settlement,', 1), ('emigrants', 2), ('saved', 3), ('starvation', 1), ('luckily', 1), ('uncounted', 3), ('polynesia', 1), ('merchant,', 1), ('missionaries', 1), ('destinations.', 1), ('double�bolted', 1), ('hospitable,', 2), ('credit', 3), ('due;', 1), ('threshold.', 1), ('declare', 5), ('aesthetically', 1), ('associations', 3), ('shiver', 4), ('unhorse', 1), ('split', 12), ('helmet', 3), ('author,', 3), ('chronicler,', 1), ('chronicler?', 1), ('wrote', 3), ('job!', 1), ('composed', 3), ('whaling�voyage?', 1), ('alfred', 1), ('nor�', 1), ('wegian', 1), ('whale�hunter', 3), ('times!', 1), ('glowing', 4), ('eulogy', 1), ('parliament?', 1), ('burke!', 1), ('devils;', 1), ('veins.', 1), ('veins?', 1), ('grandmother', 1), ('benjamin', 2), ('franklin', 1), ('mary', 3), ('morrel;', 1), ('marriage,', 1), ('folger,', 1), ('settlers', 1), ('ancestress', 1), ('folgers', 1), ('kith', 2), ('kin', 1), ('darting', 12), ('respectable.', 1), ('respectable?', 1), ('imperial!', 1), ('statutory', 1), ('law,', 4), ('ﬁsh.”', 3), ('nominal!', 1), ('ﬁgured', 3), ('imposing', 4), ('way?', 4), ('triumphs', 1), ('capital,', 1), ('syrian', 2), ('conspicuous', 7), ('cymballed', 1), ('procession.', 1), ('grant', 5), ('cite', 1), ('dignity', 18), ('attest.', 1), ('cetus', 2), ('constellation', 2), ('south!', 1), ('more!', 3), ('czar,', 2), ('more!i', 1), ('lifetime,', 2), ('whales.i', 1), ('antiquity', 4), ('walled', 3), ('towns.', 2), ('possibility,there', 1), ('undiscovered', 1), ('prime', 6), ('repute', 1), ('hushed', 2), ('unreasonably', 2), ('hereafter', 9), ('undone;', 2), ('executors,', 2), ('creditors,', 1), ('precious', 17), ('mss.', 1), ('prospectively', 1), ('ascribe', 3), ('yale', 2), ('college', 2), ('harvard.', 2), ('behalf', 1), ('substantiated', 3), ('facts.', 1), ('embattling', 1), ('facts,', 4), ('suppress', 1), ('unreasonable', 2), ('surmise,', 1), ('eloquently', 1), ('advocate,', 1), ('blameworthy?', 1), ('coronation', 4), ('queens,', 2), ('process', 1), ('seasoning', 1), ('functions', 2), ('saltcellar', 1), ('state,', 8), ('called,', 6), ('caster', 1), ('knows?', 1), ('oiled', 1), ('coronation,', 1), ('salad.', 1), ('anoint', 2), ('machin�', 1), ('ery?', 1), ('ruminated', 1), ('essential', 3), ('regal', 3), ('process,', 1), ('esteem', 1), ('meanly', 1), ('contemptibly', 1), ('anoints', 1), ('hair,', 7), ('palpably', 1), ('anointing.', 1), ('mature', 1), ('hair�oil,', 1), ('medicinally,', 1), ('quoggy', 1), ('somewhere.', 2), ('rule,', 2), ('totality.', 1), ('coronations?', 1), ('olive', 1), ('macassar', 1), ('norcastor', 1), ('bear’s', 1), ('train', 5), ('cod�liver', 1), ('oil.', 11), ('unmanufactured,', 2), ('unpolluted', 1), ('sweetest', 2), ('oils?', 1), ('loyal', 1), ('britons!', 1), ('supply', 7), ('queens', 2), ('stuff!', 1), ('descent.', 1), ('icy', 7), ('adapted', 4), ('endure', 9), ('latitudes,', 5), ('ﬂesh', 12), ('twice�', 1), ('baked', 3), ('biscuit.', 2), ('transported', 5), ('indies,', 1), ('bottled', 2), ('ale.', 1), ('drought', 3), ('famine,', 1), ('famous.', 1), ('arid', 2), ('sum�', 1), ('mers', 1), ('summers', 1), ('superﬂuousness.', 1), ('thinness,', 1), ('wasting', 1), ('anxieties', 1), ('cares,', 1), ('indication', 2), ('blight.', 1), ('condensation', 1), ('ill�looking;', 1), ('contrary.', 1), ('tight', 3), ('skin', 20), ('inner', 5), ('health', 2), ('reviviﬁed', 1), ('egyptian,', 2), ('torrid', 2), ('patent', 2), ('chronometer,', 1), ('vitality', 6), ('war�', 1), ('ranted', 1), ('climates.', 1), ('lingering', 6), ('images', 2), ('thousand�fold', 1), ('confronted', 1), ('staid,', 1), ('steadfast', 3), ('pantomime', 1), ('action,', 2), ('tame', 4), ('words.', 3), ('so�', 1), ('briety', 1), ('fortitude,', 4), ('qualities', 3), ('affected,', 2), ('overbalance', 1), ('endued', 1), ('reverence,', 1), ('loneliness', 1), ('incline', 2), ('superstition;', 1), ('superstition,', 1), ('organizations', 1), ('intelligence', 4), ('ignorance.', 1), ('portents', 3), ('presentiments', 1), ('welded', 9), ('far�away', 2), ('tend', 5), ('ruggedness', 1), ('nature,', 7), ('latent', 4), ('honest�hearted', 1), ('restrain', 2), ('gush', 5), ('dare�devil', 1), ('evinced', 19), ('vicissitudes', 6), ('boat,”', 1), ('star�', 5), ('buck,', 3), ('reliable', 4), ('useful', 4), ('courage', 8), ('arises', 2), ('estimation', 2), ('peril,', 5), ('aye,”', 4), ('“starbuck,', 2), ('anywhere', 9), ('ﬁshery.”', 1), ('“careful”', 1), ('hunter.', 1), ('crusader', 1), ('perils;', 3), ('sentiment;', 1), ('occasions.', 1), ('staple', 2), ('outﬁts', 2), ('sun�down;', 1), ('persisting', 2), ('persisted', 2), ('critical', 13), ('living,', 4), ('theirs;', 5), ('hundreds', 8), ('knew.', 3), ('father’s?', 1), ('where,', 11), ('deeps,', 3), ('torn', 14), ('limbs', 6), ('brother?', 1), ('him,and,', 1), ('supersti�', 1), ('tiousness,', 1), ('ﬂourish,', 1), ('extreme.', 1), ('reasonable', 7), ('organized,', 1), ('experiences', 4), ('remembrances', 1), ('had;', 2), ('latently', 1), ('engendering', 1), ('suitable', 1), ('conﬁnement,', 2), ('bravery,', 1), ('abiding', 1), ('ﬁrm', 11), ('conﬂict', 1), ('winds,', 4), ('irrational', 1), ('horrors', 5), ('withstand', 8), ('terriﬁc,', 5), ('terrors,', 4), ('menace', 1), ('brow', 23), ('enraged', 6), ('reveal,', 1), ('instance,', 8), ('abase�', 1), ('sorrowful,', 1), ('nay', 3), ('shocking,', 1), ('expose', 4), ('valor', 1), ('detestable', 1), ('joint', 2), ('stock�companies', 1), ('nations;', 1), ('knaves,', 1), ('fools,', 2), ('meagre', 1), ('faces;', 1), ('ideal,', 1), ('sparkling,', 1), ('ignominious', 1), ('blemish', 2), ('costliest', 2), ('robes.', 1), ('immaculate', 3), ('manliness', 1), ('intact', 2), ('gone;', 2), ('anguish', 5), ('undraped', 1), ('spectacle', 5), ('valor�ruined', 1), ('piety', 1), ('shameful', 2), ('sight,', 14), ('stiﬂe', 1), ('upbraidings', 1), ('mitting', 1), ('stars.', 2), ('treat', 3), ('robes,', 1), ('abounding', 6), ('robed', 1), ('investiture.', 1), ('shalt', 3), ('wields', 1), ('spike;', 1), ('democratic', 2), ('radiates', 1), ('himself!', 1), ('ab�', 1), ('solute!', 1), ('circumference', 3), ('democracy!', 1), ('omnipresence,', 1), ('divine', 8), ('equality!', 1), ('mariners,', 5), ('renegades', 1), ('castaways,', 3), ('qualities,', 2), ('weave', 2), ('tragic', 4), ('graces;', 1), ('mournful,', 1), ('perchance', 2), ('abased,', 1), ('lift', 11), ('exalted', 3), ('mounts;', 1), ('workman’s', 1), ('ethereal', 1), ('light;', 2), ('rainbow', 1), ('disastrous', 3), ('critics', 1), ('equality,', 2), ('mantle', 2), ('humanity', 3), ('kind!', 1), ('swart', 4), ('convict,', 1), ('bunyan,', 1), ('poetic', 1), ('pearl;', 1), ('clothe', 1), ('doubly', 1), ('hammered', 8), ('ﬁnest', 3), ('gold,', 6), ('stumped', 2), ('paupered', 1), ('cervantes;', 1), ('andrew', 1), ('jackson', 1), ('pebbles;', 1), ('hurl', 1), ('war�horse;', 1), ('throne!', 1), ('mighty,', 4), ('marchings,', 1), ('cullest', 1), ('selectest', 1), ('champions', 1), ('kingly', 1), ('commons;', 1), ('tubb', 1), ('accord�', 2), ('local', 1), ('usage,', 3), ('cape�cod�man.', 1), ('happy�go�lucky;', 1), ('valiant;', 1), ('indifferent', 9), ('crisis', 3), ('toiling', 3), ('collected', 4), ('journeyman', 1), ('joiner', 1), ('good�humored,', 1), ('careless,', 3), ('presided', 2), ('whale�boat', 14), ('din�', 1), ('ner,', 1), ('guests.', 1), ('arrangement', 3), ('stage�driver', 1), ('box.', 1), ('death�lock', 1), ('unpitying', 2), ('off�handedly,', 1), ('whistling', 2), ('tinker', 3), ('hammer.', 3), ('hum', 7), ('rigadig', 1), ('tunes', 1), ('ﬂank', 8), ('exas�', 1), ('perated', 1), ('monster.', 1), ('usage', 9), ('question;', 2), ('aloft,', 15), ('bestir', 2), ('obeyed', 2), ('sooner.', 2), ('easy�going,', 1), ('unfearing', 1), ('cheerily', 3), ('trudging', 1), ('peddlers,', 1), ('packs;', 1), ('impious', 3), ('good�humor', 1), ('features', 4), ('bunk', 1), ('row', 5), ('loaded,', 1), ('rack,', 5), ('succession,', 1), ('lighting', 4), ('chapter;', 2), ('loading', 3), ('readiness', 5), ('anew.', 2), ('trowsers,', 2), ('cause,', 3), ('disposition;', 1), ('terribly', 1), ('infected', 1), ('miseries', 2), ('numberless', 5), ('exhaling', 1), ('cholera,', 1), ('cam�', 1), ('phorated', 1), ('mouths;', 2), ('tribulations,', 1), ('disinfecting', 1), ('agent.', 2), ('tisbury,', 1), ('martha’s', 3), ('stout,', 1), ('ruddy', 3), ('pugnacious', 2), ('personally', 4), ('hereditarily', 2), ('affronted', 1), ('destroy', 3), ('when�', 1), ('encountered.', 2), ('reverence', 3), ('majestic', 4), ('ways;', 2), ('danger', 4), ('encountering', 6), ('opinion,', 4), ('magniﬁed', 2), ('mouse,', 1), ('water�rat,', 1), ('requiring', 2), ('circumvention', 1), ('boil.', 1), ('ignorant,', 1), ('fearlessness', 1), ('waggish', 2), ('whales;', 13), ('fun', 2), ('lasted', 2), ('nails', 3), ('divided', 8), ('wrought', 6), ('nails;', 1), ('similarly', 2), ('divided.', 1), ('ones;', 1), ('king�post', 3), ('likened', 4), ('square', 8), ('whalers;', 4), ('radiating', 3), ('timbers', 3), ('brace', 5), ('concussions', 1), ('battering', 2), ('prescription', 1), ('pequod’s', 46), ('headsmen.', 1), ('marshal', 2), ('forces', 3), ('descend', 12), ('headsmen', 3), ('companies.', 1), ('spears,', 3), ('trio', 1), ('lancers;', 1), ('ﬂingers', 1), ('javelins.', 1), ('headsman,', 2), ('knight', 1), ('boat�steerer', 1), ('conjunctures', 1), ('provides', 2), ('twisted,', 1), ('elbowed', 2), ('assault;', 1), ('subsists', 1), ('tween', 1), ('two,', 9), ('intimacy', 1), ('friendliness;', 1), ('meet,', 1), ('headsman', 7), ('selected', 3), ('squire.', 2), ('tashtego,', 16), ('unmixed', 1), ('westerly', 1), ('vineyard,', 1), ('remnant', 1), ('village', 6), ('neighboring', 4), ('harpooneers.', 3), ('generic', 4), ('gay�headers.', 1), ('tashtego’s', 3), ('lean,', 1), ('sable', 3), ('rounding', 3), ('indian,', 3), ('largeness,', 1), ('antarctic', 5), ('expression', 5), ('proclaimed', 1), ('inheritor', 1), ('unvitiated', 2), ('quest', 6), ('moose,', 1), ('scoured,', 1), ('forests', 1), ('main.', 2), ('snufﬁng', 2), ('trail', 3), ('beasts', 4), ('woodland,', 1), ('tashtego', 28), ('ﬁtly', 2), ('arrow', 2), ('sires.', 2), ('tawny', 4), ('lithe', 2), ('snaky', 2), ('limbs,', 3), ('credited', 2), ('superstitions', 4), ('earlier', 5), ('puritans,', 1), ('believed', 5), ('daggoo,', 17), ('gigantic,', 2), ('coal�black', 1), ('negro�savage,', 1), ('lion�like', 1), ('tread', 2), ('ahasuerus', 2), ('behold.', 4), ('hoops,', 3), ('ring�bolts,', 1), ('securing', 8), ('halyards', 1), ('youth', 5), ('daggoo', 12), ('voluntarily', 1), ('whaler,', 3), ('bay', 4), ('pa�', 1), ('gan', 1), ('frequented', 4), ('heedful', 3), ('shipped;', 1), ('retained', 9), ('virtues,', 1), ('erect', 10), ('giraffe,', 1), ('pomp', 1), ('socks.', 1), ('corporeal', 4), ('humility', 1), ('ﬂag', 10), ('beg', 2), ('truce', 1), ('fortress.', 1), ('imperial', 9), ('negro,', 3), ('squire', 1), ('chess�man', 1), ('residue', 1), ('mast', 13), ('americans', 3), ('born,', 4), ('herein', 3), ('army', 1), ('military', 6), ('navies,', 1), ('engineer�', 1), ('construction', 1), ('canals', 2), ('railroads.', 1), ('liberally', 1), ('brains,', 3), ('generously', 1), ('supplying', 2), ('muscles.', 1), ('azores,', 1), ('whalers', 12), ('augment', 3), ('peas�', 1), ('rocky', 5), ('shores.', 2), ('greenland', 32), ('hull', 18), ('london,', 5), ('shetland', 1), ('homewards,', 2), ('islanders', 4), ('isolatoes', 2), ('acknowledging', 1), ('continent', 4), ('isolato', 1), ('federated', 1), ('were!', 1), ('anacharsis', 1), ('clootz', 1), ('deputation', 1), ('accompanying', 5), ('grievances', 1), ('pip', 26), ('did!', 1), ('alabama', 3), ('boy!', 6), ('tambourine;', 2), ('prelusive', 1), ('bid', 6), ('angels,', 3), ('tambourine', 6), ('glory;', 1), ('coward', 2), ('hero', 2), ('watches,', 2), ('ship;', 17), ('peremptory,', 1), ('vicariously.', 1), ('supreme', 2), ('penetrate', 3), ('retreat', 4), ('ascended', 5), ('watches', 7), ('disquietude', 1), ('pertur�', 1), ('bation.', 1), ('heightened', 6), ('diabolical', 2), ('incoherences', 1), ('uninvitedly', 1), ('recurring', 2), ('subtle', 10), ('conceived', 2), ('poorly', 1), ('moods', 1), ('smile', 2), ('whimsicalities', 1), ('wharves.', 1), ('apprehensiveness', 4), ('uneasiness', 1), ('felt,', 2), ('warranty', 1), ('emotions.', 1), ('barbaric,', 2), ('heathenish,', 2), ('motley', 1), ('merchant�ship', 2), ('with,', 7), ('ascribed', 5), ('rightly', 2), ('uniqueness', 1), ('abandonedly', 1), ('embarked.', 1), ('forcibly', 3), ('calculated', 7), ('allay', 1), ('colorless', 2), ('misgivings,', 2), ('conﬁdence', 3), ('cheerfulness', 1), ('presentment', 1), ('likely', 2), ('sea�ofﬁcers', 1), ('readily', 13), ('found,', 8), ('americans;', 1), ('vineyarder,', 1), ('biting', 4), ('weather,', 9), ('southward;', 1), ('minute', 11), ('latitude', 10), ('merciless', 1), ('winter,', 1), ('intolerable', 5), ('lowering,', 2), ('gloomy', 3), ('mornings', 1), ('transition,', 1), ('melan�', 1), ('choly', 1), ('rapidity,', 1), ('fore�noon', 1), ('taff�rail,', 1), ('foreboding', 3), ('shivers', 1), ('outran', 1), ('apprehension;', 1), ('quarter�deck.', 4), ('illness', 1), ('covery', 1), ('any.', 4), ('stake,', 1), ('overrunningly', 1), ('wasted', 3), ('particle', 3), ('compacted', 2), ('robustness.', 1), ('solid', 15), ('bronze,', 1), ('shaped', 1), ('unalterable', 4), ('mould,', 2), ('cellini’s', 1), ('perseus.', 1), ('threading', 2), ('hairs,', 3), ('continuing', 3), ('scorched', 6), ('neck,', 9), ('disappeared', 7), ('clothing,', 1), ('slender', 5), ('rod�like', 1), ('lividly', 1), ('whitish.', 1), ('resembled', 3), ('pendicular', 1), ('seam', 2), ('straight,', 2), ('tearingly', 1), ('wrenching', 3), ('twig,', 1), ('peels', 2), ('grooves', 3), ('bark', 2), ('bottom,', 8), ('soil,', 2), ('greenly', 1), ('alive,', 6), ('branded.', 1), ('scar', 1), ('tainly', 1), ('tacit', 2), ('consent,', 1), ('throughout', 8), ('allusion', 5), ('senior,', 1), ('gay�head', 2), ('superstitiously', 2), ('branded,', 1), ('fury', 7), ('fray,', 1), ('elemental', 1), ('strife', 2), ('inferentially', 1), ('negatived,', 1), ('manxman', 6), ('insinuated,', 1), ('sea�traditions,', 1), ('credulities,', 1), ('popularly', 8), ('invested', 20), ('preternatural', 5), ('discernment.', 1), ('contradicted', 1), ('tranquilly', 5), ('ofﬁce', 5), ('dead,', 11), ('birth�mark', 2), ('sole.', 1), ('powerfully', 1), ('affect', 4), ('livid', 2), ('brand', 2), ('streaked', 1), ('noted', 3), ('overbearing', 3), ('grimness', 2), ('stood.', 2), ('dismasted', 5), ('japan,”', 1), ('quiver', 2), ('singular', 7), ('posture', 4), ('maintained.', 1), ('mizen', 5), ('shrouds,', 5), ('auger', 1), ('bored', 1), ('inch', 9), ('steadied', 1), ('hole;', 2), ('elevated,', 2), ('shroud;', 1), ('erect,', 3), ('ever�pitching', 1), ('inﬁnity', 1), ('ﬁrmest', 1), ('determinate,', 1), ('unsurrenderable', 1), ('wilfulness,', 1), ('fearless,', 2), ('dedication', 1), ('spoke;', 2), ('ofﬁ�', 1), ('cers', 1), ('gestures', 2), ('expressions,they', 1), ('uneasy,', 1), ('painful,', 1), ('master�eye.', 1), ('stricken', 9), ('cruciﬁxion', 1), ('woe.', 5), ('pivot�', 2), ('stool', 2), ('gloomy;', 1), ('genial,', 3), ('recluse;', 1), ('bleakness', 1), ('secluded.', 1), ('continually', 17), ('perceptibly', 1), ('unnecessary', 2), ('cruising;', 2), ('preparatives', 1), ('needing', 1), ('supervision', 1), ('excite', 2), ('interval,', 5), ('layer', 6), ('loftiest', 4), ('peaks', 2), ('upon.', 4), ('warm,', 4), ('warbling', 1), ('persuasiveness', 1), ('holiday', 2), ('mood.', 1), ('red�cheeked,', 1), ('dancing', 6), ('girls,', 1), ('april', 2), ('wintry,', 1), ('misanthropic', 2), ('woods;', 2), ('barest,', 1), ('ruggedest,', 1), ('thunder�cloven', 1), ('oak', 3), ('sprouts,', 1), ('welcome', 4), ('glad�hearted', 1), ('visitants;', 1), ('end,', 20), ('respond', 1), ('playful', 3), ('allurings', 1), ('girlish', 1), ('blossom', 1), ('ﬂowered', 1), ('elapsed,', 4), ('icebergs', 2), ('astern,', 10), ('quito', 2), ('perpetually', 1), ('reigns', 2), ('threshold', 2), ('tropic.', 1), ('warmly', 1), ('cool,', 6), ('ringing,', 1), ('perfumed,', 1), ('overﬂowing,', 1), ('redundant', 2), ('crystal', 3), ('goblets', 2), ('persian', 6), ('sherbet,', 1), ('heaped', 2), ('ﬂaked', 1), ('rose�water', 1), ('starred', 1), ('haughty', 4), ('dames', 2), ('jewelled', 3), ('velvets,', 1), ('nursing', 3), ('pride,', 2), ('absent', 6), ('conquering', 1), ('earls,', 1), ('helmeted', 3), ('suns!', 1), ('winsome', 2), ('seducing', 1), ('nights.', 1), ('witcheries', 1), ('unwaning', 3), ('lend', 1), ('spells', 1), ('potencies', 1), ('crystals', 1), ('noiseless', 7), ('twilights.', 1), ('agencies,', 3), ('texture.', 1), ('linked', 4), ('sea�commanders,', 1), ('greybeards', 1), ('oftenest', 1), ('berths', 1), ('night�cloaked', 1), ('speaking,', 4), ('planks.', 5), ('tomb,”', 1), ('mutter', 2), ('scuttle,', 8), ('grave�dug', 1), ('berth.”', 1), ('twenty�four', 3), ('sentinelled', 1), ('slumbers', 2), ('below;', 5), ('cautiousness', 2), ('disturbing', 2), ('slumbering', 3), ('shipmates;', 1), ('quietude', 2), ('prevail,', 1), ('habitually,', 1), ('steersman', 4), ('cabin�scuttle;', 1), ('emerge,', 2), ('griping', 1), ('banister,', 1), ('crippled', 3), ('considerating', 1), ('abstained', 1), ('patrolling', 1), ('quarter�deck;', 3), ('wearied', 2), ('repose', 9), ('heel,', 3), ('reverberating', 1), ('crack', 5), ('din', 3), ('bony', 4), ('crunching', 1), ('sharks.', 3), ('once,', 8), ('mood', 6), ('regardings;', 1), ('lumber�like', 1), ('pace', 4), ('measuring', 1), ('taffrail', 3), ('mainmast,', 6), ('unassured,', 1), ('deprecating', 1), ('humorousness,', 1), ('planks,', 10), ('nay;', 2), ('mufﬂing', 1), ('noise;', 1), ('indistinctly', 1), ('hesitatingly', 1), ('tow,', 1), ('insertion', 3), ('heel.', 2), ('“am', 2), ('cannon�ball,', 2), ('stubb,”', 5), ('wouldst', 3), ('wad', 3), ('fash�', 1), ('ion?', 1), ('forgot.', 1), ('nightly', 1), ('grave;', 2), ('kennel!”', 1), ('unforeseen', 1), ('exclamation', 3), ('scornful', 3), ('speechless', 4), ('excitedly,', 1), ('gritted', 2), ('violently', 8), ('passionate', 2), ('temptation.', 1), ('yet,”', 1), ('emboldened,', 1), ('tamely', 2), ('“then', 6), ('donkey,', 2), ('mule,', 1), ('ass,', 1), ('begone,', 1), ('thee!”', 6), ('advanced', 9), ('bearing', 24), ('aspect,', 11), ('retreated.', 1), ('cabin�scuttle.', 1), ('queer.', 3), ('pray', 4), ('pray.', 1), ('queer;', 6), ('ﬂashed', 3), ('me!', 14), ('powder�pans!', 1), ('mad?', 4), ('anyway', 1), ('cracks.', 2), ('twenty�four;', 1), ('dough�boy,', 5), ('steward,', 4), ('rumpled', 2), ('tumbled,', 2), ('sheets', 6), ('foot,', 4), ('coverlid', 1), ('knots,', 1), ('hot,', 2), ('brick', 3), ('conscience;', 3), ('tic�dolly�row', 1), ('toothache.', 1), ('riddles;', 2), ('dough�boy', 7), ('tells', 8), ('suspects;', 1), ('know?', 2), ('who’s', 11), ('appointments', 1), ('hold?', 2), ('queer,', 10), ('snooze.', 1), ('babies', 2), ('too.', 9), ('’em.', 6), ('principles.', 1), ('eleventh', 1), ('commandment;', 1), ('can,', 4), ('twelfth', 1), ('how’s', 2), ('dog?', 2), ('blazes!', 1), ('jackasses', 1), ('kicked', 9), ('aback', 1), ('somehow.', 1), ('bone.', 2), ('afoul', 1), ('dreaming,', 3), ('how?', 5), ('way’s', 1), ('plaguey', 1), ('juggling', 3), ('daylight.’', 1), ('hen', 4), ('bulwarks;', 4), ('stool,', 1), ('binnacle', 7), ('planting', 4), ('smoked.', 1), ('norse', 1), ('thrones', 1), ('sea�loving', 1), ('danish', 3), ('fabricated,', 1), ('tradition,', 1), ('narwhale.', 1), ('tripod', 1), ('royalty', 2), ('ized?', 1), ('khan', 1), ('puffs,', 1), ('soliloquized', 4), ('tube,', 1), ('soothes.', 1), ('pipe!', 1), ('gone!', 1), ('uncon�', 1), ('sciously', 1), ('toiling,', 1), ('pleasuring,', 1), ('ignorantly', 4), ('windward', 9), ('while;', 1), ('windward,', 9), ('whiffs,', 1), ('jets', 7), ('strongest', 5), ('fullest', 4), ('trouble.', 1), ('pipe?', 1), ('sereneness,', 1), ('vapors', 3), ('iron�grey', 1), ('locks', 5), ('hissed', 4), ('bubble', 5), ('sinking', 10), ('made.', 8), ('lurchingly', 1), ('flask.', 13), ('“such', 1), ('king�post,', 4), ('had.', 3), ('dreamed', 3), ('off!', 3), ('presto!', 2), ('pyramid,', 2), ('fool,', 2), ('kicking', 4), ('insult,', 1), ('‘why,’', 1), ('‘what’s', 3), ('row?', 1), ('leg.’', 1), ('thump.', 1), ('cane.', 2), ('insult,my', 1), ('stubbing', 1), ('silly', 4), ('toes', 5), ('pyramid', 3), ('confoundedly', 1), ('contradictory', 3), ('cane', 2), ('yes,’', 1), ('‘it', 1), ('cudgelling', 1), ('whaleboning', 1), ('besides,’', 1), ('‘look', 2), ('footed', 2), ('farmer', 1), ('devilish', 8), ('insult.but', 1), ('whittled', 1), ('only.’', 1), ('badger�haired', 1), ('merman,', 1), ('hump', 9), ('slews', 1), ('’bout?’', 1), ('’slid!', 1), ('man,but', 1), ('frightened.', 1), ('phiz!', 1), ('fright.', 5), ('about?’', 1), ('yours,', 1), ('humpback?', 1), ('kick?’', 1), ('clout', 1), ('think,', 6), ('saw?', 1), ('marlin', 1), ('spikes,', 2), ('thoughts,‘i', 1), ('fellow.’', 1), ('‘wise', 4), ('stubb,’', 2), ('stubb;’', 1), ('muttering', 3), ('eating', 8), ('gums', 1), ('hag.', 1), ('lifted', 14), ('‘stop', 1), ('kicking!’', 1), ('‘halloa,’', 1), ('fellow?’', 1), ('here,’', 1), ('he;', 2), ('‘let’s', 1), ('insult.', 1), ('he?’', 2), ('‘yes,', 2), ('did,’', 2), ('‘right', 1), ('was.’', 1), ('‘very', 1), ('good,’', 1), ('‘he', 1), ('‘well', 1), ('then,’', 1), ('complain', 1), ('of?', 2), ('will?', 1), ('stubb.', 15), ('honor;', 2), ('lords', 2), ('slapped', 1), ('queen,', 3), ('garter�knights', 1), ('boast,', 2), ('kicks', 2), ('honors;', 1), ('pyramid?’', 1), ('snored;rolled', 1), ('hammock!', 1), ('flask?”', 3), ('tho’.”', 1), ('stern?', 1), ('says.', 2), ('halloa!', 5), ('shouts?', 1), ('hark!”', 2), ('“mast�head,', 1), ('sharp,', 2), ('hereabouts!', 1), ('him!”', 10), ('flask?', 3), ('man?', 3), ('wind.', 5), ('mum;', 1), ('lready', 2), ('launched', 6), ('deep;', 5), ('unshored,', 1), ('harborless', 1), ('immensities.', 1), ('pass;', 2), ('weedy', 3), ('barnacled', 2), ('leviathan;', 4), ('outset', 1), ('thorough', 3), ('appreciative', 1), ('leviathanic', 8), ('revelations', 2), ('systematized', 1), ('exhibition', 1), ('genera,', 1), ('task.', 2), ('classiﬁcation', 2), ('constituents', 1), ('chaos,', 1), ('essayed.', 1), ('authorities', 2), ('zoology', 2), ('cetology,”', 1), ('scoresby,', 4), ('a.', 2), ('d.', 2), ('1820.', 1), ('intention,', 1), ('method', 2), ('cetacea', 1), ('groups', 1), ('families.', 1), ('confusion', 2), ('historians', 2), ('animal”', 1), ('whale),', 2), ('surgeon', 3), ('beale,', 1), ('“unﬁtness', 1), ('pursue', 2), ('research', 1), ('unfathomable', 1), ('waters.”', 1), ('“impenetrable', 1), ('veil', 5), ('covering', 4), ('knowledge', 8), ('cetacea.”', 1), ('ﬁeld', 4), ('strewn', 2), ('thorns.”', 1), ('incomplete', 1), ('indications', 2), ('serve', 6), ('torture', 1), ('naturalists.”', 1), ('cuvier,', 3), ('hunter,', 4), ('lesson,', 1), ('lights', 5), ('anatomy.', 1), ('plenty;', 2), ('cetology,', 1), ('science', 4), ('new,', 1), ('written', 8), ('few:', 1), ('bible;', 1), ('aristotle;', 1), ('pliny;', 1), ('aldrovandi;', 1), ('136', 1), ('browne;', 2), ('gesner;', 1), ('ray;', 1), ('linnaeus;', 1), ('rondeletius;', 1), ('willoughby;', 1), ('green;', 2), ('artedi;', 1), ('sib�', 1), ('bald;', 1), ('brisson;', 1), ('marten;', 1), ('lacaaepagede;', 1), ('bonnatierre;', 1), ('desmarest;', 1), ('cuvier;', 2), ('hunter;', 1), ('owen;', 1), ('scoresby;', 2), ('beale;', 1), ('bennett;', 1), ('author', 5), ('cofﬁn;', 1), ('olmsted;', 1), ('ultimate', 7), ('generalizing', 1), ('cited', 2), ('show.', 1), ('authors,', 1), ('professional', 5), ('subject', 8), ('right�whale,', 1), ('existing', 2), ('authority.', 1), ('scoresby', 1), ('mentioning.', 1), ('usurper', 1), ('priority', 3), ('claims,', 1), ('seventy', 8), ('fabulous', 4), ('sperm�whale;', 1), ('scientiﬁc', 16), ('retreats', 3), ('whale�ports;', 1), ('usurpation', 1), ('plete.', 1), ('rival,', 1), ('monarch', 1), ('proclamation.', 1), ('charing', 1), ('cross;', 1), ('deposed,', 1), ('reigneth!', 1), ('attempt.', 1), ('bennett’s;', 1), ('surgeons', 2), ('south�sea', 1), ('whale�ships,', 3), ('volumes', 1), ('goes,', 1), ('quality,', 2), ('description.', 2), ('poetic,', 1), ('plete', 1), ('literature.', 1), ('unwritten', 1), ('comprehensive', 1), ('classiﬁcation,', 1), ('outline', 4), ('departments', 2), ('laborers.', 1), ('hereupon', 2), ('endeavors.', 1), ('promise', 5), ('complete,', 1), ('faulty.', 1), ('anatomical', 5), ('species,', 4), ('project', 2), ('systematization', 1), ('137', 1), ('builder.', 1), ('task;', 1), ('letter�sorter', 1), ('post�ofﬁce', 1), ('grope', 2), ('foundations,', 1), ('ribs,', 7), ('pelvis', 1), ('thing.', 13), ('essay', 1), ('leviathan!', 1), ('tauntings', 1), ('job', 5), ('appal', 2), ('“will', 3), ('leviathan)', 1), ('covenant', 2), ('thee?', 2), ('vain!”', 2), ('swam', 16), ('libraries', 1), ('oceans;', 1), ('hands;', 5), ('earnest;', 1), ('try.', 2), ('first:', 9), ('uncertain,', 3), ('unsettled', 1), ('vestibule', 1), ('quarters', 4), ('moot', 2), ('ﬁsh.', 13), ('system', 8), ('1766,', 1), ('linnaeus', 3), ('declares,', 2), ('knowledge,', 2), ('1850,', 1), ('sharks', 24), ('shad,', 1), ('alewives', 1), ('herring,', 2), ('linnaeus’s', 1), ('edict,', 1), ('grounds', 5), ('banished', 2), ('states', 2), ('follows:', 1), ('bilocular', 1), ('movable', 2), ('eyelids,', 1), ('penem', 1), ('intrantem', 1), ('feminam', 1), ('mam�', 1), ('mis', 1), ('lactantem,”', 1), ('“ex', 1), ('lege', 1), ('naturae', 1), ('jure', 1), ('meritoque.”', 1), ('submitted', 1), ('simeon', 1), ('macey', 2), ('charley', 3), ('cofﬁn,', 7), ('messmates', 1), ('reasons', 5), ('insufﬁcient.', 1), ('profanely', 2), ('waiving', 1), ('argument,', 1), ('fundamental', 1), ('settled,', 2), ('internal', 5), ('differ', 2), ('items.', 1), ('these:', 2), ('blood;', 1), ('lungless', 2), ('blooded.', 1), ('next:', 1), ('deﬁne', 2), ('externals,', 2), ('conspicu�', 1), ('label', 1), ('come?', 2), ('horizontal', 12), ('contracted,', 1), ('deﬁnition', 4), ('result', 2), ('meditation.', 2), ('walrus', 3), ('amphibious.', 1), ('cogent,', 1), ('ﬁrst.', 4), ('landsmen', 4), ('ﬂat,', 2), ('vertical,', 2), ('up�and�down', 2), ('shaped,', 1), ('invariably', 10), ('assumes', 1), ('position.', 2), ('exclude', 1), ('138', 1), ('brotherhood', 2), ('identiﬁed', 1), ('nantucketers;', 1), ('link', 2), ('authoritatively', 1), ('alien.', 1), ('smaller,', 1), ('spouting,', 1), ('tailed', 2), ('ground�plan', 1), ('divisions', 1), ('host.', 2), ('divide', 4), ('primary', 2), ('(subdivisible', 1), ('chapters),', 1), ('comprehend', 5), ('large.', 2), ('folio', 6), ('ii.', 15), ('octavo', 3), ('iii.', 12), ('duodecimo', 2), ('type', 1), ('octavo,', 2), ('gram�', 1), ('pus;', 1), ('duodecimo,', 2), ('porpoise.', 5), ('folios.', 1), ('include', 4), ('chapters:', 1), ('fin', 1), ('hump�backed', 1), ('razor', 1), ('vi.', 2), ('sulphur', 2), ('(folio),', 7), ('whale).', 2), ('glish', 1), ('vaguely', 3), ('trumpa', 1), ('physeter', 2), ('anvil', 2), ('cachalot', 2), ('french,', 2), ('pottﬁsch', 1), ('germans,', 1), ('macrocephalus', 1), ('globe;', 2), ('encounter;', 3), ('commerce;', 1), ('spermaceti,', 3), ('obtained.', 1), ('places,', 4), ('enlarged', 2), ('philologically', 1), ('considered,', 1), ('absurd.', 1), ('individuality,', 1), ('accidentally', 4), ('obtained', 5), ('sperma�', 1), ('ceti,', 1), ('seem,', 3), ('derived', 9), ('quickening', 1), ('humor', 3), ('syllable', 2), ('literally', 5), ('expresses.', 1), ('scarce,', 1), ('oint�', 1), ('medicament.', 1), ('druggists', 1), ('nowadays', 4), ('ounce', 2), ('rhubarb.', 1), ('opine,', 2), ('dealers;', 1), ('styled', 2), ('lamantins', 1), ('dugongs', 1), ('(pig�ﬁsh', 1), ('sow�ﬁsh', 1), ('cofﬁns', 6), ('nantucket)', 1), ('naturalists', 6), ('pig�ﬁsh', 1), ('nosy,', 1), ('lurking', 6), ('mouths', 3), ('rivers,', 1), ('hay,', 1), ('spout,', 9), ('deny', 3), ('credentials', 2), ('passports', 1), ('kingdom', 2), ('139', 1), ('enhance', 1), ('notion', 4), ('scarcity.', 1), ('appellation', 3), ('bestowed', 8), ('derived.', 1), ('(right', 1), ('leviathans,', 9), ('yields', 3), ('commonly', 6), ('baleen;', 2), ('specially', 7), ('“whale', 1), ('oil,”', 1), ('commerce.', 1), ('discriminately', 1), ('designated', 3), ('titles:', 1), ('obscurity', 1), ('multitudi�', 3), ('nously', 1), ('baptized.', 1), ('folios?', 1), ('mysticetus', 2), ('naturalists;', 1), ('baleine', 1), ('ordinaire', 1), ('gronlands', 1), ('walﬁsk', 1), ('swedes.', 1), ('ﬁshermen', 18), ('brazil', 1), ('banks,', 1), ('nor’', 4), ('cruising', 15), ('grounds.', 2), ('americans.', 1), ('agree', 2), ('features;', 3), ('determinate', 1), ('radical', 1), ('distinction.', 1), ('subdivisions', 1), ('inconclusive', 1), ('differences,', 1), ('pellingly', 1), ('intricate.', 1), ('elucidating', 1), ('(fin�back).', 1), ('reckon', 2), ('mon�', 2), ('ster', 1), ('fin�back,', 2), ('tall�spout,', 1), ('long�john,', 1), ('descried', 8), ('york', 3), ('packet�', 1), ('tracks.', 1), ('attains,', 1), ('baleen,', 3), ('fin�back', 3), ('resembles', 2), ('whale,but', 1), ('portly', 4), ('girth,', 2), ('lighter', 4), ('olive.', 1), ('cable�like', 1), ('intertwisting,', 1), ('wrinkles.', 1), ('distinguishing', 1), ('feature,', 1), ('ﬁn,', 5), ('derives', 1), ('ﬁn', 11), ('vertically', 3), ('hinder', 1), ('angular', 3), ('end.', 7), ('visible,', 6), ('isolated', 6), ('surface.', 5), ('moderately', 2), ('marked', 14), ('spherical', 1), ('ripples,', 1), ('140', 1), ('gnomon�like', 1), ('surface,', 14), ('surrounding', 4), ('dial,', 1), ('style', 3), ('wavy', 1), ('hour�lines', 1), ('graved', 1), ('ahaz�dial', 1), ('gregarious.', 1), ('whale�hater,', 1), ('man�haters.', 1), ('shy;', 1), ('solitary;', 1), ('unexpectedly', 1), ('surface', 17), ('sullen', 5), ('ris�', 1), ('spear', 6), ('plain;', 3), ('gifted', 3), ('defy', 3), ('cain', 2), ('race,', 5), ('baleen', 2), ('theoretic', 2), ('denomi�', 1), ('varieties,', 1), ('broad�nosed', 1), ('beaked', 2), ('pike�headed', 1), ('bunched', 1), ('under�jawed', 1), ('rostrated', 1), ('sorts.', 2), ('connexion', 5), ('appellative', 1), ('“whalebone', 1), ('whales,”', 1), ('im�', 2), ('portance', 1), ('mention,', 1), ('nomenclature', 1), ('facilitating', 1), ('founded', 4), ('hump,', 9), ('notwithstanding', 3), ('obviously', 1), ('basis', 2), ('detached', 9), ('distinctions,', 1), ('presents.', 2), ('back�ﬁn,', 1), ('indiscriminately', 1), ('dispersed', 1), ('regard', 9), ('structure', 5), ('particulars.', 1), ('humpbacked', 2), ('hump;', 2), ('simil�', 1), ('itude', 1), ('ceases.', 2), ('similitude', 1), ('mentioned.', 5), ('irregular', 4), ('combinations;', 1), ('detached,', 1), ('ir�', 1), ('isolation;', 1), ('methodization', 1), ('basis.', 1), ('rock', 9), ('whale�naturalists', 1), ('split.', 1), ('anatomy', 3), ('classiﬁcation.', 1), ('example,', 9), ('baleen?', 1), ('correctly', 3), ('classify', 1), ('bowels', 7), ('141', 1), ('distinctions', 2), ('available', 2), ('systematizer', 1), ('external', 11), ('enumerated.', 1), ('remains?', 2), ('bodily,', 2), ('volume,', 4), ('bibliographical', 1), ('adopted;', 1), ('succeed,', 1), ('practicable.', 1), ('proceed.', 2), ('(hump', 1), ('back).', 2), ('pack', 3), ('peddler;', 1), ('elephant', 9), ('castle', 2), ('sufﬁ�', 1), ('ciently', 1), ('distinguish', 3), ('smaller', 7), ('valuable.', 2), ('light�hearted', 1), ('(razor', 1), ('horn.', 1), ('eludes', 2), ('philosophers.', 1), ('rises', 5), ('ridge.', 1), ('(sulphur', 1), ('bottom).', 1), ('gentle�', 2), ('brimstone', 2), ('belly,', 3), ('scraping', 4), ('tartarian', 1), ('tiles', 3), ('profounder', 2), ('divings.', 1), ('remoter', 2), ('chased;', 2), ('rope�walks', 1), ('line.', 11), ('prodigies', 3), ('adieu,', 2), ('bottom!', 1), ('oldest', 4), ('nantucketer.', 2), ('(octavo).', 1), ('octa', 1), ('voes.', 1), ('embrace', 3), ('middling', 1), ('numbered:', 1), ('i.,', 1), ('grampus;', 1), ('ii.,', 1), ('fish;', 1), ('iii.,', 1), ('nar�', 3), ('.,', 2), ('killer;', 1), ('thrasher.', 1), ('(octavo),', 5), ('(grampus).', 1), ('sonorous', 1), ('breathing,or', 1), ('blowing,', 1), ('denizen', 1), ('classed', 1), ('distinctive', 2), ('denominated', 3), ('quarto', 3), ('propor�', 2), ('bookbinder’s', 1), ('volume', 6), ('diminished', 4), ('preserve', 5), ('shape', 9), ('does.', 2), ('142', 1), ('recognized', 2), ('moderate', 2), ('size,', 3), ('varying', 4), ('twenty�ﬁve', 1), ('corresponding', 7), ('dimensions', 4), ('swims', 6), ('herds;', 1), ('hunted,', 2), ('quantity,', 2), ('light.', 6), ('approach', 3), ('premonitory', 1), ('(black', 1), ('fish).', 1), ('best.', 4), ('inexpressive,', 1), ('suggest', 1), ('fish,', 1), ('rule', 1), ('please.', 2), ('voracity', 2), ('angles', 1), ('mephistophelean', 1), ('averages', 3), ('length.', 6), ('latitudes.', 2), ('showing', 4), ('dorsal', 1), ('nose.', 6), ('proﬁtably', 1), ('employed,', 3), ('employment', 1), ('frugal', 1), ('housekeepers,', 1), ('unsavory', 3), ('wax.', 1), ('blubber', 17), ('thin,', 4), ('(narwhale),', 1), ('nostril', 2), ('peaked', 2), ('exceed', 6), ('ten,', 2), ('attain', 1), ('strictly', 7), ('lengthened', 1), ('tusk,', 1), ('grow�', 1), ('depressed', 1), ('horizontal.', 1), ('effect,', 5), ('anal�', 1), ('ogous', 1), ('clumsy', 8), ('left�handed', 1), ('answers,', 1), ('sword�ﬁsh', 4), ('bill�ﬁsh;', 1), ('employs', 1), ('rake', 2), ('food.', 2), ('ice�piercer;', 1), ('narwhale,', 3), ('sheeted', 3), ('thrusts', 3), ('breaks', 4), ('correct.', 1), ('one�sided', 1), ('narwhale', 3), ('folder', 1), ('pamphlets.', 1), ('tusked', 2), ('horned', 1), ('whale,and', 1), ('unicorn', 2), ('example', 7), ('143', 1), ('unicornism', 1), ('cloistered', 1), ('sea�unicorn’s', 1), ('antidote', 1), ('poison,', 1), ('prices.', 1), ('distilled', 1), ('volatile', 1), ('salts', 1), ('fainting', 2), ('ladies,', 3), ('deer', 2), ('manufactured', 2), ('hartshorn.', 1), ('martin', 2), ('frobisher', 1), ('bess', 1), ('gallantly', 1), ('greenwich', 1), ('palace,', 1), ('thames;', 1), ('voyage,”', 1), ('letter,', 3), ('bended', 3), ('highness', 2), ('windsor.”', 1), ('irish', 1), ('avers', 1), ('earl', 1), ('leicester,', 1), ('knees,', 1), ('picturesque,', 1), ('leopard�like', 1), ('milk�white', 4), ('dotted', 5), ('oblong', 2), ('spots', 3), ('black.', 2), ('superior,', 4), ('ﬁne;', 2), ('hunted.', 3), ('circumpolar', 1), ('(killer).', 1), ('professed', 1), ('distance,', 9), ('bigness', 3), ('grampus.', 1), ('feegee', 1), ('lip,', 4), ('leech,', 1), ('brute', 3), ('worried', 1), ('killer', 1), ('has.', 2), ('exception', 2), ('indistinctness.', 1), ('killers,', 1), ('bonapartes', 1), ('included.', 1), ('(', 1), ('octavo),', 1), ('(thrasher).', 1), ('gentleman', 9), ('ferule', 2), ('thrashing', 1), ('foes.', 2), ('mounts', 3), ('ﬂogging', 2), ('process.', 2), ('thrasher', 1), ('outlaws,', 1), ('lawless', 2), ('(duodecimo).', 1), ('duodecimoes.', 1), ('huzza', 4), ('por�', 2), ('poise.', 1), ('algerine', 1), ('mealy�mouthed', 1), ('shalled', 1), ('sense,', 1), ('conveys', 3), ('144', 1), ('hugeness.', 1), ('duodecimoes', 1), ('infal�', 1), ('libly', 1), ('i.e.', 3), ('(duodecimo),', 3), ('(huzza', 1), ('porpoise).', 3), ('porpoise', 5), ('bestowal;', 1), ('porpoises,', 4), ('distin�', 1), ('guish', 1), ('hilarious', 2), ('shoals,', 2), ('tossing', 12), ('caps', 3), ('fourth�of�july', 1), ('crowd.', 1), ('mariner.', 1), ('spirits,', 4), ('breezy', 1), ('windward.', 1), ('lads', 8), ('omen.', 1), ('beholding', 11), ('vivacious', 2), ('godly', 1), ('gamesomeness', 2), ('well�fed,', 1), ('plump', 3), ('gallon', 2), ('delicate', 6), ('ﬂuid', 4), ('request', 1), ('jewellers', 1), ('watchmakers.', 1), ('hones.', 1), ('eating,', 2), ('know.', 3), ('spouts.', 1), ('spout', 30), ('discernible.', 1), ('chance,', 5), ('miniature.', 2), ('(algerine', 1), ('pirate.', 1), ('savage.', 1), ('porpoise,', 3), ('provoke', 1), ('buckle', 1), ('shark.', 2), ('lowered', 17), ('captured.', 2), ('(mealy�mouthed', 1), ('porpoise;', 1), ('designated,', 1), ('ﬁshers', 3), ('right�whale', 2), ('folio.', 2), ('differs', 2), ('rotund', 1), ('girth;', 1), ('neat', 3), ('gentlemanlike', 2), ('ﬁns', 4), ('(most', 1), ('have),', 2), ('sentimental', 1), ('hue.', 2), ('mealy�mouth', 1), ('spoils', 1), ('sable,', 1), ('boundary', 1), ('hull,', 9), ('waist,”', 1), ('streaks', 1), ('stem', 3), ('colors,', 2), ('comprises', 3), ('145', 1), ('felonious', 1), ('meal�bag.', 1), ('mealy', 1), ('aspect!', 1), ('proceed,', 2), ('poise', 2), ('note.', 1), ('rabble', 1), ('fugitive,', 1), ('half�fabulous', 1), ('personally.', 2), ('enumerate', 1), ('appellations;', 1), ('investigators,', 1), ('begun.', 1), ('incorporated', 2), ('system,', 2), ('folio,', 1), ('mag�', 1), ('nitude:', 1), ('bottle�nose', 1), ('junk', 3), ('pudding�headed', 1), ('cannon', 4), ('scragg', 1), ('coppered', 1), ('quog', 1), ('&c.', 2), ('icelandic,', 1), ('dutch,', 1), ('authorities,', 3), ('quoted', 2), ('lists', 1), ('uncouth', 1), ('names.', 2), ('omit', 2), ('obsolete;', 2), ('suspecting', 1), ('leviathanism,', 1), ('signifying', 1), ('finally:', 1), ('perfected.', 1), ('word.', 7), ('cetological', 1), ('unﬁnished,', 1), ('cologne', 2), ('crane', 2), ('uncompleted', 1), ('tower.', 3), ('erections', 1), ('architects;', 1), ('copestone', 1), ('posterity.', 1), ('completing', 1), ('anything.', 1), ('draught.', 1), ('cash,', 1), ('patience!', 1), ('oncerning', 1), ('whale�craft,', 1), ('peculiarity', 6), ('ship�board,', 1), ('arising', 3), ('exis�', 1), ('tence', 1), ('class', 3), ('ofﬁcers,', 6), ('marine', 2), ('whale�ﬂeet.', 1), ('attached', 19), ('fishery,', 6), ('mand', 1), ('lodged', 8), ('specksynder.', 1), ('fat�cutter;', 1), ('equivalent', 1), ('pooneer.', 1), ('restricted', 3), ('navigation', 1), ('vessel:', 1), ('whale�hunting', 1), ('department', 2), ('concerns,', 1), ('reigned', 4), ('supreme.', 1), ('british', 3), ('corrupted', 1), ('title', 4), ('specksioneer,', 1), ('ofﬁcial', 5), ('retained,', 1), ('abridged.', 1), ('ranks', 2), ('senior', 1), ('harpooneer;', 2), ('subalterns.', 1), ('depends,', 1), ('fishery', 2), ('circumstances', 9), ('(night', 1), ('ground)', 1), ('political', 2), ('maxim', 1), ('demands,', 1), ('nominally', 3), ('superior;', 1), ('familiarly', 5), ('equal.', 1), ('whale�ships', 4), ('merchantmen', 2), ('alike,', 2), ('147', 1), ('meals', 3), ('communicating', 2), ('man),', 2), ('community', 1), ('prevailing', 1), ('whom,', 3), ('proﬁts,', 1), ('wages,', 1), ('luck,', 1), ('vigilance,', 2), ('intrepidity,', 1), ('rigorous', 1), ('discipline', 1), ('generally;', 1), ('mesopotamian', 1), ('instances,', 10), ('materially', 2), ('relaxed,', 3), ('away.', 10), ('skipper', 2), ('parading', 1), ('elated', 2), ('grandeur', 3), ('surpassed', 1), ('navy;', 1), ('extorting', 1), ('purple,', 1), ('shabbiest', 1), ('pilot�cloth.', 1), ('shallowest', 1), ('assumption;', 1), ('exacted,', 1), ('implicit,', 1), ('instantaneous', 4), ('obedience;', 1), ('remove', 5), ('shoes', 3), ('detailed,', 2), ('terms,', 2), ('condescension', 1), ('terrorem,', 1), ('otherwise;', 2), ('unobservant', 1), ('paramount', 2), ('usages', 2), ('perceived,', 2), ('usages,', 2), ('masked', 2), ('legitimately', 1), ('intended', 9), ('subserve.', 1), ('sultanism', 2), ('brain,', 8), ('gree', 1), ('unmanifested;', 1), ('incarnate', 3), ('irresistible', 3), ('dictatorship.', 1), ('intellectual', 4), ('superiority', 6), ('assume', 4), ('practical,', 1), ('supremacy', 3), ('aid', 1), ('entrenchments,', 1), ('paltry', 2), ('base.', 2), ('princes', 2), ('empire', 3), ('hustings;', 1), ('hon�', 1), ('ors', 1), ('give,', 1), ('inﬁnite', 7), ('inferiority', 1), ('inert,', 2), ('undoubted', 2), ('mass.', 2), ('148', 1), ('lurks', 8), ('idiot', 3), ('imbecility', 1), ('imparted', 2), ('potency.', 1), ('nicholas', 1), ('ringed', 4), ('geographical', 1), ('pire', 1), ('encircles', 1), ('plebeian', 1), ('crouch', 1), ('abased', 1), ('centralization.', 1), ('dramatist', 1), ('depict', 1), ('indomitableness', 1), ('swing,', 1), ('hint,', 4), ('art,', 2), ('moves', 4), ('shagginess;', 1), ('episode', 1), ('kings,', 1), ('majestical', 1), ('housings', 3), ('denied', 3), ('ahab!', 5), ('plucked', 2), ('skies,', 3), ('featured', 1), ('unbodied', 1), ('noon;', 5), ('thrusting', 9), ('loaf�of�bread', 1), ('cabin�scuttle,', 2), ('announces', 1), ('dinner', 5), ('master;', 1), ('quarter�boat,', 2), ('observation', 4), ('mutely', 2), ('reckoning', 5), ('smooth,', 3), ('medallion�shaped', 1), ('tablet,', 1), ('reserved', 8), ('daily', 7), ('inattention', 1), ('tidings,', 1), ('menial.', 1), ('swings', 7), ('even,', 4), ('unexhilarated', 1), ('“dinner,', 3), ('starbuck,”', 3), ('disappears', 1), ('echo', 2), ('sultan’s', 1), ('emir,', 2), ('seated,', 1), ('rouses', 1), ('quietude,takes', 1), ('bin�', 2), ('nacle,', 2), ('pleasantness,', 1), ('scuttle.', 1), ('emir', 1), ('lounges', 1), ('awhile,', 4), ('brace,', 1), ('burden,', 1), ('flask,”', 2), ('follows', 2), ('predecessors.', 1), ('restraint;', 1), ('tipping', 1), ('winks', 1), ('strikes', 5), ('hornpipe', 1), ('turk’s', 1), ('dexterous', 5), ('sleight,', 1), ('pitching', 5), ('cap', 4), ('mizen�top', 1), ('rollicking,', 1), ('reversing', 1), ('processions,', 1), ('music.', 2), ('doorway', 1), ('pauses,', 1), ('altogether,', 3), ('independent,', 1), ('150', 2), ('enters', 4), ('abjectus,', 1), ('slave.', 2), ('artiﬁcialness', 1), ('sea�usages,', 1), ('provo�', 1), ('cation,', 1), ('defyingly', 2), ('commander;', 2), ('custom�', 1), ('ary', 1), ('commander’s', 3), ('straightway', 11), ('inoffensive,', 1), ('deprecatory', 1), ('humble', 2), ('sits', 4), ('ble;', 1), ('difference?', 1), ('problem?', 1), ('belshazzar,', 2), ('babylon;', 1), ('haughtily', 1), ('courteously,', 1), ('therein', 3), ('mundane', 3), ('grandeur.', 2), ('intelligent', 6), ('presides', 1), ('dinner�table', 1), ('guests,', 1), ('challenged', 1), ('dominion', 2), ('transcends', 1), ('belshazzar’s,', 1), ('belshazzar', 1), ('greatest.', 1), ('dined', 4), ('tasted', 3), ('caesar.', 2), ('witchery', 1), ('czarship', 1), ('withstanding.', 1), ('superadd', 1), ('ship�master,', 1), ('inference,', 2), ('derive', 6), ('sea�life', 1), ('ivory�inlaid', 1), ('mute,', 2), ('maned', 1), ('sea�lion', 1), ('war�like', 1), ('deferential', 1), ('cubs.', 1), ('turn,', 3), ('waited', 1), ('served.', 1), ('children', 6), ('lurk', 7), ('ar�', 2), ('rogance.', 1), ('knife,', 3), ('profaned', 1), ('observation,', 1), ('neutral', 2), ('topic', 1), ('weather.', 1), ('knife', 10), ('fork,', 1), ('slice', 1), ('locked,', 1), ('alms;', 1), ('tenderly;', 1), ('perchance,', 2), ('grazed', 3), ('plate;', 1), ('noiselessly;', 1), ('circumspection.', 1), ('frankfort,', 1), ('german', 11), ('emperor', 3), ('profoundly', 3), ('dines', 1), ('electors,', 1), ('meals,', 2), ('silence;', 1), ('forbade', 4), ('conversation;', 1), ('dumb.', 1), ('relief', 2), ('choking', 3), ('rat', 2), ('racket', 1), ('youngest', 1), ('son,', 4), ('party.', 2), ('shinbones', 1), ('saline', 1), ('beef;', 2), ('drumsticks.', 1), ('presumed', 7), ('151', 1), ('tantamount', 2), ('larceny', 1), ('chances', 7), ('butter.', 4), ('clotting', 1), ('complexion;', 1), ('marketless', 1), ('premium,', 1), ('subaltern;', 1), ('butterless', 1), ('consider!', 2), ('flask’s', 7), ('jammed', 3), ('lounging', 5), ('rear.', 2), ('peg', 1), ('appetite,', 1), ('mouthfuls', 2), ('there�', 1), ('admitted', 4), ('private,', 1), ('ofﬁcer,', 1), ('hungry,', 1), ('less.', 1), ('ate', 3), ('relieve', 3), ('hunger,', 1), ('satisfaction,', 1), ('stomach.', 2), ('ﬁst', 1), ('fruits', 1), ('promotion', 1), ('vanity', 2), ('glory:', 1), ('insanity', 5), ('life!', 6), ('grudge', 2), ('capacity,', 1), ('obtain', 3), ('ample', 3), ('vengeance,', 3), ('dinner�time,', 1), ('sky�light,sitting', 1), ('dumfoundered', 1), ('departure,', 1), ('inverted', 3), ('cleared,', 1), ('restored', 1), ('pallid', 4), ('steward.', 2), ('feast,', 1), ('residuary', 1), ('legatees.', 1), ('servants’', 1), ('hall', 3), ('contrast', 6), ('constraint', 1), ('domineerings', 1), ('care�free', 2), ('license', 2), ('ease,', 2), ('masters,', 2), ('hinges', 2), ('jaws,', 7), ('relish', 4), ('152', 1), ('lords;', 1), ('bellies', 7), ('spices.', 1), ('ﬁll', 14), ('vacancies', 2), ('salt�junk,', 1), ('seemingly', 8), ('quarried', 2), ('ox.', 1), ('nimble', 2), ('hop�skip�and�jump,', 1), ('ungentlemanly', 1), ('accelerating', 2), ('fork', 2), ('harpoon�wise.', 1), ('humor,', 3), ('assisted', 2), ('dough�boy’s', 2), ('trencher,', 1), ('preliminary', 6), ('scalping', 1), ('bread�faced', 1), ('steward;', 1), ('progeny', 2), ('bankrupt', 3), ('baker', 1), ('hospital', 1), ('nurse.', 1), ('terriﬁc', 8), ('periodical', 4), ('tumultuous', 8), ('visitations', 1), ('savages,', 4), ('lip�quiver.', 1), ('commonly,', 1), ('demanded,', 3), ('clutches', 1), ('pantry', 1), ('adjoining,', 1), ('fearfully', 1), ('blinds', 8), ('opposing', 5), ('indian’s:', 1), ('crosswise', 4), ('hearse�plumed', 2), ('carlines;', 1), ('colossal', 6), ('framework', 1), ('shake,', 1), ('african', 3), ('wonderfully', 2), ('abstemious,', 1), ('dainty.', 1), ('comparatively', 7), ('diffused', 3), ('broad,', 6), ('baronial,', 1), ('superb', 2), ('fed', 4), ('drank', 2), ('dilated', 2), ('giants', 2), ('nourished.', 1), ('mortal,', 1), ('smack', 1), ('lip', 1), ('ugly', 3), ('trembling', 5), ('produce', 5), ('picked,', 1), ('simple�witted', 1), ('shattered', 5), ('crockery', 1), ('pantry,', 1), ('ﬁts', 5), ('palsy.', 1), ('whetstones', 1), ('weapons;', 1), ('whetstones,', 1), ('ostentatiously', 4), ('sharpen', 2), ('knives;', 1), ('tranquillize', 2), ('dough�boy.', 1), ('murderous,', 1), ('indiscretions.', 1), ('153', 1), ('dough�boy!', 1), ('fares', 1), ('waiter', 1), ('waits', 2), ('cannibals.', 1), ('napkin', 1), ('buckler.', 1), ('warriors', 2), ('depart;', 1), ('credulous,', 1), ('fable�', 1), ('mongering', 1), ('jingling', 2), ('moorish', 1), ('scimetars', 1), ('scabbards.', 1), ('barbarians', 1), ('sedentary', 1), ('habits,', 2), ('meal�times,', 1), ('sleeping�time,', 1), ('quarters.', 1), ('tains,', 1), ('rights', 3), ('courtesy', 2), ('street�door', 1), ('inwards', 2), ('next;', 1), ('residing', 1), ('lose', 7), ('hereby;', 1), ('companion�', 1), ('socially,', 1), ('inaccessible.', 1), ('grisly', 1), ('missouri.', 1), ('logan', 1), ('woods,', 3), ('sucking', 6), ('paws;', 1), ('inclement,', 1), ('age,ahab’s', 1), ('caved', 1), ('paws', 1), ('gloom!', 1), ('due', 5), ('rotation', 2), ('mast�heads', 16), ('simultane�', 2), ('vessel’s', 6), ('thou�', 3), ('miles,', 6), ('ground.', 3), ('three,', 4), ('four,', 3), ('vial', 3), ('sail�poles', 1), ('spires', 4), ('relinquish', 3), ('capturing', 1), ('interesting', 7), ('expatiate', 2), ('standers', 3), ('egyptians;', 1), ('researches,', 1), ('prior', 7), ('progenitors,', 1), ('builders', 2), ('babel,', 1), ('tower,', 5), ('asia,', 2), ('africa', 2), ('either;', 1), ('(ere', 1), ('truck', 3), ('it)', 4), ('theirs', 3), ('wrath;', 1), ('babel', 1), ('egyptians.', 1), ('nation', 4), ('standers,', 1), ('assertion', 2), ('belief', 3), ('archaeologists,', 1), ('pyramids', 2), ('astronomical', 1), ('purposes:', 1), ('supported', 2), ('stair�', 1), ('formation', 3), ('ediﬁces;', 1), ('whereby,', 3), ('upliftings', 1), ('astronomers', 1), ('mount', 9), ('apex,', 1), ('stars;', 2), ('saint', 2), ('stylites,', 1), ('pillar', 1), ('desert', 5), ('155', 1), ('summit,', 4), ('tackle;', 1), ('dauntless', 1), ('stander�of�', 1), ('mast�heads;', 3), ('driven', 7), ('fogs', 1), ('frosts,', 1), ('rain,', 1), ('hail,', 6), ('sleet;', 1), ('valiantly', 2), ('facing', 5), ('post.', 2), ('standers�of�mast�heads', 1), ('set;', 2), ('bronze', 1), ('incompetent', 2), ('discovering', 1), ('napoleon;', 1), ('column', 3), ('vendome,', 1), ('folded,', 1), ('philippe,', 1), ('blanc,', 1), ('devil.', 2), ('washington,', 3), ('main�mast', 8), ('baltimore,', 1), ('hercules’', 1), ('pillars,', 1), ('admiral', 2), ('nelson,', 2), ('capstan', 3), ('gun�', 1), ('metal,', 2), ('trafalgar', 1), ('square;', 1), ('obscured', 3), ('napoleon,', 1), ('hail', 9), ('madly', 4), ('befriend', 2), ('counsels', 1), ('distracted', 3), ('gaze;', 2), ('surmised,', 1), ('spirits', 4), ('haze', 1), ('future,', 4), ('descry', 1), ('shunned.', 1), ('item', 4), ('macy,', 1), ('sole', 8), ('historian', 2), ('account�', 1), ('able.', 1), ('game,', 6), ('spars', 7), ('sea�coast,', 4), ('cleats,', 1), ('fowls', 6), ('upstairs', 1), ('hen�house.', 1), ('adopted', 1), ('zealand,', 2), ('descrying', 2), ('ready�manned', 1), ('beach.', 2), ('sun�rise', 2), ('sun�set;', 1), ('helm),', 1), ('relieving', 1), ('hours.', 1), ('tropics', 1), ('mast�head;', 2), ('meditative', 1), ('manit', 1), ('delightful.', 1), ('stand,', 6), ('stilts,', 1), ('colossus', 1), ('rhodes.', 1), ('se�', 1), ('156', 1), ('ries', 1), ('rufﬂed', 1), ('waves.', 3), ('tranced', 2), ('indolently', 2), ('rolls;', 1), ('drowsy', 1), ('trade', 3), ('blow;', 1), ('languor.', 1), ('uneventfulness', 1), ('invests', 5), ('news;', 3), ('gazettes;', 1), ('extras', 1), ('delude', 1), ('excitements;', 1), ('afﬂic�', 1), ('tions;', 1), ('securities;', 2), ('stocks;', 1), ('stowed', 3), ('casks,', 4), ('immutable.', 1), ('happens,', 3), ('months.', 1), ('deplored', 2), ('devote', 1), ('destitute', 2), ('cosy', 4), ('inhabitiveness,', 1), ('breed', 3), ('localness', 1), ('feeling,', 4), ('pertains', 1), ('hearse,', 1), ('sentry', 1), ('box,', 1), ('coach,', 1), ('contrivances', 4), ('isolate', 1), ('themselves.', 4), ('perch', 3), ('t’', 3), ('gallant�mast,', 1), ('thin', 13), ('sticks', 2), ('(almost', 1), ('whalemen)', 1), ('cross�', 1), ('trees.', 1), ('beginner', 1), ('bull’s', 2), ('horns.', 1), ('coolish', 1), ('watch�coat;', 1), ('thickest', 4), ('watch�coat', 2), ('unclad', 1), ('glued', 2), ('ﬂeshly', 1), ('tabernacle,', 1), ('(like', 4), ('pilgrim', 1), ('alps', 1), ('winter);', 1), ('envelope,', 2), ('additional', 11), ('encasing', 1), ('drawers', 3), ('watch�coat.', 1), ('south�', 1), ('ern', 1), ('unprovided', 3), ('enviable', 1), ('tents', 2), ('crow’s�nests,', 1), ('protected', 1), ('inclement', 1), ('ﬁre�side', 1), ('oyage', 3), ('icebergs,', 1), ('re�discovery', 1), ('icelandic', 1), ('colonies', 2), ('green�', 2), ('land;”', 1), ('admirable', 5), ('charmingly', 1), ('circumstantial', 2), ('invented', 2), ('crow’s�nestof', 1), ('glacier,', 1), ('sleet’s', 3), ('crow’s�nest,', 2), ('inventor', 1), ('patentee,and', 1), ('157', 1), ('dren', 1), ('(we', 1), ('fathers', 2), ('inventors', 1), ('patentees),', 1), ('denominate', 1), ('apparatus', 1), ('beget.', 1), ('crow’s�nest', 1), ('tierce', 3), ('pipe;', 1), ('side�screen', 1), ('summit', 6), ('ascend', 1), ('trap�hatch', 1), ('seat,', 6), ('locker', 3), ('umbrellas,', 1), ('coats.', 1), ('leather', 5), ('trumpet,', 2), ('telescope,', 1), ('nautical', 4), ('conveniences.', 1), ('nest', 5), ('riﬂe', 3), ('(also', 1), ('rack),', 1), ('powder', 4), ('ﬂask', 3), ('shot,', 2), ('popping', 1), ('stray', 2), ('narwhales,', 1), ('vagrant', 1), ('uni�', 2), ('corns', 1), ('infesting', 1), ('successfully', 4), ('shoot', 4), ('resistance', 4), ('labor', 1), ('describe,', 1), ('does,', 6), ('detailed', 2), ('conveniences', 1), ('crow’s�nest;', 1), ('enlarges', 1), ('treats', 3), ('experiments', 1), ('compass', 6), ('counter�acting', 1), ('errors', 1), ('“local', 1), ('attrac�', 1), ('tion”', 1), ('magnets;', 1), ('error', 1), ('ascribable', 1), ('glacier’s', 1), ('case,', 14), ('broken�down', 1), ('blacksmiths', 2), ('discreet', 1), ('“binnacle', 1), ('deviations,”', 1), ('“azimuth', 1), ('observations,”', 1), ('“approximate', 1), ('errors,”', 1), ('immersed', 2), ('meditations,', 1), ('occasionally', 11), ('case�bottle,', 2), ('nest,', 1), ('hand.', 7), ('brave,', 3), ('honest,', 3), ('ignore', 1), ('comforter', 1), ('been,', 8), ('mittened', 1), ('mathematics', 1), ('perches', 2), ('pole.', 4), ('whale�ﬁshers', 1), ('housed', 1), ('greenland�men', 1), ('disadvantage', 1), ('counterbal�', 1), ('anced', 2), ('widely', 5), ('serenity', 3), ('seductive', 2), ('ﬂoat.', 1), ('lounge', 1), ('leisurely,', 1), ('158', 1), ('further,', 7), ('yard,', 3), ('pastures,', 2), ('destination.', 2), ('breast', 3), ('frankly', 3), ('admit', 6), ('guard.', 1), ('problem', 5), ('revolving', 8), ('thought�engendering', 1), ('altitude,', 1), ('lightly', 6), ('obligations', 1), ('whale�ships’', 1), ('orders,', 4), ('“keep', 1), ('time.”', 1), ('movingly', 1), ('admonish', 1), ('ship�owners', 1), ('nan�', 3), ('tucket!', 1), ('enlisting', 1), ('vigilant', 3), ('ﬁsheries', 3), ('unseasonable', 2), ('meditativeness;', 1), ('offers', 3), ('phaedon', 1), ('bowditch', 2), ('killed;', 1), ('sunken�eyed', 1), ('pla�', 1), ('tonist', 1), ('wakes', 5), ('pint', 2), ('richer.', 1), ('monitions', 1), ('unneeded.', 1), ('nowadays,', 1), ('whale�ﬁshery', 2), ('furnishes', 3), ('asylum', 1), ('romantic,', 1), ('melancholy,', 2), ('disgusted', 1), ('carking', 1), ('cares', 2), ('sen�', 1), ('timent', 1), ('blubber.', 3), ('childe', 1), ('harold', 1), ('unfrequently', 3), ('luckless', 3), ('phrase', 4), ('ejaculates:—', 1), ('“roll', 1), ('roll!', 1), ('blubber�', 1), ('vain.”', 1), ('absent�minded', 2), ('philosophers', 2), ('task,', 1), ('upbraiding', 1), ('sufﬁcient', 5), ('“interest”', 1), ('half�hinting', 1), ('platonists', 1), ('vision', 5), ('imperfect;', 1), ('short�sighted;', 1), ('use,', 3), ('visual', 4), ('nerve?', 1), ('opera�glasses', 1), ('monkey,”', 1), ('“we’ve', 1), ('yet.', 8), ('ashen’s', 1), ('horizon;', 2), ('lulled', 1), ('opium�like', 1), ('listlessness', 1), ('vacant,', 1), ('reverie', 1), ('blending', 5), ('cadence', 2), ('loses', 4), ('identity;', 1), ('deep,blue,', 1), ('pervading', 4), ('nature;', 1), ('half�seen,', 1), ('glid�', 1), ('dimly�discovered,', 1), ('uprising', 4), ('undiscernible', 2), ('elusive', 3), ('ﬂitting', 6), ('enchanted', 11), ('mood,', 2), ('159', 1), ('ebbs', 1), ('came;', 3), ('space;', 1), ('wickliff’s', 1), ('sprinkled', 4), ('pantheistic', 2), ('ashes,', 1), ('rocking', 7), ('inscrutable', 7), ('tides', 5), ('sleep,', 6), ('dream', 5), ('slip', 2), ('horror.', 1), ('descartian', 1), ('vortices', 1), ('hover.', 1), ('mid�day,', 1), ('fairest', 1), ('half�throttled', 1), ('shriek', 2), ('transparent', 4), ('pantheists!', 1), ('(enter', 1), ('ahab:', 1), ('all.)', 1), ('ahab,as', 1), ('wont,', 1), ('cabin�gangway', 1), ('gentlemen,', 26), ('meal,', 1), ('garden.', 1), ('steady,', 7), ('stride', 1), ('rounds,', 1), ('tread,', 1), ('dented,', 1), ('geological', 5), ('stones,', 1), ('walk.', 1), ('ﬁxedly', 4), ('gaze,', 2), ('brow;', 2), ('foot�prints', 2), ('unsleeping,', 1), ('ever�pacing', 1), ('dents', 4), ('deeper,', 2), ('uniform', 3), ('binnacle,', 5), ('turned,', 6), ('paced;', 1), ('mould', 4), ('movement.', 1), ('“d’ye', 3), ('whispered', 9), ('chick', 1), ('pecks', 3), ('shell.', 1), ('t’will', 1), ('out.”', 4), ('cabin;', 3), ('bigotry', 1), ('aspect.', 5), ('halt', 1), ('inserting', 4), ('auger�hole', 1), ('“sir!”', 1), ('161', 1), ('“send', 1), ('aft,”', 1), ('“mast�heads,', 1), ('down!”', 2), ('assembled,', 1), ('unapprehensive', 1), ('faces,', 3), ('stand�point;', 1), ('half�slouched', 1), ('pace,', 2), ('unmindful', 3), ('whispering', 3), ('cautiously', 2), ('feat.', 1), ('vehemently', 3), ('pausing,', 2), ('cried:—', 1), ('him!”was', 1), ('impulsive', 1), ('rejoinder', 1), ('clubbed', 2), ('voices.', 1), ('“good!”', 1), ('approval', 1), ('tones;', 1), ('animation', 1), ('unexpected', 2), ('magnetically', 1), ('next,', 2), ('“lower', 5), ('tune', 2), ('pull', 23), ('boat!”', 3), ('ﬁercely', 4), ('glad', 8), ('approving,', 1), ('counte�', 1), ('nance', 1), ('shout;', 2), ('marvelling', 1), ('purposeless', 1), ('questions.', 1), ('half�revolving', 1), ('tightly,almost', 1), ('thus:', 1), ('mast�headers', 1), ('gold?”', 1), ('dollar', 2), ('piece,', 1), ('doubloon.', 1), ('top�maul.”', 1), ('hammer,', 3), ('rubbing', 3), ('skirts', 3), ('heighten', 2), ('lustre,', 2), ('produc�', 1), ('inarticulate', 1), ('mechanical', 4), ('wheels', 3), ('top�maul', 2), ('exclaiming:', 1), ('“whosoever', 1), ('raises', 6), ('white�headed', 2), ('whosoever', 3), ('162', 1), ('holes', 2), ('punctured', 1), ('ﬂuke', 3), ('ounce,', 1), ('boys!”', 1), ('“huzza!', 1), ('huzza!”', 1), ('tarpaulins', 3), ('nailing', 2), ('top�maul;', 1), ('bubble,', 1), ('separately', 7), ('speciﬁc', 8), ('recollection.', 1), ('ahab,”', 5), ('dick.”', 3), ('“moby', 1), ('dick?”', 3), ('tash?”', 1), ('“does', 1), ('fan�tail', 1), ('down?”', 1), ('gay�', 1), ('header', 1), ('deliberately.', 1), ('too,”', 1), ('bushy,', 1), ('par�', 2), ('macetty,', 1), ('quick,', 9), ('hide,', 1), ('captain,”', 1), ('disjointedly,', 1), ('twiske�tee', 1), ('be�twisk,', 1), ('falter�', 1), ('screwing', 3), ('uncorking', 1), ('bottle', 4), ('“corkscrew!”', 1), ('wrenched', 6), ('wheat,', 1), ('wool', 1), ('annual', 3), ('sheep�shearing;', 1), ('fan�tails', 1), ('jib', 2), ('squall.', 3), ('devils!', 1), ('dick!”', 4), ('increasing', 4), ('explained', 3), ('wonder.', 1), ('leg?”', 1), ('aye,my', 1), ('hearties', 1), ('round;', 7), ('loud,', 1), ('sob,', 1), ('heart�stricken', 1), ('moose;', 1), ('aye!', 10), ('razeed', 1), ('pegging', 1), ('lubber', 2), ('day!”', 1), ('measureless', 8), ('imprecations', 1), ('out:', 2), ('163', 1), ('hope,', 3), ('norway', 1), ('maelstrom,', 3), ('perdition’s', 1), ('ﬂames', 7), ('men!', 6), ('brave.”', 1), ('aye!”', 2), ('closer', 6), ('man:', 1), ('sob', 2), ('shout.', 1), ('steward!', 1), ('grog.', 1), ('whale?', 11), ('follow;', 1), ('hunt', 14), ('vengeance', 4), ('market.”', 1), ('market!', 1), ('hoot!', 1), ('closer,', 2), ('requirest', 1), ('lit�', 1), ('tle', 2), ('layer.', 2), ('money’s', 1), ('measurer,', 1), ('accountants', 1), ('computed', 1), ('counting�house', 1), ('girdling', 2), ('guineas,', 1), ('inch;', 3), ('premium', 1), ('here!”', 3), ('smites', 1), ('chest,”', 1), ('for?', 1), ('vast,', 5), ('hollow.”', 1), ('“vengeance', 1), ('dumb', 8), ('brute!”', 2), ('smote', 5), ('blindest', 1), ('instinct!', 1), ('madness!', 1), ('blasphemous.”', 1), ('“hark', 1), ('objects,', 5), ('pasteboard', 1), ('masks.', 1), ('event', 8), ('act,', 2), ('deed', 4), ('reasoning', 2), ('mouldings', 2), ('unreasoning', 3), ('mask.', 1), ('strike,', 3), ('mask!', 1), ('prisoner', 2), ('wall?', 1), ('shoved', 2), ('beyond.', 2), ('tasks', 1), ('heaps', 3), ('outrageous', 3), ('sinewing', 1), ('hate;', 1), ('agent,', 3), ('principal,i', 1), ('wreak', 1), ('hate', 7), ('blasphemy,', 1), ('i’d', 12), ('insulted', 3), ('herein,', 1), ('jealousy', 1), ('presiding', 2), ('creations.', 1), ('master,', 7), ('play.', 7), ('me?truth', 1), ('164', 1), ('conﬁnes.', 1), ('eye!', 3), ('ﬁends’', 1), ('glarings', 1), ('doltish', 1), ('stare!', 1), ('reddenest', 1), ('palest;', 1), ('anger�glow.', 1), ('heat,', 2), ('unsays', 1), ('indignity.', 1), ('incense', 1), ('turkish', 5), ('spotted', 2), ('tawn', 1), ('breathing', 4), ('sun.', 5), ('leopards', 1), ('unrecking', 1), ('unworshipping', 1), ('live;', 1), ('seek,', 1), ('feel!', 1), ('crew!', 2), ('stubb!', 3), ('laughs!', 1), ('chilian!', 1), ('snorts', 1), ('hurricane,', 1), ('teste', 1), ('sapling', 1), ('starbuck!', 7), ('ﬁn;', 2), ('starbuck.', 11), ('more?', 3), ('foremast�hand', 1), ('clutched', 3), ('whetstone?', 1), ('constrainings', 1), ('seize', 8), ('see!', 11), ('lifts', 2), ('thee!', 9), ('speak!', 3), ('silence,', 6), ('(aside)', 2), ('nostrils,', 1), ('inhaled', 2), ('lungs.', 1), ('oppose', 2), ('rebellion.”', 1), ('all!”', 5), ('lowly.', 1), ('enchanted,', 1), ('acquiescence', 1), ('invocation;', 1), ('hold;', 3), ('presaging', 1), ('vibrations', 1), ('cordage;', 1), ('ﬂap', 2), ('masts,', 3), ('in.for', 1), ('downcast', 2), ('stubbornness', 1), ('subterranean', 6), ('away;', 7), ('admonitions', 1), ('warnings!', 1), ('predictions', 2), ('warnings,', 1), ('shadows!', 1), ('without,', 2), ('veriﬁcations', 1), ('foregoing', 2), ('ex�', 7), ('ternal', 1), ('constrain', 1), ('innermost', 7), ('necessities', 2), ('measure!', 1), ('measure!”', 1), ('brimming', 3), ('pewter,', 1), ('capstan,', 5), ('lances,', 6), ('group;', 1), ('searchingly', 1), ('bloodshot', 2), ('wolves', 1), ('leader,', 2), ('bison;', 1), ('snare', 1), ('indian.', 3), ('165', 1), ('“drink', 1), ('pass!”', 1), ('handing', 3), ('charged', 2), ('ﬂagon', 1), ('seaman.', 1), ('drink.', 2), ('round!', 1), ('draughts', 2), ('swallows,', 1), ('satan’s', 1), ('hoof.', 1), ('excellently.', 1), ('spiralizes', 1), ('forks', 2), ('serpent�snapping', 1), ('drained.', 1), ('comes.', 2), ('hollow!', 1), ('years;', 2), ('gulped', 1), ('gone.', 5), ('reﬁll!', 1), ('“attend', 1), ('braves.', 1), ('mustered', 1), ('capstan;', 2), ('lances;', 2), ('harpooneers,stand', 1), ('irons;', 1), ('ring', 6), ('revive', 2), ('ﬁsherman', 3), ('back?', 1), ('pennies', 1), ('pewter', 3), ('wert', 5), ('st.', 24), ('vitus’', 1), ('imp', 1), ('ague!', 1), ('“advance,', 1), ('mates!', 1), ('done!', 4), ('axis.”', 1), ('level,', 3), ('centre;', 1), ('volition,', 3), ('shocked', 1), ('emotion', 2), ('accumulated', 3), ('leyden', 3), ('quailed', 1), ('strong,', 9), ('sustained,', 1), ('downright.', 1), ('“but,', 2), ('maybe,', 1), ('full�forced', 1), ('shock,', 4), ('electric', 1), ('thing,that', 1), ('expired', 1), ('dead.', 3), ('lances!', 1), ('appoint', 1), ('cup�bearers', 1), ('kinsmen', 1), ('gentlemen', 6), ('noblemen,', 1), ('valiant', 9), ('disdain', 2), ('task?', 1), ('pope', 2), ('washes', 2), ('beggars,', 1), ('tiara', 1), ('ewer?', 1), ('cardinals!', 1), ('condescension,', 1), ('seizings', 1), ('poles,', 4), ('harpooneers!”', 1), ('held,', 3), ('barbs', 8), ('“stab', 1), ('steel!', 1), ('over!', 1), ('goblet', 1), ('end?', 1), ('socket!', 1), ('cup�bearers,', 1), ('advance.', 1), ('irons!', 2), ('ﬁll!”', 1), ('forthwith,', 1), ('brimmed', 1), ('sockets', 2), ('pewter.', 1), ('stand.', 2), ('commend', 1), ('murderous', 9), ('chalices!', 1), ('bestow', 2), ('parties', 3), ('indissoluble', 1), ('league.', 1), ('166', 1), ('ratifying', 1), ('drink,', 3), ('pooneers!', 1), ('deathful', 1), ('whaleboat’s', 1), ('dick!', 2), ('death!”', 1), ('lifted;', 1), ('maledictions', 1), ('simultaneously', 9), ('quaffed', 1), ('hiss.', 1), ('buck', 2), ('paled,', 1), ('shivered.', 1), ('dispersed;', 1), ('windows;', 1), ('out.)', 1), ('turbid', 2), ('wake;', 4), ('paler', 1), ('cheeks,', 2), ('where’er', 1), ('envious', 1), ('sidelong', 5), ('swell', 6), ('whelm', 1), ('track;', 1), ('pass.', 1), ('ever�brimming', 1), ('goblet’s', 1), ('rim,', 1), ('blush', 1), ('plumbs', 1), ('diver', 3), ('slow', 7), ('up!', 5), ('wearies', 1), ('hill.', 3), ('wear?', 1), ('lombardy.', 1), ('gem;', 1), ('wearer,', 1), ('ﬂashings;', 1), ('darkly', 3), ('dazzlingly', 2), ('confounds.', 1), ('split,', 1), ('feel;', 1), ('jagged', 2), ('edge', 7), ('galls', 1), ('metal;', 1), ('skull,', 8), ('brain�battering', 1), ('ﬁght!', 1), ('brow?', 2), ('nobly', 2), ('spurred', 1), ('soothed.', 1), ('loveliness', 1), ('ne’er', 3), ('enjoy.', 1), ('perception,', 1), ('power;', 7), ('damned,', 1), ('subtly', 1), ('malignantly!', 1), ('damned', 3), ('paradise!', 1), ('night!', 1), ('(waving', 1), ('window.)', 1), ('stubborn,', 2), ('least;', 3), ('cogged', 1), ('wheels,', 1), ('revolve.', 2), ('ant�hills', 1), ('powder,', 2), ('match.', 1), ('hard!', 2), ('wasting!', 1), ('dared,', 1), ('willed;', 1), ('willed,', 1), ('do!', 2), ('mad', 17), ('does;', 1), ('demoniac,', 1), ('madness', 8), ('maddened!', 1), ('168', 1), ('itself!', 1), ('prophecy', 2), ('dismembered;', 1), ('prophesy', 1), ('dismember', 1), ('dismemberer.', 1), ('fulﬁller', 1), ('gods,', 3), ('hoot', 1), ('cricket�players,', 1), ('pugilists,', 1), ('deaf', 3), ('burkes', 1), ('blinded', 2), ('bendigoes!', 1), ('schoolboys', 1), ('bullies,', 1), ('size;', 1), ('pommel', 1), ('hidden.', 1), ('cotton', 3), ('bags!', 1), ('swerve', 6), ('yourselves!', 3), ('rails,', 1), ('whereon', 4), ('grooved', 1), ('run.', 2), ('unsounded', 4), ('gorges,', 2), ('riﬂed', 1), ('mountains,', 2), ('torrents’', 1), ('unerringly', 3), ('rush!', 1), ('naught’s', 2), ('obstacle,', 1), ('way!', 3), ('m', 1), ('y', 1), ('matched;', 1), ('overmanned;', 1), ('madman!', 1), ('insuf�', 1), ('ferable', 1), ('sting,', 1), ('sanity', 1), ('ﬁeld!', 1), ('drilled', 1), ('end;', 5), ('nill', 1), ('tows', 3), ('cut.', 1), ('horrible', 13), ('cries;', 1), ('democrat', 1), ('above;', 1), ('below!', 2), ('ofﬁce,', 2), ('obey,', 1), ('rebelling;', 1), ('yet,to', 1), ('pity!', 1), ('lurid', 1), ('shrivel', 1), ('ﬂow', 5), ('wide.', 1), ('hated', 6), ('gold�ﬁsh', 1), ('glassy', 4), ('heaven�insulting', 1), ('wedge', 2), ('aside.', 2), ('lead.', 1), ('clock’s', 1), ('all�controlling', 1), ('weight,', 4), ('forecastle.)', 1), ('heathen', 2), ('mothers', 4), ('them!', 5), ('whelped', 1), ('sharkish', 2), ('demogorgon.', 1), ('orgies!', 1), ('forward!', 3), ('unfaltering', 2), ('aft!', 1), ('sparkling', 8), ('shoots', 2), ('gay,', 1), ('embattled,', 1), ('bantering', 1), ('sternward', 1), ('builded', 2), ('wake,', 12), ('on,hunted', 1), ('gurglings.', 1), ('howl', 3), ('thrills', 1), ('through!', 2), ('peace!', 1), ('revellers,', 1), ('feed', 3), ('horror', 7), ('170', 1), ('horror’s', 1), ('ﬁght', 10), ('grim,', 1), ('futures!', 1), ('inﬂuences!', 1), ('fore�top(stubb', 1), ('solus,', 1), ('brace.)', 1), ('h', 9), ('a!', 1), ('hem!', 2), ('throat!', 1), ('ha’s', 1), ('consequence.', 1), ('so?', 5), ('laugh’s', 1), ('wisest,', 1), ('comfort’s', 1), ('unfailing', 1), ('comfort', 2), ('predestinated.', 1), ('felt.', 2), ('mogul', 2), ('twigged', 1), ('gift,', 2), ('prophesied', 1), ('skull', 14), ('stubb?', 1), ('carcase.', 1), ('coming,', 1), ('laughing.', 1), ('leering', 2), ('horribles!', 1), ('funny.', 1), ('fa,', 2), ('lirra,', 2), ('skirra!', 2), ('crying', 3), ('out?', 2), ('frigate’s', 3), ('pennant,', 1), ('ﬂeeting', 2), ('bubbles', 8), ('swim,', 3), ('beaker’s', 1), ('meeting.', 2), ('calls?', 1), ('starbuck?', 2), ('mistaken.', 1), ('(foresail', 1), ('discovers', 1), ('standing,', 5), ('lounging,', 1), ('leaning,', 2), ('attitudes,', 3), ('chorus.)', 1), ('arewell', 1), ('adieu', 2), ('ladies', 4), ('spain!', 1), ('1st', 1), ('sailor.', 33), ('boys,', 15), ('sentimental;', 1), ('digestion!', 1), ('tonic,', 1), ('(sings,', 1), ('follow.)', 2), ('spy�glass', 1), ('viewing', 1), ('strand.', 1), ('tubs', 5), ('braces', 3), ('hand!', 5), ('lads!', 1), ('fail!', 1), ('bells', 3), ('2d', 1), ('chorus!', 1), ('hear,', 3), ('bell�boy?', 1), ('eight,', 1), ('pip!', 12), ('blackling!', 1), ('watch.', 2), ('hogshead', 2), ('scuttle,)', 1), ('star', 3), ('bo�l�e�e�n�s,', 1), ('a�h�o�y!', 1), ('snoozing', 1), ('maty;', 2), ('fat', 8), ('mogul’s', 2), ('wine;', 2), ('deadening', 1), ('ﬁlliping', 1), ('others.', 4), ('sing;', 1), ('ground�tier', 2), ('butts.', 1), ('again!', 13), ('copper�pump,', 1), ('lasses.', 1), ('resurrection;', 2), ('kiss', 2), ('spoiled', 3), ('amsterdam', 3), ('173', 1), ('hist,', 2), ('boys!', 3), ('jig', 3), ('bay.', 1), ('legs!', 3), ('tambourine!', 1), ('pip.', 3), ('(sulky', 1), ('sleepy)', 1), ('wag', 1), ('ears.', 3), ('merry’s', 2), ('word;', 6), ('hurrah!', 5), ('dance?', 1), ('indian�ﬁle,', 1), ('gallop', 1), ('double�shufﬂe?', 1), ('springy', 1), ('ice�ﬂoors.', 1), ('subject;', 1), ('excuse', 1), ('maltese', 2), ('girls?', 1), ('partners!', 2), ('sicilian', 3), ('aye;', 2), ('green!', 1), ('hop', 1), ('grasshopper!', 1), ('long�island', 1), ('sulkies,', 1), ('hoe', 1), ('may,say', 1), ('music;', 1), ('azore', 2), ('(ascending,', 1), ('scuttle.)', 1), ('pip;', 2), ('windlass�bitts;', 1), ('mount!', 1), ('dance', 4), ('oaths', 5), ('a�plenty.)', 1), ('(dancing.)', 1), ('bang', 1), ('bell�boy!', 2), ('dig', 2), ('stig', 1), ('quig', 1), ('ﬁre�ﬂies;', 1), ('jinglers!', 1), ('jinglers,', 1), ('china', 6), ('rattle', 1), ('pagoda', 1), ('thyself.', 1), ('merry�mad!', 1), ('hoop,', 1), ('pip,', 18), ('jibs!', 1), ('tashtego.', 7), ('(quietly', 1), ('smoking.)', 1), ('fun:', 2), ('humph!', 3), ('sweat.', 1), ('manx', 4), ('grave,', 3), ('threat', 1), ('night�women,', 1), ('head�winds', 1), ('corners.', 1), ('christ!', 1), ('navies', 4), ('green�skulled', 1), ('crews!', 1), ('belike', 2), ('ball,', 3), ('scholars', 1), ('ball�room', 1), ('you’re', 6), ('young;', 2), ('3d', 1), ('whew!', 2), ('pulling', 21), ('whiff,', 1), ('tash.', 1), ('(they', 2), ('cease', 2), ('dancing,', 1), ('gather', 3), ('clusters.', 2), ('darkens', 1), ('rises.)', 1), ('lascar', 1), ('brahma!', 1), ('douse', 1), ('sky�born,', 1), ('high�tide', 1), ('ganges', 1), ('wind!', 4), ('showest', 1), ('seeva!', 1), ('(reclining', 2), ('cap.)', 1), ('waves’', 1), ('snow�caps’', 1), ('they’ll', 3), ('tassels', 1), ('women,', 2), ('drown,', 2), ('chassee', 1), ('174', 1), ('evermore!', 1), ('dance,', 1), ('over�arboring', 1), ('ripe,', 1), ('grapes.', 1), ('(reclining.)', 1), ('hark', 7), ('ﬂeet', 7), ('interlacings', 1), ('sway�', 1), ('ings', 2), ('coyings', 1), ('ﬂutterings!', 1), ('lip!', 3), ('heart!', 2), ('hip!', 1), ('graze:', 1), ('go!', 1), ('taste,', 2), ('satiety.', 1), ('eh,', 2), ('pagan?', 1), ('(nudging.)', 1), ('tahitian', 2), ('mat.)', 1), ('nakedness', 2), ('girls!', 1), ('heeva�heeva!', 1), ('valed,', 1), ('palmed', 2), ('tahiti!', 2), ('soil', 2), ('slid!', 1), ('woven', 7), ('mat!', 1), ('thence;', 1), ('wilted', 1), ('quite.', 1), ('ah', 1), ('change!', 1), ('transplanted', 2), ('sky?', 2), ('streams', 1), ('pirohitee’s', 1), ('peak', 1), ('leap', 10), ('crags', 1), ('drown', 4), ('villages?', 1), ('blast!', 2), ('spine,', 5), ('(leaps', 1), ('feet.)', 1), ('portuguese', 3), ('swashing', 2), ('side!', 1), ('reeﬁng,', 1), ('hearties!', 1), ('pell�mell', 1), ('lunging', 2), ('presently.', 4), ('crack,', 4), ('ship!', 8), ('crackest,', 1), ('holdest!', 1), ('stifﬂy.', 1), ('fort', 1), ('cattegat,', 1), ('baltic', 2), ('storm�lashed', 1), ('guns,', 2), ('sea�salt', 1), ('cakes!', 1), ('4th', 1), ('squall,', 3), ('water�spout', 1), ('blood!', 1), ('cove!', 1), ('pines', 3), ('shake!', 2), ('hardest', 1), ('shifted', 4), ('crew’s', 2), ('clay.', 1), ('helmsman!', 1), ('steady.', 2), ('snap', 4), ('keeled', 3), ('birth�mark;', 1), ('lurid�like,', 1), ('daggoo.', 5), ('black’s', 1), ('(aside.)', 2), ('bully,', 1), ('touchy.', 1), ('(advanc�', 1), ('ing.)', 1), ('race', 6), ('undeniable', 2), ('offence.', 1), ('(grimly.)', 1), ('none.', 2), ('jago’s', 1), ('spaniard’s', 2), ('drunk.', 1), ('175', 1), ('ﬁre�waters', 1), ('working.', 1), ('5th', 1), ('lightning?', 1), ('yes.', 3), ('(springing.)', 1), ('mannikin!', 1), ('skin,', 7), ('liver!', 1), ('(meeting', 1), ('him.)', 3), ('heartily!', 1), ('frame,', 1), ('spirit!', 1), ('row!', 6), ('(with', 1), ('whiff.)', 1), ('a’low,', 1), ('brawlers!', 1), ('belfast', 1), ('arrah', 1), ('blessed,', 1), ('plunge', 3), ('play!', 2), ('knife!', 1), ('ring,', 3), ('ring!', 1), ('formed.', 1), ('horizon.', 3), ('abel.', 1), ('work!', 2), ('no?', 1), ('mad’st', 1), ('ring?', 1), ('halyards!', 1), ('sails!', 3), ('reef', 2), ('topsails!', 1), ('squall!', 3), ('jump,', 3), ('jollies!', 2), ('scatter.)', 1), ('(shrinking', 1), ('windlass.)', 1), ('jollies?', 1), ('crish,', 1), ('crash!', 1), ('jib�stay!', 1), ('blang�', 1), ('whang!', 1), ('duck', 2), ('lower,', 6), ('yard!', 2), ('whirled', 4), ('year!', 1), ('who’d', 1), ('climbing', 2), ('chestnuts', 1), ('cursing,', 1), ('don’t.', 1), ('fine', 2), ('prospects', 3), ('they’re', 2), ('road', 3), ('jimmini,', 1), ('squalls,', 1), ('they.', 3), ('squalls?', 1), ('shirr!', 4), ('once!', 1), ('jingle', 1), ('anaconda', 1), ('him!', 8), ('fear!', 1), ('shouts', 1), ('stronger', 3), ('shouted,', 2), ('oath,', 2), ('mystical,', 1), ('sympathetical', 1), ('quenchless', 1), ('feud', 1), ('greedy', 1), ('violence', 5), ('revenge.', 4), ('past,', 4), ('unaccompanied,', 1), ('secluded', 1), ('haunted', 3), ('uncivilized', 3), ('ﬁshermen.', 2), ('existence;', 1), ('comparatively,', 1), ('knowingly', 2), ('actu�', 2), ('ally', 4), ('whale�cruisers;', 1), ('disorderly', 1), ('tire', 2), ('circumference,', 1), ('adventurously', 1), ('stretch,', 4), ('news�telling', 1), ('sort;', 2), ('irregularity', 1), ('indirect,', 1), ('obstructed', 1), ('individualizing', 1), ('tidings', 3), ('dick.', 10), ('doubted,', 2), ('encountered,', 3), ('meridian,', 1), ('malignity,', 1), ('mischief', 3), ('assailants,', 1), ('minds', 11), ('unfair', 1), ('presumption,', 1), ('unfrequent', 2), ('ferocity,', 2), ('cunning,', 2), ('177', 1), ('attacked;', 1), ('thatthose', 1), ('accident', 5), ('dick;', 7), ('cribe', 1), ('terror', 14), ('bred,', 1), ('cause.', 3), ('mostly,', 1), ('regarded.', 1), ('fearlessly', 2), ('species.', 5), ('calamities', 1), ('ensue', 2), ('assaults', 2), ('sprained', 3), ('wrists', 2), ('ancles,', 1), ('devouring', 3), ('amputations', 1), ('fatality;', 1), ('repulses,', 1), ('accumulat�', 1), ('piling', 2), ('fortitude', 1), ('rumors', 7), ('exaggerate,', 1), ('horrify', 1), ('histories', 1), ('encounters.', 1), ('events,', 7), ('smitten', 5), ('fungi;', 1), ('terra', 2), ('ﬁrma,', 1), ('abound,', 2), ('adequate', 1), ('cling', 2), ('surpasses', 3), ('wonderfulness', 1), ('circulate', 1), ('unexempt', 1), ('superstitiousness', 1), ('contact', 9), ('appallingly', 1), ('astonishing', 2), ('marvels,', 1), ('shores,', 1), ('chiselled', 4), ('hospitable', 3), ('latitudes', 5), ('longitudes,', 2), ('pursuing', 4), ('birth.', 2), ('transit', 1), ('widest', 2), ('spaces,', 1), ('outblown', 1), ('incorporate', 2), ('morbid', 1), ('half�formed', 1), ('foetal', 1), ('suggestions', 1), ('unborrowed', 1), ('visibly', 2), ('appears.', 1), ('panic', 4), ('rumors,', 2), ('178', 1), ('work.', 4), ('prestige', 2), ('fear�', 1), ('body.', 11), ('courageous', 1), ('inexperience,', 1), ('incompetency,', 1), ('timidity,', 2), ('decline', 2), ('contest', 2), ('ameri�', 1), ('ﬂag,', 5), ('hostilely', 1), ('ignoble', 3), ('primitively', 1), ('north;', 1), ('hatches,', 2), ('childish', 1), ('ﬁre�', 2), ('pre�eminent', 1), ('tremendousness', 1), ('feelingly', 2), ('comprehended,', 1), ('prows', 2), ('tested', 1), ('legendary', 3), ('olafsen', 1), ('povelsen', 1), ('declaring', 2), ('consternation', 6), ('crea�', 2), ('ture', 5), ('incredibly', 1), ('ferocious', 2), ('blood.', 6), ('cuvier’s,', 2), ('effaced.', 1), ('afﬁrms', 1), ('(sharks', 1), ('included)', 1), ('“struck', 1), ('terror,”', 1), ('“often', 1), ('precipitancy', 1), ('death.”', 1), ('amend', 1), ('reports', 1), ('these;', 2), ('terribleness,', 1), ('bloodthirsty', 2), ('povelsen,', 1), ('superstitious', 9), ('vocation,', 4), ('revived', 2), ('overawed', 1), ('recalled,', 1), ('dick,', 11), ('oftentimes', 5), ('practised', 3), ('warfare;', 1), ('protesting', 1), ('although', 2), ('hopefully', 2), ('pursued,', 3), ('inevitably', 4), ('documents', 1), ('consulted.', 1), ('179', 1), ('distantly', 3), ('vaguely,', 1), ('details', 3), ('calamity,', 2), ('accompaniments,', 2), ('offered.', 2), ('suggestings', 1), ('referred', 4), ('inclined,', 1), ('ubiquitous;', 1), ('credulous', 4), ('probability.', 2), ('divulged,', 2), ('erudite', 2), ('research;', 1), ('remain,', 2), ('pursuers;', 2), ('originated', 1), ('speculations', 2), ('regarding', 4), ('modes', 1), ('sounding', 9), ('depth,', 3), ('transports', 1), ('swiftness', 1), ('points.', 1), ('authoritative', 1), ('gainsaid,', 1), ('exceeded', 2), ('strella', 1), ('mountain', 10), ('portugal', 1), ('(near', 1), ('lake', 6), ('wrecks', 4), ('surface);', 1), ('arethusa', 1), ('syracuse', 1), ('(whose', 1), ('underground', 1), ('passage);', 1), ('narrations', 1), ('equalled', 2), ('realities', 1), ('familiarity,', 1), ('repeated,', 2), ('assaults,', 1), ('alive;', 1), ('super�', 1), ('stitions;', 1), ('ubiquitous,', 1), ('immortality', 1), ('ubiquity', 1), ('time);', 1), ('groves', 5), ('spears', 1), ('ﬂanks,', 2), ('unharmed;', 1), ('blood,', 12), ('deception;', 1), ('unensanguined', 1), ('leagues', 9), ('unsullied', 1), ('180', 3), ('surmisings,', 1), ('incontestable', 1), ('imagination', 3), ('unwonted', 5), ('power.', 2), ('snow�white', 10), ('pyramidical', 2), ('prominent', 1), ('limitless,', 1), ('uncharted', 1), ('revealed', 13), ('identity,', 1), ('streaked,', 1), ('spotted,', 2), ('marbled', 1), ('vivid', 8), ('noon', 5), ('milky�', 1), ('creamy', 4), ('foam,', 3), ('spangled', 2), ('gleamings.', 1), ('terror,', 3), ('unexampled,', 1), ('malignity', 2), ('assaults.', 1), ('dismay', 2), ('exulting', 2), ('pursuers,', 2), ('apparent', 4), ('symptom', 2), ('alarm,', 5), ('suddenly,', 3), ('splinters,', 1), ('fatalities', 1), ('chase.', 6), ('disasters,', 1), ('bruited', 2), ('ﬁshery;', 6), ('aforethought', 2), ('dismembering', 1), ('caused,', 1), ('inﬂicted', 2), ('unintelligent', 2), ('judge,', 3), ('pitches', 2), ('inﬂamed,', 1), ('impelled,', 2), ('comrades,', 1), ('curds', 2), ('serene,', 1), ('smiled', 1), ('bridal.', 1), ('oars', 17), ('dies;', 1), ('seizing', 14), ('line�knife', 1), ('prow,', 6), ('arkansas', 1), ('duellist', 1), ('foe,', 2), ('fathom�deep', 2), ('sickle�shaped', 1), ('mower', 1), ('ﬁeld.', 4), ('tur�', 1), ('baned', 1), ('turk,', 1), ('hired', 1), ('venetian', 4), ('malay,', 1), ('181', 1), ('malice.', 1), ('counter,', 1), ('vindictiveness', 2), ('identify', 1), ('woes,', 1), ('exasperations.', 1), ('monomaniac', 11), ('incarnation', 2), ('agencies', 1), ('lung.', 1), ('intangible', 1), ('beginning;', 1), ('one�half', 1), ('worlds;', 1), ('ophites', 1), ('east', 8), ('reverenced', 1), ('statue', 3), ('devil;', 1), ('worship', 4), ('deliriously', 3), ('transferring', 1), ('abhorred', 3), ('pitted', 1), ('mutilated,', 1), ('maddens', 1), ('torments;', 1), ('stirs', 3), ('cracks', 2), ('sinews', 2), ('cakes', 1), ('monisms', 1), ('thought;', 3), ('evil,', 1), ('personiﬁed,', 1), ('practically', 3), ('assailable', 1), ('mortar,', 2), ('heart’s', 1), ('shell', 1), ('probable', 4), ('monomania', 2), ('dismemberment.', 1), ('monster,', 7), ('sudden,', 8), ('passionate,', 1), ('corporal', 1), ('animosity;', 1), ('stroke', 10), ('agonizing', 3), ('laceration,', 1), ('collision', 1), ('weeks,', 1), ('cape;', 2), ('gashed', 1), ('interfusing,', 1), ('mad.', 5), ('encounter,', 2), ('raving', 2), ('lunatic;', 1), ('unlimbed', 1), ('strength', 10), ('intensiﬁed', 3), ('delirium,', 2), ('lace', 2), ('fast,', 8), ('hammock.', 6), ('strait�jacket,', 1), ('rockings', 1), ('gales.', 1), ('stun’sails', 1), ('spread,', 2), ('tranquil', 4), ('tropics,', 1), ('appearances,', 1), ('delirium', 3), ('swells,', 4), ('ﬁrm,', 3), ('front,', 5), ('thanked', 1), ('182', 1), ('self,', 3), ('raved', 1), ('cunning', 12), ('feline', 1), ('ﬂed,', 1), ('transﬁgured', 1), ('subtler', 1), ('lunacy', 2), ('subsided', 2), ('deepeningly', 1), ('contracted;', 1), ('unabated', 3), ('hudson,', 1), ('northman', 1), ('ﬂows', 3), ('narrowly,', 1), ('unfathomably', 2), ('highland', 3), ('gorge.', 1), ('narrow�ﬂowing', 1), ('monomania,', 2), ('jot', 5), ('behind;', 2), ('madness,', 5), ('intellect', 2), ('perished.', 1), ('instrument.', 1), ('trope', 1), ('stormed', 1), ('sanity,', 1), ('concentred', 1), ('mark;', 5), ('fold', 1), ('potency', 4), ('sanely', 2), ('larger,', 1), ('darker,', 1), ('unhinted.', 1), ('popularize', 1), ('profundities,', 2), ('profound.', 2), ('spiked', 1), ('hotel', 1), ('cluny', 1), ('wonderful,', 3), ('nobler,', 1), ('sadder', 2), ('souls,', 4), ('halls', 2), ('thermes;', 1), ('fantastic', 2), ('tow�', 2), ('ers', 2), ('grandeur,', 2), ('essence', 4), ('bearded', 2), ('state;', 2), ('throned', 1), ('torsoes!', 1), ('throne,', 2), ('mock', 1), ('captive', 3), ('caryatid,', 1), ('sits,', 1), ('upholding', 1), ('entablatures', 1), ('prouder,', 2), ('souls!', 1), ('proud,', 1), ('sad', 8), ('king!', 1), ('likeness!', 1), ('exiled', 2), ('royalties;', 1), ('sire', 2), ('state�secret', 1), ('namely:', 2), ('sane,', 1), ('motive', 3), ('kill,', 1), ('change,', 1), ('shun', 3), ('dissemble;', 1), ('dissembling', 1), ('perceptibility,', 1), ('determinate.', 1), ('dissem�', 1), ('bling,', 1), ('grieved,', 1), ('casualty', 2), ('overtaken', 1), ('moodiness', 1), ('ofsailing', 1), ('brooding', 2), ('brow.', 4), ('unlikely,', 1), ('distrusting', 2), ('ﬁtness', 1), ('183', 1), ('conceit,', 5), ('qualiﬁed', 3), ('edge,', 1), ('wildness', 3), ('gnawed', 2), ('inﬁxed,', 1), ('unrelenting', 1), ('fangs', 1), ('incurable', 1), ('appalling', 9), ('brutes.', 1), ('corporeally', 2), ('incapacitated', 1), ('superlatively', 2), ('underlings', 1), ('keyed', 1), ('all�engrossing', 1), ('hunting', 7), ('acquaintances', 1), ('righteous', 3), ('ﬁendish', 1), ('proﬁtable', 1), ('cruises,', 1), ('counted', 5), ('mint.', 1), ('immitigable,', 1), ('grey�headed,', 1), ('chasing', 7), ('curses', 2), ('job’s', 1), ('grel', 1), ('renegades,', 1), ('morally', 1), ('enfeebled', 1), ('incompetence', 1), ('unaided', 1), ('right�mindedness', 1), ('invul�', 1), ('nerable', 1), ('jollity', 2), ('recklessness', 1), ('medi�', 2), ('ocrity', 1), ('ofﬁcered,', 1), ('fatality', 2), ('aboundingly', 1), ('responded', 2), ('ire', 1), ('possessed,', 1), ('insufferable', 4), ('understandings,', 1), ('unsuspected', 2), ('demon', 3), ('explain,', 1), ('dive', 6), ('ishmael', 2), ('miner', 1), ('whither', 2), ('shifting,', 1), ('pick?', 1), ('drag?', 1), ('skiff', 2), ('seventy�four', 1), ('still?', 2), ('abandonment', 2), ('place;', 8), ('a�rush', 1), ('deadliest', 3), ('ill.', 1), ('hinted;', 1), ('unsaid.', 1), ('considerations', 4), ('awaken', 1), ('vague,', 1), ('overpowered', 1), ('naught.', 2), ('reﬁningly', 1), ('enhances', 1), ('beauty,', 1), ('imparting', 1), ('marbles,', 1), ('japonicas,', 1), ('pearls;', 1), ('recognised', 4), ('pre�eminence', 2), ('hue;', 2), ('pegu', 1), ('“lord', 1), ('elephants”', 1), ('magniloquent', 1), ('ascriptions', 1), ('dominion;', 1), ('siam', 2), ('unfurling', 1), ('quadruped', 1), ('standard;', 1), ('hanoverian', 1), ('charger;', 2), ('austrian', 1), ('empire,', 1), ('caesarian', 1), ('heir', 1), ('overlording', 1), ('rome,', 1), ('applies', 3), ('ideal', 1), ('mastership', 1), ('tribe;', 2), ('gladness,', 2), ('romans', 2), ('sympathies', 2), ('symbolizings,', 1), ('hue', 3), ('emblem', 2), ('touching,', 1), ('brides,', 1), ('benignity', 1), ('wampum', 1), ('185', 1), ('pledge', 2), ('climes,', 1), ('typiﬁes', 1), ('justice', 3), ('ermine', 1), ('contributes', 1), ('steeds;', 1), ('symbol', 9), ('spotlessness', 1), ('worshippers,', 1), ('forked', 5), ('holiest', 3), ('altar;', 1), ('greek', 7), ('mythologies,', 2), ('bull;', 2), ('iroquois,', 1), ('sacriﬁce', 2), ('festival', 1), ('theology,', 1), ('spotless,', 1), ('purest', 2), ('envoy', 1), ('ﬁdelity;', 2), ('latin', 2), ('white,', 8), ('priests', 5), ('vesture,', 1), ('alb', 1), ('tunic,', 1), ('cassock;', 1), ('pomps', 1), ('romish', 3), ('celebration', 1), ('lord;', 3), ('john,', 1), ('redeemed,', 1), ('four�and�twenty', 1), ('elders', 1), ('sitteth', 1), ('wool;', 1), ('associations,', 2), ('honorable,', 1), ('sublime,', 2), ('redness', 2), ('affrights', 1), ('whiteness,', 6), ('di�', 2), ('vorced', 1), ('kindly', 3), ('furthest', 5), ('bounds.', 1), ('witness', 3), ('tropics;', 2), ('ﬂaky', 1), ('white�', 3), ('transcendent', 1), ('are?', 1), ('imparts', 3), ('abhorrent', 1), ('mildness,', 1), ('loathsome', 1), ('gloating', 1), ('ﬁerce�fanged', 1), ('tiger', 5), ('heraldic', 1), ('stagger', 3), ('white�shrouded', 1), ('bear,', 2), ('urged', 2), ('heightens', 2), ('intol�', 1), ('hideousness', 2), ('brute;', 1), ('analysed,', 1), ('hideousness,', 1), ('irresponsible', 1), ('ferociousness', 1), ('ﬂeece', 1), ('celestial', 3), ('love;', 2), ('emotions', 4), ('minds,', 3), ('assuming', 5), ('terror.', 2), ('shark,', 3), ('ghostliness', 2), ('beheld', 14), ('moods,', 3), ('tallies', 1), ('quadruped.', 1), ('vividly', 1), ('“requiem', 1), ('eternam”', 1), ('(eternal', 1), ('rest),', 1), ('requiem', 1), ('denominating', 1), ('funereal', 2), ('186', 1), ('albatross:', 1), ('wwonder�', 1), ('dread,', 2), ('imaginations?', 1), ('coleridge', 1), ('unﬂattering', 1), ('laureate,', 1), ('annals', 1), ('traditions', 6), ('prairies;', 2), ('charger,', 1), ('large�eyed,', 1), ('small�headed,', 1), ('bluff�chested,', 1), ('monarchs', 2), ('lofty,', 1), ('over�', 1), ('carriage.', 1), ('elected', 1), ('xerxes', 1), ('horses,', 3), ('pastures', 1), ('fenced', 1), ('allegha�', 1), ('nies.', 1), ('ﬂaming', 5), ('trooped', 1), ('hosts', 2), ('ﬂashing', 5), ('cascade', 2), ('mane,', 1), ('comet', 1), ('resplendent', 2), ('silver�beaters', 1), ('archangelical', 1), ('unfallen,', 1), ('trappers', 2), ('glories', 2), ('primeval', 1), ('bluff�bowed', 2), ('steed.', 2), ('deadliness', 1), ('requin.', 1), ('saw.', 1), ('forenoon', 1), ('overclouded', 1), ('deck;', 12), ('regal,', 1), ('feathery', 1), ('unspotted', 1), ('hooked,', 1), ('sublime.', 2), ('wings,', 2), ('ark.', 2), ('ﬂutterings', 1), ('throbbings', 1), ('shook', 11), ('unharmed,', 1), ('ghost', 8), ('distress.', 1), ('inexpressible,', 1), ('methought', 1), ('abraham', 1), ('myself;', 2), ('warping', 1), ('plumage.', 1), ('awoke;', 1), ('goney,', 1), ('replied.', 1), ('goney!', 1), ('before;', 6), ('conceivable', 4), ('ashore!', 1), ('never!', 1), ('after,', 7), ('goney', 3), ('albatross.', 3), ('possibility', 2), ('coleridge’s', 1), ('rhyme', 2), ('rhyme,', 1), ('burnish', 1), ('merit', 1), ('poem', 2), ('poet.', 1), ('solecism', 1), ('albatrosses;', 1), ('fowl.', 2), ('caught?', 1), ('whisper', 5), ('postman', 1), ('tying', 4), ('lettered,', 1), ('leathern', 5), ('tally', 1), ('escape.', 4), ('tally,', 1), ('wing�folding,', 1), ('invoking,', 1), ('adoring', 1), ('cherubim!', 1), ('187', 1), ('aides', 1), ('marshals', 1), ('countless', 5), ('cohorts', 1), ('endlessly', 1), ('streamed', 3), ('plains,', 1), ('ohio;', 1), ('circumambient', 1), ('subjects', 3), ('browsing', 1), ('horizon,', 7), ('gallopingly', 1), ('reviewed', 1), ('reddening', 2), ('milkiness;', 1), ('indians', 2), ('awe.', 1), ('questioned', 2), ('divineness;', 1), ('divineness', 1), ('commanding', 3), ('enforced', 1), ('accessory', 1), ('albino', 3), ('peculiarly', 6), ('repels', 1), ('shocks', 2), ('loathed', 1), ('kin?', 1), ('bears.', 1), ('substantive', 1), ('deformity', 1), ('all�', 2), ('ugliest', 1), ('abortion.', 1), ('aspects,', 2), ('palpable', 4), ('enlist', 2), ('crowning', 3), ('attribute', 1), ('terrible.', 1), ('gauntleted', 1), ('historic', 1), ('omitted', 5), ('potent', 5), ('auxiliary.', 1), ('froissart,', 1), ('faction,', 1), ('hoods', 1), ('ghent', 1), ('murder', 7), ('bailiff', 1), ('market�place!', 1), ('common,', 2), ('supernaturalism', 1), ('appals', 1), ('gazer,', 1), ('pallor', 5), ('trepidation', 2), ('borrow', 1), ('expressive', 3), ('shroud', 4), ('wrap', 1), ('phantoms;', 1), ('ghosts', 6), ('add,', 2), ('personiﬁed', 2), ('evangelist,', 2), ('rides', 2), ('horse.', 4), ('symbolize', 1), ('gracious', 3), ('idealized', 1), ('dissent', 1), ('ﬁxed,', 5), ('188', 1), ('analyse', 1), ('impossible.', 1), ('citation', 1), ('impart', 2), ('fearful,', 1), ('exert', 2), ('sorcery,', 1), ('modiﬁed;', 1), ('clue', 3), ('seek?', 1), ('subtlety', 1), ('appeals', 2), ('subtlety,', 1), ('halls.', 1), ('imaginative', 1), ('shared', 2), ('ideality,', 1), ('loosely', 1), ('ac�', 5), ('quainted', 1), ('bare', 6), ('whit�', 1), ('suntide', 1), ('processions', 1), ('slow�', 1), ('pilgrims,', 1), ('down�cast', 1), ('new�fallen', 1), ('snow?', 1), ('unread,', 1), ('unsophisticated', 1), ('protestant', 1), ('states,', 1), ('friar', 2), ('nun,', 1), ('evoke', 1), ('eyeless', 1), ('soul?', 1), ('dungeoned', 1), ('(which', 3), ('tower', 4), ('untravelled', 2), ('american,', 2), ('structures,', 1), ('neighbors', 1), ('byward', 1), ('bloody?', 1), ('sublimer', 1), ('towers,', 2), ('hampshire,', 2), ('whence,', 3), ('virginia’s', 3), ('dewy,', 1), ('dreaminess?', 1), ('spectralness', 1), ('fancy,', 3), ('lulls', 1), ('lacquered', 1), ('afternoons', 1), ('gaudiest', 1), ('sleepiest', 1), ('sunsets?', 1), ('unsubstantial', 1), ('purely', 3), ('fairy', 2), ('europe,', 2), ('man”', 1), ('hartz', 1), ('changeless', 1), ('unrustlingly', 1), ('whooping', 1), ('imps', 1), ('blocksburg?', 1), ('remembrance', 2), ('cathedral�toppling', 1), ('earthquakes;', 1), ('stampedoes', 1), ('tearlessness', 1), ('skies', 6), ('rain;', 2), ('cope�stones,', 1), ('crosses', 1), ('adroop', 2), ('canted', 3), ('anchored', 3), ('ﬂeets);', 1), ('suburban', 1), ('house�walls', 1), ('cards;', 2), ('tearless', 2), ('lima,', 2), ('strangest,', 1), ('saddest', 4), ('189', 1), ('lima', 4), ('veil;', 1), ('pizarro,', 1), ('white�ness', 1), ('new;', 1), ('admits', 3), ('greenness', 1), ('decay;', 2), ('spreads', 1), ('ram�parts', 1), ('rigid', 2), ('apoplexy', 1), ('ﬁxes', 1), ('distortions.', 1), ('apprehension,', 2), ('phenomenon', 4), ('confessed', 1), ('agent', 3), ('exaggerating', 1), ('objects', 6), ('terrible;', 1), ('unimaginative', 1), ('awfulness', 2), ('consists', 2), ('phenomenon,', 1), ('exhibited', 3), ('muteness', 2), ('versality.', 1), ('statements', 2), ('respectively', 3), ('elu�', 1), ('cidated', 1), ('examples.', 1), ('coasts', 5), ('lands,', 2), ('roar', 6), ('breakers,', 2), ('starts', 4), ('faculties;', 1), ('milky', 7), ('encircling', 2), ('headlands', 1), ('combed', 1), ('dread;', 1), ('whitened', 2), ('ghost;', 1), ('assures', 2), ('soundings;', 1), ('“sir,', 2), ('rocks,', 5), ('second:', 3), ('snow�howdahed', 1), ('andes', 2), ('except,', 1), ('fancying', 2), ('eter�', 1), ('nal', 1), ('desolateness', 1), ('reigning', 1), ('altitudes,', 1), ('oneself', 1), ('inhuman', 2), ('solitudes.', 1), ('backwoodsman', 2), ('west,', 6), ('comparative', 6), ('indif�', 2), ('ference', 2), ('views', 3), ('unbounded', 2), ('snow,', 1), ('twig', 1), ('trance', 4), ('whiteness.', 1), ('scenery', 2), ('trick', 4), ('legerde�', 1), ('shipwrecked,', 1), ('solace', 3), ('misery,', 1), ('bound�', 1), ('church�yard', 2), ('monuments', 1), ('crosses.', 1), ('sayest,', 1), ('white�lead', 1), ('surrenderest', 1), ('hypo,', 1), ('foaled', 1), ('ver�', 1), ('mont,', 1), ('prey', 4), ('sunniest', 1), ('190', 1), ('buffalo', 4), ('robe', 3), ('muskiness', 2), ('snort,', 1), ('burst�', 1), ('paw', 2), ('phrensies', 1), ('affright?', 1), ('gorings', 1), ('associated', 1), ('bisons', 1), ('oregon?', 1), ('no:', 5), ('beholdest', 1), ('brute,', 1), ('knowl�', 1), ('demonism', 1), ('oregon,', 1), ('rending,', 1), ('goring', 1), ('bison', 1), ('foal', 1), ('prairies,', 1), ('dust.', 2), ('rollings', 1), ('rustlings', 1), ('festooned', 1), ('frosts', 1), ('desolate', 4), ('shiftings', 1), ('windrowed', 1), ('snows', 2), ('fright�', 1), ('ened', 1), ('colt!', 1), ('hints;', 1), ('exist.', 1), ('aspects', 3), ('spheres', 1), ('solved', 2), ('incantation', 2), ('porten�', 1), ('tous', 1), ('christian’s', 1), ('deity;', 1), ('intensifying', 1), ('mankind.', 2), ('indeﬁniteness', 1), ('heartless', 3), ('immen�', 1), ('sities', 1), ('universe,', 2), ('stabs', 1), ('annihi�', 1), ('lation,', 1), ('concrete', 2), ('colors;', 1), ('blankness,', 1), ('colorless,', 1), ('atheism', 1), ('shrink?', 1), ('emblazoning', 1), ('tinges', 1), ('gilded', 3), ('velvets', 1), ('butterﬂies,', 1), ('butterﬂy', 1), ('girls;', 1), ('sub�', 3), ('tile', 1), ('deceits,', 1), ('inherent', 3), ('substances,', 1), ('without;', 2), ('deiﬁed', 3), ('absolutely', 3), ('paints', 2), ('harlot,', 1), ('allurements', 1), ('charnel�house', 1), ('191', 1), ('cosmetic', 1), ('produces', 1), ('hues,', 1), ('princi�', 2), ('ple', 2), ('operating', 1), ('medium', 2), ('tulips', 1), ('roses,', 2), ('blank', 5), ('tinge', 2), ('pondering', 4), ('leper;', 1), ('travellers', 1), ('lapland,', 1), ('coloring', 1), ('gazes', 1), ('blind', 12), ('monumental', 1), ('wraps', 3), ('symbol.', 2), ('hunt?', 2), ('ist!', 1), ('noise,', 2), ('cabaco?”', 2), ('middle�watch:', 1), ('cordon,', 2), ('fresh�water', 2), ('butts', 3), ('scuttle�', 2), ('butt', 1), ('taffrail.', 1), ('butt.', 1), ('hallowed', 1), ('precincts', 1), ('rustle', 1), ('occasional', 9), ('unceasingly', 2), ('keel.', 5), ('repose,', 1), ('archy,', 1), ('after�hatches,', 1), ('neighbor,', 1), ('cholo,', 1), ('above.', 2), ('“hist!', 1), ('“take', 6), ('bucket,', 3), ('archy?', 1), ('cough', 1), ('cough.”', 1), ('“cough', 1), ('damned!', 1), ('bucket.”', 1), ('is!', 2), ('sleepers', 3), ('now!”', 3), ('“caramba!', 1), ('soaked', 3), ('biscuits', 2), ('bucket!”', 2), ('“say', 1), ('shipmate;', 1), ('ears.”', 1), ('chap,', 4), ('quakeress’s', 1), ('knitting�needles', 1), ('chap.”', 1), ('“grin', 1), ('cabaco,', 1), ('after�hold', 1), ('193', 1), ('wind.”', 1), ('“tish!', 1), ('ad', 3), ('succeeding', 1), ('ratiﬁcation', 1), ('transom,', 2), ('yellowish', 2), ('charts,', 2), ('screwed�', 1), ('shadings', 1), ('pencil', 5), ('courses', 5), ('spaces', 3), ('blank.', 2), ('refer', 3), ('piles', 1), ('log�books', 1), ('chains', 6), ('tracing', 2), ('solitude', 2), ('charts.', 1), ('effaced,', 1), ('substituted.', 1), ('charts', 4), ('maze', 2), ('eddies,', 1), ('accomplishment', 1), ('absurdly', 1), ('hooped', 4), ('planet.', 1), ('195', 1), ('currents;', 1), ('driftings', 1), ('food;', 1), ('regular,', 2), ('ascertained', 1), ('latitudes;', 3), ('surmises,', 1), ('certainties,', 1), ('timeliest', 1), ('search', 4), ('prey.', 4), ('assured,', 1), ('periodicalness', 1), ('resorting', 1), ('studied', 2), ('logs', 1), ('collated,', 1), ('migrations', 1), ('correspond', 2), ('invariability', 1), ('herring�shoals', 1), ('ﬂights', 2), ('swallows.', 1), ('construct', 1), ('elaborate', 1), ('migratory', 1), ('feeding�ground', 1), ('guided', 3), ('rather,', 4), ('deity', 2), ('veins,', 2), ('called;', 2), ('ocean�line', 1), ('undeviating', 5), ('exactitude,', 1), ('course,', 8), ('tithe', 1), ('precision.', 1), ('direction', 7), ('surveyor’s', 1), ('allel,', 1), ('unavoidable,', 1), ('arbitrary', 1), ('vein', 2), ('erally', 1), ('embraces', 4), ('width', 2), ('(more', 2), ('less,', 2), ('expand', 5), ('contract);', 1), ('exceeds', 1), ('whale�ship’s', 2), ('circumspectly', 1), ('breadth', 6), ('path,', 1), ('migrating', 1), ('feeding�', 1), ('grounds,', 4), ('prey;', 1), ('panses', 1), ('entangle', 1), ('delirious', 2), ('statement', 3), ('happily', 2), ('circular,', 2), ('lieutenant', 1), ('maury,', 1), ('observatory,', 1), ('16th,', 1), ('1851.', 1), ('completion;', 1), ('portions', 2), ('circular.', 1), ('divides', 1), ('districts', 3), ('longitude;', 1), ('columns', 3), ('months;', 1), ('horizontally', 4), ('lines;', 2), ('month', 5), ('seen.”', 1), ('196', 1), ('methodical', 1), ('scheme.', 1), ('perhaps.', 1), ('gregar�', 1), ('ious', 1), ('lon�', 1), ('gitude', 1), ('year,', 2), ('identically', 1), ('preceding', 4), ('season;', 1), ('unquestionable', 3), ('contrary', 2), ('general,', 6), ('remark,', 2), ('limit,', 3), ('solitaries', 1), ('hermits', 1), ('ma�', 2), ('tured,', 1), ('seychelle', 1), ('olcano', 1), ('coast;', 1), ('season,', 3), ('casual', 2), ('stopping�', 1), ('ocean�inns,', 1), ('abode.', 1), ('accomplishing', 1), ('way�side,', 1), ('antecedent,', 1), ('extra', 6), ('attained,', 1), ('possibilities', 2), ('probabilities,', 1), ('fondly', 1), ('certainty.', 1), ('conjoined', 1), ('techni�', 2), ('cal', 3), ('season�on�the�line.', 2), ('consecutive', 3), ('periodically', 3), ('loiters', 1), ('predicted', 1), ('zodiac.', 1), ('encounters', 2), ('deeds;', 1), ('cautious', 3), ('comprehensiveness', 3), ('unloitering', 1), ('vigilance', 5), ('hopes', 3), ('mentioned,', 4), ('ﬂattering', 2), ('hopes;', 1), ('sleeplessness', 1), ('vow', 1), ('unquiet', 1), ('postpone', 1), ('intervening', 3), ('quest.', 1), ('southwards,', 1), ('equatorial', 7), ('ensuing', 3), ('season.', 1), ('premature', 1), ('covertly', 1), ('197', 1), ('sixty�ﬁve', 3), ('impa�', 2), ('tiently', 1), ('enduring', 2), ('hunt;', 1), ('vacation', 1), ('feeding�grounds,', 1), ('gulf,', 1), ('bengal', 2), ('race.', 4), ('monsoons,', 1), ('pampas,', 1), ('nor�westers,', 1), ('harmattans,', 1), ('trades;', 1), ('levanter', 1), ('simoom,', 1), ('devious', 2), ('zig�zag', 1), ('world�circle', 1), ('circumnavigating', 2), ('wake.', 7), ('discreetly', 1), ('coolly,', 1), ('recognition', 2), ('white�bearded', 1), ('mufti', 1), ('thronged', 1), ('constantinople?', 1), ('unmistakable.', 1), ('tallied', 2), ('poring', 2), ('escape?', 1), ('bored,', 1), ('scalloped', 1), ('sheep’s', 1), ('ear!', 1), ('breathless', 2), ('race;', 1), ('weariness', 2), ('faintness', 1), ('recover', 2), ('hisstrength.', 1), ('trances', 2), ('torments', 3), ('consumed', 4), ('unachieved', 1), ('revengeful', 1), ('desire.', 1), ('clenched', 5), ('exhausting', 2), ('intolerably', 5), ('resuming', 4), ('clashing', 1), ('phrensies,', 1), ('throbbing', 3), ('life�spot', 1), ('guish;', 1), ('throes', 1), ('base,', 3), ('chasm', 1), ('lightnings', 3), ('ﬁends', 3), ('beckoned', 1), ('yawned', 3), ('glaring', 2), ('escaping', 4), ('unsuppressable', 1), ('weakness,', 1), ('fright', 1), ('resolve,', 1), ('plainest', 2), ('intensity.', 1), ('scheming,', 1), ('unappeasedly', 1), ('hunter', 6), ('dissociated', 1), ('characterizing', 1), ('198', 1), ('vehicle', 1), ('spontaneously', 1), ('contiguity', 1), ('integral.', 1), ('exist', 3), ('leagued', 2), ('yielding', 3), ('purpose;', 3), ('sheer', 3), ('inveteracy', 1), ('devils', 10), ('self�assumed,', 1), ('indepen�', 1), ('dent', 2), ('grimly', 2), ('conjoined,', 1), ('horrorstricken', 1), ('unfathered', 1), ('glared', 4), ('vacated', 1), ('form�', 1), ('somnambulistic', 1), ('ray', 1), ('blankness', 1), ('prometheus;', 1), ('vulture', 3), ('ever;', 3), ('creates.', 1), ('book;', 2), ('particulars', 6), ('chapter,', 5), ('volume;', 2), ('adequately', 7), ('understood,', 1), ('incredulity', 1), ('verity', 1), ('methodically;', 1), ('citations', 1), ('items,', 2), ('reliably', 2), ('whaleman;', 3), ('citations,', 1), ('aimed', 1), ('effected', 3), ('escape;', 1), ('years),', 1), ('slain;', 3), ('irons,', 2), ('cypher,', 1), ('intervened', 1), ('poons;', 1), ('happening,', 1), ('trading', 1), ('party,', 1), ('penetrated', 3), ('interior,', 1), ('endangered', 2), ('serpents,', 2), ('tigers,', 1), ('poisonous', 2), ('miasmas,', 1), ('incident', 5), ('wander�', 1), ('regions.', 1), ('travels;', 1), ('circumnavigated', 1), ('brushing', 2), ('ﬂanks', 4), ('africa;', 1), ('200', 1), ('vanquished', 1), ('struck;', 2), ('attack,', 1), ('irons', 9), ('three�year', 1), ('previous.', 2), ('veracity', 1), ('impeach.', 1), ('secondly:', 3), ('histori�', 1), ('cognisable.', 1), ('killing', 4), ('perilousness', 1), ('rinaldo', 1), ('rinaldini,', 1), ('recognise', 2), ('cultivate', 1), ('quaintance.', 1), ('irascible', 1), ('unobtrusive', 1), ('salutations', 2), ('acquaintance', 1), ('summary', 3), ('presumption.', 1), ('celebrity', 1), ('ocean�wide', 1), ('renown;', 1), ('rights,', 2), ('privileges,', 1), ('cambyses', 1), ('timor', 1), ('jack!', 1), ('famed', 3), ('scarred', 1), ('iceberg,', 2), ('palmy', 3), ('ombay?', 1), ('tom!', 1), ('cruisers', 1), ('tattoo', 1), ('morquan!', 1), ('assumed', 4), ('semblance', 2), ('don', 14), ('miguel!', 1), ('chilian', 1), ('tortoise', 1), ('hieroglyphics', 2), ('back!', 2), ('prose,', 1), ('201', 1), ('students', 1), ('cetacean', 3), ('marius', 1), ('sylla', 1), ('classic', 1), ('scholar.', 1), ('tom', 1), ('miguel,', 1), ('creating', 1), ('havoc', 3), ('systematically', 3), ('anchors', 7), ('narragansett', 1), ('notorious', 3), ('annawon,', 1), ('headmost', 1), ('philip.', 1), ('important,', 2), ('printed', 2), ('establish�', 1), ('reasonableness', 1), ('catastrophe.', 2), ('disheartening', 1), ('bolstering', 1), ('error.', 1), ('historical', 7), ('otherwise,', 4), ('scout', 1), ('fable,', 1), ('detestable,', 1), ('allegory.', 1), ('conception', 2), ('perils,', 4), ('frequency', 1), ('recur.', 1), ('disasters', 3), ('deaths', 1), ('casualties', 1), ('transient', 1), ('record.', 2), ('whale�line', 5), ('guinea,', 1), ('obituary', 1), ('breakfast?', 1), ('mails', 1), ('guinea.', 1), ('indirect', 1), ('guinea?', 1), ('boat’s', 36), ('lamps', 3), ('candles!', 1), ('two�fold', 1), ('enormousness,', 1), ('signiﬁ�', 2), ('cantly', 2), ('complimented', 1), ('facetiousness;', 1), ('202', 1), ('facetious', 3), ('moses,', 1), ('plagues', 1), ('egypt.', 1), ('fortunately', 1), ('testimony', 3), ('powerful,', 1), ('knowing,', 1), ('malicious,', 1), ('destroy,', 1), ('1820', 1), ('essex,', 1), ('pollard,', 1), ('spouts,', 3), ('wounded;', 1), ('shoal,', 3), ('dashing', 8), ('minutes”', 1), ('severest', 3), ('exposure,', 1), ('pollard', 2), ('shipwrecked', 2), ('breakers;', 1), ('lost,', 1), ('forthwith', 3), ('forswearing', 1), ('tempted', 2), ('resident', 1), ('tragedy;', 1), ('narrative;', 1), ('son;', 2), ('chase’s', 1), ('narrative:', 1), ('warrant', 1), ('cluding', 1), ('directed', 5), ('operations;', 1), ('attacks', 2), ('direction,', 4), ('injury,', 2), ('ahead,', 12), ('combining', 1), ('shock;', 1), ('manoeuvres', 1), ('necessary.', 1), ('horrible,', 1), ('indicated', 2), ('resentment', 1), ('fury.', 1), ('entered,', 1), ('companions,', 1), ('ﬁred', 1), ('revenge', 4), ('sufferings.”', 1), ('again:', 4), ('producing,', 1), ('decided,', 2), ('mischief,', 1), ('(many', 1), ('recall),', 1), ('correct', 4), ('opinion.”', 1), ('shore.', 4), ('fears', 3), ('moment’s', 4), ('wreck,', 5), ('engrossed', 1), ('reﬂections,', 1), ('appearance.”', 1), ('p.', 1), ('45,', 1), ('speaks', 4), ('animal.”', 1), ('203', 1), ('union,', 1), ('1807', 1), ('azores', 1), ('onset,', 2), ('authentic', 2), ('catastrophe', 1), ('thirdly:', 1), ('j——', 1), ('manding', 1), ('sloop�of�war', 2), ('class,', 1), ('dining', 3), ('oahu,', 1), ('sand�', 1), ('wich', 1), ('conversation', 4), ('sceptical', 2), ('amazing', 5), ('peremptorily', 4), ('smite', 2), ('thimbleful.', 1), ('good;', 2), ('valparaiso.', 1), ('moments’', 1), ('consisted', 2), ('commodore’s', 2), ('thwack,', 1), ('pumps', 8), ('repair.', 1), ('superstitious,', 1), ('interview', 1), ('providential.', 1), ('saul', 1), ('tarsus', 1), ('unbelief', 1), ('fright?', 1), ('nonsense.', 1), ('langsdorff’s', 1), ('oyages', 1), ('hereof.', 1), ('langsdorff,', 1), ('russian', 4), ('krusenstern’s', 1), ('expedition', 1), ('century.', 1), ('langsdorff', 1), ('teenth', 2), ('chapter.', 4), ('thirteenth', 1), ('ochotsk.', 1), ('fur', 1), ('clothing.', 1), ('wind;', 2), ('nineteenth', 1), ('northwest', 1), ('danger,', 2), ('204', 1), ('reeled,', 1), ('rock;', 2), ('gravity', 3), ('solemnity.', 1), ('d’wolf', 2), ('examine', 4), ('damage', 1), ('uninjured.”', 1), ('englander,', 1), ('sea�captain,', 2), ('dorchester', 1), ('boston.', 1), ('nephew', 1), ('langsdorff.', 1), ('substantiates', 1), ('one:', 1), ('siberian', 1), ('purchased', 3), ('bartering', 1), ('manly', 2), ('adventure,', 1), ('full,', 3), ('lionel', 2), ('wafer,', 1), ('dampier’s', 1), ('chums', 1), ('langs�', 1), ('dorff,', 1), ('forbear', 2), ('corroborative', 1), ('needed.', 3), ('lionel,', 1), ('“john', 1), ('ferdinando,”', 1), ('juan', 1), ('fernandes.', 1), ('thither,”', 1), ('america,', 2), ('think;', 2), ('prepare', 2), ('violent,', 3), ('granted', 1), ('amazement', 5), ('lead,', 1), ('sounded,', 3), ('suddenness', 1), ('guns', 2), ('carriages,', 1), ('shaken', 4), ('hammocks.', 1), ('davis,', 1), ('gun,', 1), ('cabin!”', 1), ('impute', 2), ('earthquake,', 2), ('substantiate', 1), ('imputation', 2), ('stating', 3), ('bumping', 1), ('beneath.', 2), ('examples,', 1), ('assailing', 1), ('205', 1), ('hurled', 5), ('decks.', 3), ('pusie', 1), ('examples', 2), ('have,', 3), ('transferred', 3), ('horse', 4), ('walks', 3), ('cart.', 1), ('struck,', 2), ('rally,', 1), ('acts,', 1), ('rage,', 1), ('wilful,', 1), ('designs', 1), ('conveying', 2), ('eloquent', 1), ('expansion', 2), ('minutes.', 1), ('illustration;', 1), ('corroborated', 1), ('marvels)', 1), ('repetitions', 1), ('ages;', 2), ('millionth', 1), ('amen', 1), ('solomon', 4), ('verily', 3), ('procopius,', 1), ('magistrate', 1), ('stantinople,', 1), ('justinian', 1), ('belisarius', 1), ('general.', 2), ('value.', 1), ('trustworthy', 1), ('unexaggerating', 1), ('historian,', 1), ('particulars,', 2), ('affecting', 1), ('procopius', 1), ('mentions', 1), ('prefecture', 1), ('constantinople,', 1), ('sea�monster', 3), ('propontis,', 2), ('marmora,', 1), ('years.', 4), ('easily', 7), ('gainsaid.', 1), ('why.', 1), ('connecting', 1), ('constitution', 1), ('habitual', 1), ('gregarious', 1), ('resort.', 1), ('investigations', 2), ('mediterranean.', 1), ('barbary', 2), ('davies', 1), ('passes', 2), ('dardanelles,', 1), ('206', 1), ('route,', 1), ('propontis.', 2), ('learn,', 2), ('substance', 13), ('aliment', 1), ('cuttle�ﬁsh', 1), ('clearly', 2), ('reasoning,', 1), ('procopius’s', 1), ('sea�monster,', 1), ('emperor,', 1), ('hough,', 1), ('actions', 2), ('interests', 2), ('passion;', 1), ('habituation', 1), ('collateral', 3), ('inﬂuential', 1), ('reﬁning', 1), ('slew', 1), ('multiplied', 2), ('subse�', 1), ('quently', 1), ('hypothesis', 2), ('exceptionable,', 1), ('ruling', 1), ('passion,', 1), ('incapable', 3), ('swaying', 6), ('accomplish', 1), ('tools;', 1), ('tools', 2), ('moon,', 4), ('apt', 8), ('knew,', 1), ('exam�', 1), ('ple,', 1), ('ascendency', 3), ('involves', 1), ('mastership;', 1), ('relation.', 1), ('coerced', 1), ('ahab’s,', 2), ('magnet', 2), ('buck’s', 1), ('quest,', 2), ('joyfully', 2), ('disintegrate', 1), ('frustrate', 1), ('208', 1), ('relapses', 1), ('rebellion', 2), ('leadership,', 1), ('ordinary,', 1), ('pru�', 1), ('dential,', 1), ('respecting', 2), ('manifested', 4), ('superlative', 2), ('shrewdness', 1), ('foreseeing', 2), ('imagi�', 1), ('impiousness', 1), ('obscure', 1), ('background', 1), ('men’s', 5), ('proof', 2), ('protracted', 2), ('unrelieved', 3), ('action);', 1), ('impetuously', 2), ('announcement', 3), ('quest;', 1), ('capricious', 2), ('unreliable', 1), ('inhale', 2), ('ﬁckleness', 1), ('pursuit,', 4), ('promissory', 1), ('requisite', 2), ('employments', 1), ('intervene', 1), ('healthily', 1), ('dash.', 1), ('considerations;', 1), ('evanescent.', 1), ('constitutional', 2), ('sordidness.', 1), ('incites', 1), ('playing', 4), ('savageness', 1), ('breeds', 3), ('knight�errantism', 1), ('appetities.', 1), ('chivalric', 1), ('crusaders', 1), ('traverse', 1), ('sepulchre,', 1), ('burglaries,', 1), ('perquisites', 1), ('disgust.', 1), ('cash', 4), ('cash.', 1), ('scorn', 3), ('perspective', 1), ('quiescent', 1), ('mutinying', 1), ('cashier', 1), ('precautionary', 1), ('impulsively,', 1), ('probable,', 1), ('prematurely', 2), ('unanswerable', 1), ('usurpation;', 1), ('perfect', 3), ('impunity,', 1), ('legal,', 1), ('disposed,', 2), ('competent,', 1), ('fur�', 3), ('ther', 6), ('obedience', 6), ('wrest', 4), ('209', 1), ('barely', 2), ('usurpation,', 1), ('consequences', 1), ('suppressed', 1), ('ground,', 11), ('protect', 2), ('protection', 1), ('consist', 2), ('predominating', 1), ('backed', 4), ('heedful,', 2), ('atmospheric', 4), ('subjected', 1), ('analytic', 1), ('verbally', 3), ('veloped', 1), ('natural,', 3), ('nominal', 1), ('customary', 13), ('us�', 1), ('evince', 3), ('profession.', 1), ('mast�', 4), ('admonishing', 1), ('look�out,', 1), ('reporting', 2), ('reward.', 1), ('cloudy,', 1), ('sultry', 2), ('afternoon;', 2), ('lazily', 5), ('lead�colored', 1), ('weaving', 7), ('sword�mat,', 1), ('lashing', 7), ('subdued', 3), ('preluding', 3), ('revery', 1), ('attendant', 1), ('repassing', 1), ('woof', 4), ('marline', 1), ('warp,', 2), ('shuttle,', 1), ('sideways,', 2), ('sword', 7), ('threads,', 1), ('idly', 3), ('unthinkingly', 2), ('drove', 3), ('yarn:', 1), ('dreaminess', 1), ('reign', 2), ('intermitting', 1), ('loom', 4), ('shuttle', 5), ('fates.', 1), ('threads', 4), ('warp', 9), ('single,', 2), ('returning,', 1), ('unchanging', 2), ('vibration', 2), ('interblending', 2), ('necessity;', 1), ('ply', 2), ('destiny', 2), ('threads.', 1), ('impulsive,', 1), ('hitting', 2), ('slantingly,', 1), ('crookedly,', 1), ('strongly,', 1), ('weakly,', 1), ('completed', 3), ('fabric;', 1), ('shapes', 4), ('fashions', 1), ('woof;', 1), ('necessity', 4), ('incompatible', 2), ('interweavingly', 1), ('211', 1), ('necessity,', 2), ('swerved', 1), ('alternating', 4), ('threads;', 1), ('restrained', 1), ('motions', 7), ('prescribed', 1), ('both,', 4), ('featuring', 1), ('events.', 1), ('drawn,', 2), ('musically', 1), ('unearthly,', 2), ('wing.', 2), ('gay�header,', 1), ('forward,', 9), ('wand,', 2), ('cries.', 2), ('outs', 1), ('perched', 8), ('indian’s.', 1), ('seer', 2), ('fate,', 2), ('blows!”', 3), ('“where�away?”', 1), ('lee�beam,', 1), ('them!”', 1), ('commotion.', 3), ('ticks,', 1), ('reli�', 2), ('uniformity.', 1), ('tribes', 2), ('genus.', 1), ('ﬂukes!”', 2), ('tashtego;', 3), ('disap�', 1), ('peared.', 1), ('steward!”', 1), ('“time!', 1), ('heading', 6), ('conﬁdently', 2), ('sin�', 1), ('gular', 1), ('mills', 1), ('deceitfulness', 2), ('action;', 1), ('alarmed,', 2), ('212', 1), ('shipkeepers', 1), ('appointed', 3), ('mizzen', 1), ('places;', 3), ('cranes', 2), ('mainyard', 1), ('backed,', 1), ('samphire', 1), ('baskets', 1), ('cliffs.', 2), ('clung', 3), ('rail,', 4), ('expectantly', 2), ('poised', 3), ('gunwale.', 2), ('man�of�war’s', 2), ('enemy’s', 2), ('phantoms,', 3), ('tackles', 12), ('bands', 3), ('technically', 6), ('captain’s,', 1), ('quarter.', 4), ('swart,', 1), ('tooth', 3), ('evilly', 1), ('protruding', 1), ('steel�like', 1), ('chinese', 5), ('funereally', 1), ('stuff.', 1), ('ebonness', 1), ('plaited', 4), ('turban,', 1), ('coiled', 10), ('vivid,', 1), ('tiger�yellow', 4), ('natives', 2), ('manillas;', 1), ('diabolism', 2), ('subtilty,', 1), ('spies', 1), ('agents', 1), ('devil,', 6), ('countingroom', 1), ('elsewhere.', 2), ('strangers,', 2), ('white�turbaned', 1), ('fedallah?”', 1), ('“ready,”', 1), ('half�hissed', 1), ('hear?”', 1), ('rail;', 1), ('blocks;', 1), ('wallow,', 2), ('dexterous,', 1), ('off�handed', 1), ('goat�like,', 1), ('leaped', 11), ('214', 1), ('fourth', 9), ('rowing', 3), ('widely,', 1), ('“spread', 1), ('yourselves,”', 1), ('“give', 9), ('leeward!”', 1), ('steer�', 1), ('oar.', 2), ('“lay', 2), ('back!”', 2), ('addressing', 4), ('“there!', 2), ('archy.”', 1), ('’em,', 5), ('archy;', 1), ('cabaco', 1), ('cabaco?', 1), ('stowaways,', 1), ('flask.”', 1), ('“pull,', 2), ('pull,', 16), ('hearts�alive;', 1), ('children;', 3), ('ones,”', 1), ('drawl�', 1), ('soothingly', 1), ('sighed', 2), ('uneasiness.', 1), ('backbones,', 2), ('boys?', 1), ('stare', 1), ('at?', 1), ('boat?', 1), ('tut!', 1), ('merrier.', 1), ('pull;', 1), ('pounds;', 2), ('stakes!', 1), ('cup', 3), ('heroes!', 1), ('alive!', 2), ('easy;', 1), ('hurry.', 1), ('oars,', 11), ('rascals?', 1), ('bite', 4), ('dogs!', 1), ('softly,', 3), ('softly!', 1), ('strong.', 1), ('ragamufﬁn', 1), ('rapscallions;', 1), ('snoring,', 1), ('sleepers,', 2), ('pull.', 1), ('gudgeons', 1), ('ginger�cakes', 1), ('pull?', 1), ('something!', 1), ('girdle;', 1), ('“ev�', 1), ('ery', 1), ('something;', 1), ('steel�bits.', 1), ('silver�spoons!', 1), ('marling�spikes!”', 1), ('exordium', 1), ('inculcating', 2), ('gion', 1), ('rowing.', 2), ('sermonizings', 1), ('passions', 2), ('congregation.', 1), ('215', 1), ('peculiarity.', 1), ('compounded', 1), ('fury,', 1), ('spice', 1), ('fun,', 2), ('oarsman', 9), ('invocations', 1), ('indolent', 6), ('loungingly', 1), ('managed', 1), ('steering�oar,', 1), ('broadly', 2), ('gaped', 2), ('open�mouthed', 3), ('commander,', 5), ('contrast,', 2), ('morists,', 1), ('inferiors', 1), ('guard', 4), ('bow;', 2), ('please!”', 1), ('“halloa!”', 1), ('whisperingly', 1), ('urging', 1), ('ﬂint', 2), ('stubb’s.', 1), ('sir!”', 4), ('“smuggled', 1), ('(strong,', 1), ('boys!)”', 1), ('(seethe', 1), ('lads!)', 1), ('(spring,', 1), ('spring!)', 1), ('hogsheads', 1), ('(pull,', 1), ('boys!)', 1), ('sperm,', 8), ('sperm’s', 1), ('duty;', 1), ('hand!”', 1), ('diverged,', 1), ('“as', 5), ('clapt', 1), ('suspected.', 1), ('helped!', 1), ('right!', 1), ('to�day!', 2), ('way!”', 3), ('advent', 1), ('company;', 2), ('archy’s', 2), ('event.', 2), ('conﬁdent', 3), ('accounting', 1), ('appearance,', 5), ('freed', 2), ('surmisings;', 1), ('conjectures', 1), ('agency', 3), ('216', 1), ('beginning.', 1), ('recalled', 4), ('creeping', 2), ('enigmatical', 2), ('hintings', 1), ('sided', 1), ('boats;', 8), ('whalebone;', 1), ('trip�hammers', 1), ('strokes', 1), ('hor�', 1), ('izontal', 1), ('boiler', 1), ('mississippi', 1), ('steamer.', 2), ('fedallah,', 2), ('oar,', 11), ('displayed', 3), ('gunwale,', 6), ('depressions', 2), ('fencer’s,', 1), ('counterbalance', 1), ('tendency', 4), ('trip;', 1), ('steadily', 9), ('managing', 1), ('oar', 9), ('lowerings', 2), ('outstretched', 3), ('peaked.', 1), ('motionless', 6), ('discernible', 3), ('movement,', 2), ('oar!”', 1), ('“thou,', 1), ('up!”', 4), ('nimbly', 1), ('springing', 4), ('intensely', 4), ('descried.', 4), ('triangularly', 1), ('platformed', 1), ('adroitly', 1), ('balancing', 3), ('jerking', 6), ('tossings', 2), ('chip', 5), ('breathlessly', 1), ('still;', 4), ('comman�', 1), ('der', 1), ('loggerhead,', 2), ('rooted', 5), ('platform.', 1), ('spacious', 2), ('palm', 4), ('sunk', 3), ('loggerhead', 3), ('stand�point', 2), ('king�post.', 2), ('217', 1), ('gunwale', 11), ('erecting', 2), ('volunteered', 1), ('pedestal.', 1), ('mount?”', 1), ('fellow;', 1), ('taller.”', 1), ('ﬁrmly', 12), ('ﬂat', 4), ('bidding', 1), ('toss,', 2), ('ﬂing', 3), ('dryon', 1), ('shoulders.', 1), ('furnishing', 4), ('breast�band', 1), ('by.', 6), ('tyro', 2), ('habitude', 1), ('riotously', 1), ('perverse', 1), ('cross�running', 1), ('giddily', 1), ('curious;', 1), ('sustaining', 2), ('indifferent,', 1), ('unthought', 1), ('majesty,', 1), ('harmoniously', 1), ('ﬂaxen�haired', 1), ('snow�ﬂake.', 1), ('bearer', 1), ('nobler', 3), ('rider.', 1), ('vivacious,', 1), ('tumultuous,', 1), ('osten�', 1), ('tatious', 1), ('stamp', 2), ('impatience;', 1), ('negro’s', 1), ('lordly', 2), ('chest.', 2), ('stamping', 1), ('alter', 2), ('betrayed', 5), ('far�gazing', 1), ('solicitudes.', 1), ('soundings,', 3), ('fright;', 1), ('languishing', 1), ('hatband,', 1), ('aslant', 1), ('feather.', 1), ('loaded', 10), ('rammed', 2), ('thumb�end;', 1), ('ignited', 1), ('sand�paper', 1), ('stars,', 3), ('attitude', 2), ('phrensy', 1), ('“down,', 1), ('are!”', 1), ('greenish', 2), ('218', 1), ('suffusingly', 1), ('confused', 2), ('billows.', 1), ('vibrated', 3), ('tingled,', 1), ('heated', 1), ('plates', 5), ('iron.', 4), ('curling,', 3), ('partially', 4), ('swimming.', 5), ('indications,', 1), ('spouted,', 1), ('forerunning', 1), ('couriers', 1), ('outriders.', 1), ('bade', 5), ('outstrip', 1), ('hills.', 4), ('boys,”', 1), ('lowest', 3), ('intens�', 1), ('concentrated', 3), ('erring', 1), ('compasses.', 2), ('startlingly', 1), ('pierced', 4), ('whispers,', 1), ('harsh', 1), ('entreaty.', 1), ('hearties.', 2), ('thunderbolts!', 1), ('backs,', 2), ('vineyard', 2), ('plantation,', 1), ('children,', 4), ('boys.', 3), ('on!', 5), ('lord!', 5), ('stark,', 2), ('mad:', 1), ('water!”', 1), ('shouting,', 1), ('stamped', 3), ('ﬂirted', 2), ('crazed', 3), ('prairie.', 1), ('philosophically', 1), ('drawled', 1), ('ﬁts,', 1), ('fits?', 1), ('merrily,', 2), ('hearts�alive.', 1), ('pudding', 1), ('babes', 1), ('sucklings', 1), ('about?', 4), ('pulling;', 1), ('livers', 2), ('lungs!”', 1), ('audacious', 4), ('tornado', 1), ('murder,', 1), ('foam�glued', 1), ('219', 1), ('lips,', 2), ('ﬁctitious', 1), ('incessantly', 4), ('tantalizing', 3), ('life�like,', 1), ('shoulder.', 1), ('rule;', 1), ('oarsmen', 13), ('ram', 3), ('skewer', 3), ('necks;', 2), ('pronouncing', 3), ('organs', 3), ('moments.', 1), ('awe!', 1), ('swells', 5), ('surging,', 1), ('gunwales,', 4), ('bowls', 1), ('bowling�green;', 1), ('knife�like', 1), ('sharper', 3), ('two;', 2), ('glens', 2), ('hollows;', 1), ('spurrings', 1), ('goadings', 1), ('hill;', 2), ('headlong,', 1), ('sled�like', 1), ('gasps', 1), ('oarsmen,', 2), ('screaming', 4), ('brood;', 1), ('thrilling.', 1), ('raw', 1), ('recruit,', 1), ('fever', 2), ('battle;', 2), ('charmed,', 1), ('churned', 3), ('dun', 1), ('cloud�shadows', 1), ('blended,', 1), ('tilted', 2), ('separating', 3), ('wakes.', 1), ('leeward.', 5), ('along;', 3), ('worked', 8), ('row�locks.', 1), ('suffusing', 1), ('mist;', 1), ('sheet', 4), ('to!', 5), ('spring!”', 1), ('succession', 3), ('denoted', 3), ('220', 1), ('overheard,', 1), ('lightning�', 1), ('hurtling', 2), ('“stand', 10), ('wallowing', 2), ('elephants', 7), ('stirring', 4), ('litter.', 1), ('mist,', 5), ('curling', 4), ('hissing', 4), ('crests', 1), ('serpents.', 2), ('queg.', 1), ('ledge;', 1), ('collapsed', 2), ('ploded;', 1), ('by;', 7), ('earthquake', 2), ('suffocated', 1), ('helter�skelter', 2), ('curdling', 1), ('cream', 2), ('escaped.', 1), ('swamped,', 1), ('unharmed.', 1), ('places.', 2), ('howl;', 1), ('bucklers', 1), ('roared,', 1), ('forked,', 1), ('crackled', 1), ('prairie,', 1), ('unconsumed,', 1), ('burning;', 1), ('death!', 3), ('coals', 2), ('furnace', 2), ('scud,', 1), ('darker', 5), ('bale', 2), ('propellers,', 1), ('life�preservers.', 1), ('waterproof', 1), ('keg,', 1), ('failures', 2), ('contrived', 4), ('ignite', 1), ('lantern;', 1), ('stretching', 4), ('waif', 3), ('pole,', 8), ('handed', 4), ('standard�bearer', 1), ('imbecile', 1), ('forlornness.', 1), ('wet,', 3), ('drenched', 3), ('through,', 5), ('221', 1), ('dawn', 3), ('mist', 3), ('hollowing', 1), ('ear.', 2), ('creaking,', 1), ('ropes', 7), ('nearer;', 1), ('mists', 2), ('dimly', 7), ('huge,', 2), ('affrighted,', 1), ('loomed', 5), ('floating', 2), ('abandoned', 7), ('cataract;', 1), ('astern.', 6), ('cruising,', 2), ('perishing,', 1), ('occasions', 3), ('joke,', 1), ('wit', 1), ('thereof', 1), ('discerns,', 1), ('no�', 1), ('body’s', 4), ('expense', 2), ('dispirits,', 1), ('disputing.', 1), ('creeds,', 1), ('beliefs,', 1), ('persuasions,', 1), ('invisible,', 2), ('knobby;', 1), ('ostrich', 1), ('po�', 1), ('digestion', 1), ('gobbles', 1), ('bullets', 1), ('ﬂints.', 1), ('difﬁculties', 1), ('worryings,', 1), ('disaster,', 1), ('limb;', 3), ('sly,', 1), ('good�natured', 2), ('hits,', 1), ('punches', 1), ('joker.', 1), ('wayward', 1), ('tribula�', 1), ('tion;', 1), ('earnestness,', 1), ('momentous,', 1), ('joke.', 1), ('desperado', 3), ('friend,', 2), ('happen?”', 1), ('emotion,', 2), ('happen.', 1), ('worthy,', 1), ('oil�jacket,', 1), ('met,', 2), ('prudent.', 1), ('223', 1), ('foggy', 1), ('discretion?”', 1), ('“certain.', 1), ('leaking', 1), ('back�foremost', 1), ('death’s', 1), ('jaws?”', 1), ('twist', 2), ('smaller?”', 1), ('law.', 4), ('foremost.', 3), ('squint', 1), ('squint,', 1), ('impartial', 2), ('witnesses,', 1), ('considering,', 2), ('squalls', 3), ('capsizings', 1), ('consequent', 3), ('bivouacks', 1), ('occurrence', 2), ('resign', 1), ('often�', 1), ('impetuousness', 1), ('scuttling', 1), ('stampings;', 1), ('disaster', 3), ('imputed', 3), ('driv�', 1), ('notwithstanding,', 3), ('heedfulness', 1), ('consider�', 1), ('implicated,', 1), ('whale:', 1), ('draft', 1), ('lawyer,', 1), ('executor,', 1), ('legatee.”', 1), ('tinkering', 1), ('wills', 1), ('testaments,', 1), ('fond', 5), ('diversion.', 2), ('easier;', 1), ('heart.', 6), ('supplementary', 4), ('burial', 3), ('contentedly,', 1), ('bars', 1), ('vault.', 1), ('frock,', 2), ('hindmost.', 1), ('ho', 1), ('flask!”', 1), ('catch', 11), ('plug�hole', 1), ('toe.', 1), ('man!”', 2), ('account,”', 1), ('hip,', 2), ('disable', 1), ('kneel.”', 1), ('whale�wise', 1), ('jeopardize', 1), ('tamer�', 1), ('lane’s', 1), ('invaluable', 3), ('ﬁght.', 2), ('hobbling', 1), ('danger;', 1), ('difﬁculties;', 1), ('maimed', 1), ('joint�owners', 1), ('action', 4), ('apportioned', 1), ('solicited', 1), ('225', 1), ('measures', 3), ('published', 7), ('discovery,', 1), ('foreseen', 1), ('ﬁtting', 1), ('whaleboats', 3), ('service;', 1), ('bestirring', 1), ('thole�pins', 1), ('solicitously', 1), ('skewers,', 1), ('pinned', 1), ('groove', 1), ('bow:', 1), ('solicitude', 2), ('sheathing', 1), ('shaping', 2), ('thigh', 6), ('cleat,', 3), ('knee', 3), ('stabbing', 3), ('semi�circular', 1), ('depression', 2), ('chisel', 1), ('gouged', 1), ('straightened', 4), ('preparative', 1), ('heed�', 1), ('fulness', 1), ('supposition', 2), ('involve', 6), ('subordinate', 3), ('waned', 2), ('wane.', 1), ('unac�', 1), ('countable', 1), ('nooks', 1), ('ash�holes', 1), ('outlaws', 1), ('whale�boats,', 1), ('blown�off', 1), ('junks,', 1), ('beelzebub', 1), ('create', 1), ('unsubduable', 1), ('excitement', 4), ('hair�turbaned', 1), ('mannerly', 1), ('tie', 1), ('fortunes;', 1), ('half�hinted', 1), ('inﬂuence;', 2), ('sustain', 2), ('226', 1), ('fedallah.', 2), ('temperate', 3), ('dreams,', 3), ('dimly;', 1), ('glide', 2), ('asiatic', 3), ('communities,', 1), ('insulated,', 1), ('immemorial,', 2), ('countries,', 1), ('ghostly', 3), ('aboriginalness', 1), ('recollection,', 1), ('descendants,', 1), ('unknowing', 1), ('came,', 2), ('eyed', 6), ('genesis,', 1), ('angels', 4), ('daughters', 3), ('uncanonical', 1), ('rabbins,', 1), ('indulged', 1), ('amours.', 1), ('d', 3), ('ays,', 1), ('pequodhad', 1), ('cruising�grounds;', 1), ('azores;', 1), ('verdes;', 1), ('(so', 1), ('called),', 1), ('rio', 2), ('la', 2), ('plata;', 1), ('carrol', 1), ('unstaked,', 1), ('locality,', 1), ('southerly', 2), ('helena.', 1), ('scrolls', 1), ('suffus�', 1), ('seethings,', 1), ('silvery', 5), ('solitude:', 1), ('bow.', 5), ('lit', 5), ('celestial;', 1), ('plumed', 1), ('jet.', 2), ('nights,', 1), ('precision', 1), ('emotions,', 1), ('hours;', 3), ('turban', 1), ('sky.', 4), ('successive', 4), ('uttering', 2), ('sound;', 2), ('silvery,', 1), ('moon�lit', 1), ('jet,', 5), ('reclining', 2), ('winged', 2), ('trump', 2), ('blown,', 1), ('quivered', 1), ('terror;', 1), ('pleasure.', 3), ('impressive', 2), ('exciting,', 1), ('instinctively', 5), ('lowering.', 3), ('side�lunging', 1), ('strides,', 1), ('t’gallant', 1), ('royals', 3), ('stunsail', 3), ('spread.', 3), ('228', 1), ('helm.', 3), ('manned,', 1), ('piled�up', 1), ('upheaving,', 1), ('ﬁll�', 1), ('hollows', 1), ('buoyant,', 1), ('feet;', 4), ('antagonistic', 1), ('struggling', 5), ('yaw�', 1), ('goal.', 1), ('watched', 5), ('warring.', 1), ('echoes', 1), ('limb', 3), ('cofﬁn�tap.', 1), ('walked.', 1), ('sped,', 2), ('arrows,', 1), ('midnight�spout', 1), ('announced:', 1), ('overtake', 3), ('jetted', 2), ('moonlight,', 1), ('starlight,', 1), ('disappearing', 1), ('three;', 1), ('repetition', 2), ('van,', 4), ('alluring', 1), ('superstition', 2), ('accordance', 2), ('preternaturalness,', 1), ('descried;', 2), ('longi�', 1), ('unnearable', 2), ('apparition,', 1), ('treacherously', 2), ('beckoning', 2), ('rend', 1), ('apprehensions,', 2), ('blandness,', 1), ('charm,', 1), ('voyaged', 1), ('wearily,', 1), ('lonesomely', 1), ('mild,', 6), ('space,', 3), ('vengeful', 5), ('errand,', 1), ('vacating', 1), ('urn�', 1), ('eastward,', 2), ('ivory�tusked', 1), ('sharply', 1), ('blast,', 2), ('gored', 1), ('229', 1), ('till,', 2), ('showers', 3), ('chips,', 1), ('foam�ﬂakes', 1), ('vacuity', 1), ('thither', 3), ('sea�ravens.', 1), ('stays,', 1), ('hootings,', 1), ('obstinately', 1), ('hemp,', 3), ('drifting,', 1), ('uninhabited', 2), ('roosting�place', 1), ('homeless', 1), ('selves.', 1), ('heaved,', 1), ('remorse', 1), ('suffering', 3), ('bred.', 1), ('tormentoso,', 1), ('yore;', 2), ('allured', 3), ('perﬁdious', 2), ('silences', 1), ('transformed', 1), ('everlastingly', 1), ('store,', 1), ('snow�white,', 1), ('unvarying;', 1), ('directing', 3), ('feathers', 3), ('sky;', 5), ('elements,', 2), ('gloomiest', 1), ('reserve;', 1), ('secured,', 1), ('passively', 1), ('await', 1), ('issue', 4), ('fatalists.', 1), ('congeal', 1), ('eyelashes', 1), ('burstingly', 1), ('waist;', 2), ('bowline', 1), ('loosened', 2), ('belt.', 1), ('spo�', 2), ('ken;', 1), ('wax,', 1), ('gladness', 1), ('demoniac', 2), ('prevailed;', 1), ('bowlines;', 3), ('wordless', 1), ('blast.', 1), ('demanding', 3), ('barometer', 1), ('230', 1), ('ﬂoor�screwed', 1), ('rain', 1), ('half�melted', 1), ('emerged,', 1), ('dripping', 6), ('unremoved', 1), ('coat.', 1), ('unrolled', 1), ('ken', 1), ('tightly', 1), ('tell�tale', 2), ('beam', 1), ('ceiling.', 1), ('shudder,', 2), ('eyest', 1), ('cabin�compass', 1), ('tell�tale,', 1), ('inform', 2), ('outh�eastwardfrom', 1), ('cape,', 1), ('crozetts,', 2), ('rightwhalemen,', 1), ('(albatross)', 1), ('nigh,', 4), ('fore�mast�head,', 1), ('fullers,', 1), ('walrus.', 1), ('spectral', 1), ('traced', 2), ('channels', 2), ('reddened', 1), ('rust,', 2), ('branches', 2), ('furred', 1), ('hoar�frost.', 1), ('set.', 2), ('long�bearded', 1), ('clad', 1), ('skins', 1), ('beasts,', 1), ('bepatched', 1), ('raiment', 2), ('cruising.', 1), ('fathomless', 1), ('forlorn�looking', 1), ('look�outs,', 2), ('“ship', 1), ('trumpet', 5), ('amain,', 1), ('between.', 2), ('evincing', 1), ('observance', 1), ('omi�', 1), ('nous', 2), ('232', 1), ('paused;', 2), ('forbade.', 1), ('advantage', 2), ('“ahoy', 1), ('ocean!', 2), ('to—�”', 1), ('crossed,', 1), ('instantly,', 4), ('cordance', 1), ('placidly', 1), ('ﬁns,', 3), ('ﬂanks.', 1), ('voyagings', 1), ('capri�', 2), ('ciously', 1), ('“swim', 1), ('help�', 1), ('evinced.', 1), ('steersman,', 2), ('diminish', 2), ('lion', 3), ('“up', 4), ('helm!', 6), ('world!”', 1), ('inspire', 2), ('feelings;', 1), ('whereto', 1), ('circumnavigation', 2), ('conduct?', 1), ('started,', 2), ('secure,', 1), ('plain,', 6), ('eastward', 2), ('distances,', 2), ('cy�', 1), ('clades', 1), ('solomon,', 2), ('mazes', 2), ('midway', 4), ('whelmed.', 1), ('ostensible', 1), ('storms.', 2), ('pro�', 3), ('cess', 1), ('hailing,', 1), ('negative', 1), ('put.', 2), ('consort,', 1), ('contribute', 4), ('information', 2), ('absorbingly', 1), ('sought.', 2), ('inadequately', 1), ('estimated,', 1), ('whaling�vessels', 1), ('meeting', 3), ('cruising�ground.', 1), ('barrens', 2), ('equally', 7), ('salisbury', 2), ('england;', 3), ('casually', 2), ('inhospitable', 1), ('wilds,', 1), ('twain,', 2), ('mutual', 4), ('salutation;', 1), ('interchange', 2), ('concert:', 1), ('illimitable', 1), ('plains', 2), ('fanning’s', 1), ('mills;', 1), ('hails,', 2), ('contact.', 1), ('seaport,', 1), ('about.', 2), ('outward�bounder,', 1), ('board;', 4), ('date', 3), ('234', 1), ('later', 2), ('blurred', 2), ('thumb�worn', 1), ('ﬁles.', 1), ('courtesy,', 1), ('outward�bound', 1), ('cruising�ground', 2), ('destined,', 1), ('ves�', 2), ('sels', 1), ('track', 3), ('transfer', 2), ('meets.', 1), ('exchange', 2), ('news,', 1), ('agreeable', 1), ('congenialities', 1), ('privations', 1), ('perils.', 1), ('difference;', 1), ('whalers,', 1), ('meetings', 3), ('occur,', 2), ('occur', 4), ('shyness', 1), ('englishman', 1), ('reserved,', 1), ('yankee,', 1), ('nondescript', 1), ('provincialisms,', 1), ('sea�peasant.', 1), ('consist,', 1), ('collectively,', 2), ('english,', 2), ('foible', 1), ('whale�hunters,', 1), ('probably,', 1), ('foibles', 1), ('mid�atlantic,', 1), ('recognition,', 1), ('dandies', 1), ('broadway;', 1), ('indulging,', 1), ('ﬁnical', 1), ('criticism', 1), ('rig.', 1), ('men�of�war,', 1), ('bowings', 1), ('scrapings,', 1), ('ducking', 2), ('ensigns,', 2), ('right�down', 1), ('brotherly', 1), ('slave�ships', 1), ('pirates,', 2), ('cross�bones,', 1), ('skulls?”', 1), ('barrels?”', 1), ('apart,', 2), ('235', 1), ('villains', 1), ('overmuch', 1), ('likenesses.', 1), ('godly,', 1), ('unostentatious,', 1), ('sociable,', 1), ('free�and�', 1), ('whaler!', 1), ('weather?', 1), ('gam,”', 1), ('even;', 2), ('repeat', 2), ('“spouters”', 1), ('“blubber�boilers,”', 1), ('exclamations.', 1), ('merchant�seamen,', 1), ('slave�ship', 1), ('whale�ships;', 1), ('profession', 2), ('elevation,', 1), ('elevated', 8), ('foundation', 3), ('altitude.', 1), ('conclude,', 1), ('boasting', 1), ('gam?', 1), ('index�ﬁnger', 1), ('dictionaries,', 1), ('dr.', 6), ('johnson', 2), ('attained', 1), ('erudition;', 1), ('noah', 2), ('yankees.', 1), ('certainly,', 2), ('deﬁnition,', 1), ('lexicon.', 2), ('learnedly', 2), ('gam.', 1), ('noun', 1), ('(or', 2), ('more)', 1), ('cruising�ground;', 1), ('crews:', 1), ('remaining,', 3), ('gamming', 2), ('professions', 1), ('detail;', 1), ('man�of�war,', 1), ('rowed', 1), ('cushioned', 1), ('seat', 7), ('steers', 2), ('milliner’s', 1), ('decorated', 1), ('ribbons.', 1), ('sofa', 1), ('whatever,', 1), ('wheeled', 4), ('castors', 1), ('gouty', 1), ('aldermen', 1), ('chairs.', 1), ('tiller,', 2), ('effeminancy;', 1), ('steerer', 1), ('236', 1), ('tree.', 3), ('maintaining', 2), ('matter;', 3), ('after�oar', 1), ('reciprocating', 2), ('rapping', 1), ('front.', 2), ('wedged', 3), ('settling', 3), ('legs;', 2), ('topple', 1), ('breadth.', 1), ('straddling', 1), ('steadying', 1), ('entire,', 3), ('buoyant', 6), ('self�command,', 1), ('pockets;', 1), ('ballast.', 1), ('authenticated', 1), ('oarsman’s', 2), ('region', 2), ('corners', 2), ('highway,', 1), ('trav�', 1), ('ellers', 1), ('homeward�bound', 2), ('town�ho,', 2), ('polynesians.', 1), ('ensued', 2), ('obscurely', 2), ('wondrous,', 3), ('visitation', 1), ('judgments', 1), ('tragedy', 2), ('narrated,', 1), ('town�ho', 5), ('confederate', 1), ('communicated', 1), ('injunctions', 1), ('secresy,', 1), ('rambled', 1), ('withhold', 2), ('governed', 1), ('whale�cry', 1), ('sighting', 1), ('gallipagos', 1), ('terrapin.', 1), ('238', 1), ('transpired', 1), ('abaft', 1), ('interweaving', 1), ('thread', 1), ('publicly', 1), ('narrated', 4), ('humor’s', 1), ('saint’s', 1), ('eve,', 2), ('thick�gilt', 1), ('tiled', 1), ('piazza', 2), ('cavaliers,', 1), ('dons,', 2), ('pedro', 1), ('sebastian,', 4), ('interluding', 1), ('put,', 1), ('duly', 5), ('“some', 4), ('rehears�', 1), ('eaves', 1), ('handling', 3), ('pumps,', 5), ('common.', 2), ('stabbed', 1), ('gentlemen.', 2), ('believing', 1), ('awaited', 2), ('averse', 1), ('dangerous,', 1), ('searching', 1), ('cruisings,', 1), ('intervals;', 2), ('undiscovered,', 1), ('sensibly', 1), ('increased.', 1), ('hove', 2), ('repaired.', 1), ('“though', 3), ('commonest', 1), ('fa�', 1), ('vored,', 1), ('six�and�', 1), ('prosperous', 1), ('safety', 2), ('fatality,', 4), ('brutal', 1), ('radney,', 6), ('vine', 1), ('yarder,', 1), ('provoked', 1), ('steelkilt,', 8), ('lakeman', 11), ('buffalo.”', 1), ('“lakeman!', 1), ('buffalo!', 1), ('lakeman,', 7), ('buffalo?”', 1), ('grass.', 1), ('erie,', 2), ('don;', 2), ('crave', 1), ('square�sail', 1), ('239', 1), ('brigs', 2), ('three�masted', 1), ('callao', 1), ('manilla;', 1), ('land�locked', 1), ('agrarian', 1), ('freebooting', 1), ('interﬂowing', 1), ('ours,', 2), ('ontario,', 1), ('huron,', 1), ('su�', 3), ('perior,', 1), ('michigan,', 1), ('ocean�like', 1), ('expansiveness,', 1), ('noblest', 3), ('traits;', 2), ('rimmed', 1), ('varieties', 4), ('races', 1), ('climes.', 2), ('contain', 5), ('isles,', 5), ('polynesian', 2), ('do;', 6), ('shored', 1), ('nations,', 1), ('approaches', 1), ('territorial', 1), ('banks;', 1), ('frowned', 1), ('batter�', 1), ('ies,', 1), ('goat�like', 1), ('craggy', 1), ('mackinaw;', 1), ('thunderings', 1), ('victories;', 1), ('barbar�', 1), ('ians,', 1), ('peltry', 1), ('wigwams;', 1), ('ﬂanked', 1), ('unentered', 1), ('serried', 1), ('genealogies;', 1), ('woods', 5), ('harboring', 1), ('afric', 2), ('exported', 1), ('furs', 1), ('emperors;', 1), ('capitals', 1), ('cleveland,', 1), ('winnebago', 1), ('villages;', 1), ('ﬂoat', 7), ('full�rigged', 1), ('cruiser', 1), ('steamer,', 1), ('birch', 2), ('borean', 1), ('dismasting', 1), ('blasts', 1), ('lash', 5), ('wave;', 2), ('inland,', 2), ('drowned', 9), ('shrieking', 1), ('inlander,', 1), ('steelkilt', 20), ('wild�ocean', 2), ('nurtured;', 1), ('nurse', 2), ('austere', 1), ('quarrel', 1), ('backwoods', 1), ('buck�horn', 1), ('bowie�knives.', 1), ('good�hearted', 1), ('inﬂexible', 2), ('ﬁrmness,', 2), ('tempered', 3), ('decency', 1), ('slave’s', 1), ('treated,', 2), ('docile.', 1), ('far;', 1), ('radney', 14), ('doomed', 3), ('hear.', 1), ('haven,', 1), ('increasing,', 1), ('require', 3), ('240', 1), ('skippers', 1), ('pumping', 2), ('subsiding', 2), ('westward,', 1), ('clanging', 1), ('pump�handles', 1), ('length;', 3), ('accessible', 1), ('afforded', 5), ('latitude,', 1), ('anxious.', 1), ('“much', 1), ('town�ho;', 1), ('hoisted,', 1), ('anew,', 1), ('breeze.', 1), ('suppose,', 5), ('conveniently', 1), ('imagine,', 2), ('slily', 2), ('overﬂowed', 1), ('rippling', 4), ('bubbling', 4), ('scupper�holes.', 1), ('conventional', 1), ('fellow�men', 1), ('signiﬁcantly', 2), ('pride', 5), ('manhood,', 1), ('conceives', 1), ('dislike', 1), ('bitterness;', 1), ('pulverize', 2), ('altern’s', 1), ('heap', 4), ('roman,', 1), ('ﬂowing', 2), ('beard', 1), ('tasseled', 1), ('viceroy’s', 1), ('snorting', 2), ('charlemagne,', 1), ('charlemagne’s', 1), ('mule;', 1), ('hardy,', 1), ('malicious.', 1), ('“espying', 1), ('pump', 4), ('241', 1), ('unawed,', 1), ('banterings.', 1), ('“‘aye,', 2), ('cannikin,', 1), ('bottling!', 1), ('rad’s', 1), ('investment', 1), ('job;', 1), ('gang', 1), ('ship�carpenters,', 1), ('saw�ﬁsh,', 1), ('ﬁle�ﬁsh,', 1), ('posse', 2), ('slashing', 2), ('bottom;', 1), ('improvements,', 1), ('suppose.', 1), ('rad', 1), ('scatter', 2), ('estate,', 1), ('rad,', 1), ('beauty', 7), ('looking�glasses.', 1), ('he’d', 3), ('nose.’', 1), ('“‘damn', 1), ('eyes!', 1), ('for?’', 2), ('pretend�', 1), ('sailor’s', 3), ('talk.', 1), ('‘thunder', 1), ('it!’', 1), ('cricket.', 1), ('‘lively,', 1), ('lively,', 1), ('now!’', 2), ('clanged', 2), ('ﬁre�engines;', 1), ('gasping', 4), ('denotes', 1), ('tension', 2), ('life’s', 5), ('energies.', 1), ('“quitting', 1), ('band,', 1), ('panting,', 1), ('windlass;', 3), ('red,', 1), ('bloodshot,', 1), ('wiping', 1), ('profuse', 1), ('sweat', 1), ('cozening', 1), ('ﬁend', 4), ('meddle', 2), ('shovel,', 2), ('offensive', 1), ('allowing', 2), ('pig', 1), ('gales', 1), ('evening;', 1), ('inﬂexibility', 1), ('sea�usages', 1), ('instinctive', 1), ('neatness', 1), ('seamen;', 1), ('washing', 2), ('faces.', 3), ('prescriptive', 1), ('province', 2), ('aboard.', 1), ('gangs,', 1), ('pumps;', 1), ('athletic', 1), ('seaman', 2), ('gangs;', 1), ('consequently', 2), ('trivial', 1), ('duties,', 1), ('comrades.', 4), ('242', 1), ('shovel', 1), ('sting', 1), ('malignant', 3), ('stacks', 1), ('powder�casks', 1), ('slow�match', 1), ('forbearance', 3), ('unwillingness', 1), ('sionateness', 1), ('ireful', 1), ('aggrieved', 1), ('steelkilt.', 3), ('“therefore,', 1), ('exhaustion', 2), ('alluding', 2), ('sweepers;', 1), ('billeted', 1), ('domineering', 2), ('unconditionally', 1), ('reiterating', 1), ('club', 2), ('snatched', 5), ('cask', 9), ('“heated', 1), ('irritated', 2), ('spasmodic', 2), ('sweating', 2), ('brook', 2), ('mate;', 2), ('smothering', 1), ('conﬂagration', 1), ('doggedly', 1), ('incensed', 2), ('“steelkilt', 4), ('retreating', 2), ('menacing', 2), ('obey.', 1), ('intimation', 1), ('warned', 2), ('infatuated', 3), ('retreat,', 1), ('forborne', 1), ('comported', 1), ('ofﬁcer:', 1), ('“‘mr.', 1), ('your�', 1), ('self.’', 1), ('predestinated', 2), ('repeating', 1), ('maledictions.', 1), ('thousandth', 2), ('243', 1), ('unﬂinching', 2), ('poniard', 1), ('glance,', 2), ('clenching', 1), ('creepingly', 1), ('persecutor', 1), ('(steelkilt)', 1), ('branded', 2), ('slaughter', 1), ('gods.', 3), ('cheek;', 1), ('hatch', 3), ('“ere', 1), ('backstays', 2), ('canallers.”', 1), ('“canallers!”', 1), ('pedro.', 1), ('bors,', 1), ('canallers.', 1), ('pardon:', 1), ('they?”', 1), ('“canallers,', 1), ('don,', 2), ('boatmen', 1), ('erie', 2), ('canal.', 2), ('it.”', 17), ('“nay,', 4), ('senor;', 1), ('hereabouts', 3), ('dull,', 2), ('lazy,', 1), ('north.”', 1), ('“aye?', 2), ('reﬁll', 1), ('cup.', 2), ('chicha’s', 1), ('proceed�', 1), ('canallers', 2), ('are;', 1), ('side�light', 1), ('york;', 1), ('populous', 2), ('cities', 1), ('thriving', 1), ('vil�', 1), ('lages;', 1), ('dismal,', 1), ('swamps,', 1), ('afﬂuent,', 1), ('cultivated', 1), ('ﬁelds,', 1), ('unrivalled', 2), ('fertility;', 1), ('billiard�room', 1), ('bar�room;', 1), ('holy�of�holies', 1), ('forests;', 1), ('rivers;', 1), ('shade;', 2), ('happy', 7), ('broken;', 1), ('mohawk', 1), ('counties;', 1), ('chapels,', 1), ('milestones,', 1), ('venetianly', 1), ('corrupt', 2), ('ashantee,', 1), ('gentlemen;', 2), ('pagans;', 1), ('long�ﬂung', 1), ('shadow,', 2), ('patronizing', 1), ('of�', 2), ('freebooters', 1), ('encamp', 1), ('justice,', 1), ('sinners,', 2), ('abound', 1), ('vicinities.”', 1), ('passing?”', 1), ('pedro,', 2), ('crowded', 4), ('plaza,', 1), ('concern.', 3), ('“well', 4), ('dame', 1), ('isabella’s', 1), ('inquisition', 1), ('wanes', 1), ('lima,”', 1), ('sebastian.', 1), ('“proceed,', 1), ('senor.”', 1), ('moment!', 1), ('pardon!”', 1), ('limeese,', 1), ('delicacy', 4), ('venice', 1), ('244', 1), ('surprised;', 1), ('‘corrupt', 2), ('lima.’', 2), ('churches', 3), ('plentiful', 1), ('billiard�tables,', 1), ('venice;', 1), ('mark!', 2), ('dominic,', 1), ('purge', 1), ('cup!', 2), ('thanks:', 1), ('reﬁll;', 1), ('again.”', 5), ('“freely', 1), ('depicted', 4), ('canaller', 2), ('hero,', 1), ('picturesquely', 1), ('antony,', 1), ('green�turfed,', 1), ('nile,', 2), ('ﬂoats,', 2), ('openly', 1), ('toying', 1), ('red�cheeked', 1), ('cleopatra,', 1), ('ripening', 1), ('apricot', 1), ('effeminacy', 1), ('dashed.', 1), ('brigan�', 1), ('guise', 1), ('sports;', 1), ('gaily�ribboned', 1), ('betoken', 1), ('features.', 2), ('smiling', 2), ('villages', 1), ('ﬂoats;', 2), ('visage', 1), ('swagger', 1), ('unshunned', 1), ('cities.', 1), ('vagabond', 2), ('canal,', 2), ('canallers;', 1), ('heartily;', 2), ('ungrateful;', 1), ('redeeming', 1), ('violence,', 1), ('wealthy', 2), ('sum,', 1), ('canal', 10), ('emphatically', 1), ('graduates,', 1), ('mankind,', 1), ('sydney', 1), ('distrusted', 3), ('captains.', 2), ('curiousness', 1), ('rural', 1), ('probationary', 1), ('reaping', 1), ('corn�ﬁeld,', 1), ('seas.”', 1), ('see!”', 2), ('spilling', 2), ('chicha', 1), ('rufﬂes.', 1), ('travel!', 1), ('lima.', 1), ('generations', 3), ('story.”', 3), ('backstay.', 1), ('junior', 2), ('pooneers,', 1), ('baleful', 1), ('comets,', 1), ('uproar,', 1), ('attempt,', 2), ('turmoil', 1), ('harm’s', 2), ('danced', 3), ('whale�pike,', 1), ('manhandle', 3), ('atrocious', 1), ('scoundrel,', 1), ('245', 1), ('border', 2), ('confusion,', 1), ('pike,', 1), ('prick', 7), ('resentment.', 1), ('desperadoes', 2), ('hastily', 1), ('slewing', 1), ('sea�parisians', 1), ('entrenched', 1), ('barricade.', 1), ('“‘come', 1), ('pirates!’', 1), ('‘come', 1), ('cut�throats!’', 1), ('barricade,', 3), ('deﬁed', 1), ('worst', 1), ('pistols', 1), ('distinctly,', 1), ('(steelkilt’s)', 1), ('signal', 6), ('mutiny', 2), ('fearing', 1), ('desisted,', 1), ('insurgents', 2), ('duty.', 2), ('“‘will', 1), ('do?’', 1), ('ringleader.', 1), ('“‘turn', 3), ('promise;', 1), ('to!’', 2), ('pistol.', 2), ('“‘sink', 1), ('ship?’', 1), ('‘aye,', 1), ('sink.', 3), ('swear', 11), ('raise', 7), ('rope�yarn', 1), ('men?’', 1), ('response.', 1), ('patrolled', 1), ('sentences', 1), ('‘it’s', 1), ('fault;', 1), ('boy’s', 5), ('buffalo;', 1), ('mincing', 3), ('men?', 1), ('handspikes,', 2), ('fool;', 1), ('decently,', 1), ('we’re', 2), ('ﬂogged.’', 2), ('promises,', 1), ('say!’', 1), ('“‘look', 1), ('now,’', 1), ('‘there', 2), ('(and', 3), ('them)', 2), ('cruise,', 2), ('claim', 6), ('discharge', 1), ('row;', 1), ('peaceable;', 1), ('rascal,', 1), ('246', 1), ('hand’s', 3), ('turn.’', 1), ('“‘down', 1), ('ye’re', 1), ('go.’', 1), ('“‘shall', 1), ('we?’', 1), ('ringleader', 2), ('preceded', 2), ('growlingly', 1), ('disappearing,', 1), ('cave.', 2), ('lakeman’s', 2), ('group', 1), ('brass', 3), ('padlock', 1), ('companion�way.', 1), ('neutral.', 1), ('wide�awake', 1), ('hatchway;', 2), ('feared', 1), ('bulkhead', 1), ('peace;', 1), ('clinking', 1), ('clanking', 2), ('resounded', 1), ('prisoners', 1), ('yell', 1), ('refused.', 1), ('pocketing', 1), ('quarter�', 2), ('repeated;', 1), ('wrangling,', 1), ('scufﬂing', 1), ('summons', 1), ('delivered;', 1), ('fetid', 1), ('closeness', 1), ('famishing', 1), ('diet,', 1), ('retribution,', 2), ('constrained', 1), ('surrender', 2), ('discretion.', 1), ('emboldened', 1), ('reiterated', 1), ('babbling', 1), ('betake', 2), ('mutineers', 1), ('left.', 2), ('“‘better', 1), ('jeer.', 1), ('ye!’', 2), ('certainly,’', 1), ('clicked.', 1), ('defection', 1), ('247', 1), ('associates,', 1), ('stung', 2), ('mocking', 2), ('entombment', 1), ('despair;', 2), ('canallers,', 1), ('garrison;', 1), ('(long,', 1), ('crescentic,', 1), ('implements', 2), ('end)', 1), ('muck', 1), ('taffrail;', 2), ('devilishness', 1), ('desperation', 1), ('den.', 1), ('scheme', 1), ('opposition', 1), ('surrender.', 1), ('leader', 3), ('objected,', 1), ('reserving', 1), ('yield,', 1), ('miscreants', 1), ('“upon', 3), ('lighted,', 1), ('treachery,', 1), ('surrender;', 1), ('secure', 10), ('pardon', 1), ('merit.', 2), ('determination', 1), ('chemistry', 1), ('villany,', 1), ('treacheries', 1), ('sentences;', 1), ('sleeper', 2), ('cords,', 1), ('gagged', 1), ('cords;', 1), ('shrieked', 2), ('midnight.', 1), ('“thinking', 1), ('smelling', 2), ('opened,', 1), ('allies,', 2), ('claimed', 2), ('ripe', 4), ('murder.', 1), ('collared,', 1), ('meat,', 1), ('‘damn', 1), ('vultures', 2), ('villains!’', 1), ('rebelled', 1), ('ﬂog', 2), ('248', 1), ('timely', 2), ('surrender,', 1), ('reprimand,', 1), ('administered', 1), ('vernacular.', 1), ('“‘but', 2), ('rogues,’', 1), ('‘for', 1), ('mince', 1), ('try�pots;’', 1), ('traitors,', 1), ('lifelessly', 2), ('cruciﬁed', 1), ('drawn.', 1), ('“‘my', 1), ('wrist', 2), ('‘but', 2), ('bantam,', 1), ('gag', 2), ('himself.’', 1), ('mutineer', 2), ('tremulous', 3), ('cramped', 2), ('hiss,', 1), ('you!’', 1), ('“‘say', 1), ('me’', 1), ('strike.', 1), ('“‘best', 1), ('not,’', 1), ('lakeman.', 3), ('must,’', 1), ('stroke.', 2), ('inaudible', 2), ('down:', 1), ('hear?’', 1), ('execute', 1), ('bandaged', 3), ('blow,', 1), ('berth;', 1), ('tumult', 1), ('crept', 1), ('speak;', 3), ('dared', 2), ('pinioned', 3), ('“‘you', 2), ('coward!’', 1), ('“‘so', 1), ('that.’', 1), ('striking,', 1), ('hiss', 1), ('paused:', 1), ('steelkilt’s', 2), ('threat,', 1), ('sullenly', 4), ('clamor', 1), ('forecastle;', 2), ('traitors', 1), ('besieged', 1), ('durst', 3), ('consort', 1), ('entreaties,', 1), ('cuffs,', 1), ('249', 1), ('salvation.', 1), ('reappeared', 1), ('mainly', 2), ('instigation,', 1), ('peacefulness,', 1), ('insure', 4), ('speediest', 1), ('namely,', 3), ('discovered.', 2), ('leak,', 1), ('ground;', 3), ('adopt', 1), ('siveness', 1), ('conduct,', 1), ('counsel', 4), ('(at', 2), ('over)', 1), ('ventricles', 1), ('watch;', 2), ('insisted,', 1), ('resum�', 1), ('“during', 1), ('unseamanlike', 1), ('hoisted', 26), ('attitude,', 4), ('dozed.', 1), ('vacancy', 3), ('betrayed.', 1), ('leisure,', 1), ('braiding', 1), ('“‘what', 3), ('shipmate.', 1), ('think?', 1), ('like?’', 1), ('“‘like', 1), ('lanyard', 2), ('bag;', 1), ('me.’', 1), ('“‘yes,', 1), ('oddish,’', 1), ('arm’s', 1), ('any?’', 1), ('“‘then', 1), ('rad;’', 1), ('begging', 2), ('him!’', 1), ('“‘why', 1), ('not?', 2), ('shipmate?’', 1), ('twine', 2), ('netted,', 1), ('250', 1), ('tucking', 1), ('pillow.', 1), ('doze', 1), ('dug', 2), ('fore�ordaining', 1), ('corpse,', 4), ('would�be', 2), ('murderer', 5), ('planned.', 1), ('avenger.', 1), ('damning', 1), ('done.', 5), ('daybreak', 1), ('stupid', 1), ('teneriffe', 2), ('main�chains,', 2), ('rolls!', 2), ('jesu,', 1), ('whale!’', 2), ('“‘moby', 1), ('dick’!”', 1), ('sebastian;', 3), ('“st.', 1), ('dominic!', 1), ('christenings?', 1), ('famous,', 2), ('“how?', 1), ('how?”', 1), ('spaniards,', 1), ('crowding.', 1), ('dons', 1), ('nay!', 2), ('rehearse', 1), ('sirs.”', 1), ('chicha!', 1), ('chicha!”', 1), ('pedro;', 1), ('“our', 1), ('faint;', 2), ('glass!”', 1), ('need,', 1), ('perceiving', 2), ('forgetful', 1), ('compact', 3), ('phrensy.', 1), ('undeterred', 1), ('dogged', 1), ('askance,', 1), ('curses,', 1), ('spangling', 1), ('opal', 1), ('pervades', 1), ('mapped', 1), ('charted.', 1), ('bowsman', 3), ('haul', 9), ('slacken', 1), ('lowered,', 1), ('251', 1), ('howled', 4), ('strained', 6), ('topmost', 5), ('loath,', 1), ('blinding', 6), ('blent', 2), ('whitenesses', 1), ('sunken', 5), ('ledge,', 1), ('keeling', 1), ('righted,', 2), ('swell,', 2), ('veil,', 1), ('maelstrom;', 1), ('swimmer', 2), ('jaws;', 1), ('headlong', 6), ('“meantime,', 1), ('tap', 2), ('slackened', 5), ('whirlpool;', 2), ('thoughts.', 5), ('free.', 3), ('radney’s', 1), ('resided.', 1), ('foremast�men', 1), ('palms;', 1), ('eventually,', 1), ('war�canoe', 1), ('reduced', 2), ('handful,', 1), ('assist', 4), ('laborious', 3), ('leak.', 2), ('unresting', 2), ('allies', 1), ('necessitated,', 1), ('underwent,', 1), ('weakened', 1), ('possible;', 3), ('bows;', 2), ('stacked', 2), ('poop;', 1), ('warning', 5), ('tahiti,', 3), ('distant,', 2), ('procure', 2), ('reinforcement', 1), ('canoe', 2), ('252', 1), ('corals.', 1), ('yoked', 4), ('war�canoes,', 1), ('assuring', 1), ('clicked', 1), ('lock,', 2), ('bury', 5), ('me?’', 1), ('“‘where', 1), ('bound?', 1), ('bound?’', 1), ('steelkilt;', 1), ('lies.’', 1), ('tahiti', 1), ('men.’', 1), ('“‘very', 1), ('peace.’', 1), ('“‘cross', 1), ('me!”]’', 1), ('“‘a', 1), ('scholar,’', 1), ('‘adios,', 1), ('senor!’', 1), ('“watching', 1), ('beached,', 1), ('roots', 3), ('cocoa�nut', 2), ('befriended', 1), ('providentially', 1), ('headed.', 1), ('embarked;', 1), ('legal', 1), ('retribution.', 1), ('arrived,', 3), ('tahitians,', 1), ('chartering', 1), ('schooner,', 1), ('cruisings.', 1), ('tucket,', 1), ('widow', 4), ('refuses', 1), ('“are', 5), ('through?”', 1), ('quietly.', 1), ('don.”', 1), ('entreat', 1), ('convictions,', 1), ('true?', 1), ('wonderful!', 1), ('source?', 1), ('press.”', 1), ('“also', 1), ('sebastian’s', 1), ('suit,”', 1), ('253', 1), ('evangelists', 2), ('gentlemen?”', 1), ('“nay,”', 1), ('advised?', 1), ('serious.”', 1), ('don?”', 1), ('auto�da�fes', 1), ('archiepiscopacy.', 1), ('withdraw', 1), ('moonlight.', 1), ('this.”', 2), ('“excuse', 1), ('procuring', 1), ('brings', 3), ('evangelists,”', 1), ('gravely,', 1), ('ball;', 1), ('talked', 5), ('radney.”', 1), ('alongside', 13), ('advert', 1), ('imaginary', 2), ('portraits', 1), ('challenge', 1), ('faith', 3), ('landsman.', 1), ('proving', 1), ('wrong.', 3), ('source', 3), ('pictorial', 1), ('delusions', 1), ('hindoo,', 1), ('grecian', 2), ('sculptures.', 1), ('inventive', 1), ('unscrupulous', 1), ('panellings', 1), ('temples,', 2), ('pedestals', 1), ('statues,', 1), ('shields,', 1), ('medallions,', 1), ('cups,', 1), ('coins,', 1), ('chain�armor', 1), ('saladin’s,', 1), ('george’s;', 1), ('prevailed,', 1), ('presentations', 2), ('odds,', 3), ('portrait', 3), ('purporting', 3), ('whale’s,', 2), ('cavern�pagoda', 1), ('elephanta,', 1), ('india.', 1), ('brahmins', 1), ('sculptures', 1), ('pagoda,', 1), ('trades', 3), ('pursuits,', 1), ('avocation', 2), ('preﬁgured', 1), ('shadowed', 2), ('forth.', 2), ('hindoo', 3), ('occurs', 2), ('depicting', 2), ('vishnu', 1), ('matse', 1), ('avatar.', 1), ('sculpture', 1), ('latter,', 1), ('section', 1), ('255', 1), ('anaconda,', 1), ('palms', 9), ('ﬂukes.', 6), ('galleries,', 1), ('painter’s', 1), ('succeeds', 1), ('antediluvian', 2), ('hindoo.', 1), ('guido’s', 1), ('perseus', 4), ('rescuing', 1), ('andromeda', 2), ('guido', 1), ('hogarth,', 1), ('“perseus', 1), ('descending,”', 1), ('whit', 3), ('better.', 3), ('corpulence', 2), ('hogarthian', 1), ('undulates', 2), ('howdah', 1), ('rolling,', 3), ('traitors’', 1), ('thames', 3), ('prodromus', 1), ('sibbald,', 1), ('prints', 3), ('bibles', 1), ('cuts', 3), ('primers.', 1), ('these?', 1), ('book�binder’s', 2), ('vine�stalk', 1), ('stock', 5), ('title�pages', 1), ('picturesque', 1), ('imitated,', 1), ('ﬁgures', 6), ('vases.', 1), ('universally', 3), ('dolphin,', 1), ('device', 1), ('introduced.', 1), ('italian', 4), ('publisher', 1), ('15th', 2), ('century,', 3), ('revival', 1), ('learning;', 1), ('period,', 6), ('dolphins', 1), ('vignettes', 1), ('embellishments', 1), ('d’eau,', 1), ('saratoga', 1), ('baden�baden,', 1), ('unexhausted', 1), ('brain.', 6), ('title�page', 1), ('edition', 3), ('“ad�', 1), ('vancement', 1), ('learning”', 1), ('unprofessional', 1), ('attempts,', 1), ('sober,', 2), ('delineations,', 1), ('harris’s', 2), ('collection', 2), ('1671,', 1), ('jonas', 2), ('peterson', 1), ('friesland,', 1), ('master.”', 1), ('rafts', 1), ('logs,', 1), ('represented', 3), ('ice�isles,', 1), ('backs.', 2), ('plate,', 1), ('blunder', 1), ('quarto,', 1), ('colnett,', 1), ('navy,', 1), ('fisheries.”', 1), ('256', 1), ('“picture', 1), ('scale', 2), ('mexico,', 1), ('1793,', 1), ('deck.”', 1), ('veracious', 1), ('beneﬁt', 3), ('marines.', 1), ('applied,', 1), ('scale,', 1), ('bow�window', 1), ('compilations', 1), ('tender,', 2), ('heinousness', 1), ('“goldsmith’s', 1), ('nature.”', 1), ('abridged', 1), ('1807,', 1), ('“whale”', 1), ('“narwhale.”', 1), ('inelegant,', 1), ('unsightly', 1), ('amputated', 1), ('sow;', 1), ('amaze', 1), ('nine�', 1), ('hippogriff', 1), ('genuine', 2), ('schoolboys.', 1), ('1825,', 1), ('bernard', 1), ('germain,', 1), ('lacepede,', 2), ('naturalist,', 2), ('systemized', 1), ('incorrect,', 1), ('pic�', 2), ('declares', 1), ('cap�sheaf', 1), ('blundering', 2), ('baron.', 1), ('1836,', 1), ('provide', 2), ('cuvier’s', 1), ('squash.', 1), ('(such', 1), ('picture,', 2), ('tell?', 1), ('predecessor', 1), ('ﬁeld,', 1), ('desmarest,', 1), ('abortions;', 1), ('drawing.', 1), ('saucers', 1), ('sign�painters’', 1), ('shops', 1), ('oil�dealers,', 1), ('them?', 2), ('dromedary', 3), ('humps,', 1), ('savage;', 1), ('breakfasting', 1), ('tarts,', 1), ('mariners:', 1), ('deformities', 1), ('ﬂoundering', 3), ('paint.', 1), ('manifold', 2), ('mistakes', 1), ('257', 1), ('drawings', 3), ('wrecked', 8), ('represent', 2), ('undashed', 1), ('spars.', 1), ('full�lengths,', 1), ('portrait.', 1), ('signiﬁcance,', 2), ('unfath�', 1), ('omable', 1), ('aﬂoat', 4), ('line�of�battle', 1), ('hoist', 9), ('undulations.', 1), ('highly', 6), ('presumable', 1), ('contour', 1), ('full�grown', 5), ('platonian', 1), ('outlandish,', 1), ('eel�like,', 1), ('limbered,', 1), ('catch.', 1), ('accurate', 1), ('shape.', 1), ('jeremy', 1), ('bentham’s', 1), ('skeleton,', 2), ('candelabra', 1), ('library', 1), ('burly�browed', 1), ('jeremy’s', 1), ('characteristics;', 1), ('leviathan’s', 4), ('articulated', 2), ('relation', 1), ('padded', 2), ('chrysalis', 1), ('roundingly', 1), ('envelopes', 2), ('strikingly', 1), ('shown.', 1), ('thumb.', 1), ('bone�ﬁngers,', 1), ('index,', 1), ('middle,', 8), ('ﬁnger.', 1), ('permanently', 1), ('ﬂeshy', 1), ('covering,', 1), ('covering.', 1), ('“however', 1), ('us,”', 1), ('humor�', 1), ('mittens.”', 1), ('clude', 1), ('unpainted', 1), ('exactness.', 1), ('like.', 2), ('contour,', 1), ('258', 1), ('wherefore,', 4), ('fastidious', 1), ('books,', 2), ('modern,', 1), ('pliny,', 2), ('purchas,', 1), ('hackluyt,', 1), ('harris,', 1), ('outlines', 2), ('colnett’s,', 1), ('huggins’s,', 1), ('beale’s.', 1), ('colnett', 1), ('cuvier', 2), ('huggins’s', 1), ('excepting', 4), ('capping', 1), ('frontispiece,', 1), ('attacking', 2), ('scepticism', 1), ('parlor', 2), ('admirably', 2), ('life�like', 1), ('effect.', 1), ('browne', 1), ('contour;', 1), ('wretchedly', 1), ('engraved.', 1), ('fault', 2), ('though.', 4), ('convey', 1), ('desirable', 3), ('impression.', 1), ('deﬁciency,', 1), ('truthful', 1), ('ﬁnest,', 2), ('correct,', 1), ('260', 1), ('engravings,', 1), ('executed,', 1), ('paintings', 4), ('gar�', 1), ('neray.', 1), ('respectively,', 1), ('spermand', 1), ('engraving', 2), ('risen', 3), ('profundities', 2), ('wreck', 3), ('stoven', 2), ('unbroken,', 1), ('spine;', 1), ('incomputable', 1), ('oarsman,', 2), ('leaping,', 1), ('precipice.', 1), ('half�emptied', 1), ('line�tub', 1), ('poles', 4), ('bob', 1), ('expressions', 1), ('affright;', 1), ('engraving,', 2), ('barna�', 1), ('cled', 1), ('mossy', 1), ('rock�slide', 1), ('soot;', 1), ('cooking', 1), ('pecking', 2), ('crabs,', 1), ('shell�ﬁsh,', 1), ('candies', 1), ('maccaroni,', 1), ('pestilent', 2), ('thick�lipped', 1), ('tons', 5), ('causing', 2), ('paddle�wheels', 1), ('foreground', 1), ('commotion;', 1), ('artistic', 2), ('becalmed,', 1), ('drooping', 5), ('unstarched', 1), ('powerless', 2), ('inert', 2), ('whale,a', 1), ('fortress,', 1), ('whale�pole', 1), ('spout�hole.', 1), ('garneray', 1), ('painter', 1), ('ei�', 3), ('conversant', 1), ('marvellously', 1), ('tutored', 2), ('action.', 1), ('gallery', 2), ('triumphal', 2), ('versailles;', 1), ('beholder', 1), ('pell�mell,', 1), ('battles', 1), ('france;', 1), ('lights,', 2), ('succes�', 1), ('centaurs?not', 1), ('gallery,', 1), ('battle�pieces', 1), ('garneray.', 1), ('261', 1), ('aptitude', 1), ('picturesqueness', 2), ('engravings', 4), ('scenes.', 2), ('england’s', 1), ('americans,', 1), ('nished', 1), ('sketches', 2), ('hunt.', 2), ('draughtsmen', 1), ('presenting', 2), ('vacant', 4), ('proﬁle', 3), ('sketching', 1), ('pyramid.', 1), ('renowned', 1), ('miniatures', 1), ('narwhales', 1), ('classical', 1), ('hooks,', 1), ('chop�', 1), ('ping', 1), ('knives,', 1), ('grapnels;', 1), ('diligence', 1), ('leuwenhoeck', 1), ('submits', 1), ('inspection', 1), ('ninety�six', 2), ('facsimiles', 1), ('crystals.', 1), ('disparagement', 1), ('(i', 1), ('veteran),', 1), ('oversight', 1), ('peace.', 1), ('garneray,', 1), ('subscribes', 1), ('“h.', 1), ('durand.”', 1), ('deserves', 2), ('noon�scene', 1), ('anchored,', 1), ('inshore,', 1), ('background,', 1), ('breezeless', 1), ('repose.', 1), ('affair:', 1), ('hove�to', 1), ('alongside;', 2), ('cutting�in)', 1), ('quay;', 1), ('activity,', 2), ('use;', 2), ('half�erect', 1), ('smithies;', 1), ('cloud,', 1), ('rains,', 1), ('quicken', 1), ('tower�hill,', 1), ('beggar', 1), ('kedger,', 1), ('say)', 2), ('(presumed', 1), ('integrity)', 1), ('justiﬁcation', 1), ('wapping,', 1), ('rate;', 1), ('clearings.', 1), ('stump,', 1), ('stump�speech', 1), ('make;', 3), ('ruefully', 2), ('contemplating', 1), ('amputation.', 1), ('bor,', 1), ('whaling�scenes,', 1), ('graven', 1), ('whale�teeth,', 1), ('busks', 2), ('whale�bone,', 1), ('skrimshander', 1), ('ingenious', 3), ('elaborately', 1), ('carve', 2), ('material,', 1), ('leisure.', 2), ('boxes', 3), ('dentistical�looking', 1), ('implements,', 1), ('skrimshandering', 1), ('ness.', 2), ('general,they', 1), ('jack�knives', 1), ('tool', 1), ('263', 1), ('mariner’s', 2), ('fancy.', 1), ('exile', 1), ('civilization', 1), ('restores', 1), ('savagery.', 1), ('iroquois.', 1), ('allegiance', 1), ('rebel', 1), ('characteristics', 2), ('patience', 1), ('industry.', 1), ('hawaiian', 2), ('war�club', 1), ('spear�', 1), ('paddle,', 1), ('multiplicity', 2), ('elaboration', 1), ('carving,', 1), ('trophy', 2), ('perseverance', 1), ('sea�shell', 1), ('shark’s', 3), ('tooth,', 3), ('intricacy', 1), ('achieved;', 1), ('cost', 1), ('application.', 1), ('sailor�savage.', 1), ('patience,', 2), ('jack�', 2), ('sculpture,', 2), ('workmanlike,', 1), ('maziness', 1), ('achilles’s', 1), ('shield;', 1), ('suggestiveness,', 1), ('albert', 1), ('durer.', 1), ('war�wood,', 1), ('forecastles', 1), ('whalers.', 2), ('accuracy.', 1), ('gable�roofed', 1), ('knockers', 1), ('road�side', 1), ('porter', 1), ('sleepy,', 2), ('anvil�', 1), ('essays.', 1), ('sheet�iron', 1), ('weather�cocks;', 1), ('intents', 1), ('purposes', 2), ('labelled', 1), ('decide', 1), ('bony,', 1), ('ribby', 1), ('regions', 2), ('cliffs', 2), ('groupings', 1), ('petriﬁed', 2), ('grass,', 1), ('windy', 1), ('surf', 3), ('surges.', 1), ('traveller', 4), ('gir�', 1), ('dled', 1), ('amphitheatrical', 1), ('heights;', 1), ('proﬁles', 1), ('deﬁned', 4), ('undu�', 1), ('lating', 1), ('ridges.', 1), ('sights;', 1), ('intersecting', 1), ('longitude', 2), ('stand�point,', 1), ('264', 1), ('chance�like', 2), ('observations', 1), ('precise,', 1), ('stand�', 2), ('re�discovery;', 1), ('incognita,', 2), ('high�ruffed', 1), ('mendanna', 1), ('figueroa', 1), ('chronicled', 2), ('expandingly', 1), ('subject,can', 1), ('starry', 3), ('armies', 2), ('clouds.', 1), ('pole', 7), ('revolutions', 1), ('effulgent', 2), ('argo�navis,', 1), ('stretch', 3), ('hydrus', 1), ('flying', 1), ('fish.', 1), ('bridle�bitts', 1), ('fasces', 1), ('spurs,', 1), ('fabled', 2), ('encamped', 1), ('teering', 2), ('north�eastward', 2), ('brit,', 4), ('minute,', 4), ('feeds.', 1), ('undulated', 2), ('wheat.', 1), ('numbers', 4), ('sluggishly', 1), ('adhering', 3), ('fringing', 1), ('separated', 3), ('lip.', 1), ('seethingly', 1), ('meads;even', 1), ('grassy,', 1), ('swaths', 2), ('mowers.', 1), ('bare,', 1), ('blackened', 1), ('elevations', 1), ('soil;', 4), ('beholds', 1), ('renders', 2), ('bulky', 3), ('overgrowth', 1), ('instinct,', 2), ('parts,', 6), ('266', 1), ('respects,', 2), ('natural�', 1), ('ists', 1), ('specialities,', 1), ('disposi�', 1), ('tion', 4), ('answers', 2), ('analogy', 2), ('unspeakably', 2), ('unsocial', 1), ('repelling;', 1), ('columbus', 2), ('worlds', 3), ('superﬁcial', 2), ('immemorially', 2), ('indis�', 1), ('criminately', 1), ('befallen', 3), ('tens', 3), ('teach,', 1), ('brag', 2), ('skill,', 5), ('augment;', 1), ('stateliest,', 1), ('stiffest', 2), ('frigate', 2), ('impressions,', 1), ('aborigially', 1), ('whelmed', 2), ('subsided;', 1), ('covers.', 1), ('miracle', 3), ('other?', 1), ('hebrews,', 1), ('korah', 1), ('sets,', 1), ('swallows', 1), ('crews.', 3), ('offspring;', 1), ('host', 7), ('murdered', 5), ('guests;', 1), ('sparing', 2), ('spawned.', 1), ('tigress', 1), ('jungle', 1), ('overlays', 1), ('cubs,', 2), ('might�', 1), ('“brazil', 1), ('banks”', 1), ('banks', 3), ('shallows', 1), ('soundings', 1), ('meadow�like', 1), ('drifts', 1), ('chased.', 1), ('267', 1), ('iest', 1), ('controls', 2), ('panting', 3), ('rider,', 1), ('overruns', 1), ('subtleness', 1), ('unapparent', 1), ('loveliest', 1), ('tints', 1), ('azure.', 1), ('brilliance', 1), ('tribes,', 1), ('dainty', 1), ('consider,', 3), ('cannibalism', 1), ('began.', 1), ('gentle,', 1), ('docile', 1), ('yourself?', 1), ('verdant', 3), ('joy,', 3), ('encom�', 1), ('isle,', 1), ('canst', 11), ('return!', 1), ('wading', 1), ('towtle', 1), ('impelling', 2), ('seren�', 1), ('ity', 2), ('languid', 1), ('breeze,', 4), ('lonely,', 1), ('allur�', 1), ('unattended', 3), ('stagnant', 1), ('calm;when', 1), ('burnished', 1), ('sun�glade', 1), ('enjoining', 1), ('secresy;', 1), ('slippered', 1), ('sphere', 1), ('spectre', 1), ('main�mast�head.', 2), ('higher,', 2), ('disentangling', 1), ('azure,', 1), ('snow�slide,', 1), ('subsided,', 1), ('sank.', 3), ('arose,', 1), ('gleamed.', 1), ('dick?', 3), ('re�appearing', 1), ('stiletto�like', 1), ('breaches!', 2), ('ahead!', 1), ('yard�arms,', 1), ('swarming�time', 1), ('bees', 2), ('boughs.', 2), ('bare�headed', 1), ('helmsman,', 2), ('attendance', 2), ('269', 1), ('connect', 1), ('mildness', 3), ('pursued;', 1), ('whichever', 2), ('advance,', 2), ('reappearance,', 1), ('sank,', 1), ('rose.', 1), ('forgetting', 1), ('pulpy', 1), ('furlongs', 3), ('breadth,', 1), ('cream�color,', 1), ('innumerable', 1), ('centre,', 4), ('anacondas,', 1), ('hapless', 3), ('reach.', 2), ('perceptible', 1), ('have;', 1), ('sensation', 3), ('instinct;', 1), ('billows,', 2), ('formless,', 1), ('agitated', 3), ('“almost', 1), ('ghost!”', 1), ('squid,', 1), ('beheld,', 5), ('ports', 4), ('unusual,', 1), ('portentousness.', 1), ('rarely', 2), ('form;', 1), ('feeding,', 1), ('obtains', 1), ('zones', 2), ('surface;', 5), ('inference', 3), ('precisely,', 1), ('disgorge', 1), ('squid;', 1), ('ordinarily', 3), ('clings', 1), ('270', 1), ('ocean;', 1), ('imagine', 1), ('kraken', 1), ('bishop', 4), ('pontop�', 1), ('pidan', 1), ('ultimately', 2), ('resolve', 1), ('squid.', 1), ('describes', 1), ('alternately', 3), ('sinking,', 3), ('rates,', 1), ('correspond.', 1), ('abatement', 1), ('assigns', 1), ('ture,', 2), ('cuttle�ﬁsh,', 1), ('belong,', 2), ('anak', 1), ('tribe.', 1), ('ith', 2), ('described,', 1), ('presented,', 1), ('magical,', 1), ('whale�line.', 1), ('vapored', 1), ('tar,', 2), ('impregnated', 1), ('ropes;', 1), ('used,', 3), ('hemp', 6), ('pliable', 1), ('rope�maker,', 1), ('stiffen', 1), ('subjected;', 1), ('adds', 1), ('rope’s', 3), ('durability', 1), ('compactness', 1), ('gloss.', 1), ('manilla', 4), ('perseded', 1), ('whale�lines;', 1), ('durable', 1), ('stronger,', 1), ('elastic;', 1), ('(since', 1), (';aesthet�', 1), ('ics', 1), ('things),', 1), ('hemp.', 1), ('dusky,', 1), ('indian;', 2), ('golden�haired', 1), ('circassian', 1), ('thickness.', 3), ('experiment', 1), ('suspend', 4), ('tons.', 1), ('fathoms.', 1), ('spirally', 1), ('tub,', 6), ('worm�pipe', 1), ('cheese�shaped', 1), ('densely', 1), ('bed�', 1), ('ded', 1), ('“sheaves,”', 1), ('layers', 1), ('concentric', 3), ('spiralizations,', 1), ('272', 1), ('“heart,”', 1), ('vertical', 3), ('tube', 3), ('cheese.as', 1), ('tan�', 1), ('gle', 1), ('somebody’s', 1), ('precaution', 1), ('tub.', 2), ('consume', 1), ('carry�', 1), ('reeving', 1), ('block', 4), ('twists.', 1), ('tubs.', 1), ('twin�tubs', 1), ('diameter', 2), ('freight', 1), ('half�inch', 2), ('thickness;', 1), ('ice,which', 1), ('distributed', 2), ('concen�', 1), ('trated', 1), ('line�tub,', 1), ('wedding�cake', 1), ('exposed;', 1), ('terminating', 3), ('eye�splice', 2), ('loop', 1), ('disengaged', 4), ('everything.', 4), ('facilitate', 1), ('fastening', 4), ('threaten', 2), ('mug', 1), ('ale,', 1), ('hovers', 2), ('consort.', 1), ('safety’s', 1), ('sake;', 1), ('profundity', 1), ('town�crier', 1), ('jogs', 1), ('rowing;', 2), ('leaded', 1), ('chocks', 6), ('pin', 4), ('size', 7), ('quill,', 2), ('prevents', 1), ('festoon', 1), ('273', 1), ('(called', 1), ('box�line)being', 1), ('continues', 2), ('short�warp', 2), ('mystiﬁcations', 1), ('tedious', 2), ('detail.', 1), ('coils,', 1), ('writhing', 2), ('contortions;', 1), ('jugglers,', 1), ('snakes', 1), ('sportively', 1), ('festooning', 1), ('limbs.', 1), ('intricacies,', 2), ('straining', 4), ('darted,', 3), ('contortions', 1), ('lightnings;', 1), ('circumstanced', 1), ('marrow', 1), ('jelly.', 1), ('thing!', 1), ('accomplish?', 1), ('gayer', 2), ('sallies,', 1), ('mirth,', 1), ('jokes,', 1), ('repartees,', 1), ('mahogany,', 1), ('whale�boat,', 4), ('hangman’s', 1), ('nooses;', 1), ('burghers', 1), ('calais', 1), ('edward,', 1), ('composing', 4), ('halter', 1), ('whizzings', 1), ('steam�engine', 1), ('beam,', 1), ('shaft,', 1), ('wheel,', 2), ('grazing', 1), ('worse;', 2), ('cradle,', 1), ('warning;', 1), ('self�', 2), ('adjusting', 1), ('buoyancy', 2), ('simultaneousness', 2), ('volition', 2), ('mazeppa', 1), ('all�seeing', 1), ('pierce', 2), ('precedes', 1), ('prophesies', 1), ('itself;', 2), ('envelope', 1), ('storm;', 2), ('explosion;', 1), ('graceful', 4), ('serpentines', 1), ('274', 1), ('whale�lines.', 1), ('halters', 1), ('swift,', 3), ('realize', 1), ('subtle,', 1), ('ever�present', 1), ('poker,', 1), ('portents,', 1), ('’quid,”', 1), ('honing', 1), ('’parm', 1), ('sultry,', 1), ('resist', 1), ('voyaging', 1), ('affords', 2), ('fewer', 1), ('dolphins,', 2), ('ﬂying�ﬁsh,', 1), ('denizens', 1), ('plata,', 1), ('in�shore', 1), ('peru.', 1), ('foremast�head;', 1), ('resolution', 3), ('consciousness,', 1), ('pendulum', 1), ('withdrawn.', 1), ('forgetfulness', 1), ('drowsy.', 1), ('swing', 4), ('nod', 1), ('helmsman.', 2), ('nodded', 2), ('crests;', 1), ('vices', 1), ('shrouds;', 1), ('276', 1), ('frigate,', 1), ('glossy', 3), ('rays', 5), ('mirror.', 1), ('trough', 1), ('vapory', 4), ('burgher', 1), ('enchanter’s', 1), ('wakefulness;', 1), ('simulta�', 1), ('spouted', 4), ('“clear', 1), ('boats!', 2), ('luff!”', 1), ('spokes.', 1), ('exclamations', 2), ('majestically', 1), ('tranquillity,', 1), ('ripples', 1), ('whispers.', 1), ('ontario', 1), ('gunwales', 4), ('ﬂitted', 1), ('cry,an', 1), ('igniting', 2), ('granted.', 1), ('smoker’s', 1), ('capture.', 2), ('obvious,', 1), ('pursuers.', 1), ('use.', 3), ('paddles', 4), ('dropped,', 1), ('cheered', 1), ('assault.', 2), ('jeopardy,', 1), ('“head', 1), ('out;”', 1), ('yeast', 1), ('brewed.', 1), ('massive,', 1), ('elevates', 1), ('speed.', 1), ('cut�water', 1), ('elevating', 3), ('transform', 1), ('sluggish', 2), ('galliot', 1), ('sharp�pointed', 1), ('pilot�boat.', 1), ('277', 1), ('“start', 2), ('yourselves;', 1), ('thunder�claps,', 1), ('all,”', 3), ('spluttering', 1), ('spoke.', 2), ('tash,', 1), ('cucumbers', 1), ('devils,', 2), ('graves,', 1), ('her!”', 1), ('“woo�hoo!', 1), ('wa�hee!”', 1), ('screamed', 1), ('gay�header', 1), ('war�whoop', 1), ('skies;', 1), ('bounced', 1), ('gave.', 1), ('screams', 1), ('wild.', 1), ('“kee�hee!', 1), ('kee�', 1), ('hee!”', 1), ('forwards', 3), ('backwards', 3), ('cage.', 1), ('“ka�la!', 1), ('koo�loo!”', 1), ('smacking', 3), ('mouthful', 2), ('grenadier’s', 1), ('steak.', 2), ('yells', 2), ('keels', 5), ('mean�', 1), ('retaining', 1), ('encouraged', 1), ('tugged', 1), ('strained,', 3), ('tashtego!', 2), ('hurled.', 1), ('“stern', 3), ('wrists.', 2), ('magical', 1), ('addi�', 1), ('tional', 1), ('circlings,', 1), ('mingled', 1), ('fumes', 1), ('loggerhead;', 1), ('blisteringly', 1), ('hand�cloths,', 1), ('quilted', 1), ('dropped.', 1), ('two�edged', 1), ('blade,', 1), ('clutch.', 1), ('“wet', 1), ('line!', 2), ('line!”', 2), ('tub', 3), ('(him', 1), ('tub)', 1), ('sea�water', 1), ('taken,', 2), ('ﬁns.', 1), ('staggering', 2), ('vibrating', 5), ('indispensableness', 1), ('stated,', 1), ('mop', 1), ('piggin,', 1), ('bailer,', 1), ('convenient.', 1), ('278', 1), ('harpstring,', 1), ('played', 2), ('ceaseless', 4), ('eddy', 2), ('ﬁnger,', 1), ('vibrating,', 1), ('rushed;', 1), ('clinging', 8), ('foam;', 1), ('double,', 1), ('gravity.', 1), ('atlantics', 1), ('paciﬁcs', 1), ('ﬂight.', 1), ('“haul', 2), ('in!”', 3), ('bowsman;', 1), ('ﬂank,', 3), ('sterning', 2), ('ﬂing.', 1), ('brooks', 1), ('bubbled', 1), ('seethed', 1), ('crimson', 3), ('pond', 1), ('reﬂection', 5), ('glowed', 1), ('agonizingly', 2), ('spiracle', 4), ('vehement', 1), ('puff', 2), ('headsman;', 1), ('it),', 1), ('“pull', 3), ('bowsman,', 4), ('waning', 3), ('relaxed', 1), ('wrath.', 1), ('to!”', 1), ('ﬂank.', 2), ('churning', 5), ('churning,', 1), ('swallowed,', 1), ('“ﬂurry,”', 1), ('horribly', 3), ('wallowed', 1), ('overwrapped', 1), ('impenetrable,', 1), ('imperilled', 2), ('ado', 1), ('struggle', 2), ('phrensied', 1), ('twilight', 3), ('abating', 2), ('ﬂurry,', 1), ('view;surging', 1), ('spasmodically', 4), ('dilating', 1), ('contracting', 4), ('spout�hole,', 2), ('279', 1), ('cracking,', 1), ('agonized', 2), ('respirations.', 1), ('clotted', 1), ('gore,', 2), ('wine,', 1), ('burst!', 1), ('“yes;', 1), ('thought�', 1), ('corpse', 6), ('invariable', 4), ('pushes', 1), ('whale�killer', 1), ('whale�fastener', 1), ('harpooneer�oar.', 1), ('implement', 2), ('uttermost;', 1), ('superhuman', 1), ('rowing,', 1), ('exclamations;', 1), ('compass,', 7), ('bawl', 1), ('heartily', 1), ('atone', 1), ('straining,', 2), ('exciting', 1), ('crotch,', 4), ('successful;', 1), ('disrated;', 1), ('blood�vessels', 1), ('barrels;', 1), ('concern;', 1), ('expect', 4), ('wanted!', 1), ('281', 1), ('successful,', 2), ('maintains', 1), ('ﬁsherman.', 1), ('chase;', 4), ('majority', 3), ('efﬁciency', 1), ('idleness,', 1), ('toil.', 3), ('ut', 1), ('grow;', 1), ('twigs.', 1), ('productive', 1), ('subjects,', 2), ('grows.', 1), ('mention.', 1), ('notched', 1), ('naked,', 1), ('slopingly', 1), ('projects', 2), ('hurler,', 1), ('reposing', 2), ('irons.', 1), ('cord,', 2), ('line;', 5), ('drag,', 1), ('hold.', 4), ('doubling', 1), ('chances.', 1), ('instantaneous,', 1), ('convulsive', 1), ('lightning�like', 1), ('movements,', 1), ('running,', 1), ('anticipatingly', 2), ('cases;', 1), ('(mentioned', 1), ('chapter)', 1), ('feat,', 2), ('prudently', 1), ('practicable.but', 1), ('casualties.', 1), ('furthermore:', 2), ('283', 1), ('thenceforth', 1), ('dangling,', 1), ('edged', 1), ('skittishly', 1), ('curvetting', 1), ('entangling', 1), ('lines,', 7), ('directions.', 2), ('corpse.', 3), ('engaging', 1), ('concurring', 1), ('enterprise,', 1), ('dangling', 1), ('ineffectually', 1), ('recovery.', 1), ('faithfully', 2), ('elucidate', 1), ('intricate', 2), ('passages,', 1), ('painted.', 1), ('tubb’s', 1), ('calm;', 3), ('tandem', 1), ('thirty�six', 1), ('thumbs', 1), ('ﬁngers,', 2), ('toiled', 4), ('budge', 3), ('enormousness', 2), ('moved.', 1), ('hang�ho,', 1), ('china,', 1), ('laborers', 3), ('foot�path', 2), ('freighted', 4), ('rate', 8), ('argosy', 1), ('forged', 5), ('pig�lead', 2), ('bulk.', 3), ('main�rigging', 1), ('lanterns', 4), ('envinced', 1), ('dissatisfaction,', 1), ('impatience,', 1), ('despair,', 2), ('port�holes.', 1), ('links,', 3), ('285', 1), ('moored.', 1), ('vessel’s,', 1), ('bullocks,', 1), ('whereof', 4), ('reclines', 1), ('standing.', 1), ('quiescence,', 1), ('ﬂushed', 1), ('conquest,', 1), ('excitement.', 1), ('staid', 1), ('manage�', 1), ('small,', 8), ('helping', 5), ('liveliness', 2), ('manifest.', 1), ('liver;', 1), ('intemperately', 1), ('ﬂavorish', 1), ('palate.', 1), ('steak,', 2), ('sleep!', 1), ('daggoo!', 2), ('small!”', 1), ('maxim,', 1), ('defray', 1), ('expenses', 1), ('realizing', 1), ('voyage),', 1), ('nantucketers', 3), ('steak', 6), ('cooked;', 1), ('stoutly', 2), ('capstan�head,', 1), ('sideboard.', 1), ('banqueter', 1), ('mingling', 2), ('mumblings', 2), ('mastications,', 1), ('swarming', 4), ('smackingly', 1), ('feasted', 1), ('fatness.', 1), ('bunks', 1), ('slapping', 1), ('sleep�', 1), ('ers’', 1), ('hearts.', 1), ('sullen,', 1), ('tail;', 6), ('density', 2), ('relatively', 1), ('heavier', 2), ('(excepting', 1), ('side�ﬁns),', 1), ('ﬂexibility', 1), ('chain', 4), ('ingeniously', 1), ('overcome:', 1), ('adroit', 1), ('suit;', 1), ('junction', 1), ('lobes.', 1), ('286', 1), ('scooped', 1), ('miraculous.', 1), ('unassailable', 1), ('contrive', 1), ('gouge', 2), ('symmetrical', 3), ('mouthfuls,', 1), ('countersinking', 1), ('screw.', 1), ('sea�ﬁght,', 1), ('longingly', 2), ('hungry', 1), ('ble', 2), ('carved,', 1), ('deck�table', 1), ('cannibally', 1), ('carving', 3), ('carving�knives', 1), ('tas�', 1), ('selled,', 1), ('jewel�hilted', 1), ('quarrelsomely', 1), ('meat;', 1), ('upside', 1), ('shocking', 2), ('parties;', 2), ('outriders', 1), ('trotting', 1), ('handy', 3), ('anywhere,', 2), ('decently', 2), ('buried;', 1), ('occasions,', 1), ('socially', 1), ('gregate,', 1), ('hilariously', 1), ('feast;', 1), ('numbers,', 2), ('jovial', 1), ('decision', 3), ('devil�worship,', 1), ('expediency', 1), ('conciliating', 1), ('epicurean', 1), ('“cook,', 3), ('cook!', 5), ('fleece?”', 1), ('widening', 1), ('supper;', 1), ('dish,', 4), ('cook!”', 2), ('glee', 1), ('shambling', 1), ('galley,', 1), ('blacks,', 2), ('pans,', 1), ('scoured', 1), ('pans;', 1), ('fleece,', 6), ('assisting', 1), ('hoops;', 1), ('ebony', 2), ('287', 1), ('sideboard;', 2), ('two�legged', 1), ('cane,', 1), ('inclining', 1), ('“cook,”', 4), ('reddish', 1), ('morsel', 2), ('overdone?', 1), ('you’ve', 1), ('cook;', 5), ('tender.', 1), ('whale�steak', 4), ('tough?', 1), ('tough', 3), ('rare?', 1), ('shindy', 1), ('civilly,', 1), ('moderation,', 1), ('quiet.', 1), ('voice.', 1), ('message.', 1), ('lantern,”', 1), ('fleece', 3), ('then,with', 1), ('overheard', 3), ('said.', 2), ('“fellow�critters:', 1), ('i’se', 1), ('dat', 19), ('dam', 10), ('dare.', 1), ('smackin’', 1), ('ob', 4), ('massa', 3), ('hatchings,', 1), ('gor!', 2), ('racket!”', 1), ('slap', 1), ('“cook!', 1), ('mustn’t', 1), ('preaching.', 1), ('convert', 2), ('dat?', 1), ('yourself,”', 1), ('belubed', 1), ('fellow�critters:”', 1), ('“right!”', 1), ('approvingly,', 1), ('“coax', 1), ('continued.', 1), ('“dough', 1), ('natur', 1), ('wery', 1), ('woracious,yet', 1), ('zay', 1), ('fellow�', 2), ('critters,', 1), ('woraciousness', 1), ('’top', 1), ('slappin’', 3), ('tail!', 1), ('’spose', 1), ('bitin’', 1), ('dare?”', 1), ('collaring', 1), ('swearing.', 1), ('gentlemanly.”', 1), ('proceeded.', 1), ('“your', 2), ('woraciousness,', 1), ('fellow�critters,', 1), ('blame', 2), ('for;', 2), ('natur,', 2), ('helped;', 2), ('gobern', 2), ('pint.', 1), ('sartin;', 1), ('angel;', 2), ('288', 1), ('not’ing', 2), ('dan', 3), ('goberned.', 1), ('bred’ren,', 1), ('wonst', 1), ('cibil,', 1), ('yourselbs', 1), ('tearin’', 1), ('neighbour’s', 1), ('mout,', 2), ('toder', 1), ('gor,', 1), ('o’', 1), ('berry', 3), ('brig', 2), ('brigger', 1), ('oders;', 1), ('mouts', 1), ('bellies;', 1), ('brigness', 1), ('mout', 1), ('swallar', 1), ('wid,', 1), ('fry', 2), ('scrouge', 1), ('demselves.”', 1), ('fleece!”', 1), ('christianity;', 1), ('willains', 1), ('scrougin’', 1), ('oder,', 1), ('dey', 7), ('a�preachin’', 1), ('g’uttons', 1), ('full,and', 1), ('bottomless;', 1), ('em', 1), ('den;', 1), ('coral,', 1), ('eber', 2), ('eber.”', 1), ('opinion;', 1), ('supper.”', 1), ('mob,', 1), ('shrill', 1), ('“cussed', 1), ('fellow�critters!', 1), ('damndest', 1), ('can;', 2), ('dam’', 1), ('’till', 1), ('bust', 1), ('die.”', 1), ('cook,”', 1), ('attention.”', 2), ('dention,”', 1), ('tongs', 4), ('“well,”', 1), ('meanwhile;', 1), ('cook?”', 5), ('wid', 1), ('’teak,”', 1), ('testily.', 1), ('“silence!', 1), ('“’bout', 1), ('ninety,', 1), ('gloomily', 1), ('muttered.', 1), ('whale�steak?”', 1), ('bolting', 1), ('continuation', 1), ('“’hind', 1), ('hatchway,', 2), ('ferry�boat,', 1), ('ober', 1), ('roanoke.”', 1), ('“born', 1), ('ferry�boat!', 1), ('“didn’t', 4), ('roanoke', 1), ('country?”', 1), ('289', 1), ('yet.”', 2), ('“bress', 1), ('noder', 1), ('one,”', 2), ('growled,', 1), ('angrily,', 1), ('depart.', 2), ('tongs;', 1), ('be?', 3), ('say”', 1), ('mut�', 1), ('tered,', 1), ('“best', 1), ('’teak', 1), ('taste;', 1), ('joosy,', 1), ('joosy.”', 1), ('squaring', 3), ('“passed', 1), ('cape�down,”', 1), ('sullenly.', 1), ('cape�town,', 1), ('parson', 3), ('soon,”', 1), ('mumbled,', 1), ('half�turning', 1), ('“avast!', 1), ('die,', 5), ('answer?”', 1), ('dis', 1), ('brack', 1), ('dies,”', 1), ('slowly,', 4), ('demeanor,', 1), ('hisself', 1), ('bressed', 2), ('fetched', 1), ('elijah?', 1), ('where?”', 1), ('dere,”', 1), ('solemnly.', 1), ('“so,', 1), ('main�top,do', 1), ('dead?', 2), ('climb,', 1), ('colder', 1), ('gets?', 1), ('t’all,”', 1), ('sulks.', 1), ('pointing.', 1), ('lubber’s', 1), ('ticklish', 2), ('orders.', 3), ('t’other', 1), ('a’top', 2), ('what!', 2), ('gizzard!', 1), ('aloft!', 3), ('290', 1), ('’dention,”', 1), ('desired,', 1), ('grizzled', 3), ('bad,', 1), ('overdoing.', 1), ('coal', 2), ('to�morrow,', 3), ('tips', 1), ('ﬁns;', 2), ('pickle.', 2), ('ﬂukes,', 8), ('soused,', 1), ('paces', 1), ('recalled.', 1), ('cutlets', 1), ('mid�watch.', 1), ('stop!', 1), ('whale�balls', 1), ('forget.”', 1), ('“wish,', 1), ('’stead', 1), ('hisself,”', 1), ('ejaculation', 1), ('philosophy', 1), ('record,', 1), ('esteemed', 2), ('prices', 1), ('viiith’s', 1), ('inventing', 1), ('sauce', 1), ('barbacued', 1), ('porpoises,indeed,', 1), ('eating.', 1), ('balls', 1), ('billiard', 1), ('balls,', 1), ('spiced', 2), ('turtle�balls', 1), ('veal', 1), ('balls.', 2), ('monks', 1), ('dunferm', 1), ('crown.', 1), ('meat�pie', 1), ('appetite.', 1), ('unprejudiced', 1), ('partake', 1), ('esquimaux', 2), ('fastidious.', 1), ('vintages', 1), ('zogranda,', 1), ('recommends', 1), ('strips', 2), ('infants,', 3), ('nourishing.', 1), ('reminds', 4), ('englishmen,', 1), ('mouldy', 5), ('scraps', 4), ('“fritters;”', 1), ('resemble,', 1), ('crisp,', 3), ('housewives’', 1), ('dough�nuts', 1), ('292', 1), ('oly�cooks,', 1), ('fresh.', 1), ('eatable', 1), ('self�denying', 1), ('depreciates', 1), ('richness.', 1), ('prize', 2), ('ox', 4), ('delicately', 1), ('buffalo’s', 1), ('dish),', 1), ('fat.', 1), ('transparent,', 3), ('half�jellied,white', 1), ('cocoanut', 1), ('growth,', 2), ('rich', 3), ('partaking', 2), ('ship�biscuit', 1), ('oil�pots', 1), ('awhile.', 1), ('brains', 4), ('dish.', 1), ('casket', 2), ('axe,', 1), ('plump,', 1), ('whitish', 1), ('lobes', 1), ('(precisely', 1), ('resembling', 4), ('puddings),', 1), ('ﬂour,', 1), ('delectable', 1), ('mess,', 1), ('calves’', 2), ('epicures;', 1), ('bucks', 1), ('epicures,', 1), ('calf’s', 2), ('heads;', 3), ('discrimination.', 1), ('reproachfully', 1), ('“et', 1), ('tu', 1), ('expression.', 2), ('excessively', 1), ('unctuous', 6), ('abhorrence;', 1), ('result,', 2), ('mentioned:', 1), ('murderer;', 1), ('hung;', 1), ('trial', 2), ('oxen,', 1), ('been;', 2), ('meat�market', 1), ('bipeds', 1), ('quadrupeds.', 1), ('cannibal’s', 1), ('jaw?', 1), ('cannibals?', 1), ('cannibal?', 3), ('fejee', 2), ('cellar', 2), ('famine;', 1), ('provident', 1), ('fejee,', 1), ('judgment,', 1), ('gourmand,', 1), ('nailest', 1), ('geese', 1), ('feastest', 1), ('bloated', 1), ('pate�de�foie�gras.', 1), ('293', 1), ('knife�handle,', 1), ('gourmand', 1), ('roast', 2), ('beef,what', 1), ('eating?', 1), ('goose?', 1), ('feather', 1), ('quill', 1), ('secretary', 1), ('suppression', 2), ('cruelty', 1), ('ganders', 1), ('formerly', 2), ('indite', 1), ('circulars?', 1), ('patronize', 1), ('pens.', 1), ('toil,', 1), ('sail;lash', 1), ('a’lee;', 1), ('reservation', 1), ('anchor�watches', 1), ('kept;', 1), ('couple,', 1), ('sometimes,', 5), ('swer', 1), ('incalculable', 2), ('car�', 2), ('skele�', 1), ('ton', 1), ('siderably', 1), ('diminished,', 2), ('whaling�spades,', 2), ('tickle', 1), ('activity.', 1), ('sharks;', 4), ('unaccustomed', 1), ('sights,', 1), ('cheese,', 1), ('maggots', 1), ('anchor�watch', 1), ('cluded;', 1), ('accordingly,', 2), ('suspending', 2), ('stages', 2), ('lanterns,', 1), ('295', 1), ('skulls,', 4), ('foamy', 1), ('hosts,', 1), ('marksmen', 1), ('viciously', 2), ('snapped,', 3), ('ateach', 1), ('disembowelments,', 1), ('ﬂexible', 3), ('own;', 5), ('entrails', 1), ('oppositely', 1), ('voided', 1), ('wound.', 1), ('unsafe', 1), ('corpses', 1), ('creatures.', 3), ('departed.', 2), ('lid', 6), ('shark,”', 1), ('“wedder', 1), ('wat', 1), ('ingin.”', 1), ('whaling�spade', 1), ('cutting�in', 2), ('steel;', 3), ('corresponds', 2), ('named;', 2), ('considerably', 8), ('narrower', 1), ('lower.', 3), ('honed,', 1), ('razor.', 1), ('socket,', 2), ('handle.', 1), ('followed!', 1), ('ex', 2), ('ofﬁcio', 1), ('professors', 1), ('shamble;', 1), ('butcher.', 1), ('offer�', 1), ('oxen', 2), ('tackles,', 4), ('cluster', 4), ('green,and', 1), ('grapes', 3), ('hawser�like', 1), ('conducted', 2), ('hook,', 3), ('weighing', 3), ('pounds,', 1), ('attached.', 1), ('spades,', 2), ('side�ﬁns.', 1), ('semicircular', 3), ('inserted,', 4), ('chorus,', 1), ('dense', 9), ('windlass.', 2), ('careens', 1), ('nail�heads', 1), ('weather;', 1), ('quivers,', 1), ('nods', 2), ('leans', 1), ('windlass', 5), ('swash', 1), ('triumphant', 3), ('tackle', 5), ('rind', 2), ('orange,', 1), ('297', 1), ('orange', 1), ('spiralizing', 1), ('constantly', 4), ('uniformly', 1), ('“scarf,”', 1), ('spades', 4), ('mates;', 2), ('peeled', 2), ('grazes', 1), ('main�top;', 1), ('heaving,', 3), ('blood�dripping', 2), ('sways', 1), ('sky,', 7), ('dodge', 3), ('swings,else', 1), ('overboard.', 2), ('boarding�sword,and', 1), ('dexterously', 2), ('slices', 2), ('siderable', 1), ('blubber,', 5), ('follows.', 1), ('whereupon,', 2), ('accomplished', 3), ('swordsman,', 1), ('sidelong,', 1), ('desperate,', 1), ('slicings,', 1), ('severs', 1), ('strip,', 1), ('blanket�piece,', 1), ('heavers', 2), ('song,', 1), ('peeling', 1), ('hatchway', 1), ('unfurnished', 1), ('blubber�room.', 1), ('blanket�piece', 1), ('proceeds;', 1), ('ously;', 1), ('singing,', 2), ('blubber�room', 2), ('coiling,', 1), ('scarﬁng,', 1), ('occasionally,', 2), ('assuaging', 1), ('friction.', 1), ('unvexed', 1), ('controversies', 1), ('unchanged;', 1), ('opin�', 1), ('ion.', 1), ('consistence', 2), ('close�', 1), ('grained', 1), ('tougher,', 1), ('compact,', 1), ('ranges', 1), ('preposterous', 1), ('creature’s', 4), ('thickness,', 3), ('arguments', 2), ('presumption;', 1), ('enveloping', 3), ('blubber;', 1), ('outermost', 2), ('reasonably', 2), ('dense,', 1), ('skin?', 1), ('unmarred', 1), ('shreds', 3), ('isinglass,', 1), ('satin;', 1), ('dried,', 1), ('contracts', 1), ('thickens,', 1), ('brittle.', 1), ('bits,', 2), ('whale�books.', 1), ('exerted', 1), ('magnifying', 2), ('inﬂuence.', 1), ('spectacles,', 1), ('isinglass', 2), ('admit,', 1), ('299', 1), ('thinner', 1), ('tender', 3), ('new�born', 3), ('child.', 1), ('oil;', 4), ('fourths,', 1), ('coat;', 3), ('integument', 1), ('liquid', 2), ('ton,', 2), ('net', 2), ('engravings.', 1), ('impressed', 2), ('engraved', 1), ('observant', 1), ('linear', 2), ('marks,', 3), ('delineations.', 1), ('hieroglyphical;', 1), ('cyphers', 1), ('walls', 4), ('hieroglyphics,', 1), ('connexion.', 1), ('retentive', 1), ('characters', 1), ('hieroglyphic', 2), ('palisades', 1), ('mississippi.', 1), ('mystic�marked', 1), ('undecipherable.', 1), ('phenomena', 1), ('exterior', 2), ('presents,', 1), ('effaced', 1), ('scratches,', 1), ('irregular,', 1), ('agassiz', 1), ('imagines', 1), ('resemble', 1), ('scratches', 1), ('hostile', 2), ('remarked', 1), ('bulls', 1), ('stript', 3), ('pieces,', 3), ('blanket�', 1), ('sea�terms,', 1), ('signiﬁcant.', 1), ('wrapt', 2), ('counterpane;', 1), ('poncho', 1), ('slipt', 1), ('skirting', 1), ('extremity.', 2), ('300', 1), ('blanketing', 1), ('enabled', 3), ('fortable', 1), ('weathers,', 1), ('tides.', 1), ('unsupplied', 3), ('surtout?', 1), ('hy�', 1), ('perborean', 1), ('cold�blooded,', 1), ('refrigerators;', 1), ('bask', 1), ('ﬁre;', 6), ('freeze', 1), ('dies.', 1), ('explanation', 1), ('warmth', 1), ('waters!', 2), ('amber.', 1), ('exper�', 1), ('iment,', 1), ('warmer', 1), ('borneo', 1), ('summer.', 1), ('tome,', 1), ('vitality,', 2), ('spacious�', 1), ('oh,man!', 1), ('thyself', 10), ('ice.', 1), ('dome', 2), ('peter’s,', 1), ('retain,', 1), ('temperature', 2), ('things!', 1), ('erections,', 1), ('domed', 1), ('peter’s!', 1), ('aul', 1), ('chains!', 1), ('carcase', 3), ('astern!”', 1), ('duty.led', 1), ('beheaded', 2), ('ﬂashes', 4), ('sepulchre;', 1), ('percepti�', 1), ('bly', 2), ('colossal.', 1), ('splashed', 1), ('insatiate', 2), ('rapacious', 2), ('fowls,', 3), ('beaks', 1), ('sulting', 1), ('poniards', 1), ('headless', 1), ('roods', 2), ('cubic', 2), ('din.', 1), ('unclouded', 1), ('wafted', 1), ('joyous', 1), ('perspectives.', 1), ('funeral!', 1), ('sea�vultures', 1), ('impi�', 1), ('mourning,', 1), ('air�sharks', 1), ('punctiliously', 1), ('speckled.', 1), ('ween,', 1), ('peradventure', 1), ('piously', 1), ('pounce.', 1), ('vulturism', 1), ('desecrated', 1), ('survives', 1), ('scare.', 1), ('espied', 1), ('man�of�war', 1), ('discovery�', 1), ('afar,', 1), ('obscuring', 1), ('unharming', 2), ('breakers', 3), ('hereabouts:', 1), ('beware!', 2), ('sheep', 1), ('vacuum,', 1), ('302', 1), ('precedents;', 1), ('utility', 1), ('traditions;', 1), ('survival', 1), ('beliefs', 1), ('bottomed', 1), ('orthodoxy!', 1), ('foes,', 1), ('believer', 2), ('ghosts,', 1), ('friend?', 1), ('cock�', 1), ('lane', 1), ('doctor', 1), ('stripping', 2), ('beheaded.', 1), ('beheading', 1), ('themselves:', 1), ('reason.', 1), ('neck;', 1), ('join,', 1), ('operate', 2), ('discolored,', 1), ('untoward', 3), ('ﬂesh;', 1), ('subterraneous', 3), ('ever�contracting', 2), ('gash', 2), ('skilfully', 3), ('adjacent,', 1), ('interdicted', 1), ('spine', 8), ('marvel,', 1), ('behead', 1), ('severed,', 1), ('stripped.', 1), ('disposed', 2), ('impossible;', 1), ('bulk,', 6), ('barn', 1), ('jewellers’', 1), ('scales.', 1), ('stripped,', 1), ('buoyed', 3), ('element.', 1), ('steeply', 2), ('304', 1), ('yard�arm', 1), ('waist', 1), ('holofernes’s', 1), ('girdle', 2), ('judith.', 1), ('copper', 5), ('lotus,', 1), ('unfolding', 1), ('noiselessness', 1), ('main�chains', 1), ('spade', 8), ('decapitation', 1), ('half�suspended', 1), ('crutch�wise', 1), ('attentively', 4), ('sphynx’s', 1), ('desert.', 1), ('“speak,', 1), ('head,”', 1), ('“which,', 1), ('ungarnished', 1), ('hoary', 1), ('mosses;', 1), ('divers,', 1), ('deepest.', 1), ('gleams,', 1), ('foundations.', 1), ('untold', 1), ('rot;', 1), ('ballasted', 2), ('drowned;', 1), ('water�land,', 1), ('sleepless', 1), ('saw’st', 3), ('lovers', 3), ('maw;', 1), ('unharmed', 1), ('shivered', 5), ('husband', 2), ('outstretched,', 1), ('longing', 1), ('head!', 3), ('planets', 2), ('abraham,', 1), ('thine!”', 1), ('“sail', 3), ('ho!”', 1), ('cheering,”', 1), ('thunder�clouds', 1), ('us!”', 2), ('“better', 1), ('305', 1), ('breezelessness', 1), ('breeze!', 2), ('analogies!', 1), ('atom', 1), ('mind.”', 1), ('faster', 4), ('rock.', 2), ('whale�ship.', 1), ('response', 1), ('marines,', 1), ('amer�', 1), ('ican', 1), ('fleet', 1), ('signal;', 1), ('signals', 2), ('attached,', 1), ('thereby,', 1), ('facility.', 1), ('jeroboam', 3), ('abeam', 1), ('nigh;', 1), ('side�ladder', 1), ('rigged', 6), ('accommo�', 2), ('epidemic', 2), ('mayhew,', 3), ('infecting', 1), ('untainted,', 1), ('riﬂe�shot', 1), ('incorrupt�', 1), ('ible', 1), ('conscientiously', 1), ('quarantine', 1), ('refused', 2), ('communication.', 1), ('307', 1), ('fresh),', 1), ('main�top�sail', 4), ('aback;', 1), ('wave,', 2), ('ahead;', 3), ('bearings', 1), ('interruptions', 2), ('sustained', 2), ('interruption', 1), ('sort.', 3), ('notabilities', 1), ('totalities.', 1), ('youngish', 1), ('freckles,', 1), ('hair.', 1), ('long�skirted,', 1), ('cabalistically�cut', 1), ('walnut', 1), ('fanatic', 2), ('he!', 2), ('long�togged', 1), ('scaramouch', 2), ('of!”', 1), ('jeroboam,', 1), ('town�ho.', 1), ('subsequently', 3), ('learned,', 2), ('every�', 1), ('jeroboam.', 1), ('niskyeuna', 2), ('shak�', 1), ('ers,', 2), ('prophet;', 1), ('descended', 4), ('trap�door,', 1), ('vial,', 3), ('vest�pocket;', 1), ('gunpowder,', 1), ('lau�', 1), ('danum.', 1), ('apostolic', 2), ('craziness,', 1), ('exterior,', 1), ('green�hand', 1), ('freshet.', 1), ('manifesto,', 1), ('vicar�general', 1), ('oceanica.', 1), ('things:', 1), ('sleepless,', 1), ('imagination,', 1), ('at�', 2), ('mosphere', 1), ('sacredness.', 1), ('308', 1), ('apprised', 4), ('individual’s', 1), ('seals', 4), ('vials', 1), ('devot�', 1), ('unconditional', 4), ('perdition,', 1), ('disciples', 2), ('remain.', 1), ('plan.', 1), ('maltreated,', 1), ('freedom', 1), ('consequence', 3), ('ever;declaring', 1), ('plague,', 4), ('cringed,', 1), ('fawned', 1), ('instructions,', 1), ('rendering', 4), ('homage,', 1), ('incredible;', 1), ('fanatics', 1), ('self�deception', 1), ('deceiving', 1), ('bedevilling', 1), ('epidemic,', 1), ('may�', 2), ('hew,', 1), ('stern;', 3), ('board.”', 1), ('“think,', 3), ('fevers,', 2), ('bilious!', 1), ('plague!”', 1), ('“gabriel,', 1), ('gabriel!”', 1), ('mayhew;', 2), ('seethings', 1), ('speech.', 1), ('“hast', 6), ('drifted', 3), ('sunk!', 1), ('tail!”', 1), ('ﬁends.', 1), ('moments,', 3), ('riotous', 4), ('caprices', 1), ('tum�', 1), ('bling,not', 1), ('jogged', 1), ('violently,', 1), ('warrant.', 1), ('mayhew', 2), ('however,without', 1), ('frequent', 2), ('309', 1), ('existence', 3), ('greedily', 1), ('intelligence,', 1), ('gibbering', 1), ('insanity,', 1), ('shaker', 1), ('incarnated;', 1), ('shakers', 1), ('bible.', 1), ('sighted', 2), ('macey,', 5), ('burned', 6), ('ardor', 2), ('unwilling', 1), ('opportunity,', 2), ('despite', 1), ('archangel’s', 1), ('denunciations', 1), ('forewarnings,', 1), ('persuading', 1), ('pulling,', 2), ('perilous,', 1), ('unsuccessful', 1), ('onsets,', 1), ('fast.', 2), ('main�royal', 1), ('gestures,', 2), ('hurling', 1), ('prophecies', 1), ('sac�', 1), ('rilegious', 1), ('assailants', 1), ('divinity.', 1), ('reckless', 4), ('venting', 1), ('essaying', 1), ('oarsmen.', 2), ('descent,', 2), ('yards.', 1), ('harmed,', 2), ('parenthesize', 1), ('sperm�whale', 1), ('annihilated;', 1), ('thigh�board,', 1), ('stands,', 1), ('accompanies', 1), ('stances', 1), ('recovered,', 1), ('discernible;', 1), ('vial!', 1), ('vial!”', 1), ('terror�stricken', 1), ('lieved', 1), ('speciﬁcally', 1), ('fore�announced', 1), ('prophecy,', 1), ('margin', 6), ('allowed.', 1), ('narration,', 1), ('310', 1), ('opportunity', 3), ('offer.', 1), ('“aye.”', 3), ('exclaimed,', 4), ('blasphemer', 1), ('blasphemer’s', 1), ('end!”', 1), ('stolidly', 1), ('aside;', 3), ('“captain,', 1), ('bethought', 2), ('letter�bag;', 1), ('bag.”', 1), ('delivery', 2), ('addressed,', 1), ('depends', 1), ('sorely', 2), ('post�boy.', 1), ('“can’st', 1), ('scrawl;', 1), ('this?”', 2), ('cutting�', 1), ('insert', 2), ('muttered,', 1), ('har', 1), ('harry', 2), ('woman’s', 4), ('pinny', 1), ('wager)', 1), ('jeroboam;', 1), ('dead!”', 1), ('“poor', 2), ('fellow!', 4), ('wife,”', 1), ('thyself,”', 2), ('“curses', 1), ('throttle', 1), ('ceive', 1), ('it;”', 2), ('missive', 1), ('so,the', 1), ('desisted', 1), ('magic,', 2), ('gabriel’s', 1), ('boat�knife,', 2), ('mutinous', 2), ('interlude,', 1), ('staying', 1), ('everywhere.', 1), ('retrace', 1), ('little.', 1), ('mentioned', 5), ('blubber�hook', 1), ('hole?', 1), ('ﬂensing', 1), ('concluded.', 1), ('submerged,', 2), ('ﬂounders', 1), ('revolves', 1), ('tread�mill', 1), ('costume', 1), ('socks', 1), ('advantage;', 2), ('bow�oar', 1), ('forward),', 1), ('hard�', 1), ('scrabble', 1), ('scramble', 1), ('organ�boys', 1), ('dancing�ape', 1), ('cord.', 3), ('monkey�rope,', 2), ('312', 1), ('ends;', 1), ('belt,', 1), ('worse,', 1), ('wedded;', 1), ('elongated', 1), ('siamese', 2), ('ligature', 1), ('twin', 3), ('brother;', 1), ('liabilities', 1), ('bond', 2), ('entailed.', 1), ('metaphysically', 1), ('conceive', 2), ('situation', 4), ('motions,', 2), ('individuality', 1), ('two:', 1), ('wound;', 1), ('another’s', 2), ('misfortune', 1), ('unmerited', 1), ('interregnum', 1), ('providence;', 1), ('even�handed', 1), ('equity', 1), ('sanctioned', 1), ('gross', 1), ('injustice.', 1), ('jerked', 3), ('jam', 2), ('pondering,', 1), ('breathes;', 1), ('plurality', 1), ('mortals.', 1), ('banker', 1), ('breaks,', 1), ('snap;', 1), ('apothecary', 1), ('sends', 1), ('poison', 2), ('pills,', 2), ('caution,', 1), ('heedfully', 1), ('jerk', 3), ('fall,', 2), ('both.', 1), ('jamming', 3), ('unappalled', 1), ('freshly', 2), ('keenly', 2), ('rabid', 1), ('swarmed', 1), ('beehive.', 1), ('miscellaneously', 1), ('carnivorous', 1), ('sel�', 1), ('dom', 2), ('holder', 2), ('improvement', 1), ('guarantee', 1), ('faithfulness', 1), ('holder.', 1), ('313', 1), ('ravenous', 1), ('pie,', 1), ('ingly,', 1), ('protection.', 2), ('stages,', 2), ('whale�spades,', 1), ('wherewith', 1), ('slaughtered', 2), ('disinterested', 1), ('happiness,', 1), ('admit;', 1), ('zeal', 2), ('blood�mudded', 1), ('indiscreet', 1), ('amputating', 1), ('yojo,', 2), ('twin�brother,', 1), ('slacked', 2), ('all?', 1), ('gasp', 2), ('foes;', 1), ('pickle', 1), ('lad.', 1), ('courage!', 1), ('store', 2), ('advances,', 1), ('benevolent,', 1), ('consolatory', 1), ('cogniac?', 1), ('ginger', 3), ('water!', 2), ('“ginger?', 2), ('ginger?”', 1), ('suspiciously', 1), ('ginger,”', 1), ('untasted', 1), ('ginger?', 3), ('ginger!', 2), ('fuel', 2), ('kindle', 1), ('sea�coal?', 1), ('ﬁre�wood?', 1), ('lucifer', 1), ('matches?', 1), ('tinder?', 1), ('gunpowder?', 1), ('ginger,', 1), ('sneaking', 1), ('business,”', 1), ('kannakin,', 1), ('sir:', 2), ('please.”', 1), ('countenance,', 1), ('added:', 1), ('calomel', 1), ('jalap', 1), ('apothecary,', 1), ('bellows', 2), ('half�drowned', 1), ('314', 1), ('steward,”', 1), ('“we’ll', 1), ('drug', 1), ('apothecary’s', 1), ('medicine', 1), ('insurances', 1), ('proceeds,', 1), ('me,”', 1), ('ginger�jub', 1), ('“ginger�jub!', 1), ('gingerly', 1), ('rascal!', 1), ('lockers,', 1), ('grog', 1), ('“enough,”', 1), ('“only', 3), ('hit,', 1), ('weazel.', 1), ('thyself.”', 1), ('reappeared,', 1), ('tea�caddy', 1), ('contained', 5), ('charity’s', 2), ('press,', 1), ('forenoon,', 1), ('patches', 1), ('creatures;', 1), ('commissioned', 2), ('crozetts', 1), ('beheaded,', 2), ('wanting.', 1), ('leeward;', 4), ('flask’s,', 1), ('pursuit.', 1), ('malice;', 1), ('rods', 5), ('diving', 5), ('“cut,', 1), ('cut!”', 2), ('316', 1), ('tubs,', 3), ('rapidly,', 2), ('critical;', 1), ('tightened', 1), ('plied', 2), ('contending', 1), ('under.', 1), ('gain.', 1), ('tremor', 1), ('quivering;', 1), ('drippings,', 1), ('ﬂy.', 1), ('fagged', 2), ('abated', 3), ('speed,', 2), ('altering', 3), ('performed', 1), ('circuit.', 1), ('ﬂanking', 1), ('multitudes', 1), ('swum', 1), ('spilled,', 2), ('thirstily', 1), ('gash,', 1), ('israelites', 1), ('fountains', 2), ('vomit,', 1), ('towing,', 1), ('lump', 2), ('lard,”', 1), ('disgust', 1), ('“wants', 1), ('larboard;', 1), ('capsize?’', 1), ('gamboge', 1), ('ships’', 1), ('charms.', 1), ('tusk', 1), ('snake’s', 1), ('stubb?”', 4), ('“sink', 1), ('flask”', 1), ('i!', 1), ('disguise.', 1), ('ship?', 3), ('tucks', 1), ('317', 1), ('oakum', 4), ('boots.”', 1), ('hammock;', 2), ('coil', 5), ('rigging.”', 2), ('for?”', 3), ('“striking', 1), ('swap', 2), ('bargain,', 1), ('suppose.”', 1), ('“bargain?', 1), ('0', 21), ('“pooh!', 1), ('skylarking;', 1), ('ﬂag�ship', 1), ('switching', 2), ('gentlemanlike,', 1), ('governor', 3), ('wanted.', 1), ('hoofs,', 1), ('john.’', 1), ('governor.', 1), ('yours,’', 1), ('him.’', 1), ('‘take', 1), ('him,’', 1), ('cholera', 1), ('mouthful.', 1), ('alongside.”', 2), ('telling,”', 1), ('where.”', 1), ('spaniards?', 1), ('bloody�minded', 1), ('soldadoes?', 1), ('did?”', 1), ('“no:', 1), ('mourning', 1), ('devil?', 2), ('latch�key', 1), ('admiral’s', 2), ('porthole?', 1), ('mainmast', 2), ('there?”', 6), ('oughts,', 1), ('fedallah’s', 2), ('age.', 1), ('coopers', 1), ('creation', 3), ('oughts', 1), ('sea�toss,', 1), ('chance.', 1), ('318', 1), ('ducking,', 2), ('anyhow.”', 1), ('back.”', 1), ('“duck', 1), ('“suppose', 1), ('orlop', 1), ('sneaks', 1), ('much.', 2), ('flask;', 5), ('daresn’t', 1), ('double�darbies,', 1), ('deserves,', 1), ('lets', 1), ('kidnapping', 2), ('people;', 1), ('kidnapped,', 1), ('governor!”', 1), ('kidnap', 1), ('nape', 1), ('beelzebub,', 1), ('fuss,', 1), ('grab', 1), ('docked', 1), ('sneak', 1), ('legs.”', 1), ('whip', 4), ('else?”', 1), ('“mean', 1), ('hailed,', 2), ('necessaries', 1), ('so?”', 2), ('parmacetti’s.”', 1), ('counterpoise', 1), ('regained', 1), ('keel;', 5), ('believe.', 1), ('locke’s', 1), ('kant’s', 1), ('trimming', 1), ('foolish!', 1), ('thunder�heads', 1), ('overboard,and', 1), ('crown�piece.', 1), ('carcases', 1), ('astern;', 3), ('head�laden', 1), ('mule', 1), ('319', 1), ('overburdening', 1), ('panniers.', 1), ('parsee', 14), ('shadow;', 1), ('parsee’s', 5), ('lengthen', 1), ('ahab’s.', 3), ('laplandish', 1), ('bandied', 1), ('ere,', 1), ('noteworthy.', 1), ('tremes', 1), ('observable', 2), ('deck:', 1), ('heads.', 3), ('massive', 3), ('mathematical', 3), ('symmetry', 1), ('lacks.', 1), ('dignity.', 1), ('giv�', 1), ('experience.', 1), ('“greyheaded', 1), ('note', 3), ('dissimilar', 2), ('organs,', 1), ('lashless', 1), ('colt’s', 1), ('proportion', 3), ('sideway', 1), ('321', 1), ('ears;', 1), ('survey', 2), ('grees', 1), ('side�line', 1), ('dagger', 1), ('stealing', 3), ('fronts', 2), ('(side', 1), ('fronts):', 1), ('eyes?', 1), ('ani�', 1), ('mals', 1), ('imperceptibly', 1), ('effectually', 1), ('towers', 1), ('lakes', 1), ('valleys;', 1), ('organ', 5), ('imparts.', 1), ('nothingness', 1), ('sentry�box', 2), ('sashes', 2), ('window.', 1), ('win�', 2), ('dows,', 1), ('impairing', 1), ('view.', 7), ('reader', 2), ('puzzling', 2), ('hint.', 2), ('involuntary;', 1), ('undiscriminating', 1), ('attentively,', 1), ('completely,', 1), ('darkness;', 2), ('excluded', 1), ('contemporary', 2), ('consciousness.', 1), ('act;', 1), ('comprehensive,', 1), ('combining,', 1), ('man’s,', 1), ('prospects,', 1), ('direction?', 1), ('322', 1), ('demonstrations', 1), ('problems', 2), ('euclid.', 1), ('investigated,', 1), ('incongruity', 1), ('idle', 2), ('whim,', 1), ('vacillations', 1), ('beset', 2), ('timidity', 2), ('liability', 1), ('frights,', 1), ('helpless', 3), ('perplexity', 1), ('diametrically', 1), ('organ.', 1), ('leaf', 1), ('wondrously', 2), ('opening,', 1), ('evenly', 1), ('membrane,', 3), ('imperceptible', 1), ('hare’s?', 1), ('lens', 1), ('herschel’s', 1), ('telescope;', 2), ('capacious', 1), ('porches', 1), ('cathedrals;', 1), ('hearing?', 1), ('“enlarge”', 1), ('mind?', 2), ('subtilize', 1), ('levers', 1), ('steam�engines', 1), ('kentucky', 1), ('mammoth', 1), ('chaste�looking', 1), ('mouth!', 1), ('lined,', 1), ('bridal', 1), ('satins.', 1), ('snuff�box,', 1), ('hinge', 1), ('portcullis;', 1), ('proves', 2), ('spikes', 2), ('force.', 1), ('fath�', 1), ('oms', 1), ('sulky', 3), ('right�angles', 1), ('jib�boom.', 1), ('dispirited;', 1), ('perhaps;', 1), ('hypochondriac;', 1), ('supine,', 1), ('ungainly', 1), ('plight,', 1), ('reproach', 1), ('tribe,', 2), ('imprecate', 2), ('lock�jaws', 1), ('323', 1), ('unhinged', 1), ('artist', 1), ('canes,', 1), ('umbrella�stocks,', 1), ('riding�whips.', 1), ('anchor;', 1), ('dentists,', 1), ('cutting�spade,', 3), ('gums;', 1), ('ringbolts,', 1), ('michigan', 1), ('stumps', 2), ('oaks', 2), ('wood�', 1), ('forty�two', 1), ('undecayed;', 1), ('fashion.', 2), ('sawn', 1), ('slabs,', 1), ('joists', 3), ('building', 1), ('houses.', 1), ('rossing', 1), ('war�chariot', 1), ('(especially', 1), ('rounded);', 1), ('inelegant', 1), ('galliot�toed', 1), ('shoe.', 1), ('shoemaker’s', 1), ('shoe,', 1), ('nursery', 1), ('tale,', 1), ('brood,', 1), ('lodged,', 1), ('progeny.', 1), ('�shaped', 1), ('spout�holes,', 2), ('bass�viol,', 1), ('spiracles,', 1), ('apertures', 1), ('sounding�board.', 1), ('ﬁx', 1), ('crested,', 1), ('comb�', 1), ('incrustation', 1), ('greenlanders', 1), ('“crown,”', 1), ('“bonnet”', 1), ('ﬁxing', 1), ('oak,', 2), ('crotch.', 1), ('nestle', 1), ('bonnet,', 1), ('technical', 1), ('“crown”', 1), ('diademed', 1), ('diadem.', 1), ('sulk', 3), ('pout', 2), ('pout,', 1), ('measurement,', 1), ('325', 1), ('pity,', 1), ('unfortunate', 2), ('hare�lipped.', 1), ('ﬁssure', 1), ('across.', 3), ('peruvian', 3), ('earthquakes', 1), ('gape.', 1), ('threshold,', 1), ('mackinaw,', 1), ('went?', 1), ('roof', 2), ('angle,', 1), ('ridge�pole', 1), ('ribbed,', 2), ('arched,', 1), ('pre�sent', 1), ('scimetar�shaped', 1), ('slats', 1), ('whalebone,', 1), ('depending', 1), ('bone,', 7), ('cursorily', 1), ('fringed', 1), ('ﬁbres,', 1), ('strains', 1), ('intricacies', 2), ('retains', 1), ('curves,', 1), ('hollows,', 1), ('ridges,', 1), ('calculate', 2), ('age,', 2), ('circular', 2), ('rings.', 1), ('certainty', 2), ('criterion', 1), ('demonstrable,', 1), ('savor', 2), ('analogical', 1), ('reasonable.', 1), ('prevailed', 1), ('blinds.', 1), ('purchas', 1), ('“whiskers”', 1), ('“hogs’', 2), ('bristles;”', 1), ('hackluyt', 1), ('elegant', 1), ('language:', 1), ('chop,', 1), ('arch', 2), ('mouth.”', 1), ('bristles,”', 1), ('“ﬁns,”', 1), ('“whiskers,”', 1), ('“blinds,”', 1), ('stiffening', 1), ('contrivances.', 1), ('decline.', 1), ('anne’s', 2), ('glory,', 1), ('farthingale', 1), ('gaily,', 1), ('shower,', 1), ('thoughtlessness,', 1), ('protection;', 1), ('umbrella', 1), ('whiskers', 3), ('whisker,', 2), ('moustache,', 2), ('hairs', 2), ('tufts', 1), ('brigandish', 1), ('326', 1), ('colonnades', 2), ('haarlem', 1), ('organ,', 1), ('pipes?', 1), ('carpet', 4), ('rug', 1), ('softest', 1), ('turkey', 1), ('glued,', 1), ('six�barreler;', 1), ('then:', 2), ('sperm;', 5), ('mandible', 1), ('whale’s.', 1), ('bone;', 4), ('lip;', 1), ('tongue.', 1), ('sink,', 2), ('prairie�like', 1), ('placidity,', 2), ('speculative', 1), ('head’s', 1), ('death?', 1), ('stoic;', 1), ('platonian,', 1), ('spinoza', 1), ('re', 3), ('quitting,', 1), ('physiologist,', 1), ('remark', 3), ('collectedness.', 1), ('investigate', 1), ('unexaggerated,', 1), ('estimate', 1), ('point;', 2), ('satisfactorily', 1), ('appalling,', 1), ('slopes', 2), ('backwards,', 2), ('socket', 3), ('boom�like', 1), ('chin.', 2), ('promi�', 1), ('nence', 1), ('extreme,', 1), ('sloping', 2), ('vestige', 1), ('cranial', 2), ('development.', 1), ('boneless', 3), ('wad.', 1), ('revealed,', 2), ('comprise', 2), ('impregnably', 1), ('effeminacy.', 1), ('pre�', 7), ('328', 1), ('vious', 1), ('orange.', 1), ('difference:', 1), ('toughness,', 1), ('inestimable', 2), ('sharpest', 1), ('impotently', 2), ('rebounds', 1), ('horses’', 1), ('hoofs.', 1), ('indiamen', 1), ('contact,', 1), ('wood.', 4), ('cork,', 3), ('toughest', 1), ('ox�hide.', 1), ('bravely', 1), ('uninjured', 1), ('snapped', 5), ('handspikes', 3), ('crow�bars.', 1), ('illustrates', 1), ('hypothetically', 1), ('bladder', 1), ('capable,', 1), ('distension', 2), ('contraction;', 1), ('provision', 2), ('depresses', 2), ('unobstructed', 3), ('elasticity', 3), ('envelop;', 1), ('unique', 1), ('hypo�', 1), ('thetically', 1), ('lung�celled', 1), ('honeycombs', 1), ('susceptible', 1), ('contraction.', 1), ('irresistibleness', 1), ('impalpable', 1), ('destructive', 1), ('contributes.', 1), ('impregnable,', 1), ('uninjurable', 1), ('estimated', 2), ('cord;', 1), ('obedient', 2), ('insect.', 1), ('detail', 3), ('specialities', 1), ('centrations', 1), ('monster;', 1), ('braining', 1), ('feats;', 1), ('renounced', 1), ('incredulity,', 1), ('abide', 3), ('isthmus', 1), ('darien,', 1), ('elevate', 1), ('eye�brow.', 1), ('provincial', 1), ('sentimentalist', 1), ('truth.', 1), ('salamander', 1), ('provincials', 1), ('befel', 2), ('weakling', 1), ('goddess’s', 1), ('sais?', 1), ('ow', 2), ('baling', 3), ('aright,', 2), ('oblong,', 1), ('plane,', 1), ('quoins,', 1), ('struc�', 1), ('cranium', 1), ('bones;', 2), ('fore�', 2), ('subdivide', 1), ('quoin,', 1), ('vided', 1), ('tendinous', 4), ('subdivided', 1), ('junk,', 1), ('honeycomb', 1), ('re�crossing,', 1), ('inﬁltrated', 3), ('cells,', 2), ('extent.', 1), ('mystically', 1), ('numerable', 1), ('devices', 2), ('adornment', 1), ('tun.', 3), ('wines', 1), ('rhenish', 1), ('valleys,', 2), ('vintages;', 1), ('highly�prized', 1), ('pure,', 1), ('limpid,', 1), ('odoriferous', 1), ('unalloyed', 1), ('fectly', 2), ('ﬂuid,', 2), ('exposure', 1), ('concrete;', 1), ('crystalline', 1), ('shoots,', 1), ('quoin', 2), ('euclidean', 1), ('mathematics.', 1), ('inclination', 1), ('sides.', 2), ('330', 1), ('unavoidable', 1), ('leaks,', 1), ('dribbles', 1), ('costly', 2), ('coated', 1), ('richness', 1), ('coating', 1), ('pearl�colored', 1), ('lining', 1), ('pelisse,', 1), ('twenty�six', 1), ('depth', 6), ('tun,', 4), ('decapitating', 1), ('operator’s', 1), ('instrument', 2), ('magazine;', 1), ('has,', 2), ('untimely', 2), ('invade', 2), ('sanctuary', 1), ('wastingly', 1), ('contents.', 1), ('decap�', 1), ('itated', 1), ('combinations,', 1), ('wilderness', 4), ('tapped.', 1), ('imble', 1), ('cat,', 1), ('posture,', 1), ('overhanging', 2), ('main�yard�arm,', 1), ('travelling', 1), ('single�sheaved', 1), ('block.', 1), ('yard�arm,', 1), ('hand�over�', 1), ('lands', 1), ('vivaciously', 2), ('muezzin', 1), ('prayers', 1), ('short�handled', 2), ('searches', 1), ('heedfully,', 1), ('treasure�', 1), ('iron�bound', 3), ('well�bucket,', 1), ('whip;', 1), ('alert', 1), ('bucket', 8), ('guides', 1), ('disappears;', 1), ('dairy�maid’s', 1), ('pail', 1), ('milk.', 1), ('full�freighted', 2), ('emptied', 2), ('re�mounting', 1), ('harder', 3), ('harder,', 1), ('332', 1), ('heedless', 4), ('one�handed', 1), ('cabled', 1), ('suspend�', 1), ('oozy;', 1), ('reasons;', 1), ('exactly,', 1), ('eightieth', 1), ('suckingly', 1), ('head�foremost', 1), ('heidelburgh,', 1), ('gurgling,', 1), ('overboard!”', 1), ('sternation', 1), ('senses.', 1), ('“swing', 1), ('hand�hold', 1), ('hoisters', 1), ('tumult.', 1), ('struggles', 1), ('ilous', 1), ('sunk.', 1), ('swung,', 1), ('drunk', 1), ('reeled', 4), ('iceberg.', 1), ('depended,', 1), ('drop,', 2), ('suspended;', 1), ('ne�', 1), ('gro', 1), ('ramming', 1), ('cartridge', 1), ('avast!', 1), ('avast,', 2), ('tackle!”', 1), ('rocket.', 1), ('thunder�boom,', 1), ('niagara’s', 1), ('table�rock', 1), ('copper;', 1), ('333', 1), ('pendulous', 1), ('poor,', 4), ('buried�alive', 1), ('sea!', 3), ('boarding�sword', 1), ('splash', 2), ('rescue.', 2), ('ripple,', 1), ('sinker', 1), ('“ha!', 3), ('ha!”', 3), ('“both!', 1), ('both!', 1), ('both!”', 1), ('brisk.', 1), ('rescue', 2), ('accomplished?', 1), ('lunges', 1), ('scut�', 1), ('tash', 2), ('averred,', 1), ('presented;', 1), ('trouble;', 2), ('somerset', 1), ('trial,', 1), ('expected.', 1), ('obstetrics', 2), ('deliverance,', 1), ('impediments;', 1), ('forgotten.', 2), ('midwifery', 1), ('taught', 3), ('fencing', 1), ('boxing,', 1), ('riding', 1), ('gay�header’s', 1), ('indian’s,', 1), ('sidering', 1), ('slipperiness', 1), ('curb', 1), ('peradventure,', 1), ('sagaciously', 2), ('urged,', 1), ('tissued,', 1), ('lightest', 1), ('corky', 1), ('makest', 1), ('contents,', 2), ('334', 1), ('welded,', 1), ('sinks', 1), ('almost.', 1), ('counteracted', 1), ('undetached', 1), ('agile', 1), ('delivery,', 1), ('perishing;', 1), ('smothered', 2), ('whitest', 1), ('daintiest', 2), ('spermaceti;', 1), ('cofﬁned,', 1), ('hearsed,', 1), ('tombed', 2), ('chamber', 1), ('sanctum', 1), ('sanctorum', 1), ('sweeter', 1), ('delicious', 3), ('ohio', 1), ('honey�hunter,', 1), ('honey', 2), ('embalmed.', 1), ('many,', 2), ('plato’s', 1), ('scan', 2), ('bumps', 2), ('physiognomist', 1), ('phrenologist', 2), ('undertaken.', 1), ('enterprise', 1), ('hopeful', 2), ('lavater', 2), ('scruti�', 1), ('nized', 1), ('gibraltar,', 1), ('gall', 2), ('manipulated', 2), ('pantheon.', 1), ('studies', 1), ('birds,', 1), ('dwells', 1), ('modiﬁca�', 1), ('tions', 1), ('therein.', 1), ('disciple', 1), ('spurzheim', 1), ('phrenological', 2), ('pioneer,', 1), ('ap�', 3), ('plication', 1), ('semi�sciences', 1), ('endeavor.', 1), ('achieve', 1), ('physiognomically', 3), ('anomalous', 2), ('modiﬁes', 1), ('combined', 7), ('expression;', 1), ('absence,', 1), ('appendage,', 1), ('gardening,', 1), ('spire,', 2), ('cupola,', 1), ('monument,', 1), ('completion', 1), ('scene;', 2), ('open�work', 1), ('belfry', 1), ('phidias’s', 1), ('jove,', 4), ('remainder!', 1), ('never�', 1), ('theless,', 1), ('proportions', 2), ('stately,', 1), ('deﬁciency', 1), ('sculptured', 3), ('hideous,', 1), ('impertinent.', 1), ('physiognomical', 2), ('jolly�boat,', 1), ('conceptions', 1), ('336', 1), ('pulled.', 1), ('insist', 2), ('obtruding', 1), ('beadle', 1), ('throne.', 2), ('pasture,', 1), ('curled', 5), ('deﬁles,', 1), ('elephant’s', 3), ('majestic.', 1), ('seal', 4), ('afﬁxed', 1), ('decrees.', 1), ('“god:', 1), ('alpine', 1), ('foreheads', 1), ('shakspeare’s', 1), ('melancthon’s', 1), ('tideless', 1), ('lakes;', 1), ('forehead’s', 3), ('antlered', 1), ('deer.', 1), ('immensely', 2), ('ampliﬁed,', 1), ('precisely;', 1), ('revealed;', 1), ('none,', 1), ('proper;', 1), ('ﬁrmament', 2), ('pleated', 4), ('dumbly', 2), ('proﬁle,', 2), ('diminish;', 1), ('viewed,', 1), ('domineer', 1), ('horizontal,', 1), ('semi�crescentic', 1), ('lavater’s', 1), ('genius.', 1), ('genius', 2), ('speech?', 1), ('orient', 1), ('child�magian', 1), ('crocodile', 2), ('tongueless;', 1), ('protrusion.', 1), ('cultured,', 1), ('lure', 1), ('birth�right,', 1), ('old;', 3), ('livingly', 2), ('enthrone', 1), ('egotistical', 2), ('unhaunted', 1), ('jove’s', 1), ('champollion', 2), ('deciphered', 1), ('granite', 2), ('hieroglyphics.', 1), ('decipher', 1), ('ing’s', 1), ('physiognomy,', 1), ('science,', 1), ('337', 1), ('jones,', 1), ('languages,', 1), ('simplest', 1), ('peasant’s', 1), ('meanings,', 1), ('unlettered', 1), ('chaldee', 2), ('sphinx,', 1), ('geometrical', 1), ('square.', 1), ('unhinge', 1), ('angularly', 1), ('squared', 1), ('superincumbent', 1), ('sperm.', 1), ('crater', 4), ('mass;', 1), ('cavity', 4), ('reposes', 1), ('outworks,', 1), ('citadel', 1), ('ampliﬁed', 1), ('fortiﬁcations', 1), ('secreted', 1), ('cubic�yards', 1), ('magazine.', 1), ('folds,', 1), ('courses,', 1), ('convolutions,', 1), ('intelligence.', 2), ('delusion.', 1), ('unload', 1), ('spermy', 1), ('situation,', 1), ('reversed', 2), ('(scaled', 1), ('magnitude)', 1), ('339', 1), ('confound', 2), ('remarking', 1), ('self�esteem,', 1), ('veneration.', 1), ('negations,', 1), ('afﬁrmative', 1), ('truest,', 1), ('exhilarating', 2), ('deem', 3), ('charted,', 1), ('quadruped’s', 1), ('vertebrae', 5), ('dwarfed', 1), ('rudimental', 2), ('proper.', 1), ('undeveloped', 1), ('skulls.', 1), ('resem�', 1), ('blance,', 1), ('germans', 2), ('perceive.', 1), ('verte�', 1), ('brae', 1), ('inlaying,', 1), ('basso�relievo,', 1), ('canoe.', 1), ('phrenologists', 1), ('cerebellum', 1), ('spinal', 8), ('backbone.', 1), ('joist', 3), ('upheld', 1), ('rejoice', 1), ('staff', 3), ('apply', 1), ('phrenology', 1), ('neck�vertebra;', 1), ('vertebra', 1), ('across,', 2), ('downwards.', 1), ('tapers', 5), ('capacity.', 2), ('ﬁbrous', 1), ('cord', 3), ('communicates', 2), ('emerging', 2), ('brain’s', 1), ('cavity,', 1), ('undecreasing', 1), ('phrenologi�', 1), ('cally?', 1), ('smallness', 1), ('compensated', 1), ('phrenologists,', 1), ('vertebrae,', 2), ('convex', 2), ('relative', 2), ('ﬁrmness', 1), ('domitableness', 1), ('indomitable,', 1), ('340', 1), ('jungfrau,', 1), ('derick', 8), ('deer,', 1), ('bremen.', 1), ('longitude,', 1), ('reason,', 6), ('jungfrau', 4), ('respects.', 1), ('impelled', 3), ('impatiently', 2), ('stern.', 8), ('wavingly', 1), ('german.', 1), ('“impossible!', 1), ('lamp�feeder!”', 1), ('coffee�pot,', 1), ('coffee,', 1), ('yarman;', 1), ('tin', 2), ('yarman.”', 1), ('lamp�feeder', 5), ('oil�can.', 1), ('a�begging.”', 1), ('oil�ship', 1), ('borrowing', 1), ('whale�ground,', 1), ('invertedly', 1), ('contradict', 1), ('newcastle,', 1), ('happens;', 1), ('indubitably', 1), ('lamp�', 1), ('feeder', 1), ('declare.', 1), ('heeding', 2), ('lingo,', 1), ('bremen', 1), ('ﬂying�ﬁsh', 1), ('deﬁciency;', 1), ('one),', 1), ('deserving', 1), ('342', 1), ('virgin.', 1), ('supplied,', 1), ('departed;', 1), ('derick,', 2), ('oil�can', 1), ('slewed', 2), ('lamp�feeders.', 2), ('keels.', 2), ('average', 2), ('pod.', 1), ('abreast', 1), ('spans', 3), ('horses', 5), ('harness.', 1), ('unrolling', 1), ('parchment', 3), ('humped', 3), ('bull,', 2), ('progress,', 1), ('incrustations', 1), ('overgrowing', 1), ('afﬂicted', 1), ('jaundice,', 1), ('inﬁrmity.', 1), ('pod', 2), ('questionable;', 1), ('social.', 1), ('retarded', 1), ('white�bone', 1), ('muzzle', 1), ('meet.', 1), ('slow,', 2), ('laborious;', 1), ('gush,', 1), ('shreds,', 1), ('commotions', 1), ('extremity,', 3), ('upbubble.', 1), ('paregoric?”', 1), ('stomach�ache,', 1), ('afraid.', 1), ('acre', 2), ('stomach�ache!', 1), ('adverse', 1), ('yaw', 2), ('before?', 1), ('tiller.”', 1), ('overladen', 2), ('indiaman', 1), ('hindostan', 1), ('load', 2), ('careens,', 1), ('buries,', 1), ('wallows', 1), ('cumbrous', 1), ('rib�ends,', 1), ('ﬁn.', 4), ('sling', 2), ('arm,”', 1), ('“mind', 1), ('rival', 2), ('largest,', 2), ('velocity,', 2), ('lowered;', 2), ('343', 1), ('derick’s', 2), ('neared', 5), ('rivals.', 1), ('feared,', 1), ('deriding', 1), ('gesture', 1), ('ungracious', 1), ('ungrateful', 1), ('dog!”', 1), ('mocks', 1), ('dares', 1), ('poor�box', 1), ('ago!”', 1), ('greyhounds!', 1), ('men”', 1), ('mad;', 1), ('yarman', 3), ('brandy?', 1), ('brandy,', 1), ('blood�vessel?', 1), ('becalmed.', 1), ('halloo,', 1), ('budding.', 1), ('yarman!', 2), ('spit', 2), ('suds', 1), ('makes!”', 1), ('log!', 1), ('slap�jacks', 1), ('mufﬁns', 1), ('barreler', 1), ('don’t,', 1), ('don’t!', 1), ('duff,', 1), ('sog!', 1), ('sogger!', 1), ('sperm?', 1), ('dollars,', 2), ('bank!', 2), ('bank', 1), ('england!', 1), ('oil�can;', 1), ('retarding', 1), ('rivals’', 1), ('economically', 1), ('toss.', 1), ('unmannerly', 1), ('dogger!”', 1), ('line�of�battle�ship', 1), ('loads', 2), ('red�haired', 1), ('two�and�twenty', 1), ('gay�head?', 1), ('god�dam,”', 1), ('fiercely', 1), ('evenly,', 1), ('incited', 1), ('taunts', 1), ('german,', 1), ('abreast;', 1), ('momentarily', 1), ('loose,', 4), ('chivalrous', 1), ('proudly,', 1), ('slides,', 2), ('ash', 1), ('gallantry,', 1), ('victor', 1), ('crab', 1), ('344', 1), ('midship', 1), ('oarsman.', 1), ('white�ash,', 2), ('consequence,', 2), ('capsizing,', 1), ('rage;', 1), ('shout,', 1), ('forwards,', 2), ('slantingly', 1), ('german’s', 2), ('diagonally', 1), ('foaming', 3), ('pitiable,', 1), ('maddening', 1), ('jet;', 1), ('yawed', 1), ('faltering', 1), ('ﬂight,', 3), ('broke,', 1), ('clipped', 1), ('wing,', 3), ('circles', 6), ('piratical', 2), ('hawks.', 1), ('plaintive', 1), ('fear;', 3), ('chained', 2), ('respiration', 1), ('spiracle,', 1), ('pitiable;', 1), ('portcullis', 1), ('stoutest', 1), ('pitied.', 1), ('advantage,', 1), ('foiled', 2), ('chose', 1), ('hazard', 2), ('unusually', 4), ('tigers', 1), ('diagonal', 1), ('row,', 1), ('barbs;', 3), ('ﬁre!', 2), ('rush,', 2), ('bumped', 1), ('bafﬂed', 2), ('afraid,', 1), ('butter�', 1), ('boxes,”', 1), ('“ye’ll', 1), ('bernard’s', 1), ('distressed', 1), ('travellers.', 1), ('sun�beam!', 1), ('kettles', 1), ('cougar!', 1), ('tilbury', 1), ('wheel�spokes', 1), ('jones', 1), ('plane!', 1), ('mail!”', 1), ('345', 1), ('gasp,', 1), ('tumultuously', 2), ('sounded.', 1), ('loggerheads', 1), ('exhaust', 2), ('lead�lined', 1), ('sterns', 2), ('ceasing', 1), ('sound,', 3), ('expending', 1), ('ticklish.', 1), ('“holding', 1), ('on,”', 1), ('hooking', 1), ('doubted', 3), ('best;', 2), ('presume,', 1), ('stays', 3), ('exhausted.', 1), ('2000', 1), ('immense.', 1), ('under;', 1), ('above�', 1), ('atmospheres.', 1), ('line�of�', 3), ('stores,', 1), ('groan', 2), ('ripple', 1), ('depths;', 1), ('landsman', 4), ('agony!', 1), ('credible', 1), ('clock.', 1), ('suspended?', 1), ('“canst', 2), ('irons?', 1), ('ﬁsh�spears?', 1), ('layeth', 1), ('spear,', 1), ('habergeon:', 1), ('esteemeth', 1), ('straw;', 1), ('ﬂee;', 1), ('stubble;', 1), ('laugheth', 1), ('spear!”', 2), ('creature?', 1), ('unfulﬁlments', 1), ('prophets.', 1), ('thighs', 1), ('ﬁsh�spears!', 1), ('346', 1), ('xerxes’', 1), ('army.', 1), ('stirs,”', 1), ('conducting', 1), ('wires,', 2), ('throbs', 1), ('bounce', 2), ('ice�ﬁeld', 1), ('herd', 7), ('in!', 2), ('rising.”', 1), ('exhaustion.', 1), ('valves', 1), ('non�valvular', 1), ('blood�vessels,', 1), ('drain', 1), ('begun', 1), ('arterial', 1), ('system;', 1), ('streams.', 3), ('fountains,', 2), ('period;', 1), ('ﬂow,', 1), ('well�springs', 1), ('perilously', 2), ('playing,', 1), ('spout�hole', 3), ('rapid,', 2), ('moisture', 4), ('struck.', 1), ('untouched.', 1), ('revealed.', 1), ('beheld.', 1), ('misgrown', 1), ('knot�holes', 1), ('prostrate,', 1), ('occupied,', 1), ('protruded', 1), ('bulbs,', 1), ('pitiable', 1), ('murdered,', 1), ('bridals', 1), ('merry�makings', 1), ('illuminate', 2), ('347', 1), ('inoffensiveness', 1), ('disclosed', 2), ('discolored', 1), ('protuberance,', 1), ('bushel,', 1), ('spot,”', 1), ('once.”', 1), ('“there’s', 6), ('late.', 1), ('ulcerous', 1), ('goaded', 1), ('bespattering', 1), ('glorying', 1), ('capsizing', 2), ('marring', 1), ('helplessly', 4), ('made;', 5), ('ﬂapped', 1), ('belly;', 1), ('log,', 3), ('died.', 2), ('piteous,', 1), ('expiring', 3), ('spout.', 3), ('stiﬂed', 1), ('gurglings', 1), ('spray�column', 1), ('lowers', 2), ('unriﬂed.', 1), ('immediately,', 2), ('points,', 3), ('buoy;', 1), ('cords.', 1), ('management,', 1), ('ﬂuke�chains,', 2), ('artiﬁcially', 1), ('upheld,', 1), ('spade,', 2), ('corroded', 2), ('described.', 2), ('healed', 1), ('prominence', 1), ('denote', 2), ('ulceration', 1), ('lance�head', 1), ('lance?', 2), ('when?', 1), ('rummaged', 1), ('cabinet', 1), ('discoveries,', 1), ('unprecedentedly', 1), ('ordering', 1), ('affairs,', 1), ('resolutely,', 1), ('capsized,', 1), ('348', 1), ('locking', 2), ('timber�heads', 1), ('ﬂuke�chains', 1), ('cables', 3), ('fastened,', 1), ('aslant.', 1), ('gabled', 1), ('gasped.', 1), ('inlayings', 1), ('cabins', 1), ('dislocation.', 1), ('crows', 1), ('adrift', 3), ('timber�heads;', 1), ('submerged', 6), ('approached,', 1), ('ponderosity', 1), ('“hold', 2), ('thunder,', 2), ('pen�knife,', 1), ('chains.”', 1), ('“knife?', 1), ('hatchet,', 1), ('porthole,', 1), ('ﬂuke�chains.', 1), ('strokes,', 1), ('sparks,', 1), ('given,', 1), ('snap,', 1), ('adrift;', 1), ('inevitable', 1), ('buoyancy,', 2), ('meagre,', 1), ('broken�hearted', 1), ('pads', 1), ('lard', 2), ('rheumatic;', 1), ('assert', 1), ('health,', 1), ('aspirations,', 1), ('ﬂush', 1), ('ton;', 1), ('incumbrance', 1), ('lapse', 2), ('rises,', 2), ('obvious.', 1), ('gases', 1), ('generated', 1), ('magnitude;', 1), ('balloon.', 1), ('349', 1), ('bays', 1), ('buoys', 1), ('rope;', 6), ('uncapturable', 1), ('fin�back’s', 1), ('unskilful', 1), ('brute.', 1), ('crowding', 2), ('keels,', 1), ('fin�backs,', 1), ('dericks,', 1), ('enterprises', 1), ('disorderliness', 1), ('method.', 1), ('researches', 2), ('spring�head', 1), ('honor�', 1), ('ableness', 1), ('antiquity;', 1), ('demi�gods', 1), ('heroes,', 2), ('prophets', 2), ('subordinately,', 1), ('emblazoned', 1), ('fraternity.', 1), ('perseus,', 4), ('jupiter,', 2), ('sordid', 1), ('intent.', 1), ('knightly', 1), ('profession,', 1), ('succor', 2), ('distressed,', 1), ('andromeda;', 1), ('andromeda,', 1), ('daughter', 1), ('intrepidly', 1), ('advancing,', 2), ('delivered', 1), ('married', 2), ('maid.', 1), ('exploit,', 1), ('dart.', 2), ('arkite', 1), ('story;', 1), ('city’s', 1), ('legends', 1), ('slew.', 1), ('italy', 1), ('triumph.', 1), ('suggestively', 1), ('joppa', 2), ('akin', 4), ('351', 1), ('chronicles', 1), ('dragons', 1), ('jum�', 1), ('sea,”', 2), ('ezekiel;', 1), ('hereby,', 1), ('versions', 1), ('subtract', 1), ('exploit', 1), ('reptile', 3), ('snake,', 1), ('george,', 2), ('mislead', 1), ('grifﬁn�like', 1), ('horseback,', 1), ('artists;', 1), ('perseus’', 1), ('george’s', 2), ('crawled', 2), ('beach;', 1), ('ridden', 1), ('seal,', 1), ('sea�horse;', 1), ('legend', 1), ('ancientest', 1), ('so�called', 2), ('strict', 4), ('philistines,', 2), ('dagon', 1), ('israel,', 1), ('horse’s', 1), ('remained.', 1), ('stamp,', 1), ('tutelary', 1), ('guardian', 1), ('george.', 1), ('(none', 1), ('patron),', 1), ('frocks', 1), ('decoration', 1), ('hercules', 3), ('dubious:', 1), ('tique', 1), ('crockett', 1), ('kit', 1), ('carson', 1), ('doer', 1), ('rejoicing', 2), ('deeds,', 1), ('mooted.', 1), ('involuntary', 2), ('clan.', 1), ('rived', 1), ('hebrew', 2), ('vice', 3), ('versa;', 1), ('similar.', 1), ('demi�god', 1), ('352', 1), ('prophet?', 1), ('saints,', 1), ('demigods,', 1), ('head�waters', 3), ('fraternity', 1), ('rehearsed', 2), ('shaster,', 2), ('vishnoo,', 3), ('godhead', 1), ('hindoos;', 1), ('vishnoo', 4), ('incarnations,', 1), ('sanctiﬁed', 2), ('bramha,', 1), ('recreate', 1), ('dissolutions,', 1), ('vedas,', 1), ('perusal', 1), ('creation,', 2), ('architects,', 1), ('vedas', 1), ('uttermost', 4), ('depths,', 5), ('rescued', 2), ('volumes.', 1), ('horseman?', 1), ('hercules,', 2), ('vishnoo!', 1), ('member�roll', 1), ('you!', 2), ('eference', 1), ('ceding', 2), ('distrust', 1), ('romans,', 1), ('orthodox', 1), ('arion', 1), ('dolphin;', 1), ('doubt�', 1), ('sag�harbor', 3), ('bibles,', 1), ('unscientiﬁc', 1), ('plates;', 1), ('order),', 1), ('choke', 1), ('him;”', 1), ('jebb’s', 1), ('anticipative', 1), ('ready.', 1), ('nec�', 2), ('essary,', 1), ('bishop,', 1), ('bishop.', 1), ('whist�tables,', 1), ('players.', 1), ('possibly,', 2), ('ensconced', 1), ('tooth;', 1), ('toothless.', 1), ('name)', 1), ('prophet,', 1), ('incarcerated', 1), ('gastric', 1), ('juices.', 1), ('falls', 2), ('exegetist', 1), ('supposes', 1), ('campaign', 1), ('tents,', 1), ('divined', 1), ('continental', 2), ('commen�', 1), ('354', 1), ('tators,', 1), ('ﬁgure�', 1), ('christened', 1), ('“shark,”', 1), ('“gull,”', 1), ('“eagle.”', 1), ('exegetists', 1), ('opined', 1), ('life�preserver', 1), ('inﬂated', 1), ('endan�', 1), ('gered', 1), ('sag�harbor,', 1), ('faith.', 2), ('right:', 1), ('vomited', 1), ('journey', 2), ('tigris,', 1), ('nineveh?', 1), ('tigris', 1), ('site', 2), ('shallow', 4), ('weathering', 1), ('headland', 1), ('bartholomew', 1), ('diaz,', 1), ('reputed', 1), ('discoverer,', 1), ('liar.', 1), ('reprehensible', 1), ('abominable,', 1), ('clergy.', 1), ('nineveh', 2), ('via', 1), ('magniﬁcation', 1), ('miracle.', 1), ('turks', 3), ('devoutly', 2), ('mosque', 2), ('swiftly,', 2), ('axles', 1), ('carriages', 1), ('anointed;', 1), ('analogous', 1), ('grease', 1), ('harm,', 2), ('hostile;', 1), ('bravely.', 1), ('anointing', 1), ('disappeared,', 1), ('occupation;', 1), ('unctuousness', 2), ('crop', 1), ('obedi�', 1), ('ence', 1), ('presentiment.', 1), ('unwarranted', 1), ('raised;', 1), ('precipitancy;', 1), ('cleopatra’s', 1), ('barges', 1), ('actium.', 1), ('exertion,', 1), ('iron;', 2), ('sounding,', 2), ('ﬂeetness.', 2), ('unintermitted', 1), ('strainings', 1), ('extract', 1), ('imperative', 1), ('impossible,', 1), ('furious.', 1), ('remained?', 1), ('dexterities,', 1), ('sleights', 1), ('subtleties,', 1), ('forced,', 1), ('manoeuvre', 1), ('pitchpoling.', 2), ('exercises', 1), ('boasts', 1), ('inveterate', 1), ('accurately', 2), ('356', 1), ('rocking,', 1), ('headway.', 1), ('included,', 1), ('pine.', 1), ('darting.', 1), ('pitchpoled', 1), ('drawbacks.', 1), ('humorous,', 1), ('coolness', 2), ('equanimity', 1), ('emergencies,', 2), ('excel', 1), ('ﬂeecy', 1), ('ahead.', 2), ('lightly,', 1), ('whistlingly', 1), ('grasp,', 1), ('unobstructed.', 1), ('waistband’s', 1), ('butt�end', 1), ('bal�', 1), ('palm,', 1), ('juggler,', 1), ('impulse,', 1), ('quivers', 1), ('spigot', 1), ('“’tis', 2), ('july’s', 1), ('fourth;', 1), ('orleans', 1), ('whiskey,', 1), ('ohio,', 1), ('monongahela!', 1), ('canakin', 1), ('we’d', 2), ('verily,', 1), ('brew', 1), ('punch�bowl', 1), ('quaff', 1), ('stuff!”', 1), ('greyhound', 1), ('skilful', 2), ('leash.', 1), ('ﬂurry;', 1), ('tow�line', 2), ('slackened,', 1), ('pitchpoler', 1), ('sprinkling', 2), ('mistifying', 2), ('pots;', 3), ('sprinklings', 1), ('spoutings', 5), ('(ﬁfteen', 1), ('p.m.', 1), ('sixteenth', 1), ('cember,', 1), ('1850),', 1), ('problem,', 1), ('noteworthy', 2), ('contingent.', 1), ('gills,', 1), ('swim;', 1), ('being’s,', 1), ('inhaling', 2), ('atmosphere.', 1), ('windpipe', 2), ('function', 1), ('withdraws', 1), ('element,', 1), ('vivifying', 1), ('principle,', 1), ('err;', 1), ('358', 1), ('aerated', 1), ('breathing.', 1), ('system�', 1), ('atically', 1), ('(when', 1), ('bottom)', 1), ('gills.', 1), ('vermicelli�like', 1), ('quits', 1), ('oxygenated', 1), ('surplus', 2), ('camel', 1), ('waterless', 1), ('stomachs.', 1), ('indisputable;', 1), ('sup�', 1), ('cogent', 3), ('obstinacy', 1), ('mean.', 4), ('unmolested,', 2), ('unmolested', 2), ('risings.', 1), ('respires', 1), ('breaths;', 2), ('breaths', 5), ('minute.', 1), ('fetches', 1), ('alarm', 3), ('allowance', 1), ('individuals', 2), ('rates', 1), ('different;', 1), ('alike.', 1), ('replenish', 1), ('reservoir', 3), ('good?', 1), ('hazards', 1), ('caught,', 2), ('sunlight.', 1), ('necessities,', 1), ('victory', 1), ('serving', 2), ('pulsations;', 1), ('sleeping,', 2), ('spout�hole;', 3), ('truthfully', 1), ('opine', 1), ('obliterated', 1), ('clogged', 1), ('smelling.', 1), ('359', 1), ('olfactories.', 2), ('violets,', 1), ('cologne�water', 1), ('shut)', 1), ('retention', 1), ('upward', 3), ('exclusion', 1), ('voice;', 2), ('rumbles,', 1), ('talks', 1), ('stammer', 1), ('living.', 1), ('listener!', 1), ('conveyance', 1), ('horizontally,', 1), ('gas�pipe', 2), ('street.', 1), ('returns', 2), ('water�pipe;', 1), ('exhaled', 3), ('discharged', 2), ('spiracle.', 2), ('canal;', 1), ('discharging', 1), ('would.', 1), ('closely,', 1), ('periods', 2), ('respiration.', 1), ('pester', 1), ('subject?', 1), ('air?', 2), ('knottiest', 1), ('undecided', 1), ('precisely.', 1), ('commotion,', 2), ('cascading', 1), ('vapor;', 1), ('perﬁcially', 1), ('ﬁssure,', 1), ('countersunk', 1), ('360', 1), ('mid�day', 2), ('sun�dried', 1), ('dromedary’s', 1), ('desert;', 1), ('basin', 1), ('rain.', 1), ('pitcher', 1), ('outer,', 1), ('happen,', 1), ('feverishly', 1), ('smart,', 1), ('acridness', 1), ('poisonous;', 1), ('evade', 2), ('wisest', 1), ('investigator', 1), ('alone.', 2), ('hypothesize,', 1), ('establish.', 1), ('mon,', 1), ('undisputed', 2), ('shores;', 1), ('beings,', 3), ('plato,', 1), ('pyrrho,', 1), ('dante,', 1), ('semi�visible', 1), ('steam,', 1), ('treatise', 3), ('eternity,', 1), ('mir�', 1), ('ror', 1), ('reﬂected', 1), ('worming', 1), ('undulation', 1), ('shingled', 1), ('attic,', 1), ('argument', 6), ('supposition.', 1), ('overhung', 1), ('canopy', 2), ('vapor,', 1), ('engendered', 1), ('incommunicable', 2), ('contemplations,', 1), ('va�', 1), ('por', 1), ('gloriﬁed', 2), ('rainbow,', 1), ('irradiate', 1), ('vapor.', 1), ('shoot,', 1), ('enkindling', 1), ('heav�', 1), ('enly', 1), ('ray.', 1), ('doubts;', 1), ('deny;', 1), ('denials,', 1), ('intuitions.', 1), ('earthly,', 1), ('361', 1), ('heavenly;', 1), ('combination', 1), ('inﬁdel,', 2), ('regards', 2), ('warbled', 1), ('praises', 1), ('antelope,', 1), ('plumage', 2), ('alights;', 1), ('celestial,', 1), ('girth', 2), ('expands', 2), ('shoaling', 1), ('junction,', 1), ('overlap,', 1), ('recede', 1), ('exquisitely', 1), ('cres�', 1), ('centic', 1), ('borders', 1), ('webbed', 1), ('sinews;', 1), ('strata', 2), ('compose', 1), ('it:', 1), ('upper,', 1), ('layers,', 1), ('horizontal;', 1), ('layers.', 1), ('triune', 1), ('structure,', 1), ('else,', 4), ('student', 2), ('antique,', 1), ('undoubtedly', 1), ('masonry.', 2), ('lo�', 1), ('knit', 1), ('muscular', 1), ('ﬁlaments,', 1), ('pass�', 1), ('loins', 1), ('might;', 2), ('point.', 2), ('anni�', 1), ('hilation', 1), ('363', 1), ('cripple', 3), ('ﬂexion', 1), ('infan�', 1), ('tileness', 1), ('titanism', 1), ('impairs', 1), ('harmony,', 1), ('bestows', 1), ('imposingly', 1), ('beauti�', 1), ('ful,', 1), ('magic.', 1), ('eckermann', 1), ('goethe,', 1), ('arch.', 1), ('angelo', 1), ('reveal', 3), ('curled,', 1), ('hermaphroditical', 1), ('pictures,', 2), ('embodied;', 1), ('brawniness,', 1), ('negative,', 1), ('feminine', 2), ('submission', 1), ('endurance,', 1), ('conceded,', 1), ('virtues', 1), ('teachings.', 1), ('wielded', 2), ('sport,', 1), ('earnest,', 2), ('anger,', 1), ('ﬂexions', 1), ('grace.', 1), ('fairy’s', 1), ('transcend', 1), ('five', 1), ('first,', 2), ('progression;', 1), ('mace', 1), ('sweeping;', 1), ('fourth,', 1), ('lobtailing;', 1), ('fifth,', 1), ('peaking', 2), ('posi�', 1), ('tion,', 2), ('acts', 2), ('wriggles.', 1), ('inferiority.', 1), ('propulsion.', 1), ('scroll�wise', 1), ('darting,', 1), ('side�ﬁns', 1), ('signiﬁcant,', 1), ('conﬂicts', 1), ('contemptuously', 1), ('curves', 1), ('recoil.', 1), ('irresistible.', 1), ('salvation', 1), ('eluding', 1), ('op�', 1), ('posing', 1), ('materials,', 1), ('stitch', 1), ('result.', 1), ('child’s', 3), ('stopped.', 2), ('third:', 1), ('demonstrate', 1), ('364', 1), ('daintiness', 1), ('sweeping,', 1), ('maidenly', 1), ('gentleness', 1), ('slowness', 1), ('tenderness', 1), ('liminary', 1), ('touch!', 1), ('prehensile', 2), ('darmonodes’', 1), ('ﬂower�market,', 1), ('nosegays', 1), ('damsels,', 1), ('caressed', 1), ('zones.', 1), ('fourth:', 1), ('unawares', 1), ('security', 2), ('unbent', 1), ('dignity,', 1), ('kitten�like,', 1), ('plays', 2), ('hearth.', 1), ('smiting', 5), ('thunderous', 1), ('concussion', 1), ('miles.', 2), ('discharged;', 1), ('wreath', 1), ('touch�hole.', 1), ('fifth:', 1), ('or�', 1), ('dinary', 1), ('breach', 3), ('grandest', 1), ('satan', 1), ('claw', 1), ('dantean,', 1), ('isaiah,', 1), ('archangels.', 1), ('crimsoned', 1), ('adoration', 1), ('persia,', 1), ('worshippers.', 1), ('ptolemy', 1), ('philopater', 1), ('testiﬁed', 2), ('beings.', 1), ('juba,', 1), ('comparison', 3), ('365', 1), ('belong.', 1), ('terrier', 1), ('stalk', 1), ('lily.', 1), ('fan,', 1), ('crash', 1), ('juggler', 1), ('tosses', 1), ('deplore', 1), ('inability', 1), ('inexplicable.', 1), ('herd,', 5), ('remark�', 1), ('free�mason', 1), ('symbols;', 1), ('methods', 1), ('intelligently', 1), ('assailant.', 1), ('dissect', 2), ('none?', 1), ('parts;', 1), ('preposterous,', 1), ('elephant;', 1), ('similitude;', 1), ('peninsula', 2), ('malacca,', 1), ('south�eastward', 2), ('territories', 2), ('birmah,', 1), ('asia.', 1), ('contin�', 1), ('uous', 1), ('sumatra,', 2), ('java,', 3), ('bally,', 1), ('timor;', 1), ('mole,', 1), ('rampart,', 1), ('necting', 1), ('studded', 3), ('archipelagoes.', 1), ('rampart', 2), ('sally�', 1), ('convenience', 1), ('sunda', 3), ('malacca.', 1), ('sunda,', 2), ('emerge', 1), ('java;', 1), ('buttressed', 1), ('promontory,', 1), ('java', 2), ('pire:', 1), ('inexhaustible', 1), ('spices,', 1), ('silks,', 1), ('jewels,', 1), ('ivory,', 5), ('riched,', 1), ('treasures,', 1), ('ineffectual,', 1), ('guarded', 1), ('all�grasping', 1), ('fortresses', 1), ('baltic,', 1), ('danes,', 1), ('orientals', 1), ('obsequious', 1), ('top�sails', 1), ('procession', 2), ('cargoes', 1), ('east.', 2), ('waive', 1), ('ceremonial', 1), ('renounce', 2), ('tribute.', 1), ('proas', 1), ('malays,', 2), ('shaded', 3), ('coves', 1), ('islets', 1), ('367', 1), ('straits,', 5), ('tribute', 1), ('chastisements', 1), ('cruisers,', 1), ('audacity', 1), ('corsairs', 1), ('repressed;', 1), ('wa�', 1), ('ters,', 1), ('remorselessly', 4), ('pillaged.', 1), ('fair,', 1), ('northwards,', 1), ('inshore', 1), ('philip�', 1), ('season', 6), ('means,', 2), ('frequent;', 1), ('haunting', 1), ('zoned', 2), ('surely,', 1), ('nay.', 2), ('circus�running', 1), ('raced', 1), ('sustenance', 1), ('whaler.', 2), ('wharves;', 1), ('world�', 1), ('wandering', 2), ('cargo', 1), ('wants.', 1), ('lake’s', 1), ('utilities;', 1), ('unusable', 1), ('kentledge.', 1), ('brackish', 1), ('rafted', 1), ('york,', 1), ('grain', 3), ('ark!”', 1), ('sunda;', 1), ('roundabout,', 2), ('recog�', 2), ('nised', 2), ('admonished', 2), ('awake.', 2), ('delighted', 2), ('cinnamon', 1), ('renouncing', 1), ('368', 1), ('hereabouts,', 1), ('cheering', 4), ('magniﬁcence', 1), ('saluted', 2), ('premised,', 1), ('unwearied', 2), ('companies,', 1), ('herds,', 1), ('embracing', 3), ('multitude,', 2), ('numer�', 1), ('league', 1), ('assistance', 1), ('aggregation', 1), ('cara�', 2), ('vans,', 1), ('greeted', 2), ('thousands.', 1), ('semicircle,', 2), ('whale�jets', 1), ('up�playing', 1), ('noon�day', 1), ('twin�jets', 1), ('top,', 2), ('branches,', 1), ('cleft', 1), ('boughs', 1), ('willow,', 1), ('forward�slanting', 1), ('bush', 1), ('individ�', 1), ('ually', 1), ('bluish', 2), ('haze,', 1), ('chimneys', 1), ('metropolis,', 1), ('scried', 1), ('balmy', 1), ('autumnal', 1), ('horseman', 1), ('height.', 3), ('unfriendly', 1), ('deﬁle', 2), ('march,', 1), ('solid,', 2), ('crescentic', 1), ('centre.', 3), ('weapons,', 1), ('deploy', 1), ('number.', 1), ('worshipped', 2), ('white�elephant', 1), ('siamese!', 1), ('stun�sail', 1), ('stun�sail,', 1), ('crescent', 1), ('369', 1), ('vapors,', 1), ('hovered,', 2), ('disappearing.', 1), ('levelling', 1), ('pivot�hole,', 3), ('crying,', 1), ('“aloft', 1), ('whips', 1), ('sails;', 2), ('headlands,', 1), ('rascally', 1), ('over�cautious', 1), ('philanthropists', 1), ('speeding', 1), ('riding�whips', 1), ('rowels', 1), ('to�and�fro', 1), ('chased,', 2), ('route', 2), ('atheistical', 1), ('infernally', 2), ('curses;', 1), ('gnawing', 1), ('cockatoo', 1), ('beyond;', 1), ('grieve', 1), ('joice', 1), ('victoriously', 1), ('malays.', 1), ('speed;', 2), ('notiﬁed', 1), ('rallied', 1), ('battalions,', 1), ('bayonets,', 1), ('redoubled', 2), ('velocity.', 1), ('shirts', 2), ('drawers,', 3), ('hours’', 1), ('animating', 1), ('plexity', 1), ('irresolution,', 1), ('370', 1), ('gallied.', 1), ('hith�', 1), ('erto', 1), ('rout;', 1), ('porus’', 1), ('alexander,', 1), ('consternation.', 1), ('expanding', 1), ('circles,', 6), ('aimlessly', 1), ('spoutings,', 1), ('distraction', 1), ('panic.', 1), ('paralysed', 1), ('water�logged', 1), ('ﬂock', 1), ('sheep,', 1), ('wolves,', 1), ('excessive', 2), ('dismay.', 2), ('characteristic', 2), ('herding', 1), ('banding', 1), ('thousands,', 1), ('lion�maned', 1), ('buffaloes', 1), ('witness,', 1), ('herded', 1), ('theatre’s', 1), ('outlets,', 1), ('crowding,', 2), ('trampling,', 1), ('jamming,', 1), ('gallied', 2), ('folly', 2), ('outdone', 1), ('retreated,', 1), ('collectively', 1), ('separated,', 1), ('outskirts', 1), ('shoal.', 1), ('minutes’', 1), ('ﬂung;', 1), ('herd.', 1), ('gally,', 1), ('gallow,', 1), ('excessively,', 1), ('saxon', 2), ('shakspere:', 1), ('wrathful', 1), ('gallow', 1), ('wanderers', 1), ('caves.”', 1), ('lear,', 1), ('sc.', 1), ('obsolete.', 1), ('savageries.', 1), ('sinewy', 1), ('saxonisms', 1), ('emigrated', 1), ('new�england', 1), ('commonwealth.', 1), ('furthest�descended', 1), ('etymological', 1), ('howards', 1), ('percys', 1), ('democratised,', 1), ('plebeianised', 1), ('371', 1), ('unprecedented;', 1), ('anticipated;', 1), ('circumspect', 1), ('throb.', 1), ('deaf,', 1), ('leech', 1), ('aced', 1), ('ﬂew,', 1), ('mobbed', 1), ('ice�isles', 1), ('crushed.', 1), ('daunted,', 1), ('manfully;', 1), ('sheering', 1), ('advance;', 1), ('edging', 1), ('darts,', 1), ('ones.', 2), ('idle,', 1), ('wonted', 2), ('dispensed', 1), ('business.', 5), ('“out', 1), ('commodore!”', 1), ('swamp', 1), ('cooling', 1), ('fan�like', 1), ('cu�', 1), ('rious', 1), ('contrivances,', 3), ('druggs.', 1), ('angles;', 1), ('looped,', 1), ('drugg', 2), ('used.', 1), ('possi�', 2), ('encountered;', 1), ('wing', 4), ('requisition.', 1), ('staggeringly', 1), ('fettered', 1), ('drugg.', 1), ('malefactors', 1), ('seats', 1), ('372', 1), ('leaks', 2), ('drugged�harpoons,', 1), ('diminished;', 1), ('disorders', 1), ('waning.', 1), ('vanished;', 2), ('parting', 2), ('momentum,', 1), ('torrent', 1), ('lake.', 1), ('storms', 3), ('satin�like', 1), ('sleek,', 1), ('moods.', 1), ('tumults', 1), ('pods', 2), ('each,', 1), ('ring;', 1), ('titanic', 1), ('circus�rider', 1), ('overarched', 1), ('embayed', 1), ('hemmed', 1), ('lake,', 2), ('cows', 2), ('calves;', 1), ('routed', 1), ('inclusive', 2), ('rim', 1), ('calves', 2), ('fold;', 1), ('prevented', 2), ('stopping;', 1), ('unsophisticated,', 1), ('inexperi�', 1), ('enced;', 1), ('becalmed', 2), ('fearless�', 1), ('conﬁdence,', 1), ('becharmed', 2), ('marvel', 1), ('snufﬂing', 1), ('domesticated', 1), ('patted', 1), ('foreheads;', 1), ('scratched', 1), ('373', 1), ('consequences,', 1), ('vaults,', 2), ('mothers.', 1), ('transparent;', 1), ('infants', 2), ('suckling', 2), ('nourishment,', 1), ('spiritually', 1), ('feasting', 1), ('reminiscence;', 1), ('gulf�weed', 1), ('moth�', 1), ('measured', 8), ('fourteen', 1), ('girth.', 1), ('frisky;', 1), ('irksome', 1), ('lately', 1), ('reticule;', 1), ('unborn', 1), ('tartar’s', 1), ('side�ﬁns,', 1), ('crumpled', 1), ('baby’s', 2), ('“line!', 1), ('gunwale;', 2), ('“him', 1), ('fast!', 2), ('struck?', 2), ('big,', 1), ('little!”', 1), ('ails', 1), ('“look�e', 1), ('queg', 1), ('buoyantly', 1), ('spiralling', 2), ('umbilical', 1), ('madame', 1), ('cub', 3), ('tethered', 1), ('dam.', 1), ('entangled', 4), ('trapped.', 1), ('subtlest', 2), ('divulged', 1), ('pond.', 1), ('amours', 1), ('indifferently', 1), ('seasons;', 1), ('gestation', 1), ('months,', 3), ('esau', 1), ('jacob:', 1), ('contingency', 2), ('teats,', 1), ('situated,', 1), ('anus;', 1), ('breasts', 1), ('extend', 1), ('milk', 5), ('rivallingly', 1), ('discolor', 1), ('rods.', 1), ('rich;', 1), ('strawberries.', 1), ('overﬂowing', 1), ('salute', 1), ('374', 1), ('consternations', 1), ('affrights,', 1), ('indulge', 1), ('concernments;', 1), ('serenely', 4), ('revelled', 1), ('dalliance', 1), ('delight.', 1), ('tornadoed', 1), ('centrally', 2), ('disport', 1), ('mute', 1), ('ponder�', 1), ('revolve', 1), ('bathe', 2), ('entranced,', 1), ('drugging', 1), ('frontier', 1), ('host;', 1), ('circle,', 4), ('drugged', 6), ('alert,', 1), ('hamstring', 1), ('sundering', 2), ('maiming', 1), ('tail�tendon.', 1), ('learned)', 1), ('effectually,', 1), ('arnold,', 1), ('saratoga,', 1), ('wound', 7), ('tangled', 2), ('harpoon�line', 2), ('towed;', 1), ('weapon,', 1), ('manently', 1), ('cutting�spade', 1), ('ﬂailing', 1), ('wounding', 1), ('ter�', 1), ('riﬁc', 1), ('afar;', 1), ('swell;', 1), ('submarine', 1), ('bridal�chambers', 1), ('nurseries', 1), ('orbits', 1), ('thickening', 1), ('departing.', 1), ('advanc�', 1), ('hominum.', 1), ('375', 1), ('block�ice', 1), ('hudson', 1), ('tumbling', 3), ('moun�', 1), ('“oars!', 2), ('oars!”', 1), ('“gripe', 1), ('by!', 2), ('shove', 1), ('so!', 1), ('bulks,', 1), ('dardanelles', 1), ('lengths.', 1), ('opening;', 1), ('outlet.', 1), ('hair�breadth', 1), ('escapes,', 1), ('salva�', 1), ('cheaply', 1), ('air�eddy', 1), ('movement;', 1), ('clumped', 1), ('renewed', 1), ('onward', 1), ('augmented', 1), ('useless;', 1), ('waifed.', 1), ('pennoned', 1), ('possession,', 1), ('illustrative', 2), ('inducing', 1), ('aggregations.', 1), ('occasion�', 1), ('each.', 1), ('schools.', 3), ('sorts;', 1), ('tirely', 2), ('females,', 1), ('mustering', 3), ('males,', 4), ('bulls,', 1), ('designated.', 1), ('cavalier', 1), ('fe�', 1), ('evinces', 1), ('gallantry', 1), ('ottoman,', 1), ('surroundingly', 1), ('solaces', 1), ('endearments', 1), ('harem.', 1), ('ottoman', 3), ('concubines', 1), ('striking;', 1), ('proportions,', 1), ('average�sized', 1), ('male.', 1), ('delicate,', 1), ('dozen', 1), ('denied,', 1), ('en', 2), ('bon', 1), ('harem', 6), ('ramblings.', 1), ('fashionables,', 1), ('leisurely', 1), ('variety.', 1), ('ﬂower', 1), ('returned,', 1), ('warmth.', 1), ('lounged', 2), ('promenade', 1), ('equator', 5), ('anticipa�', 2), ('377', 1), ('journeys,', 1), ('wary', 1), ('family.', 1), ('unwarrantably', 2), ('pert', 1), ('dentially', 1), ('bashaw', 2), ('assails', 1), ('chases', 1), ('away!', 4), ('unprincipled', 2), ('rakes', 1), ('sanctity', 1), ('lothario', 1), ('duels', 1), ('admirers;', 1), ('love.', 1), ('elks', 1), ('warringly', 1), ('interweave', 1), ('antlers.', 1), ('scars', 1), ('furrowed', 1), ('scolloped', 1), ('dislocated', 1), ('mouths.', 1), ('supposing', 4), ('invader', 1), ('bliss', 1), ('harem’s', 1), ('diverting', 1), ('lord.', 1), ('insinuates', 1), ('revels', 1), ('lothario,', 1), ('concubines.', 1), ('turks;', 1), ('lavish', 1), ('beget,', 1), ('help.', 1), ('omnivorous', 1), ('roving', 1), ('named,', 1), ('nursery,', 1), ('bower;', 1), ('exotic.', 1), ('declines;', 1), ('dumps', 1), ('increase;', 1), ('lends', 1), ('pauses;', 1), ('lassitude', 1), ('overtakes', 1), ('sated', 1), ('turk;', 1), ('supplants', 1), ('maidens;', 1), ('impotent,', 1), ('repentant,', 1), ('admonitory', 1), ('for�', 3), ('swears,', 1), ('disbands', 1), ('harem,', 1), ('exemplary,', 1), ('parallels', 1), ('amorous', 1), ('errors.', 1), ('cally', 1), ('schoolmaster.', 1), ('satirical,', 1), ('title,', 1), ('surmised', 1), ('378', 1), ('memoirs', 2), ('vidocq,', 1), ('country�schoolmaster', 1), ('frenchman', 3), ('younger', 2), ('occult', 1), ('lessons', 1), ('inculcated', 1), ('pupils.', 1), ('secludedness', 1), ('isolation', 1), ('betakes', 1), ('univer�', 1), ('sally,', 1), ('moss�bearded', 1), ('boone,', 1), ('na�', 1), ('herself;', 1), ('secrets.', 1), ('trast', 1), ('female', 2), ('characteristically', 1), ('timid,', 1), ('forty�barrel�bulls,', 1), ('proverbially', 1), ('greyheaded,', 1), ('penal', 1), ('gout.', 1), ('forty�barrel�bull', 2), ('collegians,', 1), ('wickedness,', 1), ('reck�', 2), ('rollicking', 1), ('underwriter', 1), ('turbulence', 1), ('fourths', 1), ('grown,', 1), ('settlements,', 1), ('harems.', 1), ('sexes.', 1), ('devil!', 2), ('waifs', 1), ('waif�poles', 1), ('necessi�', 1), ('tates', 1), ('regulations', 1), ('badge.', 1), ('escape,', 2), ('comprised', 2), ('minor', 1), ('contingencies,', 1), ('feature.', 1), ('drifting', 2), ('retaken', 1), ('vexatious', 1), ('dis�', 3), ('putes', 1), ('arise', 1), ('unwritten,', 1), ('universal,', 1), ('applicable', 1), ('cases.', 1), ('mal', 1), ('code', 2), ('authorized', 1), ('legislative', 1), ('enactment,', 1), ('holland.', 2), ('decreed', 1), ('states�general', 1), ('1695.', 1), ('leg�', 1), ('islators', 1), ('lawyers', 2), ('terse', 1), ('justinian’s', 1), ('pandects', 1), ('by�laws', 1), ('meddling', 2), ('engraven', 1), ('farthing,', 1), ('barb', 4), ('soonest', 1), ('masterly', 1), ('brevity', 1), ('commentaries', 2), ('expound', 1), ('fast�', 1), ('fish?', 2), ('controllable', 1), ('occupant', 1), ('occupants,', 1), ('380', 1), ('nine�inch', 1), ('cable,', 2), ('telegraph', 1), ('wire,', 1), ('strand', 2), ('cobweb,', 1), ('waif,', 1), ('possession;', 1), ('waiﬁng', 2), ('ability', 1), ('commentaries;', 1), ('knocks', 1), ('coke�upon�littleton', 1), ('ﬁst.', 2), ('allowances', 1), ('scrupulous.', 1), ('whale�trover', 1), ('litigated', 1), ('england,', 5), ('plaintiffs', 2), ('plaintiffs)', 1), ('forsake', 1), ('defen�', 1), ('dants', 1), ('ship)', 1), ('seized,', 1), ('appropriated', 1), ('plaintiffs.', 1), ('defendants', 2), ('remonstrated', 1), ('plain�', 1), ('tiffs’', 1), ('doxology', 2), ('seizure.', 1), ('sued', 1), ('recovery', 1), ('erskine', 4), ('defendants;', 2), ('ellenborough', 2), ('judge.', 1), ('defence,', 1), ('witty', 1), ('illustrate', 1), ('cent', 1), ('crim.', 1), ('con.', 1), ('bridle', 1), ('wife’s', 2), ('viciousness,', 2), ('instituted', 1), ('lady,', 1), ('stress', 1), ('loose�ﬁsh;', 1), ('re�harpooned', 1), ('gentleman’s', 1), ('property,', 1), ('stick�', 1), ('contended', 1), ('reciprocally', 1), ('pleadings,', 2), ('counter', 2), ('wit,', 1), ('awarded', 1), ('plaintiffs,', 1), ('lives;', 1), ('troverted', 1), ('381', 1), ('capture;', 1), ('ﬁsh)', 1), ('acquired', 2), ('articles;', 1), ('aforesaid', 1), ('theirs.', 1), ('ploughed', 1), ('principles', 3), ('quoted,', 1), ('elucidated', 1), ('case;', 1), ('loose�fish,', 3), ('reﬂection,', 1), ('funda�', 1), ('mentals', 1), ('jurisprudence;', 1), ('tracery', 1), ('temple', 5), ('props', 1), ('law:', 1), ('regardless', 1), ('possession?', 1), ('serfs', 1), ('republican', 1), ('slaves', 2), ('fast�fish,', 2), ('law?', 2), ('widow’s', 1), ('mite', 1), ('fast�fish?', 7), ('undetected', 1), ('villain’s', 1), ('mansion', 1), ('door�plate', 1), ('waif;', 1), ('ruinous', 2), ('discount', 2), ('mordecai,', 1), ('broker,', 1), ('woebegone,', 1), ('bankrupt,', 1), ('loan', 1), ('woebegone’s', 1), ('starvation;', 1), ('arch�', 1), ('savesoul’s', 2), ('income', 1), ('£100,000', 1), ('scant', 1), ('broken�backed', 1), ('(all', 1), ('help)', 1), ('100,000', 1), ('duke', 7), ('dunder’s', 1), ('towns', 1), ('hamlets', 1), ('redoubted', 1), ('ireland,', 1), ('lancer,', 1), ('jonathan,', 1), ('texas', 1), ('doctrine', 2), ('applicable,', 1), ('internationally', 1), ('applicable.', 1), ('1492', 1), ('standard', 1), ('mistress?', 1), ('poland', 1), ('czar?', 1), ('greece', 1), ('turk?', 1), ('india', 1), ('england?', 1), ('states?', 1), ('loose�fish.', 1), ('liberties', 1), ('loose�fish?', 4), ('loose�', 1), ('ostentatious', 1), ('smuggling', 1), ('verbalists', 1), ('thinkers', 1), ('reader,', 3), ('too?', 1), ('“de', 1), ('balena', 1), ('vero', 1), ('sufﬁcit,', 1), ('si', 1), ('rex', 1), ('habeat', 1), ('caput,', 1), ('et', 1), ('regina', 1), ('caudam.', 1), ('bracton,', 1), ('l.', 1), ('3,c.', 1), ('3.', 1), ('l', 2), ('atin', 1), ('text,', 2), ('honorary', 1), ('division', 1), ('halving', 1), ('apple;', 1), ('intermediate', 3), ('remainder.', 1), ('spects', 1), ('anomaly', 2), ('courteous', 1), ('prompts', 1), ('railways', 1), ('car,', 1), ('accommodation', 1), ('royalty.', 1), ('above�mentioned', 1), ('stance', 1), ('dover,', 1), ('sandwich,', 1), ('cinque', 3), ('beaching', 1), ('afar', 2), ('jurisdiction', 1), ('policeman', 1), ('beadle,', 1), ('warden.', 1), ('believe,', 1), ('emoluments', 1), ('assignment', 1), ('writers', 3), ('sinecure.', 1), ('warden', 1), ('busily', 3), ('fobbing', 2), ('perquisites;', 1), ('sun�burnt', 1), ('bare�footed,', 1), ('eely', 1), ('wearily', 1), ('dry,', 2), ('383', 1), ('fantasy', 1), ('sipping', 1), ('wives,', 1), ('ale', 2), ('cronies,', 1), ('shares;', 1), ('blackstone', 1), ('fast�fish.', 1), ('warden’s.”', 1), ('respectful', 2), ('scratching', 2), ('nowise', 1), ('soften', 1), ('ideas,', 1), ('speak.', 3), ('“please,', 1), ('warden?”', 1), ('duke.”', 1), ('his.”', 5), ('duke’s', 1), ('beneﬁt;', 1), ('blisters?”', 1), ('livelihood?”', 1), ('bed�ridden', 1), ('“won’t', 1), ('half?”', 1), ('sold,', 1), ('wellington', 1), ('bility', 1), ('deemed,', 1), ('clergyman', 1), ('considera�', 1), ('tion.', 1), ('(both', 1), ('published)', 1), ('gentleman;', 2), ('militant', 1), ('kingdoms,', 1), ('coercing', 1), ('alms', 1), ('beggars?', 1), ('delegated', 1), ('sovereign.', 1), ('plowdon', 1), ('plowdon,', 1), ('excellence.”', 1), ('soundest', 2), ('commentators', 1), ('matters.', 1), ('tail?', 2), ('lawyers!', 1), ('“queen�gold,”', 1), ('queen�pinmoney,', 1), ('prynne,', 1), ('discourseth:', 1), ('queen’s,', 1), ('whalebone.”', 1), ('384', 1), ('bodices.', 1), ('lawyer', 1), ('prynne.', 1), ('mermaid,', 1), ('allegorical', 1), ('sturgeon;', 1), ('limitations,', 1), ('nomi�', 1), ('nally', 1), ('crown’s', 1), ('revenue.', 1), ('sturgeon', 1), ('symbolically', 1), ('congeniality.', 1), ('ambergriese', 1), ('paunch', 1), ('insuffer�', 1), ('fetor', 1), ('denying', 2), ('inquiry.', 1), ('browne,', 1), ('recounted,', 1), ('vapory,', 1), ('discoverers', 1), ('pairs', 2), ('aloft.', 2), ('bet', 1), ('furled', 2), ('nearer,', 3), ('colors', 2), ('peak;', 1), ('cloud', 3), ('sea�fowl', 1), ('circled,', 1), ('unappropriated', 1), ('conceived,', 1), ('odor', 3), ('exhale;', 1), ('assyrian', 1), ('persuade', 2), ('moor', 1), ('attar�of�rose.', 1), ('nosegay', 2), ('problematical', 1), ('dyspepsia,', 1), ('indigestion;', 1), ('defunct', 1), ('386', 1), ('spade�', 1), ('banteringly', 1), ('laughed,', 2), ('jackal', 1), ('crappoes', 1), ('frenchmen', 1), ('mistaking', 2), ('spouts;', 1), ('snuffers,', 1), ('wick', 1), ('into;', 1), ('crappo', 1), ('leavings,', 1), ('mean;', 1), ('sake.', 1), ('jail;', 1), ('cell.', 1), ('chopping', 2), ('ambergris.', 2), ('trying.', 1), ('entrapped', 1), ('breezing', 1), ('fanciful', 1), ('stem�piece', 1), ('stalk,', 1), ('thorns', 1), ('bulb', 1), ('color.', 1), ('boards,', 1), ('gilt', 1), ('letters,', 2), ('“bouton', 1), ('rose,”', 1), ('rose�button,', 1), ('rose�', 1), ('bud;', 1), ('aromatic', 3), ('bouton', 1), ('inscription,', 1), ('bulbous', 1), ('ﬁgure�head', 1), ('rose�bud,', 3), ('smells!”', 1), ('communication', 1), ('spot,', 5), ('bawled', 1), ('“bouton�de�rose,', 1), ('bouton�de�roses', 1), ('english?”', 1), ('rejoined', 2), ('guernsey�man', 5), ('387', 1), ('chief�mate.', 1), ('bouton�de�', 1), ('blanche!', 1), ('no.”', 1), ('minute.”', 1), ('rail', 1), ('report,', 1), ('moulded', 2), ('no!”', 1), ('retired,', 1), ('frenchman.', 1), ('guernsey�man,', 6), ('chains,', 2), ('slung', 1), ('“broke', 1), ('broken,', 3), ('nothing!', 1), ('wax', 2), ('gardenny,', 1), ('posies,', 1), ('bouton�de�rose?”', 1), ('passion.', 1), ('cool?', 1), ('’em?', 1), ('joking', 1), ('aside,', 3), ('though;', 3), ('nonsense', 2), ('whales?', 1), ('gill', 1), ('carcase.”', 1), ('manufacturer', 1), ('mayhap', 1), ('dirty', 2), ('scrape.”', 1), ('fellow,”', 1), ('tasselled', 1), ('worsted,', 1), ('humor.', 1), ('upwardly', 1), ('projected', 3), ('jib�booms.', 1), ('coal�tar,', 1), ('nostrils.', 1), ('stems', 1), ('tobacco�smoke,', 1), ('shower', 4), ('outcries', 1), ('anathemas', 1), ('round�house', 1), ('abaft;', 1), ('ajar', 1), ('surgeon,', 2), ('remonstrating', 1), ('betaken', 1), ('round�', 1), ('(cabinet', 1), ('pest;', 1), ('yelling', 1), ('388', 1), ('entreaties', 1), ('indignations', 1), ('times.', 3), ('augured', 1), ('scheme,', 1), ('detestation', 2), ('conceited', 1), ('ignoramus,', 1), ('unproﬁtable', 1), ('frank', 1), ('circumventing', 1), ('satirizing', 1), ('sincerity.', 1), ('interpreter’s', 1), ('uppermost', 3), ('interview.', 1), ('victim', 1), ('however;', 1), ('velvet', 4), ('vest', 2), ('watch�seals', 1), ('guernsey�', 1), ('interpreting', 1), ('ﬁrst?”', 1), ('seals,', 3), ('babyish', 1), ('judge.”', 1), ('monsieur,”', 1), ('jago', 1), ('monkey.', 1), ('baboon.”', 1), ('vows', 1), ('monsieur,', 4), ('conjures', 1), ('cutting�tackles,', 1), ('conﬁning', 1), ('diddled', 1), ('(aside', 1), ('himself)', 1), ('else.”', 2), ('(meaning', 1), ('mate)', 1), ('inviting', 1), ('bordeaux.', 1), ('389', 1), ('interpreter.', 1), ('“thank', 2), ('diddled.', 1), ('drinking;', 1), ('monsieur', 2), ('drift.”', 1), ('frenchman’s', 2), ('benevolently', 1), ('slacking', 1), ('tow�line.', 2), ('feigned', 1), ('intentions,', 1), ('reap', 1), ('fruit', 3), ('unrighteous', 1), ('cunning.', 1), ('boat�spade,', 1), ('excavation', 1), ('digging', 1), ('pottery', 1), ('loam.', 1), ('excitement,', 1), ('gold�hunters.', 1), ('diving,', 1), ('screaming,', 1), ('disappointed,', 1), ('increased,', 2), ('perfume,', 2), ('regions,', 1), ('purse!', 1), ('purse!”', 1), ('commerce,', 1), ('1791', 1), ('nantucket�born', 1), ('amined', 1), ('commons', 1), ('amber', 2), ('learned.', 1), ('compound', 1), ('amber,', 2), ('substances', 1), ('tinct.', 1), ('soils,', 1), ('brittle,', 1), ('odorless', 1), ('mouth�pieces', 1), ('pipes,', 2), ('beads', 2), ('ornaments;', 1), ('waxy,', 1), ('fra�', 1), ('spicy,', 1), ('perfumery,', 1), ('pastiles,', 1), ('hair�powders,', 1), ('pomatum.', 1), ('cooking,', 1), ('mecca,', 1), ('frankincense', 1), ('peter’s', 1), ('rome.', 2), ('merchants', 1), ('grains', 1), ('claret,', 1), ('regale', 1), ('inglorious', 2), ('dyspepsia', 2), ('administering', 1), ('brandreth’s', 1), ('blasting', 1), ('rocks.', 1), ('ambergris,', 1), ('plates,', 1), ('trousers', 1), ('buttons;', 1), ('incorruption', 1), ('nothing?', 1), ('corinthians,', 1), ('391', 1), ('corruption', 1), ('incorruption;', 1), ('sown', 1), ('dishonor,', 1), ('glory.', 1), ('paracelsus', 1), ('musk.', 1), ('ill�savor,', 1), ('cologne�water,', 1), ('manufacturing', 1), ('worst.', 1), ('appeal,', 1), ('repel', 1), ('biased', 1), ('slanderous', 1), ('aspersion', 1), ('disproved,', 1), ('through�', 1), ('slatternly,', 1), ('untidy', 1), ('rebut.', 1), ('bad.', 1), ('odious', 1), ('stigma', 1), ('originate?', 1), ('traceable', 1), ('bung', 1), ('manner;', 1), ('shortness', 1), ('exposed,', 2), ('forbidding', 2), ('course.', 1), ('unload�', 1), ('cemeteries,', 2), ('dock,', 1), ('excavating', 2), ('grave�yard,', 1), ('foundations', 2), ('lying�in', 1), ('hospital.', 1), ('surmise', 2), ('schmerenburgh', 1), ('smeerenberg,', 1), ('fogo', 1), ('slack,', 1), ('smells,', 1), ('text�book', 1), ('imports', 1), ('(smeer,', 1), ('fat;', 1), ('berg,', 1), ('up),', 1), ('holland', 1), ('furnaces,', 2), ('fat�kettles,', 1), ('sheds;', 1), ('savor.', 1), ('whaler;', 1), ('sume', 1), ('casked,', 2), ('scentless.', 1), ('odor;', 1), ('recognised,', 1), ('detect', 2), ('jew', 1), ('pany,', 1), ('fragrant,', 1), ('enjoys', 1), ('exer�', 1), ('cise;', 1), ('392', 1), ('dispenses', 1), ('musk�scented', 1), ('rustles', 1), ('liken', 1), ('fragrance,', 1), ('magnitude?', 1), ('tusks,', 2), ('redolent', 1), ('myrrh,', 1), ('great?', 1), ('frenchman,', 1), ('sig�', 1), ('niﬁcant', 1), ('lamentable;', 1), ('predes�', 1), ('tinated', 1), ('sequel', 3), ('ship�keepers,', 1), ('ship�keepers', 1), ('slender,', 1), ('clumsy,', 1), ('timorous', 1), ('ship�keeper.', 1), ('pippin', 1), ('nick�name,', 1), ('abbreviation.', 1), ('gloomy�jolly.', 1), ('match,', 1), ('pony', 1), ('developments,', 1), ('eccentric', 1), ('span.', 1), ('torpid', 1), ('intellects,', 1), ('tender�hearted,', 1), ('brightness', 1), ('holidays', 2), ('festivities', 1), ('ﬁner,', 1), ('year’s', 3), ('calendar', 1), ('julys', 1), ('brilliant,', 1), ('brilliancy;', 1), ('lustrous', 1), ('cabinets.', 1), ('panic�striking', 1), ('unaccountably', 2), ('brightness;', 1), ('luridly', 1), ('394', 1), ('illumined', 1), ('ﬁres,', 1), ('ﬁctitiously', 1), ('lustre', 1), ('tolland', 2), ('county', 1), ('connecticut,', 1), ('enlivened', 1), ('ﬁddler’s', 1), ('frolic', 2), ('melodious', 1), ('even�tide,', 1), ('ha�ha!', 1), ('star�belled', 1), ('tambourine.', 2), ('blue�veined', 1), ('pure�', 1), ('watered', 1), ('diamond', 2), ('healthful', 1), ('glow;', 1), ('jeweller', 1), ('gases.', 1), ('effulgences,', 1), ('superb;', 1), ('evil�blazing', 1), ('diamond,', 1), ('divinest', 1), ('crown�jewel', 1), ('stolen', 3), ('am�', 1), ('bergris', 1), ('after�oarsman', 1), ('sprain', 1), ('maimed;', 1), ('temporarily,', 1), ('nervousness;', 1), ('happily,', 1), ('discreditably;', 1), ('care,', 2), ('exhort', 1), ('courageousness', 1), ('utmost,', 1), ('needful.', 1), ('ceived', 2), ('rap,', 3), ('happened,', 2), ('pip’s', 7), ('leap,', 1), ('slack', 3), ('breasted', 1), ('plumping', 1), ('straightened;', 1), ('poltroon.', 2), ('boat�knife', 2), ('sheath,', 1), ('interrogatively,', 1), ('“cut?”', 1), ('looked,', 2), ('sake!', 1), ('ﬂash.', 1), ('“damn', 1), ('recov�', 1), ('assailed', 1), ('execrations', 1), ('permitting', 1), ('cursings', 1), ('evaporate,', 1), ('business�like,', 1), ('ofﬁcially;', 1), ('unofﬁcially', 1), ('advice.', 1), ('motto', 1), ('395', 1), ('more�', 1), ('undiluted', 1), ('future;', 1), ('advice,', 2), ('peremptory', 1), ('“stick', 1), ('jump;', 1), ('alabama.', 3), ('more.”', 1), ('money�making', 1), ('interferes', 1), ('benevo�', 1), ('lence.', 1), ('gods;', 2), ('performance;', 1), ('traveller’s', 2), ('beautiful,', 1), ('bounteous,', 1), ('ﬂatly', 1), ('gold�beater’s', 1), ('extremest.', 1), ('bobbing', 1), ('ebon', 1), ('cloves.', 1), ('exorable', 1), ('winged.', 1), ('shoreless', 1), ('castaway,', 1), ('brightest.', 1), ('spring�carriage', 1), ('lonesomeness', 1), ('intolerable.', 1), ('concentration', 1), ('immensity,', 1), ('hug', 3), ('fate?', 1), ('supposed,', 1), ('quickly,', 1), ('considerateness', 1), ('jeopardized', 3), ('instances;', 1), ('oc�', 1), ('cur;', 1), ('ruthless', 3), ('armies.', 2), ('spying', 2), ('miserably.', 1), ('merest', 1), ('idiot;', 1), ('396', 1), ('jeeringly', 1), ('ﬁnite', 1), ('entirely,', 1), ('unwarped', 1), ('passive', 1), ('misermerman,', 1), ('wisdom,', 1), ('hoarded', 1), ('heaps;', 1), ('joyous,', 2), ('heartless,', 1), ('ever�juvenile', 1), ('eternities,', 2), ('nous,', 1), ('god�omnipresent,', 1), ('insects,', 1), ('orbs.', 1), ('treadle', 1), ('loom,', 3), ('weal', 2), ('uncompro�', 2), ('mised,', 1), ('hardly.', 1), ('narrative,', 1), ('stubb’s,', 1), ('purchased,', 1), ('operations', 1), ('duty,', 1), ('try�works,', 8), ('anon.', 1), ('crystallized', 1), ('oth�', 1), ('constantine’s', 1), ('bath', 1), ('concreted', 2), ('lumps,', 1), ('lumps', 1), ('ﬂuid.', 1), ('cosmetic.', 1), ('clearer!', 1), ('sweetener!', 1), ('softener!', 1), ('molliﬁer!', 1), ('eels,', 1), ('began,', 1), ('ser�', 2), ('pentine', 1), ('spiralize.', 1), ('cross�legged', 1), ('exertion', 1), ('gentle', 5), ('globules', 1), ('tissues,', 1), ('richly', 1), ('opulence,', 1), ('uncontaminated', 1), ('aroma,', 1), ('violets;', 1), ('musky', 2), ('meadow;', 2), ('forgot', 2), ('oath;', 1), ('inexpressible', 1), ('paracelsan', 1), ('allaying', 1), ('anger:', 1), ('bathing', 1), ('bath,', 1), ('divinely', 2), ('ill�will,', 1), ('petulance,', 1), ('malice,', 1), ('squeeze!', 3), ('squeezed', 2), ('398', 1), ('squeezing', 3), ('co�laborers’', 1), ('globules.', 1), ('abounding,', 1), ('affection�', 1), ('ate,', 1), ('friendly,', 1), ('beget;', 1), ('sentimentally;', 1), ('acerbities,', 1), ('ill�humor', 1), ('envy!', 1), ('kindness.', 1), ('ever!', 1), ('expe�', 1), ('riences,', 1), ('shift,', 1), ('attainable', 1), ('felicity;', 1), ('fancy;', 1), ('saddle,', 1), ('ﬁre�side,', 1), ('eternally.', 2), ('visions', 2), ('paradise,', 1), ('spermaceti.', 1), ('discoursing', 2), ('behooves', 1), ('try�works.', 3), ('white�horse,', 1), ('thicker', 1), ('muscle', 2), ('severed', 1), ('white�horse', 1), ('portable', 3), ('oblongs', 1), ('mincer.', 2), ('berkshire', 1), ('marble.', 1), ('fragmentary', 2), ('participating', 1), ('unctuousness.', 1), ('refreshing,', 1), ('convivial,', 1), ('beau�', 1), ('tiful', 1), ('imports,', 1), ('rich,', 2), ('mottled', 1), ('tint,', 1), ('bestreaked', 1), ('purple.', 1), ('plums', 1), ('rubies,', 1), ('citron.', 1), ('confess,', 2), ('foremast', 3), ('cutlet', 1), ('le', 1), ('gros', 1), ('tasted,', 1), ('venison', 2), ('contem�', 1), ('porary', 1), ('vintage', 1), ('vineyards', 1), ('champagne.', 1), ('describe.', 1), ('slob�gollion;', 1), ('ineffably', 1), ('oozy,', 1), ('stringy', 1), ('affair,', 2), ('squeezing,', 1), ('decanting.', 1), ('399', 1), ('ruptured', 1), ('membranes', 1), ('coalescing.', 1), ('gurry,', 1), ('inci�', 1), ('dentally', 1), ('designates', 1), ('glutinous', 1), ('scraped', 3), ('covers', 1), ('nippers.', 1), ('indigenous', 1), ('vocabulary.', 1), ('nipper', 1), ('tail:', 1), ('hoe.', 1), ('edgewise', 1), ('operates', 1), ('squilgee;', 1), ('blandishments,', 1), ('allures', 1), ('impurities.', 1), ('recon�', 1), ('dite', 1), ('blubber�room,', 1), ('inmates.', 1), ('ceptacle', 1), ('blanket�pieces,', 1), ('arrives', 1), ('tyros,', 1), ('workmen.', 1), ('pairs,', 1), ('pike�and�gaff�man', 1), ('spade�man.', 1), ('whaling�pike', 1), ('boarding�weapon', 1), ('gaff', 1), ('boat�hook.', 1), ('gaff,', 1), ('gaffman', 1), ('slipping,', 1), ('lurches', 1), ('spade�man', 1), ('horse�pieces.', 1), ('hone', 1), ('spademan’s', 1), ('shoeless;', 1), ('irresistibly', 2), ('sledge.', 1), ('toes,', 1), ('assistant’s,', 1), ('astonished?', 1), ('juncture', 1), ('post�mortemizing', 1), ('strolled', 1), ('scanned', 1), ('scup�', 1), ('pers.', 1), ('un�hinged', 1), ('cone,', 1), ('kentuckian', 2), ('jet�black', 1), ('maachah', 1), ('judea;', 1), ('asa,', 1), ('depose', 1), ('stroyed', 1), ('abomination', 1), ('kedron,', 1), ('kings.', 1), ('mincer,', 1), ('grandissimus,', 1), ('grenadier', 1), ('cylindrically', 1), ('pelt,', 1), ('pelt', 2), ('boa.', 1), ('pantaloon', 1), ('stretching,', 2), ('diameter;', 1), ('dry.', 1), ('cut�', 1), ('slits', 1), ('arm�holes', 1), ('mincer', 1), ('canonicals', 1), ('calling.', 1), ('investiture', 1), ('ofﬁce.', 1), ('401', 1), ('horse�pieces', 1), ('endwise', 2), ('ca�', 1), ('pacious', 1), ('minced', 1), ('rapt', 2), ('orator’s', 1), ('desk.', 1), ('black;', 2), ('occupying', 1), ('pulpit;', 1), ('leaves;', 1), ('archbishoprick,', 1), ('mincer!', 1), ('leaves!', 2), ('enjoins', 1), ('accelerated,', 1), ('improving', 2), ('quality.', 1), ('b', 2), ('esides', 1), ('outwardly', 1), ('masonry', 4), ('joining', 1), ('constituting', 1), ('brick�kiln', 1), ('roomy', 1), ('square,', 1), ('timbers.', 1), ('sloping,', 1), ('battened', 1), ('hatchway.', 1), ('try�pots,', 2), ('barrels’', 1), ('remarkably', 1), ('clean.', 1), ('soapstone', 3), ('punch�bowls.', 1), ('cynical', 1), ('nap.', 1), ('polishing', 1), ('pot,', 1), ('communications', 1), ('try�pot', 1), ('circling', 3), ('geometry', 1), ('cycloid,', 1), ('ﬁre�board', 1), ('403', 1), ('works.', 2), ('tunnel', 1), ('evaporates.', 1), ('chimneys;', 1), ('oversee', 1), ('hatch,', 2), ('works.”', 1), ('ignition', 1), ('fuel.', 1), ('shrivelled', 2), ('fritters,', 1), ('properties.', 1), ('fritters', 1), ('ﬂames.', 2), ('plethoric', 1), ('martyr,', 1), ('self�consuming', 1), ('misanthrope,', 1), ('ignited,', 1), ('supplies', 3), ('burns', 1), ('smoke!', 1), ('inhale,', 1), ('unspeakable,', 1), ('pyres.', 1), ('judgment;', 1), ('pit.', 1), ('operation.', 1), ('carcase;', 1), ('freshening;', 1), ('intense.', 1), ('licked', 1), ('ﬂames,', 4), ('sooty', 2), ('ﬂues,', 1), ('deed.', 1), ('sulphur�freighted', 1), ('hydriote,', 1), ('canaris,', 1), ('frigates,', 1), ('conﬂagrations.', 1), ('works,', 2), ('hearth', 1), ('tartarean', 1), ('stokers.', 1), ('pronged', 2), ('heaps.', 1), ('sea�sofa.', 1), ('begrimed', 1), ('sweat,', 1), ('matted', 2), ('beards,', 1), ('brilliancy', 2), ('404', 1), ('emblazonings', 1), ('adventures,', 1), ('mirth;', 1), ('laughter', 1), ('furnace;', 1), ('fro,', 2), ('gesticulated', 1), ('dippers;', 1), ('leaped,', 1), ('scornfully', 1), ('champed', 1), ('sides;', 2), ('wrapped,', 1), ('redness,', 1), ('ghastliness', 1), ('drowsiness', 1), ('inexplicable)', 1), ('fatally', 2), ('jaw�', 2), ('open;', 1), ('lids', 2), ('apart.', 1), ('illuminating', 1), ('redness.', 1), ('impression,', 1), ('havens', 1), ('bewildered', 1), ('inverted.', 1), ('fronting', 1), ('compass.', 1), ('hallucination', 1), ('lee!', 1), ('compass;', 1), ('accept', 1), ('hitching', 1), ('405', 1), ('ghastly.', 1), ('bright;', 1), ('forking', 1), ('morn', 1), ('gentler,', 1), ('relief;', 1), ('glorious,', 1), ('golden,', 1), ('liars!', 1), ('swamp,', 1), ('rome’s', 1), ('campagna,', 1), ('sahara,', 1), ('deserts', 1), ('griefs', 2), ('moon.', 1), ('undeveloped.', 1), ('sorrows,', 1), ('truest', 1), ('solomon’s,', 1), ('ecclesiastes', 1), ('vanity.”', 1), ('unchristian', 1), ('solomon’s', 1), ('dodges', 1), ('hospitals', 1), ('jails,', 1), ('grave�yards,', 2), ('operas', 1), ('hell;', 1), ('pascal,', 1), ('rousseau,', 1), ('swears', 4), ('rabelais', 1), ('wise,', 3), ('tomb�stones,', 1), ('solomon.', 1), ('wandereth', 1), ('remain”', 1), ('(i.e.', 1), ('living)', 1), ('invert', 1), ('deaden', 1), ('woe;', 3), ('catskill', 1), ('blackest', 1), ('soar', 1), ('spaces.', 1), ('gorge,', 1), ('gorge', 1), ('swoop', 1), ('soar.', 1), ('canon�', 1), ('ized', 1), ('counsellors.', 1), ('muteness;', 1), ('merchantmen,', 2), ('queens.', 1), ('pallet,', 1), ('lot.', 1), ('aladdin’s', 1), ('pitchiest', 1), ('illumination.', 1), ('free�', 1), ('bottles', 1), ('vials,', 1), ('cooler', 1), ('replenishes', 1), ('mugs', 1), ('vat.', 1), ('solar,', 1), ('lunar,', 1), ('astral', 1), ('april.', 1), ('hunts', 2), ('freshness', 1), ('genuineness,', 1), ('game.', 1), ('moors,', 1), ('valleys', 2), ('beheaded;', 1), ('(on', 1), ('garments', 1), ('killed)', 1), ('surtout', 1), ('executioner;', 1), ('shadrach,', 1), ('meshach,', 1), ('abednego,', 1), ('unscathed', 1), ('descrip�', 1), ('rehearsing', 1), ('decanting', 1), ('blow.', 3), ('punch,', 1), ('six�barrel', 1), ('casks;', 1), ('scoot', 1), ('man�handled', 1), ('course;', 1), ('hammers', 4), ('ofﬁcio,', 1), ('cooper.', 2), ('hatchways', 1), ('unsealed,', 1), ('replaced,', 1), ('hermetically', 1), ('closed,', 1), ('incidents', 1), ('freshets', 2), ('piled;', 1), ('brewery', 1), ('yard;', 1), ('408', 1), ('besooted', 1), ('suffused', 1), ('unctuousness;', 1), ('deafening.', 1), ('scrupulously', 1), ('commander.', 1), ('unmanufactured', 1), ('possesses', 2), ('cleansing', 1), ('virtue.', 1), ('ley', 2), ('adhesiveness', 1), ('exterminates', 1), ('rags', 2), ('restore', 1), ('tidiness.', 1), ('soot', 2), ('brushed', 2), ('cleansed', 2), ('scrubbed', 1), ('nooks;', 1), ('bined', 1), ('simultaneous', 1), ('industry', 1), ('ablutions;', 1), ('shift', 1), ('toe;', 1), ('aglow,', 2), ('bridegrooms', 1), ('new�leaped', 1), ('discourse', 1), ('parlors,', 1), ('sofas,', 1), ('carpets,', 1), ('cambrics;', 1), ('hangings', 1), ('top;', 1), ('musked', 1), ('audacity.', 2), ('allude', 2), ('napkins!', 1), ('mark:', 1), ('furniture,', 2), ('grease�spot', 1), ('sever�', 1), ('labors,', 1), ('slash,', 1), ('sweatings', 1), ('anew', 2), ('try�works;', 1), ('heel', 2), ('cleanse', 1), ('spotless', 1), ('dairy', 1), ('necks', 1), ('frocks,', 1), ('man�killing!', 1), ('409', 1), ('toilings', 1), ('deﬁlements,', 1), ('taberna�', 1), ('cles', 1), ('routine', 1), ('metempsychosis!', 1), ('pythagoras,', 1), ('greece,', 1), ('mild;', 2), ('rope!', 1), ('narration', 1), ('walks,', 1), ('halted', 1), ('longing,', 2), ('hopefulness.', 1), ('doubloon,', 2), ('interpret', 1), ('cipher,', 1), ('cartload,', 1), ('boston,', 1), ('morass', 1), ('purest,', 1), ('raked', 1), ('gorgeous', 4), ('hills,', 1), ('sands,', 1), ('pactolus', 1), ('ﬂow.', 1), ('amidst', 1), ('rustiness', 1), ('verdigris', 1), ('untouchable', 1), ('foulness,', 1), ('glow.', 1), ('amongst', 1), ('livelong', 1), ('pilfering', 1), ('proach,', 1), ('awe�striking', 1), ('wanton', 1), ('411', 1), ('revered', 1), ('talisman.', 1), ('medals', 1), ('token�pieces.', 1), ('palms,', 2), ('alpacas,', 1), ('volcanoes;', 2), ('disks', 1), ('ecliptics,', 1), ('horns�of�', 1), ('plenty,', 1), ('banners', 2), ('waving,', 1), ('luxuriant', 1), ('profusion', 1), ('stamped;', 1), ('preciousness', 1), ('enhancing', 1), ('glo�', 1), ('ries,', 1), ('mints,', 1), ('spanishly', 1), ('poetic.', 1), ('republica', 1), ('ecuador:', 1), ('quito.', 1), ('neath', 2), ('equator,', 2), ('andes,', 3), ('clime', 1), ('autumn.', 1), ('summits;', 1), ('ﬂame;', 1), ('crowing', 1), ('cock;', 1), ('arching', 1), ('tioned', 1), ('zodiac,', 2), ('cabalistics,', 1), ('keystone', 1), ('equinoctial', 1), ('libra.', 1), ('coin,', 1), ('unobserved', 2), ('pausing.', 1), ('mountain�tops', 1), ('lucifer.', 1), ('volcano,', 1), ('courageous,', 1), ('undaunted,', 1), ('victorious', 1), ('fowl,', 1), ('rounder', 1), ('gician’s', 1), ('mirrors', 1), ('pains,', 1), ('gains', 1), ('solve', 3), ('coined', 1), ('storms,', 3), ('equinox!', 1), ('equinox', 1), ('aries!', 1), ('storm!', 1), ('throes,', 1), ('pangs!', 1), ('claws', 1), ('yesterday,”', 1), ('mur�', 1), ('mured', 1), ('belshazzar’s', 1), ('writing.', 1), ('inspectingly.', 1), ('read.', 1), ('heaven�abiding', 1), ('peaks,', 1), ('trinity,', 1), ('vale', 2), ('girds', 1), ('righteousness', 1), ('shines', 1), ('beacon', 1), ('cheer.', 2), ('ﬁxture;', 1), ('412', 1), ('vain!', 2), ('wisely,', 1), ('mildly,', 1), ('falsely.”', 1), ('now’s', 3), ('mogul,”', 1), ('twigging', 1), ('corlaer’s', 1), ('doubloons', 6), ('voyagings;', 1), ('bolivia,', 1), ('popayan;', 1), ('moidores', 1), ('pistoles,', 1), ('joes,', 2), ('joes.', 1), ('dou�', 1), ('bloon', 1), ('wonderful?', 1), ('golconda!', 1), ('truly!', 1), ('epitome', 1), ('almanack', 1), ('ditto.', 1), ('almanack;', 1), ('daboll’s', 2), ('arithmetic,', 1), ('curvicues', 1), ('calendar.', 1), ('wonders;', 1), ('hem,', 2), ('hem;', 1), ('alive:', 1), ('aries,', 2), ('ram;', 1), ('taurus,', 2), ('jimini!', 1), ('gemini', 1), ('twins.', 1), ('sitting�rooms', 1), ('ring.', 2), ('book!', 1), ('experience,', 2), ('calendar,', 1), ('bowditch’s', 1), ('navi�', 1), ('gator,', 1), ('arithmetic', 1), ('wonders,', 2), ('signs,', 2), ('wonders!', 1), ('bit;', 1), ('hist', 1), ('zodiac', 2), ('almanack!', 1), ('begin:', 1), ('lecherous', 1), ('begets', 1), ('gemini,', 1), ('twins', 1), ('vice;', 3), ('cancer', 1), ('crab,', 1), ('leo,', 2), ('lion,', 1), ('bites', 1), ('surly', 1), ('dabs', 1), ('paw;', 1), ('virgo,', 1), ('virgin!', 1), ('marry', 2), ('pop', 1), ('libra,', 1), ('happiness', 1), ('wanting;', 1), ('scorpio,', 1), ('scorpion,', 1), ('stings', 1), ('curing', 2), ('whang', 1), ('arrows', 1), ('sagittarius,', 2), ('archer,', 1), ('amusing', 1), ('413', 1), ('shafts,', 1), ('aside!', 1), ('battering�ram,', 1), ('cornus,', 1), ('goat;', 1), ('tilt,', 1), ('rushing,', 1), ('tossed;', 1), ('aquarius,', 2), ('water�bearer,', 2), ('deluge', 1), ('drowns', 1), ('pisces,', 1), ('fishes,', 1), ('writ', 2), ('hearty.', 1), ('jollily', 1), ('alow', 2), ('jolly’s', 1), ('doubloon!', 1), ('king�post;', 1), ('beginning.”', 1), ('cigar,', 1), ('cigars.', 1), ('cigars,', 1), ('spy', 1), ('“shall', 1), ('wiseish', 1), ('avast;', 1), ('hearse�driver,', 1), ('luffs', 1), ('doubloon;', 3), ('halloa,', 3), ('mast;', 1), ('horse�shoe', 4), ('worn�out', 1), ('coffee�mill.', 1), ('listen!”', 1), ('raised,', 3), ('signs.', 1), ('marks;', 1), ('witch', 1), ('copenhagen.', 1), ('sign;', 1), ('sign?', 1), ('lion.', 1), ('thee.”', 4), ('text.', 1), ('tattooing', 3), ('notes;', 1), ('thigh,', 1), ('calf,', 1), ('bowels,', 1), ('surgeon’s', 1), ('astronomy', 1), ('archer.', 1), ('ghost�devil,', 1), ('fedallah;', 2), ('usual,', 1), ('usual.', 1), ('his?', 1), ('414', 1), ('shipper,', 1), ('ho!', 6), ('died,', 1), ('interpreters', 1), ('looks;', 3), ('look.”', 3), ('murray’s', 1), ('grammar!', 1), ('hist!”', 1), ('hist!', 2), ('funny.”', 1), ('bats;', 1), ('crow,', 1), ('caw!', 6), ('crow?', 1), ('scare�crow?', 1), ('stands;', 1), ('poked', 1), ('jacket.”', 1), ('“wonder', 1), ('complimentary!', 1), ('lad!', 1), ('wits;', 1), ('crazy�witty', 1), ('sanity.', 1), ('muttering.”', 1), ('navel,', 2), ('unscrew', 2), ('consequence?', 1), ('ugly,', 1), ('aught’s', 1), ('desperate.', 1), ('father,', 1), ('county,', 1), ('darkey’s', 1), ('resurrection,', 1), ('bedded', 1), ('bark.', 1), ('gold!', 2), ('precious,', 1), ('miser', 1), ('hoard', 1), ('soon!', 2), ('hish!', 2), ('blackberrying.', 1), ('ho,', 7), ('jenny!', 2), ('hey,', 5), ('jenny,', 1), ('hoe�cake', 1), ('done!”', 1), ('enderby,', 3), ('show�', 1), ('darkly�tanned,', 1), ('burly,', 1), ('good�natured,', 1), ('ﬁne�looking', 1), ('thereabouts,', 1), ('festoons', 1), ('pilot�', 1), ('cloth;', 1), ('broidered', 1), ('huzzar’s', 1), ('surcoat.', 1), ('mallet.', 1), ('impetuously,', 1), ('lower!”', 1), ('trivance', 1), ('warning.', 1), ('hourly', 1), ('clamber', 1), ('instantaneously', 2), ('kelson.', 2), ('deprived', 1), ('invention,', 1), ('abjectly', 1), ('changeful', 1), ('416', 1), ('attain.', 1), ('luck�', 1), ('mishap,', 1), ('cleets', 1), ('tastefully�ornamented', 1), ('man�ropes;', 1), ('one�legged', 1), ('bannisters.', 1), ('awkwardness', 1), ('cutting�tackle.”', 1), ('blubber�hook,', 1), ('curve', 1), ('(it', 3), ('apple', 2), ('tree),', 1), ('hand�over�hand', 1), ('tackle.', 1), ('welcome,', 1), ('advanced,', 2), ('blades)', 1), ('hearty!', 1), ('together!', 1), ('leg!', 4), ('shrink,', 1), ('englishman,', 2), ('rueful', 1), ('season.”', 1), ('englishman’s', 1), ('too?”', 1), ('“spin', 1), ('yarn,”', 1), ('cruised', 1), ('line,”', 1), ('englishman.', 1), ('circus', 1), ('milling', 2), ('trim', 1), ('breaches', 1), ('bouncing', 1), ('milky�white', 1), ('crows’', 1), ('wrinkles.”', 1), ('he!”', 1), ('breath.', 1), ('ﬁn.”', 1), ('irons,”', 1), ('exultingly', 1), ('then,”', 3), ('417', 1), ('good�humoredly.', 2), ('great�grandfather,', 1), ('afoam', 1), ('pod,', 1), ('fast�line.”', 1), ('fast�ﬁsh', 1), ('exactly,”', 1), ('one�armed', 3), ('somehow;', 1), ('hump!', 1), ('ﬂuking.', 1), ('hap�hazard', 1), ('whale�line);', 1), ('mounttop’s', 2), ('mounttop;', 1), ('mounttop', 1), ('captain);', 1), ('great�grandfather', 1), ('jiff,', 1), ('bat', 1), ('befogged', 1), ('bedeadened', 1), ('looming', 1), ('steeple.', 1), ('midday,', 1), ('crown�jewels;', 1), ('groping,', 1), ('toss', 3), ('splinters;', 2), ('chips.', 1), ('ﬂailings,', 1), ('harpoon�pole', 1), ('ﬂash;', 1), ('(clapping', 1), ('shoulder);', 1), ('hell’s', 4), ('thinking;', 1), ('ript', 1), ('ﬂoated;', 1), ('bunger,', 7), ('surgeon:', 1), ('captain).', 1), ('bunger', 2), ('spin', 2), ('yarn.”', 1), ('rank', 2), ('frock', 1), ('marlingspike', 2), ('418', 1), ('pill�box', 1), ('superior’s', 1), ('introduction', 1), ('bowed,', 2), ('wound,”', 1), ('whale�surgeon;', 1), ('“and,', 1), ('boomer', 1), ('sammy', 2), ('“samuel', 1), ('enderby', 3), ('boy.”', 2), ('“stood', 1), ('northward,', 1), ('could;', 2), ('severe', 3), ('diet', 1), ('severe!”', 1), ('chimed', 1), ('“drinking', 1), ('rum', 1), ('toddies', 1), ('bandages;', 1), ('stars!', 2), ('diet.', 1), ('watcher,', 1), ('dietetically', 1), ('severe,', 1), ('bunger.', 1), ('(bunger,', 1), ('rascal.)', 1), ('respected', 1), ('sir”', 2), ('godly�looking', 1), ('times;', 1), ('spins', 1), ('clever', 1), ('passant,', 1), ('my�', 1), ('jack', 1), ('clergy', 1), ('total', 2), ('abstinence', 1), ('“water!”', 1), ('hydrophobia;', 1), ('well,”', 1), ('coolly.', 1), ('observing,', 1), ('boomer’s', 1), ('interruption,', 1), ('endeavors,', 1), ('threatened,', 1), ('rule”', 1), ('club�hammer', 1), ('dent,', 1), ('exposing', 1), ('bowl�like', 1), ('scarry', 1), ('trace,', 1), ('knows.”', 1), ('don’t,”', 1), ('rogue,', 1), ('bunger!', 1), ('419', 1), ('dog;', 1), ('rascal.”', 1), ('bye�play', 1), ('englishmen.', 1), ('“oh!”', 1), ('yes!', 2), ('trick,', 1), ('he.”', 1), ('“did’st', 1), ('again?”', 2), ('“twice.”', 1), ('fasten?”', 1), ('to:', 1), ('enough?', 1), ('arm?', 3), ('swal�', 1), ('lows.”', 1), ('bait', 1), ('gentlemen”', 1), ('gravely', 1), ('mathematically', 1), ('digestive', 1), ('inscrutably', 1), ('constructed', 1), ('providence,', 1), ('digest', 2), ('awkwardness.', 1), ('feints.', 1), ('ceylon,', 1), ('jack�knives,', 1), ('emetic,', 1), ('tacks,', 1), ('system.', 1), ('boomer,', 1), ('pawn', 1), ('yours;', 1), ('shortly,', 1), ('all.”', 2), ('bunger,”', 1), ('ship�load', 1), ('tain?”', 1), ('allures.', 1), ('magnet!', 1), ('last?', 1), ('heading?”', 2), ('“bless', 1), ('curse', 6), ('ﬁend’s,”', 1), ('stoopingly', 1), ('snufﬁng;', 1), ('thermometer!', 1), ('point!', 2), ('pulse', 1), ('beat!', 1), ('lancet', 1), ('420', 1), ('god!”', 1), ('matter?', 1), ('crazy?”', 1), ('cutting�tackle', 1), ('manded', 1), ('oars.', 3), ('fades', 1), ('&', 2), ('sons;', 1), ('tudors', 1), ('bourbons,', 1), ('1775,', 1), ('existence,', 1), ('ﬁsh�documents', 1), ('(1775)', 1), ('(ever', 1), ('1726)', 1), ('maceys', 1), ('ﬂeets', 1), ('atlantic:', 1), ('tucketers', 1), ('1788,', 1), ('amelia,', 1), ('enderbys,', 1), ('amelia’s', 1), ('deed,', 1), ('itself:', 1), ('auspices,', 1), ('partly,', 1), ('government', 1), ('sloop�of�', 1), ('rattler', 2), ('post�captain,', 1), ('422', 1), ('appear.', 1), ('1819,', 1), ('testing', 1), ('japan.', 1), ('“syren”', 1), ('experimen�', 1), ('tal', 1), ('cruise;', 1), ('syren', 1), ('enderbies,', 1), ('sailer', 1), ('ﬂip', 4), ('trumps', 1), ('noble,', 1), ('hospitality', 1), ('flip?', 1), ('ﬂip?', 1), ('ﬂipped', 1), ('squally', 1), ('patagonia),', 1), ('visitors', 2), ('topsails,', 1), ('top�heavy', 2), ('reefed', 2), ('tars.', 1), ('scrambled', 1), ('diluted', 1), ('pickled', 1), ('tough,', 1), ('bull�beef;', 1), ('certain,', 1), ('substantial,', 1), ('symmetrically', 1), ('globular,', 1), ('dumplings.', 1), ('swallowed.', 1), ('risked', 1), ('billard�balls.', 1), ('anti�scorbutic;', 1), ('boilers,', 1), ('boilers;', 1), ('strong;', 1), ('fel�', 1), ('lows', 1), ('capital', 1), ('boot', 1), ('hat�band.', 1), ('423', 1), ('joke;', 1), ('drinking,', 1), ('laughing?', 1), ('research.', 1), ('research,', 1), ('hollanders,', 1), ('zealanders,', 1), ('danes;', 1), ('fashions,', 1), ('scrimps', 1), ('normal', 1), ('incidental', 1), ('particular;', 1), ('origin,', 1), ('elucidated.', 1), ('histories,', 1), ('stumbled', 1), ('musty', 1), ('“dan', 2), ('coopman,”', 1), ('reinforced', 1), ('production', 1), ('“fitz', 1), ('swackhammer.”', 1), ('snodhead,', 3), ('professor', 3), ('santa', 1), ('claus', 1), ('pott’s,', 1), ('translation,', 1), ('spied', 1), ('coopman”', 1), ('cooper,”', 1), ('merchant.”', 1), ('holland;', 1), ('“smeer,”', 1), ('“fat,”', 1), ('larders', 1), ('cellars', 1), ('list,', 1), ('trans�', 1), ('lated', 1), ('transcribe', 1), ('following:', 1), ('400,000', 1), ('lbs.', 7), ('beef.', 1), ('60,000', 1), ('friesland', 1), ('pork.', 1), ('150,000', 1), ('550,000', 1), ('72,000', 1), ('bread.', 1), ('2,800', 1), ('ﬁrkins', 1), ('20,000', 1), ('texel', 2), ('cheese.', 1), ('144,000', 1), ('(probably', 1), ('article).', 1), ('550', 2), ('ankers', 2), ('geneva.', 1), ('10,800', 2), ('beer.', 1), ('statistical', 1), ('parchingly', 1), ('reading;', 1), ('ﬂooded', 2), ('rels,', 1), ('quarts,', 1), ('devoted', 2), ('studious', 1), ('beer,', 2), ('suggested', 2), ('transcendental', 1), ('platonic', 1), ('application;', 1), ('compiled', 1), ('stock�ﬁsh,', 1), ('&c.,', 1), ('consumed,', 1), ('424', 1), ('amazing.', 1), ('natures,', 1), ('rendered', 1), ('bumpers', 1), ('barrels.', 1), ('prosecuted', 1), ('climate,', 1), ('oning', 1), ('5,400', 1), ('beer', 5), ('weeks’', 1), ('allowance,', 1), ('exclusive', 1), ('gin.', 1), ('fuddled', 1), ('improbable.', 1), ('agrees', 1), ('constitution;', 1), ('boozy', 1), ('grievous', 1), ('livers;', 1), ('neglected', 1), ('example.', 1), ('empties', 1), ('decanter.', 1), ('itherto,', 1), ('descriptively', 1), ('treating', 1), ('dwelt', 1), ('aspect;', 1), ('structural', 1), ('comprehen�', 1), ('behoves', 2), ('unbutton', 1), ('untagging', 1), ('hose,', 1), ('unbuckling', 1), ('garters,', 1), ('ultimatum;', 1), ('ishmael?', 1), ('lectures', 1), ('cetacea;', 1), ('exhibition?', 1), ('examination,', 1), ('dishes', 1), ('roast�pig?', 1), ('wit�', 1), ('ishmael;', 1), ('beams;', 1), ('rafters,', 1), ('ridge�pole,', 1), ('under�pinnings,', 1), ('frame�work', 1), ('tallow�vats,', 1), ('dairy�rooms,', 1), ('butteries,', 1), ('cheeseries', 1), ('bowels.', 3), ('adult', 2), ('sheaths', 1), ('lances.', 2), ('boat�hatchet', 1), ('cub?', 1), ('development,', 1), ('indebted', 1), ('tranquo,', 2), ('tranque,', 3), ('426', 1), ('sacides.', 1), ('trading�ship', 1), ('algiers,', 1), ('arsacidean', 4), ('villa', 1), ('pupella;', 1), ('sea�side', 2), ('glen', 1), ('tant', 1), ('bamboo�town,', 1), ('capital.', 1), ('vertagu,', 1), ('pupella', 2), ('invent;', 1), ('devices,', 1), ('shells,', 2), ('paddles,', 1), ('canoes;', 1), ('wonder�freighted,', 1), ('tribute�', 1), ('stranded,', 2), ('plumage�like,', 1), ('droopings', 1), ('enfoldings,', 1), ('glen,', 1), ('sheltered', 1), ('trophies;', 1), ('annals,', 1), ('hieroglyphics;', 1), ('unextinguished', 1), ('ﬂame,', 3), ('bough,', 1), ('devotees,', 1), ('hair�hung', 1), ('damo�', 1), ('cles.', 1), ('mosses', 2), ('glen;', 1), ('haughty,', 1), ('sap;', 1), ('industrious', 1), ('weaver’s', 1), ('ground�vine', 1), ('ten�', 1), ('drils', 1), ('woof,', 1), ('ﬁgures.', 1), ('branches;', 1), ('shrubs,', 1), ('ferns,', 1), ('grasses;', 1), ('message�', 1), ('active.', 1), ('lacings', 1), ('leaves,', 1), ('weaver!', 3), ('pause!', 1), ('word!', 1), ('fabric?', 1), ('deck?', 1), ('toilings?', 1), ('loom;', 1), ('freshet�rushing', 1), ('slides', 1), ('weaver�god,', 1), ('weaves;', 1), ('deafened,', 1), ('humming,', 1), ('deafened;', 1), ('factories.', 1), ('spindles;', 1), ('casements.', 1), ('villanies', 1), ('detected.', 1), ('mortal!', 1), ('heedful;', 1), ('427', 1), ('thinkings', 2), ('afar.', 1), ('life�restless', 1), ('idler!', 1), ('ever�woven', 1), ('intermixed', 1), ('hummed', 3), ('idler', 1), ('weaver;', 1), ('vines;', 1), ('greener,', 1), ('fresher', 1), ('verdure;', 1), ('trellised', 1), ('wived', 1), ('youthful', 1), ('curly�headed', 1), ('glories.', 1), ('tranquo', 2), ('altar,', 1), ('arti�', 1), ('ﬁcial', 1), ('issued,', 1), ('vertagu.', 1), ('laughed.', 1), ('genuine.', 1), ('vines', 1), ('wandered,', 1), ('eddied', 1), ('winding,', 2), ('arbors.', 1), ('measuring�rod,', 1), ('arrow�slit', 1), ('altitude', 1), ('rib.', 2), ('shouted;', 1), ('“dar’st', 1), ('mea�', 1), ('inches;', 2), ('sconces', 1), ('yard�sticks', 1), ('echoed', 2), ('admea�', 1), ('surements.', 1), ('admeasurements', 1), ('recorded,', 1), ('accu�', 1), ('racy.', 1), ('museum,', 1), ('ﬁn�backs', 1), ('museum', 1), ('manchester,', 1), ('states.”', 1), ('york�', 1), ('shire,', 1), ('burton', 1), ('constable', 2), ('clifford', 2), ('tranquo’s.', 1), ('skeletons', 2), ('clifford,', 1), ('seignories', 1), ('clifford’s', 1), ('throughout;', 1), ('cavities', 1), ('428', 1), ('fan', 1), ('trap�doors', 1), ('shutters;', 1), ('footman', 1), ('keys', 2), ('charging', 1), ('twopence', 1), ('column;', 1), ('threepence', 1), ('cerebellum;', 1), ('sixpence', 1), ('verbatim', 1), ('tattooed;', 1), ('wanderings', 1), ('statistics.', 1), ('wished', 1), ('untattooed', 1), ('admeasurement', 1), ('statement,', 1), ('brieﬂy', 1), ('exhibit.', 1), ('calculation', 1), ('scoresby’s', 1), ('estimate,', 1), ('cal�', 1), ('culation,', 1), ('eighty�ﬁve', 1), ('ninety', 3), ('circumfer�', 1), ('ence,', 1), ('tons;', 1), ('outweigh', 1), ('inhabitants.', 1), ('cattle,', 1), ('landsman’s', 1), ('imagination?', 1), ('skeleton;', 1), ('tranque', 2), ('seventy�two', 2), ('430', 1), ('back�bone.', 1), ('back�bone,', 1), ('basket', 3), ('enclosed', 1), ('vitals.', 1), ('ivory�ribbed', 1), ('embryo', 1), ('new�laid', 1), ('stocks,', 1), ('bow�ribs', 1), ('disconnected', 1), ('timber.', 1), ('successively', 1), ('longer,', 1), ('climax', 1), ('ﬁfth,', 1), ('inches.', 2), ('spanned', 1), ('seemly', 1), ('correspondence', 1), ('arched.', 1), ('bridges', 1), ('depth.', 1), ('muscle,', 1), ('joints;', 1), ('majestic,', 1), ('blank!', 1), ('attenuated', 1), ('quickest', 2), ('eddyings', 1), ('angry', 1), ('ﬂukes;', 2), ('spine.', 1), ('crane,', 1), ('enterprise.', 1), ('pompey’s', 1), ('pillar.', 1), ('knobbed', 1), ('four.', 1), ('smallest,', 1), ('width,', 1), ('billiard�ball.', 1), ('urchins,', 1), ('priest’s', 1), ('431', 1), ('marbles', 1), ('rom', 1), ('theme', 1), ('amplify,', 1), ('expatiate.', 1), ('compress', 1), ('involutions', 2), ('intestines,', 1), ('hausers', 1), ('orlop�deck', 1), ('battle�ship.', 1), ('undertaken', 1), ('approve', 1), ('omnisciently', 1), ('exhaustive', 1), ('enterprise;', 1), ('seminal', 1), ('germs', 1), ('habitatory', 1), ('magnify', 1), ('archeological,', 1), ('fossiliferous,', 1), ('ant', 1), ('ﬂea', 1), ('grandiloquent.', 1), ('altered.', 1), ('emprise', 1), ('weightiest', 1), ('consult', 1), ('dissertations,', 1), ('john�', 1), ('expressly', 1), ('lexicographer’s', 1), ('compile', 1), ('lexicon', 1), ('writing', 1), ('chirography', 1), ('placard', 1), ('capitals.', 1), ('condor’s', 1), ('quill!', 1), ('vesuvius’', 1), ('inkstand!', 1), ('arms!', 1), ('penning', 1), ('433', 1), ('sweep,', 1), ('sciences,', 1), ('mastodons,', 1), ('panoramas', 1), ('excluding', 1), ('suburbs.', 1), ('magnifying,', 1), ('theme!', 1), ('theme.', 1), ('ﬂea,', 1), ('geologist,', 1), ('stone�mason,', 1), ('digger', 1), ('ditches,', 1), ('wells,', 1), ('wine�vaults,', 1), ('cellars,', 1), ('cisterns', 1), ('preliminary,', 1), ('remind', 1), ('fossils', 2), ('extinct;', 1), ('tertiary', 4), ('formations', 2), ('connecting,', 1), ('intercepted', 2), ('antechronical', 1), ('posterity', 3), ('ark;', 2), ('formations.', 1), ('jus�', 1), ('tify', 1), ('fossils.', 1), ('pre�adamite', 3), ('skeletons,', 2), ('alps,', 1), ('lombardy,', 1), ('scotland,', 1), ('louisiana,', 1), ('mississippi,', 1), ('1779', 1), ('disinterred', 2), ('rue', 1), ('dauphine', 1), ('paris,', 1), ('tuileries;', 1), ('docks', 1), ('antwerp,', 1), ('napoleon’s', 1), ('1842,', 1), ('plantation', 1), ('creagh,', 1), ('awe�stricken', 1), ('angels.', 1), ('doctors', 2), ('reptile,', 1), ('basilosaurus.', 1), ('owen,', 1), ('anatomist,', 1), ('illustration', 1), ('rechristened', 1), ('zeuglodon;', 1), ('soci�', 1), ('ety,', 1), ('434', 1), ('mutations', 1), ('blotted', 1), ('existence.', 1), ('char�', 1), ('acterized', 1), ('partial', 1), ('resemblances', 1), ('sea�monsters;', 1), ('afﬁnities', 1), ('annihilated', 1), ('techronical', 1), ('seniors;', 1), ('begun;', 1), ('saturn’s', 1), ('eternities;', 1), ('bastions', 1), ('25,000', 1), ('ference,', 1), ('inhabitable', 1), ('visible.', 1), ('whale’s;', 1), ('himmalehs.', 1), ('pedigree', 1), ('older', 2), ('pharaohs’.', 1), ('methuselah', 1), ('schoolboy.', 1), ('shem.', 1), ('horror�struck', 1), ('antemosaic,', 1), ('unsourced', 1), ('stereotype', 1), ('limestone', 1), ('marl', 1), ('bequeathed', 1), ('bust;', 1), ('fossiliferous', 1), ('unmistakable', 1), ('print', 1), ('denderah,', 1), ('planisphere,', 1), ('centaurs,', 1), ('grifﬁns,', 1), ('grotesque', 2), ('moderns.', 1), ('plani�', 1), ('cradled.', 1), ('attestation', 1), ('osseous', 1), ('post�diluvian', 1), ('traveller.', 1), ('sea�side,', 1), ('temple,', 4), ('rafters', 1), ('whale�bones;', 1), ('miracle,', 1), ('uppermost,', 1), ('camel’s', 1), ('(says', 1), ('leo)', 1), ('layn', 1), ('afﬁrm,', 1), ('prophesy’d', 1), ('mahomet,', 1), ('435', 1), ('temple.”', 1), ('nasmuch,', 1), ('inquired,', 1), ('degenerated', 1), ('investigation', 1), ('ﬁnd,', 1), ('(embracing', 1), ('exhumed,', 1), ('tape�measure', 1), ('periods;', 1), ('adam’s', 1), ('degenerated?', 1), ('assuredly,', 1), ('generally.', 1), ('pliny', 3), ('aldrovandus', 1), ('tunnels', 1), ('solander,', 1), ('naturalists,', 1), ('academy', 1), ('sciences', 1), ('(reydar�ﬁskur,', 1), ('bellies)', 1), ('yards;', 2), ('elab�', 1), ('437', 1), ('orate', 1), ('(page', 1), ('3),', 1), ('metres,', 1), ('twenty�eight', 1), ('1825.', 1), ('stories?', 1), ('to�day', 2), ('ancestors', 1), ('pliny’s', 1), ('was),', 1), ('egyp�', 1), ('tian', 1), ('socks;', 2), ('cattle', 3), ('high�bred,', 1), ('stall�fed,', 1), ('smithﬁeld,', 1), ('equal,', 1), ('ceed', 1), ('fattest', 1), ('pharaoh’s', 1), ('kine;', 1), ('degenerated.', 1), ('remains;', 1), ('recondite', 1), ('omniscient', 2), ('penetrating', 1), ('behring’s', 1), ('lockers', 1), ('coasts;', 1), ('havoc;', 1), ('terminated', 1), ('evaporate', 1), ('buffalo,', 1), ('overspread', 1), ('illinois', 2), ('missouri,', 1), ('manes', 1), ('scowled', 1), ('thunder�clotted', 1), ('brows', 1), ('sites', 1), ('river�capitals,', 1), ('broker', 1), ('extinction.', 1), ('hoof', 1), ('region;', 1), ('extermination', 1), ('whale�hunt', 1), ('forbids', 1), ('forty�eight', 1), ('canadian', 1), ('suns', 1), ('rise)', 1), ('moccasined', 1), ('438', 1), ('forty,', 1), ('buffaloes;', 1), ('statistically', 1), ('stated.', 1), ('gradual', 2), ('extinction', 1), ('pods,', 2), ('encoun�', 1), ('tered', 1), ('remunerative.', 1), ('else�', 1), ('noticed,', 1), ('inﬂuenced', 1), ('caravans,', 1), ('solitaries,', 1), ('yokes,', 1), ('sep�', 1), ('arated,', 1), ('fallacious', 1), ('haunt', 1), ('declining.', 1), ('livened', 1), ('jets,', 1), ('unfamiliar', 1), ('spectacle.', 1), ('fortresses,', 1), ('proba�', 1), ('bility,', 1), ('impregnable.', 1), ('invasion', 1), ('swiss', 1), ('savannas', 1), ('resort', 2), ('citadels,', 1), ('barriers', 1), ('ﬂoes;', 1), ('charmed', 2), ('december,', 1), ('deﬁance', 2), ('cachalot,', 1), ('bat�', 1), ('talions.', 1), ('13,000,', 1), ('annually', 1), ('populousness', 1), ('horto,', 1), ('goa,', 1), ('4000', 1), ('elephants;', 1), ('droves', 1), ('elephants,', 1), ('semiramis,', 1), ('porus,', 1), ('hannibal,', 1), ('survive', 4), ('outlast', 2), ('hunting,', 1), ('americas,', 1), ('holland,', 1), ('combined.', 1), ('moreover:', 1), ('439', 1), ('sumed', 1), ('longevity', 1), ('contemporary.', 1), ('imagin�', 1), ('vaults', 1), ('seventy�ﬁve', 1), ('perishable', 1), ('individuality.', 1), ('continents', 1), ('tuileries,', 1), ('windsor', 1), ('castle,', 2), ('kremlin.', 1), ('despised', 1), ('ﬂooded,', 1), ('netherlands,', 1), ('rats,', 1), ('survive,', 1), ('crest', 1), ('frothed', 1), ('skies.', 1), ('precipitating', 1), ('derby', 1), ('thwart', 1), ('half�splintering', 1), ('shock.', 1), ('pivot�hole', 1), ('ur�', 1), ('gent', 1), ('inﬂexibly', 1), ('enough);', 1), ('wrench,', 1), ('lusty,', 1), ('trustworthy.', 1), ('pervading,', 1), ('recklessness,', 1), ('prone', 1), ('insensible;', 1), ('inexplicable,', 1), ('casualty,', 1), ('displaced,', 1), ('stake�wise', 1), ('smitten,', 1), ('groin;', 1), ('cured.', 1), ('marsh', 1), ('perpetuates', 1), ('songster', 1), ('grove;', 1), ('felicity,', 1), ('equally,', 1), ('ancestry', 2), ('canonic', 1), ('teachings,', 1), ('enjoy�', 1), ('441', 1), ('joy�childlessness', 1), ('fertilely', 1), ('progressive', 1), ('inequality', 1), ('analysis', 1), ('felicities', 1), ('unsignifying', 1), ('pettiness', 1), ('heart�woes,', 1), ('archangelic', 2), ('grandeur;', 1), ('tracings�out', 1), ('deduction.', 1), ('genealogies', 1), ('miseries,', 1), ('sourceless', 1), ('primogenitures', 1), ('glad,', 2), ('hay�making', 1), ('suns,', 1), ('soft�cymballing,', 1), ('harvest�moons,', 1), ('glad.', 1), ('ineffaceable,', 1), ('signers.', 1), ('unwit�', 1), ('tingly', 1), ('properly,', 1), ('grand�lama�like', 1), ('exclusiveness;', 1), ('refuge,', 1), ('senate', 1), ('adequate;', 1), ('revelation', 1), ('partook', 1), ('explanatory', 1), ('mishap', 1), ('recluseness.', 1), ('ever�contracting,', 1), ('banned', 1), ('moodily', 2), ('unaccounted', 1), ('underived', 1), ('wails.', 1), ('conspired,', 1), ('mufﬂe', 1), ('others;', 1), ('transpire', 1), ('may;', 1), ('unseen,', 1), ('ambiguous', 1), ('synod', 1), ('potentates', 1), ('procedures;', 1), ('carpenter.', 4), ('functionary', 1), ('delay', 1), ('studs', 1), ('jaw�ivory', 1), ('stoutest,', 1), ('clearest�grained', 1), ('secured.', 1), ('ﬁttings', 1), ('442', 1), ('forging', 3), ('sultanically', 1), ('moons', 1), ('saturn,', 1), ('abstracted', 1), ('unneces�', 1), ('sary', 1), ('duplicates,', 1), ('hereditary.', 1), ('abstraction;', 1), ('pe�', 1), ('quod’s', 1), ('duplicate;', 1), ('whal�', 1), ('off�handed,', 1), ('extent,', 1), ('callings', 1), ('outbranching', 1), ('handicrafts', 1), ('auxiliary', 1), ('material.', 1), ('ef�', 1), ('ﬁcient', 1), ('emergencies', 1), ('far�distant', 1), ('duties:', 1), ('repairing', 2), ('reforming', 1), ('clumsy�bladed', 1), ('tree�nails', 1), ('unhesitatingly', 1), ('expert', 1), ('conﬂicting', 1), ('aptitudes,', 1), ('capricious.', 1), ('enacted', 1), ('manifold,', 1), ('vice�bench;', 1), ('vices,', 2), ('sizes,', 2), ('securely', 2), ('athwartships', 1), ('hold:', 1), ('claps', 2), ('ever�ready', 1), ('ﬁles', 1), ('smaller.', 1), ('land�bird', 1), ('444', 1), ('strays', 1), ('captive:', 1), ('shaved', 1), ('cross�beams', 1), ('pagoda�looking', 1), ('cage', 1), ('sprains', 1), ('wrist:', 1), ('concocts', 1), ('lotion.', 1), ('longs', 1), ('vermillion', 1), ('oar:', 1), ('sym�', 1), ('metrically', 1), ('constellation.', 1), ('shark�bone', 1), ('ear�rings:', 1), ('drills', 1), ('toothache:', 1), ('pincers,', 1), ('bids', 1), ('unmanageably', 1), ('winces', 1), ('unconcluded', 1), ('operation;', 1), ('vice,', 1), ('tooth.', 1), ('ivory;', 1), ('top�blocks;', 1), ('stans.', 1), ('expertness', 1), ('vivacity', 1), ('remarkable,', 1), ('impersonal', 1), ('stolidity', 2), ('impersonal,', 2), ('pauselessly', 1), ('modes,', 1), ('peace,', 1), ('ignores', 1), ('cathedrals.', 1), ('half�horrible', 1), ('stolid�', 1), ('involving,', 1), ('all�ramifying', 1), ('heartlessness;', 1), ('oddly', 1), ('crutch�like,', 1), ('antediluvian,', 1), ('wheezing', 1), ('morousness,', 1), ('unstreaked', 1), ('wittiness;', 1), ('life�long', 2), ('wan�', 1), ('derer,', 1), ('moss;', 1), ('clingings', 1), ('pertained', 1), ('abstract;', 1), ('unfractioned', 1), ('integral;', 1), ('mised', 1), ('babe;', 1), ('premeditated', 1), ('next.', 1), ('uncompromisedness', 1), ('unintelligence;', 1), ('trades,', 2), ('intermixture', 1), ('uneven;', 1), ('dumb,', 2), ('spontaneous', 1), ('literal', 1), ('manipulator;', 1), ('oozed', 1), ('useful,', 1), ('multum', 1), ('parvo,', 1), ('shefﬁeld', 1), ('445', 1), ('knife;', 1), ('containing,', 1), ('screw�drivers,', 1), ('cork�screws,', 1), ('tweezers,', 2), ('awls,', 1), ('pens,', 1), ('rulers,', 1), ('nail�ﬁlers,', 1), ('counter�', 1), ('sinkers.', 1), ('superiors', 1), ('screw�driver,', 1), ('screw', 2), ('fast:', 1), ('omni�', 1), ('tooled,', 1), ('open�and�shut', 1), ('carpenter,', 7), ('machine', 1), ('automaton.', 1), ('quicksilver,', 1), ('hartshorn,', 1), ('abided', 1), ('unaccountable,', 1), ('life�principle', 1), ('soliloquiz�', 1), ('hummingly', 1), ('soliloquizes;', 1), ('soliloquizer', 1), ('(carpenter', 1), ('vice�bench,', 2), ('ﬁling', 1), ('vice.', 1), ('pads,', 1), ('screws,', 2), ('bench.', 1), ('work.)', 2), ('ﬁle,', 3), ('drat', 1), ('bone!', 1), ('hard.', 1), ('ﬁle', 1), ('shinbones.', 1), ('(sneezes).', 2), ('(sneezes)', 6), ('yes', 2), ('lumber.', 1), ('dust;', 1), ('amputate', 1), ('smut,', 1), ('buckle�screw;', 1), ('knee�joint', 1), ('shinbone', 1), ('hop�poles;', 1), ('ﬁnish', 2), ('shop', 2), ('soak', 1), ('rheumatic,', 1), ('doctored', 1), ('lotions,', 1), ('mogulship,', 1), ('anything,', 3), ('heel;', 1), ('luck;', 2), ('comes,', 1), ('certain.', 1), ('447', 1), ('(advancing)', 1), ('(during', 1), ('sneezing', 2), ('times.)', 1), ('manmaker!', 1), ('pleases,', 1), ('carpenter;', 3), ('grip', 1), ('pinch', 1), ('some.', 1), ('beware,', 1), ('grip;', 1), ('prometheus', 2), ('blacksmith,', 6), ('buckle�screw,', 1), ('partnership;', 1), ('um�m.', 1), ('must.', 1), ('greek,', 1), ('prometheus,', 1), ('probable.', 1), ('ﬂies!', 1), ('remainder', 1), ('africans', 1), ('buckle,', 1), ('shoulder�blades;', 1), ('pedlar', 1), ('crushing', 1), ('pack.', 1), ('pattern.', 1), ('imprimis,', 1), ('modelled', 1), ('tunnel;', 1), ('wrist;', 1), ('brains;', 1), ('outwards?', 1), ('sky�light', 1), ('inwards.', 1), ('architecture', 1), ('dome;', 1), ('lantern.', 1), ('hey?', 3), ('turn.', 1), ('thief�catcher', 1), ('thrusted', 1), ('pistols.', 1), ('carpenter?', 1), ('tidy,', 1), ('would’st', 1), ('clay?', 2), ('clay,', 1), ('mud;', 1), ('clay', 1), ('ditchers,', 1), ('impious!', 1), ('dusty,', 1), ('noses.', 1), ('dear!', 1), ('callest', 3), ('workmanlike', 1), ('workman,', 1), ('makest,', 1), ('448', 1), ('away?', 1), ('score,', 1), ('humbly', 2), ('feelest', 1), ('is’t', 2), ('riddle?', 1), ('poser,', 1), ('uninterpenetratingly', 1), ('standest;', 1), ('spite?', 1), ('eavesdroppers?', 1), ('smart', 1), ('dissolved;', 1), ('mayst', 1), ('body?', 1), ('hah!', 1), ('pudding�heads', 1), ('premises.', 1), ('done?', 1), ('bungle', 1), ('(turns', 1), ('go).', 1), ('debtor', 1), ('blockhead', 1), ('inter�indebtedness', 1), ('ledgers.', 1), ('books.', 2), ('wealthiest', 1), ('praetorians', 1), ('auction', 1), ('world’s);', 1), ('owe', 1), ('crucible,', 1), ('dissolve', 1), ('compendious', 1), ('vertebra.', 1), ('(resuming', 1), ('well!', 1), ('dinning', 1), ('bedfellow!', 1), ('jaw�bone', 1), ('wife!', 1), ('strange�thoughted', 1), ('haphazard�like.', 1), ('undertake', 1), ('heron�built', 1), ('captains;', 2), ('chucks', 1), ('life�boats.', 1), ('heron’s', 1), ('slim,', 1), ('enough!', 2), ('lasts', 1), ('mercifully,', 1), ('tender�hearted', 1), ('roly�poly', 1), ('coach�horses.', 1), ('driver.', 1), ('449', 1), ('spavined', 1), ('smut!', 1), ('resurrection', 2), ('a�calling', 1), ('brewery�men', 1), ('collecting', 1), ('barrels,', 1), ('core;', 1), ('to�morrow;', 1), ('altitudes', 1), ('oval', 1), ('slate,', 1), ('smoothed', 1), ('latitude.', 2), ('chisel,', 1), ('sand�paper,', 1), ('ccording', 1), ('shown;', 1), ('unfavorable', 1), ('formosa', 1), ('bashee', 3), ('outlets', 1), ('niphon,', 1), ('matsmai,', 1), ('sikoke.', 1), ('braced', 3), ('pruning�hook', 1), ('wrinkling', 1), ('footstep', 1), ('deck!', 1), ('begone!”', 1), ('mistakes;', 1), ('leaking,', 1), ('burtons', 4), ('nearing', 3), ('japan;', 1), ('heave�to', 2), ('hoops?”', 1), ('“either', 1), ('saving,', 1), ('begone!', 2), ('leak!', 1), ('aleak', 1), ('leaks!', 1), ('sperm�whalemen', 1), ('semi�weekly', 1), ('hose', 1), ('drench', 1), ('sea�water;', 1), ('pumps.', 1), ('damply', 1), ('tight;', 1), ('leakage', 1), ('cargo.', 1), ('451', 1), ('pequod’s,', 1), ('leak;', 1), ('deep�loaded', 1), ('hull;', 3), ('gale?', 2), ('hoisted.”', 1), ('outyell', 1), ('typhoons.', 1), ('owners?', 1), ('prating', 1), ('miserly', 1), ('conscience.', 1), ('deck!”', 3), ('manifestation', 1), ('resent', 1), ('happier,', 1), ('“devils!', 1), ('critically', 2), ('entreat.', 1), ('dare,', 1), ('forbearing!', 1), ('hitherto,', 1), ('rack', 3), ('(forming', 1), ('south�sea�men’s', 1), ('furniture),', 1), ('exclaimed:', 1), ('blaze', 1), ('tube.', 1), ('mastering', 1), ('outraged,', 1), ('laugh;', 1), ('waxes', 1), ('obeys;', 1), ('bravery', 1), ('staff,', 1), ('plaits', 1), ('crew:', 1), ('“furl', 1), ('t’gallant�sails,', 1), ('close�reef', 1), ('top�sails,', 1), ('aft;', 2), ('main�yard;', 1), ('burtons,', 1), ('main�hold.”', 1), ('acted.', 1), ('honesty', 1), ('prudential', 2), ('imperiously', 1), ('disaffection,', 1), ('transient,', 1), ('executed;', 1), ('hoisted.', 1), ('searching,', 1), ('butts;', 1), ('moles', 2), ('ancient,', 1), ('corroded,', 1), ('lowermost', 1), ('puncheons,', 1), ('corner�', 1), ('noah,', 1), ('copies', 1), ('placards,', 1), ('ﬂood.', 1), ('shooks', 1), ('staves,', 1), ('bundles', 2), ('about;', 2), ('treading', 1), ('catacombs,', 1), ('air�freighted', 1), ('demijohn.', 1), ('dinnerless', 1), ('aristotle', 1), ('companion,', 1), ('bosom�friend,', 1), ('fever,', 1), ('sinecures', 1), ('unknown;', 1), ('reso�', 1), ('lutely', 1), ('clumsiest', 1), ('stowage.', 1), ('holders,', 1), ('called.', 1), ('disembowelled,', 1), ('453', 1), ('dampness', 1), ('slime,', 1), ('lizard', 1), ('ice�house,', 1), ('pagan;', 1), ('sweatings,', 1), ('chill', 1), ('lapsed', 1), ('fever;', 1), ('suffering,', 1), ('long�lingering', 1), ('frame', 1), ('thinned,', 1), ('cheek�bones', 1), ('sharper,', 1), ('fuller', 1), ('fuller;', 1), ('softness', 1), ('lustre;', 1), ('sickness,', 1), ('weakened.', 1), ('fainter,', 1), ('expand;', 1), ('rounding,', 1), ('bystanders', 1), ('zoroaster', 1), ('impresses', 1), ('revelation,', 2), ('tell.', 1), ('holier', 1), ('ﬂood�tide', 1), ('asked.', 1), ('breaking,', 1), ('war�wood', 1), ('isle;', 1), ('inquiry,', 1), ('embalming', 1), ('warrior,', 1), ('archipelagoes;', 1), ('horizons,', 1), ('uncontinented', 1), ('terﬂow', 1), ('heavens;', 1), ('cording', 1), ('sea�custom,', 1), ('death�devouring', 1), ('cofﬁn�canoes', 1), ('454', 1), ('steering,', 1), ('lee�way', 1), ('adown', 1), ('carpen�', 1), ('ter', 1), ('bidding,', 2), ('include.', 1), ('cofﬁn�colored', 1), ('lumber', 1), ('lackaday', 1), ('promptitude', 1), ('accuracy,', 1), ('chalking', 1), ('rule.', 1), ('ejaculated', 1), ('convenience’', 1), ('reference,', 1), ('transferringly', 1), ('notches', 1), ('extremities.', 1), ('marshalled', 1), ('tools,', 1), ('ﬁtted,', 1), ('overhearing', 2), ('half�humorous', 1), ('sternation,', 1), ('tyrannical;', 1), ('evermore,', 1), ('indulged.', 1), ('attentive', 2), ('within:', 1), ('woody', 1), ('foot;', 1), ('sail�cloth', 1), ('entreated', 1), ('comforts,', 1), ('yojo.', 1), ('(hatch', 1), ('hinge,', 1), ('“rarmai”', 1), ('easy),', 1), ('replaced', 2), ('sobbings,', 1), ('rover!', 1), ('roving?', 1), ('455', 1), ('antilles', 2), ('water�lilies,', 1), ('errand', 1), ('long:', 1), ('antilles.', 1), ('sad;', 1), ('rig�a�dig,', 2), ('dig,', 2), ('dig!', 2), ('die;', 1), ('march.”', 1), ('heard,”', 1), ('tongues;', 1), ('probed,', 1), ('tongues', 2), ('scholars.', 1), ('sweetness', 3), ('lunacy,', 1), ('vouchers', 1), ('homes.', 1), ('now.”', 2), ('“form', 1), ('two!', 1), ('harpoon?', 1), ('huzza!', 1), ('crow!', 1), ('dies', 4), ('game!', 4), ('coward;', 2), ('a’shiver;', 1), ('runaway;', 1), ('coward!', 1), ('whale�boat!', 1), ('shame', 5), ('cowards', 4), ('whale�boat.', 2), ('shame!', 1), ('shame!”', 1), ('dream.', 1), ('preparation', 2), ('rallied;', 1), ('box:', 1), ('thereupon,', 1), ('stance,', 1), ('convalescence', 1), ('dying:', 1), ('averred.', 1), ('certainly.', 1), ('sickness', 1), ('him:', 2), ('ungovernable,', 1), ('destroyer', 1), ('civilized;', 1), ('convalescing,', 1), ('half�well', 1), ('strength;', 1), ('(but', 1), ('appetite)', 1), ('456', 1), ('whimsiness,', 1), ('sea�chest;', 1), ('emp�', 1), ('spent,', 1), ('drawings;', 1), ('striving,', 1), ('tattooing,', 1), ('riddle', 2), ('unfold;', 1), ('moulder', 1), ('inscribed,', 1), ('unsolved', 1), ('surveying', 1), ('tantalization', 1), ('gods!”', 1), ('thanks,', 1), ('supplication', 1), ('answered;', 1), ('eastwards', 1), ('stirrings', 1), ('beneath;', 1), ('undulations', 1), ('eph�', 1), ('esian', 1), ('sod', 1), ('evangelist', 1), ('john.', 1), ('wide�rolling', 1), ('potters’', 1), ('fields', 1), ('continents,', 1), ('ebb', 2), ('unceasingly;', 1), ('somnambulisms,', 1), ('reveries;', 1), ('slumberers', 1), ('beds;', 1), ('ever�rolling', 1), ('restlessness.', 1), ('tative', 1), ('magian', 1), ('rover,', 1), ('adoption.', 1), ('lantic', 1), ('new�built', 1), ('califor�', 1), ('nian', 1), ('towns,', 2), ('recentest', 1), ('lave', 1), ('abraham;', 1), ('milky�ways', 1), ('low�lying,', 1), ('endless,', 1), ('archipelagoes,', 1), ('impenetrable', 1), ('japans.', 1), ('mysterious,', 1), ('tide�beating', 1), ('pan.', 1), ('pan', 1), ('sugary', 1), ('musk', 1), ('walking),', 1), ('consciously', 1), ('458', 1), ('cruising�ground,', 1), ('delta', 1), ('brooks;', 1), ('ringing', 3), ('vaulted', 1), ('blood!”', 1), ('vailing', 1), ('summer�cool', 1), ('pursuits', 1), ('anticipated,', 1), ('perth,', 4), ('begrimed,', 1), ('blistered', 2), ('contributory', 1), ('ringbolts', 1), ('foremast;', 1), ('headsmen,', 1), ('bowsmen', 1), ('altering,', 1), ('repairing,', 1), ('furniture.', 1), ('served;', 1), ('boat�spades,', 1), ('pike�heads,', 1), ('jealously', 1), ('toiled.', 1), ('murmur,', 1), ('tience,', 1), ('petulance', 1), ('solemn;', 1), ('chronically', 1), ('miserable!', 1), ('painful', 1), ('appearing', 1), ('yawing', 1), ('gait,', 1), ('mariners.', 1), ('importunity', 1), ('question�', 1), ('fate.', 3), ('belated,', 1), ('innocently,', 1), ('ter’s', 1), ('half�stupidly', 1), ('numbness', 1), ('barn.', 1), ('extremities', 1), ('uncatastrophied', 1), ('drama.', 1), ('postponedly', 1), ('460', 1), ('countered', 1), ('sorrow’s', 1), ('technicals', 1), ('ruin.', 1), ('artisan', 1), ('excellence,', 1), ('garden;', 1), ('youthful,', 1), ('daughter�like,', 1), ('blithe,', 1), ('sun�', 1), ('cheerful�looking', 1), ('church,', 1), ('grove.', 1), ('disguisement,', 1), ('des�', 1), ('perate', 1), ('family’s', 1), ('conjuror!', 1), ('ﬁend,', 2), ('prudent,', 1), ('economic', 1), ('blacksmith’s', 3), ('basement', 2), ('dwelling,', 1), ('listened', 1), ('unhappy', 1), ('nervousness,', 1), ('pleasure,', 1), ('young�armed', 1), ('husband’s', 1), ('hammer;', 2), ('reverberations,', 1), ('ﬂoors', 1), ('unsweetly,', 1), ('nursery;', 1), ('labor’s', 1), ('lullaby,', 1), ('slumber.', 1), ('woe!', 2), ('timely?', 1), ('hadst', 1), ('orphans', 2), ('venerable,', 1), ('care�killing', 1), ('competency.', 1), ('virtuous', 1), ('elder', 1), ('responsibilities', 1), ('rot', 2), ('easier', 1), ('harvest.', 1), ('whole?', 1), ('fainter', 1), ('glit�', 1), ('teringly', 1), ('fell;', 2), ('cinders;', 1), ('sold;', 1), ('thither;', 1), ('houseless,', 1), ('fam�', 1), ('ilyless', 1), ('staggered', 1), ('crape;', 1), ('unreverenced;', 1), ('ﬂaxen', 1), ('curls!', 1), ('tried;', 1), ('salutation', 2), ('remote,', 2), ('watery,', 1), ('unshored;', 1), ('death�longing', 1), ('compunctions', 1), ('suicide,', 1), ('all�contributed', 1), ('all�receptive', 1), ('alluringly', 1), ('new�life', 1), ('adventures;', 1), ('paciﬁcs,', 1), ('mermaids', 1), ('broken�hearted;', 1), ('guilt', 2), ('461', 1), ('supernatural,', 1), ('hither!', 2), ('abhorring,', 1), ('oblivious', 4), ('grave�stone,', 1), ('church�', 2), ('hearkening', 1), ('voices,', 1), ('sun�rise,', 1), ('responded,', 1), ('come!', 2), ('perth', 6), ('a�whaling.', 1), ('swathed', 1), ('bristling', 2), ('shark�skin', 1), ('apron,', 1), ('anvil,', 4), ('iron�wood', 1), ('pike�head', 1), ('coals,', 2), ('forge’s', 1), ('rusty�looking', 1), ('forge,', 1), ('hammering', 1), ('sparks', 1), ('hov�', 1), ('ering', 1), ('ﬂights,', 1), ('carey’s', 1), ('chickens,', 1), ('perth?', 1), ('omen,', 2), ('burn;', 1), ('liv’st', 1), ('scorch.”', 1), ('scorching;', 1), ('scorch', 1), ('scar.”', 1), ('shrunk', 1), ('woful', 2), ('impatient', 4), ('should’st', 1), ('blacksmith;', 1), ('“welding', 1), ('pike�head,', 1), ('seams', 4), ('had?”', 1), ('smoothe', 3), ('dents;', 1), ('blacksmith?”', 1), ('one.”', 2), ('passionately', 1), ('perth’s', 4), ('shoulders;', 1), ('blacksmith,”', 1), ('could’st,', 1), ('black�', 2), ('smith,', 1), ('463', 1), ('answer!', 1), ('seam?”', 1), ('one?”', 1), ('unsmoothable;', 1), ('see’st', 2), ('wrinkles!', 1), ('play;', 1), ('gaffs', 1), ('coins.', 1), ('“i,', 1), ('perth;', 1), ('ﬁn�bone.', 1), ('stuff,”', 1), ('anvil.', 1), ('nail�stubbs', 1), ('racing', 1), ('horses.”', 1), ('“horse�shoe', 1), ('stubbs,', 1), ('stubbornest', 1), ('work.”', 1), ('stubbs', 1), ('weld', 2), ('glue', 1), ('murderers.', 1), ('quick!', 4), ('shank;', 1), ('twist,', 1), ('ﬁre.”', 1), ('bolt.', 1), ('ﬂaw!”', 1), ('“work', 1), ('perth.”', 1), ('welding', 1), ('hems,', 1), ('rods,', 2), ('silently,', 1), ('invoking', 2), ('blessing', 1), ('lucifers', 4), ('fusee;', 1), ('musket’s', 2), ('powder�pan.”', 1), ('shank,', 2), ('rod,', 3), ('heat;', 1), ('temper', 2), ('“would’st', 1), ('perth?”', 1), ('wincing', 1), ('pain;', 1), ('branding�iron,', 1), ('“pray', 1), ('ﬁend!', 1), ('razors', 2), ('needle�sleet', 1), ('shave,', 1), ('sup,', 1), ('work!”', 1), ('arrowy', 1), ('smith', 1), ('tempering', 1), ('464', 1), ('water�cask', 1), ('death�temper.', 1), ('ahoy,', 1), ('pagans!', 1), ('barb?”', 1), ('punctures', 1), ('tempered.', 1), ('“ego', 1), ('non', 1), ('baptizo', 1), ('te', 1), ('nomine', 2), ('patris,', 1), ('sed', 1), ('diaboli!”', 1), ('scorchingly', 1), ('devoured', 1), ('baptismal', 1), ('hickory,', 1), ('unwound,', 1), ('tension.', 1), ('pressing', 1), ('harp�string,', 1), ('strandings,', 1), ('“good!', 2), ('seizings.”', 1), ('unstranded,', 1), ('socket;', 1), ('pole’s', 1), ('intertwistings', 1), ('twine.', 1), ('fates', 2), ('inseparable,', 1), ('weapon;', 1), ('hickory', 1), ('hollowly', 2), ('unnatural,', 1), ('half�bantering,', 1), ('piteous', 1), ('heard.', 4), ('laugh,', 1), ('mummeries', 1), ('unmeaningly', 1), ('mocked', 1), ('p', 1), ('enetrating', 1), ('twelve,', 1), ('ﬁfteen,', 1), ('paddling', 1), ('uprising;', 1), ('mixing', 1), ('hearth�stone', 1), ('cats', 1), ('purr', 1), ('quietude,', 1), ('forgets', 1), ('pants', 1), ('conceals', 1), ('fang.', 1), ('rover', 1), ('ﬁlial,', 1), ('conﬁdent,', 1), ('land�like', 1), ('tops', 3), ('prairie:', 1), ('emigrants’', 1), ('vales;', 1), ('hill�sides;', 1), ('hush,', 1), ('hum;', 2), ('play�wearied', 1), ('solitudes,', 1), ('may�time,', 1), ('plucked.', 1), ('mixes', 1), ('mood;', 1), ('half�way', 1), ('interpenetrate,', 1), ('seamless', 1), ('whole.', 1), ('temporary,', 1), ('treasuries,', 1), ('tarnishing.', 1), ('466', 1), ('grassy', 1), ('glades!', 1), ('vernal', 1), ('landscapes', 1), ('parched', 2), ('clover;', 1), ('dew', 2), ('mingled,', 1), ('woof:', 1), ('calm.', 2), ('unretracing', 1), ('gradations,', 1), ('pause:', 1), ('infancy’s', 1), ('spell,', 1), ('boyhood’s', 1), ('thoughtless', 1), ('adolescence’', 1), ('doom),', 1), ('scepticism,', 1), ('disbelief,', 1), ('manhood’s', 1), ('if.', 1), ('ifs', 1), ('unmoor', 1), ('ether', 1), ('weariest', 1), ('weary?', 1), ('foundling’s', 1), ('hidden?', 1), ('unwedded', 1), ('them:', 1), ('paternity', 1), ('murmured:', 1), ('“loveliness', 1), ('unfathomable,', 1), ('lover', 1), ('teeth�tiered', 1), ('oust', 2), ('memory;', 1), ('believe.”', 1), ('ﬁsh�like,', 1), ('scales,', 1), ('light:', 1), ('history;', 1), ('jolly!”', 1), ('nd', 2), ('welded.', 1), ('bachelor,', 2), ('hatches;', 1), ('apparel,', 1), ('joyously,', 1), ('vain�gloriously,', 1), ('widely�separated', 1), ('streamers', 1), ('bunting', 1), ('hats;', 2), ('slain.', 1), ('signals,', 1), ('jacks', 1), ('basketed', 2), ('cross�trees,', 1), ('ﬂuid;', 1), ('brazen', 1), ('bach�', 1), ('elor', 1), ('success;', 1), ('bartered', 1), ('met;', 2), ('ofﬁcers’', 1), ('state�rooms.', 1), ('kindling�wood;', 1), ('centrepiece.', 1), ('caulked', 1), ('boiler,', 1), ('plugged', 1), ('coffee�pot', 1), ('ev�', 1), ('468', 1), ('erything', 1), ('into,', 1), ('self�complacent', 1), ('sat�', 1), ('isfaction.', 1), ('barbarian', 1), ('drums', 1), ('parchment�likepoke', 1), ('stomach', 1), ('olive�hued', 1), ('eloped', 1), ('isles;', 1), ('negroes,', 1), ('ﬁddle�bows', 1), ('hi�', 1), ('larious', 1), ('jig.', 1), ('removed.', 1), ('bastile,', 1), ('mortar', 2), ('el�', 1), ('evated', 1), ('drama', 1), ('gloom;', 1), ('jubilations', 1), ('forebodings', 2), ('personated', 1), ('aboard!”', 2), ('bachelor’s', 2), ('“no;', 1), ('jolly.', 1), ('islanders,', 1), ('hearty,', 1), ('(merry’s', 1), ('play);', 1), ('homeward�bound.”', 1), ('fool!”', 1), ('aloud,', 2), ('bound,', 1), ('sayst;', 1), ('outward�bound.', 1), ('ward', 1), ('wind!”', 1), ('parted;', 1), ('receding', 2), ('bachelor;', 1), ('taffrail,', 1), ('469', 1), ('soundings.', 1), ('ot', 1), ('fortune’s', 1), ('favorites', 1), ('spearings', 1), ('done:', 1), ('stilly', 2), ('plaintive�', 1), ('inwreathing', 1), ('orisons', 1), ('rosy', 1), ('convent', 1), ('land�breeze,', 1), ('wantonly', 1), ('vesper', 1), ('hymns.', 1), ('sterned', 1), ('wanings', 1), ('turn�', 1), ('sunwards', 3), ('spectacle,', 1), ('placid', 1), ('wondrousness', 1), ('steadfastly,', 1), ('homage�', 1), ('motions.', 1), ('faithful,', 1), ('baronial', 1), ('vassal', 1), ('sun!', 5), ('too�favoring', 2), ('sights.', 1), ('water�locked;', 1), ('candid', 1), ('tablets;', 1), ('unspoken', 1), ('niger’s', 1), ('source;', 1), ('faith;', 1), ('whirls', 1), ('471', 1), ('unverdured', 1), ('speakest', 2), ('wide�slaughtering', 1), ('typhoon,', 3), ('trebly', 1), ('hip', 1), ('power!', 1), ('aspiring,', 1), ('rainbowed', 2), ('jet!', 1), ('striveth,', 1), ('jetteth', 1), ('intercedings', 1), ('all�quickening', 1), ('unnamable', 1), ('imminglings', 1), ('suckled', 1), ('mothered', 1), ('foster�brothers!”', 1), ('nightfall;', 1), ('waif�pole', 1), ('ﬂickering', 1), ('chafed', 1), ('parsee;', 4), ('spectrally', 1), ('tapped', 1), ('moaning', 1), ('squadrons', 1), ('asphaltites', 1), ('unforgiven', 1), ('slumbers,', 1), ('again,”', 1), ('“of', 1), ('hearses?', 1), ('hearse', 4), ('thine?”', 1), ('hearsed', 1), ('couldst', 1), ('hearses', 2), ('america.”', 1), ('parsee:', 1), ('plumes', 1), ('pall�bearers.', 1), ('“believe', 1), ('thyself?”', 1), ('pilot.”', 1), ('befall', 1), ('pilot!', 3), ('473', 1), ('pledges', 1), ('pledge,', 1), ('parsee,', 1), ('ﬁre�ﬂies', 1), ('“hemp', 1), ('gallows,', 1), ('derision;', 1), ('“immortal', 1), ('sea!”', 2), ('arose', 2), ('near;', 1), ('spokes,', 1), ('braces,', 1), ('equator.', 2), ('high�hoisted', 1), ('determine', 1), ('effulgences.', 1), ('unblinkingly', 1), ('focus', 1), ('immeasurable', 2), ('burning�glass.', 1), ('lacquered;', 1), ('none;', 1), ('splendors', 1), ('solar', 1), ('astrological�looking', 1), ('meridian.', 1), ('absorbed,', 1), ('orbs,', 1), ('passionlessness.', 1), ('taken;', 1), ('instant.', 1), ('revery,', 1), ('himself:', 1), ('sea�mark!', 1), ('475', 1), ('living?', 1), ('sun!”', 1), ('quadrant,', 2), ('handling,', 1), ('cabalistical', 1), ('muttered:', 1), ('“foolish', 1), ('toy!', 1), ('babies’', 1), ('plaything', 1), ('admirals,', 1), ('commodores,', 1), ('brags', 1), ('pitiful', 1), ('happenest', 1), ('planet,', 1), ('thee:', 1), ('impotence', 1), ('insultest', 1), ('science!', 1), ('toy;', 1), ('vividness', 1), ('scorches', 1), ('ﬁrmament.', 1), ('quadrant!”', 1), ('guide', 1), ('dead�reckoning,', 1), ('“thus', 1), ('trample', 1), ('feebly', 1), ('pointest', 1), ('trampled', 1), ('sneering', 1), ('fatalistic', 1), ('awestruck', 1), ('clustered', 2), ('troubledly', 1), ('braces!', 2), ('half�wheeled', 1), ('ﬁrm�seated', 1), ('erectly', 1), ('horatii', 1), ('pirouetting', 1), ('knight�heads,', 1), ('lurching', 1), ('wane', 1), ('dumbest', 1), ('oceans!', 1), ('ashes!”', 1), ('“aye,”', 1), ('sea�coal', 1), ('sea�coal,', 1), ('charcoal.', 1), ('mutter,', 1), ('‘here', 1), ('cards', 1), ('others.’', 1), ('actest', 1), ('armest', 1), ('cruellest', 2), ('fangs:', 1), ('crouches', 1), ('thunders:', 1), ('tornadoes', 1), ('typhoon.', 1), ('cloud�less', 1), ('exploding', 1), ('bomb', 1), ('dazed', 1), ('wards', 2), ('bare�poled', 1), ('blazed', 1), ('disabled', 3), ('ﬂuttering', 3), ('sport.', 1), ('hamper', 2), ('ﬁrmer', 1), ('cranes,', 1), ('(ahab’s)', 1), ('tetering', 2), ('sieve.', 1), ('“bad', 2), ('leaps,', 1), ('runs,', 1), ('mind;', 2), ('says;”', 1), ('(sings.)', 1), ('joker', 1), ('477', 1), ('ﬂourishin’', 1), ('sporty,', 3), ('gamy,', 3), ('jesty,', 3), ('joky,', 3), ('hoky�poky', 3), ('ﬂyin’,', 1), ('foamin’;', 1), ('spicin’,', 1), ('splits', 1), ('smacks', 1), ('tastin’', 1), ('ﬂip,', 1), ('harp', 1), ('peace.”', 1), ('spirits.', 1), ('throat.', 1), ('wind�up.”', 1), ('“madman!', 1), ('own.”', 1), ('foolish?”', 1), ('“here!”', 1), ('“markest', 1), ('noon?', 1), ('stove?', 1), ('stern�sheets,', 1), ('stove,', 2), ('must!”', 1), ('ye:', 1), ('wind?”', 1), ('shortest', 1), ('nantucket,”', 1), ('doom;', 1), ('lightens', 1), ('lightning.”', 1), ('ﬂashes,', 1), ('volley', 1), ('peals', 1), ('overhead.', 1), ('“old', 1), ('thunder!”', 1), ('pivot�hole;', 1), ('spire', 1), ('478', 1), ('conductor', 1), ('mishaps,', 1), ('interfering', 1), ('impeding', 1), ('lightning�rods', 1), ('require.', 1), ('rods!', 1), ('rods!”', 1), ('ﬂambeaux,', 1), ('overboard?', 1), ('weaker', 1), ('himmalehs', 1), ('secured;', 1), ('privileges!', 1), ('aloft!”', 1), ('corpusants!', 1), ('corpusants!”', 1), ('yard�arms', 1), ('tipped', 2), ('tri�pointed', 2), ('lightning�rod�end', 1), ('sulphurous', 1), ('altar.', 1), ('go!”', 1), ('lashing.', 1), ('ﬂames;', 1), ('corpusants', 3), ('words;', 1), ('tempest;', 1), ('topsail�yard�arms,', 1), ('teter', 1), ('voyagings,', 1), ('“mene,', 1), ('mene,', 1), ('tekel,', 1), ('upharsin”', 1), ('cordage.', 1), ('pallidness', 2), ('gleaming', 1), ('phosphorescence,', 1), ('shark�white', 1), ('corpusants;', 1), ('satanic', 1), ('tableau', 1), ('pall.', 1), ('thinkest', 1), ('cry;', 1), ('song.”', 1), ('wasn’t;', 1), ('479', 1), ('faces?', 1), ('laugh?', 1), ('look.', 1), ('chock', 1), ('sperm�oil,', 1), ('sap', 2), ('saw.”', 1), ('cried:', 1), ('“see!', 1), ('supernaturalness', 1), ('pallor.', 1), ('glare,', 1), ('cohered', 1), ('pendulous,', 1), ('knot', 3), ('numbed', 1), ('wasps', 1), ('drooping,', 2), ('twig.', 1), ('stepping,', 1), ('herculaneum,', 1), ('upcast.', 1), ('men!”', 2), ('links', 2), ('pulse,', 1), ('so.”', 3), ('high�ﬂung', 1), ('trinity', 1), ('worship,', 1), ('sacramental', 1), ('scar;', 1), ('deﬁance.', 2), ('e’en', 2), ('kill;', 1), ('killed.', 1), ('speechless,', 2), ('placeless', 2), ('dispute', 1), ('unconditional,', 1), ('unintegral', 1), ('mastery', 1), ('personality', 2), ('whencesoe’er', 1), ('wheresoe’er', 1), ('queenly', 1), ('rights.', 1), ('pain,', 1), ('kneel', 1), ('highest,', 1), ('supernal', 1), ('launchest', 1), ('worlds,', 1), ('indifferent.', 1), ('madest', 1), ('(sudden,', 1), ('lightning;', 1), ('height;', 1), ('480', 1), ('closes', 1), ('them.)', 1), ('wrung', 1), ('links.', 1), ('blind;', 2), ('grope.', 1), ('consume;', 1), ('ashes.', 1), ('shutter�hands.', 1), ('skull;', 1), ('eye�balls', 1), ('ache', 1), ('ache;', 1), ('stunning', 1), ('blindfold,', 1), ('leapest', 1), ('javelins', 1), ('cease;', 1), ('magnanimous!', 1), ('genealogy.', 1), ('father;', 1), ('cruel!', 1), ('her?', 1), ('puzzle;', 1), ('greater.', 1), ('unbegotten;', 1), ('beginning,', 2), ('unbegun.', 1), ('omnipotent.', 1), ('unsuffusing', 1), ('creativeness', 1), ('mechanical.', 1), ('foundling', 1), ('riddle,', 1), ('unparticipated', 1), ('grief.', 2), ('agony,', 1), ('sire.', 1), ('leap!', 1), ('sky!', 2), ('whale�boat’s', 1), ('serpent’s', 1), ('“god,', 1), ('forbear!', 1), ('voyage!', 1), ('begun,', 1), ('continued;', 1), ('panic�stricken', 1), ('cry.', 2), ('torch', 1), ('transﬁx', 1), ('shrinking', 1), ('dismay,', 1), ('spoke:', 1), ('binding', 1), ('beats:', 1), ('fear!”', 1), ('481', 1), ('extinguished', 1), ('ﬂame.', 1), ('hurricane', 1), ('sweeps', 1), ('neighborhood', 1), ('lone,', 1), ('elm,', 1), ('unsafe,', 1), ('thunderbolts;', 1), ('(ahab', 4), ('half�stranded.', 1), ('sky�sail', 1), ('“sir?', 2), ('name!', 1), ('“well.”', 1), ('working,', 1), ('inboard?”', 1), ('table�lands', 1), ('keels!', 1), ('coasting', 1), ('smack.', 1), ('gluepots!', 1), ('trucks', 1), ('brain�truck', 1), ('cloud�scud.', 1), ('brain�trucks', 1), ('hooroosh', 1), ('colic', 1), ('noisy', 1), ('malady.', 2), ('medicine,', 1), ('medicine!”', 1), ('(stubb', 1), ('lashings', 2), ('hanging.)', 1), ('o,', 1), ('saying.', 1), ('contrary?', 1), ('policy,', 1), ('forward?', 1), ('did?', 1), ('forward;', 3), ('aﬁre', 2), ('drenching', 1), ('pitchers', 1), ('collar.', 1), ('risks', 1), ('guarantees?', 1), ('hydrants,', 1), ('hark,', 1), ('mast’s', 1), ('lightning�rod', 3), ('storm?', 1), ('timber�head,', 1), ('484', 1), ('militia', 1), ('ofﬁcer’s', 1), ('skewered', 1), ('feather,', 1), ('trailing', 3), ('sash.', 1), ('sensible,', 2), ('sensible;', 1), ('sensible.”', 1), ('hard.”', 1), ('fact.', 1), ('spray.', 1), ('sure.', 1), ('ﬁsts,', 1), ('anywhere;', 1), ('we’ve', 1), ('satisfactory.', 1), ('wring', 1), ('skirts,', 2), ('long�togs', 1), ('cocked', 1), ('gable�end', 1), ('eave�troughs,', 1), ('monkey�jackets', 1), ('swallow�tail,', 1), ('beaver;', 1), ('unmannerly!', 1), ('nasty', 1), ('lad.”', 1), ('yard.', 1), ('m,', 1), ('um,', 5), ('um.', 2), ('thunder?', 1), ('thunder;', 1), ('rum;', 1), ('rum.', 1), ('um!”', 1), ('uring', 1), ('reelingly', 1), ('spas�', 1), ('modic', 1), ('preventer', 1), ('indispensable.', 1), ('shuttle�cock', 1), ('compasses,', 2), ('pequod’s;', 1), ('emotion.', 1), ('strenu�', 1), ('exertions', 1), ('remnants', 1), ('main�top�sails', 1), ('albatross,', 1), ('reefed,', 1), ('storm�trysail', 1), ('cision', 1), ('east�south�east', 1), ('steer,', 1), ('practicable,', 2), ('vicissitudes.', 1), ('sign!', 1), ('fair!', 1), ('squared,', 1), ('“ho!', 1), ('oh�he�yo,', 1), ('cheerly,', 1), ('men!”the', 1), ('falsiﬁed', 1), ('compli�', 1), ('ance', 1), ('487', 1), ('trimmed', 1), ('reluctantly', 1), ('gloomily,', 1), ('apprise', 1), ('circumstance.', 1), ('ﬁtfully,', 1), ('ﬁtful', 2), ('panels.', 1), ('subter�', 1), ('raneousness', 1), ('shiningly', 1), ('bulkhead.', 1), ('muskets,', 1), ('evolved', 1), ('accompaniments', 1), ('once,”', 1), ('murmured,', 1), ('stock;', 1), ('loaded?', 1), ('pan;', 1), ('spill', 1), ('wait.', 1), ('fair?', 1), ('quadrant?', 1), ('gropes', 1), ('error�abounding', 1), ('log?', 1), ('lightning�rods?', 1), ('suffered', 1), ('harm;', 1), ('sleep?', 2), ('sleeping?', 2), ('reasoning;', 1), ('remonstrance;', 1), ('entreaty', 1), ('scornest.', 1), ('flat', 1), ('commands,', 1), ('breathest.', 1), ('say’st', 2), ('vow’d', 1), ('vow;', 1), ('ahabs.', 1), ('forbid!', 1), ('lawful', 1), ('home?', 1), ('hands?', 1), ('488', 1), ('hawsers;', 1), ('ring�bolts', 1), ('ﬂoor;', 1), ('caged', 1), ('tiger,', 1), ('howlings;', 1), ('japan', 1), ('near�', 1), ('est.', 1), ('light�', 1), ('ning', 1), ('tindering', 1), ('together?', 1), ('murderer,', 1), ('if”', 1), ('stealthily,', 1), ('looking,', 1), ('touch,', 1), ('mary!', 2), ('deeps', 1), ('i?', 2), ('shifted,', 1), ('topsails', 1), ('course.”', 1), ('last!”', 1), ('drunkard’s', 1), ('panel;', 1), ('wrestling', 1), ('death�tube', 1), ('asleep,', 1), ('know’st', 2), ('not�yet�subsided', 1), ('track,', 1), ('giants’', 1), ('outspread.', 1), ('unstaggering', 1), ('abounded', 1), ('outbellying', 1), ('boomed', 1), ('stacks.', 1), ('emblazonings,', 1), ('babylonian', 1), ('crucible', 1), ('molten', 1), ('bubblingly', 2), ('heat.', 1), ('taining', 1), ('loweringly', 1), ('duced', 1), ('rearward', 1), ('“ha,', 1), ('sea�chariot', 1), ('hallo!', 1), ('tandem,', 1), ('sud�', 1), ('denly', 1), ('reined', 1), ('huskily', 1), ('heading.', 1), ('“east�sou�east,', 1), ('steersman.', 1), ('liest!”', 1), ('“heading', 1), ('astern?”', 1), ('confounded;', 1), ('palpableness', 1), ('compasses;', 1), ('stagger.', 1), ('490', 1), ('“aye;', 1), ('gloomily.', 1), ('developed', 1), ('needle,', 1), ('electricity', 1), ('heaven;', 2), ('at,', 2), ('fatal;', 1), ('loadstone', 2), ('annihilated,', 1), ('knitting', 1), ('needle.', 1), ('recovers', 1), ('reaches', 1), ('lower�', 1), ('transpointed', 2), ('inverted,', 1), ('cordingly.', 1), ('undaunted', 1), ('orders;', 1), ('unmur�', 1), ('muringly', 1), ('acquiesced.', 1), ('rumbled,', 1), ('pooneers', 1), ('unimpressed;', 1), ('impressed,', 1), ('magnetism', 1), ('sight�tubes', 1), ('heaven�gazer', 1), ('feign', 1), ('pole;', 1), ('top�maul,', 1), ('sail�maker’s', 1), ('needles.', 1), ('accessory,', 1), ('impulse', 1), ('dictating', 2), ('motives,', 1), ('subtile', 2), ('needles,', 2), ('clumsily', 1), ('491', 1), ('shudderings', 2), ('portents.', 1), ('“men,”', 1), ('needles;', 1), ('any.”', 1), ('abashed', 1), ('servile', 1), ('exchanged', 1), ('upright,', 1), ('maul,', 1), ('smit�', 1), ('blunted', 1), ('magnetizing', 1), ('thread;', 1), ('sail�needle', 1), ('compass�cards.', 1), ('quivering', 3), ('yourselves,', 1), ('loadstone!', 1), ('slunk', 1), ('triumph,', 1), ('pride.', 1), ('hile', 1), ('fated', 1), ('reliance', 1), ('determining', 1), ('neglect', 1), ('form’s', 1), ('slate', 1), ('progression', 2), ('hour.', 1), ('hung,', 1), ('untouched,', 1), ('railing', 1), ('rains', 1), ('damped', 1), ('warped', 3), ('idly.', 1), ('reel,', 3), ('plungingly;', 1), ('riots.', 1), ('“forward,', 1), ('log!”', 1), ('golden�hued', 1), ('grizzly', 1), ('manxman.', 4), ('heave.”', 1), ('al�', 1), ('creamy,', 1), ('sidelong�rushing', 1), ('handle�ends', 1), ('spindle,', 1), ('spool', 1), ('revolved,', 1), ('downwards,', 2), ('unwinding', 2), ('hand�coil', 1), ('manxman,', 2), ('mistrust', 1), ('“’twill', 1), ('gentleman.', 1), ('493', 1), ('seem’st', 1), ('truer', 1), ('spool,', 1), ('disputing,', 1), ('’specially', 1), ('who’ll', 1), ('confess.”', 1), ('granite�founded', 1), ('college;', 1), ('subservient.', 1), ('born?”', 1), ('“excellent!', 1), ('thou’st', 1), ('unmanned', 1), ('reel!', 1), ('heaved.', 1), ('whirl.', 1), ('jerkingly', 1), ('reelman', 1), ('strangely.', 1), ('hard!”', 1), ('snap!', 1), ('overstrained', 1), ('sagged', 1), ('festoon;', 1), ('tugging', 1), ('log�line.', 1), ('tahitian;', 1), ('nothing’s', 1), ('happened;', 1), ('loosening', 1), ('tahitian!', 1), ('slow.', 1), ('pip?', 4), ('help;', 1), ('pip?”', 1), ('“pip?', 1), ('ﬁshed', 1), ('ﬁsher�', 1), ('hard;', 1), ('hatchet!', 2), ('“peace,', 1), ('loon,”', 1), ('“away', 1), ('quarter�deck!”', 1), ('scolds', 1), ('lesser,”', 1), ('advancing.', 2), ('holiness!', 1), ('sayest', 1), ('boy?”', 2), ('“astern', 1), ('astern!', 1), ('lo,', 2), ('lo!”', 1), ('boy?', 1), ('pupils', 1), ('sieve', 1), ('“bell�boy,', 1), ('ship’s�crier;', 1), ('ding,', 3), ('dong,', 3), ('ding!', 3), ('pounds', 1), ('clay!', 1), ('cowardly', 1), ('coward?”', 1), ('snow�line.', 1), ('creative', 1), ('libertines.', 1), ('henceforth,', 1), ('lives.', 2), ('touchest', 1), ('heart�strings.', 1), ('down.”', 1), ('494', 1), ('shark�skin,”', 1), ('lost!', 2), ('man�rope;', 1), ('weak', 1), ('rivet', 1), ('believers', 1), ('ill,', 1), ('idiotic,', 1), ('gratitude.', 1), ('prouder', 1), ('emperor’s!”', 1), ('daft', 3), ('“one', 1), ('weakness.', 1), ('rotten', 1), ('dripping,', 1), ('altogether.', 1), ('unfrequented', 1), ('scrying', 1), ('unvarying', 1), ('monotonously', 1), ('out�', 1), ('ﬁshing�ground,', 1), ('islets;', 1), ('plaintively', 1), ('half�articulated', 1), ('wailings', 1), ('herod’s', 1), ('innocents', 1), ('reveries,', 1), ('transﬁxedly', 1), ('listening,', 1), ('slave,', 1), ('hearing.', 1), ('mermaids,', 1), ('shuddered;', 1), ('unappalled.', 1), ('thrilling', 1), ('recounted', 1), ('unaccompanied', 1), ('der.', 1), ('dams,', 1), ('dams', 1), ('sobbing', 2), ('wail.', 1), ('aris�', 1), ('496', 1), ('semi�intelligent', 1), ('peeringly', 1), ('bodings', 1), ('plausible', 1), ('conﬁrmation', 1), ('fore;', 1), ('waked', 1), ('state),', 1), ('telling;', 1), ('perch,', 4), ('spring;', 1), ('shrunken,', 1), ('ﬁlled,', 1), ('pore;', 1), ('sooth', 1), ('few,', 1), ('grieved', 1), ('event,', 1), ('portent;', 1), ('foreshadowing', 2), ('fulﬁlment', 1), ('presaged.', 1), ('replaced;', 1), ('lightness', 1), ('feverish', 1), ('buoy,', 1), ('inuendoes', 1), ('cofﬁn.', 2), ('starting.', 1), ('“rather', 1), ('penter', 1), ('arrange', 1), ('easily.”', 1), ('“bring', 1), ('pause.', 2), ('“rig', 1), ('lid,', 1), ('caulk', 2), ('seams,', 1), ('caulking�iron.', 1), ('pitch�pot.', 1), ('“away!', 1), ('huff.', 1), ('497', 1), ('endure;', 1), ('baulks.', 1), ('bandbox', 1), ('cobbling', 2), ('undigniﬁed;', 1), ('tinkers’', 1), ('brats', 1), ('tinkerings;', 1), ('betters.', 1), ('fair�', 1), ('and�square', 1), ('jobs,', 1), ('midway,', 1), ('conclusion;', 1), ('cobbler’s', 1), ('job,', 3), ('jobs.', 1), ('tinkers.', 1), ('bald�headed', 1), ('job�shop', 1), ('heigh�ho!', 1), ('snow�caps.', 1), ('lid;', 2), ('seams;', 2), ('pitch;', 1), ('batten', 1), ('tight,', 1), ('snap�spring', 1), ('knotty', 1), ('aroostook', 1), ('hemlock;', 1), ('budge.', 1), ('cruppered', 1), ('cofﬁn!', 2), ('grave�yard', 1), ('tray!', 1), ('workers', 1), ('bridal�bedsteads', 1), ('card�tables,', 1), ('hearses.', 1), ('month,', 1), ('proﬁt;', 1), ('cobbling,', 1), ('tenderly.', 1), ('told?', 1), ('separate,', 1), ('turk’s�headed', 1), ('life�lines,', 1), ('there’ll', 1), ('calking�iron,', 1), ('pitch�pot,', 1), ('marling�spike!', 1), ('line�tubs,', 3), ('vice�bench', 1), ('calking', 2), ('frock.', 1), ('cabin�gangway,', 1), ('ack,', 1), ('goes!', 1), ('complies', 1), ('genially', 1), ('boy.', 1), ('aisle', 1), ('church!', 1), ('“life�buoy,', 1), ('hatchway!”', 1), ('vault.”', 1), ('hatchway?', 1), ('does.”', 1), ('leg�maker?', 1), ('shop?”', 1), ('ferrule', 2), ('undertaker?”', 1), ('they’ve', 1), ('arrant,', 1), ('all�grasping,', 1), ('intermeddling,', 1), ('monopolizing,', 1), ('scamp,', 1), ('life�buoys', 1), ('cofﬁns?', 1), ('jack�of�all�trades.”', 1), ('do.”', 1), ('titans,', 1), ('chipping', 1), ('craters', 1), ('grave�digger', 2), ('sings,', 1), ('never?”', 1), ('“sing,', 1), ('sing?', 1), ('music', 1), ('mallet', 2), ('sounding�', 1), ('sounding�board', 1), ('499', 1), ('bier,', 1), ('gate,', 1), ('in?”', 1), ('“faith,', 1), ('——”', 4), ('“faith?', 1), ('exclamation�like', 1), ('“um,', 1), ('um;', 1), ('silk�worm?', 1), ('thyself?', 1), ('bosom!', 1), ('despatch!', 1), ('traps', 1), ('sight.”', 1), ('albemarle,', 1), ('gallipagos,', 1), ('middle.', 2), ('oakum;', 1), ('quick.', 1), ('musical', 2), ('tap,', 1), ('tap!”', 1), ('himself.)', 1), ('greyheaded', 1), ('woodpecker', 1), ('tree!', 1), ('envied', 1), ('tow�lines.', 1), ('wag,', 1), ('fellow.', 1), ('rat�tat!', 1), ('seconds', 1), ('tick!', 1), ('immaterial', 1), ('materials!', 1), ('imponderable', 1), ('thoughts?', 1), ('hap,', 1), ('further?', 1), ('immortality�preserver!', 1), ('sound?', 1), ('suck', 1), ('philosophies', 1), ('conduits', 1), ('rachel,', 3), ('clustering', 1), ('broad�winged', 1), ('boastful', 1), ('bladders', 1), ('burst,', 1), ('hull.', 1), ('news,”', 1), ('yesterday.', 1), ('adrift?”', 1), ('throttling', 1), ('negatively', 1), ('pulls,', 1), ('boat�hook', 1), ('formal', 1), ('exchanged.', 1), ('killed!', 1), ('killed!”', 1), ('swiftest', 1), ('gleam', 1), ('501', 1), ('happens.', 1), ('necessitated', 1), ('increase', 1), ('kindling', 1), ('try�pots', 1), ('beacon;', 1), ('look�out.', 1), ('paused,', 2), ('search;', 1), ('wager', 1), ('season?', 1), ('buttons', 1), ('beg,', 1), ('conjure”', 1), ('icily', 1), ('petition.', 1), ('eight�and�forty', 2), ('charter', 1), ('roundly', 1), ('“his', 1), ('son!”', 1), ('night,”', 1), ('spirits.”', 1), ('rachel’s', 1), ('crews,', 1), ('perplexity;', 1), ('adopting', 1), ('502', 1), ('mentioning', 1), ('iciness', 1), ('unmisgiving', 1), ('hardihood', 1), ('nantucketer’s', 1), ('paternal', 2), ('initiate', 1), ('unenervated', 1), ('display', 1), ('partiality,', 1), ('undue', 1), ('boon', 1), ('go,”', 1), ('“till', 1), ('nestling', 1), ('relent;', 1), ('yards.”', 1), ('“avast,”', 1), ('“touch', 1), ('rope�yarn;”', 1), ('prolongingly', 1), ('gardiner,', 1), ('bye,', 3), ('bye.', 1), ('forgive', 1), ('strangers:', 1), ('transﬁxed', 1), ('rejection', 1), ('suit.', 1), ('enchantment,', 1), ('gardiner', 1), ('diverged', 1), ('wakes;', 2), ('tack;', 1), ('cherry', 2), ('cherrying', 1), ('wept', 1), ('comfort.', 1), ('ad,', 1), ('scare', 1), ('cures', 1), ('like;', 1), ('malady', 1), ('health.', 1), ('be.”', 2), ('villains,', 1), ('bigot', 1), ('fadeless', 1), ('ﬁdelity', 1), ('black!', 1), ('crazy!', 1), ('like�cures�like', 1), ('grows', 1), ('sane', 1), ('“oh', 1), ('master!”', 1), ('“weep', 1), ('met!', 1), ('so:', 1), ('befall.”', 1), ('goes;', 1), ('forward.)', 1), ('stood;', 1), ('bolt,', 1), ('bar;', 1), ('504', 1), ('here:', 1), ('chair', 1), ('seventy�fours', 1), ('lieutenants.', 1), ('epaulets!', 2), ('epaulets', 1), ('crowding!', 1), ('decanters;', 1), ('monsieurs!', 1), ('coats!', 1), ('monsieurs,', 1), ('hang�dog', 1), ('cowardly!', 1), ('cowards!', 1), ('cowards.', 1), ('master!', 2), ('down�hearted', 1), ('stay,', 1), ('rocks;', 1), ('bulge', 1), ('ocean�fold,', 1), ('tormenting', 1), ('inﬂicted;', 1), ('contrastingly', 1), ('concurred', 1), ('sinning', 1), ('sinned', 1), ('against;', 1), ('unsetting', 1), ('star,', 1), ('livelong,', 1), ('arctic,', 1), ('months’', 1), ('sustains', 1), ('piercing,', 1), ('domineered', 1), ('bodings,', 1), ('doubts,', 1), ('sprout', 1), ('leaf.', 1), ('natu�', 1), ('ral,', 1), ('vanished.', 1), ('smile;', 1), ('check', 1), ('sorrow,', 1), ('dust,', 1), ('powdered,', 1), ('clamped', 1), ('machines,', 1), ('despot', 1), ('conﬁden�', 1), ('tial', 1), ('awed', 2), ('crew’s,', 1), ('strangeness', 1), ('dubious', 1), ('506', 1), ('being’s', 1), ('slumber,', 1), ('hours:', 1), ('leaned;', 1), ('wan', 1), ('watchmen', 1), ('limits,', 1), ('mizen;', 1), ('step;', 1), ('slouching', 2), ('times:', 1), ('night�damp', 1), ('stone�carved', 1), ('sunshine', 1), ('planks;', 3), ('dinner:', 1), ('touched;', 2), ('beard;', 1), ('gnarled,', 1), ('unearthed', 1), ('intermission', 1), ('unmomentous', 1), ('essary.', 1), ('openly,', 1), ('awe�struck', 1), ('pole�like', 1), ('asunder.', 1), ('interchange.', 1), ('starlight;', 1), ('forethrown', 1), ('daily,', 1), ('hourly,', 1), ('commandingly', 1), ('subordinates,', 1), ('tyrant', 1), ('siding', 1), ('glimmering', 1), ('mast�heads!”', 1), ('507', 1), ('helmsman’s', 1), ('bell,', 1), ('sharp!', 1), ('sharp!”', 1), ('slided', 1), ('children�seeking', 1), ('rachel;', 1), ('myself,”', 1), ('“aye!', 2), ('doubloon!”', 1), ('sheaved', 1), ('downward�reeved', 1), ('attaching', 1), ('rail.', 3), ('shunning', 1), ('relying', 1), ('starbuck.”', 2), ('arranging', 1), ('basket,', 1), ('foothold,', 1), ('relations', 1), ('discerned', 1), ('deck�ends', 1), ('fastenings,', 1), ('watchman,', 1), ('carelessness', 1), ('swooping', 2), ('unusual;', 1), ('ventured', 2), ('faithful�', 1), ('somewhat;', 1), ('select', 1), ('watchman;', 1), ('508', 1), ('minutes;', 1), ('red�billed', 1), ('sea�hawks', 2), ('incommodiously', 1), ('untrackably', 1), ('circlings.', 1), ('spiralized', 1), ('bird;', 1), ('circumstance;', 1), ('mizen�mast�head,', 1), ('head:', 1), ('scream,', 1), ('prize.', 1), ('tarquin’s', 1), ('replace', 1), ('thereupon', 1), ('tanaquil,', 1), ('tarquin', 1), ('omen', 1), ('restored;', 1), ('prow:', 1), ('disappeared;', 1), ('disappearance,', 2), ('discerned,', 1), ('life�', 2), ('buoy�cofﬁn', 1), ('swung;', 1), ('misnamed', 1), ('beams,', 1), ('shears,', 2), ('whaling�ships,', 1), ('spare,', 1), ('unrigged,', 1), ('shears', 1), ('shattered,', 1), ('whale�boat;', 1), ('peeled,', 1), ('half�unhinged,', 1), ('bleaching', 1), ('“look!”', 1), ('hollow�', 1), ('cheeked', 1), ('wreck.', 2), ('sewing', 1), ('forged!”', 1), ('exclaiming', 1), ('nantucketer;', 1), ('triply', 1), ('life!”', 1), ('that”', 1), ('yesterday;', 1), ('bury;', 1), ('died;', 1), ('tomb.”', 1), ('god”', 1), ('“brace', 1), ('helm!”', 2), ('510', 1), ('baptism.', 1), ('dejected', 1), ('relief.', 1), ('yonder!', 1), ('burial;', 1), ('steel�blue', 1), ('ﬁrmaments', 1), ('separable', 1), ('all�pervading', 1), ('azure;', 1), ('pensive', 1), ('transparently', 1), ('man�like', 1), ('samson’s', 1), ('unspeckled', 1), ('birds;', 1), ('sword�ﬁsh,', 1), ('troubled,', 1), ('masculine', 1), ('sex,', 1), ('bride', 2), ('groom.', 1), ('fond,', 1), ('trust,', 1), ('alarms,', 1), ('twisted;', 1), ('gnarled', 1), ('wrinkles;', 2), ('haggardly', 1), ('unyielding;', 1), ('glow', 1), ('ruin;', 1), ('untottering', 1), ('clearness', 1), ('morn;', 1), ('girl’s', 1), ('infancy,', 1), ('innocency', 1), ('azure!', 1), ('close�coiled', 1), ('martha,', 1), ('laughing�eyed', 1), ('elves,', 1), ('heedlessly', 1), ('gambol', 1), ('sire;', 1), ('singed', 1), ('marge', 1), ('burnt�out', 1), ('profundity.', 1), ('aromas', 1), ('512', 1), ('dispel,', 1), ('cankerous', 1), ('caress', 1), ('step�mother', 1), ('erring,', 1), ('bless.', 1), ('wee', 1), ('drop.', 1), ('around.', 1), ('turned.', 2), ('“starbuck!”', 2), ('“sir.”', 1), ('boy�harpooneer', 1), ('eighteen!', 1), ('ago!', 2), ('whaling!', 1), ('privation,', 1), ('stormtime!', 1), ('forsaken', 1), ('deep!', 1), ('led;', 1), ('masoned,', 1), ('walled�town', 1), ('exclusiveness,', 1), ('weariness!', 1), ('heaviness!', 1), ('guinea�coast', 1), ('slavery', 1), ('command!', 1), ('half�suspected,', 1), ('nourishment', 1), ('soul!', 2), ('poorest', 1), ('crusts', 1), ('girl�wife', 1), ('marriage', 1), ('wife?', 2), ('frenzy,', 1), ('furiously,', 1), ('foamingly', 1), ('been!', 1), ('chase?', 1), ('weary,', 1), ('palsy', 1), ('richer', 1), ('brush', 1), ('weep.', 1), ('very,', 1), ('faint,', 1), ('humped,', 1), ('adam,', 1), ('513', 1), ('paradise.', 1), ('brain!', 1), ('mockery!', 2), ('mockery', 1), ('old?', 1), ('close!', 2), ('hearth�stone!', 1), ('board!', 1), ('eye!”', 1), ('captain!', 3), ('ﬁsh!', 2), ('home!', 1), ('brotherly,', 1), ('sisterly,', 1), ('play�fellow', 1), ('youth;', 1), ('loving,', 1), ('age!', 1), ('course!', 1), ('cheerily,', 1), ('hilariously,', 1), ('have.', 1), ('“tis', 1), ('mary,', 2), ('herself!', 1), ('sail!', 2), ('window!', 1), ('hill!”', 1), ('averted;', 1), ('blighted', 1), ('shook,', 1), ('cindered', 1), ('soil.', 1), ('inscrutable,', 1), ('cozening,', 1), ('lovings', 1), ('longings,', 1), ('pushing,', 1), ('proper,', 1), ('dare?', 1), ('errand�boy', 1), ('revolve,', 1), ('beat;', 1), ('thoughts;', 1), ('beating,', 1), ('thinking,', 1), ('handspike.', 1), ('albicore!', 1), ('fang', 1), ('ﬂying�ﬁsh?', 1), ('514', 1), ('bar?', 1), ('hay', 1), ('mowers', 1), ('new�', 1), ('mown', 1), ('hay.', 1), ('greenness;', 1), ('half�cut', 1), ('starbuck!”', 2), ('blanched', 1), ('corpse’s', 1), ('reﬂected,', 1), ('motionlessly', 1), ('mid�watch,', 1), ('ﬁercely,', 1), ('barbarous', 1), ('isle.', 1), ('odor,', 1), ('inspecting', 1), ('dog�vane,', 1), ('ascertain�', 1), ('altered,', 1), ('shortened.', 1), ('acute', 1), ('movements', 1), ('vindicated', 1), ('daybreak,', 1), ('sleek', 1), ('bordering', 1), ('metallic�like', 1), ('tide�rip,', 1), ('heads!', 1), ('exhale', 1), ('ﬂattening', 1), ('“t’gallant', 1), ('stunsails!', 2), ('sides!”', 1), ('life�line,', 1), ('top�gallant�sail,', 1), ('gull�like', 1), ('snow�hill!', 1), ('fired', 1), ('516', 1), ('pursuing.', 1), ('outs,', 2), ('top�gallant�mast,', 1), ('jetting', 1), ('moonlit', 1), ('before?”', 1), ('out,”', 1), ('only;', 1), ('again!”', 1), ('long�drawn,', 1), ('lingering,', 1), ('methodic', 3), ('attuned', 1), ('prolongings', 1), ('jets.', 1), ('top�gallant�sails!', 1), ('luff,', 1), ('luff', 1), ('steady!', 2), ('quicker!”', 1), ('“right', 1), ('“be', 1), ('her!', 2), ('boats!”', 1), ('dropped;', 1), ('boat�sails', 1), ('plying;', 1), ('onset.', 1), ('death�glimmer', 1), ('nautilus', 1), ('sped', 1), ('smooth;', 1), ('noon�meadow,', 1), ('unsuspecting', 1), ('ﬂeecy,', 1), ('turkish�rugged', 1), ('playfully', 1), ('interchangeably', 1), ('feathering', 1), ('alternate', 1), ('517', 1), ('ﬂight;', 1), ('ﬂag�staff', 1), ('argosy,', 1), ('recent', 1), ('soft�toed', 1), ('hovering,', 1), ('skimming', 1), ('streaming', 2), ('pennons.', 1), ('joyousness', 1), ('jupiter', 1), ('swim�', 1), ('ming', 1), ('ravished', 1), ('europa', 1), ('lovely,', 1), ('maid;', 1), ('bewitching', 1), ('ﬂeetness,', 1), ('nuptial', 1), ('crete;', 1), ('supreme!', 1), ('surpass', 1), ('swam.', 1), ('coincident', 1), ('laving', 1), ('enticings.', 1), ('namelessly', 1), ('serenity,', 1), ('assail', 1), ('enticing', 1), ('glidest', 1), ('may’st', 1), ('bejuggled', 1), ('tranquillities', 1), ('hand�clappings', 1), ('rapture,', 1), ('withholding', 1), ('bleized', 1), ('warningly', 1), ('bannered', 1), ('hoveringly', 1), ('halting,', 1), ('sea�fowls', 1), ('apeak,', 1), ('adrift,', 1), ('ﬂoated,', 1), ('dick’s', 2), ('reappearance.', 1), ('“an', 1), ('hour,”', 1), ('wooing', 1), ('circle.', 1), ('freshened;', 1), ('swell.', 1), ('birds!', 1), ('birds!”', 1), ('herons', 1), ('expectant', 1), ('keener', 1), ('man’s;', 2), ('weasel,', 1), ('celerity', 1), ('uprising,', 1), ('518', 1), ('undiscoverable', 1), ('scrolled', 2), ('open�doored', 1), ('tomb;', 1), ('apparition.', 1), ('axis,', 1), ('perceiv�', 1), ('stratagem,', 1), ('sidelingly', 1), ('rib,', 1), ('thrilled', 1), ('row�lock.', 1), ('pearl�white', 1), ('tude', 1), ('cat', 1), ('mouse.', 1), ('unastonished', 1), ('arms;', 1), ('dallied', 1), ('withstand,', 1), ('hated;', 1), ('frenzied', 1), ('wrench', 2), ('gripe.', 1), ('strove,', 1), ('frail', 1), ('collapsed,', 2), ('wrecks.', 1), ('stern�wreck', 1), ('intent,', 1), ('crafty', 1), ('upraising', 1), ('loosed', 1), ('bite.', 1), ('tilting', 2), ('slipped,', 1), ('519', 1), ('push;', 1), ('ﬂat�faced', 1), ('ripplingly', 1), ('spindled', 1), ('vindictively', 1), ('channel', 1), ('eddy�', 1), ('overleap', 1), ('scud.', 1), ('mad�', 1), ('mulberries', 1), ('antiochus’s', 1), ('maccabees.', 1), ('insolent', 1), ('whirlpool', 1), ('burst.', 1), ('incuriously', 1), ('cling�', 1), ('revolvingly', 1), ('planetarily', 1), ('hovered', 4), ('strain�', 1), ('zone,', 1), ('the”', 1), ('crest,', 1), ('off!”', 1), ('pointed;', 1), ('effectu�', 1), ('victim.', 1), ('designation', 1), ('(pitchpoling)', 1), ('whale�lance,', 1), ('pitchpoling,', 1), ('comprehensively', 1), ('520', 1), ('blood�shot,', 1), ('caking', 1), ('doom:', 1), ('trodden', 1), ('elephants.', 1), ('wails', 1), ('ravines.', 1), ('prostration', 1), ('abbreviate', 1), ('condense', 1), ('pang,', 1), ('feebler', 1), ('hearts,', 1), ('suffering;', 1), ('decree', 1), ('aggregate', 1), ('intensities;', 1), ('pointless', 1), ('centres,', 1), ('natures', 1), ('circumferences', 1), ('souls.', 1), ('harpoon,”', 1), ('rising,', 2), ('draggingly', 1), ('safe?”', 1), ('“one,', 1), ('ﬁve;', 1), ('men.”', 1), ('spout!', 1), ('oars;', 1), ('double�banked', 1), ('treble�', 1), ('banked', 1), ('showed,', 1), ('longed,', 1), ('unintermitted,', 1), ('oar;', 1), ('vicissitude.', 1), ('overtaking', 1), ('stacking', 1), ('outstretch�', 1), ('stun�sails,', 2), ('double�jointed', 1), ('albatross;', 1), ('binnacle�watch', 1), ('sec�', 2), ('ond', 1), ('allotted', 1), ('expired,', 1), ('“whose', 1), ('reply', 1), ('521', 1), ('perch.', 2), ('motionless;', 1), ('walking,', 1), ('pacing,', 1), ('reversed;', 1), ('over�clouded', 1), ('troops', 1), ('pause;', 1), ('intending,', 1), ('vainly,', 1), ('tain’s', 1), ('thistle', 1), ('ass', 1), ('refused;', 1), ('pricked', 1), ('keenly,', 1), ('soulless', 1), ('wreck?', 1), ('mechanical)', 1), ('wreck.”', 1), ('“aye', 2), ('near,', 2), ('“omen?', 1), ('omen?', 1), ('dictionary!', 1), ('outright', 1), ('honorably', 1), ('wives’', 1), ('darkling', 1), ('reversed,', 1), ('mankind;', 1), ('peopled', 1), ('neighbors!', 1), ('shiver!', 1), ('ond!”', 1), ('hem', 1), ('rustling.', 1), ('unset.', 1), ('dark”', 1), ('seen?”', 1), ('leeward.”', 1), ('slower', 1), ('while.', 1), ('“men,', 1), ('rousing', 1), ('day�break,', 1), ('punctually', 1), ('“turn', 1), ('travels', 2), ('rush.”', 1), ('pertinacious', 1), ('prescience', 1), ('invincible', 1), ('geniuses', 1), ('commanders;', 1), ('foretell', 1), ('period.', 1), ('trending', 1), ('headland,', 1), ('visited:', 1), ('ﬁsherman,', 1), ('obscures', 1), ('pilot’s', 1), ('proverbial', 1), ('evanescence', 1), ('railway', 1), ('523', 1), ('pulse;', 1), ('longitude.', 1), ('acuteness', 1), ('allies;', 1), ('avail', 1), ('windbound', 1), ('ninety�three', 1), ('port?', 1), ('inferable', 1), ('furrow', 1), ('missent,', 1), ('plough�share', 1), ('hemp!”', 1), ('creeps', 1), ('tingles', 1), ('fellows!', 1), ('launch', 1), ('spine�wise,', 1), ('live�oaks!', 1), ('spine’s', 1), ('gait', 1), ('behind!”', 1), ('ahead!”', 1), ('blister', 1), ('lungs!', 1), ('miller', 1), ('shuts', 1), ('water�gate', 1), ('stream!”', 1), ('frenzies', 1), ('routed,', 1), ('hares', 1), ('bounding', 1), ('bison.', 1), ('souls;', 1), ('suspense;', 1), ('unfearing,', 1), ('blind,', 1), ('irresistible;', 1), ('enslaved', 1), ('thirty.', 1), ('maple,', 1), ('balanced', 1), ('individualities', 1), ('valor,', 1), ('guiltlessness,', 1), ('oneness,', 1), ('goal', 1), ('lived.', 1), ('524', 1), ('outspreadingly', 1), ('wavings;', 1), ('shading', 1), ('blueness', 1), ('“sway', 1), ('deceived;', 1), ('disappears.”', 1), ('eagerness,', 1), ('whale�spout,', 1), ('proved;', 1), ('perch;', 1), ('belayed', 1), ('key�', 1), ('orchestra,', 1), ('vibrate', 1), ('discharges', 1), ('riﬂes.', 1), ('halloo', 1), ('view!', 1), ('spoutings;', 1), ('vicinity;', 1), ('breaching.', 1), ('booms', 1), ('torn,', 1), ('mane;', 1), ('breaching', 1), ('bravadoes', 1), ('salmon�like', 1), ('bluer', 1), ('glittered', 1), ('glacier;', 1), ('fading', 3), ('intensity,', 1), ('mistiness', 1), ('vale.', 1), ('fore.', 1), ('by!”', 1), ('rope�ladders', 1), ('halyards;', 1), ('dartingly,', 1), ('away,”', 1), ('assailant', 1), ('central;', 1), ('head�and�head,', 1), ('525', 1), ('excludes', 1), ('vision.', 1), ('annihilating', 1), ('manoeuvred,', 1), ('trained', 1), ('chargers', 1), ('ﬁeld;', 1), ('plank’s', 1), ('breadth;', 1), ('slogan', 1), ('shreds.', 1), ('untraceable', 1), ('evolutions,', 1), ('recrossed,', 1), ('foreshortened,', 1), ('rally', 1), ('charge.', 1), ('line:', 1), ('hoping', 1), ('disencumber', 1), ('snarls', 1), ('embattled', 1), ('sharks!', 2), ('corkscrewed', 1), ('inboard,', 1), ('fagot', 1), ('tangles', 2), ('husks', 1), ('surf�beaten', 1), ('grated', 1), ('nutmeg', 1), ('punch.', 1), ('aslope', 1), ('bobbed', 1), ('twitching', 1), ('lustily', 1), ('ladle', 1), ('unstricken', 1), ('526', 1), ('arrow�like,', 1), ('struggled', 1), ('momentum', 1), ('modifying', 1), ('crumb', 1), ('intertangled', 1), ('pace.', 1), ('rescue,', 1), ('wrists,', 1), ('ankles;', 1), ('contusions;', 1), ('inextricable', 1), ('ﬂoat;', 1), ('mishap.', 1), ('half�hung', 1), ('splinter.', 1), ('leaner', 1), ('has.”', 1), ('hope,”', 1), ('untouched;', 1), ('inaccessible', 1), ('roof?', 1), ('way?”', 1), ('“dead', 1), ('keepers!', 1), ('crews.”', 1), ('splinter', 1), ('gores', 1), ('fate!', 1), ('mate!”', 1), ('“sir?”', 2), ('527', 1), ('be!', 1), ('missing?', 1), ('parsee!”', 1), ('vomit', 1), ('alow,', 1), ('gone!”', 1), ('“caught', 1), ('under.”', 1), ('line?', 1), ('word?', 1), ('death�knell', 1), ('belfry.', 1), ('litter', 1), ('fool!', 3), ('collect', 1), ('harpooneers!', 1), ('sheets!', 1), ('unmeasured', 1), ('yea', 1), ('yet!”', 1), ('“great', 1), ('“never,', 1), ('jesus’', 1), ('mobbing', 1), ('warnings:', 1), ('have?', 1), ('swamps', 1), ('impiety', 1), ('blasphemy', 1), ('more!”', 1), ('lipless,', 1), ('unfeatured', 1), ('act’s', 1), ('immutably', 1), ('decreed.', 1), ('billion', 1), ('rolled.', 1), ('fates’', 1), ('lieutenant;', 1), ('underling!', 1), ('obeyest', 1), ('stump;', 1), ('propped', 1), ('foot.', 1), ('centipede,', 1), ('frigates', 1), ('gale;', 1), ('break,', 1), ('crack;', 1), ('hawser', 1), ('omens?', 1), ('encore!', 1), ('evermore.', 1), ('third.', 1), ('528', 1), ('last!', 1), ('brave?”', 1), ('ﬁre,”', 1), ('mechanical,”', 1), ('on:', 1), ('omens!', 1), ('others’', 1), ('mine!', 1), ('parsee!', 2), ('before:', 1), ('bafﬂe', 1), ('judges:', 1), ('hawk’s', 1), ('beak', 2), ('i’ll,', 1), ('though!”', 1), ('descended,', 1), ('shortened,', 1), ('hammers,', 2), ('grindstone', 1), ('scuttle;', 1), ('hid,', 1), ('heliotrope', 1), ('dial;', 1), ('dawned', 1), ('fresh,', 1), ('night�man', 1), ('fore�mast�head', 1), ('spar.', 2), ('goest,', 1), ('going.', 1), ('new�made', 1), ('summer�house', 1), ('fairer', 1), ('thinks;', 1), ('feels;', 1), ('think’s', 1), ('privilege.', 1), ('calmness;', 1), ('throb,', 1), ('growing,', 1), ('clefts', 1), ('vesuvius', 1), ('lava.', 1), ('prison', 1), ('corridors', 1), ('hospitals,', 1), ('ventilated', 1), ('ﬂeeces.', 1), ('tainted.', 1), ('wicked,', 1), ('cave,', 1), ('slink', 1), ('530', 1), ('braver', 1), ('exasperate', 1), ('bodiless,', 1), ('bodiless', 1), ('special,', 1), ('difference!', 1), ('steadfast,', 1), ('mildness;', 1), ('veer', 1), ('baser', 1), ('tack,', 1), ('mississippies', 1), ('poles!', 1), ('unchange�able,', 1), ('along!', 1), ('“nothing!', 1), ('a�begging!', 1), ('oversailed', 1), ('start?', 1), ('bad;', 1), ('towing.', 1), ('about!', 2), ('outs!', 1), ('braces!”', 1), ('quarter,', 1), ('reverse', 1), ('rechurned', 1), ('“against', 1), ('jaw,”', 1), ('new�hauled', 1), ('main�brace', 1), ('misdoubt', 1), ('basket.', 1), ('soon.”', 1), ('high.', 1), ('gold�beaten', 1), ('suspense.', 1), ('voiced', 1), ('“forehead', 1), ('wind’s', 1), ('top�maul!', 1), ('wink', 1), ('sand�hills', 1), ('same!', 2), ('leewardings!', 1), ('leeward!', 1), ('531', 1), ('bitterer', 1), ('mast�head!', 1), ('green?', 1), ('tiny', 1), ('matter’s.', 1), ('hulls,', 1), ('fathers.', 1), ('pilot;', 1), ('again?', 1), ('where?', 1), ('stairs?', 1), ('told’st', 1), ('short.', 1), ('cloven', 1), ('shallop’s', 1), ('tackle�ropes', 1), ('missing,', 1), ('“truth,', 1), ('truth.”', 1), ('tide;', 1), ('crested', 1), ('comb,', 1), ('fastened;', 1), ('glue.', 1), ('not!', 2), ('weeps;', 1), ('persuasion', 1), ('then!”', 1), ('crew!”', 1), ('sharks!”', 1), ('cabin�window', 1), ('“o', 1), ('high�lifted', 2), ('maliciously', 1), ('bites.', 1), ('prescient', 1), ('hover', 1), ('regiments', 1), ('532', 1), ('barbarians,', 1), ('senses', 1), ('molesting', 1), ('“heart', 1), ('steel!”', 1), ('sight?', 1), ('ravening', 1), ('day?', 1), ('may.', 1), ('expectant,', 1), ('shudder!', 1), ('skeletons;', 1), ('dim.', 1), ('girl!', 1), ('fadest', 1), ('clearing;', 1), ('journey’s', 1), ('yet?', 1), ('move,', 1), ('move!', 1), ('aloud!', 1), ('hill?', 1), ('crazed;', 1), ('boats:', 1), ('hawk!', 1), ('vane”', 1), ('soars', 1), ('sees’t', 1), ('shudder!”', 1), ('sounded;', 1), ('intending', 1), ('head�beat', 1), ('“drive,', 1), ('nails,', 2), ('waves!', 1), ('mine:', 1), ('circles;', 1), ('upheaved,', 1), ('berg', 1), ('bedraggled', 1), ('lengthwise,', 1), ('swamping', 1), ('brokenly', 1), ('ﬂakes,', 1), ('creamed', 1), ('533', 1), ('attack;', 1), ('yesterday’s', 1), ('combinedly', 1), ('tiers', 1), ('overspreading', 2), ('knitted', 1), ('ﬂailed', 1), ('mates’', 1), ('scar.', 1), ('frayed', 1), ('shreds;', 1), ('“befooled,', 1), ('befooled!”', 1), ('goest', 1), ('promise.', 1), ('hearse?', 1), ('repair', 1), ('bore,', 1), ('headway', 1), ('desist.', 1), ('seekest', 1), ('canvas.', 1), ('judicious', 1), ('interval.', 1), ('staved', 1), ('port�holes,', 1), ('534', 1), ('busying', 1), ('rallied.', 1), ('vane', 1), ('main�mast�head,', 1), ('bore;', 1), ('abate,', 1), ('pertinaciously', 1), ('crunched,', 1), ('splinters', 1), ('dip.', 1), ('“heed', 1), ('rowlocks', 1), ('bite,', 1), ('smaller!”', 1), ('tell”', 1), ('“whether', 1), ('pass,”', 1), ('monadnock', 1), ('poise,', 1), ('ﬁercer', 1), ('morass,', 1), ('writhed;', 1), ('clung,', 1), ('foreknew', 1), ('unprepared', 1), ('fell,', 1), ('inboard', 1), ('simultaneously,', 1), ('un�graduated,', 1), ('535', 1), ('seats,', 1), ('tug,', 1), ('sinew', 1), ('cracks!', 1), ('oars!', 3), ('sea�crashing', 1), ('bay;', 1), ('evolution,', 1), ('persecutions;', 1), ('foe;', 1), ('staggered;', 1), ('hands!', 1), ('night?”', 1), ('ship!”', 1), ('see:', 1), ('sledge�hammering', 1), ('whale�smitten', 1), ('bow�ends', 1), ('half�wading,', 1), ('splashing', 1), ('gap', 1), ('half�wrapping', 1), ('plaid,', 1), ('forward�ﬂowing', 1), ('down�coming', 1), ('jaw!', 2), ('prayers?', 1), ('ﬁdelities?', 1), ('unappeasable', 1), ('unwinking', 1), ('eye?', 1), ('mattrass', 1), ('soft;', 1), ('brushwood!', 1), ('assassins', 1), ('ghost.', 1), ('gulping', 1), ('drawers!', 1), ('cherries!', 3), ('536', 1), ('die!”', 1), ('“cherries?', 1), ('grow.', 1), ('part�', 1), ('coppers', 1), ('up.”', 1), ('inactive;', 1), ('employments;', 1), ('predestinating', 1), ('rushed.', 1), ('buttress', 1), ('reeled.', 1), ('dislodged', 1), ('trucks,', 1), ('bull�like', 1), ('necks.', 1), ('breach,', 1), ('pour,', 1), ('torrents', 1), ('ﬂume.', 1), ('hearse!', 1), ('hearse!”', 1), ('“its', 1), ('american!”', 1), ('quiescent.', 1), ('unsurrendered', 1), ('uncracked', 1), ('god�bullied', 1), ('pole�pointed', 1), ('death�glorious', 1), ('perish,', 1), ('captains?', 1), ('bounds,', 1), ('foregone', 1), ('comber', 1), ('all�destroying', 1), ('unconquering', 1), ('grapple', 1), ('stab', 1), ('hate’s', 1), ('pool!', 1), ('groove;', 1), ('foul.', 1), ('voicelessly', 1), ('mutes', 1), ('bowstring', 1), ('victim,', 1), ('stark�empty', 1), ('depths.', 1), ('bewildering', 1), ('mediums', 1), ('537', 1), ('gaseous', 1), ('fata', 1), ('morgana;', 1), ('infatuation,', 1), ('ﬁdelity,', 1), ('perches,', 1), ('lookouts', 1), ('lance�pole,', 1), ('spinning,', 1), ('animate', 1), ('inanimate,', 1), ('vortex,', 1), ('whelmings', 1), ('intermixingly', 1), ('undulated,', 1), ('ironical', 1), ('coincidings,', 1), ('destroying', 1), ('backwardly', 1), ('sky�hawk', 1), ('tauntingly', 1), ('incommoding', 1), ('intercept', 1), ('simulataneously', 1), ('etherial', 1), ('thrill,', 1), ('death�grasp,', 1), ('shrieks,', 1), ('satan,', 1), ('gulf;', 1), ('drama’s', 1), ('forth?', 1), ('chanced,', 1), ('post;', 1), ('half�spent', 1), ('suction', 1), ('vortex.', 1), ('pool.', 1), ('button�like', 1), ('ixion', 1), ('burst;', 1), ('liberated', 1), ('buoy', 1), ('dirge�like', 1), ('padlocks', 1), ('sheathed', 1), ('beaks.', 1), ('devious�cruising', 1), ('retracing', 1), ('orphan.', 1), ('finis', 1), ('', 2)])"
      ]
     },
     "execution_count": 69,
     "metadata": {},
     "output_type": "execute_result"
    }
   ],
   "source": [
    "wordcount.items()"
   ]
  },
  {
   "cell_type": "code",
   "execution_count": 70,
   "metadata": {},
   "outputs": [
    {
     "data": {
      "text/plain": [
       "[('the', 14747),\n",
       " ('of', 6590),\n",
       " ('and', 6323),\n",
       " ('a', 4708),\n",
       " ('to', 4538),\n",
       " ('in', 4110),\n",
       " ('.', 3485),\n",
       " ('that', 2780),\n",
       " ('his', 2499),\n",
       " ('it', 1787),\n",
       " ('i', 1785),\n",
       " ('as', 1723),\n",
       " ('he', 1717),\n",
       " ('with', 1704),\n",
       " ('but', 1701),\n",
       " ('—', 1660),\n",
       " ('is', 1597),\n",
       " ('was', 1582),\n",
       " ('for', 1540),\n",
       " ('all', 1374),\n",
       " ('at', 1317),\n",
       " ('this', 1266),\n",
       " ('by', 1155),\n",
       " ('from', 1087),\n",
       " ('not', 1078),\n",
       " ('be', 990),\n",
       " ('on', 958),\n",
       " ('so', 893),\n",
       " ('one', 795),\n",
       " ('you', 783),\n",
       " ('had', 761),\n",
       " ('have', 760),\n",
       " ('or', 701),\n",
       " ('were', 648),\n",
       " ('they', 642),\n",
       " ('their', 621),\n",
       " ('some', 608),\n",
       " ('an', 594),\n",
       " ('him', 580),\n",
       " ('my', 577),\n",
       " ('are', 576),\n",
       " ('like', 572),\n",
       " ('whale', 571),\n",
       " ('which', 563),\n",
       " ('when', 554),\n",
       " ('upon', 553),\n",
       " ('chapter', 549),\n",
       " ('into', 519),\n",
       " ('there', 518),\n",
       " ('now', 513),\n",
       " ('what', 492),\n",
       " ('no', 486),\n",
       " ('out', 452),\n",
       " ('if', 449),\n",
       " ('more', 435),\n",
       " ('up', 430),\n",
       " ('old', 428),\n",
       " ('we', 425),\n",
       " ('would', 414),\n",
       " ('been', 400),\n",
       " ('then', 384),\n",
       " ('these', 382),\n",
       " ('its', 376),\n",
       " ('over', 373),\n",
       " ('only', 362),\n",
       " ('such', 359),\n",
       " ('will', 355),\n",
       " ('other', 352),\n",
       " ('me', 352),\n",
       " ('though', 330),\n",
       " ('any', 319),\n",
       " ('down', 314),\n",
       " ('very', 314),\n",
       " ('than', 309),\n",
       " ('those', 302),\n",
       " ('great', 295),\n",
       " ('them', 286),\n",
       " ('has', 286),\n",
       " ('still', 284),\n",
       " ('her', 283),\n",
       " ('most', 280),\n",
       " ('who', 279),\n",
       " ('about', 279),\n",
       " ('seemed', 275),\n",
       " ('yet', 275),\n",
       " ('ye', 274),\n",
       " ('two', 273),\n",
       " ('must', 271),\n",
       " ('long', 263),\n",
       " ('ahab', 258),\n",
       " ('after', 258),\n",
       " ('said', 257),\n",
       " ('do', 256),\n",
       " ('ship', 254),\n",
       " ('before', 253),\n",
       " ('man', 249),\n",
       " ('your', 247),\n",
       " ('white', 240),\n",
       " ('him,', 238),\n",
       " ('it,', 237),\n",
       " ('thou', 233),\n",
       " ('did', 233),\n",
       " ('little', 233),\n",
       " ('three', 231),\n",
       " ('every', 229),\n",
       " ('how', 229),\n",
       " ('while', 223),\n",
       " ('sperm', 222),\n",
       " ('through', 218),\n",
       " ('captain', 218),\n",
       " ('round', 215),\n",
       " ('may', 213),\n",
       " ('being', 212),\n",
       " ('last', 210),\n",
       " ('whale,', 208),\n",
       " ('could', 208),\n",
       " ('our', 207),\n",
       " ('much', 207),\n",
       " ('see', 202),\n",
       " ('same', 202),\n",
       " ('ﬁrst', 200),\n",
       " ('never', 200),\n",
       " ('time', 200),\n",
       " ('where', 188),\n",
       " ('then,', 188),\n",
       " ('almost', 186),\n",
       " ('even', 183),\n",
       " ('can', 182),\n",
       " ('should', 182),\n",
       " ('ever', 181),\n",
       " ('own', 179),\n",
       " ('here', 177),\n",
       " ('might', 175),\n",
       " ('it.', 174),\n",
       " ('good', 174),\n",
       " ('now,', 173),\n",
       " ('off', 172),\n",
       " ('among', 167),\n",
       " ('many', 164),\n",
       " ('whales', 162),\n",
       " ('way', 161),\n",
       " ('go', 158),\n",
       " ('made', 156),\n",
       " ('far', 155),\n",
       " ('head', 153),\n",
       " ('sea', 151),\n",
       " ('us', 148),\n",
       " ('without', 145),\n",
       " ('me,', 143),\n",
       " ('cried', 143),\n",
       " ('well', 139),\n",
       " ('sort', 139),\n",
       " ('thing', 138),\n",
       " ('himself', 138),\n",
       " ('boat', 137),\n",
       " ('against', 134),\n",
       " ('whale’s', 133),\n",
       " ('nor', 133),\n",
       " ('let', 131),\n",
       " ('take', 130),\n",
       " ('once', 128),\n",
       " ('come', 128),\n",
       " ('look', 128),\n",
       " ('thought', 127),\n",
       " ('whole', 127),\n",
       " ('seen', 126),\n",
       " ('right', 125),\n",
       " ('each', 125),\n",
       " ('there,', 122),\n",
       " ('came', 122),\n",
       " ('day', 121),\n",
       " ('tell', 120),\n",
       " ('hand', 119),\n",
       " ('till', 119),\n",
       " ('men', 119),\n",
       " ('part', 119),\n",
       " ('queequeg', 118),\n",
       " ('away', 118),\n",
       " ('she', 117),\n",
       " ('know', 117),\n",
       " ('again', 116),\n",
       " ('stubb', 115),\n",
       " ('under', 115),\n",
       " ('soon', 115),\n",
       " ('thus', 114),\n",
       " ('towards', 113),\n",
       " ('just', 113),\n",
       " ('both', 113),\n",
       " ('something', 111),\n",
       " ('thy', 111),\n",
       " ('small', 110),\n",
       " ('don’t', 110),\n",
       " ('so,', 110),\n",
       " ('full', 109),\n",
       " ('make', 109),\n",
       " ('him.', 109),\n",
       " ('between', 109),\n",
       " ('ahab,', 109),\n",
       " ('sea,', 108),\n",
       " ('found', 105),\n",
       " ('poor', 104),\n",
       " ('think', 104),\n",
       " ('that,', 104),\n",
       " ('called', 103),\n",
       " ('say', 103),\n",
       " ('saw', 103),\n",
       " ('eyes', 100),\n",
       " ('too', 99),\n",
       " ('side', 99),\n",
       " ('is,', 98),\n",
       " ('man,', 97),\n",
       " ('say,', 96),\n",
       " ('whaling', 95),\n",
       " ('shall', 95),\n",
       " ('pequod', 94),\n",
       " ('another', 92),\n",
       " ('few', 92),\n",
       " ('get', 92),\n",
       " ('it;', 92),\n",
       " ('“i', 91),\n",
       " ('it’s', 91),\n",
       " ('back', 90),\n",
       " ('things', 90),\n",
       " ('moby', 89),\n",
       " ('nothing', 89),\n",
       " ('high', 89),\n",
       " ('feet', 89),\n",
       " ('heard', 89),\n",
       " ('him;', 88),\n",
       " ('along', 88),\n",
       " ('went', 88),\n",
       " ('boats', 87),\n",
       " ('going', 86),\n",
       " ('does', 86),\n",
       " ('them,', 86),\n",
       " ('hands', 86),\n",
       " ('half', 86),\n",
       " ('whose', 85),\n",
       " ('whether', 85),\n",
       " ('and,', 85),\n",
       " ('that’s', 85),\n",
       " ('certain', 85),\n",
       " ('he’s', 84),\n",
       " ('new', 84),\n",
       " ('ship,', 83),\n",
       " ('why', 83),\n",
       " ('i,', 83),\n",
       " ('stubb,', 82),\n",
       " ('life', 81),\n",
       " ('seem', 81),\n",
       " ('strange', 81),\n",
       " ('seems', 80),\n",
       " ('stand', 80),\n",
       " ('aye,', 80),\n",
       " ('line', 79),\n",
       " ('sometimes', 79),\n",
       " ('because', 79),\n",
       " ('starbuck', 78),\n",
       " ('water', 78),\n",
       " ('which,', 78),\n",
       " ('am', 78),\n",
       " ('stood', 78),\n",
       " ('ye,', 78),\n",
       " ('*', 77),\n",
       " ('ship’s', 77),\n",
       " ('world', 76),\n",
       " ('“the', 76),\n",
       " ('times', 76),\n",
       " ('whale;', 75),\n",
       " ('give', 75),\n",
       " ('always', 75),\n",
       " ('wild', 75),\n",
       " ('black', 75),\n",
       " ('time,', 75),\n",
       " ('whale.', 74),\n",
       " ('ere', 74),\n",
       " ('standing', 74),\n",
       " ('ahab’s', 73),\n",
       " ('hold', 73),\n",
       " ('crew', 72),\n",
       " ('young', 72),\n",
       " ('whales,', 71),\n",
       " ('place', 71),\n",
       " ('but,', 71),\n",
       " ('boat,', 70),\n",
       " ('head,', 70),\n",
       " ('put', 70),\n",
       " ('body', 70),\n",
       " ('known', 69),\n",
       " ('keep', 69),\n",
       " ('vast', 68),\n",
       " ('dead', 68),\n",
       " ('queequeg,', 68),\n",
       " ('present', 68),\n",
       " ('oh,', 68),\n",
       " ('beneath', 67),\n",
       " ('sight', 67),\n",
       " ('rather', 67),\n",
       " ('hard', 67),\n",
       " ('here,', 67),\n",
       " ('deck,', 67),\n",
       " ('living', 66),\n",
       " ('four', 65),\n",
       " ('also', 65),\n",
       " ('set', 65),\n",
       " ('again,', 65),\n",
       " ('moment', 65),\n",
       " ('this,', 65),\n",
       " ('cannot', 64),\n",
       " ('lay', 64),\n",
       " ('having', 64),\n",
       " ('sea.', 64),\n",
       " ('god', 63),\n",
       " ('large', 63),\n",
       " ('years', 63),\n",
       " ('men,', 63),\n",
       " ('ing', 63),\n",
       " ('often', 63),\n",
       " ('true', 62),\n",
       " ('night', 62),\n",
       " ('end', 62),\n",
       " ('chase', 61),\n",
       " ('within', 61),\n",
       " ('me.', 61),\n",
       " ('way,', 61),\n",
       " ('looked', 61),\n",
       " ('hand,', 61),\n",
       " ('i’ll', 61),\n",
       " ('arm', 60),\n",
       " ('one,', 60),\n",
       " ('too,', 60),\n",
       " ('face', 60),\n",
       " ('1', 59),\n",
       " ('less', 59),\n",
       " ('open', 59),\n",
       " ('matter', 59),\n",
       " ('told', 58),\n",
       " ('grand', 58),\n",
       " ('since', 58),\n",
       " ('iron', 58),\n",
       " ('near', 58),\n",
       " ('mind', 58),\n",
       " ('turned', 58),\n",
       " ('left', 58),\n",
       " ('second', 57),\n",
       " ('point', 57),\n",
       " ('general', 57),\n",
       " ('however', 57),\n",
       " ('there’s', 57),\n",
       " ('deck', 56),\n",
       " ('starbuck,', 56),\n",
       " ('leg', 55),\n",
       " ('feel', 55),\n",
       " ('best', 55),\n",
       " ('sail', 55),\n",
       " ('mr.', 55),\n",
       " ('peculiar', 55),\n",
       " ('looking', 55),\n",
       " ('reason', 55),\n",
       " ('who,', 55),\n",
       " ('live', 55),\n",
       " ('ﬁnd', 54),\n",
       " ('heart', 54),\n",
       " ('least', 54),\n",
       " ('perhaps', 54),\n",
       " ('ships', 54),\n",
       " ('side,', 54),\n",
       " ('days', 53),\n",
       " ('turn', 53),\n",
       " ('better', 53),\n",
       " ('call', 53),\n",
       " ('taking', 53),\n",
       " ('goes', 52),\n",
       " ('length', 52),\n",
       " ('all,', 52),\n",
       " ('them.', 52),\n",
       " ('sun', 52),\n",
       " ('water,', 51),\n",
       " ('yet,', 51),\n",
       " ('further', 51),\n",
       " ('began', 51),\n",
       " ('hear', 50),\n",
       " ('hundred', 50),\n",
       " ('instant', 50),\n",
       " ('comes', 50),\n",
       " ('entire', 50),\n",
       " ('jonah', 49),\n",
       " ('case', 49),\n",
       " ('leviathan', 49),\n",
       " ('close', 49),\n",
       " ('you,', 49),\n",
       " ('took', 49),\n",
       " ('lower', 49),\n",
       " ('nantucket', 48),\n",
       " ('up,', 48),\n",
       " ('taken', 48),\n",
       " ('order', 48),\n",
       " ('sir,', 48),\n",
       " ('turning', 48),\n",
       " ('ﬁne', 48),\n",
       " ('man’s', 48),\n",
       " ('was,', 48),\n",
       " ('forth', 48),\n",
       " ('thousand', 47),\n",
       " ('slowly', 47),\n",
       " ('business', 47),\n",
       " ('next', 47),\n",
       " ('word', 47),\n",
       " ('curious', 47),\n",
       " ('indeed,', 47),\n",
       " ('name', 46),\n",
       " ('thee', 46),\n",
       " ('above', 46),\n",
       " ('voyage', 46),\n",
       " ('captain,', 46),\n",
       " ('broad', 46),\n",
       " ('several', 46),\n",
       " ('for,', 46),\n",
       " ('pequod’s', 46),\n",
       " ('dick', 45),\n",
       " ('eye', 45),\n",
       " ('ten', 45),\n",
       " ('night,', 45),\n",
       " ('english', 45),\n",
       " ('air', 45),\n",
       " ('suddenly', 45),\n",
       " ('enough', 45),\n",
       " ('common', 45),\n",
       " ('kept', 45),\n",
       " ('coming', 45),\n",
       " ('well,', 44),\n",
       " ('noble', 44),\n",
       " ('run', 44),\n",
       " ('themselves', 44),\n",
       " ('myself', 44),\n",
       " ('yes,', 44),\n",
       " ('ivory', 44),\n",
       " ('used', 44),\n",
       " ('got', 44),\n",
       " ('running', 44),\n",
       " ('book', 43),\n",
       " ('story', 43),\n",
       " ('mere', 43),\n",
       " ('whatever', 43),\n",
       " ('making', 43),\n",
       " ('indian', 43),\n",
       " ('mighty', 43),\n",
       " ('cut', 43),\n",
       " ('dark', 43),\n",
       " ('gone', 42),\n",
       " ('day,', 42),\n",
       " ('harpooneer', 42),\n",
       " ('straight', 42),\n",
       " ('on,', 42),\n",
       " ('light', 42),\n",
       " ('when,', 42),\n",
       " ('oh!', 42),\n",
       " ('means', 42),\n",
       " ('ﬁsh', 41),\n",
       " ('touching', 41),\n",
       " ('whom', 41),\n",
       " ('deep', 41),\n",
       " ('oil', 41),\n",
       " ('caught', 41),\n",
       " ('air,', 41),\n",
       " ('board', 41),\n",
       " ('sea;', 41),\n",
       " ('lord', 40),\n",
       " ('wide', 40),\n",
       " ('whalemen', 40),\n",
       " ('particular', 40),\n",
       " ('quite', 40),\n",
       " ('rolled', 40),\n",
       " ('harpoon', 40),\n",
       " ('though,', 40),\n",
       " ('broken', 40),\n",
       " ('last,', 40),\n",
       " ('harpooneers', 39),\n",
       " ('flask', 39),\n",
       " ('seas', 39),\n",
       " ('ocean', 39),\n",
       " ('behind', 39),\n",
       " ('death', 39),\n",
       " ('sat', 39),\n",
       " ('struck', 39),\n",
       " ('knew', 39),\n",
       " ('nigh', 39),\n",
       " ('wondrous', 39),\n",
       " ('mark', 38),\n",
       " ('out,', 38),\n",
       " ('“and', 38),\n",
       " ('brought', 38),\n",
       " ('green', 38),\n",
       " ('especially', 38),\n",
       " ('mortal', 38),\n",
       " ('eyes,', 38),\n",
       " ('various', 38),\n",
       " ('sharp', 38),\n",
       " ('savage', 38),\n",
       " ('what’s', 38),\n",
       " ('makes', 38),\n",
       " ('o', 38),\n",
       " ('aloft', 37),\n",
       " ('us,', 37),\n",
       " ('lost', 37),\n",
       " ('“what', 37),\n",
       " ('work', 37),\n",
       " ('placed', 37),\n",
       " ('wind', 37),\n",
       " ('land', 37),\n",
       " ('around', 37),\n",
       " ('itself', 37),\n",
       " ('long,', 37),\n",
       " ('human', 37),\n",
       " ('felt', 37),\n",
       " ('concerning', 37),\n",
       " ('gave', 37),\n",
       " ('plainly', 37),\n",
       " ('golden', 36),\n",
       " ('view', 36),\n",
       " ('tail', 36),\n",
       " ('cabin', 36),\n",
       " ('leaving', 36),\n",
       " ('there!', 36),\n",
       " ('soul', 36),\n",
       " ('anything', 36),\n",
       " ('single', 36),\n",
       " ('holding', 36),\n",
       " ('ready', 36),\n",
       " ('ﬁve', 36),\n",
       " ('people', 36),\n",
       " ('chance', 36),\n",
       " ('bottom', 36),\n",
       " ('t', 36),\n",
       " ('thee,', 36),\n",
       " ('boat’s', 36),\n",
       " ('heads', 35),\n",
       " ('third', 35),\n",
       " ('therefore', 35),\n",
       " ('said,', 35),\n",
       " ('art', 35),\n",
       " ('voice', 35),\n",
       " ('other,', 35),\n",
       " ('all.', 35),\n",
       " ('no,', 35),\n",
       " ('time.', 35),\n",
       " ('blue', 35),\n",
       " ('help', 35),\n",
       " ('back,', 35),\n",
       " ('more,', 35),\n",
       " ('them;', 35),\n",
       " ('given', 35),\n",
       " ('“aye,', 35),\n",
       " ('world,', 34),\n",
       " ('clear', 34),\n",
       " ('speak', 34),\n",
       " ('nearly', 34),\n",
       " ('bear', 34),\n",
       " ('passed', 34),\n",
       " ('voyage,', 34),\n",
       " ('famous', 34),\n",
       " ('nevertheless,', 34),\n",
       " ('“but', 34),\n",
       " ('sudden', 34),\n",
       " ('again.', 34),\n",
       " ('flask,', 34),\n",
       " ('watch', 33),\n",
       " ('bones', 33),\n",
       " ('ﬁxed', 33),\n",
       " ('in,', 33),\n",
       " ('account', 33),\n",
       " ('sailors', 33),\n",
       " ('red', 33),\n",
       " ('says', 33),\n",
       " ('indeed', 33),\n",
       " ('held', 33),\n",
       " ('seeing', 33),\n",
       " ('completely', 33),\n",
       " ('turns', 33),\n",
       " ('bildad,', 33),\n",
       " ('de', 33),\n",
       " ('sailor.', 33),\n",
       " ('boats,', 32),\n",
       " ('blood', 32),\n",
       " ('fell', 32),\n",
       " ('shot', 32),\n",
       " ('cape', 32),\n",
       " ('sure', 32),\n",
       " ('however,', 32),\n",
       " ('himself,', 32),\n",
       " ('darted', 32),\n",
       " ('heavy', 32),\n",
       " ('drawing', 32),\n",
       " ('morning', 32),\n",
       " ('hardly', 32),\n",
       " ('sound', 32),\n",
       " ('there;', 32),\n",
       " ('sailed', 32),\n",
       " ('down,', 32),\n",
       " ('times,', 32),\n",
       " ('natural', 32),\n",
       " ('crew,', 32),\n",
       " ('greenland', 32),\n",
       " ('carpenter', 31),\n",
       " ('hat', 31),\n",
       " ('short', 31),\n",
       " ('ship.', 31),\n",
       " ('there.', 31),\n",
       " ('sign', 31),\n",
       " ('bed', 31),\n",
       " ('want', 31),\n",
       " ('man.', 31),\n",
       " ('unknown', 31),\n",
       " ('show', 31),\n",
       " ('fast', 31),\n",
       " ('waters', 31),\n",
       " ('pequod,', 31),\n",
       " ('d’ye', 31),\n",
       " ('away,', 31),\n",
       " ('meets', 30),\n",
       " ('cofﬁn', 30),\n",
       " ('devil', 30),\n",
       " ('ﬁfty', 30),\n",
       " ('ﬁre', 30),\n",
       " ('upper', 30),\n",
       " ('sleep', 30),\n",
       " ('really', 30),\n",
       " ('parts', 30),\n",
       " ('already', 30),\n",
       " ('i.', 30),\n",
       " ('be,', 30),\n",
       " ('fair', 30),\n",
       " ('therefore,', 30),\n",
       " ('carried', 30),\n",
       " ('cast', 30),\n",
       " ('craft', 30),\n",
       " ('remained', 30),\n",
       " ('except', 30),\n",
       " ('spout', 30),\n",
       " ('mast�head', 29),\n",
       " ('first', 29),\n",
       " ('somehow', 29),\n",
       " ('king', 29),\n",
       " ('try', 29),\n",
       " ('either', 29),\n",
       " ('monster', 29),\n",
       " ('chief', 29),\n",
       " ('perhaps,', 29),\n",
       " ('didn’t', 29),\n",
       " ('ﬁnal', 29),\n",
       " ('low', 29),\n",
       " ('head.', 29),\n",
       " ('seamen', 29),\n",
       " ('cry', 29),\n",
       " ('stranger', 29),\n",
       " ('i’ve', 29),\n",
       " ('course', 29),\n",
       " ('top', 29),\n",
       " ('during', 29),\n",
       " ('me;', 29),\n",
       " ('proper', 29),\n",
       " ('done,', 29),\n",
       " ('object', 29),\n",
       " ('peleg', 29),\n",
       " ('sailing', 29),\n",
       " ('stubb’s', 28),\n",
       " ('skeleton', 28),\n",
       " ('“he', 28),\n",
       " ('huge', 28),\n",
       " ('ﬁsh,', 28),\n",
       " ('pretty', 28),\n",
       " ('distance', 28),\n",
       " ('vessel', 28),\n",
       " ('rope', 28),\n",
       " ('american', 28),\n",
       " ('else', 28),\n",
       " ('deck.', 28),\n",
       " ('idea', 28),\n",
       " ('tossed', 28),\n",
       " ('itself,', 28),\n",
       " ('rest', 28),\n",
       " ('stands', 28),\n",
       " ('become', 28),\n",
       " ('sailor', 28),\n",
       " ('none', 28),\n",
       " ('done', 28),\n",
       " ('moment,', 28),\n",
       " ('rolling', 28),\n",
       " ('use', 28),\n",
       " ('strangely', 28),\n",
       " ('line,', 28),\n",
       " ('tashtego', 28),\n",
       " ('leaning', 27),\n",
       " ('cutting', 27),\n",
       " ('kill', 27),\n",
       " ('talk', 27),\n",
       " ('ancient', 27),\n",
       " ('waves', 27),\n",
       " ('form', 27),\n",
       " ('nantucket,', 27),\n",
       " ('mate', 27),\n",
       " ('forward', 27),\n",
       " ('mass', 27),\n",
       " ('air.', 27),\n",
       " ('hours', 27),\n",
       " ('possibly', 27),\n",
       " ('besides,', 27),\n",
       " ('to,', 27),\n",
       " ('act', 27),\n",
       " ('her,', 27),\n",
       " ('look,', 27),\n",
       " ('wooden', 27),\n",
       " ('bone', 27),\n",
       " ('eyeing', 27),\n",
       " ('giving', 27),\n",
       " ('thing,', 27),\n",
       " ('wholly', 27),\n",
       " ('rising', 27),\n",
       " ('whiteness', 26),\n",
       " ('alone', 26),\n",
       " ('not,', 26),\n",
       " ('together', 26),\n",
       " ('killed', 26),\n",
       " ('things,', 26),\n",
       " ('lie', 26),\n",
       " ('royal', 26),\n",
       " ('passage', 26),\n",
       " ('fresh', 26),\n",
       " ('enormous', 26),\n",
       " ('entirely', 26),\n",
       " ('unless', 26),\n",
       " ('considering', 26),\n",
       " ('middle', 26),\n",
       " ('ﬂying', 26),\n",
       " ('getting', 26),\n",
       " ('i’m', 26),\n",
       " ('thinking', 26),\n",
       " ('plain', 26),\n",
       " ('touch', 26),\n",
       " ('queequeg’s', 26),\n",
       " ('sideways', 26),\n",
       " ('across', 26),\n",
       " ('life,', 26),\n",
       " ('start', 26),\n",
       " ('ahab.', 26),\n",
       " ('pip', 26),\n",
       " ('gentlemen,', 26),\n",
       " ('hoisted', 26),\n",
       " ('ahab;', 25),\n",
       " ('pictures', 25),\n",
       " ('queer', 25),\n",
       " ('altogether', 25),\n",
       " ('strike', 25),\n",
       " ('thirty', 25),\n",
       " ('foot', 25),\n",
       " ('can’t', 25),\n",
       " ('seas,', 25),\n",
       " ('carry', 25),\n",
       " ('thrown', 25),\n",
       " ('generally', 25),\n",
       " ('mate,', 25),\n",
       " ('home', 25),\n",
       " ('previous', 25),\n",
       " ('seated', 25),\n",
       " ('considerable', 25),\n",
       " ('easy', 25),\n",
       " ('started', 25),\n",
       " ('suppose', 25),\n",
       " ('hung', 25),\n",
       " ('somewhat', 25),\n",
       " ('bed,', 25),\n",
       " ('saying', 25),\n",
       " ('won’t', 25),\n",
       " ('light,', 25),\n",
       " ('one.', 25),\n",
       " ('hope', 25),\n",
       " ('creature', 25),\n",
       " ('will,', 25),\n",
       " ('pointed', 25),\n",
       " ('2', 24),\n",
       " ('forecastle', 24),\n",
       " ('supper', 24),\n",
       " ('“there', 24),\n",
       " ('ﬂoating', 24),\n",
       " ('kind', 24),\n",
       " ('seldom', 24),\n",
       " ('forty', 24),\n",
       " ('different', 24),\n",
       " ('dutch', 24),\n",
       " ('watery', 24),\n",
       " ('hour', 24),\n",
       " ('tail,', 24),\n",
       " ('over,', 24),\n",
       " ('certainly', 24),\n",
       " ('takes', 24),\n",
       " ('owing', 24),\n",
       " ('looks', 24),\n",
       " ('instead', 24),\n",
       " ('ﬁshery,', 24),\n",
       " ('god,', 24),\n",
       " ('twenty', 24),\n",
       " ('born', 24),\n",
       " ('bodily', 24),\n",
       " ('bildad', 24),\n",
       " ('man;', 24),\n",
       " ('lance', 24),\n",
       " ('sails', 24),\n",
       " ('bearing', 24),\n",
       " ('sharks', 24),\n",
       " ('st.', 24),\n",
       " ('hast', 23),\n",
       " ('strong', 23),\n",
       " ('received', 23),\n",
       " ('nature', 23),\n",
       " ('purpose', 23),\n",
       " ('’tis', 23),\n",
       " ('manner', 23),\n",
       " ('regular', 23),\n",
       " ('precisely', 23),\n",
       " ('believe', 23),\n",
       " ('soul,', 23),\n",
       " ('stop', 23),\n",
       " ('followed', 23),\n",
       " ('house', 23),\n",
       " ('ﬁery', 23),\n",
       " ('lines', 23),\n",
       " ('real', 23),\n",
       " ('ran', 23),\n",
       " ('sweet', 23),\n",
       " ('ground', 23),\n",
       " ('read', 23),\n",
       " ('fact', 23),\n",
       " ('dropped', 23),\n",
       " ('suspended', 23),\n",
       " ('peleg,', 23),\n",
       " ('according', 23),\n",
       " ('secret', 23),\n",
       " ('brow', 23),\n",
       " ('pull', 23),\n",
       " ('3', 22),\n",
       " ('lowering', 22),\n",
       " ('midnight', 22),\n",
       " ('late', 22),\n",
       " ('leviathan,', 22),\n",
       " ('hearts', 22),\n",
       " ('mouth,', 22),\n",
       " ('six', 22),\n",
       " ('mouth', 22),\n",
       " ('bulk', 22),\n",
       " ('masts', 22),\n",
       " ('“a', 22),\n",
       " ('ﬂew', 22),\n",
       " ('free', 22),\n",
       " ('species', 22),\n",
       " ('miles', 22),\n",
       " ('“it', 22),\n",
       " ('drop', 22),\n",
       " ('land,', 22),\n",
       " ('so.', 22),\n",
       " ('others', 22),\n",
       " ('became', 22),\n",
       " ('cold', 22),\n",
       " ('darkness', 22),\n",
       " ('thick', 22),\n",
       " ('air;', 22),\n",
       " ('jet', 22),\n",
       " ('place,', 22),\n",
       " ('mariners', 22),\n",
       " ('feeling', 22),\n",
       " ('similar', 22),\n",
       " ('short,', 22),\n",
       " ('commanded', 22),\n",
       " ('steel', 22),\n",
       " ('knows', 22),\n",
       " ('bows', 22),\n",
       " ('heaven', 22),\n",
       " ('it!', 22),\n",
       " ('pass', 22),\n",
       " ('whales.', 22),\n",
       " ('glance', 22),\n",
       " ('visible', 22),\n",
       " ('off,', 22),\n",
       " ('gazing', 22),\n",
       " ('friend', 21),\n",
       " ('fedallah', 21),\n",
       " ('town�ho’s', 21),\n",
       " ('regarded', 21),\n",
       " ('grow', 21),\n",
       " ('calm', 21),\n",
       " ('learned', 21),\n",
       " ('battle', 21),\n",
       " ('fear', 21),\n",
       " ('oil,', 21),\n",
       " ('jaw', 21),\n",
       " ('eight', 21),\n",
       " ('laid', 21),\n",
       " ('again;', 21),\n",
       " ('silent', 21),\n",
       " ('it?', 21),\n",
       " ('that.', 21),\n",
       " ('formed', 21),\n",
       " ('exactly', 21),\n",
       " ('quick', 21),\n",
       " ('original', 21),\n",
       " ('way.', 21),\n",
       " ('door', 21),\n",
       " ('teeth', 21),\n",
       " ('ﬁlled', 21),\n",
       " ('swift', 21),\n",
       " ('fellow', 21),\n",
       " ('’em', 21),\n",
       " ('higher', 21),\n",
       " ('thoughts', 21),\n",
       " ('hot', 21),\n",
       " ('passing', 21),\n",
       " ('hidden', 21),\n",
       " ('instant,', 21),\n",
       " ('drew', 21),\n",
       " ('also,', 21),\n",
       " ('deadly', 21),\n",
       " ('here.', 21),\n",
       " ('beat', 21),\n",
       " ('cabin,', 21),\n",
       " ('power', 21),\n",
       " ('arms', 21),\n",
       " ('smoke', 21),\n",
       " ('here’s', 21),\n",
       " ('wonder', 21),\n",
       " ('hammer', 21),\n",
       " ('dashed', 21),\n",
       " ('leg,', 21),\n",
       " ('remains', 21),\n",
       " ('blow', 21),\n",
       " ('level', 21),\n",
       " ('pulling', 21),\n",
       " ('0', 21),\n",
       " ('now.', 20),\n",
       " ('world.', 20),\n",
       " ('besides', 20),\n",
       " ('sir', 20),\n",
       " ('holy', 20),\n",
       " ('ocean,', 20),\n",
       " ('coast', 20),\n",
       " ('french', 20),\n",
       " ('ﬁnally', 20),\n",
       " ('boat;', 20),\n",
       " ('mild', 20),\n",
       " ('mean', 20),\n",
       " ('part,', 20),\n",
       " ('creatures', 20),\n",
       " ('us.', 20),\n",
       " ('drawn', 20),\n",
       " ('were,', 20),\n",
       " ('mine', 20),\n",
       " ('fancy', 20),\n",
       " ('number', 20),\n",
       " ('harpooneer,', 20),\n",
       " ('on.', 20),\n",
       " ('spare', 20),\n",
       " ('now;', 20),\n",
       " ('see,', 20),\n",
       " ('slightest', 20),\n",
       " ('lofty', 20),\n",
       " ('gold', 20),\n",
       " ('fore', 20),\n",
       " ('con�', 20),\n",
       " ('forehead', 20),\n",
       " ('doubt', 20),\n",
       " ('hence', 20),\n",
       " ('harpoon,', 20),\n",
       " ('complete', 20),\n",
       " ('water;', 20),\n",
       " ('below', 20),\n",
       " ('waters,', 20),\n",
       " ('mates', 20),\n",
       " ('skin', 20),\n",
       " ('invested', 20),\n",
       " ('end,', 20),\n",
       " ('steelkilt', 20),\n",
       " ('54', 19),\n",
       " ('honor', 19),\n",
       " ('body,', 19),\n",
       " ('earth,', 19),\n",
       " ('empty', 19),\n",
       " ('“in', 19),\n",
       " ('swimming', 19),\n",
       " ('jaws', 19),\n",
       " ('stern', 19),\n",
       " ('stove', 19),\n",
       " ('bow,', 19),\n",
       " ('striking', 19),\n",
       " ('directly', 19),\n",
       " ('lies', 19),\n",
       " ('separate', 19),\n",
       " ('thinks', 19),\n",
       " ('horn', 19),\n",
       " ('following', 19),\n",
       " ('ha!', 19),\n",
       " ('sitting', 19),\n",
       " ('tall', 19),\n",
       " ...]"
      ]
     },
     "execution_count": 70,
     "metadata": {},
     "output_type": "execute_result"
    }
   ],
   "source": [
    "sorted(wordcount.items(), key=lambda x: x[1], reverse=True)"
   ]
  },
  {
   "cell_type": "code",
   "execution_count": 71,
   "metadata": {},
   "outputs": [],
   "source": [
    "import pandas as pd, numpy as np"
   ]
  },
  {
   "cell_type": "code",
   "execution_count": 72,
   "metadata": {},
   "outputs": [],
   "source": [
    "df10 = pd.DataFrame(wordcount.items(), columns=['word','count'])"
   ]
  },
  {
   "cell_type": "code",
   "execution_count": 73,
   "metadata": {},
   "outputs": [
    {
     "data": {
      "text/html": [
       "<div>\n",
       "<style scoped>\n",
       "    .dataframe tbody tr th:only-of-type {\n",
       "        vertical-align: middle;\n",
       "    }\n",
       "\n",
       "    .dataframe tbody tr th {\n",
       "        vertical-align: top;\n",
       "    }\n",
       "\n",
       "    .dataframe thead th {\n",
       "        text-align: right;\n",
       "    }\n",
       "</style>\n",
       "<table border=\"1\" class=\"dataframe\">\n",
       "  <thead>\n",
       "    <tr style=\"text-align: right;\">\n",
       "      <th></th>\n",
       "      <th>word</th>\n",
       "      <th>count</th>\n",
       "    </tr>\n",
       "  </thead>\n",
       "  <tbody>\n",
       "    <tr>\n",
       "      <th>0</th>\n",
       "      <td>moby�dick</td>\n",
       "      <td>1</td>\n",
       "    </tr>\n",
       "    <tr>\n",
       "      <th>1</th>\n",
       "      <td>or</td>\n",
       "      <td>701</td>\n",
       "    </tr>\n",
       "  </tbody>\n",
       "</table>\n",
       "</div>"
      ],
      "text/plain": [
       "        word  count\n",
       "0  moby�dick      1\n",
       "1         or    701"
      ]
     },
     "execution_count": 73,
     "metadata": {},
     "output_type": "execute_result"
    }
   ],
   "source": [
    "df10.head(2)"
   ]
  },
  {
   "cell_type": "code",
   "execution_count": 74,
   "metadata": {},
   "outputs": [],
   "source": [
    "# resort the df by number of hits\n",
    "df10 = df10.sort_values(by='count', ascending=False).head(50)"
   ]
  },
  {
   "cell_type": "code",
   "execution_count": 75,
   "metadata": {},
   "outputs": [
    {
     "data": {
      "text/html": [
       "<div>\n",
       "<style scoped>\n",
       "    .dataframe tbody tr th:only-of-type {\n",
       "        vertical-align: middle;\n",
       "    }\n",
       "\n",
       "    .dataframe tbody tr th {\n",
       "        vertical-align: top;\n",
       "    }\n",
       "\n",
       "    .dataframe thead th {\n",
       "        text-align: right;\n",
       "    }\n",
       "</style>\n",
       "<table border=\"1\" class=\"dataframe\">\n",
       "  <thead>\n",
       "    <tr style=\"text-align: right;\">\n",
       "      <th></th>\n",
       "      <th>word</th>\n",
       "      <th>count</th>\n",
       "    </tr>\n",
       "  </thead>\n",
       "  <tbody>\n",
       "    <tr>\n",
       "      <th>2</th>\n",
       "      <td>the</td>\n",
       "      <td>14747</td>\n",
       "    </tr>\n",
       "    <tr>\n",
       "      <th>9</th>\n",
       "      <td>of</td>\n",
       "      <td>6590</td>\n",
       "    </tr>\n",
       "    <tr>\n",
       "      <th>106</th>\n",
       "      <td>and</td>\n",
       "      <td>6323</td>\n",
       "    </tr>\n",
       "    <tr>\n",
       "      <th>54</th>\n",
       "      <td>a</td>\n",
       "      <td>4708</td>\n",
       "    </tr>\n",
       "    <tr>\n",
       "      <th>19</th>\n",
       "      <td>to</td>\n",
       "      <td>4538</td>\n",
       "    </tr>\n",
       "  </tbody>\n",
       "</table>\n",
       "</div>"
      ],
      "text/plain": [
       "    word  count\n",
       "2    the  14747\n",
       "9     of   6590\n",
       "106  and   6323\n",
       "54     a   4708\n",
       "19    to   4538"
      ]
     },
     "execution_count": 75,
     "metadata": {},
     "output_type": "execute_result"
    }
   ],
   "source": [
    "df10.head()"
   ]
  },
  {
   "cell_type": "code",
   "execution_count": 76,
   "metadata": {},
   "outputs": [
    {
     "data": {
      "text/plain": [
       "{'the': 14747,\n",
       " 'of': 6590,\n",
       " 'and': 6323,\n",
       " 'a': 4708,\n",
       " 'to': 4538,\n",
       " 'in': 4110,\n",
       " '.': 3485,\n",
       " 'that': 2780,\n",
       " 'his': 2499,\n",
       " 'it': 1787,\n",
       " 'i': 1785,\n",
       " 'as': 1723,\n",
       " 'he': 1717,\n",
       " 'with': 1704,\n",
       " 'but': 1701,\n",
       " '—': 1660,\n",
       " 'is': 1597,\n",
       " 'was': 1582,\n",
       " 'for': 1540,\n",
       " 'all': 1374,\n",
       " 'at': 1317,\n",
       " 'this': 1266,\n",
       " 'by': 1155,\n",
       " 'from': 1087,\n",
       " 'not': 1078,\n",
       " 'be': 990,\n",
       " 'on': 958,\n",
       " 'so': 893,\n",
       " 'one': 795,\n",
       " 'you': 783,\n",
       " 'had': 761,\n",
       " 'have': 760,\n",
       " 'or': 701,\n",
       " 'were': 648,\n",
       " 'they': 642,\n",
       " 'their': 621,\n",
       " 'some': 608,\n",
       " 'an': 594,\n",
       " 'him': 580,\n",
       " 'my': 577,\n",
       " 'are': 576,\n",
       " 'like': 572,\n",
       " 'whale': 571,\n",
       " 'which': 563,\n",
       " 'when': 554,\n",
       " 'upon': 553,\n",
       " 'chapter': 549,\n",
       " 'into': 519,\n",
       " 'there': 518,\n",
       " 'now': 513}"
      ]
     },
     "execution_count": 76,
     "metadata": {},
     "output_type": "execute_result"
    }
   ],
   "source": [
    "dict(list(sorted(wordcount.items(), key=lambda x: x[1], reverse=True))[:50])"
   ]
  },
  {
   "cell_type": "markdown",
   "metadata": {},
   "source": [
    "#### plotting word counts"
   ]
  },
  {
   "cell_type": "code",
   "execution_count": 77,
   "metadata": {},
   "outputs": [],
   "source": [
    "# Create a dataframe with the top 50 returns, sorted by value\n",
    "df30 = pd.DataFrame.from_dict(dict(list(sorted(wordcount.items(), key=lambda x: x[1], reverse=True))[:50]).items())"
   ]
  },
  {
   "cell_type": "code",
   "execution_count": 78,
   "metadata": {},
   "outputs": [
    {
     "data": {
      "text/html": [
       "<div>\n",
       "<style scoped>\n",
       "    .dataframe tbody tr th:only-of-type {\n",
       "        vertical-align: middle;\n",
       "    }\n",
       "\n",
       "    .dataframe tbody tr th {\n",
       "        vertical-align: top;\n",
       "    }\n",
       "\n",
       "    .dataframe thead th {\n",
       "        text-align: right;\n",
       "    }\n",
       "</style>\n",
       "<table border=\"1\" class=\"dataframe\">\n",
       "  <thead>\n",
       "    <tr style=\"text-align: right;\">\n",
       "      <th></th>\n",
       "      <th>0</th>\n",
       "      <th>1</th>\n",
       "    </tr>\n",
       "  </thead>\n",
       "  <tbody>\n",
       "    <tr>\n",
       "      <th>0</th>\n",
       "      <td>the</td>\n",
       "      <td>14747</td>\n",
       "    </tr>\n",
       "    <tr>\n",
       "      <th>1</th>\n",
       "      <td>of</td>\n",
       "      <td>6590</td>\n",
       "    </tr>\n",
       "  </tbody>\n",
       "</table>\n",
       "</div>"
      ],
      "text/plain": [
       "     0      1\n",
       "0  the  14747\n",
       "1   of   6590"
      ]
     },
     "execution_count": 78,
     "metadata": {},
     "output_type": "execute_result"
    }
   ],
   "source": [
    "df30.head(2)"
   ]
  },
  {
   "cell_type": "code",
   "execution_count": 79,
   "metadata": {},
   "outputs": [],
   "source": [
    "# set the column names\n",
    "df30.columns = ['word','count']"
   ]
  },
  {
   "cell_type": "code",
   "execution_count": 80,
   "metadata": {},
   "outputs": [
    {
     "data": {
      "text/html": [
       "<div>\n",
       "<style scoped>\n",
       "    .dataframe tbody tr th:only-of-type {\n",
       "        vertical-align: middle;\n",
       "    }\n",
       "\n",
       "    .dataframe tbody tr th {\n",
       "        vertical-align: top;\n",
       "    }\n",
       "\n",
       "    .dataframe thead th {\n",
       "        text-align: right;\n",
       "    }\n",
       "</style>\n",
       "<table border=\"1\" class=\"dataframe\">\n",
       "  <thead>\n",
       "    <tr style=\"text-align: right;\">\n",
       "      <th></th>\n",
       "      <th>word</th>\n",
       "      <th>count</th>\n",
       "    </tr>\n",
       "  </thead>\n",
       "  <tbody>\n",
       "    <tr>\n",
       "      <th>0</th>\n",
       "      <td>the</td>\n",
       "      <td>14747</td>\n",
       "    </tr>\n",
       "    <tr>\n",
       "      <th>1</th>\n",
       "      <td>of</td>\n",
       "      <td>6590</td>\n",
       "    </tr>\n",
       "  </tbody>\n",
       "</table>\n",
       "</div>"
      ],
      "text/plain": [
       "  word  count\n",
       "0  the  14747\n",
       "1   of   6590"
      ]
     },
     "execution_count": 80,
     "metadata": {},
     "output_type": "execute_result"
    }
   ],
   "source": [
    "df30.head(2)"
   ]
  },
  {
   "cell_type": "code",
   "execution_count": 81,
   "metadata": {},
   "outputs": [
    {
     "name": "stderr",
     "output_type": "stream",
     "text": [
      "<ipython-input-81-8b2d90efee70>:2: UserWarning: FixedFormatter should only be used together with FixedLocator\n",
      "  ax.set_xticklabels(df30.word)\n"
     ]
    },
    {
     "data": {
      "text/plain": [
       "Text(0, 0.5, 'count')"
      ]
     },
     "execution_count": 81,
     "metadata": {},
     "output_type": "execute_result"
    },
    {
     "data": {
      "image/png": "[encoded data removed]",
      "text/plain": [
       "<Figure size 432x288 with 1 Axes>"
      ]
     },
     "metadata": {
      "needs_background": "light"
     },
     "output_type": "display_data"
    }
   ],
   "source": [
    "ax = df30.plot()\n",
    "ax.set_xticklabels(df30.word)\n",
    "ax.set_xlabel('word')\n",
    "ax.set_ylabel('count')"
   ]
  },
  {
   "cell_type": "markdown",
   "metadata": {},
   "source": [
    "### Problem 6\n",
    "\n",
    "**tail a unix file in python**\n",
    "\n",
    "recreate UNIX tail -F in python\n",
    "\n",
    "- create a local file called \"logfile.log\"\n",
    "\n",
    "I'm doing this with the os. functions"
   ]
  },
  {
   "cell_type": "code",
   "execution_count": 82,
   "metadata": {},
   "outputs": [],
   "source": [
    "import time, os, threading"
   ]
  },
  {
   "cell_type": "code",
   "execution_count": 83,
   "metadata": {},
   "outputs": [],
   "source": [
    "logfile = open(\"logfile.log\",'r')"
   ]
  },
  {
   "cell_type": "code",
   "execution_count": 84,
   "metadata": {},
   "outputs": [
    {
     "data": {
      "text/plain": [
       "90"
      ]
     },
     "execution_count": 84,
     "metadata": {},
     "output_type": "execute_result"
    }
   ],
   "source": [
    "# now go to the end of the file. Will update for new blocks\n",
    "logfile.seek(0, os.SEEK_END)"
   ]
  },
  {
   "cell_type": "markdown",
   "metadata": {},
   "source": [
    "After starting this, run a shell command to add bytes:\n",
    "\n",
    "for x in {1..5} ; do echo $x >> logfile.log; done"
   ]
  },
  {
   "cell_type": "markdown",
   "metadata": {},
   "source": [
    "The simple case here is\n",
    "```\n",
    "while True:\n",
    "    line = logfile.readline()\n",
    "    # add a sleep\n",
    "    if not line:\n",
    "        time.sleep(0.1)\n",
    "        continue\n",
    "    print(line)\n",
    "    ```\n",
    "    \n",
    "    but that would hang up the notebook, so we'll add a conditional wrapper."
   ]
  },
  {
   "cell_type": "code",
   "execution_count": 85,
   "metadata": {},
   "outputs": [],
   "source": [
    "def quitting():\n",
    "    \"\"\"\n",
    "    set the quitter var to 0\n",
    "    \"\"\"\n",
    "    global quitter\n",
    "    quitter = 0\n",
    "    "
   ]
  },
  {
   "cell_type": "code",
   "execution_count": 91,
   "metadata": {},
   "outputs": [],
   "source": [
    "# 60 second timeout. You can change this to whatever lets you test the tail logic\n",
    "quitter = 1\n",
    "timer = threading.Timer(60.0, quitting)"
   ]
  },
  {
   "cell_type": "code",
   "execution_count": 92,
   "metadata": {},
   "outputs": [
    {
     "name": "stdout",
     "output_type": "stream",
     "text": [
      "5\n",
      "\n",
      "1\n",
      "\n",
      "2\n",
      "\n",
      "3\n",
      "\n",
      "4\n",
      "\n",
      "5\n",
      "\n",
      "1\n",
      "\n",
      "2\n",
      "\n",
      "3\n",
      "\n",
      "4\n",
      "\n",
      "5\n",
      "\n"
     ]
    }
   ],
   "source": [
    "# set a timer so this version doesn't run forever\n",
    "timer.start()\n",
    "while quitter > 0:\n",
    "    line = logfile.readline()\n",
    "    # add a sleep\n",
    "    if not line:\n",
    "        time.sleep(0.1)\n",
    "        continue\n",
    "    print(line)"
   ]
  },
  {
   "cell_type": "markdown",
   "metadata": {},
   "source": [
    "\n",
    "**As a function**"
   ]
  },
  {
   "cell_type": "code",
   "execution_count": 93,
   "metadata": {},
   "outputs": [],
   "source": [
    "def tail(file):\n",
    "    global quitter\n",
    "    logfile = open(file,'r')\n",
    "    logfile.seek(0, os.SEEK_END)\n",
    "    while quitter > 0:\n",
    "        line = logfile.readline()\n",
    "        if not line:\n",
    "            time.sleep(0.1)\n",
    "            continue\n",
    "        print(line)\n"
   ]
  },
  {
   "cell_type": "code",
   "execution_count": 94,
   "metadata": {},
   "outputs": [],
   "source": [
    "quitter = 1\n",
    "timer = threading.Timer(60.0, quitting)\n"
   ]
  },
  {
   "cell_type": "code",
   "execution_count": 95,
   "metadata": {},
   "outputs": [
    {
     "name": "stdout",
     "output_type": "stream",
     "text": [
      "1\n",
      "\n",
      "2\n",
      "\n",
      "3\n",
      "\n",
      "4\n",
      "\n",
      "5\n",
      "\n"
     ]
    }
   ],
   "source": [
    "timer.start()\n",
    "tail('logfile.log')"
   ]
  },
  {
   "cell_type": "markdown",
   "metadata": {},
   "source": [
    "### Problem 7 \n",
    "\n",
    "**Simple letter counting in a string**\n",
    "\n",
    "Given input 'aaaabbbcccd' return [('a', 4), ('b', 3), ('c', 3), ('d', 1)]\n",
    "\n"
   ]
  },
  {
   "cell_type": "code",
   "execution_count": 96,
   "metadata": {},
   "outputs": [],
   "source": [
    "mystr1 = 'aaaabbbcccd'\n",
    "mystr2='the quick brown fox jumped over the lazy dog'"
   ]
  },
  {
   "cell_type": "code",
   "execution_count": 97,
   "metadata": {},
   "outputs": [],
   "source": [
    "def count1(message):\n",
    "    mycount = {}\n",
    "    for x in list(message):\n",
    "        if x in mycount.keys():\n",
    "            mycount[x] +=1\n",
    "        else:\n",
    "            mycount[x] = 1\n",
    "    return [(k,v) for k, v in mycount.items()]"
   ]
  },
  {
   "cell_type": "code",
   "execution_count": 98,
   "metadata": {},
   "outputs": [
    {
     "data": {
      "text/plain": [
       "[('a', 4), ('b', 3), ('c', 3), ('d', 1)]"
      ]
     },
     "execution_count": 98,
     "metadata": {},
     "output_type": "execute_result"
    }
   ],
   "source": [
    "count1(mystr1)"
   ]
  },
  {
   "cell_type": "code",
   "execution_count": 99,
   "metadata": {},
   "outputs": [
    {
     "data": {
      "text/plain": [
       "[('t', 2),\n",
       " ('h', 2),\n",
       " ('e', 4),\n",
       " (' ', 8),\n",
       " ('q', 1),\n",
       " ('u', 2),\n",
       " ('i', 1),\n",
       " ('c', 1),\n",
       " ('k', 1),\n",
       " ('b', 1),\n",
       " ('r', 2),\n",
       " ('o', 4),\n",
       " ('w', 1),\n",
       " ('n', 1),\n",
       " ('f', 1),\n",
       " ('x', 1),\n",
       " ('j', 1),\n",
       " ('m', 1),\n",
       " ('p', 1),\n",
       " ('d', 2),\n",
       " ('v', 1),\n",
       " ('l', 1),\n",
       " ('a', 1),\n",
       " ('z', 1),\n",
       " ('y', 1),\n",
       " ('g', 1)]"
      ]
     },
     "execution_count": 99,
     "metadata": {},
     "output_type": "execute_result"
    }
   ],
   "source": [
    "count1(mystr2)"
   ]
  },
  {
   "cell_type": "markdown",
   "metadata": {},
   "source": [
    "**run length encoding of messages**\n",
    "\n",
    "very similar problem with a change in output formatting. \n",
    "\n",
    "in this case compress the message to summarize runs of similar characters.\n",
    "e.g.\n",
    "aaaabbbcccd has 3 runs - 4xa's 3xb's and 3xc's. This formats them such that the message takes fewer bytes are transmitted to encode the same message - a4b3c2d1"
   ]
  },
  {
   "cell_type": "code",
   "execution_count": 100,
   "metadata": {},
   "outputs": [],
   "source": [
    "def count2(message):\n",
    "    mycount={}\n",
    "    for x in list(message):\n",
    "        if x in mycount.keys():\n",
    "            mycount[x] +=1\n",
    "        else:\n",
    "            mycount[x] = 1\n",
    "    output = ''\n",
    "    for k, v in mycount.items():\n",
    "        output = output + k + str(v)\n",
    "    return output"
   ]
  },
  {
   "cell_type": "code",
   "execution_count": 101,
   "metadata": {},
   "outputs": [
    {
     "data": {
      "text/plain": [
       "'a4b3c3d1'"
      ]
     },
     "execution_count": 101,
     "metadata": {},
     "output_type": "execute_result"
    }
   ],
   "source": [
    "count2(mystr1)"
   ]
  },
  {
   "cell_type": "code",
   "execution_count": 102,
   "metadata": {},
   "outputs": [
    {
     "data": {
      "text/plain": [
       "'t2h2e4 8q1u2i1c1k1b1r2o4w1n1f1x1j1m1p1d2v1l1a1z1y1g1'"
      ]
     },
     "execution_count": 102,
     "metadata": {},
     "output_type": "execute_result"
    }
   ],
   "source": [
    "count2(mystr2)"
   ]
  },
  {
   "cell_type": "markdown",
   "metadata": {},
   "source": [
    "This basically works, but doesn't sort the results and spaces counts aren't very clearly marked\n"
   ]
  },
  {
   "cell_type": "code",
   "execution_count": 103,
   "metadata": {},
   "outputs": [],
   "source": [
    "def count3(message):\n",
    "    mycount={}\n",
    "    for x in list(message):\n",
    "        if x in mycount.keys():\n",
    "            mycount[x] +=1\n",
    "        else:\n",
    "            mycount[x] = 1\n",
    "    output = ''\n",
    "    for k, v in sorted(mycount.items(), key=lambda x: x[1], reverse=True):\n",
    "        if k == ' ':\n",
    "            k = 'SPACES'\n",
    "        newitem=f'{k}{v}'\n",
    "        output = output + str(newitem)\n",
    "    return output"
   ]
  },
  {
   "cell_type": "code",
   "execution_count": 104,
   "metadata": {},
   "outputs": [
    {
     "data": {
      "text/plain": [
       "'SPACES8e4o4t2h2u2r2d2q1i1c1k1b1w1n1f1x1j1m1p1v1l1a1z1y1g1'"
      ]
     },
     "execution_count": 104,
     "metadata": {},
     "output_type": "execute_result"
    }
   ],
   "source": [
    "count3(mystr2)"
   ]
  },
  {
   "cell_type": "code",
   "execution_count": null,
   "metadata": {},
   "outputs": [],
   "source": []
  }
 ],
 "metadata": {
  "kernelspec": {
   "display_name": "Python 3",
   "language": "python",
   "name": "python3"
  },
  "language_info": {
   "codemirror_mode": {
    "name": "ipython",
    "version": 3
   },
   "file_extension": ".py",
   "mimetype": "text/x-python",
   "name": "python",
   "nbconvert_exporter": "python",
   "pygments_lexer": "ipython3",
   "version": "3.9.5"
  }
 },
 "nbformat": 4,
 "nbformat_minor": 2
}
