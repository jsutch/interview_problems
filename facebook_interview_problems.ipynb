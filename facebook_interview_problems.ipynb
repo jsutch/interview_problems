{
 "cells": [
  {
   "cell_type": "code",
   "execution_count": 2,
   "metadata": {},
   "outputs": [],
   "source": [
    "import pandas as pd\n",
    "import numpy as np"
   ]
  },
  {
   "cell_type": "markdown",
   "metadata": {},
   "source": [
    "### Question 1\n",
    "You will be supplied with two data files in CSV format . The first file contains statistics about various dinosaurs. The second file contains additional data. Given the following formula, speed = ((STRIDE_LENGTH / LEG_LENGTH) - 1) * SQRT(LEG_LENGTH * g) Where g = 9.8 m/s^2 (gravitational constant)\n",
    "\n",
    "Write a program to read in the data files from disk, it must then print the names of only the bipedal dinosaurs from fastest to slowest. Do not print any other information.\n",
    "\n",
    "\n",
    "`$ cat dataset1.csv NAME,LEG_LENGTH,DIET Hadrosaurus,1.4,herbivore Struthiomimus,0.72,omnivore Velociraptor,1.8,carnivore Triceratops,0.47,herbivore Euoplocephalus,2.6,herbivore Stegosaurus,1.50,herbivore Tyrannosaurus Rex,6.5,carnivore`\n",
    "\n",
    "`$ cat dataset2.csv NAME,STRIDE_LENGTH,STANCE Euoplocephalus,1.97,quadrupedal Stegosaurus,1.70,quadrupedal Tyrannosaurus Rex,4.76,bipedal Hadrosaurus,1.3,bipedal Deinonychus,1.11,bipedal Struthiomimus,1.24,bipedal Velociraptorr,2.62,bipedal`"
   ]
  },
  {
   "cell_type": "code",
   "execution_count": 3,
   "metadata": {},
   "outputs": [],
   "source": [
    "df = pd.DataFrame"
   ]
  },
  {
   "cell_type": "code",
   "execution_count": 4,
   "metadata": {},
   "outputs": [
    {
     "name": "stdout",
     "output_type": "stream",
     "text": [
      "\u001b[1m\u001b[36m2009\u001b[m\u001b[m/\r\n",
      "\u001b[1m\u001b[36m2010\u001b[m\u001b[m/\r\n",
      "\u001b[1m\u001b[36m2011\u001b[m\u001b[m/\r\n",
      "\u001b[1m\u001b[36m2014\u001b[m\u001b[m/\r\n",
      "dinos new.ipynb\r\n",
      "dinos summarized solution in pandas.ipynb\r\n",
      "dinos workbook.ipynb\r\n",
      "dinosaurs1.csv\r\n",
      "dinosaurs2.csv\r\n",
      "fb_problem\r\n",
      "\u001b[1m\u001b[36mhomework\u001b[m\u001b[m/\r\n",
      "homework.tar.gz\r\n",
      "moby_dick.txt\r\n",
      "speed_calc.py\r\n"
     ]
    }
   ],
   "source": [
    "ls"
   ]
  },
  {
   "cell_type": "code",
   "execution_count": 9,
   "metadata": {},
   "outputs": [],
   "source": [
    "temp1 = pd.read_csv('dinosaurs1.csv')\n",
    "temp2 = pd.read_csv('dinosaurs2.csv')"
   ]
  },
  {
   "cell_type": "code",
   "execution_count": 10,
   "metadata": {},
   "outputs": [
    {
     "data": {
      "text/html": [
       "<div>\n",
       "<style scoped>\n",
       "    .dataframe tbody tr th:only-of-type {\n",
       "        vertical-align: middle;\n",
       "    }\n",
       "\n",
       "    .dataframe tbody tr th {\n",
       "        vertical-align: top;\n",
       "    }\n",
       "\n",
       "    .dataframe thead th {\n",
       "        text-align: right;\n",
       "    }\n",
       "</style>\n",
       "<table border=\"1\" class=\"dataframe\">\n",
       "  <thead>\n",
       "    <tr style=\"text-align: right;\">\n",
       "      <th></th>\n",
       "      <th>NAME</th>\n",
       "      <th>LENGTH</th>\n",
       "      <th>FOOD</th>\n",
       "    </tr>\n",
       "  </thead>\n",
       "  <tbody>\n",
       "    <tr>\n",
       "      <th>0</th>\n",
       "      <td>alice</td>\n",
       "      <td>3</td>\n",
       "      <td>soda</td>\n",
       "    </tr>\n",
       "    <tr>\n",
       "      <th>1</th>\n",
       "      <td>bob</td>\n",
       "      <td>5</td>\n",
       "      <td>burger</td>\n",
       "    </tr>\n",
       "    <tr>\n",
       "      <th>2</th>\n",
       "      <td>charlie</td>\n",
       "      <td>2</td>\n",
       "      <td>pizza</td>\n",
       "    </tr>\n",
       "    <tr>\n",
       "      <th>3</th>\n",
       "      <td>david</td>\n",
       "      <td>6</td>\n",
       "      <td>sandwich</td>\n",
       "    </tr>\n",
       "    <tr>\n",
       "      <th>4</th>\n",
       "      <td>eve</td>\n",
       "      <td>4</td>\n",
       "      <td>taco</td>\n",
       "    </tr>\n",
       "    <tr>\n",
       "      <th>5</th>\n",
       "      <td>frank</td>\n",
       "      <td>6</td>\n",
       "      <td>taco</td>\n",
       "    </tr>\n",
       "    <tr>\n",
       "      <th>6</th>\n",
       "      <td>george</td>\n",
       "      <td>11</td>\n",
       "      <td>pizza</td>\n",
       "    </tr>\n",
       "  </tbody>\n",
       "</table>\n",
       "</div>"
      ],
      "text/plain": [
       "      NAME   LENGTH       FOOD\n",
       "0    alice        3       soda\n",
       "1      bob        5     burger\n",
       "2  charlie        2      pizza\n",
       "3    david        6   sandwich\n",
       "4      eve        4       taco\n",
       "5    frank        6       taco\n",
       "6   george       11      pizza"
      ]
     },
     "execution_count": 10,
     "metadata": {},
     "output_type": "execute_result"
    }
   ],
   "source": [
    "temp1"
   ]
  },
  {
   "cell_type": "code",
   "execution_count": 11,
   "metadata": {},
   "outputs": [
    {
     "data": {
      "text/html": [
       "<div>\n",
       "<style scoped>\n",
       "    .dataframe tbody tr th:only-of-type {\n",
       "        vertical-align: middle;\n",
       "    }\n",
       "\n",
       "    .dataframe tbody tr th {\n",
       "        vertical-align: top;\n",
       "    }\n",
       "\n",
       "    .dataframe thead th {\n",
       "        text-align: right;\n",
       "    }\n",
       "</style>\n",
       "<table border=\"1\" class=\"dataframe\">\n",
       "  <thead>\n",
       "    <tr style=\"text-align: right;\">\n",
       "      <th></th>\n",
       "      <th>NAME</th>\n",
       "      <th>STRIDE</th>\n",
       "      <th>COLOR</th>\n",
       "    </tr>\n",
       "  </thead>\n",
       "  <tbody>\n",
       "    <tr>\n",
       "      <th>0</th>\n",
       "      <td>alice</td>\n",
       "      <td>3</td>\n",
       "      <td>blue</td>\n",
       "    </tr>\n",
       "    <tr>\n",
       "      <th>1</th>\n",
       "      <td>bob</td>\n",
       "      <td>4</td>\n",
       "      <td>blue</td>\n",
       "    </tr>\n",
       "    <tr>\n",
       "      <th>2</th>\n",
       "      <td>charlie</td>\n",
       "      <td>2</td>\n",
       "      <td>yellow</td>\n",
       "    </tr>\n",
       "    <tr>\n",
       "      <th>3</th>\n",
       "      <td>david</td>\n",
       "      <td>6</td>\n",
       "      <td>red</td>\n",
       "    </tr>\n",
       "    <tr>\n",
       "      <th>4</th>\n",
       "      <td>eve</td>\n",
       "      <td>5</td>\n",
       "      <td>blue</td>\n",
       "    </tr>\n",
       "    <tr>\n",
       "      <th>5</th>\n",
       "      <td>frank</td>\n",
       "      <td>6</td>\n",
       "      <td>blue</td>\n",
       "    </tr>\n",
       "    <tr>\n",
       "      <th>6</th>\n",
       "      <td>george</td>\n",
       "      <td>11</td>\n",
       "      <td>blue</td>\n",
       "    </tr>\n",
       "  </tbody>\n",
       "</table>\n",
       "</div>"
      ],
      "text/plain": [
       "      NAME   STRIDE    COLOR\n",
       "0    alice        3     blue\n",
       "1      bob        4     blue\n",
       "2  charlie        2   yellow\n",
       "3    david        6      red\n",
       "4      eve        5     blue\n",
       "5    frank        6     blue\n",
       "6   george       11     blue"
      ]
     },
     "execution_count": 11,
     "metadata": {},
     "output_type": "execute_result"
    }
   ],
   "source": [
    "temp2"
   ]
  },
  {
   "cell_type": "code",
   "execution_count": 15,
   "metadata": {},
   "outputs": [],
   "source": [
    "df = temp1.merge(temp2,on='NAME').copy()"
   ]
  },
  {
   "cell_type": "code",
   "execution_count": 16,
   "metadata": {},
   "outputs": [
    {
     "data": {
      "text/html": [
       "<div>\n",
       "<style scoped>\n",
       "    .dataframe tbody tr th:only-of-type {\n",
       "        vertical-align: middle;\n",
       "    }\n",
       "\n",
       "    .dataframe tbody tr th {\n",
       "        vertical-align: top;\n",
       "    }\n",
       "\n",
       "    .dataframe thead th {\n",
       "        text-align: right;\n",
       "    }\n",
       "</style>\n",
       "<table border=\"1\" class=\"dataframe\">\n",
       "  <thead>\n",
       "    <tr style=\"text-align: right;\">\n",
       "      <th></th>\n",
       "      <th>NAME</th>\n",
       "      <th>LENGTH</th>\n",
       "      <th>FOOD</th>\n",
       "      <th>STRIDE</th>\n",
       "      <th>COLOR</th>\n",
       "    </tr>\n",
       "  </thead>\n",
       "  <tbody>\n",
       "    <tr>\n",
       "      <th>0</th>\n",
       "      <td>alice</td>\n",
       "      <td>3</td>\n",
       "      <td>soda</td>\n",
       "      <td>3</td>\n",
       "      <td>blue</td>\n",
       "    </tr>\n",
       "    <tr>\n",
       "      <th>1</th>\n",
       "      <td>bob</td>\n",
       "      <td>5</td>\n",
       "      <td>burger</td>\n",
       "      <td>4</td>\n",
       "      <td>blue</td>\n",
       "    </tr>\n",
       "    <tr>\n",
       "      <th>2</th>\n",
       "      <td>charlie</td>\n",
       "      <td>2</td>\n",
       "      <td>pizza</td>\n",
       "      <td>2</td>\n",
       "      <td>yellow</td>\n",
       "    </tr>\n",
       "    <tr>\n",
       "      <th>3</th>\n",
       "      <td>david</td>\n",
       "      <td>6</td>\n",
       "      <td>sandwich</td>\n",
       "      <td>6</td>\n",
       "      <td>red</td>\n",
       "    </tr>\n",
       "    <tr>\n",
       "      <th>4</th>\n",
       "      <td>eve</td>\n",
       "      <td>4</td>\n",
       "      <td>taco</td>\n",
       "      <td>5</td>\n",
       "      <td>blue</td>\n",
       "    </tr>\n",
       "    <tr>\n",
       "      <th>5</th>\n",
       "      <td>frank</td>\n",
       "      <td>6</td>\n",
       "      <td>taco</td>\n",
       "      <td>6</td>\n",
       "      <td>blue</td>\n",
       "    </tr>\n",
       "    <tr>\n",
       "      <th>6</th>\n",
       "      <td>george</td>\n",
       "      <td>11</td>\n",
       "      <td>pizza</td>\n",
       "      <td>11</td>\n",
       "      <td>blue</td>\n",
       "    </tr>\n",
       "  </tbody>\n",
       "</table>\n",
       "</div>"
      ],
      "text/plain": [
       "      NAME   LENGTH       FOOD   STRIDE    COLOR\n",
       "0    alice        3       soda        3     blue\n",
       "1      bob        5     burger        4     blue\n",
       "2  charlie        2      pizza        2   yellow\n",
       "3    david        6   sandwich        6      red\n",
       "4      eve        4       taco        5     blue\n",
       "5    frank        6       taco        6     blue\n",
       "6   george       11      pizza       11     blue"
      ]
     },
     "execution_count": 16,
     "metadata": {},
     "output_type": "execute_result"
    }
   ],
   "source": [
    "df"
   ]
  },
  {
   "cell_type": "code",
   "execution_count": 33,
   "metadata": {},
   "outputs": [
    {
     "data": {
      "text/plain": [
       "Index(['NAME', 'LENGTH', ' FOOD', ' STRIDE', ' COLOR'], dtype='object')"
      ]
     },
     "execution_count": 33,
     "metadata": {},
     "output_type": "execute_result"
    }
   ],
   "source": [
    "df.columns"
   ]
  },
  {
   "cell_type": "code",
   "execution_count": 36,
   "metadata": {},
   "outputs": [
    {
     "data": {
      "text/plain": [
       "Index(['NAME', 'LENGTH', ' FOOD', 'STRIDE', ' COLOR'], dtype='object')"
      ]
     },
     "execution_count": 36,
     "metadata": {},
     "output_type": "execute_result"
    }
   ],
   "source": [
    "df.rename(columns={\" LENGTH\":\"LENGTH\"},inplace=True)\n",
    "df.rename(columns={\" STRIDE\":\"STRIDE\"},inplace=True)\n",
    "df.columns"
   ]
  },
  {
   "cell_type": "code",
   "execution_count": 37,
   "metadata": {},
   "outputs": [
    {
     "data": {
      "text/plain": [
       "0     6\n",
       "1     9\n",
       "2     4\n",
       "3    12\n",
       "4     9\n",
       "5    12\n",
       "6    22\n",
       "dtype: int64"
      ]
     },
     "execution_count": 37,
     "metadata": {},
     "output_type": "execute_result"
    }
   ],
   "source": [
    "df.LENGTH + df.STRIDE"
   ]
  },
  {
   "cell_type": "code",
   "execution_count": 38,
   "metadata": {},
   "outputs": [],
   "source": [
    "df['speed'] = df.LENGTH + df.STRIDE"
   ]
  },
  {
   "cell_type": "code",
   "execution_count": 39,
   "metadata": {},
   "outputs": [
    {
     "data": {
      "text/html": [
       "<div>\n",
       "<style scoped>\n",
       "    .dataframe tbody tr th:only-of-type {\n",
       "        vertical-align: middle;\n",
       "    }\n",
       "\n",
       "    .dataframe tbody tr th {\n",
       "        vertical-align: top;\n",
       "    }\n",
       "\n",
       "    .dataframe thead th {\n",
       "        text-align: right;\n",
       "    }\n",
       "</style>\n",
       "<table border=\"1\" class=\"dataframe\">\n",
       "  <thead>\n",
       "    <tr style=\"text-align: right;\">\n",
       "      <th></th>\n",
       "      <th>NAME</th>\n",
       "      <th>LENGTH</th>\n",
       "      <th>FOOD</th>\n",
       "      <th>STRIDE</th>\n",
       "      <th>COLOR</th>\n",
       "      <th>speed</th>\n",
       "    </tr>\n",
       "  </thead>\n",
       "  <tbody>\n",
       "    <tr>\n",
       "      <th>0</th>\n",
       "      <td>alice</td>\n",
       "      <td>3</td>\n",
       "      <td>soda</td>\n",
       "      <td>3</td>\n",
       "      <td>blue</td>\n",
       "      <td>6</td>\n",
       "    </tr>\n",
       "    <tr>\n",
       "      <th>1</th>\n",
       "      <td>bob</td>\n",
       "      <td>5</td>\n",
       "      <td>burger</td>\n",
       "      <td>4</td>\n",
       "      <td>blue</td>\n",
       "      <td>9</td>\n",
       "    </tr>\n",
       "    <tr>\n",
       "      <th>2</th>\n",
       "      <td>charlie</td>\n",
       "      <td>2</td>\n",
       "      <td>pizza</td>\n",
       "      <td>2</td>\n",
       "      <td>yellow</td>\n",
       "      <td>4</td>\n",
       "    </tr>\n",
       "    <tr>\n",
       "      <th>3</th>\n",
       "      <td>david</td>\n",
       "      <td>6</td>\n",
       "      <td>sandwich</td>\n",
       "      <td>6</td>\n",
       "      <td>red</td>\n",
       "      <td>12</td>\n",
       "    </tr>\n",
       "    <tr>\n",
       "      <th>4</th>\n",
       "      <td>eve</td>\n",
       "      <td>4</td>\n",
       "      <td>taco</td>\n",
       "      <td>5</td>\n",
       "      <td>blue</td>\n",
       "      <td>9</td>\n",
       "    </tr>\n",
       "    <tr>\n",
       "      <th>5</th>\n",
       "      <td>frank</td>\n",
       "      <td>6</td>\n",
       "      <td>taco</td>\n",
       "      <td>6</td>\n",
       "      <td>blue</td>\n",
       "      <td>12</td>\n",
       "    </tr>\n",
       "    <tr>\n",
       "      <th>6</th>\n",
       "      <td>george</td>\n",
       "      <td>11</td>\n",
       "      <td>pizza</td>\n",
       "      <td>11</td>\n",
       "      <td>blue</td>\n",
       "      <td>22</td>\n",
       "    </tr>\n",
       "  </tbody>\n",
       "</table>\n",
       "</div>"
      ],
      "text/plain": [
       "      NAME  LENGTH       FOOD  STRIDE    COLOR  speed\n",
       "0    alice       3       soda       3     blue      6\n",
       "1      bob       5     burger       4     blue      9\n",
       "2  charlie       2      pizza       2   yellow      4\n",
       "3    david       6   sandwich       6      red     12\n",
       "4      eve       4       taco       5     blue      9\n",
       "5    frank       6       taco       6     blue     12\n",
       "6   george      11      pizza      11     blue     22"
      ]
     },
     "execution_count": 39,
     "metadata": {},
     "output_type": "execute_result"
    }
   ],
   "source": [
    "df"
   ]
  },
  {
   "cell_type": "code",
   "execution_count": 42,
   "metadata": {},
   "outputs": [
    {
     "data": {
      "text/html": [
       "<div>\n",
       "<style scoped>\n",
       "    .dataframe tbody tr th:only-of-type {\n",
       "        vertical-align: middle;\n",
       "    }\n",
       "\n",
       "    .dataframe tbody tr th {\n",
       "        vertical-align: top;\n",
       "    }\n",
       "\n",
       "    .dataframe thead th {\n",
       "        text-align: right;\n",
       "    }\n",
       "</style>\n",
       "<table border=\"1\" class=\"dataframe\">\n",
       "  <thead>\n",
       "    <tr style=\"text-align: right;\">\n",
       "      <th></th>\n",
       "      <th>NAME</th>\n",
       "      <th>LENGTH</th>\n",
       "      <th>FOOD</th>\n",
       "      <th>STRIDE</th>\n",
       "      <th>COLOR</th>\n",
       "      <th>speed</th>\n",
       "    </tr>\n",
       "  </thead>\n",
       "  <tbody>\n",
       "    <tr>\n",
       "      <th>6</th>\n",
       "      <td>george</td>\n",
       "      <td>11</td>\n",
       "      <td>pizza</td>\n",
       "      <td>11</td>\n",
       "      <td>blue</td>\n",
       "      <td>22</td>\n",
       "    </tr>\n",
       "    <tr>\n",
       "      <th>3</th>\n",
       "      <td>david</td>\n",
       "      <td>6</td>\n",
       "      <td>sandwich</td>\n",
       "      <td>6</td>\n",
       "      <td>red</td>\n",
       "      <td>12</td>\n",
       "    </tr>\n",
       "    <tr>\n",
       "      <th>5</th>\n",
       "      <td>frank</td>\n",
       "      <td>6</td>\n",
       "      <td>taco</td>\n",
       "      <td>6</td>\n",
       "      <td>blue</td>\n",
       "      <td>12</td>\n",
       "    </tr>\n",
       "    <tr>\n",
       "      <th>1</th>\n",
       "      <td>bob</td>\n",
       "      <td>5</td>\n",
       "      <td>burger</td>\n",
       "      <td>4</td>\n",
       "      <td>blue</td>\n",
       "      <td>9</td>\n",
       "    </tr>\n",
       "    <tr>\n",
       "      <th>4</th>\n",
       "      <td>eve</td>\n",
       "      <td>4</td>\n",
       "      <td>taco</td>\n",
       "      <td>5</td>\n",
       "      <td>blue</td>\n",
       "      <td>9</td>\n",
       "    </tr>\n",
       "    <tr>\n",
       "      <th>0</th>\n",
       "      <td>alice</td>\n",
       "      <td>3</td>\n",
       "      <td>soda</td>\n",
       "      <td>3</td>\n",
       "      <td>blue</td>\n",
       "      <td>6</td>\n",
       "    </tr>\n",
       "    <tr>\n",
       "      <th>2</th>\n",
       "      <td>charlie</td>\n",
       "      <td>2</td>\n",
       "      <td>pizza</td>\n",
       "      <td>2</td>\n",
       "      <td>yellow</td>\n",
       "      <td>4</td>\n",
       "    </tr>\n",
       "  </tbody>\n",
       "</table>\n",
       "</div>"
      ],
      "text/plain": [
       "      NAME  LENGTH       FOOD  STRIDE    COLOR  speed\n",
       "6   george      11      pizza      11     blue     22\n",
       "3    david       6   sandwich       6      red     12\n",
       "5    frank       6       taco       6     blue     12\n",
       "1      bob       5     burger       4     blue      9\n",
       "4      eve       4       taco       5     blue      9\n",
       "0    alice       3       soda       3     blue      6\n",
       "2  charlie       2      pizza       2   yellow      4"
      ]
     },
     "execution_count": 42,
     "metadata": {},
     "output_type": "execute_result"
    }
   ],
   "source": [
    "df.sort_values('speed', ascending=False)"
   ]
  },
  {
   "cell_type": "code",
   "execution_count": 46,
   "metadata": {},
   "outputs": [
    {
     "data": {
      "text/plain": [
       "22"
      ]
     },
     "execution_count": 46,
     "metadata": {},
     "output_type": "execute_result"
    }
   ],
   "source": [
    "df['speed'].max()"
   ]
  },
  {
   "cell_type": "code",
   "execution_count": 47,
   "metadata": {},
   "outputs": [],
   "source": [
    "df10 = pd.DataFrame"
   ]
  },
  {
   "cell_type": "code",
   "execution_count": 48,
   "metadata": {},
   "outputs": [],
   "source": [
    "d1,d2 = pd.read_csv('dataset1.csv'),pd.read_csv('dataset2.csv')"
   ]
  },
  {
   "cell_type": "code",
   "execution_count": 49,
   "metadata": {},
   "outputs": [
    {
     "data": {
      "text/plain": [
       "(                NAME  LEG_LENGTH       DIET\n",
       " 0        Hadrosaurus        1.40  herbivore\n",
       " 1      Struthiomimus        0.72   omnivore\n",
       " 2       Velociraptor        1.80  carnivore\n",
       " 3        Triceratops        0.47  herbivore\n",
       " 4     Euoplocephalus        2.60  herbivore\n",
       " 5        Stegosaurus        1.50  herbivore\n",
       " 6  Tyrannosaurus Rex        6.50  carnivore,\n",
       "                 NAME  STRIDE_LENGTH       STANCE\n",
       " 0     Euoplocephalus           1.97  quadrupedal\n",
       " 1        Stegosaurus           1.70  quadrupedal\n",
       " 2  Tyrannosaurus Rex           4.76      bipedal\n",
       " 3        Hadrosaurus           1.30      bipedal\n",
       " 4        Deinonychus           1.11      bipedal\n",
       " 5      Struthiomimus           1.24      bipedal\n",
       " 6      Velociraptorr           2.62      bipedal)"
      ]
     },
     "execution_count": 49,
     "metadata": {},
     "output_type": "execute_result"
    }
   ],
   "source": [
    "d1, d2"
   ]
  },
  {
   "cell_type": "markdown",
   "metadata": {},
   "source": [
    "speed = ((STRIDE_LENGTH / LEG_LENGTH) - 1) * SQRT(LEG_LENGTH * g) Where g = 9.8 m/s^2 (gravitational constant)"
   ]
  },
  {
   "cell_type": "code",
   "execution_count": 51,
   "metadata": {},
   "outputs": [],
   "source": [
    "df10 = d1.merge(d2,on='NAME').copy()"
   ]
  },
  {
   "cell_type": "code",
   "execution_count": 52,
   "metadata": {},
   "outputs": [
    {
     "data": {
      "text/html": [
       "<div>\n",
       "<style scoped>\n",
       "    .dataframe tbody tr th:only-of-type {\n",
       "        vertical-align: middle;\n",
       "    }\n",
       "\n",
       "    .dataframe tbody tr th {\n",
       "        vertical-align: top;\n",
       "    }\n",
       "\n",
       "    .dataframe thead th {\n",
       "        text-align: right;\n",
       "    }\n",
       "</style>\n",
       "<table border=\"1\" class=\"dataframe\">\n",
       "  <thead>\n",
       "    <tr style=\"text-align: right;\">\n",
       "      <th></th>\n",
       "      <th>NAME</th>\n",
       "      <th>LEG_LENGTH</th>\n",
       "      <th>DIET</th>\n",
       "      <th>STRIDE_LENGTH</th>\n",
       "      <th>STANCE</th>\n",
       "    </tr>\n",
       "  </thead>\n",
       "  <tbody>\n",
       "    <tr>\n",
       "      <th>0</th>\n",
       "      <td>Hadrosaurus</td>\n",
       "      <td>1.40</td>\n",
       "      <td>herbivore</td>\n",
       "      <td>1.30</td>\n",
       "      <td>bipedal</td>\n",
       "    </tr>\n",
       "    <tr>\n",
       "      <th>1</th>\n",
       "      <td>Struthiomimus</td>\n",
       "      <td>0.72</td>\n",
       "      <td>omnivore</td>\n",
       "      <td>1.24</td>\n",
       "      <td>bipedal</td>\n",
       "    </tr>\n",
       "    <tr>\n",
       "      <th>2</th>\n",
       "      <td>Euoplocephalus</td>\n",
       "      <td>2.60</td>\n",
       "      <td>herbivore</td>\n",
       "      <td>1.97</td>\n",
       "      <td>quadrupedal</td>\n",
       "    </tr>\n",
       "    <tr>\n",
       "      <th>3</th>\n",
       "      <td>Stegosaurus</td>\n",
       "      <td>1.50</td>\n",
       "      <td>herbivore</td>\n",
       "      <td>1.70</td>\n",
       "      <td>quadrupedal</td>\n",
       "    </tr>\n",
       "    <tr>\n",
       "      <th>4</th>\n",
       "      <td>Tyrannosaurus Rex</td>\n",
       "      <td>6.50</td>\n",
       "      <td>carnivore</td>\n",
       "      <td>4.76</td>\n",
       "      <td>bipedal</td>\n",
       "    </tr>\n",
       "  </tbody>\n",
       "</table>\n",
       "</div>"
      ],
      "text/plain": [
       "                NAME  LEG_LENGTH       DIET  STRIDE_LENGTH       STANCE\n",
       "0        Hadrosaurus        1.40  herbivore           1.30      bipedal\n",
       "1      Struthiomimus        0.72   omnivore           1.24      bipedal\n",
       "2     Euoplocephalus        2.60  herbivore           1.97  quadrupedal\n",
       "3        Stegosaurus        1.50  herbivore           1.70  quadrupedal\n",
       "4  Tyrannosaurus Rex        6.50  carnivore           4.76      bipedal"
      ]
     },
     "execution_count": 52,
     "metadata": {},
     "output_type": "execute_result"
    }
   ],
   "source": [
    "df10"
   ]
  },
  {
   "cell_type": "code",
   "execution_count": null,
   "metadata": {},
   "outputs": [],
   "source": []
  },
  {
   "cell_type": "code",
   "execution_count": 150,
   "metadata": {},
   "outputs": [],
   "source": [
    "g=9.8\n",
    "df10['speed'] = (df10.STRIDE_LENGTH / df10.LEG_LENGTH) * np.sqrt(df10['LEG_LENGTH'] * g)"
   ]
  },
  {
   "cell_type": "code",
   "execution_count": 151,
   "metadata": {},
   "outputs": [
    {
     "data": {
      "text/html": [
       "<div>\n",
       "<style scoped>\n",
       "    .dataframe tbody tr th:only-of-type {\n",
       "        vertical-align: middle;\n",
       "    }\n",
       "\n",
       "    .dataframe tbody tr th {\n",
       "        vertical-align: top;\n",
       "    }\n",
       "\n",
       "    .dataframe thead th {\n",
       "        text-align: right;\n",
       "    }\n",
       "</style>\n",
       "<table border=\"1\" class=\"dataframe\">\n",
       "  <thead>\n",
       "    <tr style=\"text-align: right;\">\n",
       "      <th></th>\n",
       "      <th>NAME</th>\n",
       "      <th>LEG_LENGTH</th>\n",
       "      <th>DIET</th>\n",
       "      <th>STRIDE_LENGTH</th>\n",
       "      <th>STANCE</th>\n",
       "      <th>speed</th>\n",
       "    </tr>\n",
       "  </thead>\n",
       "  <tbody>\n",
       "    <tr>\n",
       "      <th>4</th>\n",
       "      <td>Tyrannosaurus Rex</td>\n",
       "      <td>6.50</td>\n",
       "      <td>carnivore</td>\n",
       "      <td>4.76</td>\n",
       "      <td>bipedal</td>\n",
       "      <td>5.844715</td>\n",
       "    </tr>\n",
       "    <tr>\n",
       "      <th>1</th>\n",
       "      <td>Struthiomimus</td>\n",
       "      <td>0.72</td>\n",
       "      <td>omnivore</td>\n",
       "      <td>1.24</td>\n",
       "      <td>bipedal</td>\n",
       "      <td>4.574762</td>\n",
       "    </tr>\n",
       "    <tr>\n",
       "      <th>3</th>\n",
       "      <td>Stegosaurus</td>\n",
       "      <td>1.50</td>\n",
       "      <td>herbivore</td>\n",
       "      <td>1.70</td>\n",
       "      <td>quadrupedal</td>\n",
       "      <td>4.345266</td>\n",
       "    </tr>\n",
       "    <tr>\n",
       "      <th>2</th>\n",
       "      <td>Euoplocephalus</td>\n",
       "      <td>2.60</td>\n",
       "      <td>herbivore</td>\n",
       "      <td>1.97</td>\n",
       "      <td>quadrupedal</td>\n",
       "      <td>3.824658</td>\n",
       "    </tr>\n",
       "    <tr>\n",
       "      <th>0</th>\n",
       "      <td>Hadrosaurus</td>\n",
       "      <td>1.40</td>\n",
       "      <td>herbivore</td>\n",
       "      <td>1.30</td>\n",
       "      <td>bipedal</td>\n",
       "      <td>3.439477</td>\n",
       "    </tr>\n",
       "  </tbody>\n",
       "</table>\n",
       "</div>"
      ],
      "text/plain": [
       "                NAME  LEG_LENGTH       DIET  STRIDE_LENGTH       STANCE  \\\n",
       "4  Tyrannosaurus Rex        6.50  carnivore           4.76      bipedal   \n",
       "1      Struthiomimus        0.72   omnivore           1.24      bipedal   \n",
       "3        Stegosaurus        1.50  herbivore           1.70  quadrupedal   \n",
       "2     Euoplocephalus        2.60  herbivore           1.97  quadrupedal   \n",
       "0        Hadrosaurus        1.40  herbivore           1.30      bipedal   \n",
       "\n",
       "      speed  \n",
       "4  5.844715  \n",
       "1  4.574762  \n",
       "3  4.345266  \n",
       "2  3.824658  \n",
       "0  3.439477  "
      ]
     },
     "execution_count": 151,
     "metadata": {},
     "output_type": "execute_result"
    }
   ],
   "source": [
    "df10.sort_values('speed',ascending=False)"
   ]
  },
  {
   "cell_type": "code",
   "execution_count": 152,
   "metadata": {},
   "outputs": [
    {
     "data": {
      "text/plain": [
       "4    Tyrannosaurus Rex\n",
       "1        Struthiomimus\n",
       "0          Hadrosaurus\n",
       "Name: NAME, dtype: object"
      ]
     },
     "execution_count": 152,
     "metadata": {},
     "output_type": "execute_result"
    }
   ],
   "source": [
    "df10[df10['STANCE'] == 'bipedal'].sort_values('speed',ascending=False)['NAME']"
   ]
  },
  {
   "cell_type": "markdown",
   "metadata": {},
   "source": [
    "### Question 2:\n",
    "Given an array of integers greater than zero, find if it is possible to split it in two subarrays (without reordering the elements), such that the sum of the two subarrays is the same. Print the two subarrays.\n",
    "\n",
    "I calculated rightSum initially by using sum(nums), then looped over nums, and added nums[i] to leftSum, and subtracted it from rightSum, then checked if there was a match and printed that."
   ]
  },
  {
   "cell_type": "code",
   "execution_count": 59,
   "metadata": {},
   "outputs": [],
   "source": [
    "import random"
   ]
  },
  {
   "cell_type": "code",
   "execution_count": 60,
   "metadata": {},
   "outputs": [],
   "source": [
    "myarr = [random.randint(1,4096) for x in range(10)]"
   ]
  },
  {
   "cell_type": "code",
   "execution_count": 61,
   "metadata": {},
   "outputs": [
    {
     "data": {
      "text/plain": [
       "[329, 625, 3481, 2143, 1034, 2190, 3080, 344, 155, 1093]"
      ]
     },
     "execution_count": 61,
     "metadata": {},
     "output_type": "execute_result"
    }
   ],
   "source": [
    "myarr"
   ]
  },
  {
   "cell_type": "code",
   "execution_count": 66,
   "metadata": {},
   "outputs": [],
   "source": [
    "m = int(len(myarr)/2)"
   ]
  },
  {
   "cell_type": "code",
   "execution_count": 68,
   "metadata": {},
   "outputs": [],
   "source": [
    "left = myarr[:m]\n",
    "right = myarr[m:]"
   ]
  },
  {
   "cell_type": "code",
   "execution_count": 69,
   "metadata": {},
   "outputs": [
    {
     "data": {
      "text/plain": [
       "False"
      ]
     },
     "execution_count": 69,
     "metadata": {},
     "output_type": "execute_result"
    }
   ],
   "source": [
    "sum(left) == sum(right)"
   ]
  },
  {
   "cell_type": "code",
   "execution_count": 136,
   "metadata": {},
   "outputs": [],
   "source": [
    "def splitArraysSame(arr):\n",
    "    \"\"\"\n",
    "    This only covers the case for an even split of the elements\n",
    "    \"\"\"\n",
    "    m = int(len(arr)/2)\n",
    "    left = arr[:m]\n",
    "    right = arr[m:]\n",
    "    return sum(left) == sum(right)"
   ]
  },
  {
   "cell_type": "code",
   "execution_count": null,
   "metadata": {},
   "outputs": [],
   "source": []
  },
  {
   "cell_type": "code",
   "execution_count": 78,
   "metadata": {},
   "outputs": [
    {
     "name": "stdout",
     "output_type": "stream",
     "text": [
      "False\n",
      "False\n",
      "False\n",
      "False\n",
      "False\n",
      "False\n",
      "False\n",
      "False\n",
      "False\n"
     ]
    }
   ],
   "source": [
    "# an array of length 10 can split into how many comparatives?\n",
    "# 1/9, 2/8, 3/7, 4/6, 5/5, 6/4, 7/3, 8/2, 9/1 - 9 total combinations\n",
    "# loop through - compare x + loop?\n",
    "for x in range(0,len(myarr) -1):\n",
    "    print(sum(myarr[:x]) == sum(myarr[x:]))"
   ]
  },
  {
   "cell_type": "code",
   "execution_count": 82,
   "metadata": {},
   "outputs": [
    {
     "data": {
      "text/plain": [
       "10"
      ]
     },
     "execution_count": 82,
     "metadata": {},
     "output_type": "execute_result"
    }
   ],
   "source": [
    "# split down the middle method should work\n",
    "myarr2 = [1,2,3,4,5,5,4,3,2,1]\n",
    "len(myarr2)"
   ]
  },
  {
   "cell_type": "code",
   "execution_count": 101,
   "metadata": {},
   "outputs": [
    {
     "data": {
      "text/plain": [
       "True"
      ]
     },
     "execution_count": 101,
     "metadata": {},
     "output_type": "execute_result"
    }
   ],
   "source": [
    "sum(myarr2[:5]) == sum(myarr2[5:])"
   ]
  },
  {
   "cell_type": "code",
   "execution_count": 96,
   "metadata": {},
   "outputs": [
    {
     "data": {
      "text/plain": [
       "10"
      ]
     },
     "execution_count": 96,
     "metadata": {},
     "output_type": "execute_result"
    }
   ],
   "source": [
    "# :2 == 2:\n",
    "myarr3 = [5,5,1,1,1,1,1,1,2,2]\n",
    "len(myarr3)"
   ]
  },
  {
   "cell_type": "code",
   "execution_count": 100,
   "metadata": {},
   "outputs": [
    {
     "data": {
      "text/plain": [
       "True"
      ]
     },
     "execution_count": 100,
     "metadata": {},
     "output_type": "execute_result"
    }
   ],
   "source": [
    "sum(myarr3[:2]) == sum(myarr3[2:])"
   ]
  },
  {
   "cell_type": "code",
   "execution_count": 140,
   "metadata": {},
   "outputs": [
    {
     "data": {
      "text/plain": [
       "True"
      ]
     },
     "execution_count": 140,
     "metadata": {},
     "output_type": "execute_result"
    }
   ],
   "source": [
    "splitArraysSame(myarr2)"
   ]
  },
  {
   "cell_type": "code",
   "execution_count": 102,
   "metadata": {},
   "outputs": [
    {
     "name": "stdout",
     "output_type": "stream",
     "text": [
      "False\n",
      "False\n",
      "False\n",
      "False\n",
      "False\n",
      "True\n",
      "False\n",
      "False\n",
      "False\n"
     ]
    }
   ],
   "source": [
    "# loop through - compare x + loop?\n",
    "for x in range(0,len(myarr2) -1):\n",
    "    print(sum(myarr2[:x]) == sum(myarr2[x:]))"
   ]
  },
  {
   "cell_type": "code",
   "execution_count": 103,
   "metadata": {},
   "outputs": [
    {
     "name": "stdout",
     "output_type": "stream",
     "text": [
      "False\n",
      "False\n",
      "True\n",
      "False\n",
      "False\n",
      "False\n",
      "False\n",
      "False\n",
      "False\n"
     ]
    }
   ],
   "source": [
    "# loop through - compare x + loop?\n",
    "for x in range(0,len(myarr3) -1):\n",
    "    print(sum(myarr3[:x]) == sum(myarr3[x:]))"
   ]
  },
  {
   "cell_type": "code",
   "execution_count": 109,
   "metadata": {},
   "outputs": [],
   "source": [
    "def iterateArraySame(arr):\n",
    "    \"\"\"\n",
    "    This works. Can I turn it into a lambda?\n",
    "    \"\"\"\n",
    "    p=0\n",
    "    for x in range(0,len(arr) -1):\n",
    "        if sum(arr[:x]) == sum(arr[x:]):\n",
    "            p+=1\n",
    "    if p>0:\n",
    "        return True\n",
    "    else:\n",
    "        return False\n"
   ]
  },
  {
   "cell_type": "code",
   "execution_count": 113,
   "metadata": {},
   "outputs": [
    {
     "data": {
      "text/plain": [
       "True"
      ]
     },
     "execution_count": 113,
     "metadata": {},
     "output_type": "execute_result"
    }
   ],
   "source": [
    "iterateArraySame(myarr3)"
   ]
  },
  {
   "cell_type": "code",
   "execution_count": 141,
   "metadata": {},
   "outputs": [],
   "source": [
    "def lambdaArraySame(arr):\n",
    "    xx=[]\n",
    "    xx.append(lambda x: sum(arr[:x]) == sum(arr[x:]) for x in range(0,len(arr) -1))\n",
    "    return xx"
   ]
  },
  {
   "cell_type": "code",
   "execution_count": 143,
   "metadata": {},
   "outputs": [
    {
     "name": "stdout",
     "output_type": "stream",
     "text": [
      "[<generator object lambdaArraySame.<locals>.<genexpr> at 0x119ec0dd0>]\n"
     ]
    }
   ],
   "source": [
    "lambdaArraySame(myarr2)"
   ]
  },
  {
   "cell_type": "code",
   "execution_count": null,
   "metadata": {},
   "outputs": [],
   "source": []
  }
 ],
 "metadata": {
  "kernelspec": {
   "display_name": "Python 3",
   "language": "python",
   "name": "python3"
  },
  "language_info": {
   "codemirror_mode": {
    "name": "ipython",
    "version": 3
   },
   "file_extension": ".py",
   "mimetype": "text/x-python",
   "name": "python",
   "nbconvert_exporter": "python",
   "pygments_lexer": "ipython3",
   "version": "3.7.6"
  }
 },
 "nbformat": 4,
 "nbformat_minor": 2
}
