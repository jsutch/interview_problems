{
 "cells": [
  {
   "cell_type": "code",
   "execution_count": 2,
   "metadata": {},
   "outputs": [],
   "source": [
    "import pandas as pd\n",
    "import numpy as np"
   ]
  },
  {
   "cell_type": "markdown",
   "metadata": {},
   "source": [
    "### Question 1\n",
    "\n",
    "Taken from https://leetcode.com/discuss/interview-question/391865/Facebook-Software-Engineer-Phone-Screen-Interview-Questions-or-REJECT\n",
    "\n",
    "You will be supplied with two data files in CSV format . The first file contains statistics about various dinosaurs. The second file contains additional data. Given the following formula, speed = ((STRIDE_LENGTH / LEG_LENGTH) - 1) * SQRT(LEG_LENGTH * g) Where g = 9.8 m/s^2 (gravitational constant)\n",
    "\n",
    "Write a program to read in the data files from disk, it must then print the names of only the bipedal dinosaurs from fastest to slowest. Do not print any other information.\n",
    "\n",
    "\n",
    "`$ cat dataset1.csv NAME,LEG_LENGTH,DIET Hadrosaurus,1.4,herbivore Struthiomimus,0.72,omnivore Velociraptor,1.8,carnivore Triceratops,0.47,herbivore Euoplocephalus,2.6,herbivore Stegosaurus,1.50,herbivore Tyrannosaurus Rex,6.5,carnivore`\n",
    "\n",
    "`$ cat dataset2.csv NAME,STRIDE_LENGTH,STANCE Euoplocephalus,1.97,quadrupedal Stegosaurus,1.70,quadrupedal Tyrannosaurus Rex,4.76,bipedal Hadrosaurus,1.3,bipedal Deinonychus,1.11,bipedal Struthiomimus,1.24,bipedal Velociraptorr,2.62,bipedal`"
   ]
  },
  {
   "cell_type": "code",
   "execution_count": 3,
   "metadata": {},
   "outputs": [],
   "source": [
    "df = pd.DataFrame"
   ]
  },
  {
   "cell_type": "code",
   "execution_count": 4,
   "metadata": {},
   "outputs": [],
   "source": [
    "d1,d2 = pd.read_csv('dataset1.csv'),pd.read_csv('dataset2.csv')"
   ]
  },
  {
   "cell_type": "markdown",
   "metadata": {},
   "source": [
    "The thing to note here is that there are 7 items in each file, but 2 odd ducks and a misspelling. \n",
    "- The misspelling is Velociraptorr, which needs to be fixed before the merge.\n",
    "- Triceratops is only in file 1 and Deinonychus is only in file two.\n",
    "\n",
    "If you keep those dinos in, steps with break on the NaNs where there's not joining data.\n",
    "\n",
    "So with 6 working dinos per file, you should only need 6 items"
   ]
  },
  {
   "cell_type": "code",
   "execution_count": 5,
   "metadata": {},
   "outputs": [
    {
     "data": {
      "text/plain": [
       "(                NAME  LEG_LENGTH       DIET\n",
       " 0        Hadrosaurus        1.40  herbivore\n",
       " 1      Struthiomimus        0.72   omnivore\n",
       " 2       Velociraptor        1.80  carnivore\n",
       " 3        Triceratops        0.47  herbivore\n",
       " 4     Euoplocephalus        2.60  herbivore\n",
       " 5        Stegosaurus        1.50  herbivore\n",
       " 6  Tyrannosaurus Rex        6.50  carnivore,\n",
       "                 NAME  STRIDE_LENGTH       STANCE\n",
       " 0     Euoplocephalus           1.97  quadrupedal\n",
       " 1        Stegosaurus           1.70  quadrupedal\n",
       " 2  Tyrannosaurus Rex           4.76      bipedal\n",
       " 3        Hadrosaurus           1.30      bipedal\n",
       " 4        Deinonychus           1.11      bipedal\n",
       " 5      Struthiomimus           1.24      bipedal\n",
       " 6      Velociraptorr           2.62      bipedal)"
      ]
     },
     "execution_count": 5,
     "metadata": {},
     "output_type": "execute_result"
    }
   ],
   "source": [
    "d1, d2"
   ]
  },
  {
   "cell_type": "code",
   "execution_count": 6,
   "metadata": {},
   "outputs": [],
   "source": [
    "# Fix the Velociraptor mispelling\n",
    "d2.replace(to_replace='Velociraptorr', value='Velociraptor', inplace=True)"
   ]
  },
  {
   "cell_type": "code",
   "execution_count": 8,
   "metadata": {},
   "outputs": [
    {
     "data": {
      "text/html": [
       "<div>\n",
       "<style scoped>\n",
       "    .dataframe tbody tr th:only-of-type {\n",
       "        vertical-align: middle;\n",
       "    }\n",
       "\n",
       "    .dataframe tbody tr th {\n",
       "        vertical-align: top;\n",
       "    }\n",
       "\n",
       "    .dataframe thead th {\n",
       "        text-align: right;\n",
       "    }\n",
       "</style>\n",
       "<table border=\"1\" class=\"dataframe\">\n",
       "  <thead>\n",
       "    <tr style=\"text-align: right;\">\n",
       "      <th></th>\n",
       "      <th>NAME</th>\n",
       "      <th>STRIDE_LENGTH</th>\n",
       "      <th>STANCE</th>\n",
       "    </tr>\n",
       "  </thead>\n",
       "  <tbody>\n",
       "    <tr>\n",
       "      <th>6</th>\n",
       "      <td>Velociraptor</td>\n",
       "      <td>2.62</td>\n",
       "      <td>bipedal</td>\n",
       "    </tr>\n",
       "  </tbody>\n",
       "</table>\n",
       "</div>"
      ],
      "text/plain": [
       "           NAME  STRIDE_LENGTH   STANCE\n",
       "6  Velociraptor           2.62  bipedal"
      ]
     },
     "execution_count": 8,
     "metadata": {},
     "output_type": "execute_result"
    }
   ],
   "source": [
    "d2[d2['NAME'] == 'Velociraptor'] # fixed"
   ]
  },
  {
   "cell_type": "code",
   "execution_count": 13,
   "metadata": {},
   "outputs": [],
   "source": [
    "# This method safely drops Triceratops and Deinonychus with the default inner join\n",
    "df = d1.merge(d2,on='NAME').copy()"
   ]
  },
  {
   "cell_type": "code",
   "execution_count": 14,
   "metadata": {},
   "outputs": [
    {
     "data": {
      "text/html": [
       "<div>\n",
       "<style scoped>\n",
       "    .dataframe tbody tr th:only-of-type {\n",
       "        vertical-align: middle;\n",
       "    }\n",
       "\n",
       "    .dataframe tbody tr th {\n",
       "        vertical-align: top;\n",
       "    }\n",
       "\n",
       "    .dataframe thead th {\n",
       "        text-align: right;\n",
       "    }\n",
       "</style>\n",
       "<table border=\"1\" class=\"dataframe\">\n",
       "  <thead>\n",
       "    <tr style=\"text-align: right;\">\n",
       "      <th></th>\n",
       "      <th>NAME</th>\n",
       "      <th>LEG_LENGTH</th>\n",
       "      <th>DIET</th>\n",
       "      <th>STRIDE_LENGTH</th>\n",
       "      <th>STANCE</th>\n",
       "    </tr>\n",
       "  </thead>\n",
       "  <tbody>\n",
       "    <tr>\n",
       "      <th>0</th>\n",
       "      <td>Hadrosaurus</td>\n",
       "      <td>1.40</td>\n",
       "      <td>herbivore</td>\n",
       "      <td>1.30</td>\n",
       "      <td>bipedal</td>\n",
       "    </tr>\n",
       "    <tr>\n",
       "      <th>1</th>\n",
       "      <td>Struthiomimus</td>\n",
       "      <td>0.72</td>\n",
       "      <td>omnivore</td>\n",
       "      <td>1.24</td>\n",
       "      <td>bipedal</td>\n",
       "    </tr>\n",
       "    <tr>\n",
       "      <th>2</th>\n",
       "      <td>Velociraptor</td>\n",
       "      <td>1.80</td>\n",
       "      <td>carnivore</td>\n",
       "      <td>2.62</td>\n",
       "      <td>bipedal</td>\n",
       "    </tr>\n",
       "    <tr>\n",
       "      <th>3</th>\n",
       "      <td>Euoplocephalus</td>\n",
       "      <td>2.60</td>\n",
       "      <td>herbivore</td>\n",
       "      <td>1.97</td>\n",
       "      <td>quadrupedal</td>\n",
       "    </tr>\n",
       "    <tr>\n",
       "      <th>4</th>\n",
       "      <td>Stegosaurus</td>\n",
       "      <td>1.50</td>\n",
       "      <td>herbivore</td>\n",
       "      <td>1.70</td>\n",
       "      <td>quadrupedal</td>\n",
       "    </tr>\n",
       "    <tr>\n",
       "      <th>5</th>\n",
       "      <td>Tyrannosaurus Rex</td>\n",
       "      <td>6.50</td>\n",
       "      <td>carnivore</td>\n",
       "      <td>4.76</td>\n",
       "      <td>bipedal</td>\n",
       "    </tr>\n",
       "  </tbody>\n",
       "</table>\n",
       "</div>"
      ],
      "text/plain": [
       "                NAME  LEG_LENGTH       DIET  STRIDE_LENGTH       STANCE\n",
       "0        Hadrosaurus        1.40  herbivore           1.30      bipedal\n",
       "1      Struthiomimus        0.72   omnivore           1.24      bipedal\n",
       "2       Velociraptor        1.80  carnivore           2.62      bipedal\n",
       "3     Euoplocephalus        2.60  herbivore           1.97  quadrupedal\n",
       "4        Stegosaurus        1.50  herbivore           1.70  quadrupedal\n",
       "5  Tyrannosaurus Rex        6.50  carnivore           4.76      bipedal"
      ]
     },
     "execution_count": 14,
     "metadata": {},
     "output_type": "execute_result"
    }
   ],
   "source": [
    "df"
   ]
  },
  {
   "cell_type": "markdown",
   "metadata": {},
   "source": [
    "#### to show the difference, we can include everything with an outer join, but it leaves the dangling dinos"
   ]
  },
  {
   "cell_type": "code",
   "execution_count": 23,
   "metadata": {},
   "outputs": [
    {
     "data": {
      "text/html": [
       "<div>\n",
       "<style scoped>\n",
       "    .dataframe tbody tr th:only-of-type {\n",
       "        vertical-align: middle;\n",
       "    }\n",
       "\n",
       "    .dataframe tbody tr th {\n",
       "        vertical-align: top;\n",
       "    }\n",
       "\n",
       "    .dataframe thead th {\n",
       "        text-align: right;\n",
       "    }\n",
       "</style>\n",
       "<table border=\"1\" class=\"dataframe\">\n",
       "  <thead>\n",
       "    <tr style=\"text-align: right;\">\n",
       "      <th></th>\n",
       "      <th>NAME</th>\n",
       "      <th>LEG_LENGTH</th>\n",
       "      <th>DIET</th>\n",
       "      <th>STRIDE_LENGTH</th>\n",
       "      <th>STANCE</th>\n",
       "    </tr>\n",
       "  </thead>\n",
       "  <tbody>\n",
       "    <tr>\n",
       "      <th>0</th>\n",
       "      <td>Hadrosaurus</td>\n",
       "      <td>1.40</td>\n",
       "      <td>herbivore</td>\n",
       "      <td>1.30</td>\n",
       "      <td>bipedal</td>\n",
       "    </tr>\n",
       "    <tr>\n",
       "      <th>1</th>\n",
       "      <td>Struthiomimus</td>\n",
       "      <td>0.72</td>\n",
       "      <td>omnivore</td>\n",
       "      <td>1.24</td>\n",
       "      <td>bipedal</td>\n",
       "    </tr>\n",
       "    <tr>\n",
       "      <th>2</th>\n",
       "      <td>Velociraptor</td>\n",
       "      <td>1.80</td>\n",
       "      <td>carnivore</td>\n",
       "      <td>2.62</td>\n",
       "      <td>bipedal</td>\n",
       "    </tr>\n",
       "    <tr>\n",
       "      <th>3</th>\n",
       "      <td>Triceratops</td>\n",
       "      <td>0.47</td>\n",
       "      <td>herbivore</td>\n",
       "      <td>NaN</td>\n",
       "      <td>NaN</td>\n",
       "    </tr>\n",
       "    <tr>\n",
       "      <th>4</th>\n",
       "      <td>Euoplocephalus</td>\n",
       "      <td>2.60</td>\n",
       "      <td>herbivore</td>\n",
       "      <td>1.97</td>\n",
       "      <td>quadrupedal</td>\n",
       "    </tr>\n",
       "    <tr>\n",
       "      <th>5</th>\n",
       "      <td>Stegosaurus</td>\n",
       "      <td>1.50</td>\n",
       "      <td>herbivore</td>\n",
       "      <td>1.70</td>\n",
       "      <td>quadrupedal</td>\n",
       "    </tr>\n",
       "    <tr>\n",
       "      <th>6</th>\n",
       "      <td>Tyrannosaurus Rex</td>\n",
       "      <td>6.50</td>\n",
       "      <td>carnivore</td>\n",
       "      <td>4.76</td>\n",
       "      <td>bipedal</td>\n",
       "    </tr>\n",
       "    <tr>\n",
       "      <th>7</th>\n",
       "      <td>Deinonychus</td>\n",
       "      <td>NaN</td>\n",
       "      <td>NaN</td>\n",
       "      <td>1.11</td>\n",
       "      <td>bipedal</td>\n",
       "    </tr>\n",
       "  </tbody>\n",
       "</table>\n",
       "</div>"
      ],
      "text/plain": [
       "                NAME  LEG_LENGTH       DIET  STRIDE_LENGTH       STANCE\n",
       "0        Hadrosaurus        1.40  herbivore           1.30      bipedal\n",
       "1      Struthiomimus        0.72   omnivore           1.24      bipedal\n",
       "2       Velociraptor        1.80  carnivore           2.62      bipedal\n",
       "3        Triceratops        0.47  herbivore            NaN          NaN\n",
       "4     Euoplocephalus        2.60  herbivore           1.97  quadrupedal\n",
       "5        Stegosaurus        1.50  herbivore           1.70  quadrupedal\n",
       "6  Tyrannosaurus Rex        6.50  carnivore           4.76      bipedal\n",
       "7        Deinonychus         NaN        NaN           1.11      bipedal"
      ]
     },
     "execution_count": 23,
     "metadata": {},
     "output_type": "execute_result"
    }
   ],
   "source": [
    "df10 = pd.merge(d1,d2,on='NAME',how='outer')\n",
    "df10"
   ]
  },
  {
   "cell_type": "markdown",
   "metadata": {},
   "source": [
    "#### the formula for speed\n",
    "speed = ((STRIDE_LENGTH / LEG_LENGTH) - 1) * SQRT(LEG_LENGTH * g) Where g = 9.8 m/s^2 (gravitational constant)"
   ]
  },
  {
   "cell_type": "code",
   "execution_count": 80,
   "metadata": {},
   "outputs": [],
   "source": [
    "# set variable g\n",
    "g=9.8\n",
    "# create 'speed' feature\n",
    "df['speed'] = ((df.STRIDE_LENGTH / df.LEG_LENGTH) -1 )* np.sqrt(df.LEG_LENGTH * g)"
   ]
  },
  {
   "cell_type": "markdown",
   "metadata": {},
   "source": [
    "#### sort bipedals"
   ]
  },
  {
   "cell_type": "code",
   "execution_count": 81,
   "metadata": {},
   "outputs": [
    {
     "data": {
      "text/html": [
       "<div>\n",
       "<style scoped>\n",
       "    .dataframe tbody tr th:only-of-type {\n",
       "        vertical-align: middle;\n",
       "    }\n",
       "\n",
       "    .dataframe tbody tr th {\n",
       "        vertical-align: top;\n",
       "    }\n",
       "\n",
       "    .dataframe thead th {\n",
       "        text-align: right;\n",
       "    }\n",
       "</style>\n",
       "<table border=\"1\" class=\"dataframe\">\n",
       "  <thead>\n",
       "    <tr style=\"text-align: right;\">\n",
       "      <th></th>\n",
       "      <th>NAME</th>\n",
       "      <th>LEG_LENGTH</th>\n",
       "      <th>DIET</th>\n",
       "      <th>STRIDE_LENGTH</th>\n",
       "      <th>STANCE</th>\n",
       "      <th>speed</th>\n",
       "    </tr>\n",
       "  </thead>\n",
       "  <tbody>\n",
       "    <tr>\n",
       "      <th>1</th>\n",
       "      <td>Struthiomimus</td>\n",
       "      <td>0.72</td>\n",
       "      <td>omnivore</td>\n",
       "      <td>1.24</td>\n",
       "      <td>bipedal</td>\n",
       "      <td>1.918448</td>\n",
       "    </tr>\n",
       "    <tr>\n",
       "      <th>2</th>\n",
       "      <td>Velociraptor</td>\n",
       "      <td>1.80</td>\n",
       "      <td>carnivore</td>\n",
       "      <td>2.62</td>\n",
       "      <td>bipedal</td>\n",
       "      <td>1.913333</td>\n",
       "    </tr>\n",
       "    <tr>\n",
       "      <th>0</th>\n",
       "      <td>Hadrosaurus</td>\n",
       "      <td>1.40</td>\n",
       "      <td>herbivore</td>\n",
       "      <td>1.30</td>\n",
       "      <td>bipedal</td>\n",
       "      <td>-0.264575</td>\n",
       "    </tr>\n",
       "    <tr>\n",
       "      <th>5</th>\n",
       "      <td>Tyrannosaurus Rex</td>\n",
       "      <td>6.50</td>\n",
       "      <td>carnivore</td>\n",
       "      <td>4.76</td>\n",
       "      <td>bipedal</td>\n",
       "      <td>-2.136513</td>\n",
       "    </tr>\n",
       "  </tbody>\n",
       "</table>\n",
       "</div>"
      ],
      "text/plain": [
       "                NAME  LEG_LENGTH       DIET  STRIDE_LENGTH   STANCE     speed\n",
       "1      Struthiomimus        0.72   omnivore           1.24  bipedal  1.918448\n",
       "2       Velociraptor        1.80  carnivore           2.62  bipedal  1.913333\n",
       "0        Hadrosaurus        1.40  herbivore           1.30  bipedal -0.264575\n",
       "5  Tyrannosaurus Rex        6.50  carnivore           4.76  bipedal -2.136513"
      ]
     },
     "execution_count": 81,
     "metadata": {},
     "output_type": "execute_result"
    }
   ],
   "source": [
    "df[df['STANCE'] == 'bipedal'].sort_values('speed',ascending=False)"
   ]
  },
  {
   "cell_type": "markdown",
   "metadata": {},
   "source": [
    "#### Return only the names in order of speed"
   ]
  },
  {
   "cell_type": "code",
   "execution_count": 82,
   "metadata": {},
   "outputs": [
    {
     "data": {
      "text/plain": [
       "1        Struthiomimus\n",
       "2         Velociraptor\n",
       "0          Hadrosaurus\n",
       "5    Tyrannosaurus Rex\n",
       "Name: NAME, dtype: object"
      ]
     },
     "execution_count": 82,
     "metadata": {},
     "output_type": "execute_result"
    }
   ],
   "source": [
    "\n",
    "df[df['STANCE'] == 'bipedal'].sort_values('speed',ascending=False)['NAME']"
   ]
  },
  {
   "cell_type": "markdown",
   "metadata": {},
   "source": [
    "### how to do this with regular python\n"
   ]
  },
  {
   "cell_type": "code",
   "execution_count": 26,
   "metadata": {},
   "outputs": [],
   "source": [
    "import math, csv"
   ]
  },
  {
   "cell_type": "code",
   "execution_count": 51,
   "metadata": {},
   "outputs": [],
   "source": [
    "dinos={}\n",
    "g=9.8"
   ]
  },
  {
   "cell_type": "code",
   "execution_count": 55,
   "metadata": {},
   "outputs": [],
   "source": [
    "with open('dataset2.csv','r') as f:\n",
    "    rows = csv.reader(f)\n",
    "    for row in rows:\n",
    "        NAME, STRIDE_LENGTH, STANCE = row[0], row[1],row[2]\n",
    "        if NAME == 'Velociraptorr':\n",
    "            NAME = 'Velociraptor'\n",
    "        if STANCE == 'bipedal':\n",
    "            dinos[NAME] = float(STRIDE_LENGTH)"
   ]
  },
  {
   "cell_type": "code",
   "execution_count": 83,
   "metadata": {},
   "outputs": [],
   "source": [
    "with open('dataset1.csv','r') as f:\n",
    "    rows = csv.reader(f)\n",
    "    for row in rows:\n",
    "        NAME, LEG_LENGTH, DIET = row[0], row[1], row[2]\n",
    "        if NAME in dinos:\n",
    "            STRIDE_LENGTH, LEG_LENGTH =  dinos[NAME], float(LEG_LENGTH)\n",
    "            dinos[NAME] = ((STRIDE_LENGTH / LEG_LENGTH) - 1) * (math.sqrt(LEG_LENGTH) * g)"
   ]
  },
  {
   "cell_type": "code",
   "execution_count": 84,
   "metadata": {},
   "outputs": [
    {
     "data": {
      "text/plain": [
       "['Struthiomimus',\n",
       " 'Velociraptor',\n",
       " 'Deinonychus',\n",
       " 'Hadrosaurus',\n",
       " 'Tyrannosaurus Rex']"
      ]
     },
     "execution_count": 84,
     "metadata": {},
     "output_type": "execute_result"
    }
   ],
   "source": [
    "[x[0] for x in sorted(dinos.items(), key=lambda x: x[1], reverse=True)]"
   ]
  },
  {
   "cell_type": "code",
   "execution_count": null,
   "metadata": {},
   "outputs": [],
   "source": []
  },
  {
   "cell_type": "markdown",
   "metadata": {},
   "source": [
    "#### As a function"
   ]
  },
  {
   "cell_type": "code",
   "execution_count": 49,
   "metadata": {},
   "outputs": [],
   "source": [
    "def dinospeed(file1, file2):\n",
    "    dinos = {}\n",
    "    g=9.8\n",
    "    with open(file2, 'r') as f:\n",
    "        rows = csv.reader(f)\n",
    "        for row in rows:\n",
    "            NAME, STRIDE_LENGTH, STANCE = row[0], row[1],row[2]\n",
    "            if NAME == 'Velociraptorr':\n",
    "                NAME = 'Velociraptor'\n",
    "            if STANCE == 'bipedal':\n",
    "                dinos[NAME] = float(STRIDE_LENGTH)\n",
    "    with open(file1, 'r') as f:\n",
    "        rows = csv.reader(f)\n",
    "        for row in rows:\n",
    "            NAME, LEG_LENGTH, DIET = row[0], row[1],row[2]\n",
    "            if NAME in dinos:\n",
    "                STRIDE_LENGTH, LEG_LENGTH =  dinos[NAME], float(LEG_LENGTH)\n",
    "                dinos[NAME] = ((STRIDE_LENGTH / LEG_LENGTH) - 1) * (math.sqrt(LEG_LENGTH) * g)\n",
    "    return [x[0] for x in sorted(dinos.items(), key=lambda x: x[1], reverse=True)]"
   ]
  },
  {
   "cell_type": "code",
   "execution_count": 50,
   "metadata": {},
   "outputs": [
    {
     "data": {
      "text/plain": [
       "['Struthiomimus',\n",
       " 'Velociraptor',\n",
       " 'Deinonychus',\n",
       " 'Hadrosaurus',\n",
       " 'Tyrannosaurus Rex']"
      ]
     },
     "execution_count": 50,
     "metadata": {},
     "output_type": "execute_result"
    }
   ],
   "source": [
    "dinospeed('dataset1.csv','dataset2.csv')"
   ]
  },
  {
   "cell_type": "markdown",
   "metadata": {},
   "source": [
    "### Question 2:\n",
    "Given an array of integers greater than zero, find if it is possible to split it in two subarrays (without reordering the elements), such that the sum of the two subarrays is the same. Print the two subarrays.\n",
    "\n",
    "I calculated rightSum initially by using sum(nums), then looped over nums, and added nums[i] to leftSum, and subtracted it from rightSum, then checked if there was a match and printed that."
   ]
  },
  {
   "cell_type": "code",
   "execution_count": 90,
   "metadata": {},
   "outputs": [],
   "source": [
    "import random"
   ]
  },
  {
   "cell_type": "code",
   "execution_count": 91,
   "metadata": {},
   "outputs": [],
   "source": [
    "myarr = [random.randint(1,4096) for x in range(10)]"
   ]
  },
  {
   "cell_type": "code",
   "execution_count": 66,
   "metadata": {},
   "outputs": [],
   "source": [
    "m = int(len(myarr)/2)"
   ]
  },
  {
   "cell_type": "code",
   "execution_count": 68,
   "metadata": {},
   "outputs": [],
   "source": [
    "left = myarr[:m]\n",
    "right = myarr[m:]"
   ]
  },
  {
   "cell_type": "code",
   "execution_count": 69,
   "metadata": {},
   "outputs": [
    {
     "data": {
      "text/plain": [
       "False"
      ]
     },
     "execution_count": 69,
     "metadata": {},
     "output_type": "execute_result"
    }
   ],
   "source": [
    "sum(left) == sum(right)"
   ]
  },
  {
   "cell_type": "code",
   "execution_count": 136,
   "metadata": {},
   "outputs": [],
   "source": [
    "def splitArraysSame(arr):\n",
    "    \"\"\"\n",
    "    This only covers the case for an even split of the elements\n",
    "    \"\"\"\n",
    "    m = int(len(arr)/2)\n",
    "    left = arr[:m]\n",
    "    right = arr[m:]\n",
    "    return sum(left) == sum(right)"
   ]
  },
  {
   "cell_type": "code",
   "execution_count": null,
   "metadata": {},
   "outputs": [],
   "source": []
  },
  {
   "cell_type": "code",
   "execution_count": 103,
   "metadata": {},
   "outputs": [
    {
     "name": "stdout",
     "output_type": "stream",
     "text": [
      "False\n",
      "False\n",
      "True\n",
      "False\n",
      "False\n",
      "False\n",
      "False\n",
      "False\n",
      "False\n"
     ]
    }
   ],
   "source": [
    "# loop through - compare x + loop\n",
    "for x in range(0,len(myarr3) -1):\n",
    "    print(sum(myarr3[:x]) == sum(myarr[x:]))"
   ]
  },
  {
   "cell_type": "markdown",
   "metadata": {},
   "source": [
    "#### as a function"
   ]
  },
  {
   "cell_type": "code",
   "execution_count": 94,
   "metadata": {},
   "outputs": [],
   "source": [
    "def iterateArraySame(arr):\n",
    "    \"\"\"\n",
    "    This works.\n",
    "    \"\"\"\n",
    "    p=0\n",
    "    for x in range(0,len(arr) -1):\n",
    "        if sum(arr[:x]) == sum(arr[x:]):\n",
    "            p+=1\n",
    "    if p>0:\n",
    "        return True\n",
    "    else:\n",
    "        return False\n"
   ]
  },
  {
   "cell_type": "code",
   "execution_count": 95,
   "metadata": {},
   "outputs": [
    {
     "data": {
      "text/plain": [
       "False"
      ]
     },
     "execution_count": 95,
     "metadata": {},
     "output_type": "execute_result"
    }
   ],
   "source": [
    "iterateArraySame(myarr)"
   ]
  },
  {
   "cell_type": "markdown",
   "metadata": {},
   "source": [
    "#### in a lambda"
   ]
  },
  {
   "cell_type": "code",
   "execution_count": 86,
   "metadata": {},
   "outputs": [],
   "source": [
    "def lambdaEqualChunk(arr):\n",
    "    return set(list(map(lambda xxx: arr[:xxx] == arr[xxx:], arr)))"
   ]
  },
  {
   "cell_type": "code",
   "execution_count": 92,
   "metadata": {},
   "outputs": [
    {
     "data": {
      "text/plain": [
       "{False}"
      ]
     },
     "execution_count": 92,
     "metadata": {},
     "output_type": "execute_result"
    }
   ],
   "source": [
    "lambdaEqualChunk(myarr)"
   ]
  },
  {
   "cell_type": "markdown",
   "metadata": {},
   "source": [
    "### Question 3:\n",
    "\n",
    "There is a matrix with . and X, where X represents battleship, always of length 3. Battleship can be vertical or horizontal, never diagonal. Given a function bomb_at(i,j), returns True if battleship is present at (i,j) in the matrix. Print the head, middle, tail coordinates of the battleship."
   ]
  },
  {
   "cell_type": "code",
   "execution_count": 61,
   "metadata": {},
   "outputs": [],
   "source": [
    "# test harness\n",
    "matrix = [['.','.','.','.','.'],['.','.','.','X','.'],['.','.','.','X','.'],['.','.','.','X','.'],['.','.','.','.','.']]"
   ]
  },
  {
   "cell_type": "code",
   "execution_count": 62,
   "metadata": {},
   "outputs": [
    {
     "data": {
      "text/plain": [
       "[['.', '.', '.', '.', '.'],\n",
       " ['.', '.', '.', 'X', '.'],\n",
       " ['.', '.', '.', 'X', '.'],\n",
       " ['.', '.', '.', 'X', '.'],\n",
       " ['.', '.', '.', '.', '.']]"
      ]
     },
     "execution_count": 62,
     "metadata": {},
     "output_type": "execute_result"
    }
   ],
   "source": [
    "matrix"
   ]
  },
  {
   "cell_type": "code",
   "execution_count": 64,
   "metadata": {},
   "outputs": [],
   "source": [
    "import itertools"
   ]
  },
  {
   "cell_type": "code",
   "execution_count": 65,
   "metadata": {},
   "outputs": [
    {
     "name": "stdout",
     "output_type": "stream",
     "text": [
      "{1: 3, 2: 3, 3: 3}\n"
     ]
    }
   ],
   "source": [
    "# test the iterator\n",
    "battleship={}\n",
    "for i, j in itertools.product(range(5), range(5)):\n",
    "    if matrix[i][j] == 'X':\n",
    "        battleship[i]=j\n",
    "print(battleship)\n",
    "    "
   ]
  },
  {
   "cell_type": "code",
   "execution_count": 66,
   "metadata": {},
   "outputs": [],
   "source": [
    "# use the notion of a bomb for a hit on a battleship\n",
    "# create a test function bomb_at\n",
    "def bomb_at(mat,i,j):\n",
    "    if mat[i][j] =='X':\n",
    "        return True\n",
    "    "
   ]
  },
  {
   "cell_type": "code",
   "execution_count": 67,
   "metadata": {},
   "outputs": [
    {
     "name": "stdout",
     "output_type": "stream",
     "text": [
      "[(1, 3), (2, 3), (3, 3)]\n"
     ]
    }
   ],
   "source": [
    "# \n",
    "size=len(matrix)\n",
    "bombs=[]\n",
    "for i, j in itertools.product(range(size), range(size)):\n",
    "    if bomb_at(matrix,i,j):\n",
    "        bombs.append((i,j))\n",
    "if len(bombs) > 2 and len(bombs) < 4:\n",
    "    print(bombs)\n",
    "    "
   ]
  },
  {
   "cell_type": "code",
   "execution_count": 199,
   "metadata": {},
   "outputs": [],
   "source": [
    "# test harness for no bombs\n",
    "matrix1= [['.','.','.','.','.'],['.','.','.','.','.'],['.','.','.','.','.'],['.','.','.','.','.'],['.','.','.','.','.']]"
   ]
  },
  {
   "cell_type": "code",
   "execution_count": 68,
   "metadata": {},
   "outputs": [],
   "source": [
    "# test harness for too many bombs\n",
    "matrix2= [['.','.','.','X','.'],['.','.','.','X','.'],['.','.','.','X','.'],['.','.','.','X','.'],['.','.','.','.','.']]"
   ]
  },
  {
   "cell_type": "code",
   "execution_count": 69,
   "metadata": {},
   "outputs": [],
   "source": [
    "# test harness for too few bombs\n",
    "matrix3= [['.','.','.','.','.'],['.','.','.','.','.'],['.','.','.','X','.'],['.','.','.','X','.'],['.','.','.','.','.']]"
   ]
  },
  {
   "cell_type": "code",
   "execution_count": 70,
   "metadata": {},
   "outputs": [],
   "source": [
    "# test harness for horizontal bombs\n",
    "matrix4= [['X','X','X','.','.'],['.','.','.','.','.'],['.','.','.','.','.'],['.','.','.','.','.'],['.','.','.','.','.']]"
   ]
  },
  {
   "cell_type": "code",
   "execution_count": 71,
   "metadata": {},
   "outputs": [],
   "source": [
    "# test harness for diagonal bombs - this should break\n",
    "matrix5= [['X','.','.','.','.'],['.','X','.','.','.'],['.','.','X','.','.'],['.','.','.','.','.'],['.','.','.','.','.']]"
   ]
  },
  {
   "cell_type": "code",
   "execution_count": 72,
   "metadata": {},
   "outputs": [
    {
     "name": "stdout",
     "output_type": "stream",
     "text": [
      "[(0, 0), (1, 1), (2, 2)]\n"
     ]
    }
   ],
   "source": [
    "mat = matrix5\n",
    "size=len(mat)\n",
    "bombs=[]\n",
    "for i, j in itertools.product(range(size), range(size)):\n",
    "    if bomb_at(mat,i,j):\n",
    "        bombs.append((i,j))\n",
    "if len(bombs) > 2 and len(bombs) < 4:\n",
    "    print(bombs)\n",
    "else:\n",
    "    print(\"no bombs or wrong number of bombs\")"
   ]
  },
  {
   "cell_type": "code",
   "execution_count": 338,
   "metadata": {},
   "outputs": [
    {
     "name": "stdout",
     "output_type": "stream",
     "text": [
      "[(1, 3), (2, 3), (3, 3)]\n"
     ]
    }
   ],
   "source": [
    "# extend to show no or some bombs\n",
    "# this breaks (shows) diagonals\n",
    "mat = matrix\n",
    "size=len(mat)\n",
    "bombs=[]\n",
    "for i, j in itertools.product(range(size), range(size)):\n",
    "    if bomb_at(mat,i,j):\n",
    "        bombs.append((i,j))\n",
    "if len(bombs) > 2 and len(bombs) < 4:\n",
    "    print(bombs)\n",
    "elif len(bombs) > 0 and len(bombs) < 3:\n",
    "    print('not enough bombs to matter')\n",
    "elif len(bombs) > 3:\n",
    "    print('too many bombs to worry about')\n",
    "else:\n",
    "    print(\"no bombs\")"
   ]
  },
  {
   "cell_type": "code",
   "execution_count": 73,
   "metadata": {},
   "outputs": [],
   "source": [
    "# test harness\n",
    "vert = [(1, 3), (2, 3), (3, 3)]\n",
    "horz = [(0, 0), (0, 1), (0, 2)]\n",
    "diag = [(0, 0), (1, 1), (2, 1)]"
   ]
  },
  {
   "cell_type": "code",
   "execution_count": 74,
   "metadata": {},
   "outputs": [],
   "source": [
    "def notdiag(arr):\n",
    "    \"\"\"\n",
    "    if vertical or horizontal, a set of either x or y should == 1.\n",
    "    if diag both sets are > 1\n",
    "    \"\"\"\n",
    "    return len(set([x[0] for x in arr])) == 1 or  len(set([x[1] for x in arr])) == 1"
   ]
  },
  {
   "cell_type": "code",
   "execution_count": 75,
   "metadata": {},
   "outputs": [
    {
     "name": "stdout",
     "output_type": "stream",
     "text": [
      "[(1, 3), (2, 3), (3, 3)]\n"
     ]
    }
   ],
   "source": [
    "# fix to not return diagonals\n",
    "mat = matrix\n",
    "size=len(mat)\n",
    "bombs=[]\n",
    "for i, j in itertools.product(range(size), range(size)):\n",
    "    if bomb_at(mat,i,j):\n",
    "        bombs.append((i,j))\n",
    "if len(bombs) > 2 and len(bombs) < 4 and notdiag(bombs):\n",
    "    print(bombs)\n",
    "elif len(bombs) > 0 and len(bombs) < 3:\n",
    "    print('not enough bombs to matter')\n",
    "elif len(bombs) > 3:\n",
    "    print('too many bombs to worry about')\n",
    "else:\n",
    "    print(\"no vertical or horizontal bombs\")"
   ]
  },
  {
   "cell_type": "code",
   "execution_count": 76,
   "metadata": {},
   "outputs": [
    {
     "data": {
      "text/plain": [
       "[(1, 3), (2, 3), (3, 3)]"
      ]
     },
     "execution_count": 76,
     "metadata": {},
     "output_type": "execute_result"
    }
   ],
   "source": [
    "bombs"
   ]
  },
  {
   "cell_type": "markdown",
   "metadata": {},
   "source": [
    "## Problem 4\n",
    "Take the filenames like anakin_2010-02-18.csv and create a directory structure like so:\n",
    "\n",
    "2010/02/18/starwars/\n",
    "\n",
    "then move the file into it.\n",
    "\n",
    "There are two classes - starwars and futurama"
   ]
  },
  {
   "cell_type": "code",
   "execution_count": 358,
   "metadata": {},
   "outputs": [
    {
     "name": "stdout",
     "output_type": "stream",
     "text": [
      "/Users/person/Coding/Python/facebook_prep_and_notes/homework\n"
     ]
    }
   ],
   "source": [
    "cd homework"
   ]
  },
  {
   "cell_type": "code",
   "execution_count": 375,
   "metadata": {},
   "outputs": [],
   "source": [
    "import os, sys\n",
    "from shutil import copyfile"
   ]
  },
  {
   "cell_type": "code",
   "execution_count": 400,
   "metadata": {},
   "outputs": [
    {
     "name": "stdout",
     "output_type": "stream",
     "text": [
      "yoda_2011-12-18.csv\r\n",
      "yoda_2012-01-24.csv\r\n",
      "yoda_2012-02-02.csv\r\n",
      "yoda_2012-02-08.csv\r\n",
      "yoda_2012-08-08.csv\r\n",
      "yoda_2012-09-04.csv\r\n",
      "yoda_2012-09-26.csv\r\n",
      "yoda_2012-11-18.csv\r\n",
      "yoda_2013-01-18.csv\r\n",
      "yoda_2013-01-19.csv\r\n"
     ]
    }
   ],
   "source": [
    "ls| tail -10"
   ]
  },
  {
   "cell_type": "code",
   "execution_count": 363,
   "metadata": {},
   "outputs": [],
   "source": [
    "futurama = ['hermes','nibbler','farnsworth','bender','leela']\n",
    "starwars = ['jarjar','yoda','anakin','han','obiwan']"
   ]
  },
  {
   "cell_type": "code",
   "execution_count": 365,
   "metadata": {},
   "outputs": [],
   "source": [
    "files = os.listdir()\n",
    "cwd = os.getcwd()"
   ]
  },
  {
   "cell_type": "code",
   "execution_count": 414,
   "metadata": {},
   "outputs": [],
   "source": [
    "charnames = set([x.split('_')[0] for x in files])"
   ]
  },
  {
   "cell_type": "code",
   "execution_count": 415,
   "metadata": {},
   "outputs": [
    {
     "data": {
      "text/plain": [
       "{'anakin',\n",
       " 'bender',\n",
       " 'farnsworth',\n",
       " 'han',\n",
       " 'hermes',\n",
       " 'jarjar',\n",
       " 'leela',\n",
       " 'nibbler',\n",
       " 'obiwan',\n",
       " 'yoda'}"
      ]
     },
     "execution_count": 415,
     "metadata": {},
     "output_type": "execute_result"
    }
   ],
   "source": [
    "charnames"
   ]
  },
  {
   "cell_type": "code",
   "execution_count": 410,
   "metadata": {},
   "outputs": [],
   "source": [
    "def propname(name):\n",
    "    if name in starwars:\n",
    "        return 'starwars'\n",
    "    else:\n",
    "        return 'futurama'"
   ]
  },
  {
   "cell_type": "code",
   "execution_count": 411,
   "metadata": {},
   "outputs": [
    {
     "data": {
      "text/plain": [
       "'futurama'"
      ]
     },
     "execution_count": 411,
     "metadata": {},
     "output_type": "execute_result"
    }
   ],
   "source": [
    "propname('leela')"
   ]
  },
  {
   "cell_type": "code",
   "execution_count": 416,
   "metadata": {},
   "outputs": [],
   "source": [
    "for f in files:\n",
    "    chunks = f.split(\"_\")\n",
    "    dates = chunks[1].split(\"-\")\n",
    "    title = propname(chunks[0])\n",
    "    dirstr = '{}/{}/{}/{}/{}/'.format(cwd,dates[0],dates[1],dates[2].strip('.csv'),title)\n",
    "    os.makedirs(dirstr, exist_ok=True)\n",
    "    copyfile(f,dirstr + f)"
   ]
  },
  {
   "cell_type": "code",
   "execution_count": 77,
   "metadata": {},
   "outputs": [
    {
     "name": "stdout",
     "output_type": "stream",
     "text": [
      "\u001b[1m\u001b[36m2009\u001b[m\u001b[m/\r\n",
      "\u001b[1m\u001b[36m2010\u001b[m\u001b[m/\r\n",
      "\u001b[1m\u001b[36m2011\u001b[m\u001b[m/\r\n",
      "\u001b[1m\u001b[36m2014\u001b[m\u001b[m/\r\n",
      "README.md\r\n",
      "dataset1.csv\r\n",
      "dataset2.csv\r\n",
      "dino_awk.sh\r\n",
      "dinos summarized solution in pandas.ipynb\r\n",
      "dinos workbook.ipynb\r\n",
      "dinosaurs1.csv\r\n",
      "dinosaurs2.csv\r\n",
      "facebook_interview_problems.ipynb\r\n",
      "fb_problem\r\n",
      "\u001b[1m\u001b[36mhomework\u001b[m\u001b[m/\r\n",
      "homework.tar.gz\r\n",
      "moby_dick.txt\r\n",
      "speed_calc.py\r\n"
     ]
    }
   ],
   "source": [
    "ls"
   ]
  },
  {
   "cell_type": "code",
   "execution_count": null,
   "metadata": {},
   "outputs": [],
   "source": []
  }
 ],
 "metadata": {
  "kernelspec": {
   "display_name": "Python 3",
   "language": "python",
   "name": "python3"
  },
  "language_info": {
   "codemirror_mode": {
    "name": "ipython",
    "version": 3
   },
   "file_extension": ".py",
   "mimetype": "text/x-python",
   "name": "python",
   "nbconvert_exporter": "python",
   "pygments_lexer": "ipython3",
   "version": "3.7.7"
  }
 },
 "nbformat": 4,
 "nbformat_minor": 2
}
